{
  "cells": [
    {
      "cell_type": "markdown",
      "metadata": {
        "id": "LoJTp7u3BCED"
      },
      "source": [
        "# ModernBert\n",
        "\n",
        "ModernBERT was published in late 2024 and has shown substantial improvements over other BERT family models (BERT, RoBERTa, ALBERT, etc.). This notebook showcases the improvements of ModernBERT compared to BERT. Specifically, we will look at the differences in tokenization, long-context capability, model architecture, model outputs, and inference speed."
      ]
    },
    {
      "cell_type": "markdown",
      "metadata": {
        "id": "yjE9cXscBCBd"
      },
      "source": [
        "Here are some helpful resources:\n",
        "\n",
        "https://huggingface.co/docs/transformers/main/en/model_doc/modernbert\n",
        "\n",
        "https://huggingface.co/blog/modernbert\n",
        "\n",
        "https://huggingface.co/answerdotai/ModernBERT-base\n",
        "\n",
        "https://huggingface.co/docs/transformers/model_doc/bert"
      ]
    },
    {
      "cell_type": "markdown",
      "metadata": {
        "id": "MBC8gpQ5DIRa"
      },
      "source": [
        "# Import libaries"
      ]
    },
    {
      "cell_type": "code",
      "execution_count": 1,
      "metadata": {
        "colab": {
          "base_uri": "https://localhost:8080/"
        },
        "id": "vbBenrubMO1f",
        "outputId": "2c5e4d2c-40bf-4a18-e048-0d5eeb44b196"
      },
      "outputs": [
        {
          "output_type": "stream",
          "name": "stdout",
          "text": [
            "\u001b[2K     \u001b[90m━━━━━━━━━━━━━━━━━━━━━━━━━━━━━━━━━━━━━━━━\u001b[0m \u001b[32m44.0/44.0 kB\u001b[0m \u001b[31m3.7 MB/s\u001b[0m eta \u001b[36m0:00:00\u001b[0m\n",
            "\u001b[2K   \u001b[90m━━━━━━━━━━━━━━━━━━━━━━━━━━━━━━━━━━━━━━━━\u001b[0m \u001b[32m12.0/12.0 MB\u001b[0m \u001b[31m77.5 MB/s\u001b[0m eta \u001b[36m0:00:00\u001b[0m\n",
            "\u001b[2K   \u001b[90m━━━━━━━━━━━━━━━━━━━━━━━━━━━━━━━━━━━━━━━━\u001b[0m \u001b[32m506.3/506.3 kB\u001b[0m \u001b[31m38.0 MB/s\u001b[0m eta \u001b[36m0:00:00\u001b[0m\n",
            "\u001b[2K   \u001b[90m━━━━━━━━━━━━━━━━━━━━━━━━━━━━━━━━━━━━━━━━\u001b[0m \u001b[32m42.8/42.8 MB\u001b[0m \u001b[31m63.0 MB/s\u001b[0m eta \u001b[36m0:00:00\u001b[0m\n",
            "\u001b[?25h\u001b[31mERROR: pip's dependency resolver does not currently take into account all the packages that are installed. This behaviour is the source of the following dependency conflicts.\n",
            "cudf-cu12 25.6.0 requires pyarrow<20.0.0a0,>=14.0.0; platform_machine == \"x86_64\", but you have pyarrow 21.0.0 which is incompatible.\n",
            "pylibcudf-cu12 25.6.0 requires pyarrow<20.0.0a0,>=14.0.0; platform_machine == \"x86_64\", but you have pyarrow 21.0.0 which is incompatible.\u001b[0m\u001b[31m\n",
            "\u001b[0m"
          ]
        }
      ],
      "source": [
        "!pip install -q -U transformers\n",
        "!pip install -q -U datasets"
      ]
    },
    {
      "cell_type": "code",
      "execution_count": 2,
      "metadata": {
        "id": "05q2b5scAiPv"
      },
      "outputs": [],
      "source": [
        "import numpy as np\n",
        "import pandas as pd\n",
        "import torch\n",
        "\n",
        "from datasets import load_dataset\n",
        "\n",
        "from transformers import BertTokenizer, BertModel, BertForSequenceClassification\n",
        "from transformers import AutoTokenizer, AutoModel"
      ]
    },
    {
      "cell_type": "markdown",
      "metadata": {
        "id": "QHO7UTRwDKnt"
      },
      "source": [
        "# Load models & tokenizer"
      ]
    },
    {
      "cell_type": "code",
      "execution_count": 3,
      "metadata": {
        "colab": {
          "base_uri": "https://localhost:8080/",
          "height": 281,
          "referenced_widgets": [
            "12c8ff13370748208b6020ef4eeef049",
            "b4aab80bd42f4e8fb27033fbd9b8b6aa",
            "5b25c3c3b852451eb2512cc2e52ebe6a",
            "ed3c192a7f854748b15807482acdcab8",
            "fef1573f43584d5c8cb09e67918f49f3",
            "c61d8d1c32b74f368f714cfd11b5800d",
            "7119749036234d1e8fa466e7fc366c09",
            "a6d66949147f40f3a08622fe976540de",
            "0a1d6e911ec64437884d99c25daf3bdf",
            "f368536847934d958006b8f81b1cd1ad",
            "68fa73ee9d9b4a349c7cd0f1b8094a06",
            "f27acde26d4a4f9687999841152b05cf",
            "9d92ff8aafed42e09e3aa31de60446dd",
            "181b86b808b6476b824fc81679247a62",
            "95cf0342ad7a47bda1590a8ab24a4a43",
            "c1eb1836fd4843a88231570d857cd7cb",
            "e21fe49c92b74effbd7da609feefe5cc",
            "04ad704c34794de6b4bc79d26f5c8deb",
            "90a0a87c11384993acbe49ba1e03c884",
            "9fdefebc934d417b9398fe11b546d97f",
            "a2af9b0207424ad19dd621b0fa296a6e",
            "bc884a4692994f1d9d69c59d9cc95e11",
            "5178c1d6b8d04ecf86eec271e2c1e832",
            "43ba35a41503468b84f91132e474559b",
            "b09a3eec25d14c12b3201837d983d9a7",
            "e0d62f5ed05b4be5a7503115246fcbae",
            "0c69e63a69a94146b5f896681d53d646",
            "1b685af7debb40c9953ff641fb68beed",
            "bce1b7176df045ffb0d7a33fa5543741",
            "0075a23f72a2483593b010f039edd7d1",
            "483a6c12b7a94d1aa6e75df7f4ad8275",
            "fc968f2849424eb7a7465f13163d4613",
            "617586aceffb4f3aa44f52899510fae2",
            "ede6d15259574bc9ab16393f952d5e25",
            "ea7ed84907f246a0b49bab2e853cf96b",
            "e3bb412483de4b11a84cc1f0798022fa",
            "7b161a08e21745a98f073d13a9cd7aee",
            "882932e43b8c487988ef98cd45a70fa2",
            "18ec05c513fe455fa6b8d2316bdd82ab",
            "acb0d2f6595340a6ad1fc7625174e1ce",
            "8372c8ed20e44910aecddef16eed2ba5",
            "72d7f1fb10d54303a7554a550240c544",
            "48ccf28b9a734cceadbb9436f4d77609",
            "ce1c5ea0d4ef41e8a5f75490b50b846e",
            "df2501912b3649f48f179ed06c7254a8",
            "4248179bbaf84868b23a94b6b1fa28a9",
            "24613376ac114f24a1c476bd4617d993",
            "aa4bbb1541fc44e4aca1a1b70213a69c",
            "7fd7961030344aae82433001d3c3bae8",
            "62429ef815a6466db0c7106e9a3603cf",
            "fb67911e181e425ba7348ec198bf5217",
            "6f6693f0d51c48c7bbf44f83b501ec02",
            "bdc2a6e218d24628b781e332a5111431",
            "bc93383b6f0646c597f911d3a8aaba32",
            "567e349ff3714d37a43cc31a82e8f2c4"
          ]
        },
        "id": "OyFPKU6EDU4C",
        "outputId": "65822a43-a0d7-4020-e6b0-5b7951dc12e4"
      },
      "outputs": [
        {
          "output_type": "stream",
          "name": "stderr",
          "text": [
            "/usr/local/lib/python3.12/dist-packages/huggingface_hub/utils/_auth.py:94: UserWarning: \n",
            "The secret `HF_TOKEN` does not exist in your Colab secrets.\n",
            "To authenticate with the Hugging Face Hub, create a token in your settings tab (https://huggingface.co/settings/tokens), set it as secret in your Google Colab and restart your session.\n",
            "You will be able to reuse this secret in all of your notebooks.\n",
            "Please note that authentication is recommended but still optional to access public models or datasets.\n",
            "  warnings.warn(\n"
          ]
        },
        {
          "output_type": "display_data",
          "data": {
            "text/plain": [
              "tokenizer_config.json:   0%|          | 0.00/49.0 [00:00<?, ?B/s]"
            ],
            "application/vnd.jupyter.widget-view+json": {
              "version_major": 2,
              "version_minor": 0,
              "model_id": "12c8ff13370748208b6020ef4eeef049"
            }
          },
          "metadata": {}
        },
        {
          "output_type": "display_data",
          "data": {
            "text/plain": [
              "vocab.txt:   0%|          | 0.00/213k [00:00<?, ?B/s]"
            ],
            "application/vnd.jupyter.widget-view+json": {
              "version_major": 2,
              "version_minor": 0,
              "model_id": "f27acde26d4a4f9687999841152b05cf"
            }
          },
          "metadata": {}
        },
        {
          "output_type": "display_data",
          "data": {
            "text/plain": [
              "tokenizer.json:   0%|          | 0.00/436k [00:00<?, ?B/s]"
            ],
            "application/vnd.jupyter.widget-view+json": {
              "version_major": 2,
              "version_minor": 0,
              "model_id": "5178c1d6b8d04ecf86eec271e2c1e832"
            }
          },
          "metadata": {}
        },
        {
          "output_type": "display_data",
          "data": {
            "text/plain": [
              "config.json:   0%|          | 0.00/570 [00:00<?, ?B/s]"
            ],
            "application/vnd.jupyter.widget-view+json": {
              "version_major": 2,
              "version_minor": 0,
              "model_id": "ede6d15259574bc9ab16393f952d5e25"
            }
          },
          "metadata": {}
        },
        {
          "output_type": "display_data",
          "data": {
            "text/plain": [
              "model.safetensors:   0%|          | 0.00/436M [00:00<?, ?B/s]"
            ],
            "application/vnd.jupyter.widget-view+json": {
              "version_major": 2,
              "version_minor": 0,
              "model_id": "df2501912b3649f48f179ed06c7254a8"
            }
          },
          "metadata": {}
        }
      ],
      "source": [
        "# Let's first load the BERT model\n",
        "bert_checkpoint = \"bert-base-cased\"\n",
        "bert_tokenizer = BertTokenizer.from_pretrained(bert_checkpoint)\n",
        "bert_model = BertModel.from_pretrained(bert_checkpoint)\n",
        "\n",
        "# BERT tokenizer and model can also be loaded with AutoTokenizer and AutoModel\n",
        "#bert_tokenizer = AutoTokenizer.from_pretrained(bert_checkpoint)\n",
        "#bert_model = AutoModel.from_pretrained(bert_checkpoint)"
      ]
    },
    {
      "cell_type": "code",
      "execution_count": 4,
      "metadata": {
        "colab": {
          "base_uri": "https://localhost:8080/",
          "height": 177,
          "referenced_widgets": [
            "151074e859264eab980db863761d8027",
            "23c9cfd94e9f4da197e76e32abb64b21",
            "4ab04b090df34a34b4149d982bd5b5a8",
            "4b7241b39eee476ca4c9ff2860b2f0e1",
            "cc5bfd6928a546c692fa60beda6381e9",
            "5e15f13d5f8f4b74ab3d721193177927",
            "247417f599ff468ca1f389c09c47ac7b",
            "6571d67e199f40fe89fa00e25338370b",
            "1ccb2c8e4ef24e50ab523e0452c9043a",
            "39cc1f20e2f5484b8cd2d53e3f154e4c",
            "23201f3282984d0dac50b6ed33189444",
            "90350eab18f54110b82d4206221ed8a5",
            "a56f46392f51495c9d4356910f9689d4",
            "5fbcd880510e4c9e917f7e45b1be617f",
            "0eeec499a6e8410d852a2de083d310a4",
            "31b5039b38b9453c93dfe9986b8314d5",
            "0605da222dce4704804865fd2abfda29",
            "cc27421683aa4078b1733c71467cb630",
            "ec1deee1573a41b39341da67f7614da7",
            "56b6e1c73b3e420a84af7d99680c048c",
            "bdab1e55e6ff4268ac165e025ef33bff",
            "0b8cb9cf8038414e8a45615dea99c397",
            "aad475c920f744febebf08944ed35c85",
            "ae97f09ec6a54abfa2c6abb0a775aa36",
            "1be356ad99dc421c865774cdfe7e10a8",
            "176dde5b229b4cb3a2ccf9b8331efa92",
            "f827632ea28d4d87b221176e9bd1ebe6",
            "7c07df9664594ec08b19b08545d03a18",
            "d132bdf2de244b7c9d941975d67ee365",
            "cae181375ca2401dbb4f45b1a301f17c",
            "78c13fe4417546d8af7d08fe0a663765",
            "06ec20265bd54725826dbdaab645d4fb",
            "18d5c70456b94012a912ee491c7daf3d",
            "2ef1536ebaf946d5b2dffd613682bb25",
            "3b53814552a64f5493e72e1c0a7e9e87",
            "4284fd61dd2244c2956deb26113ec743",
            "872b533e2c1e46cf86b876402745e5c0",
            "79fcc4c764874c97add00f1b169436e4",
            "602731495811408db6267e205eb7c887",
            "e60972b0199d431ba0c0b33be795ca80",
            "fd69e6c22fb344ac99eb65f1a61f3928",
            "7c578d104d924a9daaeedfccef41337e",
            "ef54f0117a2a4e0a824714301d625bd1",
            "6abd9475e2e645de844dd1abd2923e30",
            "44c41a1b9ecb44188c4864782590e59c",
            "29d75f0de0884d108deb4f059b5ea341",
            "47f05336dc804fb194c9ef0f18c3de27",
            "d44584881a5e47c8b35495201cfc2488",
            "6dc78f7fb6674f2993b14585c0d50a80",
            "3cef57fc192f451a83d8949251d4a2b0",
            "4908cee351674da598e150b53828d35a",
            "589fc738592b4e18bd0cb4f838bc2d3d",
            "d89b1b3be85443b086bfc73e0d06ef4a",
            "d7f5cd3081074c01afd868b89e9f69c7",
            "68960b94d94040f28482f2a97096e970"
          ]
        },
        "id": "PeE7JMzdDLo-",
        "outputId": "1be99fc1-ff1c-4971-b3da-ae97f657a863"
      },
      "outputs": [
        {
          "output_type": "display_data",
          "data": {
            "text/plain": [
              "tokenizer_config.json: 0.00B [00:00, ?B/s]"
            ],
            "application/vnd.jupyter.widget-view+json": {
              "version_major": 2,
              "version_minor": 0,
              "model_id": "151074e859264eab980db863761d8027"
            }
          },
          "metadata": {}
        },
        {
          "output_type": "display_data",
          "data": {
            "text/plain": [
              "tokenizer.json: 0.00B [00:00, ?B/s]"
            ],
            "application/vnd.jupyter.widget-view+json": {
              "version_major": 2,
              "version_minor": 0,
              "model_id": "90350eab18f54110b82d4206221ed8a5"
            }
          },
          "metadata": {}
        },
        {
          "output_type": "display_data",
          "data": {
            "text/plain": [
              "special_tokens_map.json:   0%|          | 0.00/694 [00:00<?, ?B/s]"
            ],
            "application/vnd.jupyter.widget-view+json": {
              "version_major": 2,
              "version_minor": 0,
              "model_id": "aad475c920f744febebf08944ed35c85"
            }
          },
          "metadata": {}
        },
        {
          "output_type": "display_data",
          "data": {
            "text/plain": [
              "config.json: 0.00B [00:00, ?B/s]"
            ],
            "application/vnd.jupyter.widget-view+json": {
              "version_major": 2,
              "version_minor": 0,
              "model_id": "2ef1536ebaf946d5b2dffd613682bb25"
            }
          },
          "metadata": {}
        },
        {
          "output_type": "display_data",
          "data": {
            "text/plain": [
              "model.safetensors:   0%|          | 0.00/599M [00:00<?, ?B/s]"
            ],
            "application/vnd.jupyter.widget-view+json": {
              "version_major": 2,
              "version_minor": 0,
              "model_id": "44c41a1b9ecb44188c4864782590e59c"
            }
          },
          "metadata": {}
        }
      ],
      "source": [
        "# Then we will load the ModernBERT model\n",
        "mbert_checkpoint = \"answerdotai/ModernBERT-base\"\n",
        "mbert_tokenizer = AutoTokenizer.from_pretrained(mbert_checkpoint)\n",
        "mbert_model = AutoModel.from_pretrained(mbert_checkpoint)"
      ]
    },
    {
      "cell_type": "markdown",
      "metadata": {
        "id": "3w95OY56Dr8Z"
      },
      "source": [
        "# Tokenizer\n",
        "\n",
        "Let's first take a look at the difference between the tokenizers for the two models."
      ]
    },
    {
      "cell_type": "code",
      "execution_count": 5,
      "metadata": {
        "id": "Z5VaDgbHCgaX"
      },
      "outputs": [],
      "source": [
        "text = \"This is MIDS 266. Let's learn some NLP!\""
      ]
    },
    {
      "cell_type": "code",
      "execution_count": 6,
      "metadata": {
        "colab": {
          "base_uri": "https://localhost:8080/"
        },
        "id": "uptoXfkfDxne",
        "outputId": "3534f80f-7b91-4a92-c96e-b858c26cf6f8"
      },
      "outputs": [
        {
          "output_type": "execute_result",
          "data": {
            "text/plain": [
              "{'input_ids': tensor([[  101,  1188,  1110, 26574, 13675,  1744,  1545,   119,  2421,   112,\n",
              "           188,  3858,  1199, 21239,  2101,   106,   102]]), 'token_type_ids': tensor([[0, 0, 0, 0, 0, 0, 0, 0, 0, 0, 0, 0, 0, 0, 0, 0, 0]]), 'attention_mask': tensor([[1, 1, 1, 1, 1, 1, 1, 1, 1, 1, 1, 1, 1, 1, 1, 1, 1]])}"
            ]
          },
          "metadata": {},
          "execution_count": 6
        }
      ],
      "source": [
        "# Check out how BERT tokenizing things\n",
        "bert_inputs = bert_tokenizer(text, return_tensors=\"pt\")\n",
        "bert_inputs"
      ]
    },
    {
      "cell_type": "code",
      "source": [
        "# How is it \"really\" handled?\n",
        "bert_tokenizer.convert_ids_to_tokens(bert_inputs[\"input_ids\"][0])"
      ],
      "metadata": {
        "colab": {
          "base_uri": "https://localhost:8080/"
        },
        "id": "zOqysBf9Xyzy",
        "outputId": "a0a84aa0-576c-435d-bdc1-4c37dc33bef0"
      },
      "execution_count": 9,
      "outputs": [
        {
          "output_type": "execute_result",
          "data": {
            "text/plain": [
              "['[CLS]',\n",
              " 'This',\n",
              " 'is',\n",
              " 'MI',\n",
              " '##DS',\n",
              " '26',\n",
              " '##6',\n",
              " '.',\n",
              " 'Let',\n",
              " \"'\",\n",
              " 's',\n",
              " 'learn',\n",
              " 'some',\n",
              " 'NL',\n",
              " '##P',\n",
              " '!',\n",
              " '[SEP]']"
            ]
          },
          "metadata": {},
          "execution_count": 9
        }
      ]
    },
    {
      "cell_type": "code",
      "execution_count": 7,
      "metadata": {
        "colab": {
          "base_uri": "https://localhost:8080/"
        },
        "id": "W5sgWdXbJXuq",
        "outputId": "1ebf660d-f884-42bb-898b-160378512746"
      },
      "outputs": [
        {
          "output_type": "execute_result",
          "data": {
            "text/plain": [
              "{'input_ids': tensor([[50281,  1552,   310,   353, 15782, 30610,    15,  1281,   434,  3037,\n",
              "           690,   427, 13010,     2, 50282]]), 'attention_mask': tensor([[1, 1, 1, 1, 1, 1, 1, 1, 1, 1, 1, 1, 1, 1, 1]])}"
            ]
          },
          "metadata": {},
          "execution_count": 7
        }
      ],
      "source": [
        "mbert_inputs = mbert_tokenizer(text, return_tensors=\"pt\")\n",
        "mbert_inputs"
      ]
    },
    {
      "cell_type": "code",
      "source": [
        "mbert_tokenizer.convert_ids_to_tokens(mbert_inputs[\"input_ids\"][0])\n"
      ],
      "metadata": {
        "colab": {
          "base_uri": "https://localhost:8080/"
        },
        "id": "Fu5Ulob9Xsue",
        "outputId": "c0207c07-cbe0-44cb-ac1b-287a8d8f41b5"
      },
      "execution_count": 8,
      "outputs": [
        {
          "output_type": "execute_result",
          "data": {
            "text/plain": [
              "['[CLS]',\n",
              " 'This',\n",
              " 'Ġis',\n",
              " 'ĠM',\n",
              " 'IDS',\n",
              " 'Ġ266',\n",
              " '.',\n",
              " 'ĠLet',\n",
              " \"'s\",\n",
              " 'Ġlearn',\n",
              " 'Ġsome',\n",
              " 'ĠN',\n",
              " 'LP',\n",
              " '!',\n",
              " '[SEP]']"
            ]
          },
          "metadata": {},
          "execution_count": 8
        }
      ]
    },
    {
      "cell_type": "markdown",
      "metadata": {
        "id": "4U2j3XZ2JuCs"
      },
      "source": [
        "What do we notice at first glance?"
      ]
    },
    {
      "cell_type": "markdown",
      "source": [
        "Nice mini side-by-side! A few things pop right out:\n",
        "\n",
        "* **Special tokens & ranges**\n",
        "\n",
        "  * **BERT** uses `[CLS]=101` … `[SEP]=102`.\n",
        "  * **ModernBERT** adds BOS/EOS-style tokens with big IDs `50281` / `50282` (typical of byte-level BPE vocabularies with specials at the top).\n",
        "\n",
        "* **Segment (token type) ids**\n",
        "\n",
        "  * **BERT** returns `token_type_ids` (all zeros here since there’s one segment); classic BERT adds **token-type embeddings**.\n",
        "  * **ModernBERT** returns **no `token_type_ids`** (it doesn’t use them).\n",
        "\n",
        "* **Subword system / vocabulary**\n",
        "\n",
        "  * **BERT-base-cased** uses **WordPiece**, case-sensitive; you’ll often see words split into smaller pieces and punctuation as separate tokens.\n",
        "  * **ModernBERT** uses a **byte-level BPE/SentencePiece-style** tokenizer, so IDs are larger and tokenization decisions differ (often fewer/smarter splits on rare/cased strings and punctuation like “Let’s”, “NLP”, “MIDS 266”, “!”).\n",
        "\n",
        "* **Sequence length here**\n",
        "\n",
        "  * BERT made **17 tokens** (incl. `[CLS]`/`[SEP]`), ModernBERT **15** (incl. BOS/EOS). Different subword rules → different lengths.\n",
        "\n",
        "* **Model features (not visible but relevant)**\n",
        "\n",
        "  * **BERT**: 512-token window, absolute positional embeddings.\n",
        "  * **ModernBERT**: much **longer context (8k)** and **RoPE**; no token-type embeddings."
      ],
      "metadata": {
        "id": "wL65KtQ2ZMCZ"
      }
    },
    {
      "cell_type": "markdown",
      "metadata": {
        "id": "zi9L8BZkKJ8i"
      },
      "source": [
        "Let's now take a closer look at the `input_ids`."
      ]
    },
    {
      "cell_type": "code",
      "execution_count": 10,
      "metadata": {
        "colab": {
          "base_uri": "https://localhost:8080/"
        },
        "id": "hIrNFeOWKJZO",
        "outputId": "4b93f641-ce89-4262-b4b2-f70405a2ca76"
      },
      "outputs": [
        {
          "output_type": "execute_result",
          "data": {
            "text/plain": [
              "torch.Size([1, 17])"
            ]
          },
          "metadata": {},
          "execution_count": 10
        }
      ],
      "source": [
        "bert_inputs.input_ids.shape"
      ]
    },
    {
      "cell_type": "code",
      "execution_count": 11,
      "metadata": {
        "colab": {
          "base_uri": "https://localhost:8080/"
        },
        "id": "szGrYMWMJXxT",
        "outputId": "42ffcc25-7f29-4f97-ad84-8a97f83b52f4"
      },
      "outputs": [
        {
          "output_type": "execute_result",
          "data": {
            "text/plain": [
              "torch.Size([1, 15])"
            ]
          },
          "metadata": {},
          "execution_count": 11
        }
      ],
      "source": [
        "mbert_inputs.input_ids.shape"
      ]
    },
    {
      "cell_type": "markdown",
      "metadata": {
        "id": "_bSIxPDFQ9Xw"
      },
      "source": [
        "We can see that the two models have different length of input_ids for texts with the same word count!"
      ]
    },
    {
      "cell_type": "markdown",
      "metadata": {
        "id": "8Yb7JOUbSl2U"
      },
      "source": [
        "Let's then take a look at how the tokenization differs between the two models."
      ]
    },
    {
      "cell_type": "code",
      "execution_count": 12,
      "metadata": {
        "colab": {
          "base_uri": "https://localhost:8080/"
        },
        "id": "P3RC7LlYRPKC",
        "outputId": "a92b6e2a-35ee-4de9-833f-61caea0ea603"
      },
      "outputs": [
        {
          "output_type": "stream",
          "name": "stdout",
          "text": [
            "['This', 'is', 'MI', '##DS', '26', '##6', '.', 'Let', \"'\", 's', 'learn', 'some', 'NL', '##P', '!']\n"
          ]
        }
      ],
      "source": [
        "btokens = bert_tokenizer.tokenize(text)\n",
        "print(btokens)"
      ]
    },
    {
      "cell_type": "code",
      "execution_count": 13,
      "metadata": {
        "colab": {
          "base_uri": "https://localhost:8080/"
        },
        "id": "p8jr25jVRUX4",
        "outputId": "e58d75ef-60a7-4b6e-b017-bdb4231ddb00"
      },
      "outputs": [
        {
          "output_type": "stream",
          "name": "stdout",
          "text": [
            "['This', 'Ġis', 'ĠM', 'IDS', 'Ġ266', '.', 'ĠLet', \"'s\", 'Ġlearn', 'Ġsome', 'ĠN', 'LP', '!']\n"
          ]
        }
      ],
      "source": [
        "mtokens = mbert_tokenizer.tokenize(text)\n",
        "print(mtokens)"
      ]
    },
    {
      "cell_type": "markdown",
      "metadata": {
        "id": "yuvm7hjzTB_J"
      },
      "source": [
        "Wow! The tokens look quite different between the two models!"
      ]
    },
    {
      "cell_type": "markdown",
      "metadata": {
        "id": "jfZFf9cIStME"
      },
      "source": [
        "We already know BERT uses CLS and SEP tokens, does ModernBERT do the same?"
      ]
    },
    {
      "cell_type": "code",
      "execution_count": 14,
      "metadata": {
        "colab": {
          "base_uri": "https://localhost:8080/",
          "height": 35
        },
        "id": "j3PLmWmQQ45k",
        "outputId": "c8616807-844c-4eb7-b622-e67c12041f57"
      },
      "outputs": [
        {
          "output_type": "execute_result",
          "data": {
            "text/plain": [
              "\"[CLS] This is MIDS 266. Let's learn some NLP! [SEP]\""
            ],
            "application/vnd.google.colaboratory.intrinsic+json": {
              "type": "string"
            }
          },
          "metadata": {},
          "execution_count": 14
        }
      ],
      "source": [
        "bert_tokenizer.decode(bert_tokenizer.encode(text))"
      ]
    },
    {
      "cell_type": "code",
      "execution_count": 15,
      "metadata": {
        "colab": {
          "base_uri": "https://localhost:8080/"
        },
        "id": "5IHm_tyrU_8i",
        "outputId": "6da9d26f-cdc2-4657-f91a-ad53cdd05db3"
      },
      "outputs": [
        {
          "output_type": "execute_result",
          "data": {
            "text/plain": [
              "tensor([[  101,  1188,  1110, 26574, 13675,  1744,  1545,   119,  2421,   112,\n",
              "           188,  3858,  1199, 21239,  2101,   106,   102]])"
            ]
          },
          "metadata": {},
          "execution_count": 15
        }
      ],
      "source": [
        "bert_inputs.input_ids"
      ]
    },
    {
      "cell_type": "code",
      "execution_count": 16,
      "metadata": {
        "colab": {
          "base_uri": "https://localhost:8080/",
          "height": 35
        },
        "id": "l0Khe8cTS4to",
        "outputId": "187b27ff-df9e-48ec-abde-5bbe195cc688"
      },
      "outputs": [
        {
          "output_type": "execute_result",
          "data": {
            "text/plain": [
              "\"[CLS]This is MIDS 266. Let's learn some NLP![SEP]\""
            ],
            "application/vnd.google.colaboratory.intrinsic+json": {
              "type": "string"
            }
          },
          "metadata": {},
          "execution_count": 16
        }
      ],
      "source": [
        "mbert_tokenizer.decode(mbert_tokenizer.encode(text))"
      ]
    },
    {
      "cell_type": "code",
      "execution_count": 17,
      "metadata": {
        "colab": {
          "base_uri": "https://localhost:8080/"
        },
        "id": "JH7FSAK4VKHU",
        "outputId": "5e83d36a-5340-4bac-d19f-a85c269ff0d9"
      },
      "outputs": [
        {
          "output_type": "execute_result",
          "data": {
            "text/plain": [
              "tensor([[50281,  1552,   310,   353, 15782, 30610,    15,  1281,   434,  3037,\n",
              "           690,   427, 13010,     2, 50282]])"
            ]
          },
          "metadata": {},
          "execution_count": 17
        }
      ],
      "source": [
        "mbert_inputs.input_ids"
      ]
    },
    {
      "cell_type": "markdown",
      "metadata": {
        "id": "zu5rE7nqTG-Y"
      },
      "source": [
        "Similar to other BERT family models, ModernBERT also uses CLS and SEP tokens. Can you guess the input_id for these special tokens?\n",
        " - 50281 and 05282"
      ]
    },
    {
      "cell_type": "markdown",
      "metadata": {
        "id": "atBW3qOLUWyL"
      },
      "source": [
        "Let's now try batch encode, what's different now?\n",
        "\n",
        "Read the [ModernBert Config](https://huggingface.co/docs/transformers/main/en/model_doc/modernbert#transformers.ModernBertConfig) to identify other special tokens and the input ids for each of them."
      ]
    },
    {
      "cell_type": "code",
      "execution_count": 18,
      "metadata": {
        "colab": {
          "base_uri": "https://localhost:8080/"
        },
        "id": "s_JRuJ4lUB2a",
        "outputId": "2698512d-3136-44ba-8628-235ad21e3d9e"
      },
      "outputs": [
        {
          "output_type": "execute_result",
          "data": {
            "text/plain": [
              "{'input_ids': tensor([[ 101, 1188, 1110, 1632,  106,  102,    0,    0,    0,    0],\n",
              "        [ 101, 1188, 1110, 6434,  106,  102,    0,    0,    0,    0]]), 'token_type_ids': tensor([[0, 0, 0, 0, 0, 0, 0, 0, 0, 0],\n",
              "        [0, 0, 0, 0, 0, 0, 0, 0, 0, 0]]), 'attention_mask': tensor([[1, 1, 1, 1, 1, 1, 0, 0, 0, 0],\n",
              "        [1, 1, 1, 1, 1, 1, 0, 0, 0, 0]])}"
            ]
          },
          "metadata": {},
          "execution_count": 18
        }
      ],
      "source": [
        "bert_input = bert_tokenizer.batch_encode_plus(\n",
        "    ['This is great!', 'This is terrible!'],  # a batch of 2 single-sentence strings\n",
        "    max_length=10,         # cap each sequence at 10 tokens (incl. [CLS]/[SEP])\n",
        "    truncation=True,       # if longer than 10, cut off the tail\n",
        "    padding='max_length',  # pad shorter ones up to length 10\n",
        "    return_tensors='pt'    # return PyTorch tensors (not lists)\n",
        ")\n",
        "\n",
        "\n",
        "bert_input"
      ]
    },
    {
      "cell_type": "code",
      "execution_count": 19,
      "metadata": {
        "colab": {
          "base_uri": "https://localhost:8080/"
        },
        "id": "J0bfO5EuUFw0",
        "outputId": "8316715b-6386-4aaa-96bc-e39652d652cf"
      },
      "outputs": [
        {
          "output_type": "execute_result",
          "data": {
            "text/plain": [
              "{'input_ids': tensor([[50281,  1552,   310,  1270,     2, 50282, 50283, 50283, 50283, 50283],\n",
              "        [50281,  1552,   310, 11527,     2, 50282, 50283, 50283, 50283, 50283]]), 'attention_mask': tensor([[1, 1, 1, 1, 1, 1, 0, 0, 0, 0],\n",
              "        [1, 1, 1, 1, 1, 1, 0, 0, 0, 0]])}"
            ]
          },
          "metadata": {},
          "execution_count": 19
        }
      ],
      "source": [
        "mbert_input = mbert_tokenizer.batch_encode_plus(\n",
        "    ['This is great!', 'This is terrible!'],\n",
        "    max_length=10,\n",
        "    truncation=True,\n",
        "    padding='max_length',\n",
        "    return_tensors='pt'\n",
        ")\n",
        "\n",
        "mbert_input"
      ]
    },
    {
      "cell_type": "markdown",
      "metadata": {
        "id": "DnzgfXT4ikRq"
      },
      "source": [
        "# Long Context Inputs\n",
        "\n",
        "For long context illustration, we will use the [long-context retrieval (MLDR)](https://huggingface.co/datasets/sentence-transformers/mldr) dataset. This dataset has 10K triples of anchor-positive-negative datapoints, and is ideal for information retrieval. We will cover information retrieval in Week 10."
      ]
    },
    {
      "cell_type": "markdown",
      "metadata": {
        "id": "AwDJZJADj_Kg"
      },
      "source": [
        "We can directly load the dataset from HuggingFace Hub. For this exercise, we will only take the first 5 datapoints as an example."
      ]
    },
    {
      "cell_type": "code",
      "execution_count": 20,
      "metadata": {
        "colab": {
          "base_uri": "https://localhost:8080/",
          "height": 113,
          "referenced_widgets": [
            "85bf4c227685461088a0f3a3b1ab364e",
            "31dec094dcdd4f309a4189df5405de79",
            "b486aeab978c48329c7c88e9151f141e",
            "3cc976b64b4148de80d73e730caa7262",
            "c2b7fed7417e486c8853ec301b27dc30",
            "90c309573dbe412388f4cbaa55d3e0ee",
            "8c7e32daaa3e44f6bb02c28040ed5400",
            "b81768ad106947af8af8d52e62fcd021",
            "b6f47d4406cc4a7a8b943bf0a8b2586a",
            "31365940eee54fe1872873e2244a262e",
            "2151d4b195f8464fa529fd3fde44acc1",
            "99b62f7658704935b7eca0efac9bce3e",
            "59bcf41382f0496b93c018135928a2d0",
            "fbe6e9e950954b0695ee76a80b435ae0",
            "1f9c15408e524b99890714df04489541",
            "272e8078ac0446738d6b76f8b7c63d81",
            "ec44e0fb5e1742129fd9bd7b45463f13",
            "3cdb5afac03545d3925bd1941b1f6ba5",
            "5d7d76d02b4a45869474c747f5a52ab6",
            "de113e81bbc9469780823ef273d33ece",
            "57b9c853a8384ac7bb3fd6f0a9926306",
            "af9040339b55409daebeb11bca61fc7d",
            "89669fefd2954ae89a8cb03fcf3d092c",
            "3e52bac47b5a42598513f82413da1308",
            "8582b130bb55460d85d25c862eacc17f",
            "cfb254696a4d433298325d9db373b6dc",
            "419d45f7b55e4ad7ae6294a60a3cced2",
            "d9aea1c039a9496c80060af3feaa4146",
            "e00ae6b2217b4c1da3064f6978158640",
            "ad8281c21b674a22928b49b1851d8efa",
            "0f2aa5c1ee674a32b3744b4eb92a9a60",
            "6533591f2ab64af3a96332e4737a1b20",
            "9b194e49af3743f7a74bbc619d2373b5"
          ]
        },
        "id": "Kr_0fbXmixPN",
        "outputId": "77b64417-6cd9-4151-e04f-a9d37a5bd2f1"
      },
      "outputs": [
        {
          "output_type": "display_data",
          "data": {
            "text/plain": [
              "README.md: 0.00B [00:00, ?B/s]"
            ],
            "application/vnd.jupyter.widget-view+json": {
              "version_major": 2,
              "version_minor": 0,
              "model_id": "85bf4c227685461088a0f3a3b1ab364e"
            }
          },
          "metadata": {}
        },
        {
          "output_type": "display_data",
          "data": {
            "text/plain": [
              "en-triplet/train-00000-of-00001.parquet:   0%|          | 0.00/211M [00:00<?, ?B/s]"
            ],
            "application/vnd.jupyter.widget-view+json": {
              "version_major": 2,
              "version_minor": 0,
              "model_id": "99b62f7658704935b7eca0efac9bce3e"
            }
          },
          "metadata": {}
        },
        {
          "output_type": "display_data",
          "data": {
            "text/plain": [
              "Generating train split:   0%|          | 0/10000 [00:00<?, ? examples/s]"
            ],
            "application/vnd.jupyter.widget-view+json": {
              "version_major": 2,
              "version_minor": 0,
              "model_id": "89669fefd2954ae89a8cb03fcf3d092c"
            }
          },
          "metadata": {}
        }
      ],
      "source": [
        "dataset = load_dataset(\"sentence-transformers/mldr\", \"en-triplet\", split=\"train\").take(5)"
      ]
    },
    {
      "cell_type": "code",
      "execution_count": 21,
      "metadata": {
        "colab": {
          "base_uri": "https://localhost:8080/"
        },
        "id": "Jt3xyTsvjJ_j",
        "outputId": "dbd87911-555e-46fb-9bd8-5b645d96f07f"
      },
      "outputs": [
        {
          "output_type": "execute_result",
          "data": {
            "text/plain": [
              "Dataset({\n",
              "    features: ['anchor', 'positive', 'negative'],\n",
              "    num_rows: 5\n",
              "})"
            ]
          },
          "metadata": {},
          "execution_count": 21
        }
      ],
      "source": [
        "dataset"
      ]
    },
    {
      "cell_type": "markdown",
      "metadata": {
        "id": "YD8-rMjdkoJ8"
      },
      "source": [
        "This dataset is designed for long context retrieval, let's take a look at the first example"
      ]
    },
    {
      "cell_type": "code",
      "execution_count": 22,
      "metadata": {
        "colab": {
          "base_uri": "https://localhost:8080/"
        },
        "id": "il7HELlKimRo",
        "outputId": "103e14d6-0b25-4836-e2c2-8071c4685db2"
      },
      "outputs": [
        {
          "output_type": "execute_result",
          "data": {
            "text/plain": [
              "12379"
            ]
          },
          "metadata": {},
          "execution_count": 22
        }
      ],
      "source": [
        "text = dataset[0][\"positive\"]\n",
        "len(text)"
      ]
    },
    {
      "cell_type": "code",
      "source": [
        "text[:100]"
      ],
      "metadata": {
        "colab": {
          "base_uri": "https://localhost:8080/",
          "height": 35
        },
        "id": "aNBuup5zbNYE",
        "outputId": "6daa5744-ba96-4539-c75a-c802accc1cc5"
      },
      "execution_count": 24,
      "outputs": [
        {
          "output_type": "execute_result",
          "data": {
            "text/plain": [
              "'John Vincent \"Jack\" Geraghty, Jr. (born February 23, 1934) is an Irish American civic politician, jo'"
            ],
            "application/vnd.google.colaboratory.intrinsic+json": {
              "type": "string"
            }
          },
          "metadata": {},
          "execution_count": 24
        }
      ]
    },
    {
      "cell_type": "markdown",
      "metadata": {
        "id": "RRvMdfYrk_sf"
      },
      "source": [
        "Wow this is surely a long text, what happens if we try to tokenize it for BERT?"
      ]
    },
    {
      "cell_type": "code",
      "execution_count": 25,
      "metadata": {
        "colab": {
          "base_uri": "https://localhost:8080/"
        },
        "id": "wV-hR6pHimK7",
        "outputId": "d1c06158-f934-4ae8-dfaa-2f8217fe8206"
      },
      "outputs": [
        {
          "output_type": "stream",
          "name": "stderr",
          "text": [
            "Token indices sequence length is longer than the specified maximum sequence length for this model (2450 > 512). Running this sequence through the model will result in indexing errors\n"
          ]
        },
        {
          "output_type": "execute_result",
          "data": {
            "text/plain": [
              "{'input_ids': tensor([[  101,  1287,  5665,  ...,  4052, 12762,   102]]), 'token_type_ids': tensor([[0, 0, 0,  ..., 0, 0, 0]]), 'attention_mask': tensor([[1, 1, 1,  ..., 1, 1, 1]])}"
            ]
          },
          "metadata": {},
          "execution_count": 25
        }
      ],
      "source": [
        "bert_inputs = bert_tokenizer(text, return_tensors=\"pt\")\n",
        "bert_inputs"
      ]
    },
    {
      "cell_type": "markdown",
      "metadata": {
        "id": "fTCD4KmulF7i"
      },
      "source": [
        "Uhoh, we see a warning that the sequence length exceeds the max sequence length allowed for the model.\n",
        "\n",
        "What happens if we directly use this long text in the BERT model without any preprocessing? All the texts after the 512th token will be lost!\n",
        "\n",
        "Think about what you can do to combat this issue if you'd like to use BERT model on this dataset? What disadvantage would this impose compared to using a model that has long context capabilities?"
      ]
    },
    {
      "cell_type": "markdown",
      "metadata": {
        "id": "V8n_3ny7lfLv"
      },
      "source": [
        "Now let's tokenize it for ModernBERT"
      ]
    },
    {
      "cell_type": "code",
      "execution_count": 26,
      "metadata": {
        "colab": {
          "base_uri": "https://localhost:8080/"
        },
        "id": "1P6ifdkHimAD",
        "outputId": "06f41e1c-2bdc-4cf1-ae01-464169cd84b4"
      },
      "outputs": [
        {
          "output_type": "execute_result",
          "data": {
            "text/plain": [
              "{'input_ids': tensor([[50281,  8732, 26456,  ..., 13416, 20759, 50282]]), 'attention_mask': tensor([[1, 1, 1,  ..., 1, 1, 1]])}"
            ]
          },
          "metadata": {},
          "execution_count": 26
        }
      ],
      "source": [
        "mbert_inputs = mbert_tokenizer(text, return_tensors=\"pt\")\n",
        "mbert_inputs"
      ]
    },
    {
      "cell_type": "code",
      "execution_count": 27,
      "metadata": {
        "colab": {
          "base_uri": "https://localhost:8080/"
        },
        "id": "LQQK4n0Olm7O",
        "outputId": "1f85238c-de3f-4c9e-c624-cf376dcaa2c9"
      },
      "outputs": [
        {
          "output_type": "execute_result",
          "data": {
            "text/plain": [
              "torch.Size([1, 2671])"
            ]
          },
          "metadata": {},
          "execution_count": 27
        }
      ],
      "source": [
        "mbert_inputs.input_ids.shape"
      ]
    },
    {
      "cell_type": "markdown",
      "metadata": {
        "id": "-tNa3MXelpve"
      },
      "source": [
        "No more warnings about the sequence length exceeding the maximum sequence length. This is because ModernBERT allows for long context up to 8192 tokens! This is huge!"
      ]
    },
    {
      "cell_type": "markdown",
      "metadata": {
        "id": "avVr_sbtTind"
      },
      "source": [
        "# Model Architecture\n",
        "\n",
        "Let's now take a look at the model architecture!"
      ]
    },
    {
      "cell_type": "code",
      "execution_count": 28,
      "metadata": {
        "colab": {
          "base_uri": "https://localhost:8080/"
        },
        "id": "StEbfZ4zToni",
        "outputId": "15e947c8-3a27-44cc-fa54-a1e8204e1b96"
      },
      "outputs": [
        {
          "output_type": "stream",
          "name": "stdout",
          "text": [
            "embeddings.word_embeddings.weight\n",
            "embeddings.position_embeddings.weight\n",
            "embeddings.token_type_embeddings.weight\n",
            "embeddings.LayerNorm.weight\n",
            "embeddings.LayerNorm.bias\n",
            "encoder.layer.0.attention.self.query.weight\n",
            "encoder.layer.0.attention.self.query.bias\n",
            "encoder.layer.0.attention.self.key.weight\n",
            "encoder.layer.0.attention.self.key.bias\n",
            "encoder.layer.0.attention.self.value.weight\n",
            "encoder.layer.0.attention.self.value.bias\n",
            "encoder.layer.0.attention.output.dense.weight\n",
            "encoder.layer.0.attention.output.dense.bias\n",
            "encoder.layer.0.attention.output.LayerNorm.weight\n",
            "encoder.layer.0.attention.output.LayerNorm.bias\n",
            "encoder.layer.0.intermediate.dense.weight\n",
            "encoder.layer.0.intermediate.dense.bias\n",
            "encoder.layer.0.output.dense.weight\n",
            "encoder.layer.0.output.dense.bias\n",
            "encoder.layer.0.output.LayerNorm.weight\n",
            "encoder.layer.0.output.LayerNorm.bias\n",
            "encoder.layer.1.attention.self.query.weight\n",
            "encoder.layer.1.attention.self.query.bias\n",
            "encoder.layer.1.attention.self.key.weight\n",
            "encoder.layer.1.attention.self.key.bias\n",
            "encoder.layer.1.attention.self.value.weight\n",
            "encoder.layer.1.attention.self.value.bias\n",
            "encoder.layer.1.attention.output.dense.weight\n",
            "encoder.layer.1.attention.output.dense.bias\n",
            "encoder.layer.1.attention.output.LayerNorm.weight\n",
            "encoder.layer.1.attention.output.LayerNorm.bias\n",
            "encoder.layer.1.intermediate.dense.weight\n",
            "encoder.layer.1.intermediate.dense.bias\n",
            "encoder.layer.1.output.dense.weight\n",
            "encoder.layer.1.output.dense.bias\n",
            "encoder.layer.1.output.LayerNorm.weight\n",
            "encoder.layer.1.output.LayerNorm.bias\n",
            "encoder.layer.2.attention.self.query.weight\n",
            "encoder.layer.2.attention.self.query.bias\n",
            "encoder.layer.2.attention.self.key.weight\n",
            "encoder.layer.2.attention.self.key.bias\n",
            "encoder.layer.2.attention.self.value.weight\n",
            "encoder.layer.2.attention.self.value.bias\n",
            "encoder.layer.2.attention.output.dense.weight\n",
            "encoder.layer.2.attention.output.dense.bias\n",
            "encoder.layer.2.attention.output.LayerNorm.weight\n",
            "encoder.layer.2.attention.output.LayerNorm.bias\n",
            "encoder.layer.2.intermediate.dense.weight\n",
            "encoder.layer.2.intermediate.dense.bias\n",
            "encoder.layer.2.output.dense.weight\n",
            "encoder.layer.2.output.dense.bias\n",
            "encoder.layer.2.output.LayerNorm.weight\n",
            "encoder.layer.2.output.LayerNorm.bias\n",
            "encoder.layer.3.attention.self.query.weight\n",
            "encoder.layer.3.attention.self.query.bias\n",
            "encoder.layer.3.attention.self.key.weight\n",
            "encoder.layer.3.attention.self.key.bias\n",
            "encoder.layer.3.attention.self.value.weight\n",
            "encoder.layer.3.attention.self.value.bias\n",
            "encoder.layer.3.attention.output.dense.weight\n",
            "encoder.layer.3.attention.output.dense.bias\n",
            "encoder.layer.3.attention.output.LayerNorm.weight\n",
            "encoder.layer.3.attention.output.LayerNorm.bias\n",
            "encoder.layer.3.intermediate.dense.weight\n",
            "encoder.layer.3.intermediate.dense.bias\n",
            "encoder.layer.3.output.dense.weight\n",
            "encoder.layer.3.output.dense.bias\n",
            "encoder.layer.3.output.LayerNorm.weight\n",
            "encoder.layer.3.output.LayerNorm.bias\n",
            "encoder.layer.4.attention.self.query.weight\n",
            "encoder.layer.4.attention.self.query.bias\n",
            "encoder.layer.4.attention.self.key.weight\n",
            "encoder.layer.4.attention.self.key.bias\n",
            "encoder.layer.4.attention.self.value.weight\n",
            "encoder.layer.4.attention.self.value.bias\n",
            "encoder.layer.4.attention.output.dense.weight\n",
            "encoder.layer.4.attention.output.dense.bias\n",
            "encoder.layer.4.attention.output.LayerNorm.weight\n",
            "encoder.layer.4.attention.output.LayerNorm.bias\n",
            "encoder.layer.4.intermediate.dense.weight\n",
            "encoder.layer.4.intermediate.dense.bias\n",
            "encoder.layer.4.output.dense.weight\n",
            "encoder.layer.4.output.dense.bias\n",
            "encoder.layer.4.output.LayerNorm.weight\n",
            "encoder.layer.4.output.LayerNorm.bias\n",
            "encoder.layer.5.attention.self.query.weight\n",
            "encoder.layer.5.attention.self.query.bias\n",
            "encoder.layer.5.attention.self.key.weight\n",
            "encoder.layer.5.attention.self.key.bias\n",
            "encoder.layer.5.attention.self.value.weight\n",
            "encoder.layer.5.attention.self.value.bias\n",
            "encoder.layer.5.attention.output.dense.weight\n",
            "encoder.layer.5.attention.output.dense.bias\n",
            "encoder.layer.5.attention.output.LayerNorm.weight\n",
            "encoder.layer.5.attention.output.LayerNorm.bias\n",
            "encoder.layer.5.intermediate.dense.weight\n",
            "encoder.layer.5.intermediate.dense.bias\n",
            "encoder.layer.5.output.dense.weight\n",
            "encoder.layer.5.output.dense.bias\n",
            "encoder.layer.5.output.LayerNorm.weight\n",
            "encoder.layer.5.output.LayerNorm.bias\n",
            "encoder.layer.6.attention.self.query.weight\n",
            "encoder.layer.6.attention.self.query.bias\n",
            "encoder.layer.6.attention.self.key.weight\n",
            "encoder.layer.6.attention.self.key.bias\n",
            "encoder.layer.6.attention.self.value.weight\n",
            "encoder.layer.6.attention.self.value.bias\n",
            "encoder.layer.6.attention.output.dense.weight\n",
            "encoder.layer.6.attention.output.dense.bias\n",
            "encoder.layer.6.attention.output.LayerNorm.weight\n",
            "encoder.layer.6.attention.output.LayerNorm.bias\n",
            "encoder.layer.6.intermediate.dense.weight\n",
            "encoder.layer.6.intermediate.dense.bias\n",
            "encoder.layer.6.output.dense.weight\n",
            "encoder.layer.6.output.dense.bias\n",
            "encoder.layer.6.output.LayerNorm.weight\n",
            "encoder.layer.6.output.LayerNorm.bias\n",
            "encoder.layer.7.attention.self.query.weight\n",
            "encoder.layer.7.attention.self.query.bias\n",
            "encoder.layer.7.attention.self.key.weight\n",
            "encoder.layer.7.attention.self.key.bias\n",
            "encoder.layer.7.attention.self.value.weight\n",
            "encoder.layer.7.attention.self.value.bias\n",
            "encoder.layer.7.attention.output.dense.weight\n",
            "encoder.layer.7.attention.output.dense.bias\n",
            "encoder.layer.7.attention.output.LayerNorm.weight\n",
            "encoder.layer.7.attention.output.LayerNorm.bias\n",
            "encoder.layer.7.intermediate.dense.weight\n",
            "encoder.layer.7.intermediate.dense.bias\n",
            "encoder.layer.7.output.dense.weight\n",
            "encoder.layer.7.output.dense.bias\n",
            "encoder.layer.7.output.LayerNorm.weight\n",
            "encoder.layer.7.output.LayerNorm.bias\n",
            "encoder.layer.8.attention.self.query.weight\n",
            "encoder.layer.8.attention.self.query.bias\n",
            "encoder.layer.8.attention.self.key.weight\n",
            "encoder.layer.8.attention.self.key.bias\n",
            "encoder.layer.8.attention.self.value.weight\n",
            "encoder.layer.8.attention.self.value.bias\n",
            "encoder.layer.8.attention.output.dense.weight\n",
            "encoder.layer.8.attention.output.dense.bias\n",
            "encoder.layer.8.attention.output.LayerNorm.weight\n",
            "encoder.layer.8.attention.output.LayerNorm.bias\n",
            "encoder.layer.8.intermediate.dense.weight\n",
            "encoder.layer.8.intermediate.dense.bias\n",
            "encoder.layer.8.output.dense.weight\n",
            "encoder.layer.8.output.dense.bias\n",
            "encoder.layer.8.output.LayerNorm.weight\n",
            "encoder.layer.8.output.LayerNorm.bias\n",
            "encoder.layer.9.attention.self.query.weight\n",
            "encoder.layer.9.attention.self.query.bias\n",
            "encoder.layer.9.attention.self.key.weight\n",
            "encoder.layer.9.attention.self.key.bias\n",
            "encoder.layer.9.attention.self.value.weight\n",
            "encoder.layer.9.attention.self.value.bias\n",
            "encoder.layer.9.attention.output.dense.weight\n",
            "encoder.layer.9.attention.output.dense.bias\n",
            "encoder.layer.9.attention.output.LayerNorm.weight\n",
            "encoder.layer.9.attention.output.LayerNorm.bias\n",
            "encoder.layer.9.intermediate.dense.weight\n",
            "encoder.layer.9.intermediate.dense.bias\n",
            "encoder.layer.9.output.dense.weight\n",
            "encoder.layer.9.output.dense.bias\n",
            "encoder.layer.9.output.LayerNorm.weight\n",
            "encoder.layer.9.output.LayerNorm.bias\n",
            "encoder.layer.10.attention.self.query.weight\n",
            "encoder.layer.10.attention.self.query.bias\n",
            "encoder.layer.10.attention.self.key.weight\n",
            "encoder.layer.10.attention.self.key.bias\n",
            "encoder.layer.10.attention.self.value.weight\n",
            "encoder.layer.10.attention.self.value.bias\n",
            "encoder.layer.10.attention.output.dense.weight\n",
            "encoder.layer.10.attention.output.dense.bias\n",
            "encoder.layer.10.attention.output.LayerNorm.weight\n",
            "encoder.layer.10.attention.output.LayerNorm.bias\n",
            "encoder.layer.10.intermediate.dense.weight\n",
            "encoder.layer.10.intermediate.dense.bias\n",
            "encoder.layer.10.output.dense.weight\n",
            "encoder.layer.10.output.dense.bias\n",
            "encoder.layer.10.output.LayerNorm.weight\n",
            "encoder.layer.10.output.LayerNorm.bias\n",
            "encoder.layer.11.attention.self.query.weight\n",
            "encoder.layer.11.attention.self.query.bias\n",
            "encoder.layer.11.attention.self.key.weight\n",
            "encoder.layer.11.attention.self.key.bias\n",
            "encoder.layer.11.attention.self.value.weight\n",
            "encoder.layer.11.attention.self.value.bias\n",
            "encoder.layer.11.attention.output.dense.weight\n",
            "encoder.layer.11.attention.output.dense.bias\n",
            "encoder.layer.11.attention.output.LayerNorm.weight\n",
            "encoder.layer.11.attention.output.LayerNorm.bias\n",
            "encoder.layer.11.intermediate.dense.weight\n",
            "encoder.layer.11.intermediate.dense.bias\n",
            "encoder.layer.11.output.dense.weight\n",
            "encoder.layer.11.output.dense.bias\n",
            "encoder.layer.11.output.LayerNorm.weight\n",
            "encoder.layer.11.output.LayerNorm.bias\n",
            "pooler.dense.weight\n",
            "pooler.dense.bias\n"
          ]
        }
      ],
      "source": [
        "for name, param in bert_model.named_parameters():\n",
        "    print(name)"
      ]
    },
    {
      "cell_type": "code",
      "execution_count": 29,
      "metadata": {
        "colab": {
          "base_uri": "https://localhost:8080/"
        },
        "id": "xrxxkjMSToqA",
        "outputId": "affcff76-b30a-4aab-af2e-ad5dd563432d"
      },
      "outputs": [
        {
          "output_type": "stream",
          "name": "stdout",
          "text": [
            "embeddings.tok_embeddings.weight\n",
            "embeddings.norm.weight\n",
            "layers.0.attn.Wqkv.weight\n",
            "layers.0.attn.Wo.weight\n",
            "layers.0.mlp_norm.weight\n",
            "layers.0.mlp.Wi.weight\n",
            "layers.0.mlp.Wo.weight\n",
            "layers.1.attn_norm.weight\n",
            "layers.1.attn.Wqkv.weight\n",
            "layers.1.attn.Wo.weight\n",
            "layers.1.mlp_norm.weight\n",
            "layers.1.mlp.Wi.weight\n",
            "layers.1.mlp.Wo.weight\n",
            "layers.2.attn_norm.weight\n",
            "layers.2.attn.Wqkv.weight\n",
            "layers.2.attn.Wo.weight\n",
            "layers.2.mlp_norm.weight\n",
            "layers.2.mlp.Wi.weight\n",
            "layers.2.mlp.Wo.weight\n",
            "layers.3.attn_norm.weight\n",
            "layers.3.attn.Wqkv.weight\n",
            "layers.3.attn.Wo.weight\n",
            "layers.3.mlp_norm.weight\n",
            "layers.3.mlp.Wi.weight\n",
            "layers.3.mlp.Wo.weight\n",
            "layers.4.attn_norm.weight\n",
            "layers.4.attn.Wqkv.weight\n",
            "layers.4.attn.Wo.weight\n",
            "layers.4.mlp_norm.weight\n",
            "layers.4.mlp.Wi.weight\n",
            "layers.4.mlp.Wo.weight\n",
            "layers.5.attn_norm.weight\n",
            "layers.5.attn.Wqkv.weight\n",
            "layers.5.attn.Wo.weight\n",
            "layers.5.mlp_norm.weight\n",
            "layers.5.mlp.Wi.weight\n",
            "layers.5.mlp.Wo.weight\n",
            "layers.6.attn_norm.weight\n",
            "layers.6.attn.Wqkv.weight\n",
            "layers.6.attn.Wo.weight\n",
            "layers.6.mlp_norm.weight\n",
            "layers.6.mlp.Wi.weight\n",
            "layers.6.mlp.Wo.weight\n",
            "layers.7.attn_norm.weight\n",
            "layers.7.attn.Wqkv.weight\n",
            "layers.7.attn.Wo.weight\n",
            "layers.7.mlp_norm.weight\n",
            "layers.7.mlp.Wi.weight\n",
            "layers.7.mlp.Wo.weight\n",
            "layers.8.attn_norm.weight\n",
            "layers.8.attn.Wqkv.weight\n",
            "layers.8.attn.Wo.weight\n",
            "layers.8.mlp_norm.weight\n",
            "layers.8.mlp.Wi.weight\n",
            "layers.8.mlp.Wo.weight\n",
            "layers.9.attn_norm.weight\n",
            "layers.9.attn.Wqkv.weight\n",
            "layers.9.attn.Wo.weight\n",
            "layers.9.mlp_norm.weight\n",
            "layers.9.mlp.Wi.weight\n",
            "layers.9.mlp.Wo.weight\n",
            "layers.10.attn_norm.weight\n",
            "layers.10.attn.Wqkv.weight\n",
            "layers.10.attn.Wo.weight\n",
            "layers.10.mlp_norm.weight\n",
            "layers.10.mlp.Wi.weight\n",
            "layers.10.mlp.Wo.weight\n",
            "layers.11.attn_norm.weight\n",
            "layers.11.attn.Wqkv.weight\n",
            "layers.11.attn.Wo.weight\n",
            "layers.11.mlp_norm.weight\n",
            "layers.11.mlp.Wi.weight\n",
            "layers.11.mlp.Wo.weight\n",
            "layers.12.attn_norm.weight\n",
            "layers.12.attn.Wqkv.weight\n",
            "layers.12.attn.Wo.weight\n",
            "layers.12.mlp_norm.weight\n",
            "layers.12.mlp.Wi.weight\n",
            "layers.12.mlp.Wo.weight\n",
            "layers.13.attn_norm.weight\n",
            "layers.13.attn.Wqkv.weight\n",
            "layers.13.attn.Wo.weight\n",
            "layers.13.mlp_norm.weight\n",
            "layers.13.mlp.Wi.weight\n",
            "layers.13.mlp.Wo.weight\n",
            "layers.14.attn_norm.weight\n",
            "layers.14.attn.Wqkv.weight\n",
            "layers.14.attn.Wo.weight\n",
            "layers.14.mlp_norm.weight\n",
            "layers.14.mlp.Wi.weight\n",
            "layers.14.mlp.Wo.weight\n",
            "layers.15.attn_norm.weight\n",
            "layers.15.attn.Wqkv.weight\n",
            "layers.15.attn.Wo.weight\n",
            "layers.15.mlp_norm.weight\n",
            "layers.15.mlp.Wi.weight\n",
            "layers.15.mlp.Wo.weight\n",
            "layers.16.attn_norm.weight\n",
            "layers.16.attn.Wqkv.weight\n",
            "layers.16.attn.Wo.weight\n",
            "layers.16.mlp_norm.weight\n",
            "layers.16.mlp.Wi.weight\n",
            "layers.16.mlp.Wo.weight\n",
            "layers.17.attn_norm.weight\n",
            "layers.17.attn.Wqkv.weight\n",
            "layers.17.attn.Wo.weight\n",
            "layers.17.mlp_norm.weight\n",
            "layers.17.mlp.Wi.weight\n",
            "layers.17.mlp.Wo.weight\n",
            "layers.18.attn_norm.weight\n",
            "layers.18.attn.Wqkv.weight\n",
            "layers.18.attn.Wo.weight\n",
            "layers.18.mlp_norm.weight\n",
            "layers.18.mlp.Wi.weight\n",
            "layers.18.mlp.Wo.weight\n",
            "layers.19.attn_norm.weight\n",
            "layers.19.attn.Wqkv.weight\n",
            "layers.19.attn.Wo.weight\n",
            "layers.19.mlp_norm.weight\n",
            "layers.19.mlp.Wi.weight\n",
            "layers.19.mlp.Wo.weight\n",
            "layers.20.attn_norm.weight\n",
            "layers.20.attn.Wqkv.weight\n",
            "layers.20.attn.Wo.weight\n",
            "layers.20.mlp_norm.weight\n",
            "layers.20.mlp.Wi.weight\n",
            "layers.20.mlp.Wo.weight\n",
            "layers.21.attn_norm.weight\n",
            "layers.21.attn.Wqkv.weight\n",
            "layers.21.attn.Wo.weight\n",
            "layers.21.mlp_norm.weight\n",
            "layers.21.mlp.Wi.weight\n",
            "layers.21.mlp.Wo.weight\n",
            "final_norm.weight\n"
          ]
        }
      ],
      "source": [
        "for name, param in mbert_model.named_parameters():\n",
        "    print(name)"
      ]
    },
    {
      "cell_type": "markdown",
      "metadata": {
        "id": "KI01Bt1qWP8n"
      },
      "source": [
        "What differences do you see when comparing the layers?"
      ]
    },
    {
      "cell_type": "markdown",
      "metadata": {
        "id": "a4UR8YpwTip1"
      },
      "source": [
        "# Model outputs\n",
        "\n",
        "We have seen the differences in inputs and model architecture, let's now take a look at model outputs"
      ]
    },
    {
      "cell_type": "markdown",
      "metadata": {
        "id": "fETmJPVWmWlI"
      },
      "source": [
        "Remember, our text is too long for BERT, so we must truncate it before we can feed the tokenized inputs to the model"
      ]
    },
    {
      "cell_type": "code",
      "execution_count": 30,
      "metadata": {
        "colab": {
          "base_uri": "https://localhost:8080/"
        },
        "id": "3RG1Lqj8mQxo",
        "outputId": "8d3e1b21-31c2-40d0-80ff-29cc57440461"
      },
      "outputs": [
        {
          "output_type": "execute_result",
          "data": {
            "text/plain": [
              "BaseModelOutputWithPoolingAndCrossAttentions(last_hidden_state=tensor([[[ 0.5935,  0.0940, -0.1687,  ..., -0.3806,  0.0434,  0.3832],\n",
              "         [ 0.4253, -0.4766,  0.7440,  ..., -0.3942,  0.3230,  0.2140],\n",
              "         [ 0.4182, -0.5374,  0.5692,  ..., -0.2323, -0.0629,  1.2690],\n",
              "         ...,\n",
              "         [ 0.5098, -0.5685,  0.2344,  ..., -0.5356,  0.0076,  0.3847],\n",
              "         [ 0.4078, -0.4184,  0.0023,  ..., -0.1491, -0.1271,  0.2958],\n",
              "         [ 1.3882,  0.1162,  1.2960,  ...,  0.3271,  0.2593, -0.2280]]],\n",
              "       grad_fn=<NativeLayerNormBackward0>), pooler_output=tensor([[-5.8410e-01,  3.0264e-01,  9.9930e-01, -9.6620e-01,  8.9615e-01,\n",
              "          9.3145e-01,  7.0277e-01, -9.9296e-01, -8.9288e-01,  6.4332e-02,\n",
              "          9.1099e-01,  9.9563e-01, -9.9678e-01, -9.9903e-01,  7.9328e-01,\n",
              "         -8.7767e-01,  9.3608e-01, -5.5321e-01, -9.9983e-01, -4.3656e-01,\n",
              "         -5.8476e-01, -9.9944e-01,  1.0964e-01,  9.4960e-01,  7.4010e-01,\n",
              "          9.5588e-02,  9.5480e-01,  9.9985e-01,  3.6780e-01, -7.1419e-02,\n",
              "          1.5343e-01, -9.6342e-01,  8.0601e-01, -9.9523e-01,  2.3721e-01,\n",
              "          5.7080e-01,  6.7148e-01, -1.1572e-01,  3.4121e-02, -9.6574e-01,\n",
              "          9.3264e-02, -8.1856e-02,  5.0594e-01, -3.3878e-01,  9.0800e-01,\n",
              "         -8.7438e-02,  1.0873e-01, -7.0242e-02, -2.1631e-01,  9.9912e-01,\n",
              "         -6.7767e-01,  8.5516e-01, -9.9331e-01,  8.1020e-01,  9.7947e-01,\n",
              "          9.2903e-02,  9.8613e-01,  6.2484e-02, -9.9823e-01, -2.5996e-01,\n",
              "          9.3471e-01,  2.4519e-01,  7.3368e-01,  4.3069e-01,  7.7861e-02,\n",
              "         -2.7087e-01, -6.1349e-01,  1.9892e-01, -1.9870e-01, -4.1420e-02,\n",
              "         -2.2974e-01,  1.5551e-01,  8.8369e-01, -7.2188e-01, -1.3030e-01,\n",
              "         -7.2228e-01,  8.6980e-02, -9.9951e-01,  7.8917e-01,  9.9984e-01,\n",
              "          7.9675e-01, -9.9898e-01,  9.5664e-01, -3.5850e-01, -7.5224e-01,\n",
              "          6.3721e-01, -9.9897e-01, -9.9861e-01, -4.0646e-02,  2.7731e-01,\n",
              "          7.8841e-01, -9.5581e-01,  4.9356e-01, -8.1524e-01,  9.9988e-01,\n",
              "         -9.2398e-01, -2.0302e-01,  2.3728e-01,  9.0461e-01, -8.6807e-01,\n",
              "         -6.8295e-02,  6.8471e-01,  9.9809e-01, -9.9607e-01,  9.9796e-01,\n",
              "          3.6687e-01, -7.6389e-01, -8.2652e-01,  5.6332e-01,  1.6990e-01,\n",
              "          8.9584e-01, -9.1908e-01, -7.0620e-01,  9.2570e-02,  9.5404e-01,\n",
              "         -8.4261e-01,  9.4571e-01,  6.9898e-01, -1.3166e-01,  9.9991e-01,\n",
              "          8.6629e-04,  9.6499e-01,  9.9181e-01,  7.3346e-01, -7.3252e-01,\n",
              "         -1.6990e-01, -4.5202e-01,  8.8734e-01, -3.9905e-01,  2.1717e-01,\n",
              "          7.1759e-01, -9.5522e-01, -9.9799e-01,  9.9785e-01, -2.3564e-01,\n",
              "          9.9983e-01, -9.9740e-01,  9.8551e-01, -9.9964e-01, -8.8597e-01,\n",
              "         -6.3065e-01, -6.1943e-02, -9.8140e-01, -3.8314e-01,  9.6079e-01,\n",
              "         -3.5563e-02, -8.9131e-01, -9.4146e-01,  6.0549e-01, -7.9863e-01,\n",
              "          3.7850e-01,  2.2629e-01, -6.2396e-01,  6.8146e-01,  9.9628e-01,\n",
              "          9.4864e-01,  9.6761e-01,  2.6589e-01, -9.2230e-01,  7.9300e-01,\n",
              "          9.5846e-01, -9.9813e-01,  8.9732e-01, -9.9189e-01,  9.9563e-01,\n",
              "          8.4069e-01,  7.1321e-01, -9.9685e-01,  9.9961e-01, -5.5877e-01,\n",
              "          1.1755e-01,  6.7096e-01, -1.5607e-02, -9.9877e-01,  3.9619e-01,\n",
              "          4.5943e-01, -1.5558e-01,  9.9727e-01, -9.5714e-01,  9.9774e-01,\n",
              "          1.3243e-02,  4.9255e-01,  3.5772e-01,  9.9831e-01, -9.9158e-01,\n",
              "         -8.0291e-01, -9.4892e-01,  1.9027e-01,  6.8126e-01,  6.1750e-01,\n",
              "          6.7569e-01,  7.8732e-01,  9.9828e-01, -2.9757e-01, -9.9001e-01,\n",
              "         -4.1553e-01,  9.5287e-01, -2.0856e-01,  9.9985e-01, -2.6419e-01,\n",
              "         -9.9937e-01, -8.2160e-01,  8.9943e-01,  8.1914e-01, -1.6182e-01,\n",
              "          8.1462e-01, -5.2396e-01, -2.8664e-01,  9.6293e-01, -6.9405e-01,\n",
              "          9.9832e-01, -3.6128e-03,  6.1132e-01,  3.8594e-01,  8.8349e-01,\n",
              "         -5.3315e-01, -1.6408e-01,  1.2694e-01, -7.5518e-01,  9.9957e-01,\n",
              "         -9.9856e-01, -1.6731e-01, -3.7634e-02, -9.8519e-01, -9.9560e-01,\n",
              "          6.2436e-01,  8.0068e-02, -6.4282e-01, -1.3642e-01,  6.1741e-01,\n",
              "          3.6457e-02,  7.8893e-01,  9.6491e-01, -3.9165e-01, -6.0784e-01,\n",
              "         -9.9932e-01, -9.9750e-01,  2.3790e-02, -9.1867e-01, -4.1951e-02,\n",
              "          6.5721e-01, -1.3801e-01, -7.4794e-01, -9.9856e-01,  7.6599e-01,\n",
              "          7.6082e-01, -9.3422e-01,  2.2876e-02, -7.3960e-01, -9.9835e-01,\n",
              "          2.4610e-01, -6.4626e-01, -9.9438e-01,  9.9815e-01, -6.6259e-01,\n",
              "          9.9429e-01,  7.7789e-01, -9.7316e-01,  7.5115e-01, -9.9838e-01,\n",
              "         -2.1761e-01, -7.2139e-01,  2.4360e-01,  6.5463e-02, -6.3552e-01,\n",
              "          1.5406e-01,  9.7360e-01, -7.6235e-01, -7.6524e-01,  7.9072e-01,\n",
              "         -9.9919e-01,  7.1930e-01, -3.0343e-02,  9.9774e-01,  7.3305e-01,\n",
              "         -1.8898e-01,  8.4528e-01,  8.9185e-01, -9.8000e-01, -9.9931e-01,\n",
              "          8.7562e-01,  4.7078e-01, -9.7402e-01, -1.9808e-01,  9.9971e-01,\n",
              "         -9.9770e-01,  1.2563e-01, -8.2274e-01, -9.3619e-01, -9.9881e-01,\n",
              "          3.3897e-01, -6.8748e-01,  1.8618e-01,  8.5998e-01,  1.4464e-01,\n",
              "          1.5673e-01,  9.7794e-01,  7.4372e-01,  2.8083e-01, -1.1857e-02,\n",
              "          1.1291e-01, -9.1355e-01, -4.6354e-01,  3.6870e-02,  3.8867e-02,\n",
              "         -9.9978e-01,  9.9928e-01, -9.8119e-01,  7.3831e-01,  9.6325e-01,\n",
              "         -9.9413e-01,  5.8742e-01,  2.1178e-01, -9.3855e-01, -1.8942e-02,\n",
              "          9.9969e-01,  8.0575e-01, -1.6764e-02,  1.8186e-01,  9.5256e-01,\n",
              "         -9.4177e-02,  6.5096e-01, -8.6763e-01, -4.4254e-01,  1.5096e-01,\n",
              "         -8.8588e-01,  9.8995e-01,  8.2660e-01, -9.5530e-01,  9.9444e-01,\n",
              "          1.0205e-01, -2.3893e-01, -6.3873e-01,  4.5051e-01,  9.4024e-01,\n",
              "          9.7333e-03, -3.8614e-01, -4.2612e-01, -3.7206e-03, -9.8418e-01,\n",
              "         -1.5258e-01, -9.9191e-01, -1.4834e-01,  8.6001e-01,  8.4497e-01,\n",
              "         -9.3132e-01,  7.7044e-01, -6.7252e-02,  8.3708e-01, -9.9735e-01,\n",
              "          9.9994e-01, -8.7027e-01,  1.6736e-01,  7.1710e-01, -8.7973e-01,\n",
              "         -2.0531e-01,  9.0445e-01,  9.8367e-01,  9.4210e-01, -8.9663e-01,\n",
              "         -8.0824e-01,  4.4318e-01,  8.4767e-01, -9.7307e-01, -9.7091e-02,\n",
              "         -9.9936e-01, -8.5246e-01,  9.6997e-01,  9.9689e-01,  2.8174e-02,\n",
              "         -4.9814e-01, -9.9739e-01,  8.5144e-01, -7.8339e-01, -5.7165e-01,\n",
              "         -1.4819e-01, -7.6239e-01,  5.0902e-01,  9.9785e-01, -5.2633e-01,\n",
              "          7.2047e-01,  3.5954e-02, -8.3544e-01,  7.3413e-01,  7.5778e-01,\n",
              "          9.9952e-01, -9.3652e-01,  5.3679e-01,  9.3030e-01, -5.1551e-02,\n",
              "         -7.6572e-01,  6.3139e-02,  9.9882e-01, -9.2061e-01, -1.1983e-01,\n",
              "         -9.9832e-01, -2.1230e-01, -1.1371e-01, -5.7941e-01, -5.9803e-01,\n",
              "          5.2512e-03, -8.6755e-01,  9.2965e-01,  6.1991e-01,  4.0540e-01,\n",
              "         -4.0696e-01,  6.5047e-01, -4.3759e-01, -5.9639e-02, -3.5947e-01,\n",
              "         -1.4891e-01,  4.2398e-01,  1.2092e-01,  8.4941e-01, -6.1199e-01,\n",
              "          9.9888e-01,  2.0605e-02, -9.9983e-01, -9.9804e-01, -7.5979e-01,\n",
              "         -9.9754e-01, -3.6530e-01, -8.7542e-01,  9.4455e-01,  9.4437e-01,\n",
              "         -9.9871e-01, -9.9864e-01, -8.3780e-01, -8.0400e-01,  7.7003e-01,\n",
              "          4.4653e-02,  8.7672e-02,  5.1311e-01, -1.4257e-02,  9.7379e-02,\n",
              "         -2.5116e-01, -7.2727e-02, -6.0417e-01, -3.3742e-01, -9.9720e-01,\n",
              "          8.6307e-01, -9.9981e-01, -8.8602e-01,  9.9712e-01, -9.9632e-01,\n",
              "         -9.1453e-01, -7.6265e-01, -8.7942e-01, -5.2777e-01,  1.0187e-01,\n",
              "          8.6628e-01, -5.5810e-01, -7.6797e-01, -9.9749e-01,  9.5135e-01,\n",
              "         -7.8158e-01,  1.9349e-01, -8.7656e-01, -8.6784e-01,  9.9857e-01,\n",
              "          9.0132e-01,  1.0297e-01, -1.7388e-01, -9.9703e-01,  9.8191e-01,\n",
              "         -8.2070e-01, -8.9399e-01, -8.3707e-01, -2.2066e-02, -3.9223e-01,\n",
              "         -9.9883e-01,  3.1522e-02,  9.9693e-01,  8.1203e-01,  9.5197e-01,\n",
              "          1.0209e-01, -2.2325e-01, -8.3589e-01,  1.8971e-01, -9.9980e-01,\n",
              "          7.7251e-01,  8.7684e-01, -8.6329e-01, -6.2393e-01,  9.8046e-01,\n",
              "          8.0163e-01, -9.1323e-01, -9.8622e-01,  9.4499e-01,  3.9214e-01,\n",
              "          7.1335e-01, -6.0534e-01, -4.1703e-01,  3.6311e-01, -3.6054e-02,\n",
              "         -9.6733e-01, -6.5509e-01,  9.8941e-01, -9.9883e-01,  9.1965e-01,\n",
              "          9.9470e-01,  9.9835e-01, -2.7217e-01,  3.5714e-01, -9.8183e-01,\n",
              "         -7.3069e-01, -2.3686e-01,  2.8877e-01, -9.9973e-01,  9.9936e-01,\n",
              "         -9.9980e-01,  7.0083e-01, -6.8593e-01,  6.9888e-01,  9.8337e-01,\n",
              "         -3.0083e-01, -9.9965e-01, -9.9940e-01,  7.3178e-01,  7.0975e-02,\n",
              "          9.5615e-01,  2.6224e-01,  6.8535e-02, -7.8356e-01, -2.9336e-01,\n",
              "          9.8399e-01, -7.5783e-01, -4.2945e-01, -9.9851e-01,  9.9885e-01,\n",
              "          4.6250e-01, -9.9067e-01,  9.9266e-01, -9.9760e-01,  8.9149e-01,\n",
              "          8.5303e-01,  6.3637e-01,  6.9369e-01, -9.9889e-01,  9.9985e-01,\n",
              "         -9.9940e-01,  8.2305e-01, -9.9988e-01, -9.9903e-01,  9.9931e-01,\n",
              "         -9.5967e-01, -7.4655e-01, -9.9903e-01, -9.9705e-01,  8.0581e-01,\n",
              "          1.3387e-01, -4.0749e-01,  9.5709e-01, -9.9913e-01, -9.9348e-01,\n",
              "         -4.8434e-01, -8.8434e-01, -7.1351e-01,  9.9202e-01, -4.2931e-01,\n",
              "          9.0131e-01, -2.5380e-01,  6.7407e-01,  1.8382e-01,  9.9532e-01,\n",
              "          7.8861e-01, -6.1045e-01, -8.8052e-01, -9.8013e-01,  9.3874e-01,\n",
              "         -6.9823e-01,  1.5810e-01,  7.2539e-01, -8.0743e-02, -7.3971e-01,\n",
              "          2.1285e-01, -9.9294e-01,  6.0450e-01,  1.9837e-01,  9.5435e-01,\n",
              "          9.2623e-01,  7.3446e-01, -1.5829e-01, -3.9911e-01, -1.6699e-01,\n",
              "         -9.4514e-01,  5.3317e-01, -9.9807e-01,  7.9529e-01, -8.1783e-01,\n",
              "         -2.2800e-02, -4.3114e-01, -2.8864e-01, -6.7582e-01,  9.9818e-01,\n",
              "          9.9429e-01, -8.3768e-01, -3.6043e-02,  9.4775e-01, -7.0868e-01,\n",
              "          7.8949e-01, -9.7776e-01, -2.4615e-02,  9.1519e-01, -2.4871e-01,\n",
              "          9.1743e-01, -1.0177e-01, -1.7111e-02,  8.8072e-01, -9.8735e-01,\n",
              "         -7.7672e-01, -5.5635e-01,  2.1299e-01, -5.1817e-01, -9.1619e-01,\n",
              "          2.6403e-02,  9.8789e-01, -5.0765e-01, -9.9927e-01,  9.5793e-01,\n",
              "         -9.9766e-01, -1.6029e-01,  9.4239e-01, -5.8731e-01,  9.9958e-01,\n",
              "         -8.7988e-01,  5.8188e-02, -2.5852e-02, -9.9920e-01, -9.9926e-01,\n",
              "          6.0246e-02, -7.4651e-02, -9.7408e-01,  9.9883e-01, -5.8898e-02,\n",
              "          8.7604e-01, -9.9933e-01,  2.1828e-01,  9.9540e-01,  1.9400e-01,\n",
              "          4.9669e-01, -8.6319e-01, -6.7310e-01, -9.4338e-01, -3.5492e-01,\n",
              "          1.2480e-01,  7.4864e-01, -8.9541e-01, -8.9164e-01, -7.9287e-01,\n",
              "          9.9974e-01, -9.9302e-01, -5.8616e-01, -8.1951e-01,  7.5901e-01,\n",
              "          9.1131e-01,  3.4101e-01,  1.5840e-01, -7.3799e-01,  9.3804e-01,\n",
              "         -8.8358e-01,  9.9191e-01, -9.8413e-01, -9.6994e-01,  9.9934e-01,\n",
              "          2.8867e-01, -9.8669e-01, -2.3692e-01, -2.4899e-01,  4.3608e-01,\n",
              "          1.4545e-01,  6.0847e-01, -1.2719e-01, -1.2161e-01, -8.4559e-01,\n",
              "          7.7135e-01, -6.7051e-01, -9.6252e-01,  2.8750e-01, -1.5456e-01,\n",
              "         -6.3553e-01,  9.8236e-01,  8.9337e-01,  9.9976e-01, -9.9917e-01,\n",
              "          7.7679e-02,  7.7487e-02,  9.9756e-01,  4.1714e-02, -5.8849e-01,\n",
              "          7.7294e-01,  9.9846e-01, -8.0433e-01,  5.8799e-01, -7.9005e-02,\n",
              "         -1.2893e-03,  2.6761e-01, -3.0021e-01,  9.9773e-01, -9.1677e-01,\n",
              "         -4.1637e-02, -9.1545e-01, -9.9959e-01,  9.9956e-01, -1.2335e-01,\n",
              "          9.6817e-01,  3.1384e-01,  7.8995e-01,  6.9747e-02,  9.6560e-01,\n",
              "         -9.6982e-01, -7.0725e-01, -9.9980e-01,  6.7027e-02, -7.6820e-01,\n",
              "         -9.5286e-01,  7.5772e-02,  8.9075e-01, -9.9857e-01, -9.3012e-01,\n",
              "         -4.0138e-01, -9.9992e-01,  7.9088e-01, -9.8835e-01, -8.6094e-01,\n",
              "         -8.5343e-01,  9.9840e-01,  1.0849e-01, -7.1413e-01,  8.0914e-01,\n",
              "         -6.9948e-01,  8.9800e-01,  8.9527e-01, -4.3698e-01,  4.1742e-01,\n",
              "         -1.1605e-01, -6.9357e-01, -9.9015e-01, -9.3240e-01, -7.9463e-01,\n",
              "          8.0282e-01, -9.4678e-01,  1.1889e-01,  9.8838e-01,  9.2091e-01,\n",
              "         -9.9615e-01, -9.8770e-01,  9.9339e-01,  6.0688e-02,  9.3697e-01,\n",
              "         -1.6057e-01, -9.9938e-01, -9.9962e-01,  1.6786e-01,  2.6170e-01,\n",
              "          9.7812e-01, -2.4267e-01,  6.6393e-01,  1.5277e-01,  7.6268e-02,\n",
              "          3.2090e-01, -6.7380e-01, -4.6392e-01, -4.6153e-01, -1.0765e-01,\n",
              "          9.9985e-01, -5.5829e-01,  9.5898e-01]], grad_fn=<TanhBackward0>), hidden_states=None, past_key_values=None, attentions=None, cross_attentions=None)"
            ]
          },
          "metadata": {},
          "execution_count": 30
        }
      ],
      "source": [
        "bert_inputs = bert_tokenizer(text, return_tensors=\"pt\", truncation=True)\n",
        "bert_outputs = bert_model(**bert_inputs)\n",
        "bert_outputs"
      ]
    },
    {
      "cell_type": "markdown",
      "metadata": {
        "id": "4rAxaG9KmxRf"
      },
      "source": [
        "BERT has two outputs, do you remember what they are?"
      ]
    },
    {
      "cell_type": "markdown",
      "source": [
        "You’re seeing the two *standard* BERT outputs:\n",
        "\n",
        "1. **`last_hidden_state`** – shape `[batch, seq_len, hidden]`\n",
        "   The final-layer vector for **every token**, including `[CLS]` and `[SEP]`. Use this when you need token features (sequence labeling) or when you want to pool over tokens yourself (e.g., mean/max/attention pooling) for a sentence/document vector.\n",
        "\n",
        "2. **`pooler_output`** – shape `[batch, hidden]`\n",
        "   A **single vector per sequence** made by taking the **[CLS] token** from `last_hidden_state`, passing it through a learned dense layer + `tanh`. It existed for BERT’s original **Next Sentence Prediction** objective and is often used as a quick sentence representation for classification heads.\n",
        "\n",
        "A few tips:\n",
        "\n",
        "* Many modern setups **ignore the pooler** and instead use `[CLS]` directly (`last_hidden_state[:,0,:]`) or **mean-pool** the non-pad tokens; these can work better depending on the task.\n",
        "* If you want **more** (all layers or attention maps), set:\n",
        "\n",
        "  ```python\n",
        "  out = bert_model(**bert_inputs, output_hidden_states=True, output_attentions=True, return_dict=True)\n",
        "  ```\n",
        "* Models like **ModernBERT** typically **don’t have a pooler**, so you’ll just use your own pooling on `last_hidden_state`.\n"
      ],
      "metadata": {
        "id": "AbLRavpNfNZ3"
      }
    },
    {
      "cell_type": "code",
      "execution_count": 31,
      "metadata": {
        "colab": {
          "base_uri": "https://localhost:8080/"
        },
        "id": "9vuPMy9UJXz8",
        "outputId": "7b3e1579-a383-4eeb-cfab-35650405a3a1"
      },
      "outputs": [
        {
          "output_type": "stream",
          "name": "stdout",
          "text": [
            "Shape of first BERT output:  torch.Size([1, 512, 768])\n",
            "Shape of second BERT output:  torch.Size([1, 768])\n"
          ]
        }
      ],
      "source": [
        "print('Shape of first BERT output: ', bert_outputs[0].shape)\n",
        "print('Shape of second BERT output: ', bert_outputs[1].shape)"
      ]
    },
    {
      "cell_type": "markdown",
      "metadata": {
        "id": "7QUsJwWZm7P4"
      },
      "source": [
        "With ModernBERT, thanks to the long context capabilities, we do not need to truncate our long text before feeding it to the model."
      ]
    },
    {
      "cell_type": "code",
      "execution_count": 32,
      "metadata": {
        "colab": {
          "base_uri": "https://localhost:8080/"
        },
        "id": "uFIpBPQvnD_F",
        "outputId": "c02d3017-f46f-4c12-cde7-b5d781d52c2b"
      },
      "outputs": [
        {
          "output_type": "execute_result",
          "data": {
            "text/plain": [
              "BaseModelOutput(last_hidden_state=tensor([[[ 0.1680, -0.3384, -0.7694,  ..., -0.4745, -0.1105, -0.7589],\n",
              "         [-0.8740, -0.3295,  0.6591,  ..., -1.9694, -2.3188,  0.4383],\n",
              "         [ 0.3498, -1.4112,  0.0969,  ...,  0.4195,  0.0887, -0.6138],\n",
              "         ...,\n",
              "         [ 1.8556, -0.1904, -1.1067,  ..., -1.8617,  0.1445, -0.0550],\n",
              "         [ 0.2851, -0.9601, -0.9530,  ..., -1.6096,  0.1400,  0.2290],\n",
              "         [ 0.1789, -0.0395,  0.0412,  ...,  0.0570,  0.1783,  0.1189]]],\n",
              "       grad_fn=<NativeLayerNormBackward0>), hidden_states=None, attentions=None)"
            ]
          },
          "metadata": {},
          "execution_count": 32
        }
      ],
      "source": [
        "# this cell takes a minute to run because our text is so long\n",
        "mbert_inputs = mbert_tokenizer(text, return_tensors=\"pt\")\n",
        "mbert_outputs = mbert_model(**mbert_inputs)\n",
        "mbert_outputs"
      ]
    },
    {
      "cell_type": "markdown",
      "metadata": {
        "id": "lrrln-jsnMwL"
      },
      "source": [
        "Interesting! ModernBERT only has one output!"
      ]
    },
    {
      "cell_type": "code",
      "execution_count": 33,
      "metadata": {
        "colab": {
          "base_uri": "https://localhost:8080/"
        },
        "id": "DLIupZHsnDsP",
        "outputId": "d26cfa90-c3d6-47ea-f4e2-22e313e5e81b"
      },
      "outputs": [
        {
          "output_type": "stream",
          "name": "stdout",
          "text": [
            "Shape of ModernBERT output:  torch.Size([1, 2671, 768])\n"
          ]
        }
      ],
      "source": [
        "print('Shape of ModernBERT output: ', mbert_outputs[0].shape)"
      ]
    },
    {
      "cell_type": "markdown",
      "metadata": {
        "id": "S6MM_BQwnh7r"
      },
      "source": [
        "Compare the first output from BERT and the only output from ModernBERT, what is the difference? What does the 2nd dimension represent?"
      ]
    },
    {
      "cell_type": "markdown",
      "source": [
        "Two key differences:\n",
        "\n",
        "* **What you get back**\n",
        "\n",
        "  * **BERT:** `BaseModelOutputWithPooling...` → it has **`last_hidden_state`** *and* a **`pooler_output`**.\n",
        "  * **ModernBERT:** `BaseModelOutput` → only **`last_hidden_state`** (no pooler).\n",
        "\n",
        "* **How long the sequence is**\n",
        "\n",
        "  * Your BERT call used `truncation=True`, so `last_hidden_state` is **[1, 512, 768]** (BERT can’t exceed 512).\n",
        "  * ModernBERT returned **[1, 2671, 768]** — it processed the **entire tokenized sequence** thanks to its long context.\n",
        "\n",
        "And to the second question: the **2nd dimension is the sequence length in tokens** (subword tokens, including specials like `[CLS]`/`[SEP]`).\n",
        "So shapes are **[batch_size, seq_len, hidden_size]** → here: batch=1, seq_len=2671, hidden=768.\n"
      ],
      "metadata": {
        "id": "pxAtgszZgHrD"
      }
    },
    {
      "cell_type": "code",
      "execution_count": null,
      "metadata": {
        "colab": {
          "base_uri": "https://localhost:8080/"
        },
        "id": "0KkmWeaKmG62",
        "outputId": "468f0824-65d8-4a23-9aa3-cfc4355be8bc"
      },
      "outputs": [
        {
          "output_type": "stream",
          "name": "stdout",
          "text": [
            "Last hidden state shape\n",
            "torch.Size([1, 512, 768])\n",
            "Last hidden state\n",
            "tensor([[[ 0.5935,  0.0940, -0.1687,  ..., -0.3806,  0.0434,  0.3832],\n",
            "         [ 0.4253, -0.4766,  0.7440,  ..., -0.3942,  0.3230,  0.2140],\n",
            "         [ 0.4182, -0.5374,  0.5692,  ..., -0.2323, -0.0629,  1.2690],\n",
            "         ...,\n",
            "         [ 0.5098, -0.5685,  0.2344,  ..., -0.5356,  0.0076,  0.3847],\n",
            "         [ 0.4078, -0.4184,  0.0023,  ..., -0.1491, -0.1271,  0.2958],\n",
            "         [ 1.3882,  0.1162,  1.2960,  ...,  0.3271,  0.2593, -0.2280]]],\n",
            "       grad_fn=<NativeLayerNormBackward0>)\n"
          ]
        }
      ],
      "source": [
        "bert_lhs_shape = bert_outputs.last_hidden_state.shape\n",
        "bert_lhs_data = bert_outputs.last_hidden_state\n",
        "\n",
        "print(\"Last hidden state shape\")\n",
        "print(bert_lhs_shape)\n",
        "\n",
        "print(\"Last hidden state\")\n",
        "print(bert_lhs_data)"
      ]
    },
    {
      "cell_type": "code",
      "execution_count": null,
      "metadata": {
        "colab": {
          "base_uri": "https://localhost:8080/"
        },
        "id": "x_YUd8ApB0gL",
        "outputId": "ab6bde1e-58e8-41ed-fadf-cf936476ebd9"
      },
      "outputs": [
        {
          "output_type": "stream",
          "name": "stdout",
          "text": [
            "Last hidden state shape\n",
            "torch.Size([1, 2671, 768])\n",
            "Last hidden state\n",
            "tensor([[[ 0.1680, -0.3384, -0.7694,  ..., -0.4745, -0.1105, -0.7589],\n",
            "         [-0.8740, -0.3295,  0.6591,  ..., -1.9694, -2.3188,  0.4383],\n",
            "         [ 0.3498, -1.4112,  0.0969,  ...,  0.4195,  0.0887, -0.6138],\n",
            "         ...,\n",
            "         [ 1.8556, -0.1904, -1.1067,  ..., -1.8617,  0.1445, -0.0550],\n",
            "         [ 0.2851, -0.9601, -0.9530,  ..., -1.6096,  0.1400,  0.2290],\n",
            "         [ 0.1789, -0.0395,  0.0412,  ...,  0.0570,  0.1783,  0.1189]]],\n",
            "       grad_fn=<NativeLayerNormBackward0>)\n"
          ]
        }
      ],
      "source": [
        "mbert_lhs_shape = mbert_outputs.last_hidden_state.shape\n",
        "mbert_lhs_data = mbert_outputs.last_hidden_state\n",
        "\n",
        "print(\"Last hidden state shape\")\n",
        "print(mbert_lhs_shape)\n",
        "\n",
        "print(\"Last hidden state\")\n",
        "print(mbert_lhs_data)"
      ]
    },
    {
      "cell_type": "markdown",
      "metadata": {
        "id": "2oUEihv3IJFw"
      },
      "source": [
        "As expected, the output tensors from the two models are different.\n",
        "\n",
        "What advantage does long context capability have over short context model? Why might one prefer one model over another for their task?"
      ]
    },
    {
      "cell_type": "markdown",
      "source": [
        "Great question. Here’s the quick intuition and a pragmatic checklist.\n",
        "\n",
        "# Why long-context helps\n",
        "\n",
        "* **Captures far-apart evidence.** Lets the model reason over cues that are **hundreds/thousands of tokens apart** (e.g., early history vs. late assessment in a discharge note; cross-section references in legal/technical docs).\n",
        "* **Less glue code.** No need for **chunking, sliding windows, or hierarchical pooling**—fewer engineering choices that can drop signal or bias results.\n",
        "* **Global coherence.** Better at **coreference, timelines, discourse** and “A refers to B above” style dependencies.\n",
        "* **Fewer truncation errors.** You don’t silently lose important tail content at 512 tokens.\n",
        "\n",
        "# Why short-context can still win\n",
        "\n",
        "* **Speed & cost.** Short models are **smaller, cheaper, faster**, with higher batch throughput and simpler deployments.\n",
        "* **Task fit.** Many tasks only need **a sentence/paragraph** (NER, short QA, sentence classification, pairwise STS). Long context adds little.\n",
        "* **Maturity & availability.** Tons of **well-tested checkpoints, adapters, and recipes** exist for 512-token models.\n",
        "* **Noise control.** Long documents contain **distractors**; a short-context + **retrieval/selection** pipeline can be more precise and cheaper.\n",
        "\n",
        "# Trade-offs at a glance\n",
        "\n",
        "* **Compute/memory:** Long context ↑ memory/latency (even with FlashAttention/RoPE); short context is lean.\n",
        "* **Data efficiency:** Long context may need **more data/regularization** to not overfit spurious long-range patterns.\n",
        "* **Implementation:** Long context is simpler at modeling time; short context needs **chunking/RAG/hierarchical** tricks—but those can be tailored and audited.\n",
        "\n",
        "# What to choose for common scenarios\n",
        "\n",
        "* **Clinical readmission from discharge notes:** Long-context (e.g., ModernBERT 8k) usually better—signals spread across sections (HPI, Course, A/P).\n",
        "  If constrained to 512: do **section-aware chunking + attention pooling** and consider adding structured EHR features.\n",
        "* **ICD code assignment from short summaries:** Either works; short-context is fine if summaries fit ≤512.\n",
        "* **Legal/finance reports, research papers:** Long-context shines for cross-section reasoning; otherwise do retrieval over sections + short model.\n",
        "* **Sentence-level NER, small intent classification, pair matching:** Short-context—faster, cheaper, no benefit from long windows.\n",
        "\n",
        "# Simple decision checklist\n",
        "\n",
        "1. **Does important evidence span >512 tokens?** → pick **long**; else **short**.\n",
        "2. **Latency/cost budget tight?** → **short** (or long only at inference for hard cases).\n",
        "3. **Need auditability/consistency?** → short with **explicit retrieval/sectioning** can be easier to inspect.\n",
        "4. **Engineering capacity:** if you don’t want chunking/aggregation logic → **long**.\n",
        "5. **Data volume:** low data + long docs → consider **long** + strong regularization, or **short** with retrieval to reduce noise.\n",
        "\n",
        "Bottom line: use **long-context** when meaning depends on **distant context** or you want to avoid chunking complexity; stick with **short-context** when inputs are short, budgets tight, or you prefer modular retrieval + lightweight models.\n"
      ],
      "metadata": {
        "id": "AEECOUAlgtOG"
      }
    },
    {
      "cell_type": "markdown",
      "metadata": {
        "id": "8ljUlpnCqi3q"
      },
      "source": [
        "# Inference Speed\n",
        "\n",
        "To make an apple-to-apple comparison of inference speed between the two models, let's truncate the long text to 512 tokens for both models."
      ]
    },
    {
      "cell_type": "code",
      "execution_count": 34,
      "metadata": {
        "colab": {
          "base_uri": "https://localhost:8080/"
        },
        "id": "52I15Kx2rZ79",
        "outputId": "20061430-8cec-4712-ac5c-3b6fc9093296"
      },
      "outputs": [
        {
          "output_type": "execute_result",
          "data": {
            "text/plain": [
              "5"
            ]
          },
          "metadata": {},
          "execution_count": 34
        }
      ],
      "source": [
        "texts = dataset[\"positive\"]\n",
        "len(texts)"
      ]
    },
    {
      "cell_type": "code",
      "source": [
        "dataset['positive'][4]"
      ],
      "metadata": {
        "colab": {
          "base_uri": "https://localhost:8080/",
          "height": 105
        },
        "id": "V8n6zWJltFBT",
        "outputId": "05482ea4-b964-4c20-b911-f5728003b7f8"
      },
      "execution_count": 35,
      "outputs": [
        {
          "output_type": "execute_result",
          "data": {
            "text/plain": [
              "'Bridgewater is a town in Aroostook County, Maine, United States. The population was 532 at the 2020 census.\\n\\nGeography\\nAccording to the United States Census Bureau, the town has a total area of , of which  is land and  is water.\\n\\nClimate\\nThis climatic region is typified by large seasonal temperature differences, with warm to hot (and often humid) summers and cold (sometimes severely cold) winters. According to the Köppen Climate Classification system, Bridgewater has a humid continental climate, abbreviated \"Dfb\" on climate maps.\\n\\nDemographics\\n\\n2010 census\\nAs of the census of 2010, there were 610 people, 263 households, and 175 families living in the town. The population density was . There were 326 housing units at an average density of . The racial makeup of the town was 96.7% White, 0.7% Native American, 0.2% Asian, 1.0% from other races, and 1.5% from two or more races. Hispanic or Latino of any race were 1.1% of the population.\\n\\nThere were 263 households, of which 25.9% had children under the age of 18 living with them, 55.5% were married couples living together, 8.4% had a female householder with no husband present, 2.7% had a male householder with no wife present, and 33.5% were non-families. 29.7% of all households were made up of individuals, and 14.4% had someone living alone who was 65 years of age or older. The average household size was 2.32 and the average family size was 2.90.\\n\\nThe median age in the town was 46.7 years. 22.5% of residents were under the age of 18; 4.4% were between the ages of 18 and 24; 20.7% were from 25 to 44; 32.7% were from 45 to 64; and 19.8% were 65 years of age or older. The gender makeup of the town was 50.0% male and 50.0% female.\\n\\n2000 census\\nAs of the census of 2000, there were 612 people, 248 households, and 173 families living in the town. The population density was 15.8 people per square mile (6.1/km2). There were 316 housing units at an average density of 8.1 per square mile (3.1/km2). The racial makeup of the town was 98.04% White, 0.49% Native American, 0.65% from other races, and 0.82% from two or more races. Hispanic or Latino of any race were 0.65% of the population.\\n\\nThere were 248 households, out of which 27.0% had children under the age of 18 living with them, 59.3% were married couples living together, 6.0% had a female householder with no husband present, and 30.2% were non-families. 25.4% of all households were made up of individuals, and 12.9% had someone living alone who was 65 years of age or older. The average household size was 2.47 and the average family size was 2.97.\\n\\nIn the town, the population was spread out, with 22.2% under the age of 18, 5.6% from 18 to 24, 25.0% from 25 to 44, 26.6% from 45 to 64, and 20.6% who were 65 years of age or older. The median age was 43 years. For every 100 females, there were 101.3 males. For every 100 females age 18 and over, there were 94.3 males.\\n\\nThe median income for a household in the town was $27,679, and the median income for a family was $33,125. Males had a median income of $24,167 versus $21,190 for females. The per capita income for the town was $15,534. About 12.7% of families and 17.6% of the population were below the poverty line, including 23.7% of those under age 18 and 16.5% of those age 65 or over.\\n\\nHistory and settlement \\nIn 1820 the State of Maine was officially separated from Massachusetts, and at that time the name Bridgewater was applied to the Township. The area north of Bangor had been previously divided into 6 mile square townships, and in 1803 the future Bridgewater Township was subdivided into two 3 mile x 6 mile areas, each designated a \"grant\" area to fund public academies in Portland and Bridgewater, respectively. The town of Bridgewater was incorporated on 2 March 1858.\\n\\nNotable people\\n\\n Jim Gerritsen, organic potato farmer and anti-GMO activist\\n Colonel Frank M. Hume, commanding officer of the 103rd Infantry, 26th Division during World War I \\n Colonel Gerald Evan Williams, World War II Air Force officer\\n\\nSites of interest\\n Bridgewater Town Hall and Jail\\n\\nReferences\\n\\nExternal links\\n \\n\\nTowns in Aroostook County, Maine\\nTowns in Maine'"
            ],
            "application/vnd.google.colaboratory.intrinsic+json": {
              "type": "string"
            }
          },
          "metadata": {},
          "execution_count": 35
        }
      ]
    },
    {
      "cell_type": "code",
      "execution_count": 36,
      "metadata": {
        "id": "JokDBnYcr6YB"
      },
      "outputs": [],
      "source": [
        "bert_inputs = bert_tokenizer(dataset['positive'][0],\n",
        "                             max_length=512,\n",
        "                             padding=True,\n",
        "                             truncation=True,\n",
        "                             return_tensors='pt')\n",
        "\n",
        "mbert_inputs = mbert_tokenizer(dataset['positive'][0],\n",
        "                               max_length=512,\n",
        "                               padding=True,\n",
        "                               truncation=True,\n",
        "                               return_tensors='pt')"
      ]
    },
    {
      "cell_type": "code",
      "execution_count": 37,
      "metadata": {
        "colab": {
          "base_uri": "https://localhost:8080/"
        },
        "id": "nQ3esYqMoHgS",
        "outputId": "258a1a80-1fe8-4375-aeca-5d0ef0b44271"
      },
      "outputs": [
        {
          "output_type": "stream",
          "name": "stdout",
          "text": [
            "CPU times: user 1.32 s, sys: 0 ns, total: 1.32 s\n",
            "Wall time: 222 ms\n"
          ]
        }
      ],
      "source": [
        "%%time\n",
        "\n",
        "bert_outputs = bert_model(**bert_inputs)"
      ]
    },
    {
      "cell_type": "code",
      "execution_count": 38,
      "metadata": {
        "colab": {
          "base_uri": "https://localhost:8080/"
        },
        "id": "wj3hhROgoH0j",
        "outputId": "c5a03374-cdfa-43fd-dda4-f6dda0378b92"
      },
      "outputs": [
        {
          "output_type": "stream",
          "name": "stdout",
          "text": [
            "CPU times: user 1.67 s, sys: 0 ns, total: 1.67 s\n",
            "Wall time: 280 ms\n"
          ]
        }
      ],
      "source": [
        "%%time\n",
        "\n",
        "mbert_outputs = mbert_model(**mbert_inputs)"
      ]
    },
    {
      "cell_type": "markdown",
      "metadata": {
        "id": "68y_at_gtIAr"
      },
      "source": [
        "Even with the enhanced capabilities of ModernBERT, the inference time is comparable between the two models on CPU."
      ]
    },
    {
      "cell_type": "markdown",
      "metadata": {
        "id": "epRzaNjMstgH"
      },
      "source": [
        "We can also run inference on a GPU and compare the speed on a GPU.\n",
        "\n",
        "Select a GPU runtime and run the cells below."
      ]
    },
    {
      "cell_type": "code",
      "execution_count": 39,
      "metadata": {
        "id": "wntSrbSKs57A"
      },
      "outputs": [],
      "source": [
        "!pip install transformers datasets -q -U\n",
        "\n",
        "import numpy as np\n",
        "import pandas as pd\n",
        "import torch\n",
        "\n",
        "from datasets import load_dataset\n",
        "\n",
        "from transformers import BertTokenizer, BertModel, BertForSequenceClassification\n",
        "from transformers import AutoTokenizer, AutoModel"
      ]
    },
    {
      "cell_type": "code",
      "execution_count": 40,
      "metadata": {
        "id": "1uEXD_3UtCZo"
      },
      "outputs": [],
      "source": [
        "bert_checkpoint = \"bert-base-cased\"\n",
        "bert_tokenizer = BertTokenizer.from_pretrained(bert_checkpoint)\n",
        "bert_model = BertModel.from_pretrained(bert_checkpoint)"
      ]
    },
    {
      "cell_type": "code",
      "execution_count": 41,
      "metadata": {
        "id": "yQRNuWKutGaf"
      },
      "outputs": [],
      "source": [
        "mbert_checkpoint = \"answerdotai/ModernBERT-base\"\n",
        "mbert_tokenizer = AutoTokenizer.from_pretrained(mbert_checkpoint)\n",
        "mbert_model = AutoModel.from_pretrained(mbert_checkpoint)"
      ]
    },
    {
      "cell_type": "code",
      "execution_count": 42,
      "metadata": {
        "id": "HwauOPc7tUbQ"
      },
      "outputs": [],
      "source": [
        "dataset = load_dataset(\"sentence-transformers/mldr\", \"en-triplet\", split=\"train\").take(5)\n",
        "texts = dataset[\"positive\"][0-4]"
      ]
    },
    {
      "cell_type": "markdown",
      "metadata": {
        "id": "aPDnsVPZtw2i"
      },
      "source": [
        "Again, we truncate the long context texts to the same length to compare the two models."
      ]
    },
    {
      "cell_type": "code",
      "execution_count": 43,
      "metadata": {
        "id": "lHrcNv93taL9"
      },
      "outputs": [],
      "source": [
        "bert_inputs = bert_tokenizer(texts,\n",
        "                             max_length=512,\n",
        "                             padding=True,\n",
        "                             truncation=True,\n",
        "                             return_tensors='pt')\n",
        "\n",
        "mbert_inputs = mbert_tokenizer(texts,\n",
        "                               max_length=512,\n",
        "                               padding=True,\n",
        "                               truncation=True,\n",
        "                               return_tensors='pt')"
      ]
    },
    {
      "cell_type": "code",
      "execution_count": 44,
      "metadata": {
        "colab": {
          "base_uri": "https://localhost:8080/"
        },
        "id": "pkD5ELGJtaWg",
        "outputId": "96c615db-2734-4061-e790-8040649e1556"
      },
      "outputs": [
        {
          "output_type": "stream",
          "name": "stdout",
          "text": [
            "CPU times: user 1.17 s, sys: 191 ms, total: 1.36 s\n",
            "Wall time: 227 ms\n"
          ]
        }
      ],
      "source": [
        "%%time\n",
        "\n",
        "bert_outputs = bert_model(**bert_inputs)"
      ]
    },
    {
      "cell_type": "code",
      "execution_count": 45,
      "metadata": {
        "colab": {
          "base_uri": "https://localhost:8080/"
        },
        "id": "rCkiUcP5tdmw",
        "outputId": "853ef162-6f88-46c0-913a-726b3a6edaea"
      },
      "outputs": [
        {
          "output_type": "stream",
          "name": "stdout",
          "text": [
            "CPU times: user 1.85 s, sys: 388 ms, total: 2.23 s\n",
            "Wall time: 373 ms\n"
          ]
        }
      ],
      "source": [
        "%%time\n",
        "\n",
        "mbert_outputs = mbert_model(**mbert_inputs)"
      ]
    },
    {
      "cell_type": "markdown",
      "metadata": {
        "id": "T3AcR7TFuBOM"
      },
      "source": [
        "GPU certainly makes things much faster and the inference speed between the two models are comparable to each other!"
      ]
    },
    {
      "cell_type": "markdown",
      "metadata": {
        "id": "nvkhSOd6uQwq"
      },
      "source": [
        "Next, take a look at the [ModernBERT documentation](https://huggingface.co/docs/transformers/main/en/model_doc/modernbert) to see if you can finetune a ModernBERT model for a downstream task!"
      ]
    }
  ],
  "metadata": {
    "colab": {
      "provenance": [],
      "machine_shape": "hm",
      "gpuType": "L4"
    },
    "kernelspec": {
      "display_name": "Python 3",
      "name": "python3"
    },
    "language_info": {
      "codemirror_mode": {
        "name": "ipython",
        "version": 3
      },
      "file_extension": ".py",
      "mimetype": "text/x-python",
      "name": "python",
      "nbconvert_exporter": "python",
      "pygments_lexer": "ipython3",
      "version": "3.11.5"
    },
    "widgets": {
      "application/vnd.jupyter.widget-state+json": {
        "12c8ff13370748208b6020ef4eeef049": {
          "model_module": "@jupyter-widgets/controls",
          "model_name": "HBoxModel",
          "model_module_version": "1.5.0",
          "state": {
            "_dom_classes": [],
            "_model_module": "@jupyter-widgets/controls",
            "_model_module_version": "1.5.0",
            "_model_name": "HBoxModel",
            "_view_count": null,
            "_view_module": "@jupyter-widgets/controls",
            "_view_module_version": "1.5.0",
            "_view_name": "HBoxView",
            "box_style": "",
            "children": [
              "IPY_MODEL_b4aab80bd42f4e8fb27033fbd9b8b6aa",
              "IPY_MODEL_5b25c3c3b852451eb2512cc2e52ebe6a",
              "IPY_MODEL_ed3c192a7f854748b15807482acdcab8"
            ],
            "layout": "IPY_MODEL_fef1573f43584d5c8cb09e67918f49f3"
          }
        },
        "b4aab80bd42f4e8fb27033fbd9b8b6aa": {
          "model_module": "@jupyter-widgets/controls",
          "model_name": "HTMLModel",
          "model_module_version": "1.5.0",
          "state": {
            "_dom_classes": [],
            "_model_module": "@jupyter-widgets/controls",
            "_model_module_version": "1.5.0",
            "_model_name": "HTMLModel",
            "_view_count": null,
            "_view_module": "@jupyter-widgets/controls",
            "_view_module_version": "1.5.0",
            "_view_name": "HTMLView",
            "description": "",
            "description_tooltip": null,
            "layout": "IPY_MODEL_c61d8d1c32b74f368f714cfd11b5800d",
            "placeholder": "​",
            "style": "IPY_MODEL_7119749036234d1e8fa466e7fc366c09",
            "value": "tokenizer_config.json: 100%"
          }
        },
        "5b25c3c3b852451eb2512cc2e52ebe6a": {
          "model_module": "@jupyter-widgets/controls",
          "model_name": "FloatProgressModel",
          "model_module_version": "1.5.0",
          "state": {
            "_dom_classes": [],
            "_model_module": "@jupyter-widgets/controls",
            "_model_module_version": "1.5.0",
            "_model_name": "FloatProgressModel",
            "_view_count": null,
            "_view_module": "@jupyter-widgets/controls",
            "_view_module_version": "1.5.0",
            "_view_name": "ProgressView",
            "bar_style": "success",
            "description": "",
            "description_tooltip": null,
            "layout": "IPY_MODEL_a6d66949147f40f3a08622fe976540de",
            "max": 49,
            "min": 0,
            "orientation": "horizontal",
            "style": "IPY_MODEL_0a1d6e911ec64437884d99c25daf3bdf",
            "value": 49
          }
        },
        "ed3c192a7f854748b15807482acdcab8": {
          "model_module": "@jupyter-widgets/controls",
          "model_name": "HTMLModel",
          "model_module_version": "1.5.0",
          "state": {
            "_dom_classes": [],
            "_model_module": "@jupyter-widgets/controls",
            "_model_module_version": "1.5.0",
            "_model_name": "HTMLModel",
            "_view_count": null,
            "_view_module": "@jupyter-widgets/controls",
            "_view_module_version": "1.5.0",
            "_view_name": "HTMLView",
            "description": "",
            "description_tooltip": null,
            "layout": "IPY_MODEL_f368536847934d958006b8f81b1cd1ad",
            "placeholder": "​",
            "style": "IPY_MODEL_68fa73ee9d9b4a349c7cd0f1b8094a06",
            "value": " 49.0/49.0 [00:00&lt;00:00, 6.33kB/s]"
          }
        },
        "fef1573f43584d5c8cb09e67918f49f3": {
          "model_module": "@jupyter-widgets/base",
          "model_name": "LayoutModel",
          "model_module_version": "1.2.0",
          "state": {
            "_model_module": "@jupyter-widgets/base",
            "_model_module_version": "1.2.0",
            "_model_name": "LayoutModel",
            "_view_count": null,
            "_view_module": "@jupyter-widgets/base",
            "_view_module_version": "1.2.0",
            "_view_name": "LayoutView",
            "align_content": null,
            "align_items": null,
            "align_self": null,
            "border": null,
            "bottom": null,
            "display": null,
            "flex": null,
            "flex_flow": null,
            "grid_area": null,
            "grid_auto_columns": null,
            "grid_auto_flow": null,
            "grid_auto_rows": null,
            "grid_column": null,
            "grid_gap": null,
            "grid_row": null,
            "grid_template_areas": null,
            "grid_template_columns": null,
            "grid_template_rows": null,
            "height": null,
            "justify_content": null,
            "justify_items": null,
            "left": null,
            "margin": null,
            "max_height": null,
            "max_width": null,
            "min_height": null,
            "min_width": null,
            "object_fit": null,
            "object_position": null,
            "order": null,
            "overflow": null,
            "overflow_x": null,
            "overflow_y": null,
            "padding": null,
            "right": null,
            "top": null,
            "visibility": null,
            "width": null
          }
        },
        "c61d8d1c32b74f368f714cfd11b5800d": {
          "model_module": "@jupyter-widgets/base",
          "model_name": "LayoutModel",
          "model_module_version": "1.2.0",
          "state": {
            "_model_module": "@jupyter-widgets/base",
            "_model_module_version": "1.2.0",
            "_model_name": "LayoutModel",
            "_view_count": null,
            "_view_module": "@jupyter-widgets/base",
            "_view_module_version": "1.2.0",
            "_view_name": "LayoutView",
            "align_content": null,
            "align_items": null,
            "align_self": null,
            "border": null,
            "bottom": null,
            "display": null,
            "flex": null,
            "flex_flow": null,
            "grid_area": null,
            "grid_auto_columns": null,
            "grid_auto_flow": null,
            "grid_auto_rows": null,
            "grid_column": null,
            "grid_gap": null,
            "grid_row": null,
            "grid_template_areas": null,
            "grid_template_columns": null,
            "grid_template_rows": null,
            "height": null,
            "justify_content": null,
            "justify_items": null,
            "left": null,
            "margin": null,
            "max_height": null,
            "max_width": null,
            "min_height": null,
            "min_width": null,
            "object_fit": null,
            "object_position": null,
            "order": null,
            "overflow": null,
            "overflow_x": null,
            "overflow_y": null,
            "padding": null,
            "right": null,
            "top": null,
            "visibility": null,
            "width": null
          }
        },
        "7119749036234d1e8fa466e7fc366c09": {
          "model_module": "@jupyter-widgets/controls",
          "model_name": "DescriptionStyleModel",
          "model_module_version": "1.5.0",
          "state": {
            "_model_module": "@jupyter-widgets/controls",
            "_model_module_version": "1.5.0",
            "_model_name": "DescriptionStyleModel",
            "_view_count": null,
            "_view_module": "@jupyter-widgets/base",
            "_view_module_version": "1.2.0",
            "_view_name": "StyleView",
            "description_width": ""
          }
        },
        "a6d66949147f40f3a08622fe976540de": {
          "model_module": "@jupyter-widgets/base",
          "model_name": "LayoutModel",
          "model_module_version": "1.2.0",
          "state": {
            "_model_module": "@jupyter-widgets/base",
            "_model_module_version": "1.2.0",
            "_model_name": "LayoutModel",
            "_view_count": null,
            "_view_module": "@jupyter-widgets/base",
            "_view_module_version": "1.2.0",
            "_view_name": "LayoutView",
            "align_content": null,
            "align_items": null,
            "align_self": null,
            "border": null,
            "bottom": null,
            "display": null,
            "flex": null,
            "flex_flow": null,
            "grid_area": null,
            "grid_auto_columns": null,
            "grid_auto_flow": null,
            "grid_auto_rows": null,
            "grid_column": null,
            "grid_gap": null,
            "grid_row": null,
            "grid_template_areas": null,
            "grid_template_columns": null,
            "grid_template_rows": null,
            "height": null,
            "justify_content": null,
            "justify_items": null,
            "left": null,
            "margin": null,
            "max_height": null,
            "max_width": null,
            "min_height": null,
            "min_width": null,
            "object_fit": null,
            "object_position": null,
            "order": null,
            "overflow": null,
            "overflow_x": null,
            "overflow_y": null,
            "padding": null,
            "right": null,
            "top": null,
            "visibility": null,
            "width": null
          }
        },
        "0a1d6e911ec64437884d99c25daf3bdf": {
          "model_module": "@jupyter-widgets/controls",
          "model_name": "ProgressStyleModel",
          "model_module_version": "1.5.0",
          "state": {
            "_model_module": "@jupyter-widgets/controls",
            "_model_module_version": "1.5.0",
            "_model_name": "ProgressStyleModel",
            "_view_count": null,
            "_view_module": "@jupyter-widgets/base",
            "_view_module_version": "1.2.0",
            "_view_name": "StyleView",
            "bar_color": null,
            "description_width": ""
          }
        },
        "f368536847934d958006b8f81b1cd1ad": {
          "model_module": "@jupyter-widgets/base",
          "model_name": "LayoutModel",
          "model_module_version": "1.2.0",
          "state": {
            "_model_module": "@jupyter-widgets/base",
            "_model_module_version": "1.2.0",
            "_model_name": "LayoutModel",
            "_view_count": null,
            "_view_module": "@jupyter-widgets/base",
            "_view_module_version": "1.2.0",
            "_view_name": "LayoutView",
            "align_content": null,
            "align_items": null,
            "align_self": null,
            "border": null,
            "bottom": null,
            "display": null,
            "flex": null,
            "flex_flow": null,
            "grid_area": null,
            "grid_auto_columns": null,
            "grid_auto_flow": null,
            "grid_auto_rows": null,
            "grid_column": null,
            "grid_gap": null,
            "grid_row": null,
            "grid_template_areas": null,
            "grid_template_columns": null,
            "grid_template_rows": null,
            "height": null,
            "justify_content": null,
            "justify_items": null,
            "left": null,
            "margin": null,
            "max_height": null,
            "max_width": null,
            "min_height": null,
            "min_width": null,
            "object_fit": null,
            "object_position": null,
            "order": null,
            "overflow": null,
            "overflow_x": null,
            "overflow_y": null,
            "padding": null,
            "right": null,
            "top": null,
            "visibility": null,
            "width": null
          }
        },
        "68fa73ee9d9b4a349c7cd0f1b8094a06": {
          "model_module": "@jupyter-widgets/controls",
          "model_name": "DescriptionStyleModel",
          "model_module_version": "1.5.0",
          "state": {
            "_model_module": "@jupyter-widgets/controls",
            "_model_module_version": "1.5.0",
            "_model_name": "DescriptionStyleModel",
            "_view_count": null,
            "_view_module": "@jupyter-widgets/base",
            "_view_module_version": "1.2.0",
            "_view_name": "StyleView",
            "description_width": ""
          }
        },
        "f27acde26d4a4f9687999841152b05cf": {
          "model_module": "@jupyter-widgets/controls",
          "model_name": "HBoxModel",
          "model_module_version": "1.5.0",
          "state": {
            "_dom_classes": [],
            "_model_module": "@jupyter-widgets/controls",
            "_model_module_version": "1.5.0",
            "_model_name": "HBoxModel",
            "_view_count": null,
            "_view_module": "@jupyter-widgets/controls",
            "_view_module_version": "1.5.0",
            "_view_name": "HBoxView",
            "box_style": "",
            "children": [
              "IPY_MODEL_9d92ff8aafed42e09e3aa31de60446dd",
              "IPY_MODEL_181b86b808b6476b824fc81679247a62",
              "IPY_MODEL_95cf0342ad7a47bda1590a8ab24a4a43"
            ],
            "layout": "IPY_MODEL_c1eb1836fd4843a88231570d857cd7cb"
          }
        },
        "9d92ff8aafed42e09e3aa31de60446dd": {
          "model_module": "@jupyter-widgets/controls",
          "model_name": "HTMLModel",
          "model_module_version": "1.5.0",
          "state": {
            "_dom_classes": [],
            "_model_module": "@jupyter-widgets/controls",
            "_model_module_version": "1.5.0",
            "_model_name": "HTMLModel",
            "_view_count": null,
            "_view_module": "@jupyter-widgets/controls",
            "_view_module_version": "1.5.0",
            "_view_name": "HTMLView",
            "description": "",
            "description_tooltip": null,
            "layout": "IPY_MODEL_e21fe49c92b74effbd7da609feefe5cc",
            "placeholder": "​",
            "style": "IPY_MODEL_04ad704c34794de6b4bc79d26f5c8deb",
            "value": "vocab.txt: 100%"
          }
        },
        "181b86b808b6476b824fc81679247a62": {
          "model_module": "@jupyter-widgets/controls",
          "model_name": "FloatProgressModel",
          "model_module_version": "1.5.0",
          "state": {
            "_dom_classes": [],
            "_model_module": "@jupyter-widgets/controls",
            "_model_module_version": "1.5.0",
            "_model_name": "FloatProgressModel",
            "_view_count": null,
            "_view_module": "@jupyter-widgets/controls",
            "_view_module_version": "1.5.0",
            "_view_name": "ProgressView",
            "bar_style": "success",
            "description": "",
            "description_tooltip": null,
            "layout": "IPY_MODEL_90a0a87c11384993acbe49ba1e03c884",
            "max": 213450,
            "min": 0,
            "orientation": "horizontal",
            "style": "IPY_MODEL_9fdefebc934d417b9398fe11b546d97f",
            "value": 213450
          }
        },
        "95cf0342ad7a47bda1590a8ab24a4a43": {
          "model_module": "@jupyter-widgets/controls",
          "model_name": "HTMLModel",
          "model_module_version": "1.5.0",
          "state": {
            "_dom_classes": [],
            "_model_module": "@jupyter-widgets/controls",
            "_model_module_version": "1.5.0",
            "_model_name": "HTMLModel",
            "_view_count": null,
            "_view_module": "@jupyter-widgets/controls",
            "_view_module_version": "1.5.0",
            "_view_name": "HTMLView",
            "description": "",
            "description_tooltip": null,
            "layout": "IPY_MODEL_a2af9b0207424ad19dd621b0fa296a6e",
            "placeholder": "​",
            "style": "IPY_MODEL_bc884a4692994f1d9d69c59d9cc95e11",
            "value": " 213k/213k [00:00&lt;00:00, 18.2MB/s]"
          }
        },
        "c1eb1836fd4843a88231570d857cd7cb": {
          "model_module": "@jupyter-widgets/base",
          "model_name": "LayoutModel",
          "model_module_version": "1.2.0",
          "state": {
            "_model_module": "@jupyter-widgets/base",
            "_model_module_version": "1.2.0",
            "_model_name": "LayoutModel",
            "_view_count": null,
            "_view_module": "@jupyter-widgets/base",
            "_view_module_version": "1.2.0",
            "_view_name": "LayoutView",
            "align_content": null,
            "align_items": null,
            "align_self": null,
            "border": null,
            "bottom": null,
            "display": null,
            "flex": null,
            "flex_flow": null,
            "grid_area": null,
            "grid_auto_columns": null,
            "grid_auto_flow": null,
            "grid_auto_rows": null,
            "grid_column": null,
            "grid_gap": null,
            "grid_row": null,
            "grid_template_areas": null,
            "grid_template_columns": null,
            "grid_template_rows": null,
            "height": null,
            "justify_content": null,
            "justify_items": null,
            "left": null,
            "margin": null,
            "max_height": null,
            "max_width": null,
            "min_height": null,
            "min_width": null,
            "object_fit": null,
            "object_position": null,
            "order": null,
            "overflow": null,
            "overflow_x": null,
            "overflow_y": null,
            "padding": null,
            "right": null,
            "top": null,
            "visibility": null,
            "width": null
          }
        },
        "e21fe49c92b74effbd7da609feefe5cc": {
          "model_module": "@jupyter-widgets/base",
          "model_name": "LayoutModel",
          "model_module_version": "1.2.0",
          "state": {
            "_model_module": "@jupyter-widgets/base",
            "_model_module_version": "1.2.0",
            "_model_name": "LayoutModel",
            "_view_count": null,
            "_view_module": "@jupyter-widgets/base",
            "_view_module_version": "1.2.0",
            "_view_name": "LayoutView",
            "align_content": null,
            "align_items": null,
            "align_self": null,
            "border": null,
            "bottom": null,
            "display": null,
            "flex": null,
            "flex_flow": null,
            "grid_area": null,
            "grid_auto_columns": null,
            "grid_auto_flow": null,
            "grid_auto_rows": null,
            "grid_column": null,
            "grid_gap": null,
            "grid_row": null,
            "grid_template_areas": null,
            "grid_template_columns": null,
            "grid_template_rows": null,
            "height": null,
            "justify_content": null,
            "justify_items": null,
            "left": null,
            "margin": null,
            "max_height": null,
            "max_width": null,
            "min_height": null,
            "min_width": null,
            "object_fit": null,
            "object_position": null,
            "order": null,
            "overflow": null,
            "overflow_x": null,
            "overflow_y": null,
            "padding": null,
            "right": null,
            "top": null,
            "visibility": null,
            "width": null
          }
        },
        "04ad704c34794de6b4bc79d26f5c8deb": {
          "model_module": "@jupyter-widgets/controls",
          "model_name": "DescriptionStyleModel",
          "model_module_version": "1.5.0",
          "state": {
            "_model_module": "@jupyter-widgets/controls",
            "_model_module_version": "1.5.0",
            "_model_name": "DescriptionStyleModel",
            "_view_count": null,
            "_view_module": "@jupyter-widgets/base",
            "_view_module_version": "1.2.0",
            "_view_name": "StyleView",
            "description_width": ""
          }
        },
        "90a0a87c11384993acbe49ba1e03c884": {
          "model_module": "@jupyter-widgets/base",
          "model_name": "LayoutModel",
          "model_module_version": "1.2.0",
          "state": {
            "_model_module": "@jupyter-widgets/base",
            "_model_module_version": "1.2.0",
            "_model_name": "LayoutModel",
            "_view_count": null,
            "_view_module": "@jupyter-widgets/base",
            "_view_module_version": "1.2.0",
            "_view_name": "LayoutView",
            "align_content": null,
            "align_items": null,
            "align_self": null,
            "border": null,
            "bottom": null,
            "display": null,
            "flex": null,
            "flex_flow": null,
            "grid_area": null,
            "grid_auto_columns": null,
            "grid_auto_flow": null,
            "grid_auto_rows": null,
            "grid_column": null,
            "grid_gap": null,
            "grid_row": null,
            "grid_template_areas": null,
            "grid_template_columns": null,
            "grid_template_rows": null,
            "height": null,
            "justify_content": null,
            "justify_items": null,
            "left": null,
            "margin": null,
            "max_height": null,
            "max_width": null,
            "min_height": null,
            "min_width": null,
            "object_fit": null,
            "object_position": null,
            "order": null,
            "overflow": null,
            "overflow_x": null,
            "overflow_y": null,
            "padding": null,
            "right": null,
            "top": null,
            "visibility": null,
            "width": null
          }
        },
        "9fdefebc934d417b9398fe11b546d97f": {
          "model_module": "@jupyter-widgets/controls",
          "model_name": "ProgressStyleModel",
          "model_module_version": "1.5.0",
          "state": {
            "_model_module": "@jupyter-widgets/controls",
            "_model_module_version": "1.5.0",
            "_model_name": "ProgressStyleModel",
            "_view_count": null,
            "_view_module": "@jupyter-widgets/base",
            "_view_module_version": "1.2.0",
            "_view_name": "StyleView",
            "bar_color": null,
            "description_width": ""
          }
        },
        "a2af9b0207424ad19dd621b0fa296a6e": {
          "model_module": "@jupyter-widgets/base",
          "model_name": "LayoutModel",
          "model_module_version": "1.2.0",
          "state": {
            "_model_module": "@jupyter-widgets/base",
            "_model_module_version": "1.2.0",
            "_model_name": "LayoutModel",
            "_view_count": null,
            "_view_module": "@jupyter-widgets/base",
            "_view_module_version": "1.2.0",
            "_view_name": "LayoutView",
            "align_content": null,
            "align_items": null,
            "align_self": null,
            "border": null,
            "bottom": null,
            "display": null,
            "flex": null,
            "flex_flow": null,
            "grid_area": null,
            "grid_auto_columns": null,
            "grid_auto_flow": null,
            "grid_auto_rows": null,
            "grid_column": null,
            "grid_gap": null,
            "grid_row": null,
            "grid_template_areas": null,
            "grid_template_columns": null,
            "grid_template_rows": null,
            "height": null,
            "justify_content": null,
            "justify_items": null,
            "left": null,
            "margin": null,
            "max_height": null,
            "max_width": null,
            "min_height": null,
            "min_width": null,
            "object_fit": null,
            "object_position": null,
            "order": null,
            "overflow": null,
            "overflow_x": null,
            "overflow_y": null,
            "padding": null,
            "right": null,
            "top": null,
            "visibility": null,
            "width": null
          }
        },
        "bc884a4692994f1d9d69c59d9cc95e11": {
          "model_module": "@jupyter-widgets/controls",
          "model_name": "DescriptionStyleModel",
          "model_module_version": "1.5.0",
          "state": {
            "_model_module": "@jupyter-widgets/controls",
            "_model_module_version": "1.5.0",
            "_model_name": "DescriptionStyleModel",
            "_view_count": null,
            "_view_module": "@jupyter-widgets/base",
            "_view_module_version": "1.2.0",
            "_view_name": "StyleView",
            "description_width": ""
          }
        },
        "5178c1d6b8d04ecf86eec271e2c1e832": {
          "model_module": "@jupyter-widgets/controls",
          "model_name": "HBoxModel",
          "model_module_version": "1.5.0",
          "state": {
            "_dom_classes": [],
            "_model_module": "@jupyter-widgets/controls",
            "_model_module_version": "1.5.0",
            "_model_name": "HBoxModel",
            "_view_count": null,
            "_view_module": "@jupyter-widgets/controls",
            "_view_module_version": "1.5.0",
            "_view_name": "HBoxView",
            "box_style": "",
            "children": [
              "IPY_MODEL_43ba35a41503468b84f91132e474559b",
              "IPY_MODEL_b09a3eec25d14c12b3201837d983d9a7",
              "IPY_MODEL_e0d62f5ed05b4be5a7503115246fcbae"
            ],
            "layout": "IPY_MODEL_0c69e63a69a94146b5f896681d53d646"
          }
        },
        "43ba35a41503468b84f91132e474559b": {
          "model_module": "@jupyter-widgets/controls",
          "model_name": "HTMLModel",
          "model_module_version": "1.5.0",
          "state": {
            "_dom_classes": [],
            "_model_module": "@jupyter-widgets/controls",
            "_model_module_version": "1.5.0",
            "_model_name": "HTMLModel",
            "_view_count": null,
            "_view_module": "@jupyter-widgets/controls",
            "_view_module_version": "1.5.0",
            "_view_name": "HTMLView",
            "description": "",
            "description_tooltip": null,
            "layout": "IPY_MODEL_1b685af7debb40c9953ff641fb68beed",
            "placeholder": "​",
            "style": "IPY_MODEL_bce1b7176df045ffb0d7a33fa5543741",
            "value": "tokenizer.json: 100%"
          }
        },
        "b09a3eec25d14c12b3201837d983d9a7": {
          "model_module": "@jupyter-widgets/controls",
          "model_name": "FloatProgressModel",
          "model_module_version": "1.5.0",
          "state": {
            "_dom_classes": [],
            "_model_module": "@jupyter-widgets/controls",
            "_model_module_version": "1.5.0",
            "_model_name": "FloatProgressModel",
            "_view_count": null,
            "_view_module": "@jupyter-widgets/controls",
            "_view_module_version": "1.5.0",
            "_view_name": "ProgressView",
            "bar_style": "success",
            "description": "",
            "description_tooltip": null,
            "layout": "IPY_MODEL_0075a23f72a2483593b010f039edd7d1",
            "max": 435797,
            "min": 0,
            "orientation": "horizontal",
            "style": "IPY_MODEL_483a6c12b7a94d1aa6e75df7f4ad8275",
            "value": 435797
          }
        },
        "e0d62f5ed05b4be5a7503115246fcbae": {
          "model_module": "@jupyter-widgets/controls",
          "model_name": "HTMLModel",
          "model_module_version": "1.5.0",
          "state": {
            "_dom_classes": [],
            "_model_module": "@jupyter-widgets/controls",
            "_model_module_version": "1.5.0",
            "_model_name": "HTMLModel",
            "_view_count": null,
            "_view_module": "@jupyter-widgets/controls",
            "_view_module_version": "1.5.0",
            "_view_name": "HTMLView",
            "description": "",
            "description_tooltip": null,
            "layout": "IPY_MODEL_fc968f2849424eb7a7465f13163d4613",
            "placeholder": "​",
            "style": "IPY_MODEL_617586aceffb4f3aa44f52899510fae2",
            "value": " 436k/436k [00:00&lt;00:00, 2.02MB/s]"
          }
        },
        "0c69e63a69a94146b5f896681d53d646": {
          "model_module": "@jupyter-widgets/base",
          "model_name": "LayoutModel",
          "model_module_version": "1.2.0",
          "state": {
            "_model_module": "@jupyter-widgets/base",
            "_model_module_version": "1.2.0",
            "_model_name": "LayoutModel",
            "_view_count": null,
            "_view_module": "@jupyter-widgets/base",
            "_view_module_version": "1.2.0",
            "_view_name": "LayoutView",
            "align_content": null,
            "align_items": null,
            "align_self": null,
            "border": null,
            "bottom": null,
            "display": null,
            "flex": null,
            "flex_flow": null,
            "grid_area": null,
            "grid_auto_columns": null,
            "grid_auto_flow": null,
            "grid_auto_rows": null,
            "grid_column": null,
            "grid_gap": null,
            "grid_row": null,
            "grid_template_areas": null,
            "grid_template_columns": null,
            "grid_template_rows": null,
            "height": null,
            "justify_content": null,
            "justify_items": null,
            "left": null,
            "margin": null,
            "max_height": null,
            "max_width": null,
            "min_height": null,
            "min_width": null,
            "object_fit": null,
            "object_position": null,
            "order": null,
            "overflow": null,
            "overflow_x": null,
            "overflow_y": null,
            "padding": null,
            "right": null,
            "top": null,
            "visibility": null,
            "width": null
          }
        },
        "1b685af7debb40c9953ff641fb68beed": {
          "model_module": "@jupyter-widgets/base",
          "model_name": "LayoutModel",
          "model_module_version": "1.2.0",
          "state": {
            "_model_module": "@jupyter-widgets/base",
            "_model_module_version": "1.2.0",
            "_model_name": "LayoutModel",
            "_view_count": null,
            "_view_module": "@jupyter-widgets/base",
            "_view_module_version": "1.2.0",
            "_view_name": "LayoutView",
            "align_content": null,
            "align_items": null,
            "align_self": null,
            "border": null,
            "bottom": null,
            "display": null,
            "flex": null,
            "flex_flow": null,
            "grid_area": null,
            "grid_auto_columns": null,
            "grid_auto_flow": null,
            "grid_auto_rows": null,
            "grid_column": null,
            "grid_gap": null,
            "grid_row": null,
            "grid_template_areas": null,
            "grid_template_columns": null,
            "grid_template_rows": null,
            "height": null,
            "justify_content": null,
            "justify_items": null,
            "left": null,
            "margin": null,
            "max_height": null,
            "max_width": null,
            "min_height": null,
            "min_width": null,
            "object_fit": null,
            "object_position": null,
            "order": null,
            "overflow": null,
            "overflow_x": null,
            "overflow_y": null,
            "padding": null,
            "right": null,
            "top": null,
            "visibility": null,
            "width": null
          }
        },
        "bce1b7176df045ffb0d7a33fa5543741": {
          "model_module": "@jupyter-widgets/controls",
          "model_name": "DescriptionStyleModel",
          "model_module_version": "1.5.0",
          "state": {
            "_model_module": "@jupyter-widgets/controls",
            "_model_module_version": "1.5.0",
            "_model_name": "DescriptionStyleModel",
            "_view_count": null,
            "_view_module": "@jupyter-widgets/base",
            "_view_module_version": "1.2.0",
            "_view_name": "StyleView",
            "description_width": ""
          }
        },
        "0075a23f72a2483593b010f039edd7d1": {
          "model_module": "@jupyter-widgets/base",
          "model_name": "LayoutModel",
          "model_module_version": "1.2.0",
          "state": {
            "_model_module": "@jupyter-widgets/base",
            "_model_module_version": "1.2.0",
            "_model_name": "LayoutModel",
            "_view_count": null,
            "_view_module": "@jupyter-widgets/base",
            "_view_module_version": "1.2.0",
            "_view_name": "LayoutView",
            "align_content": null,
            "align_items": null,
            "align_self": null,
            "border": null,
            "bottom": null,
            "display": null,
            "flex": null,
            "flex_flow": null,
            "grid_area": null,
            "grid_auto_columns": null,
            "grid_auto_flow": null,
            "grid_auto_rows": null,
            "grid_column": null,
            "grid_gap": null,
            "grid_row": null,
            "grid_template_areas": null,
            "grid_template_columns": null,
            "grid_template_rows": null,
            "height": null,
            "justify_content": null,
            "justify_items": null,
            "left": null,
            "margin": null,
            "max_height": null,
            "max_width": null,
            "min_height": null,
            "min_width": null,
            "object_fit": null,
            "object_position": null,
            "order": null,
            "overflow": null,
            "overflow_x": null,
            "overflow_y": null,
            "padding": null,
            "right": null,
            "top": null,
            "visibility": null,
            "width": null
          }
        },
        "483a6c12b7a94d1aa6e75df7f4ad8275": {
          "model_module": "@jupyter-widgets/controls",
          "model_name": "ProgressStyleModel",
          "model_module_version": "1.5.0",
          "state": {
            "_model_module": "@jupyter-widgets/controls",
            "_model_module_version": "1.5.0",
            "_model_name": "ProgressStyleModel",
            "_view_count": null,
            "_view_module": "@jupyter-widgets/base",
            "_view_module_version": "1.2.0",
            "_view_name": "StyleView",
            "bar_color": null,
            "description_width": ""
          }
        },
        "fc968f2849424eb7a7465f13163d4613": {
          "model_module": "@jupyter-widgets/base",
          "model_name": "LayoutModel",
          "model_module_version": "1.2.0",
          "state": {
            "_model_module": "@jupyter-widgets/base",
            "_model_module_version": "1.2.0",
            "_model_name": "LayoutModel",
            "_view_count": null,
            "_view_module": "@jupyter-widgets/base",
            "_view_module_version": "1.2.0",
            "_view_name": "LayoutView",
            "align_content": null,
            "align_items": null,
            "align_self": null,
            "border": null,
            "bottom": null,
            "display": null,
            "flex": null,
            "flex_flow": null,
            "grid_area": null,
            "grid_auto_columns": null,
            "grid_auto_flow": null,
            "grid_auto_rows": null,
            "grid_column": null,
            "grid_gap": null,
            "grid_row": null,
            "grid_template_areas": null,
            "grid_template_columns": null,
            "grid_template_rows": null,
            "height": null,
            "justify_content": null,
            "justify_items": null,
            "left": null,
            "margin": null,
            "max_height": null,
            "max_width": null,
            "min_height": null,
            "min_width": null,
            "object_fit": null,
            "object_position": null,
            "order": null,
            "overflow": null,
            "overflow_x": null,
            "overflow_y": null,
            "padding": null,
            "right": null,
            "top": null,
            "visibility": null,
            "width": null
          }
        },
        "617586aceffb4f3aa44f52899510fae2": {
          "model_module": "@jupyter-widgets/controls",
          "model_name": "DescriptionStyleModel",
          "model_module_version": "1.5.0",
          "state": {
            "_model_module": "@jupyter-widgets/controls",
            "_model_module_version": "1.5.0",
            "_model_name": "DescriptionStyleModel",
            "_view_count": null,
            "_view_module": "@jupyter-widgets/base",
            "_view_module_version": "1.2.0",
            "_view_name": "StyleView",
            "description_width": ""
          }
        },
        "ede6d15259574bc9ab16393f952d5e25": {
          "model_module": "@jupyter-widgets/controls",
          "model_name": "HBoxModel",
          "model_module_version": "1.5.0",
          "state": {
            "_dom_classes": [],
            "_model_module": "@jupyter-widgets/controls",
            "_model_module_version": "1.5.0",
            "_model_name": "HBoxModel",
            "_view_count": null,
            "_view_module": "@jupyter-widgets/controls",
            "_view_module_version": "1.5.0",
            "_view_name": "HBoxView",
            "box_style": "",
            "children": [
              "IPY_MODEL_ea7ed84907f246a0b49bab2e853cf96b",
              "IPY_MODEL_e3bb412483de4b11a84cc1f0798022fa",
              "IPY_MODEL_7b161a08e21745a98f073d13a9cd7aee"
            ],
            "layout": "IPY_MODEL_882932e43b8c487988ef98cd45a70fa2"
          }
        },
        "ea7ed84907f246a0b49bab2e853cf96b": {
          "model_module": "@jupyter-widgets/controls",
          "model_name": "HTMLModel",
          "model_module_version": "1.5.0",
          "state": {
            "_dom_classes": [],
            "_model_module": "@jupyter-widgets/controls",
            "_model_module_version": "1.5.0",
            "_model_name": "HTMLModel",
            "_view_count": null,
            "_view_module": "@jupyter-widgets/controls",
            "_view_module_version": "1.5.0",
            "_view_name": "HTMLView",
            "description": "",
            "description_tooltip": null,
            "layout": "IPY_MODEL_18ec05c513fe455fa6b8d2316bdd82ab",
            "placeholder": "​",
            "style": "IPY_MODEL_acb0d2f6595340a6ad1fc7625174e1ce",
            "value": "config.json: 100%"
          }
        },
        "e3bb412483de4b11a84cc1f0798022fa": {
          "model_module": "@jupyter-widgets/controls",
          "model_name": "FloatProgressModel",
          "model_module_version": "1.5.0",
          "state": {
            "_dom_classes": [],
            "_model_module": "@jupyter-widgets/controls",
            "_model_module_version": "1.5.0",
            "_model_name": "FloatProgressModel",
            "_view_count": null,
            "_view_module": "@jupyter-widgets/controls",
            "_view_module_version": "1.5.0",
            "_view_name": "ProgressView",
            "bar_style": "success",
            "description": "",
            "description_tooltip": null,
            "layout": "IPY_MODEL_8372c8ed20e44910aecddef16eed2ba5",
            "max": 570,
            "min": 0,
            "orientation": "horizontal",
            "style": "IPY_MODEL_72d7f1fb10d54303a7554a550240c544",
            "value": 570
          }
        },
        "7b161a08e21745a98f073d13a9cd7aee": {
          "model_module": "@jupyter-widgets/controls",
          "model_name": "HTMLModel",
          "model_module_version": "1.5.0",
          "state": {
            "_dom_classes": [],
            "_model_module": "@jupyter-widgets/controls",
            "_model_module_version": "1.5.0",
            "_model_name": "HTMLModel",
            "_view_count": null,
            "_view_module": "@jupyter-widgets/controls",
            "_view_module_version": "1.5.0",
            "_view_name": "HTMLView",
            "description": "",
            "description_tooltip": null,
            "layout": "IPY_MODEL_48ccf28b9a734cceadbb9436f4d77609",
            "placeholder": "​",
            "style": "IPY_MODEL_ce1c5ea0d4ef41e8a5f75490b50b846e",
            "value": " 570/570 [00:00&lt;00:00, 70.9kB/s]"
          }
        },
        "882932e43b8c487988ef98cd45a70fa2": {
          "model_module": "@jupyter-widgets/base",
          "model_name": "LayoutModel",
          "model_module_version": "1.2.0",
          "state": {
            "_model_module": "@jupyter-widgets/base",
            "_model_module_version": "1.2.0",
            "_model_name": "LayoutModel",
            "_view_count": null,
            "_view_module": "@jupyter-widgets/base",
            "_view_module_version": "1.2.0",
            "_view_name": "LayoutView",
            "align_content": null,
            "align_items": null,
            "align_self": null,
            "border": null,
            "bottom": null,
            "display": null,
            "flex": null,
            "flex_flow": null,
            "grid_area": null,
            "grid_auto_columns": null,
            "grid_auto_flow": null,
            "grid_auto_rows": null,
            "grid_column": null,
            "grid_gap": null,
            "grid_row": null,
            "grid_template_areas": null,
            "grid_template_columns": null,
            "grid_template_rows": null,
            "height": null,
            "justify_content": null,
            "justify_items": null,
            "left": null,
            "margin": null,
            "max_height": null,
            "max_width": null,
            "min_height": null,
            "min_width": null,
            "object_fit": null,
            "object_position": null,
            "order": null,
            "overflow": null,
            "overflow_x": null,
            "overflow_y": null,
            "padding": null,
            "right": null,
            "top": null,
            "visibility": null,
            "width": null
          }
        },
        "18ec05c513fe455fa6b8d2316bdd82ab": {
          "model_module": "@jupyter-widgets/base",
          "model_name": "LayoutModel",
          "model_module_version": "1.2.0",
          "state": {
            "_model_module": "@jupyter-widgets/base",
            "_model_module_version": "1.2.0",
            "_model_name": "LayoutModel",
            "_view_count": null,
            "_view_module": "@jupyter-widgets/base",
            "_view_module_version": "1.2.0",
            "_view_name": "LayoutView",
            "align_content": null,
            "align_items": null,
            "align_self": null,
            "border": null,
            "bottom": null,
            "display": null,
            "flex": null,
            "flex_flow": null,
            "grid_area": null,
            "grid_auto_columns": null,
            "grid_auto_flow": null,
            "grid_auto_rows": null,
            "grid_column": null,
            "grid_gap": null,
            "grid_row": null,
            "grid_template_areas": null,
            "grid_template_columns": null,
            "grid_template_rows": null,
            "height": null,
            "justify_content": null,
            "justify_items": null,
            "left": null,
            "margin": null,
            "max_height": null,
            "max_width": null,
            "min_height": null,
            "min_width": null,
            "object_fit": null,
            "object_position": null,
            "order": null,
            "overflow": null,
            "overflow_x": null,
            "overflow_y": null,
            "padding": null,
            "right": null,
            "top": null,
            "visibility": null,
            "width": null
          }
        },
        "acb0d2f6595340a6ad1fc7625174e1ce": {
          "model_module": "@jupyter-widgets/controls",
          "model_name": "DescriptionStyleModel",
          "model_module_version": "1.5.0",
          "state": {
            "_model_module": "@jupyter-widgets/controls",
            "_model_module_version": "1.5.0",
            "_model_name": "DescriptionStyleModel",
            "_view_count": null,
            "_view_module": "@jupyter-widgets/base",
            "_view_module_version": "1.2.0",
            "_view_name": "StyleView",
            "description_width": ""
          }
        },
        "8372c8ed20e44910aecddef16eed2ba5": {
          "model_module": "@jupyter-widgets/base",
          "model_name": "LayoutModel",
          "model_module_version": "1.2.0",
          "state": {
            "_model_module": "@jupyter-widgets/base",
            "_model_module_version": "1.2.0",
            "_model_name": "LayoutModel",
            "_view_count": null,
            "_view_module": "@jupyter-widgets/base",
            "_view_module_version": "1.2.0",
            "_view_name": "LayoutView",
            "align_content": null,
            "align_items": null,
            "align_self": null,
            "border": null,
            "bottom": null,
            "display": null,
            "flex": null,
            "flex_flow": null,
            "grid_area": null,
            "grid_auto_columns": null,
            "grid_auto_flow": null,
            "grid_auto_rows": null,
            "grid_column": null,
            "grid_gap": null,
            "grid_row": null,
            "grid_template_areas": null,
            "grid_template_columns": null,
            "grid_template_rows": null,
            "height": null,
            "justify_content": null,
            "justify_items": null,
            "left": null,
            "margin": null,
            "max_height": null,
            "max_width": null,
            "min_height": null,
            "min_width": null,
            "object_fit": null,
            "object_position": null,
            "order": null,
            "overflow": null,
            "overflow_x": null,
            "overflow_y": null,
            "padding": null,
            "right": null,
            "top": null,
            "visibility": null,
            "width": null
          }
        },
        "72d7f1fb10d54303a7554a550240c544": {
          "model_module": "@jupyter-widgets/controls",
          "model_name": "ProgressStyleModel",
          "model_module_version": "1.5.0",
          "state": {
            "_model_module": "@jupyter-widgets/controls",
            "_model_module_version": "1.5.0",
            "_model_name": "ProgressStyleModel",
            "_view_count": null,
            "_view_module": "@jupyter-widgets/base",
            "_view_module_version": "1.2.0",
            "_view_name": "StyleView",
            "bar_color": null,
            "description_width": ""
          }
        },
        "48ccf28b9a734cceadbb9436f4d77609": {
          "model_module": "@jupyter-widgets/base",
          "model_name": "LayoutModel",
          "model_module_version": "1.2.0",
          "state": {
            "_model_module": "@jupyter-widgets/base",
            "_model_module_version": "1.2.0",
            "_model_name": "LayoutModel",
            "_view_count": null,
            "_view_module": "@jupyter-widgets/base",
            "_view_module_version": "1.2.0",
            "_view_name": "LayoutView",
            "align_content": null,
            "align_items": null,
            "align_self": null,
            "border": null,
            "bottom": null,
            "display": null,
            "flex": null,
            "flex_flow": null,
            "grid_area": null,
            "grid_auto_columns": null,
            "grid_auto_flow": null,
            "grid_auto_rows": null,
            "grid_column": null,
            "grid_gap": null,
            "grid_row": null,
            "grid_template_areas": null,
            "grid_template_columns": null,
            "grid_template_rows": null,
            "height": null,
            "justify_content": null,
            "justify_items": null,
            "left": null,
            "margin": null,
            "max_height": null,
            "max_width": null,
            "min_height": null,
            "min_width": null,
            "object_fit": null,
            "object_position": null,
            "order": null,
            "overflow": null,
            "overflow_x": null,
            "overflow_y": null,
            "padding": null,
            "right": null,
            "top": null,
            "visibility": null,
            "width": null
          }
        },
        "ce1c5ea0d4ef41e8a5f75490b50b846e": {
          "model_module": "@jupyter-widgets/controls",
          "model_name": "DescriptionStyleModel",
          "model_module_version": "1.5.0",
          "state": {
            "_model_module": "@jupyter-widgets/controls",
            "_model_module_version": "1.5.0",
            "_model_name": "DescriptionStyleModel",
            "_view_count": null,
            "_view_module": "@jupyter-widgets/base",
            "_view_module_version": "1.2.0",
            "_view_name": "StyleView",
            "description_width": ""
          }
        },
        "df2501912b3649f48f179ed06c7254a8": {
          "model_module": "@jupyter-widgets/controls",
          "model_name": "HBoxModel",
          "model_module_version": "1.5.0",
          "state": {
            "_dom_classes": [],
            "_model_module": "@jupyter-widgets/controls",
            "_model_module_version": "1.5.0",
            "_model_name": "HBoxModel",
            "_view_count": null,
            "_view_module": "@jupyter-widgets/controls",
            "_view_module_version": "1.5.0",
            "_view_name": "HBoxView",
            "box_style": "",
            "children": [
              "IPY_MODEL_4248179bbaf84868b23a94b6b1fa28a9",
              "IPY_MODEL_24613376ac114f24a1c476bd4617d993",
              "IPY_MODEL_aa4bbb1541fc44e4aca1a1b70213a69c"
            ],
            "layout": "IPY_MODEL_7fd7961030344aae82433001d3c3bae8"
          }
        },
        "4248179bbaf84868b23a94b6b1fa28a9": {
          "model_module": "@jupyter-widgets/controls",
          "model_name": "HTMLModel",
          "model_module_version": "1.5.0",
          "state": {
            "_dom_classes": [],
            "_model_module": "@jupyter-widgets/controls",
            "_model_module_version": "1.5.0",
            "_model_name": "HTMLModel",
            "_view_count": null,
            "_view_module": "@jupyter-widgets/controls",
            "_view_module_version": "1.5.0",
            "_view_name": "HTMLView",
            "description": "",
            "description_tooltip": null,
            "layout": "IPY_MODEL_62429ef815a6466db0c7106e9a3603cf",
            "placeholder": "​",
            "style": "IPY_MODEL_fb67911e181e425ba7348ec198bf5217",
            "value": "model.safetensors: 100%"
          }
        },
        "24613376ac114f24a1c476bd4617d993": {
          "model_module": "@jupyter-widgets/controls",
          "model_name": "FloatProgressModel",
          "model_module_version": "1.5.0",
          "state": {
            "_dom_classes": [],
            "_model_module": "@jupyter-widgets/controls",
            "_model_module_version": "1.5.0",
            "_model_name": "FloatProgressModel",
            "_view_count": null,
            "_view_module": "@jupyter-widgets/controls",
            "_view_module_version": "1.5.0",
            "_view_name": "ProgressView",
            "bar_style": "success",
            "description": "",
            "description_tooltip": null,
            "layout": "IPY_MODEL_6f6693f0d51c48c7bbf44f83b501ec02",
            "max": 435755784,
            "min": 0,
            "orientation": "horizontal",
            "style": "IPY_MODEL_bdc2a6e218d24628b781e332a5111431",
            "value": 435755784
          }
        },
        "aa4bbb1541fc44e4aca1a1b70213a69c": {
          "model_module": "@jupyter-widgets/controls",
          "model_name": "HTMLModel",
          "model_module_version": "1.5.0",
          "state": {
            "_dom_classes": [],
            "_model_module": "@jupyter-widgets/controls",
            "_model_module_version": "1.5.0",
            "_model_name": "HTMLModel",
            "_view_count": null,
            "_view_module": "@jupyter-widgets/controls",
            "_view_module_version": "1.5.0",
            "_view_name": "HTMLView",
            "description": "",
            "description_tooltip": null,
            "layout": "IPY_MODEL_bc93383b6f0646c597f911d3a8aaba32",
            "placeholder": "​",
            "style": "IPY_MODEL_567e349ff3714d37a43cc31a82e8f2c4",
            "value": " 436M/436M [00:02&lt;00:00, 332MB/s]"
          }
        },
        "7fd7961030344aae82433001d3c3bae8": {
          "model_module": "@jupyter-widgets/base",
          "model_name": "LayoutModel",
          "model_module_version": "1.2.0",
          "state": {
            "_model_module": "@jupyter-widgets/base",
            "_model_module_version": "1.2.0",
            "_model_name": "LayoutModel",
            "_view_count": null,
            "_view_module": "@jupyter-widgets/base",
            "_view_module_version": "1.2.0",
            "_view_name": "LayoutView",
            "align_content": null,
            "align_items": null,
            "align_self": null,
            "border": null,
            "bottom": null,
            "display": null,
            "flex": null,
            "flex_flow": null,
            "grid_area": null,
            "grid_auto_columns": null,
            "grid_auto_flow": null,
            "grid_auto_rows": null,
            "grid_column": null,
            "grid_gap": null,
            "grid_row": null,
            "grid_template_areas": null,
            "grid_template_columns": null,
            "grid_template_rows": null,
            "height": null,
            "justify_content": null,
            "justify_items": null,
            "left": null,
            "margin": null,
            "max_height": null,
            "max_width": null,
            "min_height": null,
            "min_width": null,
            "object_fit": null,
            "object_position": null,
            "order": null,
            "overflow": null,
            "overflow_x": null,
            "overflow_y": null,
            "padding": null,
            "right": null,
            "top": null,
            "visibility": null,
            "width": null
          }
        },
        "62429ef815a6466db0c7106e9a3603cf": {
          "model_module": "@jupyter-widgets/base",
          "model_name": "LayoutModel",
          "model_module_version": "1.2.0",
          "state": {
            "_model_module": "@jupyter-widgets/base",
            "_model_module_version": "1.2.0",
            "_model_name": "LayoutModel",
            "_view_count": null,
            "_view_module": "@jupyter-widgets/base",
            "_view_module_version": "1.2.0",
            "_view_name": "LayoutView",
            "align_content": null,
            "align_items": null,
            "align_self": null,
            "border": null,
            "bottom": null,
            "display": null,
            "flex": null,
            "flex_flow": null,
            "grid_area": null,
            "grid_auto_columns": null,
            "grid_auto_flow": null,
            "grid_auto_rows": null,
            "grid_column": null,
            "grid_gap": null,
            "grid_row": null,
            "grid_template_areas": null,
            "grid_template_columns": null,
            "grid_template_rows": null,
            "height": null,
            "justify_content": null,
            "justify_items": null,
            "left": null,
            "margin": null,
            "max_height": null,
            "max_width": null,
            "min_height": null,
            "min_width": null,
            "object_fit": null,
            "object_position": null,
            "order": null,
            "overflow": null,
            "overflow_x": null,
            "overflow_y": null,
            "padding": null,
            "right": null,
            "top": null,
            "visibility": null,
            "width": null
          }
        },
        "fb67911e181e425ba7348ec198bf5217": {
          "model_module": "@jupyter-widgets/controls",
          "model_name": "DescriptionStyleModel",
          "model_module_version": "1.5.0",
          "state": {
            "_model_module": "@jupyter-widgets/controls",
            "_model_module_version": "1.5.0",
            "_model_name": "DescriptionStyleModel",
            "_view_count": null,
            "_view_module": "@jupyter-widgets/base",
            "_view_module_version": "1.2.0",
            "_view_name": "StyleView",
            "description_width": ""
          }
        },
        "6f6693f0d51c48c7bbf44f83b501ec02": {
          "model_module": "@jupyter-widgets/base",
          "model_name": "LayoutModel",
          "model_module_version": "1.2.0",
          "state": {
            "_model_module": "@jupyter-widgets/base",
            "_model_module_version": "1.2.0",
            "_model_name": "LayoutModel",
            "_view_count": null,
            "_view_module": "@jupyter-widgets/base",
            "_view_module_version": "1.2.0",
            "_view_name": "LayoutView",
            "align_content": null,
            "align_items": null,
            "align_self": null,
            "border": null,
            "bottom": null,
            "display": null,
            "flex": null,
            "flex_flow": null,
            "grid_area": null,
            "grid_auto_columns": null,
            "grid_auto_flow": null,
            "grid_auto_rows": null,
            "grid_column": null,
            "grid_gap": null,
            "grid_row": null,
            "grid_template_areas": null,
            "grid_template_columns": null,
            "grid_template_rows": null,
            "height": null,
            "justify_content": null,
            "justify_items": null,
            "left": null,
            "margin": null,
            "max_height": null,
            "max_width": null,
            "min_height": null,
            "min_width": null,
            "object_fit": null,
            "object_position": null,
            "order": null,
            "overflow": null,
            "overflow_x": null,
            "overflow_y": null,
            "padding": null,
            "right": null,
            "top": null,
            "visibility": null,
            "width": null
          }
        },
        "bdc2a6e218d24628b781e332a5111431": {
          "model_module": "@jupyter-widgets/controls",
          "model_name": "ProgressStyleModel",
          "model_module_version": "1.5.0",
          "state": {
            "_model_module": "@jupyter-widgets/controls",
            "_model_module_version": "1.5.0",
            "_model_name": "ProgressStyleModel",
            "_view_count": null,
            "_view_module": "@jupyter-widgets/base",
            "_view_module_version": "1.2.0",
            "_view_name": "StyleView",
            "bar_color": null,
            "description_width": ""
          }
        },
        "bc93383b6f0646c597f911d3a8aaba32": {
          "model_module": "@jupyter-widgets/base",
          "model_name": "LayoutModel",
          "model_module_version": "1.2.0",
          "state": {
            "_model_module": "@jupyter-widgets/base",
            "_model_module_version": "1.2.0",
            "_model_name": "LayoutModel",
            "_view_count": null,
            "_view_module": "@jupyter-widgets/base",
            "_view_module_version": "1.2.0",
            "_view_name": "LayoutView",
            "align_content": null,
            "align_items": null,
            "align_self": null,
            "border": null,
            "bottom": null,
            "display": null,
            "flex": null,
            "flex_flow": null,
            "grid_area": null,
            "grid_auto_columns": null,
            "grid_auto_flow": null,
            "grid_auto_rows": null,
            "grid_column": null,
            "grid_gap": null,
            "grid_row": null,
            "grid_template_areas": null,
            "grid_template_columns": null,
            "grid_template_rows": null,
            "height": null,
            "justify_content": null,
            "justify_items": null,
            "left": null,
            "margin": null,
            "max_height": null,
            "max_width": null,
            "min_height": null,
            "min_width": null,
            "object_fit": null,
            "object_position": null,
            "order": null,
            "overflow": null,
            "overflow_x": null,
            "overflow_y": null,
            "padding": null,
            "right": null,
            "top": null,
            "visibility": null,
            "width": null
          }
        },
        "567e349ff3714d37a43cc31a82e8f2c4": {
          "model_module": "@jupyter-widgets/controls",
          "model_name": "DescriptionStyleModel",
          "model_module_version": "1.5.0",
          "state": {
            "_model_module": "@jupyter-widgets/controls",
            "_model_module_version": "1.5.0",
            "_model_name": "DescriptionStyleModel",
            "_view_count": null,
            "_view_module": "@jupyter-widgets/base",
            "_view_module_version": "1.2.0",
            "_view_name": "StyleView",
            "description_width": ""
          }
        },
        "151074e859264eab980db863761d8027": {
          "model_module": "@jupyter-widgets/controls",
          "model_name": "HBoxModel",
          "model_module_version": "1.5.0",
          "state": {
            "_dom_classes": [],
            "_model_module": "@jupyter-widgets/controls",
            "_model_module_version": "1.5.0",
            "_model_name": "HBoxModel",
            "_view_count": null,
            "_view_module": "@jupyter-widgets/controls",
            "_view_module_version": "1.5.0",
            "_view_name": "HBoxView",
            "box_style": "",
            "children": [
              "IPY_MODEL_23c9cfd94e9f4da197e76e32abb64b21",
              "IPY_MODEL_4ab04b090df34a34b4149d982bd5b5a8",
              "IPY_MODEL_4b7241b39eee476ca4c9ff2860b2f0e1"
            ],
            "layout": "IPY_MODEL_cc5bfd6928a546c692fa60beda6381e9"
          }
        },
        "23c9cfd94e9f4da197e76e32abb64b21": {
          "model_module": "@jupyter-widgets/controls",
          "model_name": "HTMLModel",
          "model_module_version": "1.5.0",
          "state": {
            "_dom_classes": [],
            "_model_module": "@jupyter-widgets/controls",
            "_model_module_version": "1.5.0",
            "_model_name": "HTMLModel",
            "_view_count": null,
            "_view_module": "@jupyter-widgets/controls",
            "_view_module_version": "1.5.0",
            "_view_name": "HTMLView",
            "description": "",
            "description_tooltip": null,
            "layout": "IPY_MODEL_5e15f13d5f8f4b74ab3d721193177927",
            "placeholder": "​",
            "style": "IPY_MODEL_247417f599ff468ca1f389c09c47ac7b",
            "value": "tokenizer_config.json: "
          }
        },
        "4ab04b090df34a34b4149d982bd5b5a8": {
          "model_module": "@jupyter-widgets/controls",
          "model_name": "FloatProgressModel",
          "model_module_version": "1.5.0",
          "state": {
            "_dom_classes": [],
            "_model_module": "@jupyter-widgets/controls",
            "_model_module_version": "1.5.0",
            "_model_name": "FloatProgressModel",
            "_view_count": null,
            "_view_module": "@jupyter-widgets/controls",
            "_view_module_version": "1.5.0",
            "_view_name": "ProgressView",
            "bar_style": "success",
            "description": "",
            "description_tooltip": null,
            "layout": "IPY_MODEL_6571d67e199f40fe89fa00e25338370b",
            "max": 1,
            "min": 0,
            "orientation": "horizontal",
            "style": "IPY_MODEL_1ccb2c8e4ef24e50ab523e0452c9043a",
            "value": 1
          }
        },
        "4b7241b39eee476ca4c9ff2860b2f0e1": {
          "model_module": "@jupyter-widgets/controls",
          "model_name": "HTMLModel",
          "model_module_version": "1.5.0",
          "state": {
            "_dom_classes": [],
            "_model_module": "@jupyter-widgets/controls",
            "_model_module_version": "1.5.0",
            "_model_name": "HTMLModel",
            "_view_count": null,
            "_view_module": "@jupyter-widgets/controls",
            "_view_module_version": "1.5.0",
            "_view_name": "HTMLView",
            "description": "",
            "description_tooltip": null,
            "layout": "IPY_MODEL_39cc1f20e2f5484b8cd2d53e3f154e4c",
            "placeholder": "​",
            "style": "IPY_MODEL_23201f3282984d0dac50b6ed33189444",
            "value": " 20.8k/? [00:00&lt;00:00, 2.44MB/s]"
          }
        },
        "cc5bfd6928a546c692fa60beda6381e9": {
          "model_module": "@jupyter-widgets/base",
          "model_name": "LayoutModel",
          "model_module_version": "1.2.0",
          "state": {
            "_model_module": "@jupyter-widgets/base",
            "_model_module_version": "1.2.0",
            "_model_name": "LayoutModel",
            "_view_count": null,
            "_view_module": "@jupyter-widgets/base",
            "_view_module_version": "1.2.0",
            "_view_name": "LayoutView",
            "align_content": null,
            "align_items": null,
            "align_self": null,
            "border": null,
            "bottom": null,
            "display": null,
            "flex": null,
            "flex_flow": null,
            "grid_area": null,
            "grid_auto_columns": null,
            "grid_auto_flow": null,
            "grid_auto_rows": null,
            "grid_column": null,
            "grid_gap": null,
            "grid_row": null,
            "grid_template_areas": null,
            "grid_template_columns": null,
            "grid_template_rows": null,
            "height": null,
            "justify_content": null,
            "justify_items": null,
            "left": null,
            "margin": null,
            "max_height": null,
            "max_width": null,
            "min_height": null,
            "min_width": null,
            "object_fit": null,
            "object_position": null,
            "order": null,
            "overflow": null,
            "overflow_x": null,
            "overflow_y": null,
            "padding": null,
            "right": null,
            "top": null,
            "visibility": null,
            "width": null
          }
        },
        "5e15f13d5f8f4b74ab3d721193177927": {
          "model_module": "@jupyter-widgets/base",
          "model_name": "LayoutModel",
          "model_module_version": "1.2.0",
          "state": {
            "_model_module": "@jupyter-widgets/base",
            "_model_module_version": "1.2.0",
            "_model_name": "LayoutModel",
            "_view_count": null,
            "_view_module": "@jupyter-widgets/base",
            "_view_module_version": "1.2.0",
            "_view_name": "LayoutView",
            "align_content": null,
            "align_items": null,
            "align_self": null,
            "border": null,
            "bottom": null,
            "display": null,
            "flex": null,
            "flex_flow": null,
            "grid_area": null,
            "grid_auto_columns": null,
            "grid_auto_flow": null,
            "grid_auto_rows": null,
            "grid_column": null,
            "grid_gap": null,
            "grid_row": null,
            "grid_template_areas": null,
            "grid_template_columns": null,
            "grid_template_rows": null,
            "height": null,
            "justify_content": null,
            "justify_items": null,
            "left": null,
            "margin": null,
            "max_height": null,
            "max_width": null,
            "min_height": null,
            "min_width": null,
            "object_fit": null,
            "object_position": null,
            "order": null,
            "overflow": null,
            "overflow_x": null,
            "overflow_y": null,
            "padding": null,
            "right": null,
            "top": null,
            "visibility": null,
            "width": null
          }
        },
        "247417f599ff468ca1f389c09c47ac7b": {
          "model_module": "@jupyter-widgets/controls",
          "model_name": "DescriptionStyleModel",
          "model_module_version": "1.5.0",
          "state": {
            "_model_module": "@jupyter-widgets/controls",
            "_model_module_version": "1.5.0",
            "_model_name": "DescriptionStyleModel",
            "_view_count": null,
            "_view_module": "@jupyter-widgets/base",
            "_view_module_version": "1.2.0",
            "_view_name": "StyleView",
            "description_width": ""
          }
        },
        "6571d67e199f40fe89fa00e25338370b": {
          "model_module": "@jupyter-widgets/base",
          "model_name": "LayoutModel",
          "model_module_version": "1.2.0",
          "state": {
            "_model_module": "@jupyter-widgets/base",
            "_model_module_version": "1.2.0",
            "_model_name": "LayoutModel",
            "_view_count": null,
            "_view_module": "@jupyter-widgets/base",
            "_view_module_version": "1.2.0",
            "_view_name": "LayoutView",
            "align_content": null,
            "align_items": null,
            "align_self": null,
            "border": null,
            "bottom": null,
            "display": null,
            "flex": null,
            "flex_flow": null,
            "grid_area": null,
            "grid_auto_columns": null,
            "grid_auto_flow": null,
            "grid_auto_rows": null,
            "grid_column": null,
            "grid_gap": null,
            "grid_row": null,
            "grid_template_areas": null,
            "grid_template_columns": null,
            "grid_template_rows": null,
            "height": null,
            "justify_content": null,
            "justify_items": null,
            "left": null,
            "margin": null,
            "max_height": null,
            "max_width": null,
            "min_height": null,
            "min_width": null,
            "object_fit": null,
            "object_position": null,
            "order": null,
            "overflow": null,
            "overflow_x": null,
            "overflow_y": null,
            "padding": null,
            "right": null,
            "top": null,
            "visibility": null,
            "width": "20px"
          }
        },
        "1ccb2c8e4ef24e50ab523e0452c9043a": {
          "model_module": "@jupyter-widgets/controls",
          "model_name": "ProgressStyleModel",
          "model_module_version": "1.5.0",
          "state": {
            "_model_module": "@jupyter-widgets/controls",
            "_model_module_version": "1.5.0",
            "_model_name": "ProgressStyleModel",
            "_view_count": null,
            "_view_module": "@jupyter-widgets/base",
            "_view_module_version": "1.2.0",
            "_view_name": "StyleView",
            "bar_color": null,
            "description_width": ""
          }
        },
        "39cc1f20e2f5484b8cd2d53e3f154e4c": {
          "model_module": "@jupyter-widgets/base",
          "model_name": "LayoutModel",
          "model_module_version": "1.2.0",
          "state": {
            "_model_module": "@jupyter-widgets/base",
            "_model_module_version": "1.2.0",
            "_model_name": "LayoutModel",
            "_view_count": null,
            "_view_module": "@jupyter-widgets/base",
            "_view_module_version": "1.2.0",
            "_view_name": "LayoutView",
            "align_content": null,
            "align_items": null,
            "align_self": null,
            "border": null,
            "bottom": null,
            "display": null,
            "flex": null,
            "flex_flow": null,
            "grid_area": null,
            "grid_auto_columns": null,
            "grid_auto_flow": null,
            "grid_auto_rows": null,
            "grid_column": null,
            "grid_gap": null,
            "grid_row": null,
            "grid_template_areas": null,
            "grid_template_columns": null,
            "grid_template_rows": null,
            "height": null,
            "justify_content": null,
            "justify_items": null,
            "left": null,
            "margin": null,
            "max_height": null,
            "max_width": null,
            "min_height": null,
            "min_width": null,
            "object_fit": null,
            "object_position": null,
            "order": null,
            "overflow": null,
            "overflow_x": null,
            "overflow_y": null,
            "padding": null,
            "right": null,
            "top": null,
            "visibility": null,
            "width": null
          }
        },
        "23201f3282984d0dac50b6ed33189444": {
          "model_module": "@jupyter-widgets/controls",
          "model_name": "DescriptionStyleModel",
          "model_module_version": "1.5.0",
          "state": {
            "_model_module": "@jupyter-widgets/controls",
            "_model_module_version": "1.5.0",
            "_model_name": "DescriptionStyleModel",
            "_view_count": null,
            "_view_module": "@jupyter-widgets/base",
            "_view_module_version": "1.2.0",
            "_view_name": "StyleView",
            "description_width": ""
          }
        },
        "90350eab18f54110b82d4206221ed8a5": {
          "model_module": "@jupyter-widgets/controls",
          "model_name": "HBoxModel",
          "model_module_version": "1.5.0",
          "state": {
            "_dom_classes": [],
            "_model_module": "@jupyter-widgets/controls",
            "_model_module_version": "1.5.0",
            "_model_name": "HBoxModel",
            "_view_count": null,
            "_view_module": "@jupyter-widgets/controls",
            "_view_module_version": "1.5.0",
            "_view_name": "HBoxView",
            "box_style": "",
            "children": [
              "IPY_MODEL_a56f46392f51495c9d4356910f9689d4",
              "IPY_MODEL_5fbcd880510e4c9e917f7e45b1be617f",
              "IPY_MODEL_0eeec499a6e8410d852a2de083d310a4"
            ],
            "layout": "IPY_MODEL_31b5039b38b9453c93dfe9986b8314d5"
          }
        },
        "a56f46392f51495c9d4356910f9689d4": {
          "model_module": "@jupyter-widgets/controls",
          "model_name": "HTMLModel",
          "model_module_version": "1.5.0",
          "state": {
            "_dom_classes": [],
            "_model_module": "@jupyter-widgets/controls",
            "_model_module_version": "1.5.0",
            "_model_name": "HTMLModel",
            "_view_count": null,
            "_view_module": "@jupyter-widgets/controls",
            "_view_module_version": "1.5.0",
            "_view_name": "HTMLView",
            "description": "",
            "description_tooltip": null,
            "layout": "IPY_MODEL_0605da222dce4704804865fd2abfda29",
            "placeholder": "​",
            "style": "IPY_MODEL_cc27421683aa4078b1733c71467cb630",
            "value": "tokenizer.json: "
          }
        },
        "5fbcd880510e4c9e917f7e45b1be617f": {
          "model_module": "@jupyter-widgets/controls",
          "model_name": "FloatProgressModel",
          "model_module_version": "1.5.0",
          "state": {
            "_dom_classes": [],
            "_model_module": "@jupyter-widgets/controls",
            "_model_module_version": "1.5.0",
            "_model_name": "FloatProgressModel",
            "_view_count": null,
            "_view_module": "@jupyter-widgets/controls",
            "_view_module_version": "1.5.0",
            "_view_name": "ProgressView",
            "bar_style": "success",
            "description": "",
            "description_tooltip": null,
            "layout": "IPY_MODEL_ec1deee1573a41b39341da67f7614da7",
            "max": 1,
            "min": 0,
            "orientation": "horizontal",
            "style": "IPY_MODEL_56b6e1c73b3e420a84af7d99680c048c",
            "value": 1
          }
        },
        "0eeec499a6e8410d852a2de083d310a4": {
          "model_module": "@jupyter-widgets/controls",
          "model_name": "HTMLModel",
          "model_module_version": "1.5.0",
          "state": {
            "_dom_classes": [],
            "_model_module": "@jupyter-widgets/controls",
            "_model_module_version": "1.5.0",
            "_model_name": "HTMLModel",
            "_view_count": null,
            "_view_module": "@jupyter-widgets/controls",
            "_view_module_version": "1.5.0",
            "_view_name": "HTMLView",
            "description": "",
            "description_tooltip": null,
            "layout": "IPY_MODEL_bdab1e55e6ff4268ac165e025ef33bff",
            "placeholder": "​",
            "style": "IPY_MODEL_0b8cb9cf8038414e8a45615dea99c397",
            "value": " 2.13M/? [00:00&lt;00:00, 91.3MB/s]"
          }
        },
        "31b5039b38b9453c93dfe9986b8314d5": {
          "model_module": "@jupyter-widgets/base",
          "model_name": "LayoutModel",
          "model_module_version": "1.2.0",
          "state": {
            "_model_module": "@jupyter-widgets/base",
            "_model_module_version": "1.2.0",
            "_model_name": "LayoutModel",
            "_view_count": null,
            "_view_module": "@jupyter-widgets/base",
            "_view_module_version": "1.2.0",
            "_view_name": "LayoutView",
            "align_content": null,
            "align_items": null,
            "align_self": null,
            "border": null,
            "bottom": null,
            "display": null,
            "flex": null,
            "flex_flow": null,
            "grid_area": null,
            "grid_auto_columns": null,
            "grid_auto_flow": null,
            "grid_auto_rows": null,
            "grid_column": null,
            "grid_gap": null,
            "grid_row": null,
            "grid_template_areas": null,
            "grid_template_columns": null,
            "grid_template_rows": null,
            "height": null,
            "justify_content": null,
            "justify_items": null,
            "left": null,
            "margin": null,
            "max_height": null,
            "max_width": null,
            "min_height": null,
            "min_width": null,
            "object_fit": null,
            "object_position": null,
            "order": null,
            "overflow": null,
            "overflow_x": null,
            "overflow_y": null,
            "padding": null,
            "right": null,
            "top": null,
            "visibility": null,
            "width": null
          }
        },
        "0605da222dce4704804865fd2abfda29": {
          "model_module": "@jupyter-widgets/base",
          "model_name": "LayoutModel",
          "model_module_version": "1.2.0",
          "state": {
            "_model_module": "@jupyter-widgets/base",
            "_model_module_version": "1.2.0",
            "_model_name": "LayoutModel",
            "_view_count": null,
            "_view_module": "@jupyter-widgets/base",
            "_view_module_version": "1.2.0",
            "_view_name": "LayoutView",
            "align_content": null,
            "align_items": null,
            "align_self": null,
            "border": null,
            "bottom": null,
            "display": null,
            "flex": null,
            "flex_flow": null,
            "grid_area": null,
            "grid_auto_columns": null,
            "grid_auto_flow": null,
            "grid_auto_rows": null,
            "grid_column": null,
            "grid_gap": null,
            "grid_row": null,
            "grid_template_areas": null,
            "grid_template_columns": null,
            "grid_template_rows": null,
            "height": null,
            "justify_content": null,
            "justify_items": null,
            "left": null,
            "margin": null,
            "max_height": null,
            "max_width": null,
            "min_height": null,
            "min_width": null,
            "object_fit": null,
            "object_position": null,
            "order": null,
            "overflow": null,
            "overflow_x": null,
            "overflow_y": null,
            "padding": null,
            "right": null,
            "top": null,
            "visibility": null,
            "width": null
          }
        },
        "cc27421683aa4078b1733c71467cb630": {
          "model_module": "@jupyter-widgets/controls",
          "model_name": "DescriptionStyleModel",
          "model_module_version": "1.5.0",
          "state": {
            "_model_module": "@jupyter-widgets/controls",
            "_model_module_version": "1.5.0",
            "_model_name": "DescriptionStyleModel",
            "_view_count": null,
            "_view_module": "@jupyter-widgets/base",
            "_view_module_version": "1.2.0",
            "_view_name": "StyleView",
            "description_width": ""
          }
        },
        "ec1deee1573a41b39341da67f7614da7": {
          "model_module": "@jupyter-widgets/base",
          "model_name": "LayoutModel",
          "model_module_version": "1.2.0",
          "state": {
            "_model_module": "@jupyter-widgets/base",
            "_model_module_version": "1.2.0",
            "_model_name": "LayoutModel",
            "_view_count": null,
            "_view_module": "@jupyter-widgets/base",
            "_view_module_version": "1.2.0",
            "_view_name": "LayoutView",
            "align_content": null,
            "align_items": null,
            "align_self": null,
            "border": null,
            "bottom": null,
            "display": null,
            "flex": null,
            "flex_flow": null,
            "grid_area": null,
            "grid_auto_columns": null,
            "grid_auto_flow": null,
            "grid_auto_rows": null,
            "grid_column": null,
            "grid_gap": null,
            "grid_row": null,
            "grid_template_areas": null,
            "grid_template_columns": null,
            "grid_template_rows": null,
            "height": null,
            "justify_content": null,
            "justify_items": null,
            "left": null,
            "margin": null,
            "max_height": null,
            "max_width": null,
            "min_height": null,
            "min_width": null,
            "object_fit": null,
            "object_position": null,
            "order": null,
            "overflow": null,
            "overflow_x": null,
            "overflow_y": null,
            "padding": null,
            "right": null,
            "top": null,
            "visibility": null,
            "width": "20px"
          }
        },
        "56b6e1c73b3e420a84af7d99680c048c": {
          "model_module": "@jupyter-widgets/controls",
          "model_name": "ProgressStyleModel",
          "model_module_version": "1.5.0",
          "state": {
            "_model_module": "@jupyter-widgets/controls",
            "_model_module_version": "1.5.0",
            "_model_name": "ProgressStyleModel",
            "_view_count": null,
            "_view_module": "@jupyter-widgets/base",
            "_view_module_version": "1.2.0",
            "_view_name": "StyleView",
            "bar_color": null,
            "description_width": ""
          }
        },
        "bdab1e55e6ff4268ac165e025ef33bff": {
          "model_module": "@jupyter-widgets/base",
          "model_name": "LayoutModel",
          "model_module_version": "1.2.0",
          "state": {
            "_model_module": "@jupyter-widgets/base",
            "_model_module_version": "1.2.0",
            "_model_name": "LayoutModel",
            "_view_count": null,
            "_view_module": "@jupyter-widgets/base",
            "_view_module_version": "1.2.0",
            "_view_name": "LayoutView",
            "align_content": null,
            "align_items": null,
            "align_self": null,
            "border": null,
            "bottom": null,
            "display": null,
            "flex": null,
            "flex_flow": null,
            "grid_area": null,
            "grid_auto_columns": null,
            "grid_auto_flow": null,
            "grid_auto_rows": null,
            "grid_column": null,
            "grid_gap": null,
            "grid_row": null,
            "grid_template_areas": null,
            "grid_template_columns": null,
            "grid_template_rows": null,
            "height": null,
            "justify_content": null,
            "justify_items": null,
            "left": null,
            "margin": null,
            "max_height": null,
            "max_width": null,
            "min_height": null,
            "min_width": null,
            "object_fit": null,
            "object_position": null,
            "order": null,
            "overflow": null,
            "overflow_x": null,
            "overflow_y": null,
            "padding": null,
            "right": null,
            "top": null,
            "visibility": null,
            "width": null
          }
        },
        "0b8cb9cf8038414e8a45615dea99c397": {
          "model_module": "@jupyter-widgets/controls",
          "model_name": "DescriptionStyleModel",
          "model_module_version": "1.5.0",
          "state": {
            "_model_module": "@jupyter-widgets/controls",
            "_model_module_version": "1.5.0",
            "_model_name": "DescriptionStyleModel",
            "_view_count": null,
            "_view_module": "@jupyter-widgets/base",
            "_view_module_version": "1.2.0",
            "_view_name": "StyleView",
            "description_width": ""
          }
        },
        "aad475c920f744febebf08944ed35c85": {
          "model_module": "@jupyter-widgets/controls",
          "model_name": "HBoxModel",
          "model_module_version": "1.5.0",
          "state": {
            "_dom_classes": [],
            "_model_module": "@jupyter-widgets/controls",
            "_model_module_version": "1.5.0",
            "_model_name": "HBoxModel",
            "_view_count": null,
            "_view_module": "@jupyter-widgets/controls",
            "_view_module_version": "1.5.0",
            "_view_name": "HBoxView",
            "box_style": "",
            "children": [
              "IPY_MODEL_ae97f09ec6a54abfa2c6abb0a775aa36",
              "IPY_MODEL_1be356ad99dc421c865774cdfe7e10a8",
              "IPY_MODEL_176dde5b229b4cb3a2ccf9b8331efa92"
            ],
            "layout": "IPY_MODEL_f827632ea28d4d87b221176e9bd1ebe6"
          }
        },
        "ae97f09ec6a54abfa2c6abb0a775aa36": {
          "model_module": "@jupyter-widgets/controls",
          "model_name": "HTMLModel",
          "model_module_version": "1.5.0",
          "state": {
            "_dom_classes": [],
            "_model_module": "@jupyter-widgets/controls",
            "_model_module_version": "1.5.0",
            "_model_name": "HTMLModel",
            "_view_count": null,
            "_view_module": "@jupyter-widgets/controls",
            "_view_module_version": "1.5.0",
            "_view_name": "HTMLView",
            "description": "",
            "description_tooltip": null,
            "layout": "IPY_MODEL_7c07df9664594ec08b19b08545d03a18",
            "placeholder": "​",
            "style": "IPY_MODEL_d132bdf2de244b7c9d941975d67ee365",
            "value": "special_tokens_map.json: 100%"
          }
        },
        "1be356ad99dc421c865774cdfe7e10a8": {
          "model_module": "@jupyter-widgets/controls",
          "model_name": "FloatProgressModel",
          "model_module_version": "1.5.0",
          "state": {
            "_dom_classes": [],
            "_model_module": "@jupyter-widgets/controls",
            "_model_module_version": "1.5.0",
            "_model_name": "FloatProgressModel",
            "_view_count": null,
            "_view_module": "@jupyter-widgets/controls",
            "_view_module_version": "1.5.0",
            "_view_name": "ProgressView",
            "bar_style": "success",
            "description": "",
            "description_tooltip": null,
            "layout": "IPY_MODEL_cae181375ca2401dbb4f45b1a301f17c",
            "max": 694,
            "min": 0,
            "orientation": "horizontal",
            "style": "IPY_MODEL_78c13fe4417546d8af7d08fe0a663765",
            "value": 694
          }
        },
        "176dde5b229b4cb3a2ccf9b8331efa92": {
          "model_module": "@jupyter-widgets/controls",
          "model_name": "HTMLModel",
          "model_module_version": "1.5.0",
          "state": {
            "_dom_classes": [],
            "_model_module": "@jupyter-widgets/controls",
            "_model_module_version": "1.5.0",
            "_model_name": "HTMLModel",
            "_view_count": null,
            "_view_module": "@jupyter-widgets/controls",
            "_view_module_version": "1.5.0",
            "_view_name": "HTMLView",
            "description": "",
            "description_tooltip": null,
            "layout": "IPY_MODEL_06ec20265bd54725826dbdaab645d4fb",
            "placeholder": "​",
            "style": "IPY_MODEL_18d5c70456b94012a912ee491c7daf3d",
            "value": " 694/694 [00:00&lt;00:00, 104kB/s]"
          }
        },
        "f827632ea28d4d87b221176e9bd1ebe6": {
          "model_module": "@jupyter-widgets/base",
          "model_name": "LayoutModel",
          "model_module_version": "1.2.0",
          "state": {
            "_model_module": "@jupyter-widgets/base",
            "_model_module_version": "1.2.0",
            "_model_name": "LayoutModel",
            "_view_count": null,
            "_view_module": "@jupyter-widgets/base",
            "_view_module_version": "1.2.0",
            "_view_name": "LayoutView",
            "align_content": null,
            "align_items": null,
            "align_self": null,
            "border": null,
            "bottom": null,
            "display": null,
            "flex": null,
            "flex_flow": null,
            "grid_area": null,
            "grid_auto_columns": null,
            "grid_auto_flow": null,
            "grid_auto_rows": null,
            "grid_column": null,
            "grid_gap": null,
            "grid_row": null,
            "grid_template_areas": null,
            "grid_template_columns": null,
            "grid_template_rows": null,
            "height": null,
            "justify_content": null,
            "justify_items": null,
            "left": null,
            "margin": null,
            "max_height": null,
            "max_width": null,
            "min_height": null,
            "min_width": null,
            "object_fit": null,
            "object_position": null,
            "order": null,
            "overflow": null,
            "overflow_x": null,
            "overflow_y": null,
            "padding": null,
            "right": null,
            "top": null,
            "visibility": null,
            "width": null
          }
        },
        "7c07df9664594ec08b19b08545d03a18": {
          "model_module": "@jupyter-widgets/base",
          "model_name": "LayoutModel",
          "model_module_version": "1.2.0",
          "state": {
            "_model_module": "@jupyter-widgets/base",
            "_model_module_version": "1.2.0",
            "_model_name": "LayoutModel",
            "_view_count": null,
            "_view_module": "@jupyter-widgets/base",
            "_view_module_version": "1.2.0",
            "_view_name": "LayoutView",
            "align_content": null,
            "align_items": null,
            "align_self": null,
            "border": null,
            "bottom": null,
            "display": null,
            "flex": null,
            "flex_flow": null,
            "grid_area": null,
            "grid_auto_columns": null,
            "grid_auto_flow": null,
            "grid_auto_rows": null,
            "grid_column": null,
            "grid_gap": null,
            "grid_row": null,
            "grid_template_areas": null,
            "grid_template_columns": null,
            "grid_template_rows": null,
            "height": null,
            "justify_content": null,
            "justify_items": null,
            "left": null,
            "margin": null,
            "max_height": null,
            "max_width": null,
            "min_height": null,
            "min_width": null,
            "object_fit": null,
            "object_position": null,
            "order": null,
            "overflow": null,
            "overflow_x": null,
            "overflow_y": null,
            "padding": null,
            "right": null,
            "top": null,
            "visibility": null,
            "width": null
          }
        },
        "d132bdf2de244b7c9d941975d67ee365": {
          "model_module": "@jupyter-widgets/controls",
          "model_name": "DescriptionStyleModel",
          "model_module_version": "1.5.0",
          "state": {
            "_model_module": "@jupyter-widgets/controls",
            "_model_module_version": "1.5.0",
            "_model_name": "DescriptionStyleModel",
            "_view_count": null,
            "_view_module": "@jupyter-widgets/base",
            "_view_module_version": "1.2.0",
            "_view_name": "StyleView",
            "description_width": ""
          }
        },
        "cae181375ca2401dbb4f45b1a301f17c": {
          "model_module": "@jupyter-widgets/base",
          "model_name": "LayoutModel",
          "model_module_version": "1.2.0",
          "state": {
            "_model_module": "@jupyter-widgets/base",
            "_model_module_version": "1.2.0",
            "_model_name": "LayoutModel",
            "_view_count": null,
            "_view_module": "@jupyter-widgets/base",
            "_view_module_version": "1.2.0",
            "_view_name": "LayoutView",
            "align_content": null,
            "align_items": null,
            "align_self": null,
            "border": null,
            "bottom": null,
            "display": null,
            "flex": null,
            "flex_flow": null,
            "grid_area": null,
            "grid_auto_columns": null,
            "grid_auto_flow": null,
            "grid_auto_rows": null,
            "grid_column": null,
            "grid_gap": null,
            "grid_row": null,
            "grid_template_areas": null,
            "grid_template_columns": null,
            "grid_template_rows": null,
            "height": null,
            "justify_content": null,
            "justify_items": null,
            "left": null,
            "margin": null,
            "max_height": null,
            "max_width": null,
            "min_height": null,
            "min_width": null,
            "object_fit": null,
            "object_position": null,
            "order": null,
            "overflow": null,
            "overflow_x": null,
            "overflow_y": null,
            "padding": null,
            "right": null,
            "top": null,
            "visibility": null,
            "width": null
          }
        },
        "78c13fe4417546d8af7d08fe0a663765": {
          "model_module": "@jupyter-widgets/controls",
          "model_name": "ProgressStyleModel",
          "model_module_version": "1.5.0",
          "state": {
            "_model_module": "@jupyter-widgets/controls",
            "_model_module_version": "1.5.0",
            "_model_name": "ProgressStyleModel",
            "_view_count": null,
            "_view_module": "@jupyter-widgets/base",
            "_view_module_version": "1.2.0",
            "_view_name": "StyleView",
            "bar_color": null,
            "description_width": ""
          }
        },
        "06ec20265bd54725826dbdaab645d4fb": {
          "model_module": "@jupyter-widgets/base",
          "model_name": "LayoutModel",
          "model_module_version": "1.2.0",
          "state": {
            "_model_module": "@jupyter-widgets/base",
            "_model_module_version": "1.2.0",
            "_model_name": "LayoutModel",
            "_view_count": null,
            "_view_module": "@jupyter-widgets/base",
            "_view_module_version": "1.2.0",
            "_view_name": "LayoutView",
            "align_content": null,
            "align_items": null,
            "align_self": null,
            "border": null,
            "bottom": null,
            "display": null,
            "flex": null,
            "flex_flow": null,
            "grid_area": null,
            "grid_auto_columns": null,
            "grid_auto_flow": null,
            "grid_auto_rows": null,
            "grid_column": null,
            "grid_gap": null,
            "grid_row": null,
            "grid_template_areas": null,
            "grid_template_columns": null,
            "grid_template_rows": null,
            "height": null,
            "justify_content": null,
            "justify_items": null,
            "left": null,
            "margin": null,
            "max_height": null,
            "max_width": null,
            "min_height": null,
            "min_width": null,
            "object_fit": null,
            "object_position": null,
            "order": null,
            "overflow": null,
            "overflow_x": null,
            "overflow_y": null,
            "padding": null,
            "right": null,
            "top": null,
            "visibility": null,
            "width": null
          }
        },
        "18d5c70456b94012a912ee491c7daf3d": {
          "model_module": "@jupyter-widgets/controls",
          "model_name": "DescriptionStyleModel",
          "model_module_version": "1.5.0",
          "state": {
            "_model_module": "@jupyter-widgets/controls",
            "_model_module_version": "1.5.0",
            "_model_name": "DescriptionStyleModel",
            "_view_count": null,
            "_view_module": "@jupyter-widgets/base",
            "_view_module_version": "1.2.0",
            "_view_name": "StyleView",
            "description_width": ""
          }
        },
        "2ef1536ebaf946d5b2dffd613682bb25": {
          "model_module": "@jupyter-widgets/controls",
          "model_name": "HBoxModel",
          "model_module_version": "1.5.0",
          "state": {
            "_dom_classes": [],
            "_model_module": "@jupyter-widgets/controls",
            "_model_module_version": "1.5.0",
            "_model_name": "HBoxModel",
            "_view_count": null,
            "_view_module": "@jupyter-widgets/controls",
            "_view_module_version": "1.5.0",
            "_view_name": "HBoxView",
            "box_style": "",
            "children": [
              "IPY_MODEL_3b53814552a64f5493e72e1c0a7e9e87",
              "IPY_MODEL_4284fd61dd2244c2956deb26113ec743",
              "IPY_MODEL_872b533e2c1e46cf86b876402745e5c0"
            ],
            "layout": "IPY_MODEL_79fcc4c764874c97add00f1b169436e4"
          }
        },
        "3b53814552a64f5493e72e1c0a7e9e87": {
          "model_module": "@jupyter-widgets/controls",
          "model_name": "HTMLModel",
          "model_module_version": "1.5.0",
          "state": {
            "_dom_classes": [],
            "_model_module": "@jupyter-widgets/controls",
            "_model_module_version": "1.5.0",
            "_model_name": "HTMLModel",
            "_view_count": null,
            "_view_module": "@jupyter-widgets/controls",
            "_view_module_version": "1.5.0",
            "_view_name": "HTMLView",
            "description": "",
            "description_tooltip": null,
            "layout": "IPY_MODEL_602731495811408db6267e205eb7c887",
            "placeholder": "​",
            "style": "IPY_MODEL_e60972b0199d431ba0c0b33be795ca80",
            "value": "config.json: "
          }
        },
        "4284fd61dd2244c2956deb26113ec743": {
          "model_module": "@jupyter-widgets/controls",
          "model_name": "FloatProgressModel",
          "model_module_version": "1.5.0",
          "state": {
            "_dom_classes": [],
            "_model_module": "@jupyter-widgets/controls",
            "_model_module_version": "1.5.0",
            "_model_name": "FloatProgressModel",
            "_view_count": null,
            "_view_module": "@jupyter-widgets/controls",
            "_view_module_version": "1.5.0",
            "_view_name": "ProgressView",
            "bar_style": "success",
            "description": "",
            "description_tooltip": null,
            "layout": "IPY_MODEL_fd69e6c22fb344ac99eb65f1a61f3928",
            "max": 1,
            "min": 0,
            "orientation": "horizontal",
            "style": "IPY_MODEL_7c578d104d924a9daaeedfccef41337e",
            "value": 1
          }
        },
        "872b533e2c1e46cf86b876402745e5c0": {
          "model_module": "@jupyter-widgets/controls",
          "model_name": "HTMLModel",
          "model_module_version": "1.5.0",
          "state": {
            "_dom_classes": [],
            "_model_module": "@jupyter-widgets/controls",
            "_model_module_version": "1.5.0",
            "_model_name": "HTMLModel",
            "_view_count": null,
            "_view_module": "@jupyter-widgets/controls",
            "_view_module_version": "1.5.0",
            "_view_name": "HTMLView",
            "description": "",
            "description_tooltip": null,
            "layout": "IPY_MODEL_ef54f0117a2a4e0a824714301d625bd1",
            "placeholder": "​",
            "style": "IPY_MODEL_6abd9475e2e645de844dd1abd2923e30",
            "value": " 1.19k/? [00:00&lt;00:00, 133kB/s]"
          }
        },
        "79fcc4c764874c97add00f1b169436e4": {
          "model_module": "@jupyter-widgets/base",
          "model_name": "LayoutModel",
          "model_module_version": "1.2.0",
          "state": {
            "_model_module": "@jupyter-widgets/base",
            "_model_module_version": "1.2.0",
            "_model_name": "LayoutModel",
            "_view_count": null,
            "_view_module": "@jupyter-widgets/base",
            "_view_module_version": "1.2.0",
            "_view_name": "LayoutView",
            "align_content": null,
            "align_items": null,
            "align_self": null,
            "border": null,
            "bottom": null,
            "display": null,
            "flex": null,
            "flex_flow": null,
            "grid_area": null,
            "grid_auto_columns": null,
            "grid_auto_flow": null,
            "grid_auto_rows": null,
            "grid_column": null,
            "grid_gap": null,
            "grid_row": null,
            "grid_template_areas": null,
            "grid_template_columns": null,
            "grid_template_rows": null,
            "height": null,
            "justify_content": null,
            "justify_items": null,
            "left": null,
            "margin": null,
            "max_height": null,
            "max_width": null,
            "min_height": null,
            "min_width": null,
            "object_fit": null,
            "object_position": null,
            "order": null,
            "overflow": null,
            "overflow_x": null,
            "overflow_y": null,
            "padding": null,
            "right": null,
            "top": null,
            "visibility": null,
            "width": null
          }
        },
        "602731495811408db6267e205eb7c887": {
          "model_module": "@jupyter-widgets/base",
          "model_name": "LayoutModel",
          "model_module_version": "1.2.0",
          "state": {
            "_model_module": "@jupyter-widgets/base",
            "_model_module_version": "1.2.0",
            "_model_name": "LayoutModel",
            "_view_count": null,
            "_view_module": "@jupyter-widgets/base",
            "_view_module_version": "1.2.0",
            "_view_name": "LayoutView",
            "align_content": null,
            "align_items": null,
            "align_self": null,
            "border": null,
            "bottom": null,
            "display": null,
            "flex": null,
            "flex_flow": null,
            "grid_area": null,
            "grid_auto_columns": null,
            "grid_auto_flow": null,
            "grid_auto_rows": null,
            "grid_column": null,
            "grid_gap": null,
            "grid_row": null,
            "grid_template_areas": null,
            "grid_template_columns": null,
            "grid_template_rows": null,
            "height": null,
            "justify_content": null,
            "justify_items": null,
            "left": null,
            "margin": null,
            "max_height": null,
            "max_width": null,
            "min_height": null,
            "min_width": null,
            "object_fit": null,
            "object_position": null,
            "order": null,
            "overflow": null,
            "overflow_x": null,
            "overflow_y": null,
            "padding": null,
            "right": null,
            "top": null,
            "visibility": null,
            "width": null
          }
        },
        "e60972b0199d431ba0c0b33be795ca80": {
          "model_module": "@jupyter-widgets/controls",
          "model_name": "DescriptionStyleModel",
          "model_module_version": "1.5.0",
          "state": {
            "_model_module": "@jupyter-widgets/controls",
            "_model_module_version": "1.5.0",
            "_model_name": "DescriptionStyleModel",
            "_view_count": null,
            "_view_module": "@jupyter-widgets/base",
            "_view_module_version": "1.2.0",
            "_view_name": "StyleView",
            "description_width": ""
          }
        },
        "fd69e6c22fb344ac99eb65f1a61f3928": {
          "model_module": "@jupyter-widgets/base",
          "model_name": "LayoutModel",
          "model_module_version": "1.2.0",
          "state": {
            "_model_module": "@jupyter-widgets/base",
            "_model_module_version": "1.2.0",
            "_model_name": "LayoutModel",
            "_view_count": null,
            "_view_module": "@jupyter-widgets/base",
            "_view_module_version": "1.2.0",
            "_view_name": "LayoutView",
            "align_content": null,
            "align_items": null,
            "align_self": null,
            "border": null,
            "bottom": null,
            "display": null,
            "flex": null,
            "flex_flow": null,
            "grid_area": null,
            "grid_auto_columns": null,
            "grid_auto_flow": null,
            "grid_auto_rows": null,
            "grid_column": null,
            "grid_gap": null,
            "grid_row": null,
            "grid_template_areas": null,
            "grid_template_columns": null,
            "grid_template_rows": null,
            "height": null,
            "justify_content": null,
            "justify_items": null,
            "left": null,
            "margin": null,
            "max_height": null,
            "max_width": null,
            "min_height": null,
            "min_width": null,
            "object_fit": null,
            "object_position": null,
            "order": null,
            "overflow": null,
            "overflow_x": null,
            "overflow_y": null,
            "padding": null,
            "right": null,
            "top": null,
            "visibility": null,
            "width": "20px"
          }
        },
        "7c578d104d924a9daaeedfccef41337e": {
          "model_module": "@jupyter-widgets/controls",
          "model_name": "ProgressStyleModel",
          "model_module_version": "1.5.0",
          "state": {
            "_model_module": "@jupyter-widgets/controls",
            "_model_module_version": "1.5.0",
            "_model_name": "ProgressStyleModel",
            "_view_count": null,
            "_view_module": "@jupyter-widgets/base",
            "_view_module_version": "1.2.0",
            "_view_name": "StyleView",
            "bar_color": null,
            "description_width": ""
          }
        },
        "ef54f0117a2a4e0a824714301d625bd1": {
          "model_module": "@jupyter-widgets/base",
          "model_name": "LayoutModel",
          "model_module_version": "1.2.0",
          "state": {
            "_model_module": "@jupyter-widgets/base",
            "_model_module_version": "1.2.0",
            "_model_name": "LayoutModel",
            "_view_count": null,
            "_view_module": "@jupyter-widgets/base",
            "_view_module_version": "1.2.0",
            "_view_name": "LayoutView",
            "align_content": null,
            "align_items": null,
            "align_self": null,
            "border": null,
            "bottom": null,
            "display": null,
            "flex": null,
            "flex_flow": null,
            "grid_area": null,
            "grid_auto_columns": null,
            "grid_auto_flow": null,
            "grid_auto_rows": null,
            "grid_column": null,
            "grid_gap": null,
            "grid_row": null,
            "grid_template_areas": null,
            "grid_template_columns": null,
            "grid_template_rows": null,
            "height": null,
            "justify_content": null,
            "justify_items": null,
            "left": null,
            "margin": null,
            "max_height": null,
            "max_width": null,
            "min_height": null,
            "min_width": null,
            "object_fit": null,
            "object_position": null,
            "order": null,
            "overflow": null,
            "overflow_x": null,
            "overflow_y": null,
            "padding": null,
            "right": null,
            "top": null,
            "visibility": null,
            "width": null
          }
        },
        "6abd9475e2e645de844dd1abd2923e30": {
          "model_module": "@jupyter-widgets/controls",
          "model_name": "DescriptionStyleModel",
          "model_module_version": "1.5.0",
          "state": {
            "_model_module": "@jupyter-widgets/controls",
            "_model_module_version": "1.5.0",
            "_model_name": "DescriptionStyleModel",
            "_view_count": null,
            "_view_module": "@jupyter-widgets/base",
            "_view_module_version": "1.2.0",
            "_view_name": "StyleView",
            "description_width": ""
          }
        },
        "44c41a1b9ecb44188c4864782590e59c": {
          "model_module": "@jupyter-widgets/controls",
          "model_name": "HBoxModel",
          "model_module_version": "1.5.0",
          "state": {
            "_dom_classes": [],
            "_model_module": "@jupyter-widgets/controls",
            "_model_module_version": "1.5.0",
            "_model_name": "HBoxModel",
            "_view_count": null,
            "_view_module": "@jupyter-widgets/controls",
            "_view_module_version": "1.5.0",
            "_view_name": "HBoxView",
            "box_style": "",
            "children": [
              "IPY_MODEL_29d75f0de0884d108deb4f059b5ea341",
              "IPY_MODEL_47f05336dc804fb194c9ef0f18c3de27",
              "IPY_MODEL_d44584881a5e47c8b35495201cfc2488"
            ],
            "layout": "IPY_MODEL_6dc78f7fb6674f2993b14585c0d50a80"
          }
        },
        "29d75f0de0884d108deb4f059b5ea341": {
          "model_module": "@jupyter-widgets/controls",
          "model_name": "HTMLModel",
          "model_module_version": "1.5.0",
          "state": {
            "_dom_classes": [],
            "_model_module": "@jupyter-widgets/controls",
            "_model_module_version": "1.5.0",
            "_model_name": "HTMLModel",
            "_view_count": null,
            "_view_module": "@jupyter-widgets/controls",
            "_view_module_version": "1.5.0",
            "_view_name": "HTMLView",
            "description": "",
            "description_tooltip": null,
            "layout": "IPY_MODEL_3cef57fc192f451a83d8949251d4a2b0",
            "placeholder": "​",
            "style": "IPY_MODEL_4908cee351674da598e150b53828d35a",
            "value": "model.safetensors: 100%"
          }
        },
        "47f05336dc804fb194c9ef0f18c3de27": {
          "model_module": "@jupyter-widgets/controls",
          "model_name": "FloatProgressModel",
          "model_module_version": "1.5.0",
          "state": {
            "_dom_classes": [],
            "_model_module": "@jupyter-widgets/controls",
            "_model_module_version": "1.5.0",
            "_model_name": "FloatProgressModel",
            "_view_count": null,
            "_view_module": "@jupyter-widgets/controls",
            "_view_module_version": "1.5.0",
            "_view_name": "ProgressView",
            "bar_style": "success",
            "description": "",
            "description_tooltip": null,
            "layout": "IPY_MODEL_589fc738592b4e18bd0cb4f838bc2d3d",
            "max": 598635032,
            "min": 0,
            "orientation": "horizontal",
            "style": "IPY_MODEL_d89b1b3be85443b086bfc73e0d06ef4a",
            "value": 598635032
          }
        },
        "d44584881a5e47c8b35495201cfc2488": {
          "model_module": "@jupyter-widgets/controls",
          "model_name": "HTMLModel",
          "model_module_version": "1.5.0",
          "state": {
            "_dom_classes": [],
            "_model_module": "@jupyter-widgets/controls",
            "_model_module_version": "1.5.0",
            "_model_name": "HTMLModel",
            "_view_count": null,
            "_view_module": "@jupyter-widgets/controls",
            "_view_module_version": "1.5.0",
            "_view_name": "HTMLView",
            "description": "",
            "description_tooltip": null,
            "layout": "IPY_MODEL_d7f5cd3081074c01afd868b89e9f69c7",
            "placeholder": "​",
            "style": "IPY_MODEL_68960b94d94040f28482f2a97096e970",
            "value": " 599M/599M [00:01&lt;00:00, 442MB/s]"
          }
        },
        "6dc78f7fb6674f2993b14585c0d50a80": {
          "model_module": "@jupyter-widgets/base",
          "model_name": "LayoutModel",
          "model_module_version": "1.2.0",
          "state": {
            "_model_module": "@jupyter-widgets/base",
            "_model_module_version": "1.2.0",
            "_model_name": "LayoutModel",
            "_view_count": null,
            "_view_module": "@jupyter-widgets/base",
            "_view_module_version": "1.2.0",
            "_view_name": "LayoutView",
            "align_content": null,
            "align_items": null,
            "align_self": null,
            "border": null,
            "bottom": null,
            "display": null,
            "flex": null,
            "flex_flow": null,
            "grid_area": null,
            "grid_auto_columns": null,
            "grid_auto_flow": null,
            "grid_auto_rows": null,
            "grid_column": null,
            "grid_gap": null,
            "grid_row": null,
            "grid_template_areas": null,
            "grid_template_columns": null,
            "grid_template_rows": null,
            "height": null,
            "justify_content": null,
            "justify_items": null,
            "left": null,
            "margin": null,
            "max_height": null,
            "max_width": null,
            "min_height": null,
            "min_width": null,
            "object_fit": null,
            "object_position": null,
            "order": null,
            "overflow": null,
            "overflow_x": null,
            "overflow_y": null,
            "padding": null,
            "right": null,
            "top": null,
            "visibility": null,
            "width": null
          }
        },
        "3cef57fc192f451a83d8949251d4a2b0": {
          "model_module": "@jupyter-widgets/base",
          "model_name": "LayoutModel",
          "model_module_version": "1.2.0",
          "state": {
            "_model_module": "@jupyter-widgets/base",
            "_model_module_version": "1.2.0",
            "_model_name": "LayoutModel",
            "_view_count": null,
            "_view_module": "@jupyter-widgets/base",
            "_view_module_version": "1.2.0",
            "_view_name": "LayoutView",
            "align_content": null,
            "align_items": null,
            "align_self": null,
            "border": null,
            "bottom": null,
            "display": null,
            "flex": null,
            "flex_flow": null,
            "grid_area": null,
            "grid_auto_columns": null,
            "grid_auto_flow": null,
            "grid_auto_rows": null,
            "grid_column": null,
            "grid_gap": null,
            "grid_row": null,
            "grid_template_areas": null,
            "grid_template_columns": null,
            "grid_template_rows": null,
            "height": null,
            "justify_content": null,
            "justify_items": null,
            "left": null,
            "margin": null,
            "max_height": null,
            "max_width": null,
            "min_height": null,
            "min_width": null,
            "object_fit": null,
            "object_position": null,
            "order": null,
            "overflow": null,
            "overflow_x": null,
            "overflow_y": null,
            "padding": null,
            "right": null,
            "top": null,
            "visibility": null,
            "width": null
          }
        },
        "4908cee351674da598e150b53828d35a": {
          "model_module": "@jupyter-widgets/controls",
          "model_name": "DescriptionStyleModel",
          "model_module_version": "1.5.0",
          "state": {
            "_model_module": "@jupyter-widgets/controls",
            "_model_module_version": "1.5.0",
            "_model_name": "DescriptionStyleModel",
            "_view_count": null,
            "_view_module": "@jupyter-widgets/base",
            "_view_module_version": "1.2.0",
            "_view_name": "StyleView",
            "description_width": ""
          }
        },
        "589fc738592b4e18bd0cb4f838bc2d3d": {
          "model_module": "@jupyter-widgets/base",
          "model_name": "LayoutModel",
          "model_module_version": "1.2.0",
          "state": {
            "_model_module": "@jupyter-widgets/base",
            "_model_module_version": "1.2.0",
            "_model_name": "LayoutModel",
            "_view_count": null,
            "_view_module": "@jupyter-widgets/base",
            "_view_module_version": "1.2.0",
            "_view_name": "LayoutView",
            "align_content": null,
            "align_items": null,
            "align_self": null,
            "border": null,
            "bottom": null,
            "display": null,
            "flex": null,
            "flex_flow": null,
            "grid_area": null,
            "grid_auto_columns": null,
            "grid_auto_flow": null,
            "grid_auto_rows": null,
            "grid_column": null,
            "grid_gap": null,
            "grid_row": null,
            "grid_template_areas": null,
            "grid_template_columns": null,
            "grid_template_rows": null,
            "height": null,
            "justify_content": null,
            "justify_items": null,
            "left": null,
            "margin": null,
            "max_height": null,
            "max_width": null,
            "min_height": null,
            "min_width": null,
            "object_fit": null,
            "object_position": null,
            "order": null,
            "overflow": null,
            "overflow_x": null,
            "overflow_y": null,
            "padding": null,
            "right": null,
            "top": null,
            "visibility": null,
            "width": null
          }
        },
        "d89b1b3be85443b086bfc73e0d06ef4a": {
          "model_module": "@jupyter-widgets/controls",
          "model_name": "ProgressStyleModel",
          "model_module_version": "1.5.0",
          "state": {
            "_model_module": "@jupyter-widgets/controls",
            "_model_module_version": "1.5.0",
            "_model_name": "ProgressStyleModel",
            "_view_count": null,
            "_view_module": "@jupyter-widgets/base",
            "_view_module_version": "1.2.0",
            "_view_name": "StyleView",
            "bar_color": null,
            "description_width": ""
          }
        },
        "d7f5cd3081074c01afd868b89e9f69c7": {
          "model_module": "@jupyter-widgets/base",
          "model_name": "LayoutModel",
          "model_module_version": "1.2.0",
          "state": {
            "_model_module": "@jupyter-widgets/base",
            "_model_module_version": "1.2.0",
            "_model_name": "LayoutModel",
            "_view_count": null,
            "_view_module": "@jupyter-widgets/base",
            "_view_module_version": "1.2.0",
            "_view_name": "LayoutView",
            "align_content": null,
            "align_items": null,
            "align_self": null,
            "border": null,
            "bottom": null,
            "display": null,
            "flex": null,
            "flex_flow": null,
            "grid_area": null,
            "grid_auto_columns": null,
            "grid_auto_flow": null,
            "grid_auto_rows": null,
            "grid_column": null,
            "grid_gap": null,
            "grid_row": null,
            "grid_template_areas": null,
            "grid_template_columns": null,
            "grid_template_rows": null,
            "height": null,
            "justify_content": null,
            "justify_items": null,
            "left": null,
            "margin": null,
            "max_height": null,
            "max_width": null,
            "min_height": null,
            "min_width": null,
            "object_fit": null,
            "object_position": null,
            "order": null,
            "overflow": null,
            "overflow_x": null,
            "overflow_y": null,
            "padding": null,
            "right": null,
            "top": null,
            "visibility": null,
            "width": null
          }
        },
        "68960b94d94040f28482f2a97096e970": {
          "model_module": "@jupyter-widgets/controls",
          "model_name": "DescriptionStyleModel",
          "model_module_version": "1.5.0",
          "state": {
            "_model_module": "@jupyter-widgets/controls",
            "_model_module_version": "1.5.0",
            "_model_name": "DescriptionStyleModel",
            "_view_count": null,
            "_view_module": "@jupyter-widgets/base",
            "_view_module_version": "1.2.0",
            "_view_name": "StyleView",
            "description_width": ""
          }
        },
        "85bf4c227685461088a0f3a3b1ab364e": {
          "model_module": "@jupyter-widgets/controls",
          "model_name": "HBoxModel",
          "model_module_version": "1.5.0",
          "state": {
            "_dom_classes": [],
            "_model_module": "@jupyter-widgets/controls",
            "_model_module_version": "1.5.0",
            "_model_name": "HBoxModel",
            "_view_count": null,
            "_view_module": "@jupyter-widgets/controls",
            "_view_module_version": "1.5.0",
            "_view_name": "HBoxView",
            "box_style": "",
            "children": [
              "IPY_MODEL_31dec094dcdd4f309a4189df5405de79",
              "IPY_MODEL_b486aeab978c48329c7c88e9151f141e",
              "IPY_MODEL_3cc976b64b4148de80d73e730caa7262"
            ],
            "layout": "IPY_MODEL_c2b7fed7417e486c8853ec301b27dc30"
          }
        },
        "31dec094dcdd4f309a4189df5405de79": {
          "model_module": "@jupyter-widgets/controls",
          "model_name": "HTMLModel",
          "model_module_version": "1.5.0",
          "state": {
            "_dom_classes": [],
            "_model_module": "@jupyter-widgets/controls",
            "_model_module_version": "1.5.0",
            "_model_name": "HTMLModel",
            "_view_count": null,
            "_view_module": "@jupyter-widgets/controls",
            "_view_module_version": "1.5.0",
            "_view_name": "HTMLView",
            "description": "",
            "description_tooltip": null,
            "layout": "IPY_MODEL_90c309573dbe412388f4cbaa55d3e0ee",
            "placeholder": "​",
            "style": "IPY_MODEL_8c7e32daaa3e44f6bb02c28040ed5400",
            "value": "README.md: "
          }
        },
        "b486aeab978c48329c7c88e9151f141e": {
          "model_module": "@jupyter-widgets/controls",
          "model_name": "FloatProgressModel",
          "model_module_version": "1.5.0",
          "state": {
            "_dom_classes": [],
            "_model_module": "@jupyter-widgets/controls",
            "_model_module_version": "1.5.0",
            "_model_name": "FloatProgressModel",
            "_view_count": null,
            "_view_module": "@jupyter-widgets/controls",
            "_view_module_version": "1.5.0",
            "_view_name": "ProgressView",
            "bar_style": "success",
            "description": "",
            "description_tooltip": null,
            "layout": "IPY_MODEL_b81768ad106947af8af8d52e62fcd021",
            "max": 1,
            "min": 0,
            "orientation": "horizontal",
            "style": "IPY_MODEL_b6f47d4406cc4a7a8b943bf0a8b2586a",
            "value": 1
          }
        },
        "3cc976b64b4148de80d73e730caa7262": {
          "model_module": "@jupyter-widgets/controls",
          "model_name": "HTMLModel",
          "model_module_version": "1.5.0",
          "state": {
            "_dom_classes": [],
            "_model_module": "@jupyter-widgets/controls",
            "_model_module_version": "1.5.0",
            "_model_name": "HTMLModel",
            "_view_count": null,
            "_view_module": "@jupyter-widgets/controls",
            "_view_module_version": "1.5.0",
            "_view_name": "HTMLView",
            "description": "",
            "description_tooltip": null,
            "layout": "IPY_MODEL_31365940eee54fe1872873e2244a262e",
            "placeholder": "​",
            "style": "IPY_MODEL_2151d4b195f8464fa529fd3fde44acc1",
            "value": " 236k/? [00:00&lt;00:00, 14.2MB/s]"
          }
        },
        "c2b7fed7417e486c8853ec301b27dc30": {
          "model_module": "@jupyter-widgets/base",
          "model_name": "LayoutModel",
          "model_module_version": "1.2.0",
          "state": {
            "_model_module": "@jupyter-widgets/base",
            "_model_module_version": "1.2.0",
            "_model_name": "LayoutModel",
            "_view_count": null,
            "_view_module": "@jupyter-widgets/base",
            "_view_module_version": "1.2.0",
            "_view_name": "LayoutView",
            "align_content": null,
            "align_items": null,
            "align_self": null,
            "border": null,
            "bottom": null,
            "display": null,
            "flex": null,
            "flex_flow": null,
            "grid_area": null,
            "grid_auto_columns": null,
            "grid_auto_flow": null,
            "grid_auto_rows": null,
            "grid_column": null,
            "grid_gap": null,
            "grid_row": null,
            "grid_template_areas": null,
            "grid_template_columns": null,
            "grid_template_rows": null,
            "height": null,
            "justify_content": null,
            "justify_items": null,
            "left": null,
            "margin": null,
            "max_height": null,
            "max_width": null,
            "min_height": null,
            "min_width": null,
            "object_fit": null,
            "object_position": null,
            "order": null,
            "overflow": null,
            "overflow_x": null,
            "overflow_y": null,
            "padding": null,
            "right": null,
            "top": null,
            "visibility": null,
            "width": null
          }
        },
        "90c309573dbe412388f4cbaa55d3e0ee": {
          "model_module": "@jupyter-widgets/base",
          "model_name": "LayoutModel",
          "model_module_version": "1.2.0",
          "state": {
            "_model_module": "@jupyter-widgets/base",
            "_model_module_version": "1.2.0",
            "_model_name": "LayoutModel",
            "_view_count": null,
            "_view_module": "@jupyter-widgets/base",
            "_view_module_version": "1.2.0",
            "_view_name": "LayoutView",
            "align_content": null,
            "align_items": null,
            "align_self": null,
            "border": null,
            "bottom": null,
            "display": null,
            "flex": null,
            "flex_flow": null,
            "grid_area": null,
            "grid_auto_columns": null,
            "grid_auto_flow": null,
            "grid_auto_rows": null,
            "grid_column": null,
            "grid_gap": null,
            "grid_row": null,
            "grid_template_areas": null,
            "grid_template_columns": null,
            "grid_template_rows": null,
            "height": null,
            "justify_content": null,
            "justify_items": null,
            "left": null,
            "margin": null,
            "max_height": null,
            "max_width": null,
            "min_height": null,
            "min_width": null,
            "object_fit": null,
            "object_position": null,
            "order": null,
            "overflow": null,
            "overflow_x": null,
            "overflow_y": null,
            "padding": null,
            "right": null,
            "top": null,
            "visibility": null,
            "width": null
          }
        },
        "8c7e32daaa3e44f6bb02c28040ed5400": {
          "model_module": "@jupyter-widgets/controls",
          "model_name": "DescriptionStyleModel",
          "model_module_version": "1.5.0",
          "state": {
            "_model_module": "@jupyter-widgets/controls",
            "_model_module_version": "1.5.0",
            "_model_name": "DescriptionStyleModel",
            "_view_count": null,
            "_view_module": "@jupyter-widgets/base",
            "_view_module_version": "1.2.0",
            "_view_name": "StyleView",
            "description_width": ""
          }
        },
        "b81768ad106947af8af8d52e62fcd021": {
          "model_module": "@jupyter-widgets/base",
          "model_name": "LayoutModel",
          "model_module_version": "1.2.0",
          "state": {
            "_model_module": "@jupyter-widgets/base",
            "_model_module_version": "1.2.0",
            "_model_name": "LayoutModel",
            "_view_count": null,
            "_view_module": "@jupyter-widgets/base",
            "_view_module_version": "1.2.0",
            "_view_name": "LayoutView",
            "align_content": null,
            "align_items": null,
            "align_self": null,
            "border": null,
            "bottom": null,
            "display": null,
            "flex": null,
            "flex_flow": null,
            "grid_area": null,
            "grid_auto_columns": null,
            "grid_auto_flow": null,
            "grid_auto_rows": null,
            "grid_column": null,
            "grid_gap": null,
            "grid_row": null,
            "grid_template_areas": null,
            "grid_template_columns": null,
            "grid_template_rows": null,
            "height": null,
            "justify_content": null,
            "justify_items": null,
            "left": null,
            "margin": null,
            "max_height": null,
            "max_width": null,
            "min_height": null,
            "min_width": null,
            "object_fit": null,
            "object_position": null,
            "order": null,
            "overflow": null,
            "overflow_x": null,
            "overflow_y": null,
            "padding": null,
            "right": null,
            "top": null,
            "visibility": null,
            "width": "20px"
          }
        },
        "b6f47d4406cc4a7a8b943bf0a8b2586a": {
          "model_module": "@jupyter-widgets/controls",
          "model_name": "ProgressStyleModel",
          "model_module_version": "1.5.0",
          "state": {
            "_model_module": "@jupyter-widgets/controls",
            "_model_module_version": "1.5.0",
            "_model_name": "ProgressStyleModel",
            "_view_count": null,
            "_view_module": "@jupyter-widgets/base",
            "_view_module_version": "1.2.0",
            "_view_name": "StyleView",
            "bar_color": null,
            "description_width": ""
          }
        },
        "31365940eee54fe1872873e2244a262e": {
          "model_module": "@jupyter-widgets/base",
          "model_name": "LayoutModel",
          "model_module_version": "1.2.0",
          "state": {
            "_model_module": "@jupyter-widgets/base",
            "_model_module_version": "1.2.0",
            "_model_name": "LayoutModel",
            "_view_count": null,
            "_view_module": "@jupyter-widgets/base",
            "_view_module_version": "1.2.0",
            "_view_name": "LayoutView",
            "align_content": null,
            "align_items": null,
            "align_self": null,
            "border": null,
            "bottom": null,
            "display": null,
            "flex": null,
            "flex_flow": null,
            "grid_area": null,
            "grid_auto_columns": null,
            "grid_auto_flow": null,
            "grid_auto_rows": null,
            "grid_column": null,
            "grid_gap": null,
            "grid_row": null,
            "grid_template_areas": null,
            "grid_template_columns": null,
            "grid_template_rows": null,
            "height": null,
            "justify_content": null,
            "justify_items": null,
            "left": null,
            "margin": null,
            "max_height": null,
            "max_width": null,
            "min_height": null,
            "min_width": null,
            "object_fit": null,
            "object_position": null,
            "order": null,
            "overflow": null,
            "overflow_x": null,
            "overflow_y": null,
            "padding": null,
            "right": null,
            "top": null,
            "visibility": null,
            "width": null
          }
        },
        "2151d4b195f8464fa529fd3fde44acc1": {
          "model_module": "@jupyter-widgets/controls",
          "model_name": "DescriptionStyleModel",
          "model_module_version": "1.5.0",
          "state": {
            "_model_module": "@jupyter-widgets/controls",
            "_model_module_version": "1.5.0",
            "_model_name": "DescriptionStyleModel",
            "_view_count": null,
            "_view_module": "@jupyter-widgets/base",
            "_view_module_version": "1.2.0",
            "_view_name": "StyleView",
            "description_width": ""
          }
        },
        "99b62f7658704935b7eca0efac9bce3e": {
          "model_module": "@jupyter-widgets/controls",
          "model_name": "HBoxModel",
          "model_module_version": "1.5.0",
          "state": {
            "_dom_classes": [],
            "_model_module": "@jupyter-widgets/controls",
            "_model_module_version": "1.5.0",
            "_model_name": "HBoxModel",
            "_view_count": null,
            "_view_module": "@jupyter-widgets/controls",
            "_view_module_version": "1.5.0",
            "_view_name": "HBoxView",
            "box_style": "",
            "children": [
              "IPY_MODEL_59bcf41382f0496b93c018135928a2d0",
              "IPY_MODEL_fbe6e9e950954b0695ee76a80b435ae0",
              "IPY_MODEL_1f9c15408e524b99890714df04489541"
            ],
            "layout": "IPY_MODEL_272e8078ac0446738d6b76f8b7c63d81"
          }
        },
        "59bcf41382f0496b93c018135928a2d0": {
          "model_module": "@jupyter-widgets/controls",
          "model_name": "HTMLModel",
          "model_module_version": "1.5.0",
          "state": {
            "_dom_classes": [],
            "_model_module": "@jupyter-widgets/controls",
            "_model_module_version": "1.5.0",
            "_model_name": "HTMLModel",
            "_view_count": null,
            "_view_module": "@jupyter-widgets/controls",
            "_view_module_version": "1.5.0",
            "_view_name": "HTMLView",
            "description": "",
            "description_tooltip": null,
            "layout": "IPY_MODEL_ec44e0fb5e1742129fd9bd7b45463f13",
            "placeholder": "​",
            "style": "IPY_MODEL_3cdb5afac03545d3925bd1941b1f6ba5",
            "value": "en-triplet/train-00000-of-00001.parquet: 100%"
          }
        },
        "fbe6e9e950954b0695ee76a80b435ae0": {
          "model_module": "@jupyter-widgets/controls",
          "model_name": "FloatProgressModel",
          "model_module_version": "1.5.0",
          "state": {
            "_dom_classes": [],
            "_model_module": "@jupyter-widgets/controls",
            "_model_module_version": "1.5.0",
            "_model_name": "FloatProgressModel",
            "_view_count": null,
            "_view_module": "@jupyter-widgets/controls",
            "_view_module_version": "1.5.0",
            "_view_name": "ProgressView",
            "bar_style": "success",
            "description": "",
            "description_tooltip": null,
            "layout": "IPY_MODEL_5d7d76d02b4a45869474c747f5a52ab6",
            "max": 210599567,
            "min": 0,
            "orientation": "horizontal",
            "style": "IPY_MODEL_de113e81bbc9469780823ef273d33ece",
            "value": 210599567
          }
        },
        "1f9c15408e524b99890714df04489541": {
          "model_module": "@jupyter-widgets/controls",
          "model_name": "HTMLModel",
          "model_module_version": "1.5.0",
          "state": {
            "_dom_classes": [],
            "_model_module": "@jupyter-widgets/controls",
            "_model_module_version": "1.5.0",
            "_model_name": "HTMLModel",
            "_view_count": null,
            "_view_module": "@jupyter-widgets/controls",
            "_view_module_version": "1.5.0",
            "_view_name": "HTMLView",
            "description": "",
            "description_tooltip": null,
            "layout": "IPY_MODEL_57b9c853a8384ac7bb3fd6f0a9926306",
            "placeholder": "​",
            "style": "IPY_MODEL_af9040339b55409daebeb11bca61fc7d",
            "value": " 211M/211M [00:02&lt;00:00, 50.2MB/s]"
          }
        },
        "272e8078ac0446738d6b76f8b7c63d81": {
          "model_module": "@jupyter-widgets/base",
          "model_name": "LayoutModel",
          "model_module_version": "1.2.0",
          "state": {
            "_model_module": "@jupyter-widgets/base",
            "_model_module_version": "1.2.0",
            "_model_name": "LayoutModel",
            "_view_count": null,
            "_view_module": "@jupyter-widgets/base",
            "_view_module_version": "1.2.0",
            "_view_name": "LayoutView",
            "align_content": null,
            "align_items": null,
            "align_self": null,
            "border": null,
            "bottom": null,
            "display": null,
            "flex": null,
            "flex_flow": null,
            "grid_area": null,
            "grid_auto_columns": null,
            "grid_auto_flow": null,
            "grid_auto_rows": null,
            "grid_column": null,
            "grid_gap": null,
            "grid_row": null,
            "grid_template_areas": null,
            "grid_template_columns": null,
            "grid_template_rows": null,
            "height": null,
            "justify_content": null,
            "justify_items": null,
            "left": null,
            "margin": null,
            "max_height": null,
            "max_width": null,
            "min_height": null,
            "min_width": null,
            "object_fit": null,
            "object_position": null,
            "order": null,
            "overflow": null,
            "overflow_x": null,
            "overflow_y": null,
            "padding": null,
            "right": null,
            "top": null,
            "visibility": null,
            "width": null
          }
        },
        "ec44e0fb5e1742129fd9bd7b45463f13": {
          "model_module": "@jupyter-widgets/base",
          "model_name": "LayoutModel",
          "model_module_version": "1.2.0",
          "state": {
            "_model_module": "@jupyter-widgets/base",
            "_model_module_version": "1.2.0",
            "_model_name": "LayoutModel",
            "_view_count": null,
            "_view_module": "@jupyter-widgets/base",
            "_view_module_version": "1.2.0",
            "_view_name": "LayoutView",
            "align_content": null,
            "align_items": null,
            "align_self": null,
            "border": null,
            "bottom": null,
            "display": null,
            "flex": null,
            "flex_flow": null,
            "grid_area": null,
            "grid_auto_columns": null,
            "grid_auto_flow": null,
            "grid_auto_rows": null,
            "grid_column": null,
            "grid_gap": null,
            "grid_row": null,
            "grid_template_areas": null,
            "grid_template_columns": null,
            "grid_template_rows": null,
            "height": null,
            "justify_content": null,
            "justify_items": null,
            "left": null,
            "margin": null,
            "max_height": null,
            "max_width": null,
            "min_height": null,
            "min_width": null,
            "object_fit": null,
            "object_position": null,
            "order": null,
            "overflow": null,
            "overflow_x": null,
            "overflow_y": null,
            "padding": null,
            "right": null,
            "top": null,
            "visibility": null,
            "width": null
          }
        },
        "3cdb5afac03545d3925bd1941b1f6ba5": {
          "model_module": "@jupyter-widgets/controls",
          "model_name": "DescriptionStyleModel",
          "model_module_version": "1.5.0",
          "state": {
            "_model_module": "@jupyter-widgets/controls",
            "_model_module_version": "1.5.0",
            "_model_name": "DescriptionStyleModel",
            "_view_count": null,
            "_view_module": "@jupyter-widgets/base",
            "_view_module_version": "1.2.0",
            "_view_name": "StyleView",
            "description_width": ""
          }
        },
        "5d7d76d02b4a45869474c747f5a52ab6": {
          "model_module": "@jupyter-widgets/base",
          "model_name": "LayoutModel",
          "model_module_version": "1.2.0",
          "state": {
            "_model_module": "@jupyter-widgets/base",
            "_model_module_version": "1.2.0",
            "_model_name": "LayoutModel",
            "_view_count": null,
            "_view_module": "@jupyter-widgets/base",
            "_view_module_version": "1.2.0",
            "_view_name": "LayoutView",
            "align_content": null,
            "align_items": null,
            "align_self": null,
            "border": null,
            "bottom": null,
            "display": null,
            "flex": null,
            "flex_flow": null,
            "grid_area": null,
            "grid_auto_columns": null,
            "grid_auto_flow": null,
            "grid_auto_rows": null,
            "grid_column": null,
            "grid_gap": null,
            "grid_row": null,
            "grid_template_areas": null,
            "grid_template_columns": null,
            "grid_template_rows": null,
            "height": null,
            "justify_content": null,
            "justify_items": null,
            "left": null,
            "margin": null,
            "max_height": null,
            "max_width": null,
            "min_height": null,
            "min_width": null,
            "object_fit": null,
            "object_position": null,
            "order": null,
            "overflow": null,
            "overflow_x": null,
            "overflow_y": null,
            "padding": null,
            "right": null,
            "top": null,
            "visibility": null,
            "width": null
          }
        },
        "de113e81bbc9469780823ef273d33ece": {
          "model_module": "@jupyter-widgets/controls",
          "model_name": "ProgressStyleModel",
          "model_module_version": "1.5.0",
          "state": {
            "_model_module": "@jupyter-widgets/controls",
            "_model_module_version": "1.5.0",
            "_model_name": "ProgressStyleModel",
            "_view_count": null,
            "_view_module": "@jupyter-widgets/base",
            "_view_module_version": "1.2.0",
            "_view_name": "StyleView",
            "bar_color": null,
            "description_width": ""
          }
        },
        "57b9c853a8384ac7bb3fd6f0a9926306": {
          "model_module": "@jupyter-widgets/base",
          "model_name": "LayoutModel",
          "model_module_version": "1.2.0",
          "state": {
            "_model_module": "@jupyter-widgets/base",
            "_model_module_version": "1.2.0",
            "_model_name": "LayoutModel",
            "_view_count": null,
            "_view_module": "@jupyter-widgets/base",
            "_view_module_version": "1.2.0",
            "_view_name": "LayoutView",
            "align_content": null,
            "align_items": null,
            "align_self": null,
            "border": null,
            "bottom": null,
            "display": null,
            "flex": null,
            "flex_flow": null,
            "grid_area": null,
            "grid_auto_columns": null,
            "grid_auto_flow": null,
            "grid_auto_rows": null,
            "grid_column": null,
            "grid_gap": null,
            "grid_row": null,
            "grid_template_areas": null,
            "grid_template_columns": null,
            "grid_template_rows": null,
            "height": null,
            "justify_content": null,
            "justify_items": null,
            "left": null,
            "margin": null,
            "max_height": null,
            "max_width": null,
            "min_height": null,
            "min_width": null,
            "object_fit": null,
            "object_position": null,
            "order": null,
            "overflow": null,
            "overflow_x": null,
            "overflow_y": null,
            "padding": null,
            "right": null,
            "top": null,
            "visibility": null,
            "width": null
          }
        },
        "af9040339b55409daebeb11bca61fc7d": {
          "model_module": "@jupyter-widgets/controls",
          "model_name": "DescriptionStyleModel",
          "model_module_version": "1.5.0",
          "state": {
            "_model_module": "@jupyter-widgets/controls",
            "_model_module_version": "1.5.0",
            "_model_name": "DescriptionStyleModel",
            "_view_count": null,
            "_view_module": "@jupyter-widgets/base",
            "_view_module_version": "1.2.0",
            "_view_name": "StyleView",
            "description_width": ""
          }
        },
        "89669fefd2954ae89a8cb03fcf3d092c": {
          "model_module": "@jupyter-widgets/controls",
          "model_name": "HBoxModel",
          "model_module_version": "1.5.0",
          "state": {
            "_dom_classes": [],
            "_model_module": "@jupyter-widgets/controls",
            "_model_module_version": "1.5.0",
            "_model_name": "HBoxModel",
            "_view_count": null,
            "_view_module": "@jupyter-widgets/controls",
            "_view_module_version": "1.5.0",
            "_view_name": "HBoxView",
            "box_style": "",
            "children": [
              "IPY_MODEL_3e52bac47b5a42598513f82413da1308",
              "IPY_MODEL_8582b130bb55460d85d25c862eacc17f",
              "IPY_MODEL_cfb254696a4d433298325d9db373b6dc"
            ],
            "layout": "IPY_MODEL_419d45f7b55e4ad7ae6294a60a3cced2"
          }
        },
        "3e52bac47b5a42598513f82413da1308": {
          "model_module": "@jupyter-widgets/controls",
          "model_name": "HTMLModel",
          "model_module_version": "1.5.0",
          "state": {
            "_dom_classes": [],
            "_model_module": "@jupyter-widgets/controls",
            "_model_module_version": "1.5.0",
            "_model_name": "HTMLModel",
            "_view_count": null,
            "_view_module": "@jupyter-widgets/controls",
            "_view_module_version": "1.5.0",
            "_view_name": "HTMLView",
            "description": "",
            "description_tooltip": null,
            "layout": "IPY_MODEL_d9aea1c039a9496c80060af3feaa4146",
            "placeholder": "​",
            "style": "IPY_MODEL_e00ae6b2217b4c1da3064f6978158640",
            "value": "Generating train split: 100%"
          }
        },
        "8582b130bb55460d85d25c862eacc17f": {
          "model_module": "@jupyter-widgets/controls",
          "model_name": "FloatProgressModel",
          "model_module_version": "1.5.0",
          "state": {
            "_dom_classes": [],
            "_model_module": "@jupyter-widgets/controls",
            "_model_module_version": "1.5.0",
            "_model_name": "FloatProgressModel",
            "_view_count": null,
            "_view_module": "@jupyter-widgets/controls",
            "_view_module_version": "1.5.0",
            "_view_name": "ProgressView",
            "bar_style": "success",
            "description": "",
            "description_tooltip": null,
            "layout": "IPY_MODEL_ad8281c21b674a22928b49b1851d8efa",
            "max": 10000,
            "min": 0,
            "orientation": "horizontal",
            "style": "IPY_MODEL_0f2aa5c1ee674a32b3744b4eb92a9a60",
            "value": 10000
          }
        },
        "cfb254696a4d433298325d9db373b6dc": {
          "model_module": "@jupyter-widgets/controls",
          "model_name": "HTMLModel",
          "model_module_version": "1.5.0",
          "state": {
            "_dom_classes": [],
            "_model_module": "@jupyter-widgets/controls",
            "_model_module_version": "1.5.0",
            "_model_name": "HTMLModel",
            "_view_count": null,
            "_view_module": "@jupyter-widgets/controls",
            "_view_module_version": "1.5.0",
            "_view_name": "HTMLView",
            "description": "",
            "description_tooltip": null,
            "layout": "IPY_MODEL_6533591f2ab64af3a96332e4737a1b20",
            "placeholder": "​",
            "style": "IPY_MODEL_9b194e49af3743f7a74bbc619d2373b5",
            "value": " 10000/10000 [00:00&lt;00:00, 11733.51 examples/s]"
          }
        },
        "419d45f7b55e4ad7ae6294a60a3cced2": {
          "model_module": "@jupyter-widgets/base",
          "model_name": "LayoutModel",
          "model_module_version": "1.2.0",
          "state": {
            "_model_module": "@jupyter-widgets/base",
            "_model_module_version": "1.2.0",
            "_model_name": "LayoutModel",
            "_view_count": null,
            "_view_module": "@jupyter-widgets/base",
            "_view_module_version": "1.2.0",
            "_view_name": "LayoutView",
            "align_content": null,
            "align_items": null,
            "align_self": null,
            "border": null,
            "bottom": null,
            "display": null,
            "flex": null,
            "flex_flow": null,
            "grid_area": null,
            "grid_auto_columns": null,
            "grid_auto_flow": null,
            "grid_auto_rows": null,
            "grid_column": null,
            "grid_gap": null,
            "grid_row": null,
            "grid_template_areas": null,
            "grid_template_columns": null,
            "grid_template_rows": null,
            "height": null,
            "justify_content": null,
            "justify_items": null,
            "left": null,
            "margin": null,
            "max_height": null,
            "max_width": null,
            "min_height": null,
            "min_width": null,
            "object_fit": null,
            "object_position": null,
            "order": null,
            "overflow": null,
            "overflow_x": null,
            "overflow_y": null,
            "padding": null,
            "right": null,
            "top": null,
            "visibility": null,
            "width": null
          }
        },
        "d9aea1c039a9496c80060af3feaa4146": {
          "model_module": "@jupyter-widgets/base",
          "model_name": "LayoutModel",
          "model_module_version": "1.2.0",
          "state": {
            "_model_module": "@jupyter-widgets/base",
            "_model_module_version": "1.2.0",
            "_model_name": "LayoutModel",
            "_view_count": null,
            "_view_module": "@jupyter-widgets/base",
            "_view_module_version": "1.2.0",
            "_view_name": "LayoutView",
            "align_content": null,
            "align_items": null,
            "align_self": null,
            "border": null,
            "bottom": null,
            "display": null,
            "flex": null,
            "flex_flow": null,
            "grid_area": null,
            "grid_auto_columns": null,
            "grid_auto_flow": null,
            "grid_auto_rows": null,
            "grid_column": null,
            "grid_gap": null,
            "grid_row": null,
            "grid_template_areas": null,
            "grid_template_columns": null,
            "grid_template_rows": null,
            "height": null,
            "justify_content": null,
            "justify_items": null,
            "left": null,
            "margin": null,
            "max_height": null,
            "max_width": null,
            "min_height": null,
            "min_width": null,
            "object_fit": null,
            "object_position": null,
            "order": null,
            "overflow": null,
            "overflow_x": null,
            "overflow_y": null,
            "padding": null,
            "right": null,
            "top": null,
            "visibility": null,
            "width": null
          }
        },
        "e00ae6b2217b4c1da3064f6978158640": {
          "model_module": "@jupyter-widgets/controls",
          "model_name": "DescriptionStyleModel",
          "model_module_version": "1.5.0",
          "state": {
            "_model_module": "@jupyter-widgets/controls",
            "_model_module_version": "1.5.0",
            "_model_name": "DescriptionStyleModel",
            "_view_count": null,
            "_view_module": "@jupyter-widgets/base",
            "_view_module_version": "1.2.0",
            "_view_name": "StyleView",
            "description_width": ""
          }
        },
        "ad8281c21b674a22928b49b1851d8efa": {
          "model_module": "@jupyter-widgets/base",
          "model_name": "LayoutModel",
          "model_module_version": "1.2.0",
          "state": {
            "_model_module": "@jupyter-widgets/base",
            "_model_module_version": "1.2.0",
            "_model_name": "LayoutModel",
            "_view_count": null,
            "_view_module": "@jupyter-widgets/base",
            "_view_module_version": "1.2.0",
            "_view_name": "LayoutView",
            "align_content": null,
            "align_items": null,
            "align_self": null,
            "border": null,
            "bottom": null,
            "display": null,
            "flex": null,
            "flex_flow": null,
            "grid_area": null,
            "grid_auto_columns": null,
            "grid_auto_flow": null,
            "grid_auto_rows": null,
            "grid_column": null,
            "grid_gap": null,
            "grid_row": null,
            "grid_template_areas": null,
            "grid_template_columns": null,
            "grid_template_rows": null,
            "height": null,
            "justify_content": null,
            "justify_items": null,
            "left": null,
            "margin": null,
            "max_height": null,
            "max_width": null,
            "min_height": null,
            "min_width": null,
            "object_fit": null,
            "object_position": null,
            "order": null,
            "overflow": null,
            "overflow_x": null,
            "overflow_y": null,
            "padding": null,
            "right": null,
            "top": null,
            "visibility": null,
            "width": null
          }
        },
        "0f2aa5c1ee674a32b3744b4eb92a9a60": {
          "model_module": "@jupyter-widgets/controls",
          "model_name": "ProgressStyleModel",
          "model_module_version": "1.5.0",
          "state": {
            "_model_module": "@jupyter-widgets/controls",
            "_model_module_version": "1.5.0",
            "_model_name": "ProgressStyleModel",
            "_view_count": null,
            "_view_module": "@jupyter-widgets/base",
            "_view_module_version": "1.2.0",
            "_view_name": "StyleView",
            "bar_color": null,
            "description_width": ""
          }
        },
        "6533591f2ab64af3a96332e4737a1b20": {
          "model_module": "@jupyter-widgets/base",
          "model_name": "LayoutModel",
          "model_module_version": "1.2.0",
          "state": {
            "_model_module": "@jupyter-widgets/base",
            "_model_module_version": "1.2.0",
            "_model_name": "LayoutModel",
            "_view_count": null,
            "_view_module": "@jupyter-widgets/base",
            "_view_module_version": "1.2.0",
            "_view_name": "LayoutView",
            "align_content": null,
            "align_items": null,
            "align_self": null,
            "border": null,
            "bottom": null,
            "display": null,
            "flex": null,
            "flex_flow": null,
            "grid_area": null,
            "grid_auto_columns": null,
            "grid_auto_flow": null,
            "grid_auto_rows": null,
            "grid_column": null,
            "grid_gap": null,
            "grid_row": null,
            "grid_template_areas": null,
            "grid_template_columns": null,
            "grid_template_rows": null,
            "height": null,
            "justify_content": null,
            "justify_items": null,
            "left": null,
            "margin": null,
            "max_height": null,
            "max_width": null,
            "min_height": null,
            "min_width": null,
            "object_fit": null,
            "object_position": null,
            "order": null,
            "overflow": null,
            "overflow_x": null,
            "overflow_y": null,
            "padding": null,
            "right": null,
            "top": null,
            "visibility": null,
            "width": null
          }
        },
        "9b194e49af3743f7a74bbc619d2373b5": {
          "model_module": "@jupyter-widgets/controls",
          "model_name": "DescriptionStyleModel",
          "model_module_version": "1.5.0",
          "state": {
            "_model_module": "@jupyter-widgets/controls",
            "_model_module_version": "1.5.0",
            "_model_name": "DescriptionStyleModel",
            "_view_count": null,
            "_view_module": "@jupyter-widgets/base",
            "_view_module_version": "1.2.0",
            "_view_name": "StyleView",
            "description_width": ""
          }
        }
      }
    },
    "accelerator": "GPU"
  },
  "nbformat": 4,
  "nbformat_minor": 0
}