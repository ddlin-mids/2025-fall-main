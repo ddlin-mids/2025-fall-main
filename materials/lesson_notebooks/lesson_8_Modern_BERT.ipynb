{
  "cells": [
    {
      "cell_type": "markdown",
      "metadata": {
        "id": "LoJTp7u3BCED"
      },
      "source": [
        "# ModernBert\n",
        "\n",
        "ModernBERT was published in late 2024 and has shown substantial improvements over other BERT family models (BERT, RoBERTa, ALBERT, etc.). This notebook showcases the improvements of ModernBERT compared to BERT. Specifically, we will look at the differences in tokenization, long-context capability, model architecture, model outputs, and inference speed."
      ]
    },
    {
      "cell_type": "markdown",
      "metadata": {
        "id": "yjE9cXscBCBd"
      },
      "source": [
        "Here are some helpful resources:\n",
        "\n",
        "https://huggingface.co/docs/transformers/main/en/model_doc/modernbert\n",
        "\n",
        "https://huggingface.co/blog/modernbert\n",
        "\n",
        "https://huggingface.co/answerdotai/ModernBERT-base\n",
        "\n",
        "https://huggingface.co/docs/transformers/model_doc/bert"
      ]
    },
    {
      "cell_type": "markdown",
      "metadata": {
        "id": "MBC8gpQ5DIRa"
      },
      "source": [
        "# Import libaries"
      ]
    },
    {
      "cell_type": "code",
      "execution_count": 1,
      "metadata": {
        "colab": {
          "base_uri": "https://localhost:8080/"
        },
        "id": "vbBenrubMO1f",
        "outputId": "c505ea73-b09f-42e9-ff64-2517e969aafe"
      },
      "outputs": [
        {
          "output_type": "stream",
          "name": "stdout",
          "text": [
            "\u001b[2K   \u001b[90m━━━━━━━━━━━━━━━━━━━━━━━━━━━━━━━━━━━━━━━━\u001b[0m \u001b[32m506.3/506.3 kB\u001b[0m \u001b[31m8.4 MB/s\u001b[0m eta \u001b[36m0:00:00\u001b[0m\n",
            "\u001b[2K   \u001b[90m━━━━━━━━━━━━━━━━━━━━━━━━━━━━━━━━━━━━━━━━\u001b[0m \u001b[32m42.8/42.8 MB\u001b[0m \u001b[31m18.0 MB/s\u001b[0m eta \u001b[36m0:00:00\u001b[0m\n",
            "\u001b[?25h\u001b[31mERROR: pip's dependency resolver does not currently take into account all the packages that are installed. This behaviour is the source of the following dependency conflicts.\n",
            "pylibcudf-cu12 25.6.0 requires pyarrow<20.0.0a0,>=14.0.0; platform_machine == \"x86_64\", but you have pyarrow 21.0.0 which is incompatible.\n",
            "cudf-cu12 25.6.0 requires pyarrow<20.0.0a0,>=14.0.0; platform_machine == \"x86_64\", but you have pyarrow 21.0.0 which is incompatible.\u001b[0m\u001b[31m\n",
            "\u001b[0m"
          ]
        }
      ],
      "source": [
        "!pip install -q -U transformers\n",
        "!pip install -q -U datasets"
      ]
    },
    {
      "cell_type": "code",
      "execution_count": 2,
      "metadata": {
        "id": "05q2b5scAiPv"
      },
      "outputs": [],
      "source": [
        "import numpy as np\n",
        "import pandas as pd\n",
        "import torch\n",
        "\n",
        "from datasets import load_dataset\n",
        "\n",
        "from transformers import BertTokenizer, BertModel, BertForSequenceClassification\n",
        "from transformers import AutoTokenizer, AutoModel"
      ]
    },
    {
      "cell_type": "markdown",
      "metadata": {
        "id": "QHO7UTRwDKnt"
      },
      "source": [
        "# Load models & tokenizer"
      ]
    },
    {
      "cell_type": "code",
      "execution_count": 3,
      "metadata": {
        "colab": {
          "base_uri": "https://localhost:8080/",
          "height": 177,
          "referenced_widgets": [
            "f9d48a091b9540bb990fa8000bec64a9",
            "b1e753e26bb1481cbcbae1140df47c7c",
            "5221618aedee4a05951e8da94fa92ba8",
            "241cff1d7991499097ac84107ae20b84",
            "1f8922d2403f4ddaab9895e30521fe79",
            "9325fd6ff6904af69006622ddccee6a4",
            "8b6612e9e696479d8d2b2101ec14768c",
            "cabba92770ed4a28955fa2167face9d1",
            "e39ae63d44e24b30a5b22903c6553696",
            "e4b30da38b4946f7a88dbfbe133d1428",
            "2652b41e171e45ee8041343629ac15cb",
            "40e6043ab1ef4a26bba55424dcf4fd80",
            "dc659f9ca28e4b158d81c6f41aa22c68",
            "f61c083f127a4e248e3b32218a37973c",
            "5fbf63a80fdb4af6a8eadcd80912495a",
            "c6c7ba94b7bc4eb393c3613c8a570739",
            "9926af7076b447edad42edbb04d1a2d2",
            "124a675760ac4aa788ee29d64df3075e",
            "1e0cbb5528154641b340ce20d327d4b5",
            "c067505b48aa4334aba6f0b5e68a838d",
            "031ce0130fe6439f96bcb3c4002269c2",
            "170c48d7cfaf4a16b2270a4768590544",
            "a16af12f3beb4cbf946125420c3d2aaf",
            "acb840de7ff64741b53e3d883aad9d79",
            "5524b88b29704583b2558f1b18a8fbb8",
            "5b8d4733cf954d7ba1399d86e1575247",
            "5e4393a9bf8d43b081f9ac3049d36d1f",
            "720864a5e6e34d64beffb5c6d73f0064",
            "d08e4b81e6104c1ca1d2e4a9afa85052",
            "397a52ff2c6347bda50b08d221054f70",
            "b6412437152c40b9b2d80af4791918d0",
            "d3b5ea32a81a4ff2ab75b18fb58cc0e1",
            "a3e01eb874124af7a3da9569c7efd1d6",
            "1153e717afab46c391b51aefb909542e",
            "83cb822606f1483b9e9a770f2a498858",
            "9c80d19a214b43a7804fd4927ff3b3fa",
            "b4ddb48b15b243f9b06e420209017dd2",
            "5df48cee519a4ab9b73e05b11ec38a82",
            "ba572a020ce24c31a0d14d3147fd992c",
            "0f573be08d9041978d1dce165bcbfaf1",
            "569d5e291cb5419b90eced935cb238bd",
            "1a9f345f7bbb4d61a50014351b7569c2",
            "dab0064b77b74d04a3e10855fa9048ec",
            "64004a88388b42f294ca19119992e26f",
            "1ff229844bf94aa29a18dafe7c1304e6",
            "7beadc5ed4744b17954fb41d252c186f",
            "91d12488ecd041288e5129cd76ab469b",
            "9f250d148f77498baf12a162cf0ef24e",
            "7fd377e2861b4d07bc700f03e3de142e",
            "24f96ea459f14f51b4be92a908d093fc",
            "879f60c322cf446db4d601e30cb5f752",
            "7b4b078a1e1844a19568c7b2ecb6ca37",
            "9faf59d94d8f4f5aa96afa171cbbbbe3",
            "1a3b5b82cd144bd4b607388c1052859a",
            "285b9508dc3b4b9199df7f33fe730b3d"
          ]
        },
        "id": "OyFPKU6EDU4C",
        "outputId": "52e2a32e-161c-46af-e591-6c49397f9dbd"
      },
      "outputs": [
        {
          "output_type": "display_data",
          "data": {
            "text/plain": [
              "tokenizer_config.json:   0%|          | 0.00/49.0 [00:00<?, ?B/s]"
            ],
            "application/vnd.jupyter.widget-view+json": {
              "version_major": 2,
              "version_minor": 0,
              "model_id": "f9d48a091b9540bb990fa8000bec64a9"
            }
          },
          "metadata": {}
        },
        {
          "output_type": "display_data",
          "data": {
            "text/plain": [
              "vocab.txt:   0%|          | 0.00/213k [00:00<?, ?B/s]"
            ],
            "application/vnd.jupyter.widget-view+json": {
              "version_major": 2,
              "version_minor": 0,
              "model_id": "40e6043ab1ef4a26bba55424dcf4fd80"
            }
          },
          "metadata": {}
        },
        {
          "output_type": "display_data",
          "data": {
            "text/plain": [
              "tokenizer.json:   0%|          | 0.00/436k [00:00<?, ?B/s]"
            ],
            "application/vnd.jupyter.widget-view+json": {
              "version_major": 2,
              "version_minor": 0,
              "model_id": "a16af12f3beb4cbf946125420c3d2aaf"
            }
          },
          "metadata": {}
        },
        {
          "output_type": "display_data",
          "data": {
            "text/plain": [
              "config.json:   0%|          | 0.00/570 [00:00<?, ?B/s]"
            ],
            "application/vnd.jupyter.widget-view+json": {
              "version_major": 2,
              "version_minor": 0,
              "model_id": "1153e717afab46c391b51aefb909542e"
            }
          },
          "metadata": {}
        },
        {
          "output_type": "display_data",
          "data": {
            "text/plain": [
              "model.safetensors:   0%|          | 0.00/436M [00:00<?, ?B/s]"
            ],
            "application/vnd.jupyter.widget-view+json": {
              "version_major": 2,
              "version_minor": 0,
              "model_id": "1ff229844bf94aa29a18dafe7c1304e6"
            }
          },
          "metadata": {}
        }
      ],
      "source": [
        "# Let's first load the BERT model\n",
        "bert_checkpoint = \"bert-base-cased\"\n",
        "bert_tokenizer = BertTokenizer.from_pretrained(bert_checkpoint)\n",
        "bert_model = BertModel.from_pretrained(bert_checkpoint)\n",
        "\n",
        "# BERT tokenizer and model can also be loaded with AutoTokenizer and AutoModel\n",
        "#bert_tokenizer = AutoTokenizer.from_pretrained(bert_checkpoint)\n",
        "#bert_model = AutoModel.from_pretrained(bert_checkpoint)"
      ]
    },
    {
      "cell_type": "code",
      "execution_count": 4,
      "metadata": {
        "colab": {
          "base_uri": "https://localhost:8080/",
          "height": 177,
          "referenced_widgets": [
            "7e1adfe581754b0b97858796b231f6b3",
            "f9ddddf2afa449d6acf731eac4832828",
            "7b32c62c65e94a4297fabfabce4019fe",
            "0920af464d524b1ba366c0ad56943afa",
            "dcfbaf2ebee442d0b33734f389f54be2",
            "e88014309d3b43cbbebba7ebddb4b28a",
            "238b841a9ec94d8483fc36a7f62dd144",
            "f809d17291c5489ebc92c237d83003c5",
            "150bdc1c06504ad6a9dec906e4368f8b",
            "7ac646e1cb5d435a9d391b3c2dfbb395",
            "a0a9949c303b48f59a43fc0b6462e02a",
            "f5232b242f4c4f669f2b9a9daa865471",
            "e1723a6cc4c147b3950d7d2479fb3623",
            "f2cac94385ff475da68a0fb6bc20a42f",
            "e7d3a98aff1b40939fc9b973c96db099",
            "9629c4b151654b409f8d95a709e0d281",
            "c33646dbd54b4e3187d7672a6765f77a",
            "75ae9bfa4b224e769173ebc6306cbf76",
            "dfc83bb0d39848b6b7537ecc39f32318",
            "3adb5ef5d32a4b59a832f2b095ff9503",
            "702dcb82de2144e9838be360c5b25166",
            "b201b9a399804b04a904ffafa89bfc42",
            "a628ce83fa104d52aa7a818adb2f7ddf",
            "be722aa5fd81409dbbac40462af6654f",
            "876281d76a81427bb5e3fffb84181f5c",
            "614fe7f31db846cdb6599dc7faa1c5d7",
            "675cca4c6d1d4f98a22798c2f5be5cc3",
            "e8a9b0ec40264ec5bd1d5cea754425c8",
            "aa062253b1f34b89ac162393c15af85a",
            "6a8ffb6aba484590973409f00d9a47b0",
            "e4b2f31b771a4c49babc7d41e91eef20",
            "097da35dcf0240b5bd9f6e7f2b1bfc82",
            "1f42adbf7d0044e2ad170317d4b276bd",
            "17c376138353429ab10ed774a9e7e972",
            "0fa5131fefb449808d29aa1ff1869f1a",
            "0a0ca1b230a54514afd665b3b10202aa",
            "5c40478539d14e65b70366d2ab02e07c",
            "4f6b17fb66394e6aa02123a661577429",
            "55902798e9124923884453c97ad731ba",
            "3989e9eb5a30477c9b80828b097ca4e6",
            "b33eea3da1e74b0fbdbfdb5048e12b5a",
            "9c28f52be65b43f5bd1b4f36a40c9fbf",
            "a05a1690b66945ee86d8de4e9bd3071d",
            "2dc8d77dcd2340708261401cf5ac6b17",
            "fd3c917f21b243febda7bb269c07aba1",
            "17184e15c3814c4eb33103f1c914482b",
            "9ecc22fe807748a7b07b2d7544977366",
            "8e86299ae4394980b7c07885d2f83367",
            "72ae4a6f586a4e81a2a1bb28c0a895d4",
            "02a82e52ac4445faa7a4cfe0031cd44d",
            "346a5e74ec4847f58544e6afd46dd86f",
            "64f053b6ce1c424680a4f606975f11c9",
            "8f7a82fd6f534cd991a704f57696cfe1",
            "b548b1826f47433faacafad59de6f240",
            "34fb2035167e4fc6bdd01eba893c9398"
          ]
        },
        "id": "PeE7JMzdDLo-",
        "outputId": "284bc7bf-6882-4430-8681-dcc3662929e3"
      },
      "outputs": [
        {
          "output_type": "display_data",
          "data": {
            "text/plain": [
              "tokenizer_config.json: 0.00B [00:00, ?B/s]"
            ],
            "application/vnd.jupyter.widget-view+json": {
              "version_major": 2,
              "version_minor": 0,
              "model_id": "7e1adfe581754b0b97858796b231f6b3"
            }
          },
          "metadata": {}
        },
        {
          "output_type": "display_data",
          "data": {
            "text/plain": [
              "tokenizer.json: 0.00B [00:00, ?B/s]"
            ],
            "application/vnd.jupyter.widget-view+json": {
              "version_major": 2,
              "version_minor": 0,
              "model_id": "f5232b242f4c4f669f2b9a9daa865471"
            }
          },
          "metadata": {}
        },
        {
          "output_type": "display_data",
          "data": {
            "text/plain": [
              "special_tokens_map.json:   0%|          | 0.00/694 [00:00<?, ?B/s]"
            ],
            "application/vnd.jupyter.widget-view+json": {
              "version_major": 2,
              "version_minor": 0,
              "model_id": "a628ce83fa104d52aa7a818adb2f7ddf"
            }
          },
          "metadata": {}
        },
        {
          "output_type": "display_data",
          "data": {
            "text/plain": [
              "config.json: 0.00B [00:00, ?B/s]"
            ],
            "application/vnd.jupyter.widget-view+json": {
              "version_major": 2,
              "version_minor": 0,
              "model_id": "17c376138353429ab10ed774a9e7e972"
            }
          },
          "metadata": {}
        },
        {
          "output_type": "display_data",
          "data": {
            "text/plain": [
              "model.safetensors:   0%|          | 0.00/599M [00:00<?, ?B/s]"
            ],
            "application/vnd.jupyter.widget-view+json": {
              "version_major": 2,
              "version_minor": 0,
              "model_id": "fd3c917f21b243febda7bb269c07aba1"
            }
          },
          "metadata": {}
        }
      ],
      "source": [
        "# Then we will load the ModernBERT model\n",
        "mbert_checkpoint = \"answerdotai/ModernBERT-base\"\n",
        "mbert_tokenizer = AutoTokenizer.from_pretrained(mbert_checkpoint)\n",
        "mbert_model = AutoModel.from_pretrained(mbert_checkpoint)"
      ]
    },
    {
      "cell_type": "markdown",
      "metadata": {
        "id": "3w95OY56Dr8Z"
      },
      "source": [
        "# Tokenizer\n",
        "\n",
        "Let's first take a look at the difference between the tokenizers for the two models."
      ]
    },
    {
      "cell_type": "code",
      "execution_count": 5,
      "metadata": {
        "id": "Z5VaDgbHCgaX"
      },
      "outputs": [],
      "source": [
        "text = \"This is MIDS 266. Let's learn some NLP!\""
      ]
    },
    {
      "cell_type": "code",
      "execution_count": 6,
      "metadata": {
        "colab": {
          "base_uri": "https://localhost:8080/"
        },
        "id": "uptoXfkfDxne",
        "outputId": "2da3da76-a4d3-4aa3-a58f-cc18ee224ced"
      },
      "outputs": [
        {
          "output_type": "execute_result",
          "data": {
            "text/plain": [
              "{'input_ids': tensor([[  101,  1188,  1110, 26574, 13675,  1744,  1545,   119,  2421,   112,\n",
              "           188,  3858,  1199, 21239,  2101,   106,   102]]), 'token_type_ids': tensor([[0, 0, 0, 0, 0, 0, 0, 0, 0, 0, 0, 0, 0, 0, 0, 0, 0]]), 'attention_mask': tensor([[1, 1, 1, 1, 1, 1, 1, 1, 1, 1, 1, 1, 1, 1, 1, 1, 1]])}"
            ]
          },
          "metadata": {},
          "execution_count": 6
        }
      ],
      "source": [
        "bert_inputs = bert_tokenizer(text, return_tensors=\"pt\")\n",
        "bert_inputs"
      ]
    },
    {
      "cell_type": "code",
      "execution_count": 7,
      "metadata": {
        "colab": {
          "base_uri": "https://localhost:8080/"
        },
        "id": "W5sgWdXbJXuq",
        "outputId": "b49cdf70-9194-4635-ace7-4e5c08960461"
      },
      "outputs": [
        {
          "output_type": "execute_result",
          "data": {
            "text/plain": [
              "{'input_ids': tensor([[50281,  1552,   310,   353, 15782, 30610,    15,  1281,   434,  3037,\n",
              "           690,   427, 13010,     2, 50282]]), 'attention_mask': tensor([[1, 1, 1, 1, 1, 1, 1, 1, 1, 1, 1, 1, 1, 1, 1]])}"
            ]
          },
          "metadata": {},
          "execution_count": 7
        }
      ],
      "source": [
        "mbert_inputs = mbert_tokenizer(text, return_tensors=\"pt\")\n",
        "mbert_inputs"
      ]
    },
    {
      "cell_type": "markdown",
      "metadata": {
        "id": "4U2j3XZ2JuCs"
      },
      "source": [
        "What do we notice at first glance?"
      ]
    },
    {
      "cell_type": "markdown",
      "metadata": {
        "id": "zi9L8BZkKJ8i"
      },
      "source": [
        "Let's now take a closer look at the `input_ids`."
      ]
    },
    {
      "cell_type": "code",
      "execution_count": 8,
      "metadata": {
        "colab": {
          "base_uri": "https://localhost:8080/"
        },
        "id": "hIrNFeOWKJZO",
        "outputId": "d2382314-32d4-4000-a214-7e97e6d980e3"
      },
      "outputs": [
        {
          "output_type": "execute_result",
          "data": {
            "text/plain": [
              "torch.Size([1, 17])"
            ]
          },
          "metadata": {},
          "execution_count": 8
        }
      ],
      "source": [
        "bert_inputs.input_ids.shape"
      ]
    },
    {
      "cell_type": "code",
      "execution_count": 9,
      "metadata": {
        "colab": {
          "base_uri": "https://localhost:8080/"
        },
        "id": "szGrYMWMJXxT",
        "outputId": "f276042b-e007-4d0a-d0a7-f4e2c2adc390"
      },
      "outputs": [
        {
          "output_type": "execute_result",
          "data": {
            "text/plain": [
              "torch.Size([1, 15])"
            ]
          },
          "metadata": {},
          "execution_count": 9
        }
      ],
      "source": [
        "mbert_inputs.input_ids.shape"
      ]
    },
    {
      "cell_type": "markdown",
      "metadata": {
        "id": "_bSIxPDFQ9Xw"
      },
      "source": [
        "We can see that the two models have different length of input_ids for texts with the same word count!"
      ]
    },
    {
      "cell_type": "markdown",
      "metadata": {
        "id": "8Yb7JOUbSl2U"
      },
      "source": [
        "Let's then take a look at how the tokenization differs between the two models."
      ]
    },
    {
      "cell_type": "code",
      "execution_count": 10,
      "metadata": {
        "colab": {
          "base_uri": "https://localhost:8080/"
        },
        "id": "P3RC7LlYRPKC",
        "outputId": "da5bf335-39a5-4faa-eb31-095f9fbd8b31"
      },
      "outputs": [
        {
          "output_type": "stream",
          "name": "stdout",
          "text": [
            "['This', 'is', 'MI', '##DS', '26', '##6', '.', 'Let', \"'\", 's', 'learn', 'some', 'NL', '##P', '!']\n"
          ]
        }
      ],
      "source": [
        "btokens = bert_tokenizer.tokenize(text)\n",
        "print(btokens)"
      ]
    },
    {
      "cell_type": "code",
      "execution_count": 11,
      "metadata": {
        "colab": {
          "base_uri": "https://localhost:8080/"
        },
        "id": "p8jr25jVRUX4",
        "outputId": "20e56f25-9b50-49d8-be16-571c0c118183"
      },
      "outputs": [
        {
          "output_type": "stream",
          "name": "stdout",
          "text": [
            "['This', 'Ġis', 'ĠM', 'IDS', 'Ġ266', '.', 'ĠLet', \"'s\", 'Ġlearn', 'Ġsome', 'ĠN', 'LP', '!']\n"
          ]
        }
      ],
      "source": [
        "mtokens = mbert_tokenizer.tokenize(text)\n",
        "print(mtokens)"
      ]
    },
    {
      "cell_type": "markdown",
      "metadata": {
        "id": "yuvm7hjzTB_J"
      },
      "source": [
        "Wow! The tokens look quite different between the two models!"
      ]
    },
    {
      "cell_type": "markdown",
      "metadata": {
        "id": "jfZFf9cIStME"
      },
      "source": [
        "We already know BERT uses CLS and SEP tokens, does ModernBERT do the same?"
      ]
    },
    {
      "cell_type": "code",
      "execution_count": 12,
      "metadata": {
        "colab": {
          "base_uri": "https://localhost:8080/",
          "height": 35
        },
        "id": "j3PLmWmQQ45k",
        "outputId": "6d6bc5e7-6600-47b9-83cc-63e7ee6b6f6f"
      },
      "outputs": [
        {
          "output_type": "execute_result",
          "data": {
            "text/plain": [
              "\"[CLS] This is MIDS 266. Let's learn some NLP! [SEP]\""
            ],
            "application/vnd.google.colaboratory.intrinsic+json": {
              "type": "string"
            }
          },
          "metadata": {},
          "execution_count": 12
        }
      ],
      "source": [
        "bert_tokenizer.decode(bert_tokenizer.encode(text))"
      ]
    },
    {
      "cell_type": "code",
      "execution_count": 13,
      "metadata": {
        "colab": {
          "base_uri": "https://localhost:8080/"
        },
        "id": "5IHm_tyrU_8i",
        "outputId": "63caa203-5f25-49a3-f7a2-114e42b8f35b"
      },
      "outputs": [
        {
          "output_type": "execute_result",
          "data": {
            "text/plain": [
              "tensor([[  101,  1188,  1110, 26574, 13675,  1744,  1545,   119,  2421,   112,\n",
              "           188,  3858,  1199, 21239,  2101,   106,   102]])"
            ]
          },
          "metadata": {},
          "execution_count": 13
        }
      ],
      "source": [
        "bert_inputs.input_ids"
      ]
    },
    {
      "cell_type": "code",
      "execution_count": 14,
      "metadata": {
        "colab": {
          "base_uri": "https://localhost:8080/",
          "height": 35
        },
        "id": "l0Khe8cTS4to",
        "outputId": "54ac340f-878b-4c73-f449-22c3a932513e"
      },
      "outputs": [
        {
          "output_type": "execute_result",
          "data": {
            "text/plain": [
              "\"[CLS]This is MIDS 266. Let's learn some NLP![SEP]\""
            ],
            "application/vnd.google.colaboratory.intrinsic+json": {
              "type": "string"
            }
          },
          "metadata": {},
          "execution_count": 14
        }
      ],
      "source": [
        "mbert_tokenizer.decode(mbert_tokenizer.encode(text))"
      ]
    },
    {
      "cell_type": "code",
      "execution_count": 15,
      "metadata": {
        "colab": {
          "base_uri": "https://localhost:8080/"
        },
        "id": "JH7FSAK4VKHU",
        "outputId": "5704b990-ce60-4a05-dce6-e9656cfce817"
      },
      "outputs": [
        {
          "output_type": "execute_result",
          "data": {
            "text/plain": [
              "tensor([[50281,  1552,   310,   353, 15782, 30610,    15,  1281,   434,  3037,\n",
              "           690,   427, 13010,     2, 50282]])"
            ]
          },
          "metadata": {},
          "execution_count": 15
        }
      ],
      "source": [
        "mbert_inputs.input_ids"
      ]
    },
    {
      "cell_type": "markdown",
      "metadata": {
        "id": "zu5rE7nqTG-Y"
      },
      "source": [
        "Similar to other BERT family models, ModernBERT also uses CLS and SEP tokens. Can you guess the input_id for these special tokens?"
      ]
    },
    {
      "cell_type": "markdown",
      "metadata": {
        "id": "atBW3qOLUWyL"
      },
      "source": [
        "Let's now try batch encode, what's different now?\n",
        "\n",
        "Read the [ModernBert Config](https://huggingface.co/docs/transformers/main/en/model_doc/modernbert#transformers.ModernBertConfig) to identify other special tokens and the input ids for each of them."
      ]
    },
    {
      "cell_type": "code",
      "execution_count": 16,
      "metadata": {
        "colab": {
          "base_uri": "https://localhost:8080/"
        },
        "id": "s_JRuJ4lUB2a",
        "outputId": "42324e8f-2161-46b4-f026-3a8b7911242a"
      },
      "outputs": [
        {
          "output_type": "execute_result",
          "data": {
            "text/plain": [
              "{'input_ids': tensor([[ 101, 1188, 1110, 1632,  106,  102,    0,    0,    0,    0],\n",
              "        [ 101, 1188, 1110, 6434,  106,  102,    0,    0,    0,    0]]), 'token_type_ids': tensor([[0, 0, 0, 0, 0, 0, 0, 0, 0, 0],\n",
              "        [0, 0, 0, 0, 0, 0, 0, 0, 0, 0]]), 'attention_mask': tensor([[1, 1, 1, 1, 1, 1, 0, 0, 0, 0],\n",
              "        [1, 1, 1, 1, 1, 1, 0, 0, 0, 0]])}"
            ]
          },
          "metadata": {},
          "execution_count": 16
        }
      ],
      "source": [
        "bert_input = bert_tokenizer.batch_encode_plus(\n",
        "    ['This is great!', 'This is terrible!'],\n",
        "    max_length=10,\n",
        "    truncation=True,\n",
        "    padding='max_length',\n",
        "    return_tensors='pt'\n",
        ")\n",
        "\n",
        "bert_input"
      ]
    },
    {
      "cell_type": "code",
      "execution_count": 17,
      "metadata": {
        "colab": {
          "base_uri": "https://localhost:8080/"
        },
        "id": "J0bfO5EuUFw0",
        "outputId": "bdfbd905-b828-4ac3-bbab-e2de0eef587a"
      },
      "outputs": [
        {
          "output_type": "execute_result",
          "data": {
            "text/plain": [
              "{'input_ids': tensor([[50281,  1552,   310,  1270,     2, 50282, 50283, 50283, 50283, 50283],\n",
              "        [50281,  1552,   310, 11527,     2, 50282, 50283, 50283, 50283, 50283]]), 'attention_mask': tensor([[1, 1, 1, 1, 1, 1, 0, 0, 0, 0],\n",
              "        [1, 1, 1, 1, 1, 1, 0, 0, 0, 0]])}"
            ]
          },
          "metadata": {},
          "execution_count": 17
        }
      ],
      "source": [
        "mbert_input = mbert_tokenizer.batch_encode_plus(\n",
        "    ['This is great!', 'This is terrible!'],\n",
        "    max_length=10,\n",
        "    truncation=True,\n",
        "    padding='max_length',\n",
        "    return_tensors='pt'\n",
        ")\n",
        "\n",
        "mbert_input"
      ]
    },
    {
      "cell_type": "markdown",
      "metadata": {
        "id": "DnzgfXT4ikRq"
      },
      "source": [
        "# Long Context Inputs\n",
        "\n",
        "For long context illustration, we will use the [long-context retrieval (MLDR)](https://huggingface.co/datasets/sentence-transformers/mldr) dataset. This dataset has 10K triples of anchor-positive-negative datapoints, and is ideal for information retrieval. We will cover information retrieval in Week 10."
      ]
    },
    {
      "cell_type": "markdown",
      "metadata": {
        "id": "AwDJZJADj_Kg"
      },
      "source": [
        "We can directly load the dataset from HuggingFace Hub. For this exercise, we will only take the first 5 datapoints as an example."
      ]
    },
    {
      "cell_type": "code",
      "execution_count": 18,
      "metadata": {
        "colab": {
          "base_uri": "https://localhost:8080/",
          "height": 113,
          "referenced_widgets": [
            "9462c3f8a0a4488a8c3ddc456782ad65",
            "039dd9db98614e94bc8548dc336be1bb",
            "0692126c252644e5b7c74e4c4f762eb5",
            "7a77fd6a781947bf9bebb1199824f46d",
            "db6bf50254364d9582de540c71b1e4e9",
            "de29382959d24b2a9a2dc6dc1b58e78b",
            "5b7d9957e5ec47ff959d10705119bd3c",
            "484cb690ad1040539aec534d624d891f",
            "ac8bfbe299144cf88c1427ae5d934ba9",
            "54008932532f4d6688f1b26468c68bb6",
            "1b67689a68f54df2a52acb2f517caad3",
            "214850a9540d4203ba863e5b1005bff0",
            "df3be65a12594ac285c4cf822e613211",
            "446feaf156dd45379f66fa9d75906a9f",
            "65fe9bcb3fab44aa8bf9d58a44e7af69",
            "cb99ed9aa531464fa9bf614424a8f15d",
            "383d73d212ba4e09951405f503494ea6",
            "a728508f21fa4b7bb1c28fa8c8ceb24a",
            "3acb110fe7b44899b739be1a034c3e53",
            "63e9f76b8e78449f93fc74ff59d988b6",
            "82df5b2011c348baab32fd750937551e",
            "852447aeca22459b95043593a76c0320",
            "c044e065801b470e9653f4247518fb4a",
            "2d0d7387b9a04728bf06e7ce4d19d30d",
            "c4cf4ebfc4c3458785df28e2092b678d",
            "7e21dfbaa5894900b5504110dab5c951",
            "378aeb76adb74d25b614de017d2208e7",
            "53c5706759da4ca684048b8341d7ba98",
            "52e514d54bd9499d9cbb02ccc8e9f301",
            "4f6e14e38c0841afb0d95a6bc57bfc3b",
            "2fc38c996f3444eabda45760544f0ac0",
            "4b0c7567eb0647448cd5b18fac356745",
            "d594fd5d737b4b3db6fd5b6fe91e2808"
          ]
        },
        "id": "Kr_0fbXmixPN",
        "outputId": "d4274f92-0918-46d8-8ee7-b41f1dfb49a6"
      },
      "outputs": [
        {
          "output_type": "display_data",
          "data": {
            "text/plain": [
              "README.md: 0.00B [00:00, ?B/s]"
            ],
            "application/vnd.jupyter.widget-view+json": {
              "version_major": 2,
              "version_minor": 0,
              "model_id": "9462c3f8a0a4488a8c3ddc456782ad65"
            }
          },
          "metadata": {}
        },
        {
          "output_type": "display_data",
          "data": {
            "text/plain": [
              "en-triplet/train-00000-of-00001.parquet:   0%|          | 0.00/211M [00:00<?, ?B/s]"
            ],
            "application/vnd.jupyter.widget-view+json": {
              "version_major": 2,
              "version_minor": 0,
              "model_id": "214850a9540d4203ba863e5b1005bff0"
            }
          },
          "metadata": {}
        },
        {
          "output_type": "display_data",
          "data": {
            "text/plain": [
              "Generating train split:   0%|          | 0/10000 [00:00<?, ? examples/s]"
            ],
            "application/vnd.jupyter.widget-view+json": {
              "version_major": 2,
              "version_minor": 0,
              "model_id": "c044e065801b470e9653f4247518fb4a"
            }
          },
          "metadata": {}
        }
      ],
      "source": [
        "dataset = load_dataset(\"sentence-transformers/mldr\", \"en-triplet\", split=\"train\").take(5)"
      ]
    },
    {
      "cell_type": "code",
      "execution_count": 19,
      "metadata": {
        "colab": {
          "base_uri": "https://localhost:8080/"
        },
        "id": "Jt3xyTsvjJ_j",
        "outputId": "5d62c8dc-7456-4ac2-e3de-43181c019585"
      },
      "outputs": [
        {
          "output_type": "execute_result",
          "data": {
            "text/plain": [
              "Dataset({\n",
              "    features: ['anchor', 'positive', 'negative'],\n",
              "    num_rows: 5\n",
              "})"
            ]
          },
          "metadata": {},
          "execution_count": 19
        }
      ],
      "source": [
        "dataset"
      ]
    },
    {
      "cell_type": "markdown",
      "metadata": {
        "id": "YD8-rMjdkoJ8"
      },
      "source": [
        "This dataset is designed for long context retrieval, let's take a look at the first example"
      ]
    },
    {
      "cell_type": "code",
      "execution_count": 20,
      "metadata": {
        "colab": {
          "base_uri": "https://localhost:8080/"
        },
        "id": "il7HELlKimRo",
        "outputId": "873ec352-d965-4e1d-ecef-b40846b9cd4e"
      },
      "outputs": [
        {
          "output_type": "execute_result",
          "data": {
            "text/plain": [
              "12379"
            ]
          },
          "metadata": {},
          "execution_count": 20
        }
      ],
      "source": [
        "text = dataset[0][\"positive\"]\n",
        "len(text)"
      ]
    },
    {
      "cell_type": "markdown",
      "metadata": {
        "id": "RRvMdfYrk_sf"
      },
      "source": [
        "Wow this is surely a long text, what happens if we try to tokenize it for BERT?"
      ]
    },
    {
      "cell_type": "code",
      "execution_count": 21,
      "metadata": {
        "colab": {
          "base_uri": "https://localhost:8080/"
        },
        "id": "wV-hR6pHimK7",
        "outputId": "f38633e5-8cf9-4871-e0c0-39c0b906363a"
      },
      "outputs": [
        {
          "output_type": "stream",
          "name": "stderr",
          "text": [
            "Token indices sequence length is longer than the specified maximum sequence length for this model (2450 > 512). Running this sequence through the model will result in indexing errors\n"
          ]
        },
        {
          "output_type": "execute_result",
          "data": {
            "text/plain": [
              "{'input_ids': tensor([[  101,  1287,  5665,  ...,  4052, 12762,   102]]), 'token_type_ids': tensor([[0, 0, 0,  ..., 0, 0, 0]]), 'attention_mask': tensor([[1, 1, 1,  ..., 1, 1, 1]])}"
            ]
          },
          "metadata": {},
          "execution_count": 21
        }
      ],
      "source": [
        "bert_inputs = bert_tokenizer(text, return_tensors=\"pt\")\n",
        "bert_inputs"
      ]
    },
    {
      "cell_type": "markdown",
      "metadata": {
        "id": "fTCD4KmulF7i"
      },
      "source": [
        "Uhoh, we see a warning that the sequence length exceeds the max sequence length allowed for the model.\n",
        "\n",
        "What happens if we directly use this long text in the BERT model without any preprocessing? All the texts after the 512th token will be lost!\n",
        "\n",
        "Think about what you can do to combat this issue if you'd like to use BERT model on this dataset? What disadvantage would this impose compared to using a model that has long context capabilities?"
      ]
    },
    {
      "cell_type": "markdown",
      "metadata": {
        "id": "V8n_3ny7lfLv"
      },
      "source": [
        "Now let's tokenize it for ModernBERT"
      ]
    },
    {
      "cell_type": "code",
      "execution_count": 22,
      "metadata": {
        "colab": {
          "base_uri": "https://localhost:8080/"
        },
        "id": "1P6ifdkHimAD",
        "outputId": "658eae06-5de8-4295-8ed7-11c548a7c7d8"
      },
      "outputs": [
        {
          "output_type": "execute_result",
          "data": {
            "text/plain": [
              "{'input_ids': tensor([[50281,  8732, 26456,  ..., 13416, 20759, 50282]]), 'attention_mask': tensor([[1, 1, 1,  ..., 1, 1, 1]])}"
            ]
          },
          "metadata": {},
          "execution_count": 22
        }
      ],
      "source": [
        "mbert_inputs = mbert_tokenizer(text, return_tensors=\"pt\")\n",
        "mbert_inputs"
      ]
    },
    {
      "cell_type": "code",
      "execution_count": 23,
      "metadata": {
        "colab": {
          "base_uri": "https://localhost:8080/"
        },
        "id": "LQQK4n0Olm7O",
        "outputId": "c18d0fe8-7e35-4c43-f09e-58a3502a1bd1"
      },
      "outputs": [
        {
          "output_type": "execute_result",
          "data": {
            "text/plain": [
              "torch.Size([1, 2671])"
            ]
          },
          "metadata": {},
          "execution_count": 23
        }
      ],
      "source": [
        "mbert_inputs.input_ids.shape"
      ]
    },
    {
      "cell_type": "markdown",
      "metadata": {
        "id": "-tNa3MXelpve"
      },
      "source": [
        "No more warnings about the sequence length exceeding the maximum sequence length. This is because ModernBERT allows for long context up to 8192 tokens! This is huge!"
      ]
    },
    {
      "cell_type": "markdown",
      "metadata": {
        "id": "avVr_sbtTind"
      },
      "source": [
        "# Model Architecture\n",
        "\n",
        "Let's now take a look at the model architecture!"
      ]
    },
    {
      "cell_type": "code",
      "execution_count": 24,
      "metadata": {
        "colab": {
          "base_uri": "https://localhost:8080/"
        },
        "id": "StEbfZ4zToni",
        "outputId": "d950bdb9-b2e3-474b-f018-90e3811eb314"
      },
      "outputs": [
        {
          "output_type": "stream",
          "name": "stdout",
          "text": [
            "embeddings.word_embeddings.weight\n",
            "embeddings.position_embeddings.weight\n",
            "embeddings.token_type_embeddings.weight\n",
            "embeddings.LayerNorm.weight\n",
            "embeddings.LayerNorm.bias\n",
            "encoder.layer.0.attention.self.query.weight\n",
            "encoder.layer.0.attention.self.query.bias\n",
            "encoder.layer.0.attention.self.key.weight\n",
            "encoder.layer.0.attention.self.key.bias\n",
            "encoder.layer.0.attention.self.value.weight\n",
            "encoder.layer.0.attention.self.value.bias\n",
            "encoder.layer.0.attention.output.dense.weight\n",
            "encoder.layer.0.attention.output.dense.bias\n",
            "encoder.layer.0.attention.output.LayerNorm.weight\n",
            "encoder.layer.0.attention.output.LayerNorm.bias\n",
            "encoder.layer.0.intermediate.dense.weight\n",
            "encoder.layer.0.intermediate.dense.bias\n",
            "encoder.layer.0.output.dense.weight\n",
            "encoder.layer.0.output.dense.bias\n",
            "encoder.layer.0.output.LayerNorm.weight\n",
            "encoder.layer.0.output.LayerNorm.bias\n",
            "encoder.layer.1.attention.self.query.weight\n",
            "encoder.layer.1.attention.self.query.bias\n",
            "encoder.layer.1.attention.self.key.weight\n",
            "encoder.layer.1.attention.self.key.bias\n",
            "encoder.layer.1.attention.self.value.weight\n",
            "encoder.layer.1.attention.self.value.bias\n",
            "encoder.layer.1.attention.output.dense.weight\n",
            "encoder.layer.1.attention.output.dense.bias\n",
            "encoder.layer.1.attention.output.LayerNorm.weight\n",
            "encoder.layer.1.attention.output.LayerNorm.bias\n",
            "encoder.layer.1.intermediate.dense.weight\n",
            "encoder.layer.1.intermediate.dense.bias\n",
            "encoder.layer.1.output.dense.weight\n",
            "encoder.layer.1.output.dense.bias\n",
            "encoder.layer.1.output.LayerNorm.weight\n",
            "encoder.layer.1.output.LayerNorm.bias\n",
            "encoder.layer.2.attention.self.query.weight\n",
            "encoder.layer.2.attention.self.query.bias\n",
            "encoder.layer.2.attention.self.key.weight\n",
            "encoder.layer.2.attention.self.key.bias\n",
            "encoder.layer.2.attention.self.value.weight\n",
            "encoder.layer.2.attention.self.value.bias\n",
            "encoder.layer.2.attention.output.dense.weight\n",
            "encoder.layer.2.attention.output.dense.bias\n",
            "encoder.layer.2.attention.output.LayerNorm.weight\n",
            "encoder.layer.2.attention.output.LayerNorm.bias\n",
            "encoder.layer.2.intermediate.dense.weight\n",
            "encoder.layer.2.intermediate.dense.bias\n",
            "encoder.layer.2.output.dense.weight\n",
            "encoder.layer.2.output.dense.bias\n",
            "encoder.layer.2.output.LayerNorm.weight\n",
            "encoder.layer.2.output.LayerNorm.bias\n",
            "encoder.layer.3.attention.self.query.weight\n",
            "encoder.layer.3.attention.self.query.bias\n",
            "encoder.layer.3.attention.self.key.weight\n",
            "encoder.layer.3.attention.self.key.bias\n",
            "encoder.layer.3.attention.self.value.weight\n",
            "encoder.layer.3.attention.self.value.bias\n",
            "encoder.layer.3.attention.output.dense.weight\n",
            "encoder.layer.3.attention.output.dense.bias\n",
            "encoder.layer.3.attention.output.LayerNorm.weight\n",
            "encoder.layer.3.attention.output.LayerNorm.bias\n",
            "encoder.layer.3.intermediate.dense.weight\n",
            "encoder.layer.3.intermediate.dense.bias\n",
            "encoder.layer.3.output.dense.weight\n",
            "encoder.layer.3.output.dense.bias\n",
            "encoder.layer.3.output.LayerNorm.weight\n",
            "encoder.layer.3.output.LayerNorm.bias\n",
            "encoder.layer.4.attention.self.query.weight\n",
            "encoder.layer.4.attention.self.query.bias\n",
            "encoder.layer.4.attention.self.key.weight\n",
            "encoder.layer.4.attention.self.key.bias\n",
            "encoder.layer.4.attention.self.value.weight\n",
            "encoder.layer.4.attention.self.value.bias\n",
            "encoder.layer.4.attention.output.dense.weight\n",
            "encoder.layer.4.attention.output.dense.bias\n",
            "encoder.layer.4.attention.output.LayerNorm.weight\n",
            "encoder.layer.4.attention.output.LayerNorm.bias\n",
            "encoder.layer.4.intermediate.dense.weight\n",
            "encoder.layer.4.intermediate.dense.bias\n",
            "encoder.layer.4.output.dense.weight\n",
            "encoder.layer.4.output.dense.bias\n",
            "encoder.layer.4.output.LayerNorm.weight\n",
            "encoder.layer.4.output.LayerNorm.bias\n",
            "encoder.layer.5.attention.self.query.weight\n",
            "encoder.layer.5.attention.self.query.bias\n",
            "encoder.layer.5.attention.self.key.weight\n",
            "encoder.layer.5.attention.self.key.bias\n",
            "encoder.layer.5.attention.self.value.weight\n",
            "encoder.layer.5.attention.self.value.bias\n",
            "encoder.layer.5.attention.output.dense.weight\n",
            "encoder.layer.5.attention.output.dense.bias\n",
            "encoder.layer.5.attention.output.LayerNorm.weight\n",
            "encoder.layer.5.attention.output.LayerNorm.bias\n",
            "encoder.layer.5.intermediate.dense.weight\n",
            "encoder.layer.5.intermediate.dense.bias\n",
            "encoder.layer.5.output.dense.weight\n",
            "encoder.layer.5.output.dense.bias\n",
            "encoder.layer.5.output.LayerNorm.weight\n",
            "encoder.layer.5.output.LayerNorm.bias\n",
            "encoder.layer.6.attention.self.query.weight\n",
            "encoder.layer.6.attention.self.query.bias\n",
            "encoder.layer.6.attention.self.key.weight\n",
            "encoder.layer.6.attention.self.key.bias\n",
            "encoder.layer.6.attention.self.value.weight\n",
            "encoder.layer.6.attention.self.value.bias\n",
            "encoder.layer.6.attention.output.dense.weight\n",
            "encoder.layer.6.attention.output.dense.bias\n",
            "encoder.layer.6.attention.output.LayerNorm.weight\n",
            "encoder.layer.6.attention.output.LayerNorm.bias\n",
            "encoder.layer.6.intermediate.dense.weight\n",
            "encoder.layer.6.intermediate.dense.bias\n",
            "encoder.layer.6.output.dense.weight\n",
            "encoder.layer.6.output.dense.bias\n",
            "encoder.layer.6.output.LayerNorm.weight\n",
            "encoder.layer.6.output.LayerNorm.bias\n",
            "encoder.layer.7.attention.self.query.weight\n",
            "encoder.layer.7.attention.self.query.bias\n",
            "encoder.layer.7.attention.self.key.weight\n",
            "encoder.layer.7.attention.self.key.bias\n",
            "encoder.layer.7.attention.self.value.weight\n",
            "encoder.layer.7.attention.self.value.bias\n",
            "encoder.layer.7.attention.output.dense.weight\n",
            "encoder.layer.7.attention.output.dense.bias\n",
            "encoder.layer.7.attention.output.LayerNorm.weight\n",
            "encoder.layer.7.attention.output.LayerNorm.bias\n",
            "encoder.layer.7.intermediate.dense.weight\n",
            "encoder.layer.7.intermediate.dense.bias\n",
            "encoder.layer.7.output.dense.weight\n",
            "encoder.layer.7.output.dense.bias\n",
            "encoder.layer.7.output.LayerNorm.weight\n",
            "encoder.layer.7.output.LayerNorm.bias\n",
            "encoder.layer.8.attention.self.query.weight\n",
            "encoder.layer.8.attention.self.query.bias\n",
            "encoder.layer.8.attention.self.key.weight\n",
            "encoder.layer.8.attention.self.key.bias\n",
            "encoder.layer.8.attention.self.value.weight\n",
            "encoder.layer.8.attention.self.value.bias\n",
            "encoder.layer.8.attention.output.dense.weight\n",
            "encoder.layer.8.attention.output.dense.bias\n",
            "encoder.layer.8.attention.output.LayerNorm.weight\n",
            "encoder.layer.8.attention.output.LayerNorm.bias\n",
            "encoder.layer.8.intermediate.dense.weight\n",
            "encoder.layer.8.intermediate.dense.bias\n",
            "encoder.layer.8.output.dense.weight\n",
            "encoder.layer.8.output.dense.bias\n",
            "encoder.layer.8.output.LayerNorm.weight\n",
            "encoder.layer.8.output.LayerNorm.bias\n",
            "encoder.layer.9.attention.self.query.weight\n",
            "encoder.layer.9.attention.self.query.bias\n",
            "encoder.layer.9.attention.self.key.weight\n",
            "encoder.layer.9.attention.self.key.bias\n",
            "encoder.layer.9.attention.self.value.weight\n",
            "encoder.layer.9.attention.self.value.bias\n",
            "encoder.layer.9.attention.output.dense.weight\n",
            "encoder.layer.9.attention.output.dense.bias\n",
            "encoder.layer.9.attention.output.LayerNorm.weight\n",
            "encoder.layer.9.attention.output.LayerNorm.bias\n",
            "encoder.layer.9.intermediate.dense.weight\n",
            "encoder.layer.9.intermediate.dense.bias\n",
            "encoder.layer.9.output.dense.weight\n",
            "encoder.layer.9.output.dense.bias\n",
            "encoder.layer.9.output.LayerNorm.weight\n",
            "encoder.layer.9.output.LayerNorm.bias\n",
            "encoder.layer.10.attention.self.query.weight\n",
            "encoder.layer.10.attention.self.query.bias\n",
            "encoder.layer.10.attention.self.key.weight\n",
            "encoder.layer.10.attention.self.key.bias\n",
            "encoder.layer.10.attention.self.value.weight\n",
            "encoder.layer.10.attention.self.value.bias\n",
            "encoder.layer.10.attention.output.dense.weight\n",
            "encoder.layer.10.attention.output.dense.bias\n",
            "encoder.layer.10.attention.output.LayerNorm.weight\n",
            "encoder.layer.10.attention.output.LayerNorm.bias\n",
            "encoder.layer.10.intermediate.dense.weight\n",
            "encoder.layer.10.intermediate.dense.bias\n",
            "encoder.layer.10.output.dense.weight\n",
            "encoder.layer.10.output.dense.bias\n",
            "encoder.layer.10.output.LayerNorm.weight\n",
            "encoder.layer.10.output.LayerNorm.bias\n",
            "encoder.layer.11.attention.self.query.weight\n",
            "encoder.layer.11.attention.self.query.bias\n",
            "encoder.layer.11.attention.self.key.weight\n",
            "encoder.layer.11.attention.self.key.bias\n",
            "encoder.layer.11.attention.self.value.weight\n",
            "encoder.layer.11.attention.self.value.bias\n",
            "encoder.layer.11.attention.output.dense.weight\n",
            "encoder.layer.11.attention.output.dense.bias\n",
            "encoder.layer.11.attention.output.LayerNorm.weight\n",
            "encoder.layer.11.attention.output.LayerNorm.bias\n",
            "encoder.layer.11.intermediate.dense.weight\n",
            "encoder.layer.11.intermediate.dense.bias\n",
            "encoder.layer.11.output.dense.weight\n",
            "encoder.layer.11.output.dense.bias\n",
            "encoder.layer.11.output.LayerNorm.weight\n",
            "encoder.layer.11.output.LayerNorm.bias\n",
            "pooler.dense.weight\n",
            "pooler.dense.bias\n"
          ]
        }
      ],
      "source": [
        "for name, param in bert_model.named_parameters():\n",
        "    print(name)"
      ]
    },
    {
      "cell_type": "code",
      "execution_count": 25,
      "metadata": {
        "colab": {
          "base_uri": "https://localhost:8080/"
        },
        "id": "xrxxkjMSToqA",
        "outputId": "229d7d1f-75d0-4a84-8c35-2011e414f936"
      },
      "outputs": [
        {
          "output_type": "stream",
          "name": "stdout",
          "text": [
            "embeddings.tok_embeddings.weight\n",
            "embeddings.norm.weight\n",
            "layers.0.attn.Wqkv.weight\n",
            "layers.0.attn.Wo.weight\n",
            "layers.0.mlp_norm.weight\n",
            "layers.0.mlp.Wi.weight\n",
            "layers.0.mlp.Wo.weight\n",
            "layers.1.attn_norm.weight\n",
            "layers.1.attn.Wqkv.weight\n",
            "layers.1.attn.Wo.weight\n",
            "layers.1.mlp_norm.weight\n",
            "layers.1.mlp.Wi.weight\n",
            "layers.1.mlp.Wo.weight\n",
            "layers.2.attn_norm.weight\n",
            "layers.2.attn.Wqkv.weight\n",
            "layers.2.attn.Wo.weight\n",
            "layers.2.mlp_norm.weight\n",
            "layers.2.mlp.Wi.weight\n",
            "layers.2.mlp.Wo.weight\n",
            "layers.3.attn_norm.weight\n",
            "layers.3.attn.Wqkv.weight\n",
            "layers.3.attn.Wo.weight\n",
            "layers.3.mlp_norm.weight\n",
            "layers.3.mlp.Wi.weight\n",
            "layers.3.mlp.Wo.weight\n",
            "layers.4.attn_norm.weight\n",
            "layers.4.attn.Wqkv.weight\n",
            "layers.4.attn.Wo.weight\n",
            "layers.4.mlp_norm.weight\n",
            "layers.4.mlp.Wi.weight\n",
            "layers.4.mlp.Wo.weight\n",
            "layers.5.attn_norm.weight\n",
            "layers.5.attn.Wqkv.weight\n",
            "layers.5.attn.Wo.weight\n",
            "layers.5.mlp_norm.weight\n",
            "layers.5.mlp.Wi.weight\n",
            "layers.5.mlp.Wo.weight\n",
            "layers.6.attn_norm.weight\n",
            "layers.6.attn.Wqkv.weight\n",
            "layers.6.attn.Wo.weight\n",
            "layers.6.mlp_norm.weight\n",
            "layers.6.mlp.Wi.weight\n",
            "layers.6.mlp.Wo.weight\n",
            "layers.7.attn_norm.weight\n",
            "layers.7.attn.Wqkv.weight\n",
            "layers.7.attn.Wo.weight\n",
            "layers.7.mlp_norm.weight\n",
            "layers.7.mlp.Wi.weight\n",
            "layers.7.mlp.Wo.weight\n",
            "layers.8.attn_norm.weight\n",
            "layers.8.attn.Wqkv.weight\n",
            "layers.8.attn.Wo.weight\n",
            "layers.8.mlp_norm.weight\n",
            "layers.8.mlp.Wi.weight\n",
            "layers.8.mlp.Wo.weight\n",
            "layers.9.attn_norm.weight\n",
            "layers.9.attn.Wqkv.weight\n",
            "layers.9.attn.Wo.weight\n",
            "layers.9.mlp_norm.weight\n",
            "layers.9.mlp.Wi.weight\n",
            "layers.9.mlp.Wo.weight\n",
            "layers.10.attn_norm.weight\n",
            "layers.10.attn.Wqkv.weight\n",
            "layers.10.attn.Wo.weight\n",
            "layers.10.mlp_norm.weight\n",
            "layers.10.mlp.Wi.weight\n",
            "layers.10.mlp.Wo.weight\n",
            "layers.11.attn_norm.weight\n",
            "layers.11.attn.Wqkv.weight\n",
            "layers.11.attn.Wo.weight\n",
            "layers.11.mlp_norm.weight\n",
            "layers.11.mlp.Wi.weight\n",
            "layers.11.mlp.Wo.weight\n",
            "layers.12.attn_norm.weight\n",
            "layers.12.attn.Wqkv.weight\n",
            "layers.12.attn.Wo.weight\n",
            "layers.12.mlp_norm.weight\n",
            "layers.12.mlp.Wi.weight\n",
            "layers.12.mlp.Wo.weight\n",
            "layers.13.attn_norm.weight\n",
            "layers.13.attn.Wqkv.weight\n",
            "layers.13.attn.Wo.weight\n",
            "layers.13.mlp_norm.weight\n",
            "layers.13.mlp.Wi.weight\n",
            "layers.13.mlp.Wo.weight\n",
            "layers.14.attn_norm.weight\n",
            "layers.14.attn.Wqkv.weight\n",
            "layers.14.attn.Wo.weight\n",
            "layers.14.mlp_norm.weight\n",
            "layers.14.mlp.Wi.weight\n",
            "layers.14.mlp.Wo.weight\n",
            "layers.15.attn_norm.weight\n",
            "layers.15.attn.Wqkv.weight\n",
            "layers.15.attn.Wo.weight\n",
            "layers.15.mlp_norm.weight\n",
            "layers.15.mlp.Wi.weight\n",
            "layers.15.mlp.Wo.weight\n",
            "layers.16.attn_norm.weight\n",
            "layers.16.attn.Wqkv.weight\n",
            "layers.16.attn.Wo.weight\n",
            "layers.16.mlp_norm.weight\n",
            "layers.16.mlp.Wi.weight\n",
            "layers.16.mlp.Wo.weight\n",
            "layers.17.attn_norm.weight\n",
            "layers.17.attn.Wqkv.weight\n",
            "layers.17.attn.Wo.weight\n",
            "layers.17.mlp_norm.weight\n",
            "layers.17.mlp.Wi.weight\n",
            "layers.17.mlp.Wo.weight\n",
            "layers.18.attn_norm.weight\n",
            "layers.18.attn.Wqkv.weight\n",
            "layers.18.attn.Wo.weight\n",
            "layers.18.mlp_norm.weight\n",
            "layers.18.mlp.Wi.weight\n",
            "layers.18.mlp.Wo.weight\n",
            "layers.19.attn_norm.weight\n",
            "layers.19.attn.Wqkv.weight\n",
            "layers.19.attn.Wo.weight\n",
            "layers.19.mlp_norm.weight\n",
            "layers.19.mlp.Wi.weight\n",
            "layers.19.mlp.Wo.weight\n",
            "layers.20.attn_norm.weight\n",
            "layers.20.attn.Wqkv.weight\n",
            "layers.20.attn.Wo.weight\n",
            "layers.20.mlp_norm.weight\n",
            "layers.20.mlp.Wi.weight\n",
            "layers.20.mlp.Wo.weight\n",
            "layers.21.attn_norm.weight\n",
            "layers.21.attn.Wqkv.weight\n",
            "layers.21.attn.Wo.weight\n",
            "layers.21.mlp_norm.weight\n",
            "layers.21.mlp.Wi.weight\n",
            "layers.21.mlp.Wo.weight\n",
            "final_norm.weight\n"
          ]
        }
      ],
      "source": [
        "for name, param in mbert_model.named_parameters():\n",
        "    print(name)"
      ]
    },
    {
      "cell_type": "markdown",
      "metadata": {
        "id": "KI01Bt1qWP8n"
      },
      "source": [
        "What differences do you see when comparing the layers?"
      ]
    },
    {
      "cell_type": "markdown",
      "metadata": {
        "id": "a4UR8YpwTip1"
      },
      "source": [
        "# Model outputs\n",
        "\n",
        "We have seen the differences in inputs and model architecture, let's now take a look at model outputs"
      ]
    },
    {
      "cell_type": "markdown",
      "metadata": {
        "id": "fETmJPVWmWlI"
      },
      "source": [
        "Remember, our text is too long for BERT, so we must truncate it before we can feed the tokenized inputs to the model"
      ]
    },
    {
      "cell_type": "code",
      "execution_count": 26,
      "metadata": {
        "colab": {
          "base_uri": "https://localhost:8080/"
        },
        "id": "3RG1Lqj8mQxo",
        "outputId": "f2e1b511-a3b2-4723-ea51-360a7a2dc2c8"
      },
      "outputs": [
        {
          "output_type": "execute_result",
          "data": {
            "text/plain": [
              "BaseModelOutputWithPoolingAndCrossAttentions(last_hidden_state=tensor([[[ 0.5935,  0.0940, -0.1687,  ..., -0.3806,  0.0434,  0.3832],\n",
              "         [ 0.4253, -0.4766,  0.7440,  ..., -0.3942,  0.3230,  0.2140],\n",
              "         [ 0.4182, -0.5374,  0.5692,  ..., -0.2323, -0.0629,  1.2690],\n",
              "         ...,\n",
              "         [ 0.5098, -0.5685,  0.2344,  ..., -0.5356,  0.0076,  0.3847],\n",
              "         [ 0.4078, -0.4184,  0.0023,  ..., -0.1491, -0.1271,  0.2958],\n",
              "         [ 1.3882,  0.1162,  1.2960,  ...,  0.3271,  0.2593, -0.2280]]],\n",
              "       grad_fn=<NativeLayerNormBackward0>), pooler_output=tensor([[-5.8410e-01,  3.0264e-01,  9.9930e-01, -9.6620e-01,  8.9615e-01,\n",
              "          9.3145e-01,  7.0277e-01, -9.9296e-01, -8.9288e-01,  6.4332e-02,\n",
              "          9.1099e-01,  9.9563e-01, -9.9678e-01, -9.9903e-01,  7.9328e-01,\n",
              "         -8.7767e-01,  9.3608e-01, -5.5321e-01, -9.9983e-01, -4.3656e-01,\n",
              "         -5.8475e-01, -9.9944e-01,  1.0964e-01,  9.4960e-01,  7.4010e-01,\n",
              "          9.5588e-02,  9.5480e-01,  9.9985e-01,  3.6781e-01, -7.1418e-02,\n",
              "          1.5343e-01, -9.6342e-01,  8.0601e-01, -9.9523e-01,  2.3721e-01,\n",
              "          5.7079e-01,  6.7148e-01, -1.1572e-01,  3.4119e-02, -9.6574e-01,\n",
              "          9.3264e-02, -8.1855e-02,  5.0594e-01, -3.3878e-01,  9.0800e-01,\n",
              "         -8.7438e-02,  1.0873e-01, -7.0242e-02, -2.1631e-01,  9.9912e-01,\n",
              "         -6.7767e-01,  8.5516e-01, -9.9331e-01,  8.1020e-01,  9.7947e-01,\n",
              "          9.2903e-02,  9.8613e-01,  6.2485e-02, -9.9823e-01, -2.5996e-01,\n",
              "          9.3471e-01,  2.4518e-01,  7.3368e-01,  4.3069e-01,  7.7860e-02,\n",
              "         -2.7087e-01, -6.1349e-01,  1.9892e-01, -1.9870e-01, -4.1420e-02,\n",
              "         -2.2974e-01,  1.5551e-01,  8.8369e-01, -7.2188e-01, -1.3030e-01,\n",
              "         -7.2228e-01,  8.6983e-02, -9.9951e-01,  7.8917e-01,  9.9984e-01,\n",
              "          7.9675e-01, -9.9898e-01,  9.5664e-01, -3.5850e-01, -7.5224e-01,\n",
              "          6.3721e-01, -9.9897e-01, -9.9861e-01, -4.0646e-02,  2.7731e-01,\n",
              "          7.8841e-01, -9.5581e-01,  4.9356e-01, -8.1524e-01,  9.9988e-01,\n",
              "         -9.2398e-01, -2.0302e-01,  2.3728e-01,  9.0461e-01, -8.6807e-01,\n",
              "         -6.8295e-02,  6.8471e-01,  9.9809e-01, -9.9607e-01,  9.9796e-01,\n",
              "          3.6687e-01, -7.6389e-01, -8.2652e-01,  5.6332e-01,  1.6990e-01,\n",
              "          8.9584e-01, -9.1908e-01, -7.0620e-01,  9.2570e-02,  9.5404e-01,\n",
              "         -8.4261e-01,  9.4571e-01,  6.9897e-01, -1.3166e-01,  9.9991e-01,\n",
              "          8.6573e-04,  9.6499e-01,  9.9181e-01,  7.3345e-01, -7.3252e-01,\n",
              "         -1.6990e-01, -4.5202e-01,  8.8734e-01, -3.9905e-01,  2.1717e-01,\n",
              "          7.1758e-01, -9.5522e-01, -9.9799e-01,  9.9785e-01, -2.3564e-01,\n",
              "          9.9983e-01, -9.9740e-01,  9.8551e-01, -9.9964e-01, -8.8597e-01,\n",
              "         -6.3065e-01, -6.1944e-02, -9.8140e-01, -3.8314e-01,  9.6079e-01,\n",
              "         -3.5562e-02, -8.9131e-01, -9.4146e-01,  6.0549e-01, -7.9863e-01,\n",
              "          3.7850e-01,  2.2629e-01, -6.2396e-01,  6.8147e-01,  9.9628e-01,\n",
              "          9.4864e-01,  9.6761e-01,  2.6589e-01, -9.2230e-01,  7.9300e-01,\n",
              "          9.5846e-01, -9.9813e-01,  8.9732e-01, -9.9189e-01,  9.9563e-01,\n",
              "          8.4069e-01,  7.1321e-01, -9.9685e-01,  9.9961e-01, -5.5877e-01,\n",
              "          1.1755e-01,  6.7096e-01, -1.5607e-02, -9.9877e-01,  3.9619e-01,\n",
              "          4.5943e-01, -1.5558e-01,  9.9727e-01, -9.5714e-01,  9.9774e-01,\n",
              "          1.3252e-02,  4.9255e-01,  3.5772e-01,  9.9831e-01, -9.9158e-01,\n",
              "         -8.0291e-01, -9.4892e-01,  1.9027e-01,  6.8125e-01,  6.1750e-01,\n",
              "          6.7569e-01,  7.8732e-01,  9.9828e-01, -2.9757e-01, -9.9001e-01,\n",
              "         -4.1553e-01,  9.5287e-01, -2.0856e-01,  9.9985e-01, -2.6419e-01,\n",
              "         -9.9937e-01, -8.2160e-01,  8.9943e-01,  8.1914e-01, -1.6182e-01,\n",
              "          8.1462e-01, -5.2396e-01, -2.8664e-01,  9.6293e-01, -6.9406e-01,\n",
              "          9.9832e-01, -3.6147e-03,  6.1132e-01,  3.8594e-01,  8.8349e-01,\n",
              "         -5.3314e-01, -1.6408e-01,  1.2694e-01, -7.5518e-01,  9.9957e-01,\n",
              "         -9.9856e-01, -1.6731e-01, -3.7634e-02, -9.8519e-01, -9.9560e-01,\n",
              "          6.2436e-01,  8.0067e-02, -6.4282e-01, -1.3642e-01,  6.1741e-01,\n",
              "          3.6457e-02,  7.8893e-01,  9.6491e-01, -3.9164e-01, -6.0784e-01,\n",
              "         -9.9932e-01, -9.9750e-01,  2.3789e-02, -9.1867e-01, -4.1951e-02,\n",
              "          6.5721e-01, -1.3801e-01, -7.4794e-01, -9.9856e-01,  7.6599e-01,\n",
              "          7.6082e-01, -9.3422e-01,  2.2875e-02, -7.3960e-01, -9.9835e-01,\n",
              "          2.4609e-01, -6.4626e-01, -9.9438e-01,  9.9815e-01, -6.6258e-01,\n",
              "          9.9429e-01,  7.7789e-01, -9.7316e-01,  7.5115e-01, -9.9838e-01,\n",
              "         -2.1761e-01, -7.2140e-01,  2.4359e-01,  6.5461e-02, -6.3551e-01,\n",
              "          1.5406e-01,  9.7360e-01, -7.6235e-01, -7.6524e-01,  7.9072e-01,\n",
              "         -9.9919e-01,  7.1930e-01, -3.0343e-02,  9.9774e-01,  7.3305e-01,\n",
              "         -1.8897e-01,  8.4528e-01,  8.9185e-01, -9.8000e-01, -9.9931e-01,\n",
              "          8.7562e-01,  4.7079e-01, -9.7402e-01, -1.9808e-01,  9.9971e-01,\n",
              "         -9.9770e-01,  1.2563e-01, -8.2274e-01, -9.3619e-01, -9.9881e-01,\n",
              "          3.3897e-01, -6.8748e-01,  1.8618e-01,  8.5998e-01,  1.4464e-01,\n",
              "          1.5673e-01,  9.7794e-01,  7.4372e-01,  2.8083e-01, -1.1855e-02,\n",
              "          1.1291e-01, -9.1355e-01, -4.6355e-01,  3.6866e-02,  3.8867e-02,\n",
              "         -9.9978e-01,  9.9928e-01, -9.8119e-01,  7.3831e-01,  9.6325e-01,\n",
              "         -9.9413e-01,  5.8742e-01,  2.1178e-01, -9.3854e-01, -1.8941e-02,\n",
              "          9.9969e-01,  8.0575e-01, -1.6765e-02,  1.8186e-01,  9.5256e-01,\n",
              "         -9.4176e-02,  6.5096e-01, -8.6763e-01, -4.4254e-01,  1.5096e-01,\n",
              "         -8.8588e-01,  9.8995e-01,  8.2660e-01, -9.5530e-01,  9.9444e-01,\n",
              "          1.0205e-01, -2.3893e-01, -6.3873e-01,  4.5051e-01,  9.4024e-01,\n",
              "          9.7326e-03, -3.8613e-01, -4.2612e-01, -3.7294e-03, -9.8418e-01,\n",
              "         -1.5258e-01, -9.9191e-01, -1.4834e-01,  8.6001e-01,  8.4497e-01,\n",
              "         -9.3132e-01,  7.7044e-01, -6.7252e-02,  8.3708e-01, -9.9735e-01,\n",
              "          9.9994e-01, -8.7027e-01,  1.6736e-01,  7.1710e-01, -8.7973e-01,\n",
              "         -2.0531e-01,  9.0445e-01,  9.8367e-01,  9.4210e-01, -8.9663e-01,\n",
              "         -8.0824e-01,  4.4318e-01,  8.4767e-01, -9.7307e-01, -9.7092e-02,\n",
              "         -9.9936e-01, -8.5246e-01,  9.6997e-01,  9.9689e-01,  2.8174e-02,\n",
              "         -4.9814e-01, -9.9739e-01,  8.5144e-01, -7.8339e-01, -5.7165e-01,\n",
              "         -1.4819e-01, -7.6239e-01,  5.0902e-01,  9.9785e-01, -5.2632e-01,\n",
              "          7.2047e-01,  3.5955e-02, -8.3544e-01,  7.3413e-01,  7.5778e-01,\n",
              "          9.9952e-01, -9.3652e-01,  5.3679e-01,  9.3030e-01, -5.1552e-02,\n",
              "         -7.6571e-01,  6.3139e-02,  9.9882e-01, -9.2061e-01, -1.1983e-01,\n",
              "         -9.9832e-01, -2.1231e-01, -1.1371e-01, -5.7941e-01, -5.9803e-01,\n",
              "          5.2511e-03, -8.6755e-01,  9.2965e-01,  6.1991e-01,  4.0540e-01,\n",
              "         -4.0696e-01,  6.5047e-01, -4.3759e-01, -5.9640e-02, -3.5947e-01,\n",
              "         -1.4891e-01,  4.2398e-01,  1.2092e-01,  8.4941e-01, -6.1199e-01,\n",
              "          9.9888e-01,  2.0604e-02, -9.9983e-01, -9.9804e-01, -7.5979e-01,\n",
              "         -9.9754e-01, -3.6530e-01, -8.7542e-01,  9.4455e-01,  9.4437e-01,\n",
              "         -9.9871e-01, -9.9864e-01, -8.3780e-01, -8.0400e-01,  7.7003e-01,\n",
              "          4.4651e-02,  8.7671e-02,  5.1311e-01, -1.4248e-02,  9.7379e-02,\n",
              "         -2.5116e-01, -7.2727e-02, -6.0417e-01, -3.3742e-01, -9.9720e-01,\n",
              "          8.6307e-01, -9.9981e-01, -8.8602e-01,  9.9712e-01, -9.9632e-01,\n",
              "         -9.1453e-01, -7.6265e-01, -8.7942e-01, -5.2777e-01,  1.0187e-01,\n",
              "          8.6628e-01, -5.5810e-01, -7.6796e-01, -9.9749e-01,  9.5135e-01,\n",
              "         -7.8158e-01,  1.9349e-01, -8.7656e-01, -8.6784e-01,  9.9857e-01,\n",
              "          9.0132e-01,  1.0297e-01, -1.7389e-01, -9.9703e-01,  9.8191e-01,\n",
              "         -8.2070e-01, -8.9399e-01, -8.3707e-01, -2.2065e-02, -3.9223e-01,\n",
              "         -9.9883e-01,  3.1523e-02,  9.9693e-01,  8.1203e-01,  9.5197e-01,\n",
              "          1.0209e-01, -2.2325e-01, -8.3589e-01,  1.8971e-01, -9.9980e-01,\n",
              "          7.7250e-01,  8.7684e-01, -8.6329e-01, -6.2393e-01,  9.8046e-01,\n",
              "          8.0163e-01, -9.1323e-01, -9.8622e-01,  9.4499e-01,  3.9214e-01,\n",
              "          7.1335e-01, -6.0534e-01, -4.1703e-01,  3.6311e-01, -3.6054e-02,\n",
              "         -9.6733e-01, -6.5509e-01,  9.8941e-01, -9.9883e-01,  9.1965e-01,\n",
              "          9.9470e-01,  9.9835e-01, -2.7217e-01,  3.5714e-01, -9.8183e-01,\n",
              "         -7.3069e-01, -2.3686e-01,  2.8877e-01, -9.9973e-01,  9.9936e-01,\n",
              "         -9.9980e-01,  7.0083e-01, -6.8593e-01,  6.9888e-01,  9.8337e-01,\n",
              "         -3.0083e-01, -9.9965e-01, -9.9940e-01,  7.3178e-01,  7.0974e-02,\n",
              "          9.5615e-01,  2.6224e-01,  6.8535e-02, -7.8356e-01, -2.9336e-01,\n",
              "          9.8399e-01, -7.5783e-01, -4.2944e-01, -9.9851e-01,  9.9885e-01,\n",
              "          4.6250e-01, -9.9067e-01,  9.9266e-01, -9.9760e-01,  8.9149e-01,\n",
              "          8.5303e-01,  6.3637e-01,  6.9369e-01, -9.9889e-01,  9.9985e-01,\n",
              "         -9.9940e-01,  8.2305e-01, -9.9988e-01, -9.9903e-01,  9.9931e-01,\n",
              "         -9.5967e-01, -7.4654e-01, -9.9903e-01, -9.9705e-01,  8.0581e-01,\n",
              "          1.3387e-01, -4.0749e-01,  9.5709e-01, -9.9913e-01, -9.9348e-01,\n",
              "         -4.8434e-01, -8.8434e-01, -7.1351e-01,  9.9202e-01, -4.2931e-01,\n",
              "          9.0131e-01, -2.5380e-01,  6.7407e-01,  1.8382e-01,  9.9532e-01,\n",
              "          7.8862e-01, -6.1045e-01, -8.8052e-01, -9.8013e-01,  9.3874e-01,\n",
              "         -6.9823e-01,  1.5810e-01,  7.2539e-01, -8.0744e-02, -7.3970e-01,\n",
              "          2.1285e-01, -9.9294e-01,  6.0450e-01,  1.9837e-01,  9.5435e-01,\n",
              "          9.2623e-01,  7.3446e-01, -1.5829e-01, -3.9911e-01, -1.6699e-01,\n",
              "         -9.4514e-01,  5.3317e-01, -9.9807e-01,  7.9529e-01, -8.1782e-01,\n",
              "         -2.2800e-02, -4.3114e-01, -2.8864e-01, -6.7582e-01,  9.9818e-01,\n",
              "          9.9429e-01, -8.3768e-01, -3.6043e-02,  9.4775e-01, -7.0868e-01,\n",
              "          7.8949e-01, -9.7776e-01, -2.4616e-02,  9.1519e-01, -2.4871e-01,\n",
              "          9.1743e-01, -1.0177e-01, -1.7112e-02,  8.8072e-01, -9.8735e-01,\n",
              "         -7.7672e-01, -5.5635e-01,  2.1299e-01, -5.1817e-01, -9.1619e-01,\n",
              "          2.6404e-02,  9.8789e-01, -5.0765e-01, -9.9927e-01,  9.5793e-01,\n",
              "         -9.9766e-01, -1.6029e-01,  9.4239e-01, -5.8731e-01,  9.9958e-01,\n",
              "         -8.7988e-01,  5.8187e-02, -2.5853e-02, -9.9920e-01, -9.9926e-01,\n",
              "          6.0247e-02, -7.4651e-02, -9.7408e-01,  9.9883e-01, -5.8897e-02,\n",
              "          8.7604e-01, -9.9933e-01,  2.1828e-01,  9.9540e-01,  1.9401e-01,\n",
              "          4.9669e-01, -8.6318e-01, -6.7310e-01, -9.4338e-01, -3.5492e-01,\n",
              "          1.2480e-01,  7.4864e-01, -8.9541e-01, -8.9164e-01, -7.9287e-01,\n",
              "          9.9974e-01, -9.9302e-01, -5.8616e-01, -8.1951e-01,  7.5901e-01,\n",
              "          9.1131e-01,  3.4101e-01,  1.5840e-01, -7.3799e-01,  9.3804e-01,\n",
              "         -8.8358e-01,  9.9191e-01, -9.8413e-01, -9.6994e-01,  9.9934e-01,\n",
              "          2.8866e-01, -9.8669e-01, -2.3692e-01, -2.4899e-01,  4.3608e-01,\n",
              "          1.4545e-01,  6.0847e-01, -1.2719e-01, -1.2161e-01, -8.4559e-01,\n",
              "          7.7135e-01, -6.7050e-01, -9.6252e-01,  2.8750e-01, -1.5456e-01,\n",
              "         -6.3553e-01,  9.8236e-01,  8.9337e-01,  9.9976e-01, -9.9917e-01,\n",
              "          7.7679e-02,  7.7487e-02,  9.9756e-01,  4.1714e-02, -5.8849e-01,\n",
              "          7.7294e-01,  9.9846e-01, -8.0432e-01,  5.8799e-01, -7.9005e-02,\n",
              "         -1.2900e-03,  2.6761e-01, -3.0022e-01,  9.9773e-01, -9.1677e-01,\n",
              "         -4.1637e-02, -9.1545e-01, -9.9959e-01,  9.9956e-01, -1.2335e-01,\n",
              "          9.6817e-01,  3.1384e-01,  7.8995e-01,  6.9748e-02,  9.6560e-01,\n",
              "         -9.6982e-01, -7.0725e-01, -9.9980e-01,  6.7028e-02, -7.6820e-01,\n",
              "         -9.5286e-01,  7.5772e-02,  8.9075e-01, -9.9857e-01, -9.3012e-01,\n",
              "         -4.0138e-01, -9.9992e-01,  7.9088e-01, -9.8835e-01, -8.6094e-01,\n",
              "         -8.5343e-01,  9.9840e-01,  1.0849e-01, -7.1413e-01,  8.0914e-01,\n",
              "         -6.9948e-01,  8.9800e-01,  8.9527e-01, -4.3697e-01,  4.1742e-01,\n",
              "         -1.1605e-01, -6.9357e-01, -9.9015e-01, -9.3240e-01, -7.9463e-01,\n",
              "          8.0282e-01, -9.4678e-01,  1.1889e-01,  9.8838e-01,  9.2091e-01,\n",
              "         -9.9615e-01, -9.8770e-01,  9.9339e-01,  6.0685e-02,  9.3697e-01,\n",
              "         -1.6057e-01, -9.9938e-01, -9.9962e-01,  1.6786e-01,  2.6170e-01,\n",
              "          9.7812e-01, -2.4267e-01,  6.6394e-01,  1.5277e-01,  7.6269e-02,\n",
              "          3.2090e-01, -6.7380e-01, -4.6392e-01, -4.6153e-01, -1.0765e-01,\n",
              "          9.9985e-01, -5.5829e-01,  9.5898e-01]], grad_fn=<TanhBackward0>), hidden_states=None, past_key_values=None, attentions=None, cross_attentions=None)"
            ]
          },
          "metadata": {},
          "execution_count": 26
        }
      ],
      "source": [
        "bert_inputs = bert_tokenizer(text, return_tensors=\"pt\", truncation=True)\n",
        "bert_outputs = bert_model(**bert_inputs)\n",
        "bert_outputs"
      ]
    },
    {
      "cell_type": "markdown",
      "metadata": {
        "id": "4rAxaG9KmxRf"
      },
      "source": [
        "BERT has two outputs, do you remember what they are?"
      ]
    },
    {
      "cell_type": "code",
      "execution_count": 27,
      "metadata": {
        "colab": {
          "base_uri": "https://localhost:8080/"
        },
        "id": "9vuPMy9UJXz8",
        "outputId": "34320b97-4dce-45e6-e46c-f268bacd02dc"
      },
      "outputs": [
        {
          "output_type": "stream",
          "name": "stdout",
          "text": [
            "Shape of first BERT output:  torch.Size([1, 512, 768])\n",
            "Shape of second BERT output:  torch.Size([1, 768])\n"
          ]
        }
      ],
      "source": [
        "print('Shape of first BERT output: ', bert_outputs[0].shape)\n",
        "print('Shape of second BERT output: ', bert_outputs[1].shape)"
      ]
    },
    {
      "cell_type": "markdown",
      "metadata": {
        "id": "7QUsJwWZm7P4"
      },
      "source": [
        "With ModernBERT, thanks to the long context capabilities, we do not need to truncate our long text before feeding it to the model."
      ]
    },
    {
      "cell_type": "code",
      "execution_count": 28,
      "metadata": {
        "colab": {
          "base_uri": "https://localhost:8080/"
        },
        "id": "uFIpBPQvnD_F",
        "outputId": "9c5cb79e-aacd-4acd-df51-f4b9e7cdf495"
      },
      "outputs": [
        {
          "output_type": "execute_result",
          "data": {
            "text/plain": [
              "BaseModelOutput(last_hidden_state=tensor([[[ 0.1680, -0.3384, -0.7694,  ..., -0.4745, -0.1105, -0.7589],\n",
              "         [-0.8740, -0.3295,  0.6591,  ..., -1.9694, -2.3188,  0.4383],\n",
              "         [ 0.3498, -1.4112,  0.0969,  ...,  0.4195,  0.0887, -0.6138],\n",
              "         ...,\n",
              "         [ 1.8556, -0.1904, -1.1067,  ..., -1.8617,  0.1445, -0.0550],\n",
              "         [ 0.2851, -0.9601, -0.9530,  ..., -1.6096,  0.1400,  0.2290],\n",
              "         [ 0.1789, -0.0395,  0.0412,  ...,  0.0570,  0.1783,  0.1189]]],\n",
              "       grad_fn=<NativeLayerNormBackward0>), hidden_states=None, attentions=None)"
            ]
          },
          "metadata": {},
          "execution_count": 28
        }
      ],
      "source": [
        "# this cell takes a minute to run because our text is so long\n",
        "mbert_inputs = mbert_tokenizer(text, return_tensors=\"pt\")\n",
        "mbert_outputs = mbert_model(**mbert_inputs)\n",
        "mbert_outputs"
      ]
    },
    {
      "cell_type": "markdown",
      "metadata": {
        "id": "lrrln-jsnMwL"
      },
      "source": [
        "Interesting! ModernBERT only has one output!"
      ]
    },
    {
      "cell_type": "code",
      "execution_count": 29,
      "metadata": {
        "colab": {
          "base_uri": "https://localhost:8080/"
        },
        "id": "DLIupZHsnDsP",
        "outputId": "0fbe1206-4222-4443-ac37-67d2b757880e"
      },
      "outputs": [
        {
          "output_type": "stream",
          "name": "stdout",
          "text": [
            "Shape of ModernBERT output:  torch.Size([1, 2671, 768])\n"
          ]
        }
      ],
      "source": [
        "print('Shape of ModernBERT output: ', mbert_outputs[0].shape)"
      ]
    },
    {
      "cell_type": "markdown",
      "metadata": {
        "id": "S6MM_BQwnh7r"
      },
      "source": [
        "Compare the first output from BERT and the only output from ModernBERT, what is the difference? What does the 2nd dimension represent?"
      ]
    },
    {
      "cell_type": "code",
      "execution_count": 30,
      "metadata": {
        "colab": {
          "base_uri": "https://localhost:8080/"
        },
        "id": "0KkmWeaKmG62",
        "outputId": "468f0824-65d8-4a23-9aa3-cfc4355be8bc"
      },
      "outputs": [
        {
          "output_type": "stream",
          "name": "stdout",
          "text": [
            "Last hidden state shape\n",
            "torch.Size([1, 512, 768])\n",
            "Last hidden state\n",
            "tensor([[[ 0.5935,  0.0940, -0.1687,  ..., -0.3806,  0.0434,  0.3832],\n",
            "         [ 0.4253, -0.4766,  0.7440,  ..., -0.3942,  0.3230,  0.2140],\n",
            "         [ 0.4182, -0.5374,  0.5692,  ..., -0.2323, -0.0629,  1.2690],\n",
            "         ...,\n",
            "         [ 0.5098, -0.5685,  0.2344,  ..., -0.5356,  0.0076,  0.3847],\n",
            "         [ 0.4078, -0.4184,  0.0023,  ..., -0.1491, -0.1271,  0.2958],\n",
            "         [ 1.3882,  0.1162,  1.2960,  ...,  0.3271,  0.2593, -0.2280]]],\n",
            "       grad_fn=<NativeLayerNormBackward0>)\n"
          ]
        }
      ],
      "source": [
        "bert_lhs_shape = bert_outputs.last_hidden_state.shape\n",
        "bert_lhs_data = bert_outputs.last_hidden_state\n",
        "\n",
        "print(\"Last hidden state shape\")\n",
        "print(bert_lhs_shape)\n",
        "\n",
        "print(\"Last hidden state\")\n",
        "print(bert_lhs_data)"
      ]
    },
    {
      "cell_type": "code",
      "execution_count": 31,
      "metadata": {
        "colab": {
          "base_uri": "https://localhost:8080/"
        },
        "id": "x_YUd8ApB0gL",
        "outputId": "ab6bde1e-58e8-41ed-fadf-cf936476ebd9"
      },
      "outputs": [
        {
          "output_type": "stream",
          "name": "stdout",
          "text": [
            "Last hidden state shape\n",
            "torch.Size([1, 2671, 768])\n",
            "Last hidden state\n",
            "tensor([[[ 0.1680, -0.3384, -0.7694,  ..., -0.4745, -0.1105, -0.7589],\n",
            "         [-0.8740, -0.3295,  0.6591,  ..., -1.9694, -2.3188,  0.4383],\n",
            "         [ 0.3498, -1.4112,  0.0969,  ...,  0.4195,  0.0887, -0.6138],\n",
            "         ...,\n",
            "         [ 1.8556, -0.1904, -1.1067,  ..., -1.8617,  0.1445, -0.0550],\n",
            "         [ 0.2851, -0.9601, -0.9530,  ..., -1.6096,  0.1400,  0.2290],\n",
            "         [ 0.1789, -0.0395,  0.0412,  ...,  0.0570,  0.1783,  0.1189]]],\n",
            "       grad_fn=<NativeLayerNormBackward0>)\n"
          ]
        }
      ],
      "source": [
        "mbert_lhs_shape = mbert_outputs.last_hidden_state.shape\n",
        "mbert_lhs_data = mbert_outputs.last_hidden_state\n",
        "\n",
        "print(\"Last hidden state shape\")\n",
        "print(mbert_lhs_shape)\n",
        "\n",
        "print(\"Last hidden state\")\n",
        "print(mbert_lhs_data)"
      ]
    },
    {
      "cell_type": "markdown",
      "metadata": {
        "id": "2oUEihv3IJFw"
      },
      "source": [
        "As expected, the output tensors from the two models are different.\n",
        "\n",
        "What advantage does long context capability have over short context model? Why might one prefer one model over another for their task?"
      ]
    },
    {
      "cell_type": "markdown",
      "metadata": {
        "id": "8ljUlpnCqi3q"
      },
      "source": [
        "# Inference Speed\n",
        "\n",
        "To make an apple-to-apple comparison of inference speed between the two models, let's truncate the long text to 512 tokens for both models."
      ]
    },
    {
      "cell_type": "code",
      "execution_count": 32,
      "metadata": {
        "colab": {
          "base_uri": "https://localhost:8080/"
        },
        "id": "52I15Kx2rZ79",
        "outputId": "0714f23f-4073-4333-c95d-6b9c62671c30"
      },
      "outputs": [
        {
          "output_type": "execute_result",
          "data": {
            "text/plain": [
              "5"
            ]
          },
          "metadata": {},
          "execution_count": 32
        }
      ],
      "source": [
        "texts = dataset[\"positive\"]\n",
        "len(texts)"
      ]
    },
    {
      "cell_type": "code",
      "source": [
        "dataset['positive'][4]"
      ],
      "metadata": {
        "colab": {
          "base_uri": "https://localhost:8080/",
          "height": 143
        },
        "id": "V8n6zWJltFBT",
        "outputId": "e24eaa18-a07b-480a-c4f1-b2d67545de98"
      },
      "execution_count": 33,
      "outputs": [
        {
          "output_type": "execute_result",
          "data": {
            "text/plain": [
              "'Bridgewater is a town in Aroostook County, Maine, United States. The population was 532 at the 2020 census.\\n\\nGeography\\nAccording to the United States Census Bureau, the town has a total area of , of which  is land and  is water.\\n\\nClimate\\nThis climatic region is typified by large seasonal temperature differences, with warm to hot (and often humid) summers and cold (sometimes severely cold) winters. According to the Köppen Climate Classification system, Bridgewater has a humid continental climate, abbreviated \"Dfb\" on climate maps.\\n\\nDemographics\\n\\n2010 census\\nAs of the census of 2010, there were 610 people, 263 households, and 175 families living in the town. The population density was . There were 326 housing units at an average density of . The racial makeup of the town was 96.7% White, 0.7% Native American, 0.2% Asian, 1.0% from other races, and 1.5% from two or more races. Hispanic or Latino of any race were 1.1% of the population.\\n\\nThere were 263 households, of which 25.9% had children under the age of 18 living with them, 55.5% were married couples living together, 8.4% had a female householder with no husband present, 2.7% had a male householder with no wife present, and 33.5% were non-families. 29.7% of all households were made up of individuals, and 14.4% had someone living alone who was 65 years of age or older. The average household size was 2.32 and the average family size was 2.90.\\n\\nThe median age in the town was 46.7 years. 22.5% of residents were under the age of 18; 4.4% were between the ages of 18 and 24; 20.7% were from 25 to 44; 32.7% were from 45 to 64; and 19.8% were 65 years of age or older. The gender makeup of the town was 50.0% male and 50.0% female.\\n\\n2000 census\\nAs of the census of 2000, there were 612 people, 248 households, and 173 families living in the town. The population density was 15.8 people per square mile (6.1/km2). There were 316 housing units at an average density of 8.1 per square mile (3.1/km2). The racial makeup of the town was 98.04% White, 0.49% Native American, 0.65% from other races, and 0.82% from two or more races. Hispanic or Latino of any race were 0.65% of the population.\\n\\nThere were 248 households, out of which 27.0% had children under the age of 18 living with them, 59.3% were married couples living together, 6.0% had a female householder with no husband present, and 30.2% were non-families. 25.4% of all households were made up of individuals, and 12.9% had someone living alone who was 65 years of age or older. The average household size was 2.47 and the average family size was 2.97.\\n\\nIn the town, the population was spread out, with 22.2% under the age of 18, 5.6% from 18 to 24, 25.0% from 25 to 44, 26.6% from 45 to 64, and 20.6% who were 65 years of age or older. The median age was 43 years. For every 100 females, there were 101.3 males. For every 100 females age 18 and over, there were 94.3 males.\\n\\nThe median income for a household in the town was $27,679, and the median income for a family was $33,125. Males had a median income of $24,167 versus $21,190 for females. The per capita income for the town was $15,534. About 12.7% of families and 17.6% of the population were below the poverty line, including 23.7% of those under age 18 and 16.5% of those age 65 or over.\\n\\nHistory and settlement \\nIn 1820 the State of Maine was officially separated from Massachusetts, and at that time the name Bridgewater was applied to the Township. The area north of Bangor had been previously divided into 6 mile square townships, and in 1803 the future Bridgewater Township was subdivided into two 3 mile x 6 mile areas, each designated a \"grant\" area to fund public academies in Portland and Bridgewater, respectively. The town of Bridgewater was incorporated on 2 March 1858.\\n\\nNotable people\\n\\n Jim Gerritsen, organic potato farmer and anti-GMO activist\\n Colonel Frank M. Hume, commanding officer of the 103rd Infantry, 26th Division during World War I \\n Colonel Gerald Evan Williams, World War II Air Force officer\\n\\nSites of interest\\n Bridgewater Town Hall and Jail\\n\\nReferences\\n\\nExternal links\\n \\n\\nTowns in Aroostook County, Maine\\nTowns in Maine'"
            ],
            "application/vnd.google.colaboratory.intrinsic+json": {
              "type": "string"
            }
          },
          "metadata": {},
          "execution_count": 33
        }
      ]
    },
    {
      "cell_type": "code",
      "execution_count": 34,
      "metadata": {
        "id": "JokDBnYcr6YB"
      },
      "outputs": [],
      "source": [
        "bert_inputs = bert_tokenizer(dataset['positive'][0],\n",
        "                             max_length=512,\n",
        "                             padding=True,\n",
        "                             truncation=True,\n",
        "                             return_tensors='pt')\n",
        "\n",
        "mbert_inputs = mbert_tokenizer(dataset['positive'][0],\n",
        "                               max_length=512,\n",
        "                               padding=True,\n",
        "                               truncation=True,\n",
        "                               return_tensors='pt')"
      ]
    },
    {
      "cell_type": "code",
      "execution_count": 35,
      "metadata": {
        "colab": {
          "base_uri": "https://localhost:8080/"
        },
        "id": "nQ3esYqMoHgS",
        "outputId": "437c8814-3c92-4ddb-8bda-68a7ac7acd4c"
      },
      "outputs": [
        {
          "output_type": "stream",
          "name": "stdout",
          "text": [
            "CPU times: user 2.14 s, sys: 5.84 ms, total: 2.15 s\n",
            "Wall time: 2.18 s\n"
          ]
        }
      ],
      "source": [
        "%%time\n",
        "\n",
        "bert_outputs = bert_model(**bert_inputs)"
      ]
    },
    {
      "cell_type": "code",
      "execution_count": 36,
      "metadata": {
        "colab": {
          "base_uri": "https://localhost:8080/"
        },
        "id": "wj3hhROgoH0j",
        "outputId": "c5c01af6-de2a-42bc-f77a-21284e687841"
      },
      "outputs": [
        {
          "output_type": "stream",
          "name": "stdout",
          "text": [
            "CPU times: user 3.16 s, sys: 3.48 ms, total: 3.16 s\n",
            "Wall time: 3.23 s\n"
          ]
        }
      ],
      "source": [
        "%%time\n",
        "\n",
        "mbert_outputs = mbert_model(**mbert_inputs)"
      ]
    },
    {
      "cell_type": "markdown",
      "metadata": {
        "id": "68y_at_gtIAr"
      },
      "source": [
        "Even with the enhanced capabilities of ModernBERT, the inference time is comparable between the two models on CPU."
      ]
    },
    {
      "cell_type": "markdown",
      "metadata": {
        "id": "epRzaNjMstgH"
      },
      "source": [
        "We can also run inference on a GPU and compare the speed on a GPU.\n",
        "\n",
        "Select a GPU runtime and run the cells below."
      ]
    },
    {
      "cell_type": "code",
      "execution_count": 37,
      "metadata": {
        "id": "wntSrbSKs57A"
      },
      "outputs": [],
      "source": [
        "!pip install transformers datasets -q -U\n",
        "\n",
        "import numpy as np\n",
        "import pandas as pd\n",
        "import torch\n",
        "\n",
        "from datasets import load_dataset\n",
        "\n",
        "from transformers import BertTokenizer, BertModel, BertForSequenceClassification\n",
        "from transformers import AutoTokenizer, AutoModel"
      ]
    },
    {
      "cell_type": "code",
      "execution_count": 38,
      "metadata": {
        "id": "1uEXD_3UtCZo"
      },
      "outputs": [],
      "source": [
        "bert_checkpoint = \"bert-base-cased\"\n",
        "bert_tokenizer = BertTokenizer.from_pretrained(bert_checkpoint)\n",
        "bert_model = BertModel.from_pretrained(bert_checkpoint)"
      ]
    },
    {
      "cell_type": "code",
      "execution_count": 39,
      "metadata": {
        "id": "yQRNuWKutGaf"
      },
      "outputs": [],
      "source": [
        "mbert_checkpoint = \"answerdotai/ModernBERT-base\"\n",
        "mbert_tokenizer = AutoTokenizer.from_pretrained(mbert_checkpoint)\n",
        "mbert_model = AutoModel.from_pretrained(mbert_checkpoint)"
      ]
    },
    {
      "cell_type": "code",
      "execution_count": 40,
      "metadata": {
        "id": "HwauOPc7tUbQ"
      },
      "outputs": [],
      "source": [
        "dataset = load_dataset(\"sentence-transformers/mldr\", \"en-triplet\", split=\"train\").take(5)\n",
        "texts = dataset[\"positive\"][0-4]"
      ]
    },
    {
      "cell_type": "markdown",
      "metadata": {
        "id": "aPDnsVPZtw2i"
      },
      "source": [
        "Again, we truncate the long context texts to the same length to compare the two models."
      ]
    },
    {
      "cell_type": "code",
      "execution_count": 41,
      "metadata": {
        "id": "lHrcNv93taL9"
      },
      "outputs": [],
      "source": [
        "bert_inputs = bert_tokenizer(texts,\n",
        "                             max_length=512,\n",
        "                             padding=True,\n",
        "                             truncation=True,\n",
        "                             return_tensors='pt')\n",
        "\n",
        "mbert_inputs = mbert_tokenizer(texts,\n",
        "                               max_length=512,\n",
        "                               padding=True,\n",
        "                               truncation=True,\n",
        "                               return_tensors='pt')"
      ]
    },
    {
      "cell_type": "code",
      "execution_count": 42,
      "metadata": {
        "colab": {
          "base_uri": "https://localhost:8080/"
        },
        "id": "pkD5ELGJtaWg",
        "outputId": "91246ac1-4869-4538-ba22-fc73b38fde58"
      },
      "outputs": [
        {
          "output_type": "stream",
          "name": "stdout",
          "text": [
            "CPU times: user 2.74 s, sys: 149 ms, total: 2.89 s\n",
            "Wall time: 6.33 s\n"
          ]
        }
      ],
      "source": [
        "%%time\n",
        "\n",
        "bert_outputs = bert_model(**bert_inputs)"
      ]
    },
    {
      "cell_type": "code",
      "execution_count": 43,
      "metadata": {
        "colab": {
          "base_uri": "https://localhost:8080/"
        },
        "id": "rCkiUcP5tdmw",
        "outputId": "db2bc013-ea00-423f-957e-3df7a51e9d41"
      },
      "outputs": [
        {
          "output_type": "stream",
          "name": "stdout",
          "text": [
            "CPU times: user 3.75 s, sys: 290 ms, total: 4.04 s\n",
            "Wall time: 5.94 s\n"
          ]
        }
      ],
      "source": [
        "%%time\n",
        "\n",
        "mbert_outputs = mbert_model(**mbert_inputs)"
      ]
    },
    {
      "cell_type": "markdown",
      "metadata": {
        "id": "T3AcR7TFuBOM"
      },
      "source": [
        "GPU certainly makes things much faster and the inference speed between the two models are comparable to each other!"
      ]
    },
    {
      "cell_type": "markdown",
      "metadata": {
        "id": "nvkhSOd6uQwq"
      },
      "source": [
        "Next, take a look at the [ModernBERT documentation](https://huggingface.co/docs/transformers/main/en/model_doc/modernbert) to see if you can finetune a ModernBERT model for a downstream task!"
      ]
    }
  ],
  "metadata": {
    "colab": {
      "provenance": []
    },
    "kernelspec": {
      "display_name": "Python 3",
      "name": "python3"
    },
    "language_info": {
      "codemirror_mode": {
        "name": "ipython",
        "version": 3
      },
      "file_extension": ".py",
      "mimetype": "text/x-python",
      "name": "python",
      "nbconvert_exporter": "python",
      "pygments_lexer": "ipython3",
      "version": "3.11.5"
    },
    "widgets": {
      "application/vnd.jupyter.widget-state+json": {
        "f9d48a091b9540bb990fa8000bec64a9": {
          "model_module": "@jupyter-widgets/controls",
          "model_name": "HBoxModel",
          "model_module_version": "1.5.0",
          "state": {
            "_dom_classes": [],
            "_model_module": "@jupyter-widgets/controls",
            "_model_module_version": "1.5.0",
            "_model_name": "HBoxModel",
            "_view_count": null,
            "_view_module": "@jupyter-widgets/controls",
            "_view_module_version": "1.5.0",
            "_view_name": "HBoxView",
            "box_style": "",
            "children": [
              "IPY_MODEL_b1e753e26bb1481cbcbae1140df47c7c",
              "IPY_MODEL_5221618aedee4a05951e8da94fa92ba8",
              "IPY_MODEL_241cff1d7991499097ac84107ae20b84"
            ],
            "layout": "IPY_MODEL_1f8922d2403f4ddaab9895e30521fe79"
          }
        },
        "b1e753e26bb1481cbcbae1140df47c7c": {
          "model_module": "@jupyter-widgets/controls",
          "model_name": "HTMLModel",
          "model_module_version": "1.5.0",
          "state": {
            "_dom_classes": [],
            "_model_module": "@jupyter-widgets/controls",
            "_model_module_version": "1.5.0",
            "_model_name": "HTMLModel",
            "_view_count": null,
            "_view_module": "@jupyter-widgets/controls",
            "_view_module_version": "1.5.0",
            "_view_name": "HTMLView",
            "description": "",
            "description_tooltip": null,
            "layout": "IPY_MODEL_9325fd6ff6904af69006622ddccee6a4",
            "placeholder": "​",
            "style": "IPY_MODEL_8b6612e9e696479d8d2b2101ec14768c",
            "value": "tokenizer_config.json: 100%"
          }
        },
        "5221618aedee4a05951e8da94fa92ba8": {
          "model_module": "@jupyter-widgets/controls",
          "model_name": "FloatProgressModel",
          "model_module_version": "1.5.0",
          "state": {
            "_dom_classes": [],
            "_model_module": "@jupyter-widgets/controls",
            "_model_module_version": "1.5.0",
            "_model_name": "FloatProgressModel",
            "_view_count": null,
            "_view_module": "@jupyter-widgets/controls",
            "_view_module_version": "1.5.0",
            "_view_name": "ProgressView",
            "bar_style": "success",
            "description": "",
            "description_tooltip": null,
            "layout": "IPY_MODEL_cabba92770ed4a28955fa2167face9d1",
            "max": 49,
            "min": 0,
            "orientation": "horizontal",
            "style": "IPY_MODEL_e39ae63d44e24b30a5b22903c6553696",
            "value": 49
          }
        },
        "241cff1d7991499097ac84107ae20b84": {
          "model_module": "@jupyter-widgets/controls",
          "model_name": "HTMLModel",
          "model_module_version": "1.5.0",
          "state": {
            "_dom_classes": [],
            "_model_module": "@jupyter-widgets/controls",
            "_model_module_version": "1.5.0",
            "_model_name": "HTMLModel",
            "_view_count": null,
            "_view_module": "@jupyter-widgets/controls",
            "_view_module_version": "1.5.0",
            "_view_name": "HTMLView",
            "description": "",
            "description_tooltip": null,
            "layout": "IPY_MODEL_e4b30da38b4946f7a88dbfbe133d1428",
            "placeholder": "​",
            "style": "IPY_MODEL_2652b41e171e45ee8041343629ac15cb",
            "value": " 49.0/49.0 [00:00&lt;00:00, 1.24kB/s]"
          }
        },
        "1f8922d2403f4ddaab9895e30521fe79": {
          "model_module": "@jupyter-widgets/base",
          "model_name": "LayoutModel",
          "model_module_version": "1.2.0",
          "state": {
            "_model_module": "@jupyter-widgets/base",
            "_model_module_version": "1.2.0",
            "_model_name": "LayoutModel",
            "_view_count": null,
            "_view_module": "@jupyter-widgets/base",
            "_view_module_version": "1.2.0",
            "_view_name": "LayoutView",
            "align_content": null,
            "align_items": null,
            "align_self": null,
            "border": null,
            "bottom": null,
            "display": null,
            "flex": null,
            "flex_flow": null,
            "grid_area": null,
            "grid_auto_columns": null,
            "grid_auto_flow": null,
            "grid_auto_rows": null,
            "grid_column": null,
            "grid_gap": null,
            "grid_row": null,
            "grid_template_areas": null,
            "grid_template_columns": null,
            "grid_template_rows": null,
            "height": null,
            "justify_content": null,
            "justify_items": null,
            "left": null,
            "margin": null,
            "max_height": null,
            "max_width": null,
            "min_height": null,
            "min_width": null,
            "object_fit": null,
            "object_position": null,
            "order": null,
            "overflow": null,
            "overflow_x": null,
            "overflow_y": null,
            "padding": null,
            "right": null,
            "top": null,
            "visibility": null,
            "width": null
          }
        },
        "9325fd6ff6904af69006622ddccee6a4": {
          "model_module": "@jupyter-widgets/base",
          "model_name": "LayoutModel",
          "model_module_version": "1.2.0",
          "state": {
            "_model_module": "@jupyter-widgets/base",
            "_model_module_version": "1.2.0",
            "_model_name": "LayoutModel",
            "_view_count": null,
            "_view_module": "@jupyter-widgets/base",
            "_view_module_version": "1.2.0",
            "_view_name": "LayoutView",
            "align_content": null,
            "align_items": null,
            "align_self": null,
            "border": null,
            "bottom": null,
            "display": null,
            "flex": null,
            "flex_flow": null,
            "grid_area": null,
            "grid_auto_columns": null,
            "grid_auto_flow": null,
            "grid_auto_rows": null,
            "grid_column": null,
            "grid_gap": null,
            "grid_row": null,
            "grid_template_areas": null,
            "grid_template_columns": null,
            "grid_template_rows": null,
            "height": null,
            "justify_content": null,
            "justify_items": null,
            "left": null,
            "margin": null,
            "max_height": null,
            "max_width": null,
            "min_height": null,
            "min_width": null,
            "object_fit": null,
            "object_position": null,
            "order": null,
            "overflow": null,
            "overflow_x": null,
            "overflow_y": null,
            "padding": null,
            "right": null,
            "top": null,
            "visibility": null,
            "width": null
          }
        },
        "8b6612e9e696479d8d2b2101ec14768c": {
          "model_module": "@jupyter-widgets/controls",
          "model_name": "DescriptionStyleModel",
          "model_module_version": "1.5.0",
          "state": {
            "_model_module": "@jupyter-widgets/controls",
            "_model_module_version": "1.5.0",
            "_model_name": "DescriptionStyleModel",
            "_view_count": null,
            "_view_module": "@jupyter-widgets/base",
            "_view_module_version": "1.2.0",
            "_view_name": "StyleView",
            "description_width": ""
          }
        },
        "cabba92770ed4a28955fa2167face9d1": {
          "model_module": "@jupyter-widgets/base",
          "model_name": "LayoutModel",
          "model_module_version": "1.2.0",
          "state": {
            "_model_module": "@jupyter-widgets/base",
            "_model_module_version": "1.2.0",
            "_model_name": "LayoutModel",
            "_view_count": null,
            "_view_module": "@jupyter-widgets/base",
            "_view_module_version": "1.2.0",
            "_view_name": "LayoutView",
            "align_content": null,
            "align_items": null,
            "align_self": null,
            "border": null,
            "bottom": null,
            "display": null,
            "flex": null,
            "flex_flow": null,
            "grid_area": null,
            "grid_auto_columns": null,
            "grid_auto_flow": null,
            "grid_auto_rows": null,
            "grid_column": null,
            "grid_gap": null,
            "grid_row": null,
            "grid_template_areas": null,
            "grid_template_columns": null,
            "grid_template_rows": null,
            "height": null,
            "justify_content": null,
            "justify_items": null,
            "left": null,
            "margin": null,
            "max_height": null,
            "max_width": null,
            "min_height": null,
            "min_width": null,
            "object_fit": null,
            "object_position": null,
            "order": null,
            "overflow": null,
            "overflow_x": null,
            "overflow_y": null,
            "padding": null,
            "right": null,
            "top": null,
            "visibility": null,
            "width": null
          }
        },
        "e39ae63d44e24b30a5b22903c6553696": {
          "model_module": "@jupyter-widgets/controls",
          "model_name": "ProgressStyleModel",
          "model_module_version": "1.5.0",
          "state": {
            "_model_module": "@jupyter-widgets/controls",
            "_model_module_version": "1.5.0",
            "_model_name": "ProgressStyleModel",
            "_view_count": null,
            "_view_module": "@jupyter-widgets/base",
            "_view_module_version": "1.2.0",
            "_view_name": "StyleView",
            "bar_color": null,
            "description_width": ""
          }
        },
        "e4b30da38b4946f7a88dbfbe133d1428": {
          "model_module": "@jupyter-widgets/base",
          "model_name": "LayoutModel",
          "model_module_version": "1.2.0",
          "state": {
            "_model_module": "@jupyter-widgets/base",
            "_model_module_version": "1.2.0",
            "_model_name": "LayoutModel",
            "_view_count": null,
            "_view_module": "@jupyter-widgets/base",
            "_view_module_version": "1.2.0",
            "_view_name": "LayoutView",
            "align_content": null,
            "align_items": null,
            "align_self": null,
            "border": null,
            "bottom": null,
            "display": null,
            "flex": null,
            "flex_flow": null,
            "grid_area": null,
            "grid_auto_columns": null,
            "grid_auto_flow": null,
            "grid_auto_rows": null,
            "grid_column": null,
            "grid_gap": null,
            "grid_row": null,
            "grid_template_areas": null,
            "grid_template_columns": null,
            "grid_template_rows": null,
            "height": null,
            "justify_content": null,
            "justify_items": null,
            "left": null,
            "margin": null,
            "max_height": null,
            "max_width": null,
            "min_height": null,
            "min_width": null,
            "object_fit": null,
            "object_position": null,
            "order": null,
            "overflow": null,
            "overflow_x": null,
            "overflow_y": null,
            "padding": null,
            "right": null,
            "top": null,
            "visibility": null,
            "width": null
          }
        },
        "2652b41e171e45ee8041343629ac15cb": {
          "model_module": "@jupyter-widgets/controls",
          "model_name": "DescriptionStyleModel",
          "model_module_version": "1.5.0",
          "state": {
            "_model_module": "@jupyter-widgets/controls",
            "_model_module_version": "1.5.0",
            "_model_name": "DescriptionStyleModel",
            "_view_count": null,
            "_view_module": "@jupyter-widgets/base",
            "_view_module_version": "1.2.0",
            "_view_name": "StyleView",
            "description_width": ""
          }
        },
        "40e6043ab1ef4a26bba55424dcf4fd80": {
          "model_module": "@jupyter-widgets/controls",
          "model_name": "HBoxModel",
          "model_module_version": "1.5.0",
          "state": {
            "_dom_classes": [],
            "_model_module": "@jupyter-widgets/controls",
            "_model_module_version": "1.5.0",
            "_model_name": "HBoxModel",
            "_view_count": null,
            "_view_module": "@jupyter-widgets/controls",
            "_view_module_version": "1.5.0",
            "_view_name": "HBoxView",
            "box_style": "",
            "children": [
              "IPY_MODEL_dc659f9ca28e4b158d81c6f41aa22c68",
              "IPY_MODEL_f61c083f127a4e248e3b32218a37973c",
              "IPY_MODEL_5fbf63a80fdb4af6a8eadcd80912495a"
            ],
            "layout": "IPY_MODEL_c6c7ba94b7bc4eb393c3613c8a570739"
          }
        },
        "dc659f9ca28e4b158d81c6f41aa22c68": {
          "model_module": "@jupyter-widgets/controls",
          "model_name": "HTMLModel",
          "model_module_version": "1.5.0",
          "state": {
            "_dom_classes": [],
            "_model_module": "@jupyter-widgets/controls",
            "_model_module_version": "1.5.0",
            "_model_name": "HTMLModel",
            "_view_count": null,
            "_view_module": "@jupyter-widgets/controls",
            "_view_module_version": "1.5.0",
            "_view_name": "HTMLView",
            "description": "",
            "description_tooltip": null,
            "layout": "IPY_MODEL_9926af7076b447edad42edbb04d1a2d2",
            "placeholder": "​",
            "style": "IPY_MODEL_124a675760ac4aa788ee29d64df3075e",
            "value": "vocab.txt: 100%"
          }
        },
        "f61c083f127a4e248e3b32218a37973c": {
          "model_module": "@jupyter-widgets/controls",
          "model_name": "FloatProgressModel",
          "model_module_version": "1.5.0",
          "state": {
            "_dom_classes": [],
            "_model_module": "@jupyter-widgets/controls",
            "_model_module_version": "1.5.0",
            "_model_name": "FloatProgressModel",
            "_view_count": null,
            "_view_module": "@jupyter-widgets/controls",
            "_view_module_version": "1.5.0",
            "_view_name": "ProgressView",
            "bar_style": "success",
            "description": "",
            "description_tooltip": null,
            "layout": "IPY_MODEL_1e0cbb5528154641b340ce20d327d4b5",
            "max": 213450,
            "min": 0,
            "orientation": "horizontal",
            "style": "IPY_MODEL_c067505b48aa4334aba6f0b5e68a838d",
            "value": 213450
          }
        },
        "5fbf63a80fdb4af6a8eadcd80912495a": {
          "model_module": "@jupyter-widgets/controls",
          "model_name": "HTMLModel",
          "model_module_version": "1.5.0",
          "state": {
            "_dom_classes": [],
            "_model_module": "@jupyter-widgets/controls",
            "_model_module_version": "1.5.0",
            "_model_name": "HTMLModel",
            "_view_count": null,
            "_view_module": "@jupyter-widgets/controls",
            "_view_module_version": "1.5.0",
            "_view_name": "HTMLView",
            "description": "",
            "description_tooltip": null,
            "layout": "IPY_MODEL_031ce0130fe6439f96bcb3c4002269c2",
            "placeholder": "​",
            "style": "IPY_MODEL_170c48d7cfaf4a16b2270a4768590544",
            "value": " 213k/213k [00:00&lt;00:00, 3.45MB/s]"
          }
        },
        "c6c7ba94b7bc4eb393c3613c8a570739": {
          "model_module": "@jupyter-widgets/base",
          "model_name": "LayoutModel",
          "model_module_version": "1.2.0",
          "state": {
            "_model_module": "@jupyter-widgets/base",
            "_model_module_version": "1.2.0",
            "_model_name": "LayoutModel",
            "_view_count": null,
            "_view_module": "@jupyter-widgets/base",
            "_view_module_version": "1.2.0",
            "_view_name": "LayoutView",
            "align_content": null,
            "align_items": null,
            "align_self": null,
            "border": null,
            "bottom": null,
            "display": null,
            "flex": null,
            "flex_flow": null,
            "grid_area": null,
            "grid_auto_columns": null,
            "grid_auto_flow": null,
            "grid_auto_rows": null,
            "grid_column": null,
            "grid_gap": null,
            "grid_row": null,
            "grid_template_areas": null,
            "grid_template_columns": null,
            "grid_template_rows": null,
            "height": null,
            "justify_content": null,
            "justify_items": null,
            "left": null,
            "margin": null,
            "max_height": null,
            "max_width": null,
            "min_height": null,
            "min_width": null,
            "object_fit": null,
            "object_position": null,
            "order": null,
            "overflow": null,
            "overflow_x": null,
            "overflow_y": null,
            "padding": null,
            "right": null,
            "top": null,
            "visibility": null,
            "width": null
          }
        },
        "9926af7076b447edad42edbb04d1a2d2": {
          "model_module": "@jupyter-widgets/base",
          "model_name": "LayoutModel",
          "model_module_version": "1.2.0",
          "state": {
            "_model_module": "@jupyter-widgets/base",
            "_model_module_version": "1.2.0",
            "_model_name": "LayoutModel",
            "_view_count": null,
            "_view_module": "@jupyter-widgets/base",
            "_view_module_version": "1.2.0",
            "_view_name": "LayoutView",
            "align_content": null,
            "align_items": null,
            "align_self": null,
            "border": null,
            "bottom": null,
            "display": null,
            "flex": null,
            "flex_flow": null,
            "grid_area": null,
            "grid_auto_columns": null,
            "grid_auto_flow": null,
            "grid_auto_rows": null,
            "grid_column": null,
            "grid_gap": null,
            "grid_row": null,
            "grid_template_areas": null,
            "grid_template_columns": null,
            "grid_template_rows": null,
            "height": null,
            "justify_content": null,
            "justify_items": null,
            "left": null,
            "margin": null,
            "max_height": null,
            "max_width": null,
            "min_height": null,
            "min_width": null,
            "object_fit": null,
            "object_position": null,
            "order": null,
            "overflow": null,
            "overflow_x": null,
            "overflow_y": null,
            "padding": null,
            "right": null,
            "top": null,
            "visibility": null,
            "width": null
          }
        },
        "124a675760ac4aa788ee29d64df3075e": {
          "model_module": "@jupyter-widgets/controls",
          "model_name": "DescriptionStyleModel",
          "model_module_version": "1.5.0",
          "state": {
            "_model_module": "@jupyter-widgets/controls",
            "_model_module_version": "1.5.0",
            "_model_name": "DescriptionStyleModel",
            "_view_count": null,
            "_view_module": "@jupyter-widgets/base",
            "_view_module_version": "1.2.0",
            "_view_name": "StyleView",
            "description_width": ""
          }
        },
        "1e0cbb5528154641b340ce20d327d4b5": {
          "model_module": "@jupyter-widgets/base",
          "model_name": "LayoutModel",
          "model_module_version": "1.2.0",
          "state": {
            "_model_module": "@jupyter-widgets/base",
            "_model_module_version": "1.2.0",
            "_model_name": "LayoutModel",
            "_view_count": null,
            "_view_module": "@jupyter-widgets/base",
            "_view_module_version": "1.2.0",
            "_view_name": "LayoutView",
            "align_content": null,
            "align_items": null,
            "align_self": null,
            "border": null,
            "bottom": null,
            "display": null,
            "flex": null,
            "flex_flow": null,
            "grid_area": null,
            "grid_auto_columns": null,
            "grid_auto_flow": null,
            "grid_auto_rows": null,
            "grid_column": null,
            "grid_gap": null,
            "grid_row": null,
            "grid_template_areas": null,
            "grid_template_columns": null,
            "grid_template_rows": null,
            "height": null,
            "justify_content": null,
            "justify_items": null,
            "left": null,
            "margin": null,
            "max_height": null,
            "max_width": null,
            "min_height": null,
            "min_width": null,
            "object_fit": null,
            "object_position": null,
            "order": null,
            "overflow": null,
            "overflow_x": null,
            "overflow_y": null,
            "padding": null,
            "right": null,
            "top": null,
            "visibility": null,
            "width": null
          }
        },
        "c067505b48aa4334aba6f0b5e68a838d": {
          "model_module": "@jupyter-widgets/controls",
          "model_name": "ProgressStyleModel",
          "model_module_version": "1.5.0",
          "state": {
            "_model_module": "@jupyter-widgets/controls",
            "_model_module_version": "1.5.0",
            "_model_name": "ProgressStyleModel",
            "_view_count": null,
            "_view_module": "@jupyter-widgets/base",
            "_view_module_version": "1.2.0",
            "_view_name": "StyleView",
            "bar_color": null,
            "description_width": ""
          }
        },
        "031ce0130fe6439f96bcb3c4002269c2": {
          "model_module": "@jupyter-widgets/base",
          "model_name": "LayoutModel",
          "model_module_version": "1.2.0",
          "state": {
            "_model_module": "@jupyter-widgets/base",
            "_model_module_version": "1.2.0",
            "_model_name": "LayoutModel",
            "_view_count": null,
            "_view_module": "@jupyter-widgets/base",
            "_view_module_version": "1.2.0",
            "_view_name": "LayoutView",
            "align_content": null,
            "align_items": null,
            "align_self": null,
            "border": null,
            "bottom": null,
            "display": null,
            "flex": null,
            "flex_flow": null,
            "grid_area": null,
            "grid_auto_columns": null,
            "grid_auto_flow": null,
            "grid_auto_rows": null,
            "grid_column": null,
            "grid_gap": null,
            "grid_row": null,
            "grid_template_areas": null,
            "grid_template_columns": null,
            "grid_template_rows": null,
            "height": null,
            "justify_content": null,
            "justify_items": null,
            "left": null,
            "margin": null,
            "max_height": null,
            "max_width": null,
            "min_height": null,
            "min_width": null,
            "object_fit": null,
            "object_position": null,
            "order": null,
            "overflow": null,
            "overflow_x": null,
            "overflow_y": null,
            "padding": null,
            "right": null,
            "top": null,
            "visibility": null,
            "width": null
          }
        },
        "170c48d7cfaf4a16b2270a4768590544": {
          "model_module": "@jupyter-widgets/controls",
          "model_name": "DescriptionStyleModel",
          "model_module_version": "1.5.0",
          "state": {
            "_model_module": "@jupyter-widgets/controls",
            "_model_module_version": "1.5.0",
            "_model_name": "DescriptionStyleModel",
            "_view_count": null,
            "_view_module": "@jupyter-widgets/base",
            "_view_module_version": "1.2.0",
            "_view_name": "StyleView",
            "description_width": ""
          }
        },
        "a16af12f3beb4cbf946125420c3d2aaf": {
          "model_module": "@jupyter-widgets/controls",
          "model_name": "HBoxModel",
          "model_module_version": "1.5.0",
          "state": {
            "_dom_classes": [],
            "_model_module": "@jupyter-widgets/controls",
            "_model_module_version": "1.5.0",
            "_model_name": "HBoxModel",
            "_view_count": null,
            "_view_module": "@jupyter-widgets/controls",
            "_view_module_version": "1.5.0",
            "_view_name": "HBoxView",
            "box_style": "",
            "children": [
              "IPY_MODEL_acb840de7ff64741b53e3d883aad9d79",
              "IPY_MODEL_5524b88b29704583b2558f1b18a8fbb8",
              "IPY_MODEL_5b8d4733cf954d7ba1399d86e1575247"
            ],
            "layout": "IPY_MODEL_5e4393a9bf8d43b081f9ac3049d36d1f"
          }
        },
        "acb840de7ff64741b53e3d883aad9d79": {
          "model_module": "@jupyter-widgets/controls",
          "model_name": "HTMLModel",
          "model_module_version": "1.5.0",
          "state": {
            "_dom_classes": [],
            "_model_module": "@jupyter-widgets/controls",
            "_model_module_version": "1.5.0",
            "_model_name": "HTMLModel",
            "_view_count": null,
            "_view_module": "@jupyter-widgets/controls",
            "_view_module_version": "1.5.0",
            "_view_name": "HTMLView",
            "description": "",
            "description_tooltip": null,
            "layout": "IPY_MODEL_720864a5e6e34d64beffb5c6d73f0064",
            "placeholder": "​",
            "style": "IPY_MODEL_d08e4b81e6104c1ca1d2e4a9afa85052",
            "value": "tokenizer.json: 100%"
          }
        },
        "5524b88b29704583b2558f1b18a8fbb8": {
          "model_module": "@jupyter-widgets/controls",
          "model_name": "FloatProgressModel",
          "model_module_version": "1.5.0",
          "state": {
            "_dom_classes": [],
            "_model_module": "@jupyter-widgets/controls",
            "_model_module_version": "1.5.0",
            "_model_name": "FloatProgressModel",
            "_view_count": null,
            "_view_module": "@jupyter-widgets/controls",
            "_view_module_version": "1.5.0",
            "_view_name": "ProgressView",
            "bar_style": "success",
            "description": "",
            "description_tooltip": null,
            "layout": "IPY_MODEL_397a52ff2c6347bda50b08d221054f70",
            "max": 435797,
            "min": 0,
            "orientation": "horizontal",
            "style": "IPY_MODEL_b6412437152c40b9b2d80af4791918d0",
            "value": 435797
          }
        },
        "5b8d4733cf954d7ba1399d86e1575247": {
          "model_module": "@jupyter-widgets/controls",
          "model_name": "HTMLModel",
          "model_module_version": "1.5.0",
          "state": {
            "_dom_classes": [],
            "_model_module": "@jupyter-widgets/controls",
            "_model_module_version": "1.5.0",
            "_model_name": "HTMLModel",
            "_view_count": null,
            "_view_module": "@jupyter-widgets/controls",
            "_view_module_version": "1.5.0",
            "_view_name": "HTMLView",
            "description": "",
            "description_tooltip": null,
            "layout": "IPY_MODEL_d3b5ea32a81a4ff2ab75b18fb58cc0e1",
            "placeholder": "​",
            "style": "IPY_MODEL_a3e01eb874124af7a3da9569c7efd1d6",
            "value": " 436k/436k [00:00&lt;00:00, 8.70MB/s]"
          }
        },
        "5e4393a9bf8d43b081f9ac3049d36d1f": {
          "model_module": "@jupyter-widgets/base",
          "model_name": "LayoutModel",
          "model_module_version": "1.2.0",
          "state": {
            "_model_module": "@jupyter-widgets/base",
            "_model_module_version": "1.2.0",
            "_model_name": "LayoutModel",
            "_view_count": null,
            "_view_module": "@jupyter-widgets/base",
            "_view_module_version": "1.2.0",
            "_view_name": "LayoutView",
            "align_content": null,
            "align_items": null,
            "align_self": null,
            "border": null,
            "bottom": null,
            "display": null,
            "flex": null,
            "flex_flow": null,
            "grid_area": null,
            "grid_auto_columns": null,
            "grid_auto_flow": null,
            "grid_auto_rows": null,
            "grid_column": null,
            "grid_gap": null,
            "grid_row": null,
            "grid_template_areas": null,
            "grid_template_columns": null,
            "grid_template_rows": null,
            "height": null,
            "justify_content": null,
            "justify_items": null,
            "left": null,
            "margin": null,
            "max_height": null,
            "max_width": null,
            "min_height": null,
            "min_width": null,
            "object_fit": null,
            "object_position": null,
            "order": null,
            "overflow": null,
            "overflow_x": null,
            "overflow_y": null,
            "padding": null,
            "right": null,
            "top": null,
            "visibility": null,
            "width": null
          }
        },
        "720864a5e6e34d64beffb5c6d73f0064": {
          "model_module": "@jupyter-widgets/base",
          "model_name": "LayoutModel",
          "model_module_version": "1.2.0",
          "state": {
            "_model_module": "@jupyter-widgets/base",
            "_model_module_version": "1.2.0",
            "_model_name": "LayoutModel",
            "_view_count": null,
            "_view_module": "@jupyter-widgets/base",
            "_view_module_version": "1.2.0",
            "_view_name": "LayoutView",
            "align_content": null,
            "align_items": null,
            "align_self": null,
            "border": null,
            "bottom": null,
            "display": null,
            "flex": null,
            "flex_flow": null,
            "grid_area": null,
            "grid_auto_columns": null,
            "grid_auto_flow": null,
            "grid_auto_rows": null,
            "grid_column": null,
            "grid_gap": null,
            "grid_row": null,
            "grid_template_areas": null,
            "grid_template_columns": null,
            "grid_template_rows": null,
            "height": null,
            "justify_content": null,
            "justify_items": null,
            "left": null,
            "margin": null,
            "max_height": null,
            "max_width": null,
            "min_height": null,
            "min_width": null,
            "object_fit": null,
            "object_position": null,
            "order": null,
            "overflow": null,
            "overflow_x": null,
            "overflow_y": null,
            "padding": null,
            "right": null,
            "top": null,
            "visibility": null,
            "width": null
          }
        },
        "d08e4b81e6104c1ca1d2e4a9afa85052": {
          "model_module": "@jupyter-widgets/controls",
          "model_name": "DescriptionStyleModel",
          "model_module_version": "1.5.0",
          "state": {
            "_model_module": "@jupyter-widgets/controls",
            "_model_module_version": "1.5.0",
            "_model_name": "DescriptionStyleModel",
            "_view_count": null,
            "_view_module": "@jupyter-widgets/base",
            "_view_module_version": "1.2.0",
            "_view_name": "StyleView",
            "description_width": ""
          }
        },
        "397a52ff2c6347bda50b08d221054f70": {
          "model_module": "@jupyter-widgets/base",
          "model_name": "LayoutModel",
          "model_module_version": "1.2.0",
          "state": {
            "_model_module": "@jupyter-widgets/base",
            "_model_module_version": "1.2.0",
            "_model_name": "LayoutModel",
            "_view_count": null,
            "_view_module": "@jupyter-widgets/base",
            "_view_module_version": "1.2.0",
            "_view_name": "LayoutView",
            "align_content": null,
            "align_items": null,
            "align_self": null,
            "border": null,
            "bottom": null,
            "display": null,
            "flex": null,
            "flex_flow": null,
            "grid_area": null,
            "grid_auto_columns": null,
            "grid_auto_flow": null,
            "grid_auto_rows": null,
            "grid_column": null,
            "grid_gap": null,
            "grid_row": null,
            "grid_template_areas": null,
            "grid_template_columns": null,
            "grid_template_rows": null,
            "height": null,
            "justify_content": null,
            "justify_items": null,
            "left": null,
            "margin": null,
            "max_height": null,
            "max_width": null,
            "min_height": null,
            "min_width": null,
            "object_fit": null,
            "object_position": null,
            "order": null,
            "overflow": null,
            "overflow_x": null,
            "overflow_y": null,
            "padding": null,
            "right": null,
            "top": null,
            "visibility": null,
            "width": null
          }
        },
        "b6412437152c40b9b2d80af4791918d0": {
          "model_module": "@jupyter-widgets/controls",
          "model_name": "ProgressStyleModel",
          "model_module_version": "1.5.0",
          "state": {
            "_model_module": "@jupyter-widgets/controls",
            "_model_module_version": "1.5.0",
            "_model_name": "ProgressStyleModel",
            "_view_count": null,
            "_view_module": "@jupyter-widgets/base",
            "_view_module_version": "1.2.0",
            "_view_name": "StyleView",
            "bar_color": null,
            "description_width": ""
          }
        },
        "d3b5ea32a81a4ff2ab75b18fb58cc0e1": {
          "model_module": "@jupyter-widgets/base",
          "model_name": "LayoutModel",
          "model_module_version": "1.2.0",
          "state": {
            "_model_module": "@jupyter-widgets/base",
            "_model_module_version": "1.2.0",
            "_model_name": "LayoutModel",
            "_view_count": null,
            "_view_module": "@jupyter-widgets/base",
            "_view_module_version": "1.2.0",
            "_view_name": "LayoutView",
            "align_content": null,
            "align_items": null,
            "align_self": null,
            "border": null,
            "bottom": null,
            "display": null,
            "flex": null,
            "flex_flow": null,
            "grid_area": null,
            "grid_auto_columns": null,
            "grid_auto_flow": null,
            "grid_auto_rows": null,
            "grid_column": null,
            "grid_gap": null,
            "grid_row": null,
            "grid_template_areas": null,
            "grid_template_columns": null,
            "grid_template_rows": null,
            "height": null,
            "justify_content": null,
            "justify_items": null,
            "left": null,
            "margin": null,
            "max_height": null,
            "max_width": null,
            "min_height": null,
            "min_width": null,
            "object_fit": null,
            "object_position": null,
            "order": null,
            "overflow": null,
            "overflow_x": null,
            "overflow_y": null,
            "padding": null,
            "right": null,
            "top": null,
            "visibility": null,
            "width": null
          }
        },
        "a3e01eb874124af7a3da9569c7efd1d6": {
          "model_module": "@jupyter-widgets/controls",
          "model_name": "DescriptionStyleModel",
          "model_module_version": "1.5.0",
          "state": {
            "_model_module": "@jupyter-widgets/controls",
            "_model_module_version": "1.5.0",
            "_model_name": "DescriptionStyleModel",
            "_view_count": null,
            "_view_module": "@jupyter-widgets/base",
            "_view_module_version": "1.2.0",
            "_view_name": "StyleView",
            "description_width": ""
          }
        },
        "1153e717afab46c391b51aefb909542e": {
          "model_module": "@jupyter-widgets/controls",
          "model_name": "HBoxModel",
          "model_module_version": "1.5.0",
          "state": {
            "_dom_classes": [],
            "_model_module": "@jupyter-widgets/controls",
            "_model_module_version": "1.5.0",
            "_model_name": "HBoxModel",
            "_view_count": null,
            "_view_module": "@jupyter-widgets/controls",
            "_view_module_version": "1.5.0",
            "_view_name": "HBoxView",
            "box_style": "",
            "children": [
              "IPY_MODEL_83cb822606f1483b9e9a770f2a498858",
              "IPY_MODEL_9c80d19a214b43a7804fd4927ff3b3fa",
              "IPY_MODEL_b4ddb48b15b243f9b06e420209017dd2"
            ],
            "layout": "IPY_MODEL_5df48cee519a4ab9b73e05b11ec38a82"
          }
        },
        "83cb822606f1483b9e9a770f2a498858": {
          "model_module": "@jupyter-widgets/controls",
          "model_name": "HTMLModel",
          "model_module_version": "1.5.0",
          "state": {
            "_dom_classes": [],
            "_model_module": "@jupyter-widgets/controls",
            "_model_module_version": "1.5.0",
            "_model_name": "HTMLModel",
            "_view_count": null,
            "_view_module": "@jupyter-widgets/controls",
            "_view_module_version": "1.5.0",
            "_view_name": "HTMLView",
            "description": "",
            "description_tooltip": null,
            "layout": "IPY_MODEL_ba572a020ce24c31a0d14d3147fd992c",
            "placeholder": "​",
            "style": "IPY_MODEL_0f573be08d9041978d1dce165bcbfaf1",
            "value": "config.json: 100%"
          }
        },
        "9c80d19a214b43a7804fd4927ff3b3fa": {
          "model_module": "@jupyter-widgets/controls",
          "model_name": "FloatProgressModel",
          "model_module_version": "1.5.0",
          "state": {
            "_dom_classes": [],
            "_model_module": "@jupyter-widgets/controls",
            "_model_module_version": "1.5.0",
            "_model_name": "FloatProgressModel",
            "_view_count": null,
            "_view_module": "@jupyter-widgets/controls",
            "_view_module_version": "1.5.0",
            "_view_name": "ProgressView",
            "bar_style": "success",
            "description": "",
            "description_tooltip": null,
            "layout": "IPY_MODEL_569d5e291cb5419b90eced935cb238bd",
            "max": 570,
            "min": 0,
            "orientation": "horizontal",
            "style": "IPY_MODEL_1a9f345f7bbb4d61a50014351b7569c2",
            "value": 570
          }
        },
        "b4ddb48b15b243f9b06e420209017dd2": {
          "model_module": "@jupyter-widgets/controls",
          "model_name": "HTMLModel",
          "model_module_version": "1.5.0",
          "state": {
            "_dom_classes": [],
            "_model_module": "@jupyter-widgets/controls",
            "_model_module_version": "1.5.0",
            "_model_name": "HTMLModel",
            "_view_count": null,
            "_view_module": "@jupyter-widgets/controls",
            "_view_module_version": "1.5.0",
            "_view_name": "HTMLView",
            "description": "",
            "description_tooltip": null,
            "layout": "IPY_MODEL_dab0064b77b74d04a3e10855fa9048ec",
            "placeholder": "​",
            "style": "IPY_MODEL_64004a88388b42f294ca19119992e26f",
            "value": " 570/570 [00:00&lt;00:00, 17.5kB/s]"
          }
        },
        "5df48cee519a4ab9b73e05b11ec38a82": {
          "model_module": "@jupyter-widgets/base",
          "model_name": "LayoutModel",
          "model_module_version": "1.2.0",
          "state": {
            "_model_module": "@jupyter-widgets/base",
            "_model_module_version": "1.2.0",
            "_model_name": "LayoutModel",
            "_view_count": null,
            "_view_module": "@jupyter-widgets/base",
            "_view_module_version": "1.2.0",
            "_view_name": "LayoutView",
            "align_content": null,
            "align_items": null,
            "align_self": null,
            "border": null,
            "bottom": null,
            "display": null,
            "flex": null,
            "flex_flow": null,
            "grid_area": null,
            "grid_auto_columns": null,
            "grid_auto_flow": null,
            "grid_auto_rows": null,
            "grid_column": null,
            "grid_gap": null,
            "grid_row": null,
            "grid_template_areas": null,
            "grid_template_columns": null,
            "grid_template_rows": null,
            "height": null,
            "justify_content": null,
            "justify_items": null,
            "left": null,
            "margin": null,
            "max_height": null,
            "max_width": null,
            "min_height": null,
            "min_width": null,
            "object_fit": null,
            "object_position": null,
            "order": null,
            "overflow": null,
            "overflow_x": null,
            "overflow_y": null,
            "padding": null,
            "right": null,
            "top": null,
            "visibility": null,
            "width": null
          }
        },
        "ba572a020ce24c31a0d14d3147fd992c": {
          "model_module": "@jupyter-widgets/base",
          "model_name": "LayoutModel",
          "model_module_version": "1.2.0",
          "state": {
            "_model_module": "@jupyter-widgets/base",
            "_model_module_version": "1.2.0",
            "_model_name": "LayoutModel",
            "_view_count": null,
            "_view_module": "@jupyter-widgets/base",
            "_view_module_version": "1.2.0",
            "_view_name": "LayoutView",
            "align_content": null,
            "align_items": null,
            "align_self": null,
            "border": null,
            "bottom": null,
            "display": null,
            "flex": null,
            "flex_flow": null,
            "grid_area": null,
            "grid_auto_columns": null,
            "grid_auto_flow": null,
            "grid_auto_rows": null,
            "grid_column": null,
            "grid_gap": null,
            "grid_row": null,
            "grid_template_areas": null,
            "grid_template_columns": null,
            "grid_template_rows": null,
            "height": null,
            "justify_content": null,
            "justify_items": null,
            "left": null,
            "margin": null,
            "max_height": null,
            "max_width": null,
            "min_height": null,
            "min_width": null,
            "object_fit": null,
            "object_position": null,
            "order": null,
            "overflow": null,
            "overflow_x": null,
            "overflow_y": null,
            "padding": null,
            "right": null,
            "top": null,
            "visibility": null,
            "width": null
          }
        },
        "0f573be08d9041978d1dce165bcbfaf1": {
          "model_module": "@jupyter-widgets/controls",
          "model_name": "DescriptionStyleModel",
          "model_module_version": "1.5.0",
          "state": {
            "_model_module": "@jupyter-widgets/controls",
            "_model_module_version": "1.5.0",
            "_model_name": "DescriptionStyleModel",
            "_view_count": null,
            "_view_module": "@jupyter-widgets/base",
            "_view_module_version": "1.2.0",
            "_view_name": "StyleView",
            "description_width": ""
          }
        },
        "569d5e291cb5419b90eced935cb238bd": {
          "model_module": "@jupyter-widgets/base",
          "model_name": "LayoutModel",
          "model_module_version": "1.2.0",
          "state": {
            "_model_module": "@jupyter-widgets/base",
            "_model_module_version": "1.2.0",
            "_model_name": "LayoutModel",
            "_view_count": null,
            "_view_module": "@jupyter-widgets/base",
            "_view_module_version": "1.2.0",
            "_view_name": "LayoutView",
            "align_content": null,
            "align_items": null,
            "align_self": null,
            "border": null,
            "bottom": null,
            "display": null,
            "flex": null,
            "flex_flow": null,
            "grid_area": null,
            "grid_auto_columns": null,
            "grid_auto_flow": null,
            "grid_auto_rows": null,
            "grid_column": null,
            "grid_gap": null,
            "grid_row": null,
            "grid_template_areas": null,
            "grid_template_columns": null,
            "grid_template_rows": null,
            "height": null,
            "justify_content": null,
            "justify_items": null,
            "left": null,
            "margin": null,
            "max_height": null,
            "max_width": null,
            "min_height": null,
            "min_width": null,
            "object_fit": null,
            "object_position": null,
            "order": null,
            "overflow": null,
            "overflow_x": null,
            "overflow_y": null,
            "padding": null,
            "right": null,
            "top": null,
            "visibility": null,
            "width": null
          }
        },
        "1a9f345f7bbb4d61a50014351b7569c2": {
          "model_module": "@jupyter-widgets/controls",
          "model_name": "ProgressStyleModel",
          "model_module_version": "1.5.0",
          "state": {
            "_model_module": "@jupyter-widgets/controls",
            "_model_module_version": "1.5.0",
            "_model_name": "ProgressStyleModel",
            "_view_count": null,
            "_view_module": "@jupyter-widgets/base",
            "_view_module_version": "1.2.0",
            "_view_name": "StyleView",
            "bar_color": null,
            "description_width": ""
          }
        },
        "dab0064b77b74d04a3e10855fa9048ec": {
          "model_module": "@jupyter-widgets/base",
          "model_name": "LayoutModel",
          "model_module_version": "1.2.0",
          "state": {
            "_model_module": "@jupyter-widgets/base",
            "_model_module_version": "1.2.0",
            "_model_name": "LayoutModel",
            "_view_count": null,
            "_view_module": "@jupyter-widgets/base",
            "_view_module_version": "1.2.0",
            "_view_name": "LayoutView",
            "align_content": null,
            "align_items": null,
            "align_self": null,
            "border": null,
            "bottom": null,
            "display": null,
            "flex": null,
            "flex_flow": null,
            "grid_area": null,
            "grid_auto_columns": null,
            "grid_auto_flow": null,
            "grid_auto_rows": null,
            "grid_column": null,
            "grid_gap": null,
            "grid_row": null,
            "grid_template_areas": null,
            "grid_template_columns": null,
            "grid_template_rows": null,
            "height": null,
            "justify_content": null,
            "justify_items": null,
            "left": null,
            "margin": null,
            "max_height": null,
            "max_width": null,
            "min_height": null,
            "min_width": null,
            "object_fit": null,
            "object_position": null,
            "order": null,
            "overflow": null,
            "overflow_x": null,
            "overflow_y": null,
            "padding": null,
            "right": null,
            "top": null,
            "visibility": null,
            "width": null
          }
        },
        "64004a88388b42f294ca19119992e26f": {
          "model_module": "@jupyter-widgets/controls",
          "model_name": "DescriptionStyleModel",
          "model_module_version": "1.5.0",
          "state": {
            "_model_module": "@jupyter-widgets/controls",
            "_model_module_version": "1.5.0",
            "_model_name": "DescriptionStyleModel",
            "_view_count": null,
            "_view_module": "@jupyter-widgets/base",
            "_view_module_version": "1.2.0",
            "_view_name": "StyleView",
            "description_width": ""
          }
        },
        "1ff229844bf94aa29a18dafe7c1304e6": {
          "model_module": "@jupyter-widgets/controls",
          "model_name": "HBoxModel",
          "model_module_version": "1.5.0",
          "state": {
            "_dom_classes": [],
            "_model_module": "@jupyter-widgets/controls",
            "_model_module_version": "1.5.0",
            "_model_name": "HBoxModel",
            "_view_count": null,
            "_view_module": "@jupyter-widgets/controls",
            "_view_module_version": "1.5.0",
            "_view_name": "HBoxView",
            "box_style": "",
            "children": [
              "IPY_MODEL_7beadc5ed4744b17954fb41d252c186f",
              "IPY_MODEL_91d12488ecd041288e5129cd76ab469b",
              "IPY_MODEL_9f250d148f77498baf12a162cf0ef24e"
            ],
            "layout": "IPY_MODEL_7fd377e2861b4d07bc700f03e3de142e"
          }
        },
        "7beadc5ed4744b17954fb41d252c186f": {
          "model_module": "@jupyter-widgets/controls",
          "model_name": "HTMLModel",
          "model_module_version": "1.5.0",
          "state": {
            "_dom_classes": [],
            "_model_module": "@jupyter-widgets/controls",
            "_model_module_version": "1.5.0",
            "_model_name": "HTMLModel",
            "_view_count": null,
            "_view_module": "@jupyter-widgets/controls",
            "_view_module_version": "1.5.0",
            "_view_name": "HTMLView",
            "description": "",
            "description_tooltip": null,
            "layout": "IPY_MODEL_24f96ea459f14f51b4be92a908d093fc",
            "placeholder": "​",
            "style": "IPY_MODEL_879f60c322cf446db4d601e30cb5f752",
            "value": "model.safetensors: 100%"
          }
        },
        "91d12488ecd041288e5129cd76ab469b": {
          "model_module": "@jupyter-widgets/controls",
          "model_name": "FloatProgressModel",
          "model_module_version": "1.5.0",
          "state": {
            "_dom_classes": [],
            "_model_module": "@jupyter-widgets/controls",
            "_model_module_version": "1.5.0",
            "_model_name": "FloatProgressModel",
            "_view_count": null,
            "_view_module": "@jupyter-widgets/controls",
            "_view_module_version": "1.5.0",
            "_view_name": "ProgressView",
            "bar_style": "success",
            "description": "",
            "description_tooltip": null,
            "layout": "IPY_MODEL_7b4b078a1e1844a19568c7b2ecb6ca37",
            "max": 435755784,
            "min": 0,
            "orientation": "horizontal",
            "style": "IPY_MODEL_9faf59d94d8f4f5aa96afa171cbbbbe3",
            "value": 435755784
          }
        },
        "9f250d148f77498baf12a162cf0ef24e": {
          "model_module": "@jupyter-widgets/controls",
          "model_name": "HTMLModel",
          "model_module_version": "1.5.0",
          "state": {
            "_dom_classes": [],
            "_model_module": "@jupyter-widgets/controls",
            "_model_module_version": "1.5.0",
            "_model_name": "HTMLModel",
            "_view_count": null,
            "_view_module": "@jupyter-widgets/controls",
            "_view_module_version": "1.5.0",
            "_view_name": "HTMLView",
            "description": "",
            "description_tooltip": null,
            "layout": "IPY_MODEL_1a3b5b82cd144bd4b607388c1052859a",
            "placeholder": "​",
            "style": "IPY_MODEL_285b9508dc3b4b9199df7f33fe730b3d",
            "value": " 436M/436M [00:08&lt;00:00, 86.7MB/s]"
          }
        },
        "7fd377e2861b4d07bc700f03e3de142e": {
          "model_module": "@jupyter-widgets/base",
          "model_name": "LayoutModel",
          "model_module_version": "1.2.0",
          "state": {
            "_model_module": "@jupyter-widgets/base",
            "_model_module_version": "1.2.0",
            "_model_name": "LayoutModel",
            "_view_count": null,
            "_view_module": "@jupyter-widgets/base",
            "_view_module_version": "1.2.0",
            "_view_name": "LayoutView",
            "align_content": null,
            "align_items": null,
            "align_self": null,
            "border": null,
            "bottom": null,
            "display": null,
            "flex": null,
            "flex_flow": null,
            "grid_area": null,
            "grid_auto_columns": null,
            "grid_auto_flow": null,
            "grid_auto_rows": null,
            "grid_column": null,
            "grid_gap": null,
            "grid_row": null,
            "grid_template_areas": null,
            "grid_template_columns": null,
            "grid_template_rows": null,
            "height": null,
            "justify_content": null,
            "justify_items": null,
            "left": null,
            "margin": null,
            "max_height": null,
            "max_width": null,
            "min_height": null,
            "min_width": null,
            "object_fit": null,
            "object_position": null,
            "order": null,
            "overflow": null,
            "overflow_x": null,
            "overflow_y": null,
            "padding": null,
            "right": null,
            "top": null,
            "visibility": null,
            "width": null
          }
        },
        "24f96ea459f14f51b4be92a908d093fc": {
          "model_module": "@jupyter-widgets/base",
          "model_name": "LayoutModel",
          "model_module_version": "1.2.0",
          "state": {
            "_model_module": "@jupyter-widgets/base",
            "_model_module_version": "1.2.0",
            "_model_name": "LayoutModel",
            "_view_count": null,
            "_view_module": "@jupyter-widgets/base",
            "_view_module_version": "1.2.0",
            "_view_name": "LayoutView",
            "align_content": null,
            "align_items": null,
            "align_self": null,
            "border": null,
            "bottom": null,
            "display": null,
            "flex": null,
            "flex_flow": null,
            "grid_area": null,
            "grid_auto_columns": null,
            "grid_auto_flow": null,
            "grid_auto_rows": null,
            "grid_column": null,
            "grid_gap": null,
            "grid_row": null,
            "grid_template_areas": null,
            "grid_template_columns": null,
            "grid_template_rows": null,
            "height": null,
            "justify_content": null,
            "justify_items": null,
            "left": null,
            "margin": null,
            "max_height": null,
            "max_width": null,
            "min_height": null,
            "min_width": null,
            "object_fit": null,
            "object_position": null,
            "order": null,
            "overflow": null,
            "overflow_x": null,
            "overflow_y": null,
            "padding": null,
            "right": null,
            "top": null,
            "visibility": null,
            "width": null
          }
        },
        "879f60c322cf446db4d601e30cb5f752": {
          "model_module": "@jupyter-widgets/controls",
          "model_name": "DescriptionStyleModel",
          "model_module_version": "1.5.0",
          "state": {
            "_model_module": "@jupyter-widgets/controls",
            "_model_module_version": "1.5.0",
            "_model_name": "DescriptionStyleModel",
            "_view_count": null,
            "_view_module": "@jupyter-widgets/base",
            "_view_module_version": "1.2.0",
            "_view_name": "StyleView",
            "description_width": ""
          }
        },
        "7b4b078a1e1844a19568c7b2ecb6ca37": {
          "model_module": "@jupyter-widgets/base",
          "model_name": "LayoutModel",
          "model_module_version": "1.2.0",
          "state": {
            "_model_module": "@jupyter-widgets/base",
            "_model_module_version": "1.2.0",
            "_model_name": "LayoutModel",
            "_view_count": null,
            "_view_module": "@jupyter-widgets/base",
            "_view_module_version": "1.2.0",
            "_view_name": "LayoutView",
            "align_content": null,
            "align_items": null,
            "align_self": null,
            "border": null,
            "bottom": null,
            "display": null,
            "flex": null,
            "flex_flow": null,
            "grid_area": null,
            "grid_auto_columns": null,
            "grid_auto_flow": null,
            "grid_auto_rows": null,
            "grid_column": null,
            "grid_gap": null,
            "grid_row": null,
            "grid_template_areas": null,
            "grid_template_columns": null,
            "grid_template_rows": null,
            "height": null,
            "justify_content": null,
            "justify_items": null,
            "left": null,
            "margin": null,
            "max_height": null,
            "max_width": null,
            "min_height": null,
            "min_width": null,
            "object_fit": null,
            "object_position": null,
            "order": null,
            "overflow": null,
            "overflow_x": null,
            "overflow_y": null,
            "padding": null,
            "right": null,
            "top": null,
            "visibility": null,
            "width": null
          }
        },
        "9faf59d94d8f4f5aa96afa171cbbbbe3": {
          "model_module": "@jupyter-widgets/controls",
          "model_name": "ProgressStyleModel",
          "model_module_version": "1.5.0",
          "state": {
            "_model_module": "@jupyter-widgets/controls",
            "_model_module_version": "1.5.0",
            "_model_name": "ProgressStyleModel",
            "_view_count": null,
            "_view_module": "@jupyter-widgets/base",
            "_view_module_version": "1.2.0",
            "_view_name": "StyleView",
            "bar_color": null,
            "description_width": ""
          }
        },
        "1a3b5b82cd144bd4b607388c1052859a": {
          "model_module": "@jupyter-widgets/base",
          "model_name": "LayoutModel",
          "model_module_version": "1.2.0",
          "state": {
            "_model_module": "@jupyter-widgets/base",
            "_model_module_version": "1.2.0",
            "_model_name": "LayoutModel",
            "_view_count": null,
            "_view_module": "@jupyter-widgets/base",
            "_view_module_version": "1.2.0",
            "_view_name": "LayoutView",
            "align_content": null,
            "align_items": null,
            "align_self": null,
            "border": null,
            "bottom": null,
            "display": null,
            "flex": null,
            "flex_flow": null,
            "grid_area": null,
            "grid_auto_columns": null,
            "grid_auto_flow": null,
            "grid_auto_rows": null,
            "grid_column": null,
            "grid_gap": null,
            "grid_row": null,
            "grid_template_areas": null,
            "grid_template_columns": null,
            "grid_template_rows": null,
            "height": null,
            "justify_content": null,
            "justify_items": null,
            "left": null,
            "margin": null,
            "max_height": null,
            "max_width": null,
            "min_height": null,
            "min_width": null,
            "object_fit": null,
            "object_position": null,
            "order": null,
            "overflow": null,
            "overflow_x": null,
            "overflow_y": null,
            "padding": null,
            "right": null,
            "top": null,
            "visibility": null,
            "width": null
          }
        },
        "285b9508dc3b4b9199df7f33fe730b3d": {
          "model_module": "@jupyter-widgets/controls",
          "model_name": "DescriptionStyleModel",
          "model_module_version": "1.5.0",
          "state": {
            "_model_module": "@jupyter-widgets/controls",
            "_model_module_version": "1.5.0",
            "_model_name": "DescriptionStyleModel",
            "_view_count": null,
            "_view_module": "@jupyter-widgets/base",
            "_view_module_version": "1.2.0",
            "_view_name": "StyleView",
            "description_width": ""
          }
        },
        "7e1adfe581754b0b97858796b231f6b3": {
          "model_module": "@jupyter-widgets/controls",
          "model_name": "HBoxModel",
          "model_module_version": "1.5.0",
          "state": {
            "_dom_classes": [],
            "_model_module": "@jupyter-widgets/controls",
            "_model_module_version": "1.5.0",
            "_model_name": "HBoxModel",
            "_view_count": null,
            "_view_module": "@jupyter-widgets/controls",
            "_view_module_version": "1.5.0",
            "_view_name": "HBoxView",
            "box_style": "",
            "children": [
              "IPY_MODEL_f9ddddf2afa449d6acf731eac4832828",
              "IPY_MODEL_7b32c62c65e94a4297fabfabce4019fe",
              "IPY_MODEL_0920af464d524b1ba366c0ad56943afa"
            ],
            "layout": "IPY_MODEL_dcfbaf2ebee442d0b33734f389f54be2"
          }
        },
        "f9ddddf2afa449d6acf731eac4832828": {
          "model_module": "@jupyter-widgets/controls",
          "model_name": "HTMLModel",
          "model_module_version": "1.5.0",
          "state": {
            "_dom_classes": [],
            "_model_module": "@jupyter-widgets/controls",
            "_model_module_version": "1.5.0",
            "_model_name": "HTMLModel",
            "_view_count": null,
            "_view_module": "@jupyter-widgets/controls",
            "_view_module_version": "1.5.0",
            "_view_name": "HTMLView",
            "description": "",
            "description_tooltip": null,
            "layout": "IPY_MODEL_e88014309d3b43cbbebba7ebddb4b28a",
            "placeholder": "​",
            "style": "IPY_MODEL_238b841a9ec94d8483fc36a7f62dd144",
            "value": "tokenizer_config.json: "
          }
        },
        "7b32c62c65e94a4297fabfabce4019fe": {
          "model_module": "@jupyter-widgets/controls",
          "model_name": "FloatProgressModel",
          "model_module_version": "1.5.0",
          "state": {
            "_dom_classes": [],
            "_model_module": "@jupyter-widgets/controls",
            "_model_module_version": "1.5.0",
            "_model_name": "FloatProgressModel",
            "_view_count": null,
            "_view_module": "@jupyter-widgets/controls",
            "_view_module_version": "1.5.0",
            "_view_name": "ProgressView",
            "bar_style": "success",
            "description": "",
            "description_tooltip": null,
            "layout": "IPY_MODEL_f809d17291c5489ebc92c237d83003c5",
            "max": 1,
            "min": 0,
            "orientation": "horizontal",
            "style": "IPY_MODEL_150bdc1c06504ad6a9dec906e4368f8b",
            "value": 1
          }
        },
        "0920af464d524b1ba366c0ad56943afa": {
          "model_module": "@jupyter-widgets/controls",
          "model_name": "HTMLModel",
          "model_module_version": "1.5.0",
          "state": {
            "_dom_classes": [],
            "_model_module": "@jupyter-widgets/controls",
            "_model_module_version": "1.5.0",
            "_model_name": "HTMLModel",
            "_view_count": null,
            "_view_module": "@jupyter-widgets/controls",
            "_view_module_version": "1.5.0",
            "_view_name": "HTMLView",
            "description": "",
            "description_tooltip": null,
            "layout": "IPY_MODEL_7ac646e1cb5d435a9d391b3c2dfbb395",
            "placeholder": "​",
            "style": "IPY_MODEL_a0a9949c303b48f59a43fc0b6462e02a",
            "value": " 20.8k/? [00:00&lt;00:00, 434kB/s]"
          }
        },
        "dcfbaf2ebee442d0b33734f389f54be2": {
          "model_module": "@jupyter-widgets/base",
          "model_name": "LayoutModel",
          "model_module_version": "1.2.0",
          "state": {
            "_model_module": "@jupyter-widgets/base",
            "_model_module_version": "1.2.0",
            "_model_name": "LayoutModel",
            "_view_count": null,
            "_view_module": "@jupyter-widgets/base",
            "_view_module_version": "1.2.0",
            "_view_name": "LayoutView",
            "align_content": null,
            "align_items": null,
            "align_self": null,
            "border": null,
            "bottom": null,
            "display": null,
            "flex": null,
            "flex_flow": null,
            "grid_area": null,
            "grid_auto_columns": null,
            "grid_auto_flow": null,
            "grid_auto_rows": null,
            "grid_column": null,
            "grid_gap": null,
            "grid_row": null,
            "grid_template_areas": null,
            "grid_template_columns": null,
            "grid_template_rows": null,
            "height": null,
            "justify_content": null,
            "justify_items": null,
            "left": null,
            "margin": null,
            "max_height": null,
            "max_width": null,
            "min_height": null,
            "min_width": null,
            "object_fit": null,
            "object_position": null,
            "order": null,
            "overflow": null,
            "overflow_x": null,
            "overflow_y": null,
            "padding": null,
            "right": null,
            "top": null,
            "visibility": null,
            "width": null
          }
        },
        "e88014309d3b43cbbebba7ebddb4b28a": {
          "model_module": "@jupyter-widgets/base",
          "model_name": "LayoutModel",
          "model_module_version": "1.2.0",
          "state": {
            "_model_module": "@jupyter-widgets/base",
            "_model_module_version": "1.2.0",
            "_model_name": "LayoutModel",
            "_view_count": null,
            "_view_module": "@jupyter-widgets/base",
            "_view_module_version": "1.2.0",
            "_view_name": "LayoutView",
            "align_content": null,
            "align_items": null,
            "align_self": null,
            "border": null,
            "bottom": null,
            "display": null,
            "flex": null,
            "flex_flow": null,
            "grid_area": null,
            "grid_auto_columns": null,
            "grid_auto_flow": null,
            "grid_auto_rows": null,
            "grid_column": null,
            "grid_gap": null,
            "grid_row": null,
            "grid_template_areas": null,
            "grid_template_columns": null,
            "grid_template_rows": null,
            "height": null,
            "justify_content": null,
            "justify_items": null,
            "left": null,
            "margin": null,
            "max_height": null,
            "max_width": null,
            "min_height": null,
            "min_width": null,
            "object_fit": null,
            "object_position": null,
            "order": null,
            "overflow": null,
            "overflow_x": null,
            "overflow_y": null,
            "padding": null,
            "right": null,
            "top": null,
            "visibility": null,
            "width": null
          }
        },
        "238b841a9ec94d8483fc36a7f62dd144": {
          "model_module": "@jupyter-widgets/controls",
          "model_name": "DescriptionStyleModel",
          "model_module_version": "1.5.0",
          "state": {
            "_model_module": "@jupyter-widgets/controls",
            "_model_module_version": "1.5.0",
            "_model_name": "DescriptionStyleModel",
            "_view_count": null,
            "_view_module": "@jupyter-widgets/base",
            "_view_module_version": "1.2.0",
            "_view_name": "StyleView",
            "description_width": ""
          }
        },
        "f809d17291c5489ebc92c237d83003c5": {
          "model_module": "@jupyter-widgets/base",
          "model_name": "LayoutModel",
          "model_module_version": "1.2.0",
          "state": {
            "_model_module": "@jupyter-widgets/base",
            "_model_module_version": "1.2.0",
            "_model_name": "LayoutModel",
            "_view_count": null,
            "_view_module": "@jupyter-widgets/base",
            "_view_module_version": "1.2.0",
            "_view_name": "LayoutView",
            "align_content": null,
            "align_items": null,
            "align_self": null,
            "border": null,
            "bottom": null,
            "display": null,
            "flex": null,
            "flex_flow": null,
            "grid_area": null,
            "grid_auto_columns": null,
            "grid_auto_flow": null,
            "grid_auto_rows": null,
            "grid_column": null,
            "grid_gap": null,
            "grid_row": null,
            "grid_template_areas": null,
            "grid_template_columns": null,
            "grid_template_rows": null,
            "height": null,
            "justify_content": null,
            "justify_items": null,
            "left": null,
            "margin": null,
            "max_height": null,
            "max_width": null,
            "min_height": null,
            "min_width": null,
            "object_fit": null,
            "object_position": null,
            "order": null,
            "overflow": null,
            "overflow_x": null,
            "overflow_y": null,
            "padding": null,
            "right": null,
            "top": null,
            "visibility": null,
            "width": "20px"
          }
        },
        "150bdc1c06504ad6a9dec906e4368f8b": {
          "model_module": "@jupyter-widgets/controls",
          "model_name": "ProgressStyleModel",
          "model_module_version": "1.5.0",
          "state": {
            "_model_module": "@jupyter-widgets/controls",
            "_model_module_version": "1.5.0",
            "_model_name": "ProgressStyleModel",
            "_view_count": null,
            "_view_module": "@jupyter-widgets/base",
            "_view_module_version": "1.2.0",
            "_view_name": "StyleView",
            "bar_color": null,
            "description_width": ""
          }
        },
        "7ac646e1cb5d435a9d391b3c2dfbb395": {
          "model_module": "@jupyter-widgets/base",
          "model_name": "LayoutModel",
          "model_module_version": "1.2.0",
          "state": {
            "_model_module": "@jupyter-widgets/base",
            "_model_module_version": "1.2.0",
            "_model_name": "LayoutModel",
            "_view_count": null,
            "_view_module": "@jupyter-widgets/base",
            "_view_module_version": "1.2.0",
            "_view_name": "LayoutView",
            "align_content": null,
            "align_items": null,
            "align_self": null,
            "border": null,
            "bottom": null,
            "display": null,
            "flex": null,
            "flex_flow": null,
            "grid_area": null,
            "grid_auto_columns": null,
            "grid_auto_flow": null,
            "grid_auto_rows": null,
            "grid_column": null,
            "grid_gap": null,
            "grid_row": null,
            "grid_template_areas": null,
            "grid_template_columns": null,
            "grid_template_rows": null,
            "height": null,
            "justify_content": null,
            "justify_items": null,
            "left": null,
            "margin": null,
            "max_height": null,
            "max_width": null,
            "min_height": null,
            "min_width": null,
            "object_fit": null,
            "object_position": null,
            "order": null,
            "overflow": null,
            "overflow_x": null,
            "overflow_y": null,
            "padding": null,
            "right": null,
            "top": null,
            "visibility": null,
            "width": null
          }
        },
        "a0a9949c303b48f59a43fc0b6462e02a": {
          "model_module": "@jupyter-widgets/controls",
          "model_name": "DescriptionStyleModel",
          "model_module_version": "1.5.0",
          "state": {
            "_model_module": "@jupyter-widgets/controls",
            "_model_module_version": "1.5.0",
            "_model_name": "DescriptionStyleModel",
            "_view_count": null,
            "_view_module": "@jupyter-widgets/base",
            "_view_module_version": "1.2.0",
            "_view_name": "StyleView",
            "description_width": ""
          }
        },
        "f5232b242f4c4f669f2b9a9daa865471": {
          "model_module": "@jupyter-widgets/controls",
          "model_name": "HBoxModel",
          "model_module_version": "1.5.0",
          "state": {
            "_dom_classes": [],
            "_model_module": "@jupyter-widgets/controls",
            "_model_module_version": "1.5.0",
            "_model_name": "HBoxModel",
            "_view_count": null,
            "_view_module": "@jupyter-widgets/controls",
            "_view_module_version": "1.5.0",
            "_view_name": "HBoxView",
            "box_style": "",
            "children": [
              "IPY_MODEL_e1723a6cc4c147b3950d7d2479fb3623",
              "IPY_MODEL_f2cac94385ff475da68a0fb6bc20a42f",
              "IPY_MODEL_e7d3a98aff1b40939fc9b973c96db099"
            ],
            "layout": "IPY_MODEL_9629c4b151654b409f8d95a709e0d281"
          }
        },
        "e1723a6cc4c147b3950d7d2479fb3623": {
          "model_module": "@jupyter-widgets/controls",
          "model_name": "HTMLModel",
          "model_module_version": "1.5.0",
          "state": {
            "_dom_classes": [],
            "_model_module": "@jupyter-widgets/controls",
            "_model_module_version": "1.5.0",
            "_model_name": "HTMLModel",
            "_view_count": null,
            "_view_module": "@jupyter-widgets/controls",
            "_view_module_version": "1.5.0",
            "_view_name": "HTMLView",
            "description": "",
            "description_tooltip": null,
            "layout": "IPY_MODEL_c33646dbd54b4e3187d7672a6765f77a",
            "placeholder": "​",
            "style": "IPY_MODEL_75ae9bfa4b224e769173ebc6306cbf76",
            "value": "tokenizer.json: "
          }
        },
        "f2cac94385ff475da68a0fb6bc20a42f": {
          "model_module": "@jupyter-widgets/controls",
          "model_name": "FloatProgressModel",
          "model_module_version": "1.5.0",
          "state": {
            "_dom_classes": [],
            "_model_module": "@jupyter-widgets/controls",
            "_model_module_version": "1.5.0",
            "_model_name": "FloatProgressModel",
            "_view_count": null,
            "_view_module": "@jupyter-widgets/controls",
            "_view_module_version": "1.5.0",
            "_view_name": "ProgressView",
            "bar_style": "success",
            "description": "",
            "description_tooltip": null,
            "layout": "IPY_MODEL_dfc83bb0d39848b6b7537ecc39f32318",
            "max": 1,
            "min": 0,
            "orientation": "horizontal",
            "style": "IPY_MODEL_3adb5ef5d32a4b59a832f2b095ff9503",
            "value": 1
          }
        },
        "e7d3a98aff1b40939fc9b973c96db099": {
          "model_module": "@jupyter-widgets/controls",
          "model_name": "HTMLModel",
          "model_module_version": "1.5.0",
          "state": {
            "_dom_classes": [],
            "_model_module": "@jupyter-widgets/controls",
            "_model_module_version": "1.5.0",
            "_model_name": "HTMLModel",
            "_view_count": null,
            "_view_module": "@jupyter-widgets/controls",
            "_view_module_version": "1.5.0",
            "_view_name": "HTMLView",
            "description": "",
            "description_tooltip": null,
            "layout": "IPY_MODEL_702dcb82de2144e9838be360c5b25166",
            "placeholder": "​",
            "style": "IPY_MODEL_b201b9a399804b04a904ffafa89bfc42",
            "value": " 2.13M/? [00:00&lt;00:00, 28.8MB/s]"
          }
        },
        "9629c4b151654b409f8d95a709e0d281": {
          "model_module": "@jupyter-widgets/base",
          "model_name": "LayoutModel",
          "model_module_version": "1.2.0",
          "state": {
            "_model_module": "@jupyter-widgets/base",
            "_model_module_version": "1.2.0",
            "_model_name": "LayoutModel",
            "_view_count": null,
            "_view_module": "@jupyter-widgets/base",
            "_view_module_version": "1.2.0",
            "_view_name": "LayoutView",
            "align_content": null,
            "align_items": null,
            "align_self": null,
            "border": null,
            "bottom": null,
            "display": null,
            "flex": null,
            "flex_flow": null,
            "grid_area": null,
            "grid_auto_columns": null,
            "grid_auto_flow": null,
            "grid_auto_rows": null,
            "grid_column": null,
            "grid_gap": null,
            "grid_row": null,
            "grid_template_areas": null,
            "grid_template_columns": null,
            "grid_template_rows": null,
            "height": null,
            "justify_content": null,
            "justify_items": null,
            "left": null,
            "margin": null,
            "max_height": null,
            "max_width": null,
            "min_height": null,
            "min_width": null,
            "object_fit": null,
            "object_position": null,
            "order": null,
            "overflow": null,
            "overflow_x": null,
            "overflow_y": null,
            "padding": null,
            "right": null,
            "top": null,
            "visibility": null,
            "width": null
          }
        },
        "c33646dbd54b4e3187d7672a6765f77a": {
          "model_module": "@jupyter-widgets/base",
          "model_name": "LayoutModel",
          "model_module_version": "1.2.0",
          "state": {
            "_model_module": "@jupyter-widgets/base",
            "_model_module_version": "1.2.0",
            "_model_name": "LayoutModel",
            "_view_count": null,
            "_view_module": "@jupyter-widgets/base",
            "_view_module_version": "1.2.0",
            "_view_name": "LayoutView",
            "align_content": null,
            "align_items": null,
            "align_self": null,
            "border": null,
            "bottom": null,
            "display": null,
            "flex": null,
            "flex_flow": null,
            "grid_area": null,
            "grid_auto_columns": null,
            "grid_auto_flow": null,
            "grid_auto_rows": null,
            "grid_column": null,
            "grid_gap": null,
            "grid_row": null,
            "grid_template_areas": null,
            "grid_template_columns": null,
            "grid_template_rows": null,
            "height": null,
            "justify_content": null,
            "justify_items": null,
            "left": null,
            "margin": null,
            "max_height": null,
            "max_width": null,
            "min_height": null,
            "min_width": null,
            "object_fit": null,
            "object_position": null,
            "order": null,
            "overflow": null,
            "overflow_x": null,
            "overflow_y": null,
            "padding": null,
            "right": null,
            "top": null,
            "visibility": null,
            "width": null
          }
        },
        "75ae9bfa4b224e769173ebc6306cbf76": {
          "model_module": "@jupyter-widgets/controls",
          "model_name": "DescriptionStyleModel",
          "model_module_version": "1.5.0",
          "state": {
            "_model_module": "@jupyter-widgets/controls",
            "_model_module_version": "1.5.0",
            "_model_name": "DescriptionStyleModel",
            "_view_count": null,
            "_view_module": "@jupyter-widgets/base",
            "_view_module_version": "1.2.0",
            "_view_name": "StyleView",
            "description_width": ""
          }
        },
        "dfc83bb0d39848b6b7537ecc39f32318": {
          "model_module": "@jupyter-widgets/base",
          "model_name": "LayoutModel",
          "model_module_version": "1.2.0",
          "state": {
            "_model_module": "@jupyter-widgets/base",
            "_model_module_version": "1.2.0",
            "_model_name": "LayoutModel",
            "_view_count": null,
            "_view_module": "@jupyter-widgets/base",
            "_view_module_version": "1.2.0",
            "_view_name": "LayoutView",
            "align_content": null,
            "align_items": null,
            "align_self": null,
            "border": null,
            "bottom": null,
            "display": null,
            "flex": null,
            "flex_flow": null,
            "grid_area": null,
            "grid_auto_columns": null,
            "grid_auto_flow": null,
            "grid_auto_rows": null,
            "grid_column": null,
            "grid_gap": null,
            "grid_row": null,
            "grid_template_areas": null,
            "grid_template_columns": null,
            "grid_template_rows": null,
            "height": null,
            "justify_content": null,
            "justify_items": null,
            "left": null,
            "margin": null,
            "max_height": null,
            "max_width": null,
            "min_height": null,
            "min_width": null,
            "object_fit": null,
            "object_position": null,
            "order": null,
            "overflow": null,
            "overflow_x": null,
            "overflow_y": null,
            "padding": null,
            "right": null,
            "top": null,
            "visibility": null,
            "width": "20px"
          }
        },
        "3adb5ef5d32a4b59a832f2b095ff9503": {
          "model_module": "@jupyter-widgets/controls",
          "model_name": "ProgressStyleModel",
          "model_module_version": "1.5.0",
          "state": {
            "_model_module": "@jupyter-widgets/controls",
            "_model_module_version": "1.5.0",
            "_model_name": "ProgressStyleModel",
            "_view_count": null,
            "_view_module": "@jupyter-widgets/base",
            "_view_module_version": "1.2.0",
            "_view_name": "StyleView",
            "bar_color": null,
            "description_width": ""
          }
        },
        "702dcb82de2144e9838be360c5b25166": {
          "model_module": "@jupyter-widgets/base",
          "model_name": "LayoutModel",
          "model_module_version": "1.2.0",
          "state": {
            "_model_module": "@jupyter-widgets/base",
            "_model_module_version": "1.2.0",
            "_model_name": "LayoutModel",
            "_view_count": null,
            "_view_module": "@jupyter-widgets/base",
            "_view_module_version": "1.2.0",
            "_view_name": "LayoutView",
            "align_content": null,
            "align_items": null,
            "align_self": null,
            "border": null,
            "bottom": null,
            "display": null,
            "flex": null,
            "flex_flow": null,
            "grid_area": null,
            "grid_auto_columns": null,
            "grid_auto_flow": null,
            "grid_auto_rows": null,
            "grid_column": null,
            "grid_gap": null,
            "grid_row": null,
            "grid_template_areas": null,
            "grid_template_columns": null,
            "grid_template_rows": null,
            "height": null,
            "justify_content": null,
            "justify_items": null,
            "left": null,
            "margin": null,
            "max_height": null,
            "max_width": null,
            "min_height": null,
            "min_width": null,
            "object_fit": null,
            "object_position": null,
            "order": null,
            "overflow": null,
            "overflow_x": null,
            "overflow_y": null,
            "padding": null,
            "right": null,
            "top": null,
            "visibility": null,
            "width": null
          }
        },
        "b201b9a399804b04a904ffafa89bfc42": {
          "model_module": "@jupyter-widgets/controls",
          "model_name": "DescriptionStyleModel",
          "model_module_version": "1.5.0",
          "state": {
            "_model_module": "@jupyter-widgets/controls",
            "_model_module_version": "1.5.0",
            "_model_name": "DescriptionStyleModel",
            "_view_count": null,
            "_view_module": "@jupyter-widgets/base",
            "_view_module_version": "1.2.0",
            "_view_name": "StyleView",
            "description_width": ""
          }
        },
        "a628ce83fa104d52aa7a818adb2f7ddf": {
          "model_module": "@jupyter-widgets/controls",
          "model_name": "HBoxModel",
          "model_module_version": "1.5.0",
          "state": {
            "_dom_classes": [],
            "_model_module": "@jupyter-widgets/controls",
            "_model_module_version": "1.5.0",
            "_model_name": "HBoxModel",
            "_view_count": null,
            "_view_module": "@jupyter-widgets/controls",
            "_view_module_version": "1.5.0",
            "_view_name": "HBoxView",
            "box_style": "",
            "children": [
              "IPY_MODEL_be722aa5fd81409dbbac40462af6654f",
              "IPY_MODEL_876281d76a81427bb5e3fffb84181f5c",
              "IPY_MODEL_614fe7f31db846cdb6599dc7faa1c5d7"
            ],
            "layout": "IPY_MODEL_675cca4c6d1d4f98a22798c2f5be5cc3"
          }
        },
        "be722aa5fd81409dbbac40462af6654f": {
          "model_module": "@jupyter-widgets/controls",
          "model_name": "HTMLModel",
          "model_module_version": "1.5.0",
          "state": {
            "_dom_classes": [],
            "_model_module": "@jupyter-widgets/controls",
            "_model_module_version": "1.5.0",
            "_model_name": "HTMLModel",
            "_view_count": null,
            "_view_module": "@jupyter-widgets/controls",
            "_view_module_version": "1.5.0",
            "_view_name": "HTMLView",
            "description": "",
            "description_tooltip": null,
            "layout": "IPY_MODEL_e8a9b0ec40264ec5bd1d5cea754425c8",
            "placeholder": "​",
            "style": "IPY_MODEL_aa062253b1f34b89ac162393c15af85a",
            "value": "special_tokens_map.json: 100%"
          }
        },
        "876281d76a81427bb5e3fffb84181f5c": {
          "model_module": "@jupyter-widgets/controls",
          "model_name": "FloatProgressModel",
          "model_module_version": "1.5.0",
          "state": {
            "_dom_classes": [],
            "_model_module": "@jupyter-widgets/controls",
            "_model_module_version": "1.5.0",
            "_model_name": "FloatProgressModel",
            "_view_count": null,
            "_view_module": "@jupyter-widgets/controls",
            "_view_module_version": "1.5.0",
            "_view_name": "ProgressView",
            "bar_style": "success",
            "description": "",
            "description_tooltip": null,
            "layout": "IPY_MODEL_6a8ffb6aba484590973409f00d9a47b0",
            "max": 694,
            "min": 0,
            "orientation": "horizontal",
            "style": "IPY_MODEL_e4b2f31b771a4c49babc7d41e91eef20",
            "value": 694
          }
        },
        "614fe7f31db846cdb6599dc7faa1c5d7": {
          "model_module": "@jupyter-widgets/controls",
          "model_name": "HTMLModel",
          "model_module_version": "1.5.0",
          "state": {
            "_dom_classes": [],
            "_model_module": "@jupyter-widgets/controls",
            "_model_module_version": "1.5.0",
            "_model_name": "HTMLModel",
            "_view_count": null,
            "_view_module": "@jupyter-widgets/controls",
            "_view_module_version": "1.5.0",
            "_view_name": "HTMLView",
            "description": "",
            "description_tooltip": null,
            "layout": "IPY_MODEL_097da35dcf0240b5bd9f6e7f2b1bfc82",
            "placeholder": "​",
            "style": "IPY_MODEL_1f42adbf7d0044e2ad170317d4b276bd",
            "value": " 694/694 [00:00&lt;00:00, 17.3kB/s]"
          }
        },
        "675cca4c6d1d4f98a22798c2f5be5cc3": {
          "model_module": "@jupyter-widgets/base",
          "model_name": "LayoutModel",
          "model_module_version": "1.2.0",
          "state": {
            "_model_module": "@jupyter-widgets/base",
            "_model_module_version": "1.2.0",
            "_model_name": "LayoutModel",
            "_view_count": null,
            "_view_module": "@jupyter-widgets/base",
            "_view_module_version": "1.2.0",
            "_view_name": "LayoutView",
            "align_content": null,
            "align_items": null,
            "align_self": null,
            "border": null,
            "bottom": null,
            "display": null,
            "flex": null,
            "flex_flow": null,
            "grid_area": null,
            "grid_auto_columns": null,
            "grid_auto_flow": null,
            "grid_auto_rows": null,
            "grid_column": null,
            "grid_gap": null,
            "grid_row": null,
            "grid_template_areas": null,
            "grid_template_columns": null,
            "grid_template_rows": null,
            "height": null,
            "justify_content": null,
            "justify_items": null,
            "left": null,
            "margin": null,
            "max_height": null,
            "max_width": null,
            "min_height": null,
            "min_width": null,
            "object_fit": null,
            "object_position": null,
            "order": null,
            "overflow": null,
            "overflow_x": null,
            "overflow_y": null,
            "padding": null,
            "right": null,
            "top": null,
            "visibility": null,
            "width": null
          }
        },
        "e8a9b0ec40264ec5bd1d5cea754425c8": {
          "model_module": "@jupyter-widgets/base",
          "model_name": "LayoutModel",
          "model_module_version": "1.2.0",
          "state": {
            "_model_module": "@jupyter-widgets/base",
            "_model_module_version": "1.2.0",
            "_model_name": "LayoutModel",
            "_view_count": null,
            "_view_module": "@jupyter-widgets/base",
            "_view_module_version": "1.2.0",
            "_view_name": "LayoutView",
            "align_content": null,
            "align_items": null,
            "align_self": null,
            "border": null,
            "bottom": null,
            "display": null,
            "flex": null,
            "flex_flow": null,
            "grid_area": null,
            "grid_auto_columns": null,
            "grid_auto_flow": null,
            "grid_auto_rows": null,
            "grid_column": null,
            "grid_gap": null,
            "grid_row": null,
            "grid_template_areas": null,
            "grid_template_columns": null,
            "grid_template_rows": null,
            "height": null,
            "justify_content": null,
            "justify_items": null,
            "left": null,
            "margin": null,
            "max_height": null,
            "max_width": null,
            "min_height": null,
            "min_width": null,
            "object_fit": null,
            "object_position": null,
            "order": null,
            "overflow": null,
            "overflow_x": null,
            "overflow_y": null,
            "padding": null,
            "right": null,
            "top": null,
            "visibility": null,
            "width": null
          }
        },
        "aa062253b1f34b89ac162393c15af85a": {
          "model_module": "@jupyter-widgets/controls",
          "model_name": "DescriptionStyleModel",
          "model_module_version": "1.5.0",
          "state": {
            "_model_module": "@jupyter-widgets/controls",
            "_model_module_version": "1.5.0",
            "_model_name": "DescriptionStyleModel",
            "_view_count": null,
            "_view_module": "@jupyter-widgets/base",
            "_view_module_version": "1.2.0",
            "_view_name": "StyleView",
            "description_width": ""
          }
        },
        "6a8ffb6aba484590973409f00d9a47b0": {
          "model_module": "@jupyter-widgets/base",
          "model_name": "LayoutModel",
          "model_module_version": "1.2.0",
          "state": {
            "_model_module": "@jupyter-widgets/base",
            "_model_module_version": "1.2.0",
            "_model_name": "LayoutModel",
            "_view_count": null,
            "_view_module": "@jupyter-widgets/base",
            "_view_module_version": "1.2.0",
            "_view_name": "LayoutView",
            "align_content": null,
            "align_items": null,
            "align_self": null,
            "border": null,
            "bottom": null,
            "display": null,
            "flex": null,
            "flex_flow": null,
            "grid_area": null,
            "grid_auto_columns": null,
            "grid_auto_flow": null,
            "grid_auto_rows": null,
            "grid_column": null,
            "grid_gap": null,
            "grid_row": null,
            "grid_template_areas": null,
            "grid_template_columns": null,
            "grid_template_rows": null,
            "height": null,
            "justify_content": null,
            "justify_items": null,
            "left": null,
            "margin": null,
            "max_height": null,
            "max_width": null,
            "min_height": null,
            "min_width": null,
            "object_fit": null,
            "object_position": null,
            "order": null,
            "overflow": null,
            "overflow_x": null,
            "overflow_y": null,
            "padding": null,
            "right": null,
            "top": null,
            "visibility": null,
            "width": null
          }
        },
        "e4b2f31b771a4c49babc7d41e91eef20": {
          "model_module": "@jupyter-widgets/controls",
          "model_name": "ProgressStyleModel",
          "model_module_version": "1.5.0",
          "state": {
            "_model_module": "@jupyter-widgets/controls",
            "_model_module_version": "1.5.0",
            "_model_name": "ProgressStyleModel",
            "_view_count": null,
            "_view_module": "@jupyter-widgets/base",
            "_view_module_version": "1.2.0",
            "_view_name": "StyleView",
            "bar_color": null,
            "description_width": ""
          }
        },
        "097da35dcf0240b5bd9f6e7f2b1bfc82": {
          "model_module": "@jupyter-widgets/base",
          "model_name": "LayoutModel",
          "model_module_version": "1.2.0",
          "state": {
            "_model_module": "@jupyter-widgets/base",
            "_model_module_version": "1.2.0",
            "_model_name": "LayoutModel",
            "_view_count": null,
            "_view_module": "@jupyter-widgets/base",
            "_view_module_version": "1.2.0",
            "_view_name": "LayoutView",
            "align_content": null,
            "align_items": null,
            "align_self": null,
            "border": null,
            "bottom": null,
            "display": null,
            "flex": null,
            "flex_flow": null,
            "grid_area": null,
            "grid_auto_columns": null,
            "grid_auto_flow": null,
            "grid_auto_rows": null,
            "grid_column": null,
            "grid_gap": null,
            "grid_row": null,
            "grid_template_areas": null,
            "grid_template_columns": null,
            "grid_template_rows": null,
            "height": null,
            "justify_content": null,
            "justify_items": null,
            "left": null,
            "margin": null,
            "max_height": null,
            "max_width": null,
            "min_height": null,
            "min_width": null,
            "object_fit": null,
            "object_position": null,
            "order": null,
            "overflow": null,
            "overflow_x": null,
            "overflow_y": null,
            "padding": null,
            "right": null,
            "top": null,
            "visibility": null,
            "width": null
          }
        },
        "1f42adbf7d0044e2ad170317d4b276bd": {
          "model_module": "@jupyter-widgets/controls",
          "model_name": "DescriptionStyleModel",
          "model_module_version": "1.5.0",
          "state": {
            "_model_module": "@jupyter-widgets/controls",
            "_model_module_version": "1.5.0",
            "_model_name": "DescriptionStyleModel",
            "_view_count": null,
            "_view_module": "@jupyter-widgets/base",
            "_view_module_version": "1.2.0",
            "_view_name": "StyleView",
            "description_width": ""
          }
        },
        "17c376138353429ab10ed774a9e7e972": {
          "model_module": "@jupyter-widgets/controls",
          "model_name": "HBoxModel",
          "model_module_version": "1.5.0",
          "state": {
            "_dom_classes": [],
            "_model_module": "@jupyter-widgets/controls",
            "_model_module_version": "1.5.0",
            "_model_name": "HBoxModel",
            "_view_count": null,
            "_view_module": "@jupyter-widgets/controls",
            "_view_module_version": "1.5.0",
            "_view_name": "HBoxView",
            "box_style": "",
            "children": [
              "IPY_MODEL_0fa5131fefb449808d29aa1ff1869f1a",
              "IPY_MODEL_0a0ca1b230a54514afd665b3b10202aa",
              "IPY_MODEL_5c40478539d14e65b70366d2ab02e07c"
            ],
            "layout": "IPY_MODEL_4f6b17fb66394e6aa02123a661577429"
          }
        },
        "0fa5131fefb449808d29aa1ff1869f1a": {
          "model_module": "@jupyter-widgets/controls",
          "model_name": "HTMLModel",
          "model_module_version": "1.5.0",
          "state": {
            "_dom_classes": [],
            "_model_module": "@jupyter-widgets/controls",
            "_model_module_version": "1.5.0",
            "_model_name": "HTMLModel",
            "_view_count": null,
            "_view_module": "@jupyter-widgets/controls",
            "_view_module_version": "1.5.0",
            "_view_name": "HTMLView",
            "description": "",
            "description_tooltip": null,
            "layout": "IPY_MODEL_55902798e9124923884453c97ad731ba",
            "placeholder": "​",
            "style": "IPY_MODEL_3989e9eb5a30477c9b80828b097ca4e6",
            "value": "config.json: "
          }
        },
        "0a0ca1b230a54514afd665b3b10202aa": {
          "model_module": "@jupyter-widgets/controls",
          "model_name": "FloatProgressModel",
          "model_module_version": "1.5.0",
          "state": {
            "_dom_classes": [],
            "_model_module": "@jupyter-widgets/controls",
            "_model_module_version": "1.5.0",
            "_model_name": "FloatProgressModel",
            "_view_count": null,
            "_view_module": "@jupyter-widgets/controls",
            "_view_module_version": "1.5.0",
            "_view_name": "ProgressView",
            "bar_style": "success",
            "description": "",
            "description_tooltip": null,
            "layout": "IPY_MODEL_b33eea3da1e74b0fbdbfdb5048e12b5a",
            "max": 1,
            "min": 0,
            "orientation": "horizontal",
            "style": "IPY_MODEL_9c28f52be65b43f5bd1b4f36a40c9fbf",
            "value": 1
          }
        },
        "5c40478539d14e65b70366d2ab02e07c": {
          "model_module": "@jupyter-widgets/controls",
          "model_name": "HTMLModel",
          "model_module_version": "1.5.0",
          "state": {
            "_dom_classes": [],
            "_model_module": "@jupyter-widgets/controls",
            "_model_module_version": "1.5.0",
            "_model_name": "HTMLModel",
            "_view_count": null,
            "_view_module": "@jupyter-widgets/controls",
            "_view_module_version": "1.5.0",
            "_view_name": "HTMLView",
            "description": "",
            "description_tooltip": null,
            "layout": "IPY_MODEL_a05a1690b66945ee86d8de4e9bd3071d",
            "placeholder": "​",
            "style": "IPY_MODEL_2dc8d77dcd2340708261401cf5ac6b17",
            "value": " 1.19k/? [00:00&lt;00:00, 24.3kB/s]"
          }
        },
        "4f6b17fb66394e6aa02123a661577429": {
          "model_module": "@jupyter-widgets/base",
          "model_name": "LayoutModel",
          "model_module_version": "1.2.0",
          "state": {
            "_model_module": "@jupyter-widgets/base",
            "_model_module_version": "1.2.0",
            "_model_name": "LayoutModel",
            "_view_count": null,
            "_view_module": "@jupyter-widgets/base",
            "_view_module_version": "1.2.0",
            "_view_name": "LayoutView",
            "align_content": null,
            "align_items": null,
            "align_self": null,
            "border": null,
            "bottom": null,
            "display": null,
            "flex": null,
            "flex_flow": null,
            "grid_area": null,
            "grid_auto_columns": null,
            "grid_auto_flow": null,
            "grid_auto_rows": null,
            "grid_column": null,
            "grid_gap": null,
            "grid_row": null,
            "grid_template_areas": null,
            "grid_template_columns": null,
            "grid_template_rows": null,
            "height": null,
            "justify_content": null,
            "justify_items": null,
            "left": null,
            "margin": null,
            "max_height": null,
            "max_width": null,
            "min_height": null,
            "min_width": null,
            "object_fit": null,
            "object_position": null,
            "order": null,
            "overflow": null,
            "overflow_x": null,
            "overflow_y": null,
            "padding": null,
            "right": null,
            "top": null,
            "visibility": null,
            "width": null
          }
        },
        "55902798e9124923884453c97ad731ba": {
          "model_module": "@jupyter-widgets/base",
          "model_name": "LayoutModel",
          "model_module_version": "1.2.0",
          "state": {
            "_model_module": "@jupyter-widgets/base",
            "_model_module_version": "1.2.0",
            "_model_name": "LayoutModel",
            "_view_count": null,
            "_view_module": "@jupyter-widgets/base",
            "_view_module_version": "1.2.0",
            "_view_name": "LayoutView",
            "align_content": null,
            "align_items": null,
            "align_self": null,
            "border": null,
            "bottom": null,
            "display": null,
            "flex": null,
            "flex_flow": null,
            "grid_area": null,
            "grid_auto_columns": null,
            "grid_auto_flow": null,
            "grid_auto_rows": null,
            "grid_column": null,
            "grid_gap": null,
            "grid_row": null,
            "grid_template_areas": null,
            "grid_template_columns": null,
            "grid_template_rows": null,
            "height": null,
            "justify_content": null,
            "justify_items": null,
            "left": null,
            "margin": null,
            "max_height": null,
            "max_width": null,
            "min_height": null,
            "min_width": null,
            "object_fit": null,
            "object_position": null,
            "order": null,
            "overflow": null,
            "overflow_x": null,
            "overflow_y": null,
            "padding": null,
            "right": null,
            "top": null,
            "visibility": null,
            "width": null
          }
        },
        "3989e9eb5a30477c9b80828b097ca4e6": {
          "model_module": "@jupyter-widgets/controls",
          "model_name": "DescriptionStyleModel",
          "model_module_version": "1.5.0",
          "state": {
            "_model_module": "@jupyter-widgets/controls",
            "_model_module_version": "1.5.0",
            "_model_name": "DescriptionStyleModel",
            "_view_count": null,
            "_view_module": "@jupyter-widgets/base",
            "_view_module_version": "1.2.0",
            "_view_name": "StyleView",
            "description_width": ""
          }
        },
        "b33eea3da1e74b0fbdbfdb5048e12b5a": {
          "model_module": "@jupyter-widgets/base",
          "model_name": "LayoutModel",
          "model_module_version": "1.2.0",
          "state": {
            "_model_module": "@jupyter-widgets/base",
            "_model_module_version": "1.2.0",
            "_model_name": "LayoutModel",
            "_view_count": null,
            "_view_module": "@jupyter-widgets/base",
            "_view_module_version": "1.2.0",
            "_view_name": "LayoutView",
            "align_content": null,
            "align_items": null,
            "align_self": null,
            "border": null,
            "bottom": null,
            "display": null,
            "flex": null,
            "flex_flow": null,
            "grid_area": null,
            "grid_auto_columns": null,
            "grid_auto_flow": null,
            "grid_auto_rows": null,
            "grid_column": null,
            "grid_gap": null,
            "grid_row": null,
            "grid_template_areas": null,
            "grid_template_columns": null,
            "grid_template_rows": null,
            "height": null,
            "justify_content": null,
            "justify_items": null,
            "left": null,
            "margin": null,
            "max_height": null,
            "max_width": null,
            "min_height": null,
            "min_width": null,
            "object_fit": null,
            "object_position": null,
            "order": null,
            "overflow": null,
            "overflow_x": null,
            "overflow_y": null,
            "padding": null,
            "right": null,
            "top": null,
            "visibility": null,
            "width": "20px"
          }
        },
        "9c28f52be65b43f5bd1b4f36a40c9fbf": {
          "model_module": "@jupyter-widgets/controls",
          "model_name": "ProgressStyleModel",
          "model_module_version": "1.5.0",
          "state": {
            "_model_module": "@jupyter-widgets/controls",
            "_model_module_version": "1.5.0",
            "_model_name": "ProgressStyleModel",
            "_view_count": null,
            "_view_module": "@jupyter-widgets/base",
            "_view_module_version": "1.2.0",
            "_view_name": "StyleView",
            "bar_color": null,
            "description_width": ""
          }
        },
        "a05a1690b66945ee86d8de4e9bd3071d": {
          "model_module": "@jupyter-widgets/base",
          "model_name": "LayoutModel",
          "model_module_version": "1.2.0",
          "state": {
            "_model_module": "@jupyter-widgets/base",
            "_model_module_version": "1.2.0",
            "_model_name": "LayoutModel",
            "_view_count": null,
            "_view_module": "@jupyter-widgets/base",
            "_view_module_version": "1.2.0",
            "_view_name": "LayoutView",
            "align_content": null,
            "align_items": null,
            "align_self": null,
            "border": null,
            "bottom": null,
            "display": null,
            "flex": null,
            "flex_flow": null,
            "grid_area": null,
            "grid_auto_columns": null,
            "grid_auto_flow": null,
            "grid_auto_rows": null,
            "grid_column": null,
            "grid_gap": null,
            "grid_row": null,
            "grid_template_areas": null,
            "grid_template_columns": null,
            "grid_template_rows": null,
            "height": null,
            "justify_content": null,
            "justify_items": null,
            "left": null,
            "margin": null,
            "max_height": null,
            "max_width": null,
            "min_height": null,
            "min_width": null,
            "object_fit": null,
            "object_position": null,
            "order": null,
            "overflow": null,
            "overflow_x": null,
            "overflow_y": null,
            "padding": null,
            "right": null,
            "top": null,
            "visibility": null,
            "width": null
          }
        },
        "2dc8d77dcd2340708261401cf5ac6b17": {
          "model_module": "@jupyter-widgets/controls",
          "model_name": "DescriptionStyleModel",
          "model_module_version": "1.5.0",
          "state": {
            "_model_module": "@jupyter-widgets/controls",
            "_model_module_version": "1.5.0",
            "_model_name": "DescriptionStyleModel",
            "_view_count": null,
            "_view_module": "@jupyter-widgets/base",
            "_view_module_version": "1.2.0",
            "_view_name": "StyleView",
            "description_width": ""
          }
        },
        "fd3c917f21b243febda7bb269c07aba1": {
          "model_module": "@jupyter-widgets/controls",
          "model_name": "HBoxModel",
          "model_module_version": "1.5.0",
          "state": {
            "_dom_classes": [],
            "_model_module": "@jupyter-widgets/controls",
            "_model_module_version": "1.5.0",
            "_model_name": "HBoxModel",
            "_view_count": null,
            "_view_module": "@jupyter-widgets/controls",
            "_view_module_version": "1.5.0",
            "_view_name": "HBoxView",
            "box_style": "",
            "children": [
              "IPY_MODEL_17184e15c3814c4eb33103f1c914482b",
              "IPY_MODEL_9ecc22fe807748a7b07b2d7544977366",
              "IPY_MODEL_8e86299ae4394980b7c07885d2f83367"
            ],
            "layout": "IPY_MODEL_72ae4a6f586a4e81a2a1bb28c0a895d4"
          }
        },
        "17184e15c3814c4eb33103f1c914482b": {
          "model_module": "@jupyter-widgets/controls",
          "model_name": "HTMLModel",
          "model_module_version": "1.5.0",
          "state": {
            "_dom_classes": [],
            "_model_module": "@jupyter-widgets/controls",
            "_model_module_version": "1.5.0",
            "_model_name": "HTMLModel",
            "_view_count": null,
            "_view_module": "@jupyter-widgets/controls",
            "_view_module_version": "1.5.0",
            "_view_name": "HTMLView",
            "description": "",
            "description_tooltip": null,
            "layout": "IPY_MODEL_02a82e52ac4445faa7a4cfe0031cd44d",
            "placeholder": "​",
            "style": "IPY_MODEL_346a5e74ec4847f58544e6afd46dd86f",
            "value": "model.safetensors: 100%"
          }
        },
        "9ecc22fe807748a7b07b2d7544977366": {
          "model_module": "@jupyter-widgets/controls",
          "model_name": "FloatProgressModel",
          "model_module_version": "1.5.0",
          "state": {
            "_dom_classes": [],
            "_model_module": "@jupyter-widgets/controls",
            "_model_module_version": "1.5.0",
            "_model_name": "FloatProgressModel",
            "_view_count": null,
            "_view_module": "@jupyter-widgets/controls",
            "_view_module_version": "1.5.0",
            "_view_name": "ProgressView",
            "bar_style": "success",
            "description": "",
            "description_tooltip": null,
            "layout": "IPY_MODEL_64f053b6ce1c424680a4f606975f11c9",
            "max": 598635032,
            "min": 0,
            "orientation": "horizontal",
            "style": "IPY_MODEL_8f7a82fd6f534cd991a704f57696cfe1",
            "value": 598635032
          }
        },
        "8e86299ae4394980b7c07885d2f83367": {
          "model_module": "@jupyter-widgets/controls",
          "model_name": "HTMLModel",
          "model_module_version": "1.5.0",
          "state": {
            "_dom_classes": [],
            "_model_module": "@jupyter-widgets/controls",
            "_model_module_version": "1.5.0",
            "_model_name": "HTMLModel",
            "_view_count": null,
            "_view_module": "@jupyter-widgets/controls",
            "_view_module_version": "1.5.0",
            "_view_name": "HTMLView",
            "description": "",
            "description_tooltip": null,
            "layout": "IPY_MODEL_b548b1826f47433faacafad59de6f240",
            "placeholder": "​",
            "style": "IPY_MODEL_34fb2035167e4fc6bdd01eba893c9398",
            "value": " 599M/599M [00:09&lt;00:00, 71.1MB/s]"
          }
        },
        "72ae4a6f586a4e81a2a1bb28c0a895d4": {
          "model_module": "@jupyter-widgets/base",
          "model_name": "LayoutModel",
          "model_module_version": "1.2.0",
          "state": {
            "_model_module": "@jupyter-widgets/base",
            "_model_module_version": "1.2.0",
            "_model_name": "LayoutModel",
            "_view_count": null,
            "_view_module": "@jupyter-widgets/base",
            "_view_module_version": "1.2.0",
            "_view_name": "LayoutView",
            "align_content": null,
            "align_items": null,
            "align_self": null,
            "border": null,
            "bottom": null,
            "display": null,
            "flex": null,
            "flex_flow": null,
            "grid_area": null,
            "grid_auto_columns": null,
            "grid_auto_flow": null,
            "grid_auto_rows": null,
            "grid_column": null,
            "grid_gap": null,
            "grid_row": null,
            "grid_template_areas": null,
            "grid_template_columns": null,
            "grid_template_rows": null,
            "height": null,
            "justify_content": null,
            "justify_items": null,
            "left": null,
            "margin": null,
            "max_height": null,
            "max_width": null,
            "min_height": null,
            "min_width": null,
            "object_fit": null,
            "object_position": null,
            "order": null,
            "overflow": null,
            "overflow_x": null,
            "overflow_y": null,
            "padding": null,
            "right": null,
            "top": null,
            "visibility": null,
            "width": null
          }
        },
        "02a82e52ac4445faa7a4cfe0031cd44d": {
          "model_module": "@jupyter-widgets/base",
          "model_name": "LayoutModel",
          "model_module_version": "1.2.0",
          "state": {
            "_model_module": "@jupyter-widgets/base",
            "_model_module_version": "1.2.0",
            "_model_name": "LayoutModel",
            "_view_count": null,
            "_view_module": "@jupyter-widgets/base",
            "_view_module_version": "1.2.0",
            "_view_name": "LayoutView",
            "align_content": null,
            "align_items": null,
            "align_self": null,
            "border": null,
            "bottom": null,
            "display": null,
            "flex": null,
            "flex_flow": null,
            "grid_area": null,
            "grid_auto_columns": null,
            "grid_auto_flow": null,
            "grid_auto_rows": null,
            "grid_column": null,
            "grid_gap": null,
            "grid_row": null,
            "grid_template_areas": null,
            "grid_template_columns": null,
            "grid_template_rows": null,
            "height": null,
            "justify_content": null,
            "justify_items": null,
            "left": null,
            "margin": null,
            "max_height": null,
            "max_width": null,
            "min_height": null,
            "min_width": null,
            "object_fit": null,
            "object_position": null,
            "order": null,
            "overflow": null,
            "overflow_x": null,
            "overflow_y": null,
            "padding": null,
            "right": null,
            "top": null,
            "visibility": null,
            "width": null
          }
        },
        "346a5e74ec4847f58544e6afd46dd86f": {
          "model_module": "@jupyter-widgets/controls",
          "model_name": "DescriptionStyleModel",
          "model_module_version": "1.5.0",
          "state": {
            "_model_module": "@jupyter-widgets/controls",
            "_model_module_version": "1.5.0",
            "_model_name": "DescriptionStyleModel",
            "_view_count": null,
            "_view_module": "@jupyter-widgets/base",
            "_view_module_version": "1.2.0",
            "_view_name": "StyleView",
            "description_width": ""
          }
        },
        "64f053b6ce1c424680a4f606975f11c9": {
          "model_module": "@jupyter-widgets/base",
          "model_name": "LayoutModel",
          "model_module_version": "1.2.0",
          "state": {
            "_model_module": "@jupyter-widgets/base",
            "_model_module_version": "1.2.0",
            "_model_name": "LayoutModel",
            "_view_count": null,
            "_view_module": "@jupyter-widgets/base",
            "_view_module_version": "1.2.0",
            "_view_name": "LayoutView",
            "align_content": null,
            "align_items": null,
            "align_self": null,
            "border": null,
            "bottom": null,
            "display": null,
            "flex": null,
            "flex_flow": null,
            "grid_area": null,
            "grid_auto_columns": null,
            "grid_auto_flow": null,
            "grid_auto_rows": null,
            "grid_column": null,
            "grid_gap": null,
            "grid_row": null,
            "grid_template_areas": null,
            "grid_template_columns": null,
            "grid_template_rows": null,
            "height": null,
            "justify_content": null,
            "justify_items": null,
            "left": null,
            "margin": null,
            "max_height": null,
            "max_width": null,
            "min_height": null,
            "min_width": null,
            "object_fit": null,
            "object_position": null,
            "order": null,
            "overflow": null,
            "overflow_x": null,
            "overflow_y": null,
            "padding": null,
            "right": null,
            "top": null,
            "visibility": null,
            "width": null
          }
        },
        "8f7a82fd6f534cd991a704f57696cfe1": {
          "model_module": "@jupyter-widgets/controls",
          "model_name": "ProgressStyleModel",
          "model_module_version": "1.5.0",
          "state": {
            "_model_module": "@jupyter-widgets/controls",
            "_model_module_version": "1.5.0",
            "_model_name": "ProgressStyleModel",
            "_view_count": null,
            "_view_module": "@jupyter-widgets/base",
            "_view_module_version": "1.2.0",
            "_view_name": "StyleView",
            "bar_color": null,
            "description_width": ""
          }
        },
        "b548b1826f47433faacafad59de6f240": {
          "model_module": "@jupyter-widgets/base",
          "model_name": "LayoutModel",
          "model_module_version": "1.2.0",
          "state": {
            "_model_module": "@jupyter-widgets/base",
            "_model_module_version": "1.2.0",
            "_model_name": "LayoutModel",
            "_view_count": null,
            "_view_module": "@jupyter-widgets/base",
            "_view_module_version": "1.2.0",
            "_view_name": "LayoutView",
            "align_content": null,
            "align_items": null,
            "align_self": null,
            "border": null,
            "bottom": null,
            "display": null,
            "flex": null,
            "flex_flow": null,
            "grid_area": null,
            "grid_auto_columns": null,
            "grid_auto_flow": null,
            "grid_auto_rows": null,
            "grid_column": null,
            "grid_gap": null,
            "grid_row": null,
            "grid_template_areas": null,
            "grid_template_columns": null,
            "grid_template_rows": null,
            "height": null,
            "justify_content": null,
            "justify_items": null,
            "left": null,
            "margin": null,
            "max_height": null,
            "max_width": null,
            "min_height": null,
            "min_width": null,
            "object_fit": null,
            "object_position": null,
            "order": null,
            "overflow": null,
            "overflow_x": null,
            "overflow_y": null,
            "padding": null,
            "right": null,
            "top": null,
            "visibility": null,
            "width": null
          }
        },
        "34fb2035167e4fc6bdd01eba893c9398": {
          "model_module": "@jupyter-widgets/controls",
          "model_name": "DescriptionStyleModel",
          "model_module_version": "1.5.0",
          "state": {
            "_model_module": "@jupyter-widgets/controls",
            "_model_module_version": "1.5.0",
            "_model_name": "DescriptionStyleModel",
            "_view_count": null,
            "_view_module": "@jupyter-widgets/base",
            "_view_module_version": "1.2.0",
            "_view_name": "StyleView",
            "description_width": ""
          }
        },
        "9462c3f8a0a4488a8c3ddc456782ad65": {
          "model_module": "@jupyter-widgets/controls",
          "model_name": "HBoxModel",
          "model_module_version": "1.5.0",
          "state": {
            "_dom_classes": [],
            "_model_module": "@jupyter-widgets/controls",
            "_model_module_version": "1.5.0",
            "_model_name": "HBoxModel",
            "_view_count": null,
            "_view_module": "@jupyter-widgets/controls",
            "_view_module_version": "1.5.0",
            "_view_name": "HBoxView",
            "box_style": "",
            "children": [
              "IPY_MODEL_039dd9db98614e94bc8548dc336be1bb",
              "IPY_MODEL_0692126c252644e5b7c74e4c4f762eb5",
              "IPY_MODEL_7a77fd6a781947bf9bebb1199824f46d"
            ],
            "layout": "IPY_MODEL_db6bf50254364d9582de540c71b1e4e9"
          }
        },
        "039dd9db98614e94bc8548dc336be1bb": {
          "model_module": "@jupyter-widgets/controls",
          "model_name": "HTMLModel",
          "model_module_version": "1.5.0",
          "state": {
            "_dom_classes": [],
            "_model_module": "@jupyter-widgets/controls",
            "_model_module_version": "1.5.0",
            "_model_name": "HTMLModel",
            "_view_count": null,
            "_view_module": "@jupyter-widgets/controls",
            "_view_module_version": "1.5.0",
            "_view_name": "HTMLView",
            "description": "",
            "description_tooltip": null,
            "layout": "IPY_MODEL_de29382959d24b2a9a2dc6dc1b58e78b",
            "placeholder": "​",
            "style": "IPY_MODEL_5b7d9957e5ec47ff959d10705119bd3c",
            "value": "README.md: "
          }
        },
        "0692126c252644e5b7c74e4c4f762eb5": {
          "model_module": "@jupyter-widgets/controls",
          "model_name": "FloatProgressModel",
          "model_module_version": "1.5.0",
          "state": {
            "_dom_classes": [],
            "_model_module": "@jupyter-widgets/controls",
            "_model_module_version": "1.5.0",
            "_model_name": "FloatProgressModel",
            "_view_count": null,
            "_view_module": "@jupyter-widgets/controls",
            "_view_module_version": "1.5.0",
            "_view_name": "ProgressView",
            "bar_style": "success",
            "description": "",
            "description_tooltip": null,
            "layout": "IPY_MODEL_484cb690ad1040539aec534d624d891f",
            "max": 1,
            "min": 0,
            "orientation": "horizontal",
            "style": "IPY_MODEL_ac8bfbe299144cf88c1427ae5d934ba9",
            "value": 1
          }
        },
        "7a77fd6a781947bf9bebb1199824f46d": {
          "model_module": "@jupyter-widgets/controls",
          "model_name": "HTMLModel",
          "model_module_version": "1.5.0",
          "state": {
            "_dom_classes": [],
            "_model_module": "@jupyter-widgets/controls",
            "_model_module_version": "1.5.0",
            "_model_name": "HTMLModel",
            "_view_count": null,
            "_view_module": "@jupyter-widgets/controls",
            "_view_module_version": "1.5.0",
            "_view_name": "HTMLView",
            "description": "",
            "description_tooltip": null,
            "layout": "IPY_MODEL_54008932532f4d6688f1b26468c68bb6",
            "placeholder": "​",
            "style": "IPY_MODEL_1b67689a68f54df2a52acb2f517caad3",
            "value": " 236k/? [00:00&lt;00:00, 3.64MB/s]"
          }
        },
        "db6bf50254364d9582de540c71b1e4e9": {
          "model_module": "@jupyter-widgets/base",
          "model_name": "LayoutModel",
          "model_module_version": "1.2.0",
          "state": {
            "_model_module": "@jupyter-widgets/base",
            "_model_module_version": "1.2.0",
            "_model_name": "LayoutModel",
            "_view_count": null,
            "_view_module": "@jupyter-widgets/base",
            "_view_module_version": "1.2.0",
            "_view_name": "LayoutView",
            "align_content": null,
            "align_items": null,
            "align_self": null,
            "border": null,
            "bottom": null,
            "display": null,
            "flex": null,
            "flex_flow": null,
            "grid_area": null,
            "grid_auto_columns": null,
            "grid_auto_flow": null,
            "grid_auto_rows": null,
            "grid_column": null,
            "grid_gap": null,
            "grid_row": null,
            "grid_template_areas": null,
            "grid_template_columns": null,
            "grid_template_rows": null,
            "height": null,
            "justify_content": null,
            "justify_items": null,
            "left": null,
            "margin": null,
            "max_height": null,
            "max_width": null,
            "min_height": null,
            "min_width": null,
            "object_fit": null,
            "object_position": null,
            "order": null,
            "overflow": null,
            "overflow_x": null,
            "overflow_y": null,
            "padding": null,
            "right": null,
            "top": null,
            "visibility": null,
            "width": null
          }
        },
        "de29382959d24b2a9a2dc6dc1b58e78b": {
          "model_module": "@jupyter-widgets/base",
          "model_name": "LayoutModel",
          "model_module_version": "1.2.0",
          "state": {
            "_model_module": "@jupyter-widgets/base",
            "_model_module_version": "1.2.0",
            "_model_name": "LayoutModel",
            "_view_count": null,
            "_view_module": "@jupyter-widgets/base",
            "_view_module_version": "1.2.0",
            "_view_name": "LayoutView",
            "align_content": null,
            "align_items": null,
            "align_self": null,
            "border": null,
            "bottom": null,
            "display": null,
            "flex": null,
            "flex_flow": null,
            "grid_area": null,
            "grid_auto_columns": null,
            "grid_auto_flow": null,
            "grid_auto_rows": null,
            "grid_column": null,
            "grid_gap": null,
            "grid_row": null,
            "grid_template_areas": null,
            "grid_template_columns": null,
            "grid_template_rows": null,
            "height": null,
            "justify_content": null,
            "justify_items": null,
            "left": null,
            "margin": null,
            "max_height": null,
            "max_width": null,
            "min_height": null,
            "min_width": null,
            "object_fit": null,
            "object_position": null,
            "order": null,
            "overflow": null,
            "overflow_x": null,
            "overflow_y": null,
            "padding": null,
            "right": null,
            "top": null,
            "visibility": null,
            "width": null
          }
        },
        "5b7d9957e5ec47ff959d10705119bd3c": {
          "model_module": "@jupyter-widgets/controls",
          "model_name": "DescriptionStyleModel",
          "model_module_version": "1.5.0",
          "state": {
            "_model_module": "@jupyter-widgets/controls",
            "_model_module_version": "1.5.0",
            "_model_name": "DescriptionStyleModel",
            "_view_count": null,
            "_view_module": "@jupyter-widgets/base",
            "_view_module_version": "1.2.0",
            "_view_name": "StyleView",
            "description_width": ""
          }
        },
        "484cb690ad1040539aec534d624d891f": {
          "model_module": "@jupyter-widgets/base",
          "model_name": "LayoutModel",
          "model_module_version": "1.2.0",
          "state": {
            "_model_module": "@jupyter-widgets/base",
            "_model_module_version": "1.2.0",
            "_model_name": "LayoutModel",
            "_view_count": null,
            "_view_module": "@jupyter-widgets/base",
            "_view_module_version": "1.2.0",
            "_view_name": "LayoutView",
            "align_content": null,
            "align_items": null,
            "align_self": null,
            "border": null,
            "bottom": null,
            "display": null,
            "flex": null,
            "flex_flow": null,
            "grid_area": null,
            "grid_auto_columns": null,
            "grid_auto_flow": null,
            "grid_auto_rows": null,
            "grid_column": null,
            "grid_gap": null,
            "grid_row": null,
            "grid_template_areas": null,
            "grid_template_columns": null,
            "grid_template_rows": null,
            "height": null,
            "justify_content": null,
            "justify_items": null,
            "left": null,
            "margin": null,
            "max_height": null,
            "max_width": null,
            "min_height": null,
            "min_width": null,
            "object_fit": null,
            "object_position": null,
            "order": null,
            "overflow": null,
            "overflow_x": null,
            "overflow_y": null,
            "padding": null,
            "right": null,
            "top": null,
            "visibility": null,
            "width": "20px"
          }
        },
        "ac8bfbe299144cf88c1427ae5d934ba9": {
          "model_module": "@jupyter-widgets/controls",
          "model_name": "ProgressStyleModel",
          "model_module_version": "1.5.0",
          "state": {
            "_model_module": "@jupyter-widgets/controls",
            "_model_module_version": "1.5.0",
            "_model_name": "ProgressStyleModel",
            "_view_count": null,
            "_view_module": "@jupyter-widgets/base",
            "_view_module_version": "1.2.0",
            "_view_name": "StyleView",
            "bar_color": null,
            "description_width": ""
          }
        },
        "54008932532f4d6688f1b26468c68bb6": {
          "model_module": "@jupyter-widgets/base",
          "model_name": "LayoutModel",
          "model_module_version": "1.2.0",
          "state": {
            "_model_module": "@jupyter-widgets/base",
            "_model_module_version": "1.2.0",
            "_model_name": "LayoutModel",
            "_view_count": null,
            "_view_module": "@jupyter-widgets/base",
            "_view_module_version": "1.2.0",
            "_view_name": "LayoutView",
            "align_content": null,
            "align_items": null,
            "align_self": null,
            "border": null,
            "bottom": null,
            "display": null,
            "flex": null,
            "flex_flow": null,
            "grid_area": null,
            "grid_auto_columns": null,
            "grid_auto_flow": null,
            "grid_auto_rows": null,
            "grid_column": null,
            "grid_gap": null,
            "grid_row": null,
            "grid_template_areas": null,
            "grid_template_columns": null,
            "grid_template_rows": null,
            "height": null,
            "justify_content": null,
            "justify_items": null,
            "left": null,
            "margin": null,
            "max_height": null,
            "max_width": null,
            "min_height": null,
            "min_width": null,
            "object_fit": null,
            "object_position": null,
            "order": null,
            "overflow": null,
            "overflow_x": null,
            "overflow_y": null,
            "padding": null,
            "right": null,
            "top": null,
            "visibility": null,
            "width": null
          }
        },
        "1b67689a68f54df2a52acb2f517caad3": {
          "model_module": "@jupyter-widgets/controls",
          "model_name": "DescriptionStyleModel",
          "model_module_version": "1.5.0",
          "state": {
            "_model_module": "@jupyter-widgets/controls",
            "_model_module_version": "1.5.0",
            "_model_name": "DescriptionStyleModel",
            "_view_count": null,
            "_view_module": "@jupyter-widgets/base",
            "_view_module_version": "1.2.0",
            "_view_name": "StyleView",
            "description_width": ""
          }
        },
        "214850a9540d4203ba863e5b1005bff0": {
          "model_module": "@jupyter-widgets/controls",
          "model_name": "HBoxModel",
          "model_module_version": "1.5.0",
          "state": {
            "_dom_classes": [],
            "_model_module": "@jupyter-widgets/controls",
            "_model_module_version": "1.5.0",
            "_model_name": "HBoxModel",
            "_view_count": null,
            "_view_module": "@jupyter-widgets/controls",
            "_view_module_version": "1.5.0",
            "_view_name": "HBoxView",
            "box_style": "",
            "children": [
              "IPY_MODEL_df3be65a12594ac285c4cf822e613211",
              "IPY_MODEL_446feaf156dd45379f66fa9d75906a9f",
              "IPY_MODEL_65fe9bcb3fab44aa8bf9d58a44e7af69"
            ],
            "layout": "IPY_MODEL_cb99ed9aa531464fa9bf614424a8f15d"
          }
        },
        "df3be65a12594ac285c4cf822e613211": {
          "model_module": "@jupyter-widgets/controls",
          "model_name": "HTMLModel",
          "model_module_version": "1.5.0",
          "state": {
            "_dom_classes": [],
            "_model_module": "@jupyter-widgets/controls",
            "_model_module_version": "1.5.0",
            "_model_name": "HTMLModel",
            "_view_count": null,
            "_view_module": "@jupyter-widgets/controls",
            "_view_module_version": "1.5.0",
            "_view_name": "HTMLView",
            "description": "",
            "description_tooltip": null,
            "layout": "IPY_MODEL_383d73d212ba4e09951405f503494ea6",
            "placeholder": "​",
            "style": "IPY_MODEL_a728508f21fa4b7bb1c28fa8c8ceb24a",
            "value": "en-triplet/train-00000-of-00001.parquet: 100%"
          }
        },
        "446feaf156dd45379f66fa9d75906a9f": {
          "model_module": "@jupyter-widgets/controls",
          "model_name": "FloatProgressModel",
          "model_module_version": "1.5.0",
          "state": {
            "_dom_classes": [],
            "_model_module": "@jupyter-widgets/controls",
            "_model_module_version": "1.5.0",
            "_model_name": "FloatProgressModel",
            "_view_count": null,
            "_view_module": "@jupyter-widgets/controls",
            "_view_module_version": "1.5.0",
            "_view_name": "ProgressView",
            "bar_style": "success",
            "description": "",
            "description_tooltip": null,
            "layout": "IPY_MODEL_3acb110fe7b44899b739be1a034c3e53",
            "max": 210599567,
            "min": 0,
            "orientation": "horizontal",
            "style": "IPY_MODEL_63e9f76b8e78449f93fc74ff59d988b6",
            "value": 210599567
          }
        },
        "65fe9bcb3fab44aa8bf9d58a44e7af69": {
          "model_module": "@jupyter-widgets/controls",
          "model_name": "HTMLModel",
          "model_module_version": "1.5.0",
          "state": {
            "_dom_classes": [],
            "_model_module": "@jupyter-widgets/controls",
            "_model_module_version": "1.5.0",
            "_model_name": "HTMLModel",
            "_view_count": null,
            "_view_module": "@jupyter-widgets/controls",
            "_view_module_version": "1.5.0",
            "_view_name": "HTMLView",
            "description": "",
            "description_tooltip": null,
            "layout": "IPY_MODEL_82df5b2011c348baab32fd750937551e",
            "placeholder": "​",
            "style": "IPY_MODEL_852447aeca22459b95043593a76c0320",
            "value": " 211M/211M [00:02&lt;00:00, 104MB/s]"
          }
        },
        "cb99ed9aa531464fa9bf614424a8f15d": {
          "model_module": "@jupyter-widgets/base",
          "model_name": "LayoutModel",
          "model_module_version": "1.2.0",
          "state": {
            "_model_module": "@jupyter-widgets/base",
            "_model_module_version": "1.2.0",
            "_model_name": "LayoutModel",
            "_view_count": null,
            "_view_module": "@jupyter-widgets/base",
            "_view_module_version": "1.2.0",
            "_view_name": "LayoutView",
            "align_content": null,
            "align_items": null,
            "align_self": null,
            "border": null,
            "bottom": null,
            "display": null,
            "flex": null,
            "flex_flow": null,
            "grid_area": null,
            "grid_auto_columns": null,
            "grid_auto_flow": null,
            "grid_auto_rows": null,
            "grid_column": null,
            "grid_gap": null,
            "grid_row": null,
            "grid_template_areas": null,
            "grid_template_columns": null,
            "grid_template_rows": null,
            "height": null,
            "justify_content": null,
            "justify_items": null,
            "left": null,
            "margin": null,
            "max_height": null,
            "max_width": null,
            "min_height": null,
            "min_width": null,
            "object_fit": null,
            "object_position": null,
            "order": null,
            "overflow": null,
            "overflow_x": null,
            "overflow_y": null,
            "padding": null,
            "right": null,
            "top": null,
            "visibility": null,
            "width": null
          }
        },
        "383d73d212ba4e09951405f503494ea6": {
          "model_module": "@jupyter-widgets/base",
          "model_name": "LayoutModel",
          "model_module_version": "1.2.0",
          "state": {
            "_model_module": "@jupyter-widgets/base",
            "_model_module_version": "1.2.0",
            "_model_name": "LayoutModel",
            "_view_count": null,
            "_view_module": "@jupyter-widgets/base",
            "_view_module_version": "1.2.0",
            "_view_name": "LayoutView",
            "align_content": null,
            "align_items": null,
            "align_self": null,
            "border": null,
            "bottom": null,
            "display": null,
            "flex": null,
            "flex_flow": null,
            "grid_area": null,
            "grid_auto_columns": null,
            "grid_auto_flow": null,
            "grid_auto_rows": null,
            "grid_column": null,
            "grid_gap": null,
            "grid_row": null,
            "grid_template_areas": null,
            "grid_template_columns": null,
            "grid_template_rows": null,
            "height": null,
            "justify_content": null,
            "justify_items": null,
            "left": null,
            "margin": null,
            "max_height": null,
            "max_width": null,
            "min_height": null,
            "min_width": null,
            "object_fit": null,
            "object_position": null,
            "order": null,
            "overflow": null,
            "overflow_x": null,
            "overflow_y": null,
            "padding": null,
            "right": null,
            "top": null,
            "visibility": null,
            "width": null
          }
        },
        "a728508f21fa4b7bb1c28fa8c8ceb24a": {
          "model_module": "@jupyter-widgets/controls",
          "model_name": "DescriptionStyleModel",
          "model_module_version": "1.5.0",
          "state": {
            "_model_module": "@jupyter-widgets/controls",
            "_model_module_version": "1.5.0",
            "_model_name": "DescriptionStyleModel",
            "_view_count": null,
            "_view_module": "@jupyter-widgets/base",
            "_view_module_version": "1.2.0",
            "_view_name": "StyleView",
            "description_width": ""
          }
        },
        "3acb110fe7b44899b739be1a034c3e53": {
          "model_module": "@jupyter-widgets/base",
          "model_name": "LayoutModel",
          "model_module_version": "1.2.0",
          "state": {
            "_model_module": "@jupyter-widgets/base",
            "_model_module_version": "1.2.0",
            "_model_name": "LayoutModel",
            "_view_count": null,
            "_view_module": "@jupyter-widgets/base",
            "_view_module_version": "1.2.0",
            "_view_name": "LayoutView",
            "align_content": null,
            "align_items": null,
            "align_self": null,
            "border": null,
            "bottom": null,
            "display": null,
            "flex": null,
            "flex_flow": null,
            "grid_area": null,
            "grid_auto_columns": null,
            "grid_auto_flow": null,
            "grid_auto_rows": null,
            "grid_column": null,
            "grid_gap": null,
            "grid_row": null,
            "grid_template_areas": null,
            "grid_template_columns": null,
            "grid_template_rows": null,
            "height": null,
            "justify_content": null,
            "justify_items": null,
            "left": null,
            "margin": null,
            "max_height": null,
            "max_width": null,
            "min_height": null,
            "min_width": null,
            "object_fit": null,
            "object_position": null,
            "order": null,
            "overflow": null,
            "overflow_x": null,
            "overflow_y": null,
            "padding": null,
            "right": null,
            "top": null,
            "visibility": null,
            "width": null
          }
        },
        "63e9f76b8e78449f93fc74ff59d988b6": {
          "model_module": "@jupyter-widgets/controls",
          "model_name": "ProgressStyleModel",
          "model_module_version": "1.5.0",
          "state": {
            "_model_module": "@jupyter-widgets/controls",
            "_model_module_version": "1.5.0",
            "_model_name": "ProgressStyleModel",
            "_view_count": null,
            "_view_module": "@jupyter-widgets/base",
            "_view_module_version": "1.2.0",
            "_view_name": "StyleView",
            "bar_color": null,
            "description_width": ""
          }
        },
        "82df5b2011c348baab32fd750937551e": {
          "model_module": "@jupyter-widgets/base",
          "model_name": "LayoutModel",
          "model_module_version": "1.2.0",
          "state": {
            "_model_module": "@jupyter-widgets/base",
            "_model_module_version": "1.2.0",
            "_model_name": "LayoutModel",
            "_view_count": null,
            "_view_module": "@jupyter-widgets/base",
            "_view_module_version": "1.2.0",
            "_view_name": "LayoutView",
            "align_content": null,
            "align_items": null,
            "align_self": null,
            "border": null,
            "bottom": null,
            "display": null,
            "flex": null,
            "flex_flow": null,
            "grid_area": null,
            "grid_auto_columns": null,
            "grid_auto_flow": null,
            "grid_auto_rows": null,
            "grid_column": null,
            "grid_gap": null,
            "grid_row": null,
            "grid_template_areas": null,
            "grid_template_columns": null,
            "grid_template_rows": null,
            "height": null,
            "justify_content": null,
            "justify_items": null,
            "left": null,
            "margin": null,
            "max_height": null,
            "max_width": null,
            "min_height": null,
            "min_width": null,
            "object_fit": null,
            "object_position": null,
            "order": null,
            "overflow": null,
            "overflow_x": null,
            "overflow_y": null,
            "padding": null,
            "right": null,
            "top": null,
            "visibility": null,
            "width": null
          }
        },
        "852447aeca22459b95043593a76c0320": {
          "model_module": "@jupyter-widgets/controls",
          "model_name": "DescriptionStyleModel",
          "model_module_version": "1.5.0",
          "state": {
            "_model_module": "@jupyter-widgets/controls",
            "_model_module_version": "1.5.0",
            "_model_name": "DescriptionStyleModel",
            "_view_count": null,
            "_view_module": "@jupyter-widgets/base",
            "_view_module_version": "1.2.0",
            "_view_name": "StyleView",
            "description_width": ""
          }
        },
        "c044e065801b470e9653f4247518fb4a": {
          "model_module": "@jupyter-widgets/controls",
          "model_name": "HBoxModel",
          "model_module_version": "1.5.0",
          "state": {
            "_dom_classes": [],
            "_model_module": "@jupyter-widgets/controls",
            "_model_module_version": "1.5.0",
            "_model_name": "HBoxModel",
            "_view_count": null,
            "_view_module": "@jupyter-widgets/controls",
            "_view_module_version": "1.5.0",
            "_view_name": "HBoxView",
            "box_style": "",
            "children": [
              "IPY_MODEL_2d0d7387b9a04728bf06e7ce4d19d30d",
              "IPY_MODEL_c4cf4ebfc4c3458785df28e2092b678d",
              "IPY_MODEL_7e21dfbaa5894900b5504110dab5c951"
            ],
            "layout": "IPY_MODEL_378aeb76adb74d25b614de017d2208e7"
          }
        },
        "2d0d7387b9a04728bf06e7ce4d19d30d": {
          "model_module": "@jupyter-widgets/controls",
          "model_name": "HTMLModel",
          "model_module_version": "1.5.0",
          "state": {
            "_dom_classes": [],
            "_model_module": "@jupyter-widgets/controls",
            "_model_module_version": "1.5.0",
            "_model_name": "HTMLModel",
            "_view_count": null,
            "_view_module": "@jupyter-widgets/controls",
            "_view_module_version": "1.5.0",
            "_view_name": "HTMLView",
            "description": "",
            "description_tooltip": null,
            "layout": "IPY_MODEL_53c5706759da4ca684048b8341d7ba98",
            "placeholder": "​",
            "style": "IPY_MODEL_52e514d54bd9499d9cbb02ccc8e9f301",
            "value": "Generating train split: 100%"
          }
        },
        "c4cf4ebfc4c3458785df28e2092b678d": {
          "model_module": "@jupyter-widgets/controls",
          "model_name": "FloatProgressModel",
          "model_module_version": "1.5.0",
          "state": {
            "_dom_classes": [],
            "_model_module": "@jupyter-widgets/controls",
            "_model_module_version": "1.5.0",
            "_model_name": "FloatProgressModel",
            "_view_count": null,
            "_view_module": "@jupyter-widgets/controls",
            "_view_module_version": "1.5.0",
            "_view_name": "ProgressView",
            "bar_style": "success",
            "description": "",
            "description_tooltip": null,
            "layout": "IPY_MODEL_4f6e14e38c0841afb0d95a6bc57bfc3b",
            "max": 10000,
            "min": 0,
            "orientation": "horizontal",
            "style": "IPY_MODEL_2fc38c996f3444eabda45760544f0ac0",
            "value": 10000
          }
        },
        "7e21dfbaa5894900b5504110dab5c951": {
          "model_module": "@jupyter-widgets/controls",
          "model_name": "HTMLModel",
          "model_module_version": "1.5.0",
          "state": {
            "_dom_classes": [],
            "_model_module": "@jupyter-widgets/controls",
            "_model_module_version": "1.5.0",
            "_model_name": "HTMLModel",
            "_view_count": null,
            "_view_module": "@jupyter-widgets/controls",
            "_view_module_version": "1.5.0",
            "_view_name": "HTMLView",
            "description": "",
            "description_tooltip": null,
            "layout": "IPY_MODEL_4b0c7567eb0647448cd5b18fac356745",
            "placeholder": "​",
            "style": "IPY_MODEL_d594fd5d737b4b3db6fd5b6fe91e2808",
            "value": " 10000/10000 [00:06&lt;00:00, 1285.25 examples/s]"
          }
        },
        "378aeb76adb74d25b614de017d2208e7": {
          "model_module": "@jupyter-widgets/base",
          "model_name": "LayoutModel",
          "model_module_version": "1.2.0",
          "state": {
            "_model_module": "@jupyter-widgets/base",
            "_model_module_version": "1.2.0",
            "_model_name": "LayoutModel",
            "_view_count": null,
            "_view_module": "@jupyter-widgets/base",
            "_view_module_version": "1.2.0",
            "_view_name": "LayoutView",
            "align_content": null,
            "align_items": null,
            "align_self": null,
            "border": null,
            "bottom": null,
            "display": null,
            "flex": null,
            "flex_flow": null,
            "grid_area": null,
            "grid_auto_columns": null,
            "grid_auto_flow": null,
            "grid_auto_rows": null,
            "grid_column": null,
            "grid_gap": null,
            "grid_row": null,
            "grid_template_areas": null,
            "grid_template_columns": null,
            "grid_template_rows": null,
            "height": null,
            "justify_content": null,
            "justify_items": null,
            "left": null,
            "margin": null,
            "max_height": null,
            "max_width": null,
            "min_height": null,
            "min_width": null,
            "object_fit": null,
            "object_position": null,
            "order": null,
            "overflow": null,
            "overflow_x": null,
            "overflow_y": null,
            "padding": null,
            "right": null,
            "top": null,
            "visibility": null,
            "width": null
          }
        },
        "53c5706759da4ca684048b8341d7ba98": {
          "model_module": "@jupyter-widgets/base",
          "model_name": "LayoutModel",
          "model_module_version": "1.2.0",
          "state": {
            "_model_module": "@jupyter-widgets/base",
            "_model_module_version": "1.2.0",
            "_model_name": "LayoutModel",
            "_view_count": null,
            "_view_module": "@jupyter-widgets/base",
            "_view_module_version": "1.2.0",
            "_view_name": "LayoutView",
            "align_content": null,
            "align_items": null,
            "align_self": null,
            "border": null,
            "bottom": null,
            "display": null,
            "flex": null,
            "flex_flow": null,
            "grid_area": null,
            "grid_auto_columns": null,
            "grid_auto_flow": null,
            "grid_auto_rows": null,
            "grid_column": null,
            "grid_gap": null,
            "grid_row": null,
            "grid_template_areas": null,
            "grid_template_columns": null,
            "grid_template_rows": null,
            "height": null,
            "justify_content": null,
            "justify_items": null,
            "left": null,
            "margin": null,
            "max_height": null,
            "max_width": null,
            "min_height": null,
            "min_width": null,
            "object_fit": null,
            "object_position": null,
            "order": null,
            "overflow": null,
            "overflow_x": null,
            "overflow_y": null,
            "padding": null,
            "right": null,
            "top": null,
            "visibility": null,
            "width": null
          }
        },
        "52e514d54bd9499d9cbb02ccc8e9f301": {
          "model_module": "@jupyter-widgets/controls",
          "model_name": "DescriptionStyleModel",
          "model_module_version": "1.5.0",
          "state": {
            "_model_module": "@jupyter-widgets/controls",
            "_model_module_version": "1.5.0",
            "_model_name": "DescriptionStyleModel",
            "_view_count": null,
            "_view_module": "@jupyter-widgets/base",
            "_view_module_version": "1.2.0",
            "_view_name": "StyleView",
            "description_width": ""
          }
        },
        "4f6e14e38c0841afb0d95a6bc57bfc3b": {
          "model_module": "@jupyter-widgets/base",
          "model_name": "LayoutModel",
          "model_module_version": "1.2.0",
          "state": {
            "_model_module": "@jupyter-widgets/base",
            "_model_module_version": "1.2.0",
            "_model_name": "LayoutModel",
            "_view_count": null,
            "_view_module": "@jupyter-widgets/base",
            "_view_module_version": "1.2.0",
            "_view_name": "LayoutView",
            "align_content": null,
            "align_items": null,
            "align_self": null,
            "border": null,
            "bottom": null,
            "display": null,
            "flex": null,
            "flex_flow": null,
            "grid_area": null,
            "grid_auto_columns": null,
            "grid_auto_flow": null,
            "grid_auto_rows": null,
            "grid_column": null,
            "grid_gap": null,
            "grid_row": null,
            "grid_template_areas": null,
            "grid_template_columns": null,
            "grid_template_rows": null,
            "height": null,
            "justify_content": null,
            "justify_items": null,
            "left": null,
            "margin": null,
            "max_height": null,
            "max_width": null,
            "min_height": null,
            "min_width": null,
            "object_fit": null,
            "object_position": null,
            "order": null,
            "overflow": null,
            "overflow_x": null,
            "overflow_y": null,
            "padding": null,
            "right": null,
            "top": null,
            "visibility": null,
            "width": null
          }
        },
        "2fc38c996f3444eabda45760544f0ac0": {
          "model_module": "@jupyter-widgets/controls",
          "model_name": "ProgressStyleModel",
          "model_module_version": "1.5.0",
          "state": {
            "_model_module": "@jupyter-widgets/controls",
            "_model_module_version": "1.5.0",
            "_model_name": "ProgressStyleModel",
            "_view_count": null,
            "_view_module": "@jupyter-widgets/base",
            "_view_module_version": "1.2.0",
            "_view_name": "StyleView",
            "bar_color": null,
            "description_width": ""
          }
        },
        "4b0c7567eb0647448cd5b18fac356745": {
          "model_module": "@jupyter-widgets/base",
          "model_name": "LayoutModel",
          "model_module_version": "1.2.0",
          "state": {
            "_model_module": "@jupyter-widgets/base",
            "_model_module_version": "1.2.0",
            "_model_name": "LayoutModel",
            "_view_count": null,
            "_view_module": "@jupyter-widgets/base",
            "_view_module_version": "1.2.0",
            "_view_name": "LayoutView",
            "align_content": null,
            "align_items": null,
            "align_self": null,
            "border": null,
            "bottom": null,
            "display": null,
            "flex": null,
            "flex_flow": null,
            "grid_area": null,
            "grid_auto_columns": null,
            "grid_auto_flow": null,
            "grid_auto_rows": null,
            "grid_column": null,
            "grid_gap": null,
            "grid_row": null,
            "grid_template_areas": null,
            "grid_template_columns": null,
            "grid_template_rows": null,
            "height": null,
            "justify_content": null,
            "justify_items": null,
            "left": null,
            "margin": null,
            "max_height": null,
            "max_width": null,
            "min_height": null,
            "min_width": null,
            "object_fit": null,
            "object_position": null,
            "order": null,
            "overflow": null,
            "overflow_x": null,
            "overflow_y": null,
            "padding": null,
            "right": null,
            "top": null,
            "visibility": null,
            "width": null
          }
        },
        "d594fd5d737b4b3db6fd5b6fe91e2808": {
          "model_module": "@jupyter-widgets/controls",
          "model_name": "DescriptionStyleModel",
          "model_module_version": "1.5.0",
          "state": {
            "_model_module": "@jupyter-widgets/controls",
            "_model_module_version": "1.5.0",
            "_model_name": "DescriptionStyleModel",
            "_view_count": null,
            "_view_module": "@jupyter-widgets/base",
            "_view_module_version": "1.2.0",
            "_view_name": "StyleView",
            "description_width": ""
          }
        }
      }
    }
  },
  "nbformat": 4,
  "nbformat_minor": 0
}