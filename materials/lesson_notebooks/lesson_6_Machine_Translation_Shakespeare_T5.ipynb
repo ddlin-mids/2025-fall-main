{
  "cells": [
    {
      "cell_type": "markdown",
      "metadata": {
        "id": "Wy37jVQVufTY"
      },
      "source": [
        "## Lesson Notebook 6: Machine Translation With Shakespeare and T5\n",
        "\n",
        "In this notebook we will look at one example related to machine translation:\n",
        "\n",
        "   * Train a transformer from scratch on translation of Shakespeare to Modern English\n",
        "\n",
        "\n",
        "\n",
        "<a id = 'returnToTop'></a>\n",
        "\n",
        "## Notebook Contents\n",
        "  * 1. [Setup](#setup)\n",
        "  * 2. [Shakespeare-to-Modern English translation with a from-scratch transformer](#shakespeare)\n",
        "\n",
        "\n",
        "\n",
        "\n",
        "\n",
        "\n",
        "\n",
        "\n",
        "  [![Open In Colab](https://colab.research.google.com/assets/colab-badge.svg)](https://colab.research.google.com/github/datasci-w266/2025-fall-main/blob/master/materials/lesson_notebooks/lesson_6_Machine_Translation_Shakespeare_T5.ipynb)"
      ]
    },
    {
      "cell_type": "markdown",
      "metadata": {
        "id": "zkM-Z34gIvyo"
      },
      "source": [
        "[Return to Top](#returnToTop)  \n",
        "<a id = 'setup'></a>\n",
        "\n",
        "## 1. Setup\n",
        "\n",
        "\n",
        "We'll start with the usual setup. We need to begin with the sentencepiece code in order to tokenize the text for some of the models."
      ]
    },
    {
      "cell_type": "code",
      "execution_count": 5,
      "metadata": {
        "id": "bZSrl0npwP2X"
      },
      "outputs": [],
      "source": [
        "!pip install -q sentencepiece\n",
        "!pip install -q transformers\n",
        "!pip install -q tokenizers\n",
        "!pip install -q datasets"
      ]
    },
    {
      "cell_type": "code",
      "execution_count": 6,
      "metadata": {
        "id": "_eb6kzr0fShh"
      },
      "outputs": [],
      "source": [
        "import random\n",
        "import transformers\n",
        "from datasets import Dataset\n",
        "\n",
        "from transformers import T5TokenizerFast, T5Config, T5ForConditionalGeneration\n",
        "from transformers import Seq2SeqTrainingArguments, Seq2SeqTrainer"
      ]
    },
    {
      "cell_type": "markdown",
      "metadata": {
        "id": "7WJuh_1Kpa0P"
      },
      "source": [
        "[Return to Top](#returnToTop)  \n",
        "<a id = 'shakespeare'></a>\n",
        "\n",
        "## 2. Shakespeare-to-Modern English Translation with a Seq2Seq Transformer\n",
        "\n",
        "What if we want to create a translation model from scratch? These days, you'll usually be working with pre-trained transformers. But there are some circumstances in which it makes sense to build a new model, especially if you're working with a very rare language.\n",
        "\n",
        "To explore how we might do so, just as a learning exercise, we'll train a brand-new sequence-to-sequence transformer model for the task of translating text from Shakespearean English to Modern English.\n"
      ]
    },
    {
      "cell_type": "markdown",
      "metadata": {
        "id": "FFFVderUrOWX"
      },
      "source": [
        "### 2.1 Downloading the data\n",
        "\n",
        "The data includes aligned sentences from a number of plays by William Shakespeare.  The data was copied from this repo --[https://github.com/cocoxu/Shakespeare](https://github.com/cocoxu/Shakespeare) -- and consolidated into one file for easier handling.\n",
        "\n",
        "You will to grab a copy from our git repo and import it to your Google drive.  From there you'll be able to easily load it in to a Colab notebook."
      ]
    },
    {
      "cell_type": "code",
      "execution_count": 10,
      "metadata": {
        "colab": {
          "base_uri": "https://localhost:8080/"
        },
        "id": "t7PzFLfmrOeI",
        "outputId": "c30f1488-8b06-4c2a-9e0e-8a29998c1334"
      },
      "outputs": [
        {
          "output_type": "stream",
          "name": "stdout",
          "text": [
            "Mounted at /content/drive\n"
          ]
        }
      ],
      "source": [
        "#This cell will authenticate you and mount your Drive in the Colab.\n",
        "from google.colab import drive\n",
        "drive.mount('/content/drive')"
      ]
    },
    {
      "cell_type": "code",
      "execution_count": 13,
      "metadata": {
        "id": "jmBjDeKfrcLB"
      },
      "outputs": [],
      "source": [
        "#Modify this path to the appropriate location in your Drive\n",
        "text_file = '/content/drive/MyDrive/ISchool/MIDS/266/train_plays-org-mod.txt'"
      ]
    },
    {
      "cell_type": "markdown",
      "metadata": {
        "id": "C0RYSPnYrfpb"
      },
      "source": [
        "### 2.2 Parsing the data\n",
        "\n",
        "Each line contains a Shakespearean sentence and its corresponding modern English translation.\n",
        "The Shakesperean sentence is the *source sequence* and modern English one is the *target sequence*."
      ]
    },
    {
      "cell_type": "code",
      "execution_count": 19,
      "metadata": {
        "id": "ihgSri99rfwK"
      },
      "outputs": [],
      "source": [
        "# Open a text file whose path is in `text_file`\n",
        "with open(text_file) as f:\n",
        "    # Read the whole file into a single string, split on newlines,\n",
        "    # then drop the last element (often an empty string if the file ends with \\n)\n",
        "    lines = f.read().split(\"\\n\")[:-1]\n",
        "\n",
        "text_pairs = []\n",
        "for line in lines:\n",
        "    # Expect each line to have two fields separated by a TAB\n",
        "    old, mod = line.split(\"\\t\")\n",
        "    # Normalize to lowercase\n",
        "    old = old.lower()\n",
        "    mod = mod.lower()\n",
        "    # Append as a tuple ('old', 'mod')\n",
        "    text_pairs.append((old, mod))\n"
      ]
    },
    {
      "cell_type": "code",
      "execution_count": 18,
      "metadata": {
        "colab": {
          "base_uri": "https://localhost:8080/"
        },
        "id": "uS1iLd31rtNG",
        "outputId": "abbf8e46-0805-4ca9-dd94-69403ba5543a"
      },
      "outputs": [
        {
          "output_type": "stream",
          "name": "stdout",
          "text": [
            "('i am sorry that i am deceived in him. ', 'i am sorry that i was wrong about him. ')\n",
            "('do you not remember he saw a flea stick upon bardolph’s nose, and he said it was a black soul burning in hell?', 'don’t you remember how he saw a flea land on bardolph’s nose and said it was a black soul burning in hell?')\n",
            "('if he have caught the benedick, it will cost him a thousand pound ere a be cured.', 'if he’s caught the benedick, he’ll lose all his money before he’s cured.')\n",
            "('heaven preserve you!', 'heaven preserve you!')\n",
            "('i shall the effect of this good lesson keep as watchman to my heart.', 'i shall keep the purpose of this good lesson as watchman to my heart.')\n"
          ]
        }
      ],
      "source": [
        "#look at some examples\n",
        "for _ in range(5):\n",
        "    print(random.choice(text_pairs))"
      ]
    },
    {
      "cell_type": "code",
      "execution_count": 20,
      "metadata": {
        "colab": {
          "base_uri": "https://localhost:8080/"
        },
        "id": "19hGQ6p5ruLV",
        "outputId": "66f8d2f7-7b4a-4b6f-f1ab-81187b06bd66"
      },
      "outputs": [
        {
          "output_type": "stream",
          "name": "stdout",
          "text": [
            "19088 total pairs\n",
            "16798 training pairs\n",
            "1145 validation pairs\n",
            "1145 test pairs\n",
            "('unarm, eros.', 'remove your armor, eros.')\n"
          ]
        }
      ],
      "source": [
        "# Let's create some splits\n",
        "random.shuffle(text_pairs)                                  # in-place shuffle (NON-reproducible unless you set a seed)\n",
        "\n",
        "num_val_samples = int(0.06 * len(text_pairs))               # 6% for validation\n",
        "num_train_samples = len(text_pairs) - 2 * num_val_samples   # leave another 6% for test; rest for train\n",
        "\n",
        "# slice the shuffled list into train/val/test in order\n",
        "train_pairs = text_pairs[:num_train_samples]\n",
        "val_pairs = text_pairs[num_train_samples : num_train_samples + num_val_samples]\n",
        "test_pairs = text_pairs[num_train_samples + num_val_samples :]\n",
        "\n",
        "# report counts\n",
        "print(f\"{len(text_pairs)} total pairs\")\n",
        "print(f\"{len(train_pairs)} training pairs\")\n",
        "print(f\"{len(val_pairs)} validation pairs\")\n",
        "print(f\"{len(test_pairs)} test pairs\")\n",
        "\n",
        "print(train_pairs[0])                                       # quick sanity check of one training example\n"
      ]
    },
    {
      "cell_type": "markdown",
      "metadata": {
        "id": "6Fgxp5i3rf1W"
      },
      "source": [
        "Here’s a cleaner, skimmable version:\n",
        "\n",
        "# Dataset size & expectations\n",
        "\n",
        "* **Split plan:** 6% validation and 6% test (≈ **~1k pairs each**), leaving **~17k pairs for training**.\n",
        "* **Reality check:** ~17k sentence pairs is **small for training a model from scratch** → set modest expectations; still worthwhile as an experiment.\n",
        "\n",
        "# 2.3 Define vocabulary & tokenizer\n",
        "\n",
        "* **Goal:** Build a **smaller custom tokenizer** tailored to this dataset to reduce vocab size vs. typical pre-trained models.\n",
        "* **Model choice:** Use a **T5-style architecture**, but a **much smaller variant** trained **from scratch** on your data.\n",
        "* **Shared vocab:** T5 uses **one vocabulary** for **both encoder and decoder** → combine **Shakespearean + Modern English** text to fit the joint vocab.\n",
        "* **Practical approach:**\n",
        "\n",
        "  1. **Load an existing T5 tokenizer** as a base.\n",
        "  2. **Retrain/fit** it on your corpus with your **chosen vocab size** (smaller than standard T5).\n",
        "  3. Use the resulting tokenizer consistently for both sides (encoder/decoder).\n"
      ]
    },
    {
      "cell_type": "code",
      "execution_count": 21,
      "metadata": {
        "id": "ByoyLdKmrf6R"
      },
      "outputs": [],
      "source": [
        "# The size of our vocabulary covers both languages\n",
        "VOCAB_SIZE = 15000              # target vocab size for a *joint* tokenizer\n",
        "\n",
        "MAX_SEQUENCE_LENGTH = 40        # hard cap used later for trunc/pad during encoding\n",
        "\n",
        "def get_word_piece_tokenizer(text_samples, vocab_size):\n",
        "    # Load a *T5* tokenizer as the base config (normalizer, pre/post-processors, specials)\n",
        "    base_tokenizer = T5TokenizerFast.from_pretrained('t5-base')\n",
        "\n",
        "    # Train a NEW tokenizer from your text iterator, with a fixed vocab size.\n",
        "    # NOTE: you're ignoring the function arg `vocab_size` and using the global `VOCAB_SIZE`.\n",
        "    new_tokenizer = base_tokenizer.train_new_from_iterator(\n",
        "        text_samples,\n",
        "        vocab_size=VOCAB_SIZE\n",
        "    )\n",
        "\n",
        "    return new_tokenizer         # returns a Hugging Face fast tokenizer object\n"
      ]
    },
    {
      "cell_type": "code",
      "execution_count": 22,
      "metadata": {
        "colab": {
          "base_uri": "https://localhost:8080/",
          "height": 217,
          "referenced_widgets": [
            "8f43aa10ccce4bfab52fbccd549e3542",
            "ed16e46d8d724588861ec7097bda07b5",
            "e97cd563967a4c80affac403e111c362",
            "189c6cd375284a7d83c60212b9c9b142",
            "5cf4f61ce52a42458440c03bb5ee9c8a",
            "172d0a4939644d61a04b37b5fbec3c71",
            "f098bc2f54f542ed91292af67fedd2cb",
            "2549ac9576e5405a938c9c6ad26683ea",
            "afd0c0337b234a0eaefe710886d245eb",
            "a6dc6aca90c1445a8f0abfe2d2f2d836",
            "d4bdbd45a5474639b701c84b52bbff22",
            "fa39c193165d455380131e42b039af82",
            "522fce0f7b29476aa5107e8717e07d2e",
            "cf19cfcd94b8469085efb815218085ef",
            "06ad3b491ae54b7eae499d15d21ac2b7",
            "3b7d0809852a43138396f96c6badafc9",
            "08b7bf2f412c4651a83145f2318d8479",
            "55f087b483624016b8a19b9fba52634b",
            "6fb7ab507592467aa3db34ca5497fc39",
            "037b2ebb75f646f5955676cbf70de2ef",
            "cb31212bb8104677bd338b458d55f266",
            "d583bfd4884849b184eb0961e793a43d",
            "2eb9ae5cee0b47889e808133a4ac0401",
            "d1104675134046d283b3f4796685be2d",
            "6793a173ec2448e7b3562a1abccecbee",
            "7449b2be681641ecb12b2d2a47f5dfec",
            "601b659413974fc08b38806d0e8cd469",
            "f9fdf4cd5bca42f386cf7fb8bb4fa9f4",
            "c41744e3dc9943acae021af38156b1af",
            "95933606b570460f849e1816320a82ba",
            "acc8537c08c34141a6f20f99728fd7bc",
            "ab0b666c642b4f92b4f25465cad25464",
            "c2ed69e7c8824392bba2261f86899a93"
          ]
        },
        "id": "ioWfgUnrrgFw",
        "outputId": "8e1dc479-6833-4874-997c-042aeb968be8"
      },
      "outputs": [
        {
          "output_type": "stream",
          "name": "stderr",
          "text": [
            "/usr/local/lib/python3.12/dist-packages/huggingface_hub/utils/_auth.py:94: UserWarning: \n",
            "The secret `HF_TOKEN` does not exist in your Colab secrets.\n",
            "To authenticate with the Hugging Face Hub, create a token in your settings tab (https://huggingface.co/settings/tokens), set it as secret in your Google Colab and restart your session.\n",
            "You will be able to reuse this secret in all of your notebooks.\n",
            "Please note that authentication is recommended but still optional to access public models or datasets.\n",
            "  warnings.warn(\n"
          ]
        },
        {
          "output_type": "display_data",
          "data": {
            "text/plain": [
              "spiece.model:   0%|          | 0.00/792k [00:00<?, ?B/s]"
            ],
            "application/vnd.jupyter.widget-view+json": {
              "version_major": 2,
              "version_minor": 0,
              "model_id": "8f43aa10ccce4bfab52fbccd549e3542"
            }
          },
          "metadata": {}
        },
        {
          "output_type": "display_data",
          "data": {
            "text/plain": [
              "tokenizer.json:   0%|          | 0.00/1.39M [00:00<?, ?B/s]"
            ],
            "application/vnd.jupyter.widget-view+json": {
              "version_major": 2,
              "version_minor": 0,
              "model_id": "fa39c193165d455380131e42b039af82"
            }
          },
          "metadata": {}
        },
        {
          "output_type": "display_data",
          "data": {
            "text/plain": [
              "config.json:   0%|          | 0.00/1.21k [00:00<?, ?B/s]"
            ],
            "application/vnd.jupyter.widget-view+json": {
              "version_major": 2,
              "version_minor": 0,
              "model_id": "2eb9ae5cee0b47889e808133a4ac0401"
            }
          },
          "metadata": {}
        }
      ],
      "source": [
        "shakespeare_samples = [text_pair[0] for text_pair in train_pairs]\n",
        "# ^ take the \"old/Shakespearean\" side from training only (good: no leakage)\n",
        "\n",
        "modern_samples = [text_pair[1] for text_pair in train_pairs]\n",
        "# ^ take the \"modern\" side from training only (also good)\n",
        "\n",
        "t5_tokenizer = get_word_piece_tokenizer(\n",
        "    shakespeare_samples + modern_samples,  # joint vocab for encoder+decoder\n",
        "    VOCAB_SIZE                              # target vocab size\n",
        ")\n"
      ]
    },
    {
      "cell_type": "code",
      "execution_count": 25,
      "metadata": {
        "colab": {
          "base_uri": "https://localhost:8080/"
        },
        "id": "ZrDM3UwxsK5o",
        "outputId": "c7de0be9-ccdf-49fc-90c2-f5ad4b29db6f"
      },
      "outputs": [
        {
          "output_type": "stream",
          "name": "stdout",
          "text": [
            "Vocab Tokens:  i of my? thati a ins is your! for be not with he have this me\n"
          ]
        }
      ],
      "source": [
        "print(\"Vocab Tokens: \", t5_tokenizer.decode(range(110, 130)))"
      ]
    },
    {
      "cell_type": "code",
      "execution_count": 24,
      "metadata": {
        "colab": {
          "base_uri": "https://localhost:8080/"
        },
        "id": "-OzTEEPYsM7Q",
        "outputId": "cc619405-571b-4d71-9b3e-92c1ce75d460"
      },
      "outputs": [
        {
          "output_type": "stream",
          "name": "stdout",
          "text": [
            "Shakesperean English sentence:  ['what, look you pale?']\n",
            "Tokens:  {'input_ids': [[130, 103, 222, 108, 930, 113, 1]], 'attention_mask': [[1, 1, 1, 1, 1, 1, 1]]}\n",
            "Recovered text after detokenizing:  ['what, look you pale?</s>']\n",
            "\n",
            "Modern English sentence:  ['what, do you look pale?']\n",
            "Tokens:  {'input_ids': [[130, 103, 139, 108, 222, 930, 113, 1]], 'attention_mask': [[1, 1, 1, 1, 1, 1, 1, 1]]}\n",
            "Recovered text after detokenizing:  ['what, do you look pale?</s>']\n"
          ]
        }
      ],
      "source": [
        "old_input_ex = [text_pairs[1][0]]                  # takes the 2nd pair's Shakespearean text (list of 1 string)\n",
        "old_tokens_ex = t5_tokenizer.batch_encode_plus(old_input_ex)  # tokenizes (returns a dict of lists/tensors)\n",
        "\n",
        "print(\"Shakesperean English sentence: \", old_input_ex)\n",
        "print(\"Tokens: \", old_tokens_ex)                   # prints the *entire* dict (input_ids, attention_mask, etc.)\n",
        "print(\n",
        "    \"Recovered text after detokenizing: \",\n",
        "    t5_tokenizer.batch_decode(old_tokens_ex['input_ids']),  # detokenizes IDs back to text (includes specials by default)\n",
        ")\n",
        "\n",
        "print()\n",
        "\n",
        "mod_input_ex = [text_pairs[1][1]]                  # takes the 2nd pair's Modern English text\n",
        "mod_tokens_ex = t5_tokenizer.batch_encode_plus(mod_input_ex)\n",
        "\n",
        "print(\"Modern English sentence: \", mod_input_ex)\n",
        "print(\"Tokens: \", mod_tokens_ex)\n",
        "print(\n",
        "    \"Recovered text after detokenizing: \",\n",
        "    t5_tokenizer.batch_decode(mod_tokens_ex['input_ids']),\n",
        ")\n"
      ]
    },
    {
      "cell_type": "markdown",
      "metadata": {
        "id": "yzdXVX16sRTQ"
      },
      "source": [
        "### 2.4 Format Datasets\n",
        "\n",
        "Let's turn our data into a Huggingface dataset, so that we can work with it similarly to earlier lesson notebooks. We'll need to write a preprocess function to convert the input and output texts into sequences of vocab IDs, using the tokenizers we just made. Then we'll map the preprocess function to the dataset."
      ]
    },
    {
      "cell_type": "code",
      "execution_count": 26,
      "metadata": {
        "id": "omwrKUlfP0Ii"
      },
      "outputs": [],
      "source": [
        "def make_dataset(pairs):\n",
        "    org_texts, mod_texts = zip(*pairs)          # unzip list[tuple] → two tuples (raises if pairs is empty)\n",
        "    org_texts = list(org_texts)                 # materialize as lists\n",
        "    mod_texts = list(mod_texts)\n",
        "\n",
        "    dataset = Dataset.from_dict({\"shakespeare\": org_texts, \"modern\": mod_texts})\n",
        "    return dataset.shuffle()                     # randomizes row order (non-deterministic unless you pass a seed)\n",
        "\n",
        "# training/validation HF datasets\n",
        "train_ds = make_dataset(train_pairs)\n",
        "val_ds   = make_dataset(val_pairs)\n"
      ]
    },
    {
      "cell_type": "code",
      "execution_count": 27,
      "metadata": {
        "id": "vcVxffbIsRZN"
      },
      "outputs": [],
      "source": [
        "def preprocess_batch(batch_text_pairs):\n",
        "    # Encode the Shakespearean source texts into token IDs (PyTorch tensors),\n",
        "    # padding/truncating each to MAX_SEQUENCE_LENGTH.\n",
        "    shakespeare_encoded = t5_tokenizer.batch_encode_plus(\n",
        "        batch_text_pairs[\"shakespeare\"],\n",
        "        max_length=MAX_SEQUENCE_LENGTH,\n",
        "        padding='max_length',\n",
        "        truncation=True,\n",
        "        return_tensors='pt'\n",
        "    )\n",
        "\n",
        "    # Encode the Modern English target texts similarly (same length cap and padding).\n",
        "    modern_encoded = t5_tokenizer.batch_encode_plus(\n",
        "        batch_text_pairs[\"modern\"],\n",
        "        max_length=MAX_SEQUENCE_LENGTH,\n",
        "        padding='max_length',\n",
        "        truncation=True,\n",
        "        return_tensors='pt'\n",
        "    )\n",
        "\n",
        "    # Return the two tensors in the format expected by HF seq2seq trainers:\n",
        "    # - 'input_ids' for the encoder inputs (source)\n",
        "    # - 'labels' for the decoder targets (ground truth)\n",
        "    return {\n",
        "        'input_ids': shakespeare_encoded['input_ids'],\n",
        "        'labels': modern_encoded['input_ids']\n",
        "    }\n"
      ]
    },
    {
      "cell_type": "code",
      "execution_count": 28,
      "metadata": {
        "colab": {
          "base_uri": "https://localhost:8080/",
          "height": 81,
          "referenced_widgets": [
            "72d618c1d9cb4409bea1fdde37291048",
            "5593d2b80e3247b28fe9c3a64491a0e2",
            "b7e9fcfebfa449118cb249718466c5cd",
            "aa384d68a3794cb08c69e432f42f8ef5",
            "80551ad786e0445ca736d28372f1b990",
            "7131b452390648c0aee077780524b039",
            "a31d093539e14550a88964a6a966a680",
            "f886357214934ccdadee4cb02294d390",
            "afa06d6115b9421c82978c84e7e8f2d8",
            "c6eafa85c7414a7a9bc186acd53f7df7",
            "4e527905c8dd4c6587de79ed6ece8baa",
            "1583bb8a57af40a391f462bdf0c5bb29",
            "08928aee4ac34e6496f39aefe448a3e1",
            "939ab72f30a34396b3467904098993ad",
            "9016b0659c004df6b9bbaa8428e450b3",
            "9071f79585684de2b2c05f54355690b6",
            "df534f8fcd114352b3d14a1a98f5c89b",
            "be0b18bdfa9b44989d4b9ebb468624ac",
            "445debf4ccc84414ae91fe150db8a227",
            "288f51ab69294647af415fb074ecaaac",
            "306539b446104f99bcec22ef28b8cc56",
            "f2580636115348e1a67e1efa56f497a2"
          ]
        },
        "id": "3gs0zGj5sdCE",
        "outputId": "a7cd4e21-849f-484b-be5f-1fc246ff1b1f"
      },
      "outputs": [
        {
          "output_type": "display_data",
          "data": {
            "text/plain": [
              "Map:   0%|          | 0/16798 [00:00<?, ? examples/s]"
            ],
            "application/vnd.jupyter.widget-view+json": {
              "version_major": 2,
              "version_minor": 0,
              "model_id": "72d618c1d9cb4409bea1fdde37291048"
            }
          },
          "metadata": {}
        },
        {
          "output_type": "display_data",
          "data": {
            "text/plain": [
              "Map:   0%|          | 0/1145 [00:00<?, ? examples/s]"
            ],
            "application/vnd.jupyter.widget-view+json": {
              "version_major": 2,
              "version_minor": 0,
              "model_id": "1583bb8a57af40a391f462bdf0c5bb29"
            }
          },
          "metadata": {}
        }
      ],
      "source": [
        "train_ds = train_ds.map(preprocess_batch, batched=True)\n",
        "val_ds = val_ds.map(preprocess_batch, batched=True)"
      ]
    },
    {
      "cell_type": "markdown",
      "metadata": {
        "id": "6V6Rck8AsRes"
      },
      "source": [
        "# 2.5 Define the model\n",
        "\n",
        "* **Approach:** Use Hugging Face to instantiate a model **from a config** (random init), not from a pretrained checkpoint.\n",
        "* **Why config?** Lets you **customize architecture** (sizes, layers) while keeping the T5 design.\n",
        "* **Project fit:** Build a **very small T5**:\n",
        "\n",
        "  * **Vocabulary:** your custom small vocab.\n",
        "  * **Dimensions:** roughly **half** of default T5 embedding and feed-forward sizes.\n",
        "  * **Depth:** **1 transformer layer** in the **encoder** and **decoder**.\n",
        "* **Outcome:** A lightweight, untrained T5 variant tailored to this dataset.\n",
        "* **Looking ahead (A3):** You’ll explore these hyperparameters further, including **adding more transformer layers**.\n"
      ]
    },
    {
      "cell_type": "code",
      "execution_count": 29,
      "metadata": {
        "id": "8apZZSedrcQk"
      },
      "outputs": [],
      "source": [
        "# Define some hyperparameter values for our transformer model\n",
        "EMBED_DIM = 256          # T5 d_model: token/hidden embedding size per position\n",
        "INTERMEDIATE_DIM = 2048  # T5 d_ff: width of the feed-forward (MLP) layer\n",
        "NUM_HEADS = 8            # Attention heads; d_model must be divisible by this (256/8=32 per head)\n",
        "NUM_LAYERS = 1           # Encoder and decoder depth (T5 uses the same count for both by default)\n",
        "\n",
        "# Also define some training parameters we'll use next\n",
        "BATCH_SIZE = 64          # Batch size for training/validation steps\n",
        "EPOCHS = 25              # Training epochs; comment notes ~25 needed for convergence in this setup\n",
        "\n",
        "t5_config = T5Config(\n",
        "    vocab_size=VOCAB_SIZE,        # Size of your jointly trained tokenizer vocab\n",
        "    d_model=EMBED_DIM,            # Hidden dimension (matches EMBED_DIM)\n",
        "    d_ff=INTERMEDIATE_DIM,        # Feed-forward layer dimension (MLP width)\n",
        "    num_heads=NUM_HEADS,          # Number of attention heads per layer\n",
        "    num_layers=NUM_LAYERS,        # Number of transformer blocks in encoder and decoder\n",
        "    decoder_start_token_id=t5_tokenizer.pad_token_id  # T5 convention: decoder starts with <pad> token\n",
        ")\n"
      ]
    },
    {
      "cell_type": "code",
      "execution_count": 30,
      "metadata": {
        "id": "a4Y9x3gprd_P"
      },
      "outputs": [],
      "source": [
        "t5_model = T5ForConditionalGeneration(config=t5_config)"
      ]
    },
    {
      "cell_type": "markdown",
      "metadata": {
        "id": "Cya3sb86sRp5"
      },
      "source": [
        "### 2.6 Train the model\n",
        "\n",
        "To train a Huggingface model, like we did with BERT, we'll create a Trainer class and associated TrainerArguments. We need to use the ones for Seq2Seq models this time."
      ]
    },
    {
      "cell_type": "code",
      "execution_count": 31,
      "metadata": {
        "id": "xWXXUNabsRvG"
      },
      "outputs": [],
      "source": [
        "args = Seq2SeqTrainingArguments(\n",
        "    \"shakespeare_translation_model\",   # output directory: checkpoints, logs, etc.\n",
        "    eval_strategy='epoch',             # run evaluation at the end of each epoch\n",
        "    per_device_train_batch_size=BATCH_SIZE,  # train batch size per GPU/CPU device\n",
        "    per_device_eval_batch_size=BATCH_SIZE,   # eval batch size per device\n",
        "    num_train_epochs=EPOCHS,           # total number of training epochs\n",
        "    report_to='none'                   # disable logging integrations (e.g., WandB/Comet)\n",
        ")\n"
      ]
    },
    {
      "cell_type": "code",
      "execution_count": 32,
      "metadata": {
        "id": "1TC-qdfTs1hj"
      },
      "outputs": [],
      "source": [
        "trainer = Seq2SeqTrainer(\n",
        "    t5_model,\n",
        "    args,\n",
        "    train_dataset=train_ds,\n",
        "    eval_dataset=val_ds\n",
        ")"
      ]
    },
    {
      "cell_type": "markdown",
      "metadata": {
        "id": "ZqqH8OjZ7v4P"
      },
      "source": [
        "Training this small model on our dataset will take about 5 minutes on a Colab T4 GPU. Note that we're training for quite a few epochs to get the model to start to pick up the task, since the model has not been pre-trained in any way. We might stop early in the live session if we're running low on time."
      ]
    },
    {
      "cell_type": "code",
      "execution_count": 33,
      "metadata": {
        "colab": {
          "base_uri": "https://localhost:8080/",
          "height": 894
        },
        "id": "zKE-nKB-s7ZF",
        "outputId": "1e64d94c-825e-4abd-9fca-4c264cb93cf2"
      },
      "outputs": [
        {
          "output_type": "display_data",
          "data": {
            "text/plain": [
              "<IPython.core.display.HTML object>"
            ],
            "text/html": [
              "\n",
              "    <div>\n",
              "      \n",
              "      <progress value='6575' max='6575' style='width:300px; height:20px; vertical-align: middle;'></progress>\n",
              "      [6575/6575 03:20, Epoch 25/25]\n",
              "    </div>\n",
              "    <table border=\"1\" class=\"dataframe\">\n",
              "  <thead>\n",
              " <tr style=\"text-align: left;\">\n",
              "      <th>Epoch</th>\n",
              "      <th>Training Loss</th>\n",
              "      <th>Validation Loss</th>\n",
              "    </tr>\n",
              "  </thead>\n",
              "  <tbody>\n",
              "    <tr>\n",
              "      <td>1</td>\n",
              "      <td>No log</td>\n",
              "      <td>2.622731</td>\n",
              "    </tr>\n",
              "    <tr>\n",
              "      <td>2</td>\n",
              "      <td>2.619400</td>\n",
              "      <td>2.479866</td>\n",
              "    </tr>\n",
              "    <tr>\n",
              "      <td>3</td>\n",
              "      <td>2.619400</td>\n",
              "      <td>2.379849</td>\n",
              "    </tr>\n",
              "    <tr>\n",
              "      <td>4</td>\n",
              "      <td>2.326100</td>\n",
              "      <td>2.310635</td>\n",
              "    </tr>\n",
              "    <tr>\n",
              "      <td>5</td>\n",
              "      <td>2.326100</td>\n",
              "      <td>2.249267</td>\n",
              "    </tr>\n",
              "    <tr>\n",
              "      <td>6</td>\n",
              "      <td>2.185800</td>\n",
              "      <td>2.200431</td>\n",
              "    </tr>\n",
              "    <tr>\n",
              "      <td>7</td>\n",
              "      <td>2.185800</td>\n",
              "      <td>2.155406</td>\n",
              "    </tr>\n",
              "    <tr>\n",
              "      <td>8</td>\n",
              "      <td>2.089800</td>\n",
              "      <td>2.120936</td>\n",
              "    </tr>\n",
              "    <tr>\n",
              "      <td>9</td>\n",
              "      <td>2.089800</td>\n",
              "      <td>2.089776</td>\n",
              "    </tr>\n",
              "    <tr>\n",
              "      <td>10</td>\n",
              "      <td>2.023500</td>\n",
              "      <td>2.062647</td>\n",
              "    </tr>\n",
              "    <tr>\n",
              "      <td>11</td>\n",
              "      <td>2.023500</td>\n",
              "      <td>2.034575</td>\n",
              "    </tr>\n",
              "    <tr>\n",
              "      <td>12</td>\n",
              "      <td>1.961600</td>\n",
              "      <td>2.011481</td>\n",
              "    </tr>\n",
              "    <tr>\n",
              "      <td>13</td>\n",
              "      <td>1.961600</td>\n",
              "      <td>1.994236</td>\n",
              "    </tr>\n",
              "    <tr>\n",
              "      <td>14</td>\n",
              "      <td>1.913100</td>\n",
              "      <td>1.977692</td>\n",
              "    </tr>\n",
              "    <tr>\n",
              "      <td>15</td>\n",
              "      <td>1.913100</td>\n",
              "      <td>1.961367</td>\n",
              "    </tr>\n",
              "    <tr>\n",
              "      <td>16</td>\n",
              "      <td>1.882000</td>\n",
              "      <td>1.947164</td>\n",
              "    </tr>\n",
              "    <tr>\n",
              "      <td>17</td>\n",
              "      <td>1.882000</td>\n",
              "      <td>1.937881</td>\n",
              "    </tr>\n",
              "    <tr>\n",
              "      <td>18</td>\n",
              "      <td>1.848500</td>\n",
              "      <td>1.927895</td>\n",
              "    </tr>\n",
              "    <tr>\n",
              "      <td>19</td>\n",
              "      <td>1.848500</td>\n",
              "      <td>1.918690</td>\n",
              "    </tr>\n",
              "    <tr>\n",
              "      <td>20</td>\n",
              "      <td>1.824800</td>\n",
              "      <td>1.911272</td>\n",
              "    </tr>\n",
              "    <tr>\n",
              "      <td>21</td>\n",
              "      <td>1.807400</td>\n",
              "      <td>1.906321</td>\n",
              "    </tr>\n",
              "    <tr>\n",
              "      <td>22</td>\n",
              "      <td>1.807400</td>\n",
              "      <td>1.901042</td>\n",
              "    </tr>\n",
              "    <tr>\n",
              "      <td>23</td>\n",
              "      <td>1.793800</td>\n",
              "      <td>1.897936</td>\n",
              "    </tr>\n",
              "    <tr>\n",
              "      <td>24</td>\n",
              "      <td>1.793800</td>\n",
              "      <td>1.896685</td>\n",
              "    </tr>\n",
              "    <tr>\n",
              "      <td>25</td>\n",
              "      <td>1.792100</td>\n",
              "      <td>1.896407</td>\n",
              "    </tr>\n",
              "  </tbody>\n",
              "</table><p>"
            ]
          },
          "metadata": {}
        },
        {
          "output_type": "execute_result",
          "data": {
            "text/plain": [
              "TrainOutput(global_step=6575, training_loss=2.0026319148422647, metrics={'train_runtime': 202.2011, 'train_samples_per_second': 2076.892, 'train_steps_per_second': 32.517, 'total_flos': 370074184704000.0, 'train_loss': 2.0026319148422647, 'epoch': 25.0})"
            ]
          },
          "metadata": {},
          "execution_count": 33
        }
      ],
      "source": [
        "trainer.train()"
      ]
    },
    {
      "cell_type": "markdown",
      "metadata": {
        "id": "u0CQjMvNtAhp"
      },
      "source": [
        "### 2.7 Generate and examine some test sentences\n",
        "\n",
        "Finally, let's write a function to generate some translations of new inputs. We'll use the model's .generate() method and the tokenizer's .batch_decode() method. Huggingface text generation models has multiple options built into their .generate() method, including beam search or top-k/p sampling, constraints on repeat ngrams, min and max length constraints for the output, etc. We'll start with simple defaults here, that keep the generation loop relatively fast. You'll explore these options more in Assignment 3."
      ]
    },
    {
      "cell_type": "code",
      "execution_count": 34,
      "metadata": {
        "id": "HTm4SQSPtAm5"
      },
      "outputs": [],
      "source": [
        "def generate_output(input_sentences):\n",
        "    # Tokenize a list of input strings; return PyTorch tensors (CPU by default).\n",
        "    inputs_encoded = t5_tokenizer(input_sentences, return_tensors='pt')\n",
        "\n",
        "    # Generate output token IDs from the model.\n",
        "    # Moves input IDs to GPU with .cuda(); requires a CUDA-available device.\n",
        "    output_ids = t5_model.generate(\n",
        "        inputs_encoded['input_ids'].cuda(),\n",
        "        num_beams=1,              # greedy search (no beam expansion)\n",
        "        no_repeat_ngram_size=4    # avoid repeating any 4-gram in the output\n",
        "    )\n",
        "\n",
        "    # Decode token IDs back to strings.\n",
        "    generated_sentences = t5_tokenizer.batch_decode(\n",
        "        output_ids,\n",
        "        skip_special_tokens=True,           # drop <pad>, </s>, etc.\n",
        "        clean_up_tokenization_spaces=False  # keep spacing exactly as decoded\n",
        "    )\n",
        "    return generated_sentences\n"
      ]
    },
    {
      "cell_type": "code",
      "execution_count": 35,
      "metadata": {
        "colab": {
          "base_uri": "https://localhost:8080/"
        },
        "id": "N02j5d73tXRL",
        "outputId": "c5f9dcac-0ca0-44f9-eef7-efb78b7fdbab"
      },
      "outputs": [
        {
          "output_type": "stream",
          "name": "stdout",
          "text": [
            "** Example 0 **\n",
            "be buried quick with her, and so will i.\n",
            "i will be with her, and i will be a her, i will be to her, and\n",
            "\n",
            "** Example 1 **\n",
            "o, i am out of breath in this fond chase!\n",
            "o, i am this is this, i am of this, i’ll be a man of of\n",
            "\n",
            "** Example 2 **\n",
            "i am dying, egypt, dying.\n",
            "i am am am, i am.\n",
            "\n",
            "** Example 3 **\n",
            "look on the tragic loading of this bed; this is thy work.\n",
            "this is your the\n",
            "\n"
          ]
        }
      ],
      "source": [
        "test_org_texts = [pair[0] for pair in test_pairs]\n",
        "# ^ collect the Shakespearean/source side from the held-out test split\n",
        "\n",
        "for i in range(4):\n",
        "    # pick a random source sentence from the test set\n",
        "    input_sentence = random.choice(test_org_texts)\n",
        "\n",
        "    # run generation (expects a list of strings)\n",
        "    translated = generate_output([input_sentence])\n",
        "\n",
        "    # unpack the single returned string from the list\n",
        "    translated = translated[0]\n",
        "\n",
        "    # print a simple before/after demo\n",
        "    print(f\"** Example {i} **\")\n",
        "    print(input_sentence)  # original (Shakespearean) sentence\n",
        "    print(translated)      # model-generated modern translation\n",
        "    print()                # blank line for readability\n"
      ]
    },
    {
      "cell_type": "markdown",
      "metadata": {
        "id": "3BXUv1WetHGf"
      },
      "source": [
        "This doesn't look very good yet, but that's to be expected. It's very difficult to get an NLP model to do well on a complex task without pre-training it on huge amounts of raw text. In Assignment 3, we'll try a few more options to see if we can get this model to do at least a little better on this task.\n",
        "\n",
        "Remember that training a model from scratch is not something you would normally do, but it can be a useful educational exercise to better understand the starting point of these models and what it takes for them to learn language processing tasks.\n",
        "\n",
        "\n",
        "**QUESTION 2**: What things could we do to improve the output?\n",
        "* add more sentence pairs\n",
        "* ensure a good distribution over all the sentence lengths\n",
        "* add another transformer layer to encoder and decoder\n",
        "* change the generation hyperparameters\n",
        "* ???"
      ]
    },
    {
      "cell_type": "markdown",
      "metadata": {
        "id": "XS_O3bXhtQvf"
      },
      "source": [
        "[Return to Top](#returnToTop)  \n",
        "<a id = 'answers'></a>\n",
        "\n",
        "## ANSWERS\n",
        "\n",
        "1.  The T5 model doesn't have the token type ids that BERT uses to identify different segments.\n",
        "\n",
        "2.  The first two suggestions -- more sentence pairs and better balance on length are a good start.  More and better data typically lead to improved performance.  We might also look into separtely \"pre-training\" our encoder and decoder with their own language models.  We could then use those as pre-trained models as a foundation on which we train our connected encoder and decoder.  We could also look in to using back translation to augment our existing sentence pairs."
      ]
    },
    {
      "cell_type": "markdown",
      "source": [
        "# Biggest wins\n",
        "\n",
        "* **Fine-tune a pretrained model** (e.g., `t5-small`/`t5-base`) on your pairs instead of training from scratch.\n",
        "* **Train your tokenizer properly** (SentencePiece Unigram like T5) and **raise max length** to cover ≥95% of sequences.\n",
        "\n",
        "# Data\n",
        "\n",
        "* **More pairs** (both quantity and coverage of styles/lengths).\n",
        "* **Balance lengths** (stratify by length so train/val/test distributions match).\n",
        "* **Clean/normalize** (consistent quotes, punctuation, casing; remove duplicates/leakage).\n",
        "* **Augment** lightly (paraphrases on the modern side; filter noisy pairs).\n",
        "\n",
        "# Tokenizer\n",
        "\n",
        "* **Joint corpus training** (both sides, well-interleaved).\n",
        "* **Tune `vocab_size`** (e.g., 16k–24k) to reduce OOV/over-fragmentation.\n",
        "* **Inspect length histogram** post-tokenization; set `MAX_SEQUENCE_LENGTH` accordingly (e.g., 64–96).\n",
        "\n",
        "# Model/Config\n",
        "\n",
        "* **Depth**: increase to **2–4 layers** encoder/decoder.\n",
        "* **Width**: consider `d_model=384/512`, `d_ff≈2–4×d_model`.\n",
        "* **Dropout**: 0.1–0.2 to combat overfitting.\n",
        "* **Label masking**: set pad tokens in `labels` to **-100** so they don’t count toward loss.\n",
        "\n",
        "# Training\n",
        "\n",
        "* **Optimizer/schedule**: AdamW, **lr ~1e-4–3e-4**, **warmup** (e.g., 500 steps), cosine/linear decay.\n",
        "* **Batching**: dynamic padding or bucketing by length.\n",
        "* **Mixed precision** (`fp16/bf16`) for stability/speed.\n",
        "* **Early stopping** on val loss; train **longer** (more epochs) if underfitting.\n",
        "\n",
        "# Decoding (quick wins you can try now)\n",
        "\n",
        "* **Beam search**: `num_beams=4–8`, **length_penalty=1.0–1.2**.\n",
        "* **Sampling** (if you want diversity): `do_sample=True, top_p=0.9, temperature=0.7`.\n",
        "\n",
        "```python\n",
        "t5_model.generate(\n",
        "    inputs, num_beams=6, length_penalty=1.1,\n",
        "    no_repeat_ngram_size=4, max_new_tokens=64\n",
        ")\n",
        "```\n",
        "\n",
        "# Evaluation & debugging\n",
        "\n",
        "* Track **BLEU/ROUGE/chrF/BERTScore** on val/test.\n",
        "* **Qualitative error sets**: bucket errors by length, archaisms, syntax.\n",
        "* **Ablations**: change one knob at a time (depth, max length, decoding) to see impact.\n",
        "\n",
        "# If staying scratch-only (educational)\n",
        "\n",
        "* Gradually **scale depth/width**.\n",
        "* **Curriculum**: start with short/easy pairs → progressively harder/longer.\n",
        "* **Regularize** (dropout, label smoothing 0.1).\n",
        "\n"
      ],
      "metadata": {
        "id": "xNcZ64THg9fW"
      }
    },
    {
      "cell_type": "code",
      "source": [],
      "metadata": {
        "id": "eOwlg0DkhGfs"
      },
      "execution_count": null,
      "outputs": []
    }
  ],
  "metadata": {
    "accelerator": "GPU",
    "colab": {
      "gpuType": "L4",
      "provenance": [],
      "toc_visible": true,
      "machine_shape": "hm"
    },
    "kernelspec": {
      "display_name": "Python 3",
      "name": "python3"
    },
    "language_info": {
      "codemirror_mode": {
        "name": "ipython",
        "version": 3
      },
      "file_extension": ".py",
      "mimetype": "text/x-python",
      "name": "python",
      "nbconvert_exporter": "python",
      "pygments_lexer": "ipython3",
      "version": "3.11.5"
    },
    "widgets": {
      "application/vnd.jupyter.widget-state+json": {
        "8f43aa10ccce4bfab52fbccd549e3542": {
          "model_module": "@jupyter-widgets/controls",
          "model_name": "HBoxModel",
          "model_module_version": "1.5.0",
          "state": {
            "_dom_classes": [],
            "_model_module": "@jupyter-widgets/controls",
            "_model_module_version": "1.5.0",
            "_model_name": "HBoxModel",
            "_view_count": null,
            "_view_module": "@jupyter-widgets/controls",
            "_view_module_version": "1.5.0",
            "_view_name": "HBoxView",
            "box_style": "",
            "children": [
              "IPY_MODEL_ed16e46d8d724588861ec7097bda07b5",
              "IPY_MODEL_e97cd563967a4c80affac403e111c362",
              "IPY_MODEL_189c6cd375284a7d83c60212b9c9b142"
            ],
            "layout": "IPY_MODEL_5cf4f61ce52a42458440c03bb5ee9c8a"
          }
        },
        "ed16e46d8d724588861ec7097bda07b5": {
          "model_module": "@jupyter-widgets/controls",
          "model_name": "HTMLModel",
          "model_module_version": "1.5.0",
          "state": {
            "_dom_classes": [],
            "_model_module": "@jupyter-widgets/controls",
            "_model_module_version": "1.5.0",
            "_model_name": "HTMLModel",
            "_view_count": null,
            "_view_module": "@jupyter-widgets/controls",
            "_view_module_version": "1.5.0",
            "_view_name": "HTMLView",
            "description": "",
            "description_tooltip": null,
            "layout": "IPY_MODEL_172d0a4939644d61a04b37b5fbec3c71",
            "placeholder": "​",
            "style": "IPY_MODEL_f098bc2f54f542ed91292af67fedd2cb",
            "value": "spiece.model: 100%"
          }
        },
        "e97cd563967a4c80affac403e111c362": {
          "model_module": "@jupyter-widgets/controls",
          "model_name": "FloatProgressModel",
          "model_module_version": "1.5.0",
          "state": {
            "_dom_classes": [],
            "_model_module": "@jupyter-widgets/controls",
            "_model_module_version": "1.5.0",
            "_model_name": "FloatProgressModel",
            "_view_count": null,
            "_view_module": "@jupyter-widgets/controls",
            "_view_module_version": "1.5.0",
            "_view_name": "ProgressView",
            "bar_style": "success",
            "description": "",
            "description_tooltip": null,
            "layout": "IPY_MODEL_2549ac9576e5405a938c9c6ad26683ea",
            "max": 791656,
            "min": 0,
            "orientation": "horizontal",
            "style": "IPY_MODEL_afd0c0337b234a0eaefe710886d245eb",
            "value": 791656
          }
        },
        "189c6cd375284a7d83c60212b9c9b142": {
          "model_module": "@jupyter-widgets/controls",
          "model_name": "HTMLModel",
          "model_module_version": "1.5.0",
          "state": {
            "_dom_classes": [],
            "_model_module": "@jupyter-widgets/controls",
            "_model_module_version": "1.5.0",
            "_model_name": "HTMLModel",
            "_view_count": null,
            "_view_module": "@jupyter-widgets/controls",
            "_view_module_version": "1.5.0",
            "_view_name": "HTMLView",
            "description": "",
            "description_tooltip": null,
            "layout": "IPY_MODEL_a6dc6aca90c1445a8f0abfe2d2f2d836",
            "placeholder": "​",
            "style": "IPY_MODEL_d4bdbd45a5474639b701c84b52bbff22",
            "value": " 792k/792k [00:00&lt;00:00, 1.23MB/s]"
          }
        },
        "5cf4f61ce52a42458440c03bb5ee9c8a": {
          "model_module": "@jupyter-widgets/base",
          "model_name": "LayoutModel",
          "model_module_version": "1.2.0",
          "state": {
            "_model_module": "@jupyter-widgets/base",
            "_model_module_version": "1.2.0",
            "_model_name": "LayoutModel",
            "_view_count": null,
            "_view_module": "@jupyter-widgets/base",
            "_view_module_version": "1.2.0",
            "_view_name": "LayoutView",
            "align_content": null,
            "align_items": null,
            "align_self": null,
            "border": null,
            "bottom": null,
            "display": null,
            "flex": null,
            "flex_flow": null,
            "grid_area": null,
            "grid_auto_columns": null,
            "grid_auto_flow": null,
            "grid_auto_rows": null,
            "grid_column": null,
            "grid_gap": null,
            "grid_row": null,
            "grid_template_areas": null,
            "grid_template_columns": null,
            "grid_template_rows": null,
            "height": null,
            "justify_content": null,
            "justify_items": null,
            "left": null,
            "margin": null,
            "max_height": null,
            "max_width": null,
            "min_height": null,
            "min_width": null,
            "object_fit": null,
            "object_position": null,
            "order": null,
            "overflow": null,
            "overflow_x": null,
            "overflow_y": null,
            "padding": null,
            "right": null,
            "top": null,
            "visibility": null,
            "width": null
          }
        },
        "172d0a4939644d61a04b37b5fbec3c71": {
          "model_module": "@jupyter-widgets/base",
          "model_name": "LayoutModel",
          "model_module_version": "1.2.0",
          "state": {
            "_model_module": "@jupyter-widgets/base",
            "_model_module_version": "1.2.0",
            "_model_name": "LayoutModel",
            "_view_count": null,
            "_view_module": "@jupyter-widgets/base",
            "_view_module_version": "1.2.0",
            "_view_name": "LayoutView",
            "align_content": null,
            "align_items": null,
            "align_self": null,
            "border": null,
            "bottom": null,
            "display": null,
            "flex": null,
            "flex_flow": null,
            "grid_area": null,
            "grid_auto_columns": null,
            "grid_auto_flow": null,
            "grid_auto_rows": null,
            "grid_column": null,
            "grid_gap": null,
            "grid_row": null,
            "grid_template_areas": null,
            "grid_template_columns": null,
            "grid_template_rows": null,
            "height": null,
            "justify_content": null,
            "justify_items": null,
            "left": null,
            "margin": null,
            "max_height": null,
            "max_width": null,
            "min_height": null,
            "min_width": null,
            "object_fit": null,
            "object_position": null,
            "order": null,
            "overflow": null,
            "overflow_x": null,
            "overflow_y": null,
            "padding": null,
            "right": null,
            "top": null,
            "visibility": null,
            "width": null
          }
        },
        "f098bc2f54f542ed91292af67fedd2cb": {
          "model_module": "@jupyter-widgets/controls",
          "model_name": "DescriptionStyleModel",
          "model_module_version": "1.5.0",
          "state": {
            "_model_module": "@jupyter-widgets/controls",
            "_model_module_version": "1.5.0",
            "_model_name": "DescriptionStyleModel",
            "_view_count": null,
            "_view_module": "@jupyter-widgets/base",
            "_view_module_version": "1.2.0",
            "_view_name": "StyleView",
            "description_width": ""
          }
        },
        "2549ac9576e5405a938c9c6ad26683ea": {
          "model_module": "@jupyter-widgets/base",
          "model_name": "LayoutModel",
          "model_module_version": "1.2.0",
          "state": {
            "_model_module": "@jupyter-widgets/base",
            "_model_module_version": "1.2.0",
            "_model_name": "LayoutModel",
            "_view_count": null,
            "_view_module": "@jupyter-widgets/base",
            "_view_module_version": "1.2.0",
            "_view_name": "LayoutView",
            "align_content": null,
            "align_items": null,
            "align_self": null,
            "border": null,
            "bottom": null,
            "display": null,
            "flex": null,
            "flex_flow": null,
            "grid_area": null,
            "grid_auto_columns": null,
            "grid_auto_flow": null,
            "grid_auto_rows": null,
            "grid_column": null,
            "grid_gap": null,
            "grid_row": null,
            "grid_template_areas": null,
            "grid_template_columns": null,
            "grid_template_rows": null,
            "height": null,
            "justify_content": null,
            "justify_items": null,
            "left": null,
            "margin": null,
            "max_height": null,
            "max_width": null,
            "min_height": null,
            "min_width": null,
            "object_fit": null,
            "object_position": null,
            "order": null,
            "overflow": null,
            "overflow_x": null,
            "overflow_y": null,
            "padding": null,
            "right": null,
            "top": null,
            "visibility": null,
            "width": null
          }
        },
        "afd0c0337b234a0eaefe710886d245eb": {
          "model_module": "@jupyter-widgets/controls",
          "model_name": "ProgressStyleModel",
          "model_module_version": "1.5.0",
          "state": {
            "_model_module": "@jupyter-widgets/controls",
            "_model_module_version": "1.5.0",
            "_model_name": "ProgressStyleModel",
            "_view_count": null,
            "_view_module": "@jupyter-widgets/base",
            "_view_module_version": "1.2.0",
            "_view_name": "StyleView",
            "bar_color": null,
            "description_width": ""
          }
        },
        "a6dc6aca90c1445a8f0abfe2d2f2d836": {
          "model_module": "@jupyter-widgets/base",
          "model_name": "LayoutModel",
          "model_module_version": "1.2.0",
          "state": {
            "_model_module": "@jupyter-widgets/base",
            "_model_module_version": "1.2.0",
            "_model_name": "LayoutModel",
            "_view_count": null,
            "_view_module": "@jupyter-widgets/base",
            "_view_module_version": "1.2.0",
            "_view_name": "LayoutView",
            "align_content": null,
            "align_items": null,
            "align_self": null,
            "border": null,
            "bottom": null,
            "display": null,
            "flex": null,
            "flex_flow": null,
            "grid_area": null,
            "grid_auto_columns": null,
            "grid_auto_flow": null,
            "grid_auto_rows": null,
            "grid_column": null,
            "grid_gap": null,
            "grid_row": null,
            "grid_template_areas": null,
            "grid_template_columns": null,
            "grid_template_rows": null,
            "height": null,
            "justify_content": null,
            "justify_items": null,
            "left": null,
            "margin": null,
            "max_height": null,
            "max_width": null,
            "min_height": null,
            "min_width": null,
            "object_fit": null,
            "object_position": null,
            "order": null,
            "overflow": null,
            "overflow_x": null,
            "overflow_y": null,
            "padding": null,
            "right": null,
            "top": null,
            "visibility": null,
            "width": null
          }
        },
        "d4bdbd45a5474639b701c84b52bbff22": {
          "model_module": "@jupyter-widgets/controls",
          "model_name": "DescriptionStyleModel",
          "model_module_version": "1.5.0",
          "state": {
            "_model_module": "@jupyter-widgets/controls",
            "_model_module_version": "1.5.0",
            "_model_name": "DescriptionStyleModel",
            "_view_count": null,
            "_view_module": "@jupyter-widgets/base",
            "_view_module_version": "1.2.0",
            "_view_name": "StyleView",
            "description_width": ""
          }
        },
        "fa39c193165d455380131e42b039af82": {
          "model_module": "@jupyter-widgets/controls",
          "model_name": "HBoxModel",
          "model_module_version": "1.5.0",
          "state": {
            "_dom_classes": [],
            "_model_module": "@jupyter-widgets/controls",
            "_model_module_version": "1.5.0",
            "_model_name": "HBoxModel",
            "_view_count": null,
            "_view_module": "@jupyter-widgets/controls",
            "_view_module_version": "1.5.0",
            "_view_name": "HBoxView",
            "box_style": "",
            "children": [
              "IPY_MODEL_522fce0f7b29476aa5107e8717e07d2e",
              "IPY_MODEL_cf19cfcd94b8469085efb815218085ef",
              "IPY_MODEL_06ad3b491ae54b7eae499d15d21ac2b7"
            ],
            "layout": "IPY_MODEL_3b7d0809852a43138396f96c6badafc9"
          }
        },
        "522fce0f7b29476aa5107e8717e07d2e": {
          "model_module": "@jupyter-widgets/controls",
          "model_name": "HTMLModel",
          "model_module_version": "1.5.0",
          "state": {
            "_dom_classes": [],
            "_model_module": "@jupyter-widgets/controls",
            "_model_module_version": "1.5.0",
            "_model_name": "HTMLModel",
            "_view_count": null,
            "_view_module": "@jupyter-widgets/controls",
            "_view_module_version": "1.5.0",
            "_view_name": "HTMLView",
            "description": "",
            "description_tooltip": null,
            "layout": "IPY_MODEL_08b7bf2f412c4651a83145f2318d8479",
            "placeholder": "​",
            "style": "IPY_MODEL_55f087b483624016b8a19b9fba52634b",
            "value": "tokenizer.json: 100%"
          }
        },
        "cf19cfcd94b8469085efb815218085ef": {
          "model_module": "@jupyter-widgets/controls",
          "model_name": "FloatProgressModel",
          "model_module_version": "1.5.0",
          "state": {
            "_dom_classes": [],
            "_model_module": "@jupyter-widgets/controls",
            "_model_module_version": "1.5.0",
            "_model_name": "FloatProgressModel",
            "_view_count": null,
            "_view_module": "@jupyter-widgets/controls",
            "_view_module_version": "1.5.0",
            "_view_name": "ProgressView",
            "bar_style": "success",
            "description": "",
            "description_tooltip": null,
            "layout": "IPY_MODEL_6fb7ab507592467aa3db34ca5497fc39",
            "max": 1389353,
            "min": 0,
            "orientation": "horizontal",
            "style": "IPY_MODEL_037b2ebb75f646f5955676cbf70de2ef",
            "value": 1389353
          }
        },
        "06ad3b491ae54b7eae499d15d21ac2b7": {
          "model_module": "@jupyter-widgets/controls",
          "model_name": "HTMLModel",
          "model_module_version": "1.5.0",
          "state": {
            "_dom_classes": [],
            "_model_module": "@jupyter-widgets/controls",
            "_model_module_version": "1.5.0",
            "_model_name": "HTMLModel",
            "_view_count": null,
            "_view_module": "@jupyter-widgets/controls",
            "_view_module_version": "1.5.0",
            "_view_name": "HTMLView",
            "description": "",
            "description_tooltip": null,
            "layout": "IPY_MODEL_cb31212bb8104677bd338b458d55f266",
            "placeholder": "​",
            "style": "IPY_MODEL_d583bfd4884849b184eb0961e793a43d",
            "value": " 1.39M/1.39M [00:00&lt;00:00, 1.61MB/s]"
          }
        },
        "3b7d0809852a43138396f96c6badafc9": {
          "model_module": "@jupyter-widgets/base",
          "model_name": "LayoutModel",
          "model_module_version": "1.2.0",
          "state": {
            "_model_module": "@jupyter-widgets/base",
            "_model_module_version": "1.2.0",
            "_model_name": "LayoutModel",
            "_view_count": null,
            "_view_module": "@jupyter-widgets/base",
            "_view_module_version": "1.2.0",
            "_view_name": "LayoutView",
            "align_content": null,
            "align_items": null,
            "align_self": null,
            "border": null,
            "bottom": null,
            "display": null,
            "flex": null,
            "flex_flow": null,
            "grid_area": null,
            "grid_auto_columns": null,
            "grid_auto_flow": null,
            "grid_auto_rows": null,
            "grid_column": null,
            "grid_gap": null,
            "grid_row": null,
            "grid_template_areas": null,
            "grid_template_columns": null,
            "grid_template_rows": null,
            "height": null,
            "justify_content": null,
            "justify_items": null,
            "left": null,
            "margin": null,
            "max_height": null,
            "max_width": null,
            "min_height": null,
            "min_width": null,
            "object_fit": null,
            "object_position": null,
            "order": null,
            "overflow": null,
            "overflow_x": null,
            "overflow_y": null,
            "padding": null,
            "right": null,
            "top": null,
            "visibility": null,
            "width": null
          }
        },
        "08b7bf2f412c4651a83145f2318d8479": {
          "model_module": "@jupyter-widgets/base",
          "model_name": "LayoutModel",
          "model_module_version": "1.2.0",
          "state": {
            "_model_module": "@jupyter-widgets/base",
            "_model_module_version": "1.2.0",
            "_model_name": "LayoutModel",
            "_view_count": null,
            "_view_module": "@jupyter-widgets/base",
            "_view_module_version": "1.2.0",
            "_view_name": "LayoutView",
            "align_content": null,
            "align_items": null,
            "align_self": null,
            "border": null,
            "bottom": null,
            "display": null,
            "flex": null,
            "flex_flow": null,
            "grid_area": null,
            "grid_auto_columns": null,
            "grid_auto_flow": null,
            "grid_auto_rows": null,
            "grid_column": null,
            "grid_gap": null,
            "grid_row": null,
            "grid_template_areas": null,
            "grid_template_columns": null,
            "grid_template_rows": null,
            "height": null,
            "justify_content": null,
            "justify_items": null,
            "left": null,
            "margin": null,
            "max_height": null,
            "max_width": null,
            "min_height": null,
            "min_width": null,
            "object_fit": null,
            "object_position": null,
            "order": null,
            "overflow": null,
            "overflow_x": null,
            "overflow_y": null,
            "padding": null,
            "right": null,
            "top": null,
            "visibility": null,
            "width": null
          }
        },
        "55f087b483624016b8a19b9fba52634b": {
          "model_module": "@jupyter-widgets/controls",
          "model_name": "DescriptionStyleModel",
          "model_module_version": "1.5.0",
          "state": {
            "_model_module": "@jupyter-widgets/controls",
            "_model_module_version": "1.5.0",
            "_model_name": "DescriptionStyleModel",
            "_view_count": null,
            "_view_module": "@jupyter-widgets/base",
            "_view_module_version": "1.2.0",
            "_view_name": "StyleView",
            "description_width": ""
          }
        },
        "6fb7ab507592467aa3db34ca5497fc39": {
          "model_module": "@jupyter-widgets/base",
          "model_name": "LayoutModel",
          "model_module_version": "1.2.0",
          "state": {
            "_model_module": "@jupyter-widgets/base",
            "_model_module_version": "1.2.0",
            "_model_name": "LayoutModel",
            "_view_count": null,
            "_view_module": "@jupyter-widgets/base",
            "_view_module_version": "1.2.0",
            "_view_name": "LayoutView",
            "align_content": null,
            "align_items": null,
            "align_self": null,
            "border": null,
            "bottom": null,
            "display": null,
            "flex": null,
            "flex_flow": null,
            "grid_area": null,
            "grid_auto_columns": null,
            "grid_auto_flow": null,
            "grid_auto_rows": null,
            "grid_column": null,
            "grid_gap": null,
            "grid_row": null,
            "grid_template_areas": null,
            "grid_template_columns": null,
            "grid_template_rows": null,
            "height": null,
            "justify_content": null,
            "justify_items": null,
            "left": null,
            "margin": null,
            "max_height": null,
            "max_width": null,
            "min_height": null,
            "min_width": null,
            "object_fit": null,
            "object_position": null,
            "order": null,
            "overflow": null,
            "overflow_x": null,
            "overflow_y": null,
            "padding": null,
            "right": null,
            "top": null,
            "visibility": null,
            "width": null
          }
        },
        "037b2ebb75f646f5955676cbf70de2ef": {
          "model_module": "@jupyter-widgets/controls",
          "model_name": "ProgressStyleModel",
          "model_module_version": "1.5.0",
          "state": {
            "_model_module": "@jupyter-widgets/controls",
            "_model_module_version": "1.5.0",
            "_model_name": "ProgressStyleModel",
            "_view_count": null,
            "_view_module": "@jupyter-widgets/base",
            "_view_module_version": "1.2.0",
            "_view_name": "StyleView",
            "bar_color": null,
            "description_width": ""
          }
        },
        "cb31212bb8104677bd338b458d55f266": {
          "model_module": "@jupyter-widgets/base",
          "model_name": "LayoutModel",
          "model_module_version": "1.2.0",
          "state": {
            "_model_module": "@jupyter-widgets/base",
            "_model_module_version": "1.2.0",
            "_model_name": "LayoutModel",
            "_view_count": null,
            "_view_module": "@jupyter-widgets/base",
            "_view_module_version": "1.2.0",
            "_view_name": "LayoutView",
            "align_content": null,
            "align_items": null,
            "align_self": null,
            "border": null,
            "bottom": null,
            "display": null,
            "flex": null,
            "flex_flow": null,
            "grid_area": null,
            "grid_auto_columns": null,
            "grid_auto_flow": null,
            "grid_auto_rows": null,
            "grid_column": null,
            "grid_gap": null,
            "grid_row": null,
            "grid_template_areas": null,
            "grid_template_columns": null,
            "grid_template_rows": null,
            "height": null,
            "justify_content": null,
            "justify_items": null,
            "left": null,
            "margin": null,
            "max_height": null,
            "max_width": null,
            "min_height": null,
            "min_width": null,
            "object_fit": null,
            "object_position": null,
            "order": null,
            "overflow": null,
            "overflow_x": null,
            "overflow_y": null,
            "padding": null,
            "right": null,
            "top": null,
            "visibility": null,
            "width": null
          }
        },
        "d583bfd4884849b184eb0961e793a43d": {
          "model_module": "@jupyter-widgets/controls",
          "model_name": "DescriptionStyleModel",
          "model_module_version": "1.5.0",
          "state": {
            "_model_module": "@jupyter-widgets/controls",
            "_model_module_version": "1.5.0",
            "_model_name": "DescriptionStyleModel",
            "_view_count": null,
            "_view_module": "@jupyter-widgets/base",
            "_view_module_version": "1.2.0",
            "_view_name": "StyleView",
            "description_width": ""
          }
        },
        "2eb9ae5cee0b47889e808133a4ac0401": {
          "model_module": "@jupyter-widgets/controls",
          "model_name": "HBoxModel",
          "model_module_version": "1.5.0",
          "state": {
            "_dom_classes": [],
            "_model_module": "@jupyter-widgets/controls",
            "_model_module_version": "1.5.0",
            "_model_name": "HBoxModel",
            "_view_count": null,
            "_view_module": "@jupyter-widgets/controls",
            "_view_module_version": "1.5.0",
            "_view_name": "HBoxView",
            "box_style": "",
            "children": [
              "IPY_MODEL_d1104675134046d283b3f4796685be2d",
              "IPY_MODEL_6793a173ec2448e7b3562a1abccecbee",
              "IPY_MODEL_7449b2be681641ecb12b2d2a47f5dfec"
            ],
            "layout": "IPY_MODEL_601b659413974fc08b38806d0e8cd469"
          }
        },
        "d1104675134046d283b3f4796685be2d": {
          "model_module": "@jupyter-widgets/controls",
          "model_name": "HTMLModel",
          "model_module_version": "1.5.0",
          "state": {
            "_dom_classes": [],
            "_model_module": "@jupyter-widgets/controls",
            "_model_module_version": "1.5.0",
            "_model_name": "HTMLModel",
            "_view_count": null,
            "_view_module": "@jupyter-widgets/controls",
            "_view_module_version": "1.5.0",
            "_view_name": "HTMLView",
            "description": "",
            "description_tooltip": null,
            "layout": "IPY_MODEL_f9fdf4cd5bca42f386cf7fb8bb4fa9f4",
            "placeholder": "​",
            "style": "IPY_MODEL_c41744e3dc9943acae021af38156b1af",
            "value": "config.json: 100%"
          }
        },
        "6793a173ec2448e7b3562a1abccecbee": {
          "model_module": "@jupyter-widgets/controls",
          "model_name": "FloatProgressModel",
          "model_module_version": "1.5.0",
          "state": {
            "_dom_classes": [],
            "_model_module": "@jupyter-widgets/controls",
            "_model_module_version": "1.5.0",
            "_model_name": "FloatProgressModel",
            "_view_count": null,
            "_view_module": "@jupyter-widgets/controls",
            "_view_module_version": "1.5.0",
            "_view_name": "ProgressView",
            "bar_style": "success",
            "description": "",
            "description_tooltip": null,
            "layout": "IPY_MODEL_95933606b570460f849e1816320a82ba",
            "max": 1208,
            "min": 0,
            "orientation": "horizontal",
            "style": "IPY_MODEL_acc8537c08c34141a6f20f99728fd7bc",
            "value": 1208
          }
        },
        "7449b2be681641ecb12b2d2a47f5dfec": {
          "model_module": "@jupyter-widgets/controls",
          "model_name": "HTMLModel",
          "model_module_version": "1.5.0",
          "state": {
            "_dom_classes": [],
            "_model_module": "@jupyter-widgets/controls",
            "_model_module_version": "1.5.0",
            "_model_name": "HTMLModel",
            "_view_count": null,
            "_view_module": "@jupyter-widgets/controls",
            "_view_module_version": "1.5.0",
            "_view_name": "HTMLView",
            "description": "",
            "description_tooltip": null,
            "layout": "IPY_MODEL_ab0b666c642b4f92b4f25465cad25464",
            "placeholder": "​",
            "style": "IPY_MODEL_c2ed69e7c8824392bba2261f86899a93",
            "value": " 1.21k/1.21k [00:00&lt;00:00, 147kB/s]"
          }
        },
        "601b659413974fc08b38806d0e8cd469": {
          "model_module": "@jupyter-widgets/base",
          "model_name": "LayoutModel",
          "model_module_version": "1.2.0",
          "state": {
            "_model_module": "@jupyter-widgets/base",
            "_model_module_version": "1.2.0",
            "_model_name": "LayoutModel",
            "_view_count": null,
            "_view_module": "@jupyter-widgets/base",
            "_view_module_version": "1.2.0",
            "_view_name": "LayoutView",
            "align_content": null,
            "align_items": null,
            "align_self": null,
            "border": null,
            "bottom": null,
            "display": null,
            "flex": null,
            "flex_flow": null,
            "grid_area": null,
            "grid_auto_columns": null,
            "grid_auto_flow": null,
            "grid_auto_rows": null,
            "grid_column": null,
            "grid_gap": null,
            "grid_row": null,
            "grid_template_areas": null,
            "grid_template_columns": null,
            "grid_template_rows": null,
            "height": null,
            "justify_content": null,
            "justify_items": null,
            "left": null,
            "margin": null,
            "max_height": null,
            "max_width": null,
            "min_height": null,
            "min_width": null,
            "object_fit": null,
            "object_position": null,
            "order": null,
            "overflow": null,
            "overflow_x": null,
            "overflow_y": null,
            "padding": null,
            "right": null,
            "top": null,
            "visibility": null,
            "width": null
          }
        },
        "f9fdf4cd5bca42f386cf7fb8bb4fa9f4": {
          "model_module": "@jupyter-widgets/base",
          "model_name": "LayoutModel",
          "model_module_version": "1.2.0",
          "state": {
            "_model_module": "@jupyter-widgets/base",
            "_model_module_version": "1.2.0",
            "_model_name": "LayoutModel",
            "_view_count": null,
            "_view_module": "@jupyter-widgets/base",
            "_view_module_version": "1.2.0",
            "_view_name": "LayoutView",
            "align_content": null,
            "align_items": null,
            "align_self": null,
            "border": null,
            "bottom": null,
            "display": null,
            "flex": null,
            "flex_flow": null,
            "grid_area": null,
            "grid_auto_columns": null,
            "grid_auto_flow": null,
            "grid_auto_rows": null,
            "grid_column": null,
            "grid_gap": null,
            "grid_row": null,
            "grid_template_areas": null,
            "grid_template_columns": null,
            "grid_template_rows": null,
            "height": null,
            "justify_content": null,
            "justify_items": null,
            "left": null,
            "margin": null,
            "max_height": null,
            "max_width": null,
            "min_height": null,
            "min_width": null,
            "object_fit": null,
            "object_position": null,
            "order": null,
            "overflow": null,
            "overflow_x": null,
            "overflow_y": null,
            "padding": null,
            "right": null,
            "top": null,
            "visibility": null,
            "width": null
          }
        },
        "c41744e3dc9943acae021af38156b1af": {
          "model_module": "@jupyter-widgets/controls",
          "model_name": "DescriptionStyleModel",
          "model_module_version": "1.5.0",
          "state": {
            "_model_module": "@jupyter-widgets/controls",
            "_model_module_version": "1.5.0",
            "_model_name": "DescriptionStyleModel",
            "_view_count": null,
            "_view_module": "@jupyter-widgets/base",
            "_view_module_version": "1.2.0",
            "_view_name": "StyleView",
            "description_width": ""
          }
        },
        "95933606b570460f849e1816320a82ba": {
          "model_module": "@jupyter-widgets/base",
          "model_name": "LayoutModel",
          "model_module_version": "1.2.0",
          "state": {
            "_model_module": "@jupyter-widgets/base",
            "_model_module_version": "1.2.0",
            "_model_name": "LayoutModel",
            "_view_count": null,
            "_view_module": "@jupyter-widgets/base",
            "_view_module_version": "1.2.0",
            "_view_name": "LayoutView",
            "align_content": null,
            "align_items": null,
            "align_self": null,
            "border": null,
            "bottom": null,
            "display": null,
            "flex": null,
            "flex_flow": null,
            "grid_area": null,
            "grid_auto_columns": null,
            "grid_auto_flow": null,
            "grid_auto_rows": null,
            "grid_column": null,
            "grid_gap": null,
            "grid_row": null,
            "grid_template_areas": null,
            "grid_template_columns": null,
            "grid_template_rows": null,
            "height": null,
            "justify_content": null,
            "justify_items": null,
            "left": null,
            "margin": null,
            "max_height": null,
            "max_width": null,
            "min_height": null,
            "min_width": null,
            "object_fit": null,
            "object_position": null,
            "order": null,
            "overflow": null,
            "overflow_x": null,
            "overflow_y": null,
            "padding": null,
            "right": null,
            "top": null,
            "visibility": null,
            "width": null
          }
        },
        "acc8537c08c34141a6f20f99728fd7bc": {
          "model_module": "@jupyter-widgets/controls",
          "model_name": "ProgressStyleModel",
          "model_module_version": "1.5.0",
          "state": {
            "_model_module": "@jupyter-widgets/controls",
            "_model_module_version": "1.5.0",
            "_model_name": "ProgressStyleModel",
            "_view_count": null,
            "_view_module": "@jupyter-widgets/base",
            "_view_module_version": "1.2.0",
            "_view_name": "StyleView",
            "bar_color": null,
            "description_width": ""
          }
        },
        "ab0b666c642b4f92b4f25465cad25464": {
          "model_module": "@jupyter-widgets/base",
          "model_name": "LayoutModel",
          "model_module_version": "1.2.0",
          "state": {
            "_model_module": "@jupyter-widgets/base",
            "_model_module_version": "1.2.0",
            "_model_name": "LayoutModel",
            "_view_count": null,
            "_view_module": "@jupyter-widgets/base",
            "_view_module_version": "1.2.0",
            "_view_name": "LayoutView",
            "align_content": null,
            "align_items": null,
            "align_self": null,
            "border": null,
            "bottom": null,
            "display": null,
            "flex": null,
            "flex_flow": null,
            "grid_area": null,
            "grid_auto_columns": null,
            "grid_auto_flow": null,
            "grid_auto_rows": null,
            "grid_column": null,
            "grid_gap": null,
            "grid_row": null,
            "grid_template_areas": null,
            "grid_template_columns": null,
            "grid_template_rows": null,
            "height": null,
            "justify_content": null,
            "justify_items": null,
            "left": null,
            "margin": null,
            "max_height": null,
            "max_width": null,
            "min_height": null,
            "min_width": null,
            "object_fit": null,
            "object_position": null,
            "order": null,
            "overflow": null,
            "overflow_x": null,
            "overflow_y": null,
            "padding": null,
            "right": null,
            "top": null,
            "visibility": null,
            "width": null
          }
        },
        "c2ed69e7c8824392bba2261f86899a93": {
          "model_module": "@jupyter-widgets/controls",
          "model_name": "DescriptionStyleModel",
          "model_module_version": "1.5.0",
          "state": {
            "_model_module": "@jupyter-widgets/controls",
            "_model_module_version": "1.5.0",
            "_model_name": "DescriptionStyleModel",
            "_view_count": null,
            "_view_module": "@jupyter-widgets/base",
            "_view_module_version": "1.2.0",
            "_view_name": "StyleView",
            "description_width": ""
          }
        },
        "72d618c1d9cb4409bea1fdde37291048": {
          "model_module": "@jupyter-widgets/controls",
          "model_name": "HBoxModel",
          "model_module_version": "1.5.0",
          "state": {
            "_dom_classes": [],
            "_model_module": "@jupyter-widgets/controls",
            "_model_module_version": "1.5.0",
            "_model_name": "HBoxModel",
            "_view_count": null,
            "_view_module": "@jupyter-widgets/controls",
            "_view_module_version": "1.5.0",
            "_view_name": "HBoxView",
            "box_style": "",
            "children": [
              "IPY_MODEL_5593d2b80e3247b28fe9c3a64491a0e2",
              "IPY_MODEL_b7e9fcfebfa449118cb249718466c5cd",
              "IPY_MODEL_aa384d68a3794cb08c69e432f42f8ef5"
            ],
            "layout": "IPY_MODEL_80551ad786e0445ca736d28372f1b990"
          }
        },
        "5593d2b80e3247b28fe9c3a64491a0e2": {
          "model_module": "@jupyter-widgets/controls",
          "model_name": "HTMLModel",
          "model_module_version": "1.5.0",
          "state": {
            "_dom_classes": [],
            "_model_module": "@jupyter-widgets/controls",
            "_model_module_version": "1.5.0",
            "_model_name": "HTMLModel",
            "_view_count": null,
            "_view_module": "@jupyter-widgets/controls",
            "_view_module_version": "1.5.0",
            "_view_name": "HTMLView",
            "description": "",
            "description_tooltip": null,
            "layout": "IPY_MODEL_7131b452390648c0aee077780524b039",
            "placeholder": "​",
            "style": "IPY_MODEL_a31d093539e14550a88964a6a966a680",
            "value": "Map: 100%"
          }
        },
        "b7e9fcfebfa449118cb249718466c5cd": {
          "model_module": "@jupyter-widgets/controls",
          "model_name": "FloatProgressModel",
          "model_module_version": "1.5.0",
          "state": {
            "_dom_classes": [],
            "_model_module": "@jupyter-widgets/controls",
            "_model_module_version": "1.5.0",
            "_model_name": "FloatProgressModel",
            "_view_count": null,
            "_view_module": "@jupyter-widgets/controls",
            "_view_module_version": "1.5.0",
            "_view_name": "ProgressView",
            "bar_style": "success",
            "description": "",
            "description_tooltip": null,
            "layout": "IPY_MODEL_f886357214934ccdadee4cb02294d390",
            "max": 16798,
            "min": 0,
            "orientation": "horizontal",
            "style": "IPY_MODEL_afa06d6115b9421c82978c84e7e8f2d8",
            "value": 16798
          }
        },
        "aa384d68a3794cb08c69e432f42f8ef5": {
          "model_module": "@jupyter-widgets/controls",
          "model_name": "HTMLModel",
          "model_module_version": "1.5.0",
          "state": {
            "_dom_classes": [],
            "_model_module": "@jupyter-widgets/controls",
            "_model_module_version": "1.5.0",
            "_model_name": "HTMLModel",
            "_view_count": null,
            "_view_module": "@jupyter-widgets/controls",
            "_view_module_version": "1.5.0",
            "_view_name": "HTMLView",
            "description": "",
            "description_tooltip": null,
            "layout": "IPY_MODEL_c6eafa85c7414a7a9bc186acd53f7df7",
            "placeholder": "​",
            "style": "IPY_MODEL_4e527905c8dd4c6587de79ed6ece8baa",
            "value": " 16798/16798 [00:01&lt;00:00, 12609.77 examples/s]"
          }
        },
        "80551ad786e0445ca736d28372f1b990": {
          "model_module": "@jupyter-widgets/base",
          "model_name": "LayoutModel",
          "model_module_version": "1.2.0",
          "state": {
            "_model_module": "@jupyter-widgets/base",
            "_model_module_version": "1.2.0",
            "_model_name": "LayoutModel",
            "_view_count": null,
            "_view_module": "@jupyter-widgets/base",
            "_view_module_version": "1.2.0",
            "_view_name": "LayoutView",
            "align_content": null,
            "align_items": null,
            "align_self": null,
            "border": null,
            "bottom": null,
            "display": null,
            "flex": null,
            "flex_flow": null,
            "grid_area": null,
            "grid_auto_columns": null,
            "grid_auto_flow": null,
            "grid_auto_rows": null,
            "grid_column": null,
            "grid_gap": null,
            "grid_row": null,
            "grid_template_areas": null,
            "grid_template_columns": null,
            "grid_template_rows": null,
            "height": null,
            "justify_content": null,
            "justify_items": null,
            "left": null,
            "margin": null,
            "max_height": null,
            "max_width": null,
            "min_height": null,
            "min_width": null,
            "object_fit": null,
            "object_position": null,
            "order": null,
            "overflow": null,
            "overflow_x": null,
            "overflow_y": null,
            "padding": null,
            "right": null,
            "top": null,
            "visibility": null,
            "width": null
          }
        },
        "7131b452390648c0aee077780524b039": {
          "model_module": "@jupyter-widgets/base",
          "model_name": "LayoutModel",
          "model_module_version": "1.2.0",
          "state": {
            "_model_module": "@jupyter-widgets/base",
            "_model_module_version": "1.2.0",
            "_model_name": "LayoutModel",
            "_view_count": null,
            "_view_module": "@jupyter-widgets/base",
            "_view_module_version": "1.2.0",
            "_view_name": "LayoutView",
            "align_content": null,
            "align_items": null,
            "align_self": null,
            "border": null,
            "bottom": null,
            "display": null,
            "flex": null,
            "flex_flow": null,
            "grid_area": null,
            "grid_auto_columns": null,
            "grid_auto_flow": null,
            "grid_auto_rows": null,
            "grid_column": null,
            "grid_gap": null,
            "grid_row": null,
            "grid_template_areas": null,
            "grid_template_columns": null,
            "grid_template_rows": null,
            "height": null,
            "justify_content": null,
            "justify_items": null,
            "left": null,
            "margin": null,
            "max_height": null,
            "max_width": null,
            "min_height": null,
            "min_width": null,
            "object_fit": null,
            "object_position": null,
            "order": null,
            "overflow": null,
            "overflow_x": null,
            "overflow_y": null,
            "padding": null,
            "right": null,
            "top": null,
            "visibility": null,
            "width": null
          }
        },
        "a31d093539e14550a88964a6a966a680": {
          "model_module": "@jupyter-widgets/controls",
          "model_name": "DescriptionStyleModel",
          "model_module_version": "1.5.0",
          "state": {
            "_model_module": "@jupyter-widgets/controls",
            "_model_module_version": "1.5.0",
            "_model_name": "DescriptionStyleModel",
            "_view_count": null,
            "_view_module": "@jupyter-widgets/base",
            "_view_module_version": "1.2.0",
            "_view_name": "StyleView",
            "description_width": ""
          }
        },
        "f886357214934ccdadee4cb02294d390": {
          "model_module": "@jupyter-widgets/base",
          "model_name": "LayoutModel",
          "model_module_version": "1.2.0",
          "state": {
            "_model_module": "@jupyter-widgets/base",
            "_model_module_version": "1.2.0",
            "_model_name": "LayoutModel",
            "_view_count": null,
            "_view_module": "@jupyter-widgets/base",
            "_view_module_version": "1.2.0",
            "_view_name": "LayoutView",
            "align_content": null,
            "align_items": null,
            "align_self": null,
            "border": null,
            "bottom": null,
            "display": null,
            "flex": null,
            "flex_flow": null,
            "grid_area": null,
            "grid_auto_columns": null,
            "grid_auto_flow": null,
            "grid_auto_rows": null,
            "grid_column": null,
            "grid_gap": null,
            "grid_row": null,
            "grid_template_areas": null,
            "grid_template_columns": null,
            "grid_template_rows": null,
            "height": null,
            "justify_content": null,
            "justify_items": null,
            "left": null,
            "margin": null,
            "max_height": null,
            "max_width": null,
            "min_height": null,
            "min_width": null,
            "object_fit": null,
            "object_position": null,
            "order": null,
            "overflow": null,
            "overflow_x": null,
            "overflow_y": null,
            "padding": null,
            "right": null,
            "top": null,
            "visibility": null,
            "width": null
          }
        },
        "afa06d6115b9421c82978c84e7e8f2d8": {
          "model_module": "@jupyter-widgets/controls",
          "model_name": "ProgressStyleModel",
          "model_module_version": "1.5.0",
          "state": {
            "_model_module": "@jupyter-widgets/controls",
            "_model_module_version": "1.5.0",
            "_model_name": "ProgressStyleModel",
            "_view_count": null,
            "_view_module": "@jupyter-widgets/base",
            "_view_module_version": "1.2.0",
            "_view_name": "StyleView",
            "bar_color": null,
            "description_width": ""
          }
        },
        "c6eafa85c7414a7a9bc186acd53f7df7": {
          "model_module": "@jupyter-widgets/base",
          "model_name": "LayoutModel",
          "model_module_version": "1.2.0",
          "state": {
            "_model_module": "@jupyter-widgets/base",
            "_model_module_version": "1.2.0",
            "_model_name": "LayoutModel",
            "_view_count": null,
            "_view_module": "@jupyter-widgets/base",
            "_view_module_version": "1.2.0",
            "_view_name": "LayoutView",
            "align_content": null,
            "align_items": null,
            "align_self": null,
            "border": null,
            "bottom": null,
            "display": null,
            "flex": null,
            "flex_flow": null,
            "grid_area": null,
            "grid_auto_columns": null,
            "grid_auto_flow": null,
            "grid_auto_rows": null,
            "grid_column": null,
            "grid_gap": null,
            "grid_row": null,
            "grid_template_areas": null,
            "grid_template_columns": null,
            "grid_template_rows": null,
            "height": null,
            "justify_content": null,
            "justify_items": null,
            "left": null,
            "margin": null,
            "max_height": null,
            "max_width": null,
            "min_height": null,
            "min_width": null,
            "object_fit": null,
            "object_position": null,
            "order": null,
            "overflow": null,
            "overflow_x": null,
            "overflow_y": null,
            "padding": null,
            "right": null,
            "top": null,
            "visibility": null,
            "width": null
          }
        },
        "4e527905c8dd4c6587de79ed6ece8baa": {
          "model_module": "@jupyter-widgets/controls",
          "model_name": "DescriptionStyleModel",
          "model_module_version": "1.5.0",
          "state": {
            "_model_module": "@jupyter-widgets/controls",
            "_model_module_version": "1.5.0",
            "_model_name": "DescriptionStyleModel",
            "_view_count": null,
            "_view_module": "@jupyter-widgets/base",
            "_view_module_version": "1.2.0",
            "_view_name": "StyleView",
            "description_width": ""
          }
        },
        "1583bb8a57af40a391f462bdf0c5bb29": {
          "model_module": "@jupyter-widgets/controls",
          "model_name": "HBoxModel",
          "model_module_version": "1.5.0",
          "state": {
            "_dom_classes": [],
            "_model_module": "@jupyter-widgets/controls",
            "_model_module_version": "1.5.0",
            "_model_name": "HBoxModel",
            "_view_count": null,
            "_view_module": "@jupyter-widgets/controls",
            "_view_module_version": "1.5.0",
            "_view_name": "HBoxView",
            "box_style": "",
            "children": [
              "IPY_MODEL_08928aee4ac34e6496f39aefe448a3e1",
              "IPY_MODEL_939ab72f30a34396b3467904098993ad",
              "IPY_MODEL_9016b0659c004df6b9bbaa8428e450b3"
            ],
            "layout": "IPY_MODEL_9071f79585684de2b2c05f54355690b6"
          }
        },
        "08928aee4ac34e6496f39aefe448a3e1": {
          "model_module": "@jupyter-widgets/controls",
          "model_name": "HTMLModel",
          "model_module_version": "1.5.0",
          "state": {
            "_dom_classes": [],
            "_model_module": "@jupyter-widgets/controls",
            "_model_module_version": "1.5.0",
            "_model_name": "HTMLModel",
            "_view_count": null,
            "_view_module": "@jupyter-widgets/controls",
            "_view_module_version": "1.5.0",
            "_view_name": "HTMLView",
            "description": "",
            "description_tooltip": null,
            "layout": "IPY_MODEL_df534f8fcd114352b3d14a1a98f5c89b",
            "placeholder": "​",
            "style": "IPY_MODEL_be0b18bdfa9b44989d4b9ebb468624ac",
            "value": "Map: 100%"
          }
        },
        "939ab72f30a34396b3467904098993ad": {
          "model_module": "@jupyter-widgets/controls",
          "model_name": "FloatProgressModel",
          "model_module_version": "1.5.0",
          "state": {
            "_dom_classes": [],
            "_model_module": "@jupyter-widgets/controls",
            "_model_module_version": "1.5.0",
            "_model_name": "FloatProgressModel",
            "_view_count": null,
            "_view_module": "@jupyter-widgets/controls",
            "_view_module_version": "1.5.0",
            "_view_name": "ProgressView",
            "bar_style": "success",
            "description": "",
            "description_tooltip": null,
            "layout": "IPY_MODEL_445debf4ccc84414ae91fe150db8a227",
            "max": 1145,
            "min": 0,
            "orientation": "horizontal",
            "style": "IPY_MODEL_288f51ab69294647af415fb074ecaaac",
            "value": 1145
          }
        },
        "9016b0659c004df6b9bbaa8428e450b3": {
          "model_module": "@jupyter-widgets/controls",
          "model_name": "HTMLModel",
          "model_module_version": "1.5.0",
          "state": {
            "_dom_classes": [],
            "_model_module": "@jupyter-widgets/controls",
            "_model_module_version": "1.5.0",
            "_model_name": "HTMLModel",
            "_view_count": null,
            "_view_module": "@jupyter-widgets/controls",
            "_view_module_version": "1.5.0",
            "_view_name": "HTMLView",
            "description": "",
            "description_tooltip": null,
            "layout": "IPY_MODEL_306539b446104f99bcec22ef28b8cc56",
            "placeholder": "​",
            "style": "IPY_MODEL_f2580636115348e1a67e1efa56f497a2",
            "value": " 1145/1145 [00:00&lt;00:00, 10315.71 examples/s]"
          }
        },
        "9071f79585684de2b2c05f54355690b6": {
          "model_module": "@jupyter-widgets/base",
          "model_name": "LayoutModel",
          "model_module_version": "1.2.0",
          "state": {
            "_model_module": "@jupyter-widgets/base",
            "_model_module_version": "1.2.0",
            "_model_name": "LayoutModel",
            "_view_count": null,
            "_view_module": "@jupyter-widgets/base",
            "_view_module_version": "1.2.0",
            "_view_name": "LayoutView",
            "align_content": null,
            "align_items": null,
            "align_self": null,
            "border": null,
            "bottom": null,
            "display": null,
            "flex": null,
            "flex_flow": null,
            "grid_area": null,
            "grid_auto_columns": null,
            "grid_auto_flow": null,
            "grid_auto_rows": null,
            "grid_column": null,
            "grid_gap": null,
            "grid_row": null,
            "grid_template_areas": null,
            "grid_template_columns": null,
            "grid_template_rows": null,
            "height": null,
            "justify_content": null,
            "justify_items": null,
            "left": null,
            "margin": null,
            "max_height": null,
            "max_width": null,
            "min_height": null,
            "min_width": null,
            "object_fit": null,
            "object_position": null,
            "order": null,
            "overflow": null,
            "overflow_x": null,
            "overflow_y": null,
            "padding": null,
            "right": null,
            "top": null,
            "visibility": null,
            "width": null
          }
        },
        "df534f8fcd114352b3d14a1a98f5c89b": {
          "model_module": "@jupyter-widgets/base",
          "model_name": "LayoutModel",
          "model_module_version": "1.2.0",
          "state": {
            "_model_module": "@jupyter-widgets/base",
            "_model_module_version": "1.2.0",
            "_model_name": "LayoutModel",
            "_view_count": null,
            "_view_module": "@jupyter-widgets/base",
            "_view_module_version": "1.2.0",
            "_view_name": "LayoutView",
            "align_content": null,
            "align_items": null,
            "align_self": null,
            "border": null,
            "bottom": null,
            "display": null,
            "flex": null,
            "flex_flow": null,
            "grid_area": null,
            "grid_auto_columns": null,
            "grid_auto_flow": null,
            "grid_auto_rows": null,
            "grid_column": null,
            "grid_gap": null,
            "grid_row": null,
            "grid_template_areas": null,
            "grid_template_columns": null,
            "grid_template_rows": null,
            "height": null,
            "justify_content": null,
            "justify_items": null,
            "left": null,
            "margin": null,
            "max_height": null,
            "max_width": null,
            "min_height": null,
            "min_width": null,
            "object_fit": null,
            "object_position": null,
            "order": null,
            "overflow": null,
            "overflow_x": null,
            "overflow_y": null,
            "padding": null,
            "right": null,
            "top": null,
            "visibility": null,
            "width": null
          }
        },
        "be0b18bdfa9b44989d4b9ebb468624ac": {
          "model_module": "@jupyter-widgets/controls",
          "model_name": "DescriptionStyleModel",
          "model_module_version": "1.5.0",
          "state": {
            "_model_module": "@jupyter-widgets/controls",
            "_model_module_version": "1.5.0",
            "_model_name": "DescriptionStyleModel",
            "_view_count": null,
            "_view_module": "@jupyter-widgets/base",
            "_view_module_version": "1.2.0",
            "_view_name": "StyleView",
            "description_width": ""
          }
        },
        "445debf4ccc84414ae91fe150db8a227": {
          "model_module": "@jupyter-widgets/base",
          "model_name": "LayoutModel",
          "model_module_version": "1.2.0",
          "state": {
            "_model_module": "@jupyter-widgets/base",
            "_model_module_version": "1.2.0",
            "_model_name": "LayoutModel",
            "_view_count": null,
            "_view_module": "@jupyter-widgets/base",
            "_view_module_version": "1.2.0",
            "_view_name": "LayoutView",
            "align_content": null,
            "align_items": null,
            "align_self": null,
            "border": null,
            "bottom": null,
            "display": null,
            "flex": null,
            "flex_flow": null,
            "grid_area": null,
            "grid_auto_columns": null,
            "grid_auto_flow": null,
            "grid_auto_rows": null,
            "grid_column": null,
            "grid_gap": null,
            "grid_row": null,
            "grid_template_areas": null,
            "grid_template_columns": null,
            "grid_template_rows": null,
            "height": null,
            "justify_content": null,
            "justify_items": null,
            "left": null,
            "margin": null,
            "max_height": null,
            "max_width": null,
            "min_height": null,
            "min_width": null,
            "object_fit": null,
            "object_position": null,
            "order": null,
            "overflow": null,
            "overflow_x": null,
            "overflow_y": null,
            "padding": null,
            "right": null,
            "top": null,
            "visibility": null,
            "width": null
          }
        },
        "288f51ab69294647af415fb074ecaaac": {
          "model_module": "@jupyter-widgets/controls",
          "model_name": "ProgressStyleModel",
          "model_module_version": "1.5.0",
          "state": {
            "_model_module": "@jupyter-widgets/controls",
            "_model_module_version": "1.5.0",
            "_model_name": "ProgressStyleModel",
            "_view_count": null,
            "_view_module": "@jupyter-widgets/base",
            "_view_module_version": "1.2.0",
            "_view_name": "StyleView",
            "bar_color": null,
            "description_width": ""
          }
        },
        "306539b446104f99bcec22ef28b8cc56": {
          "model_module": "@jupyter-widgets/base",
          "model_name": "LayoutModel",
          "model_module_version": "1.2.0",
          "state": {
            "_model_module": "@jupyter-widgets/base",
            "_model_module_version": "1.2.0",
            "_model_name": "LayoutModel",
            "_view_count": null,
            "_view_module": "@jupyter-widgets/base",
            "_view_module_version": "1.2.0",
            "_view_name": "LayoutView",
            "align_content": null,
            "align_items": null,
            "align_self": null,
            "border": null,
            "bottom": null,
            "display": null,
            "flex": null,
            "flex_flow": null,
            "grid_area": null,
            "grid_auto_columns": null,
            "grid_auto_flow": null,
            "grid_auto_rows": null,
            "grid_column": null,
            "grid_gap": null,
            "grid_row": null,
            "grid_template_areas": null,
            "grid_template_columns": null,
            "grid_template_rows": null,
            "height": null,
            "justify_content": null,
            "justify_items": null,
            "left": null,
            "margin": null,
            "max_height": null,
            "max_width": null,
            "min_height": null,
            "min_width": null,
            "object_fit": null,
            "object_position": null,
            "order": null,
            "overflow": null,
            "overflow_x": null,
            "overflow_y": null,
            "padding": null,
            "right": null,
            "top": null,
            "visibility": null,
            "width": null
          }
        },
        "f2580636115348e1a67e1efa56f497a2": {
          "model_module": "@jupyter-widgets/controls",
          "model_name": "DescriptionStyleModel",
          "model_module_version": "1.5.0",
          "state": {
            "_model_module": "@jupyter-widgets/controls",
            "_model_module_version": "1.5.0",
            "_model_name": "DescriptionStyleModel",
            "_view_count": null,
            "_view_module": "@jupyter-widgets/base",
            "_view_module_version": "1.2.0",
            "_view_name": "StyleView",
            "description_width": ""
          }
        }
      }
    }
  },
  "nbformat": 4,
  "nbformat_minor": 0
}