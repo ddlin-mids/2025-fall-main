{
  "cells": [
    {
      "cell_type": "markdown",
      "metadata": {
        "id": "8IC2wq-6dd09"
      },
      "source": [
        "## Notebook for Lesson 1 - Review of Neural Net Basics\n",
        "\n",
        "**Note:** lesson notebooks are created for the purpose of in-class illustrations and student experimentation after class.\n",
        "\n",
        "Back to [week 1 slides](https://docs.google.com/presentation/d/1xHljj6EVfxc9KG0UD2G0-72dUbhif3oDCRENA-lv22Q/edit#slide=id.g1267b8de356_1_182)\n",
        "\n",
        "**Description:** Review some basics about cross entropy loss functions, vectors, matrices and tensors that we will use throughout the rest of the class.<br>\n",
        "\n",
        "Section 1 deals with setup and prerequisites, which does not need a lot of discussion.\n",
        "Cross entropy and loss functions are handled in section 2. Section 3 looks at vectors, matrices and their implementation and manipulation in Tensorflow. Section 4 discusses and demonstrates the softmax operation.  Section 5 uses the keras sequential API.  Section 6 introduces the Keras functional API, which we'll use in the remainder of the class, and demonstrates the effect of normalization on a layer's output.\n",
        "\n",
        "<a id = 'returnToTop'></a>\n",
        "\n",
        "## Notebook Contents\n",
        "  * 1. [Setup](#setup)\n",
        "  * 2. [Entropy and Loss Function Review](#entropyReview)\n",
        "    * 2.1 [Entropy](#entropyReview)  \n",
        "    * 2.2 [Cross Entropy](#crossEntropy)\n",
        "    * 2.3 [KL Divergence](#klDivergence)\n",
        "    * 2.4 [Checking a Few Things About Cross-Entropy](#checkingXEntropy)    \n",
        "  * 3. [A Few Basic Words on Vector and Matrix Calculations](#vectorMatrixCalc)\n",
        "    * 3.1 [Tensors and Tensor Manipulation](#tensorManipulation)\n",
        "  * 4. [Familiarization with the Output Layer and the Softmax Operation](#softmax)\n",
        "  * 5. [Most Basic Keras Intro](#basicKeras)\n",
        "  * 6. [Effects of Layer Normalization](#normalization)\n",
        "\n",
        "\n",
        "\n",
        "\n",
        "[![Open In Colab](https://colab.research.google.com/assets/colab-badge.svg)](https://colab.research.google.com/github/datasci-w266/2025-fall-main/blob/master/materials/lesson_notebooks/lesson_1_NN_Review.ipynb)"
      ]
    },
    {
      "cell_type": "markdown",
      "metadata": {
        "id": "lfWIyVzMdd1G"
      },
      "source": [
        "[Return to Top](#returnToTop)  \n",
        "<a id = 'setup'></a>\n",
        "\n",
        "## 1. Setup"
      ]
    },
    {
      "cell_type": "code",
      "execution_count": 1,
      "metadata": {
        "id": "NJ3B3JgVdd1G"
      },
      "outputs": [
        {
          "name": "stderr",
          "output_type": "stream",
          "text": [
            "2025-09-12 08:23:19.715021: I tensorflow/core/util/port.cc:153] oneDNN custom operations are on. You may see slightly different numerical results due to floating-point round-off errors from different computation orders. To turn them off, set the environment variable `TF_ENABLE_ONEDNN_OPTS=0`.\n",
            "2025-09-12 08:23:21.360495: I tensorflow/core/platform/cpu_feature_guard.cc:210] This TensorFlow binary is optimized to use available CPU instructions in performance-critical operations.\n",
            "To enable the following instructions: AVX2 AVX512F AVX512_VNNI FMA, in other operations, rebuild TensorFlow with the appropriate compiler flags.\n",
            "2025-09-12 08:23:40.693255: I tensorflow/core/util/port.cc:153] oneDNN custom operations are on. You may see slightly different numerical results due to floating-point round-off errors from different computation orders. To turn them off, set the environment variable `TF_ENABLE_ONEDNN_OPTS=0`.\n"
          ]
        }
      ],
      "source": [
        "import os\n",
        "os.environ[\"KERAS_BACKEND\"] = \"tensorflow\"\n",
        "\n",
        "from random import random\n",
        "import numpy as np\n",
        "\n",
        "from matplotlib import pyplot as plt\n",
        "\n",
        "import tensorflow as tf\n",
        "import keras\n",
        "from keras import layers"
      ]
    },
    {
      "cell_type": "code",
      "execution_count": 41,
      "metadata": {
        "id": "nOlES9Zxdd1J"
      },
      "outputs": [],
      "source": [
        "# 4-window plot. Small modification from matplotlib examples.\n",
        "\n",
        "def make_plot(axs, history1, history2):\n",
        "    box = dict(facecolor='yellow', pad=5, alpha=0.2)\n",
        "\n",
        "    # === Left column: Model 1 (no dropout) ===\n",
        "    ax1 = axs[0, 0]\n",
        "    ax1.plot(history1.history['loss'], label=\"Model 1 - train loss\")\n",
        "    ax1.plot(history1.history['val_loss'], label=\"Model 1 - val loss\")\n",
        "    ax1.set_title('loss - no dropout')\n",
        "    ax1.set_ylabel('loss', bbox=box)\n",
        "    ax1.set_ylim(0, 0.7)\n",
        "    ax1.legend()\n",
        "\n",
        "    ax3 = axs[1, 0]\n",
        "    ax3.plot(history1.history['categorical_accuracy'], label=\"Model 1 - train acc\")\n",
        "    ax3.plot(history1.history['val_categorical_accuracy'], label=\"Model 1 - val acc\")\n",
        "    ax3.set_title('accuracy - no dropout')\n",
        "    ax3.set_ylabel('accuracy', bbox=box)\n",
        "    ax3.set_ylim(0.7, 1.0)\n",
        "    ax3.legend()\n",
        "\n",
        "    # === Right column: Model 2 (with dropout) ===\n",
        "    ax2 = axs[0, 1]\n",
        "    ax2.plot(history2.history['loss'], label=\"Model 2 - train loss\")\n",
        "    ax2.plot(history2.history['val_loss'], label=\"Model 2 - val loss\")\n",
        "    ax2.set_title('loss - with dropout')\n",
        "    ax2.set_ylim(0, 0.7)\n",
        "    ax2.legend()\n",
        "\n",
        "    ax4 = axs[1, 1]\n",
        "    ax4.plot(history2.history['categorical_accuracy'], label=\"Model 2 - train acc\")\n",
        "    ax4.plot(history2.history['val_categorical_accuracy'], label=\"Model 2 - val acc\")\n",
        "    ax4.set_title('accuracy - with dropout')\n",
        "    ax4.set_ylim(0.7, 1.0)\n",
        "    ax4.legend()\n"
      ]
    },
    {
      "cell_type": "markdown",
      "metadata": {
        "id": "li-WxqGTdd1K"
      },
      "source": [
        "[Return to Top](#returnToTop)  \n",
        "<a id = 'entropyReview'></a>\n",
        "\n",
        "## 2. Entropy and Loss Review\n",
        "\n",
        "\n",
        "### 2.1 Entropy\n",
        "\n",
        "[Entropy (Shannon entropy)](https://en.wikipedia.org/wiki/Shannon_entropy) is a notion of how \"uncertain\" the outcome of some experiment is.  The more uncertain - or the more spread out the distribution - the higher the entropy. *(Aside: some of you may have encountered \"entropy\" in a thermodynamics class.  Entropy as we're defining it here is conceptually similar - a notion of the amount of disorder in a system, and the concepts are closely related.)*\n",
        "\n",
        "Mathematically, for a (discrete) random variable $X$,\n",
        "\n",
        "$$\\text{Entropy}(X) = H(X) = -\\Sigma_x\\ p(x) \\log_2 p(x)$$\n",
        "\n",
        "*(We take $0 \\times log_2(0) = 0$, although in the \"real world\" probabilities are rarely equal to 0.)*\n",
        "\n",
        "Or, in English: imagine you have some probability distribution over a discrete set of events $X$.  Loop over each event and take the product of the probability of that event and the base-2 log of the probability.  Or, put another way, find the expected value $E[-\\log_2 p(x)]$ for this probability distribution.\n",
        "\n",
        "\n",
        "\n",
        "Imagine a probability distribution $p$ across 5 outcomes.  These would correspond to the true distribution over five labels in a multi-class classification problem."
      ]
    },
    {
      "cell_type": "code",
      "execution_count": 3,
      "metadata": {
        "colab": {
          "base_uri": "https://localhost:8080/"
        },
        "id": "yEAhnBSNdd1K",
        "outputId": "cfaa5826-fde6-4f82-bf53-9cfccc8b1b98",
        "scrolled": true
      },
      "outputs": [
        {
          "name": "stdout",
          "output_type": "stream",
          "text": [
            "[0.3  0.2  0.1  0.25 0.15]\n"
          ]
        }
      ],
      "source": [
        "p = np.array([0.3,0.2,0.1,0.25,0.15])\n",
        "print(p)"
      ]
    },
    {
      "cell_type": "markdown",
      "metadata": {
        "id": "hvWWs4-Fdd1M"
      },
      "source": [
        "Calculate the entropy:"
      ]
    },
    {
      "cell_type": "code",
      "execution_count": 4,
      "metadata": {
        "colab": {
          "base_uri": "https://localhost:8080/"
        },
        "id": "HmXw-ISEdd1N",
        "outputId": "8fdc9e3d-acf9-4bab-878d-b420d82bef12"
      },
      "outputs": [
        {
          "name": "stdout",
          "output_type": "stream",
          "text": [
            "2.228212945841001\n"
          ]
        }
      ],
      "source": [
        "S = -(0.3 * np.log2(0.3) + 0.2 * np.log2(0.2) + 0.1 * np.log2(0.1) + 0.25 * np.log2(0.25) + 0.15 * np.log2(0.15))\n",
        "print(S)"
      ]
    },
    {
      "cell_type": "markdown",
      "metadata": {
        "id": "KTY_nyj2dd1O"
      },
      "source": [
        "Explicit, but tedious and silly. Better way? Use vectors:"
      ]
    },
    {
      "cell_type": "code",
      "execution_count": 5,
      "metadata": {
        "colab": {
          "base_uri": "https://localhost:8080/"
        },
        "id": "pap8-A61dd1P",
        "outputId": "7bbb088a-0083-4eea-ee99-496710ea186d"
      },
      "outputs": [
        {
          "name": "stdout",
          "output_type": "stream",
          "text": [
            "2.2282129458410016\n"
          ]
        }
      ],
      "source": [
        "S = - np.dot(p, np.log2(p))\n",
        "print(S)"
      ]
    },
    {
      "cell_type": "markdown",
      "metadata": {
        "id": "q0tt8QSpdd1P"
      },
      "source": [
        "Same result. Good."
      ]
    },
    {
      "cell_type": "markdown",
      "metadata": {
        "id": "MH2h0Du8dd1P"
      },
      "source": [
        "[Return to Top](#returnToTop)  \n",
        "<a id = 'crossEntropy'></a>\n",
        "\n",
        "### 2.2 Cross Entropy\n",
        "\n",
        "What if we get the code wrong? Suppose we have a finite sample of messages (introducing some _variance_), and we train a machine learning model (introducing some _bias_) to estimate the true probabilities. Let's call the predicted distribution $Q(X)$.\n",
        "\n",
        "Now we generate a code based on $Q(X)$, and use it to encode real messages (which come from $P(X)$). How many bits do we use, on average?\n",
        "\n",
        "If we design an optimal code for $Q$, we use $-\\log_2 Q(x)$ bits for message $x$. Then we average this over $x \\sim P$ to get:\n",
        "\n",
        "$$ \\text{CE}(P,Q) = \\sum_{x} - P(x) \\log_2 Q(x) = \\mathrm{E}_{x \\sim P(x)}\\left[ -\\log_2 Q(x) \\right] $$\n",
        "\n",
        "Since we \"crossed\" the code from $Q$ and used it on $P$, this is known as the [**cross-entropy**](https://en.wikipedia.org/wiki/Cross_entropy). Note that $ \\text{CE}(P,Q) \\ge H(P) $, because we know that the code trained on $Q$ can't possibly be better than the optimal code on $P$ itself!\n",
        "\n",
        "In the form above, this is the most commonly used loss function in machine learning. In unsupervised learning (density estimation), we use it exactly as-is, with $x$ as the data. In supervised learning, we take the random variable to be the label $y$, and take our distributions to be conditional ones: $P(y\\ |\\ x)$ and $Q(y\\ |\\ x)$:\n",
        "$$ \\text{CE}(P,Q)(x) = \\sum_{y'} -P(y'\\ |\\ x) \\log_2 Q(y'\\ |\\ x) $$\n",
        "It's common to average over $x$ and to approximate $P(y\\ |\\ x)$ with discrete samples $(x,y)$ from a test set $T$, in which case we get:\n",
        "\n",
        "$$ \\text{CE}(P,Q)\n",
        "\\approx \\frac{1}{|T|} \\sum_{(x,y) \\in T} \\sum_{y'} -\\mathbb{1}[y = y'] \\log_2 Q(y'\\ |\\ x)\n",
        "= \\frac{1}{|T|} \\sum_{(x,y) \\in T} -\\log_2 Q(y\\ |\\ x)\n",
        "$$\n",
        "\n",
        "We'll commonly also write this using natural logarithms, but you can always convert between the two by the formula $ \\log_2(x) = \\log_2(e) \\cdot \\ln(x) $."
      ]
    },
    {
      "cell_type": "markdown",
      "metadata": {
        "id": "Yk6baLz1dd1Q"
      },
      "source": [
        "[Return to Top](#returnToTop)  \n",
        "<a id = 'klDivergence'></a>\n",
        "\n",
        "### 2.3 KL Divergence\n",
        "\n",
        "We learned that we use the word \"cross-entropy\" to refer to the average number of bits we need if we design our code with $Q(X)$ (i.e. our model) in mind but end up sending with probability $P(X)$ (i.e. the test set).  Similarly, \"entropy\" is the average bits we need if we design with the right distribution in mind.\n",
        "\n",
        "We don't yet have a name for the difference between these quantities (i.e. the size of the *penalty* for using the wrong distribution to optimize our code).  That difference is known as the [Kullback–Leibler divergence](https://en.wikipedia.org/wiki/Kullback%E2%80%93Leibler_divergence), or KL divergence for short.\n",
        "\n",
        "It is a measure of how different two probability distributions are.  The more $Q$ differs from $P$, the worse the penalty would be, and thus the higher the KL divergence.\n",
        "\n",
        "That is,\n",
        "$$ D_{KL}(P\\ ||\\ Q) = CE(P, Q) - H(P)$$\n",
        "\n",
        "From a machine learning perspective, the KL divergence measures the \"avoidable\" error - when our model is perfect (i.e. the *distribution* $\\hat{P}(y\\ |\\ x_i) = P(y\\ |\\ x_i)$, the KL divergence goes to zero. In general, the cross-entropy loss - and prediction accuracy - will not be zero, but will be equal to the entropy $H(P)$. This \"unavoidable\" error is the [Bayes error rate](https://en.wikipedia.org/wiki/Bayes_error_rate) for the underlying task.\n",
        "\n",
        "**Important note:** we're taking the true distribution $y_i = P(y\\ |\\ x_i) = [1, 0, 0, 0]$ in this example to be one-hot (i.e. all mass on one value). This is different from the one-hot encoding we use for training labels, which are _observations_ (single values) _sampled_ from some true distribution $y_i^\\text{obs} \\sim P(y\\ |\\ x_i)$. In that case, one-hot encoding is just a convenient shortcut. In general - and particularly in NLP - we'll have some label uncertainty, and the true distribution $P(y\\ |\\ x_i)$ will be spread among potentially many possibilities.\n",
        "\n",
        "One final observation:  cross-entropy is not symmetric (think about how $P$ and $Q$ appear in the formula to understand why).  As a result KL Divergence isn't symmetric either (if you want to prove this to yourself substitute in for CE and E in the equation above and simplify).  So while KL divergence is a measure of similarity, it's useful to keep in mind that $D_{KL}(P\\ ||\\ Q) \\ne D_{KL}(Q\\ ||\\ P)$."
      ]
    },
    {
      "cell_type": "markdown",
      "metadata": {
        "id": "jtnaRL8hdd1Q"
      },
      "source": [
        "[Return to Top](#returnToTop)  \n",
        "<a id = 'checkXEntropy'></a>\n",
        "\n",
        "### 2.4 Checking a Few Things About Cross-Entropy\n",
        "\n",
        "Now imagine a 2nd distribution q which is close to $p$ but differs a bit. These are a prediction your model has made.  We'll construct it via a small $\\delta$ vector which has a mean of zero, and whose scale is a small number $\\epsilon$:"
      ]
    },
    {
      "cell_type": "code",
      "execution_count": 6,
      "metadata": {
        "colab": {
          "base_uri": "https://localhost:8080/"
        },
        "id": "yp7gvxLsdd1Q",
        "outputId": "f91eb1c6-cbb9-453f-e08f-cd89c10b63a5"
      },
      "outputs": [
        {
          "name": "stdout",
          "output_type": "stream",
          "text": [
            "q:  [0.28276179 0.20655347 0.10616396 0.24805044 0.15647035]\n"
          ]
        }
      ],
      "source": [
        "def create_q(p0, epsilon=0.03):\n",
        "\n",
        "    delta = epsilon * np.random.random(5)\n",
        "    delta = delta - np.mean(delta)\n",
        "\n",
        "    return (p0 + delta)\n",
        "\n",
        "q = create_q(p)\n",
        "print('q: ', q)"
      ]
    },
    {
      "cell_type": "markdown",
      "metadata": {
        "id": "KoSLju4Xdd1R"
      },
      "source": [
        "What is the cross entropy?"
      ]
    },
    {
      "cell_type": "code",
      "execution_count": 7,
      "metadata": {
        "colab": {
          "base_uri": "https://localhost:8080/"
        },
        "id": "NXtPMOqYdd1R",
        "outputId": "4bc565b8-9fd2-4d0a-a112-f61b5e2bb6ce"
      },
      "outputs": [
        {
          "name": "stdout",
          "output_type": "stream",
          "text": [
            "2.229577712311986\n"
          ]
        }
      ],
      "source": [
        "ce = -np.dot(p, np.log2(q))\n",
        "print(ce)"
      ]
    },
    {
      "cell_type": "markdown",
      "metadata": {
        "id": "RBYJQOTedd1S"
      },
      "source": [
        "Close! Smaller or bigger than entropy?"
      ]
    },
    {
      "cell_type": "code",
      "execution_count": 8,
      "metadata": {
        "colab": {
          "base_uri": "https://localhost:8080/"
        },
        "id": "8W38GfiPdd1S",
        "outputId": "3693f9c7-d56b-454c-d613-33c6a696adc9"
      },
      "outputs": [
        {
          "name": "stdout",
          "output_type": "stream",
          "text": [
            "True\n"
          ]
        }
      ],
      "source": [
        "print((ce - S) > 0)"
      ]
    },
    {
      "cell_type": "markdown",
      "metadata": {
        "id": "fQAVNuIpdd1S"
      },
      "source": [
        "Let's try that for many q:"
      ]
    },
    {
      "cell_type": "code",
      "execution_count": 9,
      "metadata": {
        "colab": {
          "base_uri": "https://localhost:8080/"
        },
        "id": "BS7De8WGdd1T",
        "outputId": "8a4d25df-6db7-4f0f-d527-f1a4f695f36c"
      },
      "outputs": [
        {
          "name": "stdout",
          "output_type": "stream",
          "text": [
            "ce > S?  True\n",
            "ce > S?  True\n",
            "ce > S?  True\n",
            "ce > S?  True\n",
            "ce > S?  True\n"
          ]
        }
      ],
      "source": [
        "for attempt in range(5):\n",
        "    q = create_q(p)\n",
        "    ce = -np.dot(p, np.log2(q))\n",
        "    #print(q)\n",
        "    print('ce > S? ', (ce-S)>0)\n"
      ]
    },
    {
      "cell_type": "markdown",
      "metadata": {
        "id": "gFQeE3eVdd1T"
      },
      "source": [
        "Indeed... $ce$ is always larger than $S$ ('experimentally verified', but should be proven). $ce = S$ when $q=p$, therefore minimizing $ce$ drives $q \\rightarrow p$.  KL Divergence is the difference between cross entropy and entropy."
      ]
    },
    {
      "cell_type": "markdown",
      "metadata": {
        "id": "j8ld9BUNdd1U"
      },
      "source": [
        "[Return to Top](#returnToTop)  \n",
        "<a id = 'vectorMatrixCalc'></a>\n",
        "\n",
        "## 3. A Few Basic Words on Vector and Matrix Calculations\n",
        "\n",
        "Imagine a neural net where the dimension  of the incoming layer is $4$, and the next layer has dimension $3$. Let $x$ be the input. What are the dimensions of the weight matrix $W$ and bias vector $b$ in $$z = f(x W + b)?$$    "
      ]
    },
    {
      "cell_type": "markdown",
      "metadata": {
        "id": "skWldllAdd1U"
      },
      "source": [
        "$W$ needs to 'translate' a 4-d vector into a 3-d vector. Hence dim $(W) = 4 \\times 3$.\n",
        "\n",
        "Each output neuron has its own bias value, dim $(b) = 3$.\n",
        "\n",
        "We can easily implement this using numpy and then experiment with various dimensions to help build intuition.  Here's an example with the diemnsions above:"
      ]
    },
    {
      "cell_type": "code",
      "execution_count": 10,
      "metadata": {
        "id": "AJLe04pudd1U"
      },
      "outputs": [],
      "source": [
        "#input\n",
        "x = np.array([1,1,2,2])\n",
        "\n",
        "#Weight matrix\n",
        "W = np.array([[-1,-3,-2],[-2,3,-6],[4,-2,3], [-1, 5, 1]])\n",
        "\n",
        "#bias terms\n",
        "b = np.array([-1, -2, -3])"
      ]
    },
    {
      "cell_type": "code",
      "execution_count": 11,
      "metadata": {
        "colab": {
          "base_uri": "https://localhost:8080/"
        },
        "id": "RYI9IvNYdd1V",
        "outputId": "8e287ddb-ecaa-445d-f27f-29112157c7bc"
      },
      "outputs": [
        {
          "name": "stdout",
          "output_type": "stream",
          "text": [
            "x shape:  (4,)\n",
            "W shape:  (4, 3)\n",
            "b shape:  (3,)\n"
          ]
        }
      ],
      "source": [
        "print('x shape: ', x.shape)\n",
        "print('W shape: ', W.shape)\n",
        "print('b shape: ', b.shape)"
      ]
    },
    {
      "cell_type": "markdown",
      "metadata": {
        "id": "ee2LGOdGdd1V"
      },
      "source": [
        "The W weight matrix and the bias term together make up the affine. The output of the affine is called the logit which we will label $z$."
      ]
    },
    {
      "cell_type": "code",
      "execution_count": 12,
      "metadata": {
        "colab": {
          "base_uri": "https://localhost:8080/"
        },
        "id": "04hGJIHudd1V",
        "outputId": "41e4d06b-0b2c-43b9-fc0b-e51c8f5c8ee2"
      },
      "outputs": [
        {
          "data": {
            "text/plain": [
              "array([ 2,  4, -3])"
            ]
          },
          "execution_count": 12,
          "metadata": {},
          "output_type": "execute_result"
        }
      ],
      "source": [
        "# calculate the logit which we label as z\n",
        "z = x.dot(W) + b\n",
        "z"
      ]
    },
    {
      "cell_type": "markdown",
      "metadata": {
        "id": "XQ3BM1aWdd1W"
      },
      "source": [
        "Now let's add the non-linearity, sigmoid to be concrete in this case. The non-linearity is an element-wise operation. (The last output layer at the end however is different.)"
      ]
    },
    {
      "cell_type": "code",
      "execution_count": 13,
      "metadata": {
        "id": "6U_kTTE7dd1W"
      },
      "outputs": [],
      "source": [
        "def sigmoid(y):\n",
        "    return 1/(1 + np.exp(-y))"
      ]
    },
    {
      "cell_type": "markdown",
      "metadata": {
        "id": "dR-1KiEkdd1W"
      },
      "source": [
        "Now pass the logit $z$ through the non-linearity"
      ]
    },
    {
      "cell_type": "code",
      "execution_count": 14,
      "metadata": {
        "colab": {
          "base_uri": "https://localhost:8080/"
        },
        "id": "Z0H7mmjXdd1W",
        "outputId": "c2343b9b-9e83-491c-ac93-48cdbf7fe6b6"
      },
      "outputs": [
        {
          "data": {
            "text/plain": [
              "array([0.88079708, 0.98201379, 0.04742587])"
            ]
          },
          "execution_count": 14,
          "metadata": {},
          "output_type": "execute_result"
        }
      ],
      "source": [
        "h = sigmoid(z)\n",
        "h"
      ]
    },
    {
      "cell_type": "markdown",
      "metadata": {
        "id": "AVoD_TZDdd1W"
      },
      "source": [
        "[Return to Top](#returnToTop)  \n",
        "<a id = 'tensorManipulation'></a>\n",
        "\n",
        "###  3.1 Tensors and Tensor Manipulation\n",
        "\n",
        "Tensorflow operates on [tensors](https://www.tensorflow.org/guide/tensor) which you can think of like numpy arrays.  Tensors have shape, rank, dimension (or axis) and size.  Let's look at what each of these means.\n",
        "\n",
        "The rank is the number of axes in the tensor. A rank_0 tensor is a scalar.  A rank_1 tensor is a vector. A rank_2 tensor is a matrix.\n",
        "\n",
        "The shape is the legnth of each of the axes in the tensor.  The axis is a way of referring to a particular axis within the tensor.  The size is the total number of elements in the tensor.\n",
        "\n",
        "Let's create a rank_4 tensor full of ones to see how this works."
      ]
    },
    {
      "cell_type": "code",
      "execution_count": 15,
      "metadata": {
        "id": "053wPKiBdd1X"
      },
      "outputs": [
        {
          "name": "stderr",
          "output_type": "stream",
          "text": [
            "WARNING: All log messages before absl::InitializeLog() is called are written to STDERR\n",
            "I0000 00:00:1757690635.697645  885615 gpu_device.cc:2020] Created device /job:localhost/replica:0/task:0/device:GPU:0 with 22293 MB memory:  -> device: 0, name: NVIDIA A30, pci bus id: 0000:9d:00.0, compute capability: 8.0\n"
          ]
        }
      ],
      "source": [
        "rank_4_tensor = tf.ones([3,2,5,7])"
      ]
    },
    {
      "cell_type": "markdown",
      "metadata": {
        "id": "QzcrLeaKdd1X"
      },
      "source": [
        "What does our rank_4 tensor look like?  We can simply print it out to see."
      ]
    },
    {
      "cell_type": "code",
      "execution_count": 16,
      "metadata": {
        "colab": {
          "base_uri": "https://localhost:8080/"
        },
        "id": "05K-0_yddd1X",
        "outputId": "04eee225-034e-4305-b6e8-b67be37082f9"
      },
      "outputs": [
        {
          "data": {
            "text/plain": [
              "<tf.Tensor: shape=(3, 2, 5, 7), dtype=float32, numpy=\n",
              "array([[[[1., 1., 1., 1., 1., 1., 1.],\n",
              "         [1., 1., 1., 1., 1., 1., 1.],\n",
              "         [1., 1., 1., 1., 1., 1., 1.],\n",
              "         [1., 1., 1., 1., 1., 1., 1.],\n",
              "         [1., 1., 1., 1., 1., 1., 1.]],\n",
              "\n",
              "        [[1., 1., 1., 1., 1., 1., 1.],\n",
              "         [1., 1., 1., 1., 1., 1., 1.],\n",
              "         [1., 1., 1., 1., 1., 1., 1.],\n",
              "         [1., 1., 1., 1., 1., 1., 1.],\n",
              "         [1., 1., 1., 1., 1., 1., 1.]]],\n",
              "\n",
              "\n",
              "       [[[1., 1., 1., 1., 1., 1., 1.],\n",
              "         [1., 1., 1., 1., 1., 1., 1.],\n",
              "         [1., 1., 1., 1., 1., 1., 1.],\n",
              "         [1., 1., 1., 1., 1., 1., 1.],\n",
              "         [1., 1., 1., 1., 1., 1., 1.]],\n",
              "\n",
              "        [[1., 1., 1., 1., 1., 1., 1.],\n",
              "         [1., 1., 1., 1., 1., 1., 1.],\n",
              "         [1., 1., 1., 1., 1., 1., 1.],\n",
              "         [1., 1., 1., 1., 1., 1., 1.],\n",
              "         [1., 1., 1., 1., 1., 1., 1.]]],\n",
              "\n",
              "\n",
              "       [[[1., 1., 1., 1., 1., 1., 1.],\n",
              "         [1., 1., 1., 1., 1., 1., 1.],\n",
              "         [1., 1., 1., 1., 1., 1., 1.],\n",
              "         [1., 1., 1., 1., 1., 1., 1.],\n",
              "         [1., 1., 1., 1., 1., 1., 1.]],\n",
              "\n",
              "        [[1., 1., 1., 1., 1., 1., 1.],\n",
              "         [1., 1., 1., 1., 1., 1., 1.],\n",
              "         [1., 1., 1., 1., 1., 1., 1.],\n",
              "         [1., 1., 1., 1., 1., 1., 1.],\n",
              "         [1., 1., 1., 1., 1., 1., 1.]]]], dtype=float32)>"
            ]
          },
          "execution_count": 16,
          "metadata": {},
          "output_type": "execute_result"
        }
      ],
      "source": [
        "rank_4_tensor"
      ]
    },
    {
      "cell_type": "markdown",
      "metadata": {
        "id": "-QG21r9tdd1X"
      },
      "source": [
        "How can we look at specific attributes of out rank_4 tensor?  We can use Tensorflow's shape command."
      ]
    },
    {
      "cell_type": "code",
      "execution_count": 17,
      "metadata": {
        "colab": {
          "base_uri": "https://localhost:8080/"
        },
        "id": "uiqWJnEbdd1X",
        "outputId": "f8f6070d-aa58-467c-e33c-7b1656751d21"
      },
      "outputs": [
        {
          "name": "stdout",
          "output_type": "stream",
          "text": [
            "Number of axes: 4\n",
            "Shape of tensor: (3, 2, 5, 7)\n",
            "Elements along axis 0 of tensor: 3\n",
            "Elements along axis 1 of tensor: 2\n",
            "Elements along axis 2 of tensor: 5\n",
            "Elements along the last axis of tensor: 7\n",
            "Total number of elements (3*2*5*7):  210\n"
          ]
        }
      ],
      "source": [
        "print(\"Number of axes:\", rank_4_tensor.ndim)\n",
        "print(\"Shape of tensor:\", rank_4_tensor.shape)\n",
        "print(\"Elements along axis 0 of tensor:\", rank_4_tensor.shape[0])\n",
        "print(\"Elements along axis 1 of tensor:\", rank_4_tensor.shape[1])\n",
        "print(\"Elements along axis 2 of tensor:\", rank_4_tensor.shape[2])\n",
        "print(\"Elements along the last axis of tensor:\", rank_4_tensor.shape[-1])\n",
        "print(\"Total number of elements (3*2*5*7): \", tf.size(rank_4_tensor).numpy())\n"
      ]
    },
    {
      "cell_type": "markdown",
      "metadata": {
        "id": "s9-7-8Mqdd1Y"
      },
      "source": [
        "Not only can we see the shape of a tensor in a number of ways, but we can also alter the shape.  Sometimes we need to change our tensor's shape to match the input or process the output of our model.\n",
        "\n",
        "Let's define a rank_1 tensor with all the numbers between 0 and 29."
      ]
    },
    {
      "cell_type": "code",
      "execution_count": 18,
      "metadata": {
        "id": "tKyHwQqDdd1Z"
      },
      "outputs": [
        {
          "name": "stderr",
          "output_type": "stream",
          "text": [
            "2025-09-12 08:23:55.899847: E tensorflow/core/util/util.cc:131] oneDNN supports DT_HALF only on platforms with AVX-512. Falling back to the default Eigen-based implementation if present.\n"
          ]
        }
      ],
      "source": [
        "tensor = tf.constant([0,1,2,3,4,5,6,7,8,9,10,11,12,13,14,15,16,17,18,19,20,21,22,23,24,25,26,27,28,29], dtype=tf.float16)"
      ]
    },
    {
      "cell_type": "code",
      "execution_count": 19,
      "metadata": {
        "colab": {
          "base_uri": "https://localhost:8080/"
        },
        "id": "y4IbIGkOdd1Z",
        "outputId": "ec7f3db5-df8e-4cf0-c41f-79349ddb5f88"
      },
      "outputs": [
        {
          "data": {
            "text/plain": [
              "<tf.Tensor: shape=(30,), dtype=float16, numpy=\n",
              "array([ 0.,  1.,  2.,  3.,  4.,  5.,  6.,  7.,  8.,  9., 10., 11., 12.,\n",
              "       13., 14., 15., 16., 17., 18., 19., 20., 21., 22., 23., 24., 25.,\n",
              "       26., 27., 28., 29.], dtype=float16)>"
            ]
          },
          "execution_count": 19,
          "metadata": {},
          "output_type": "execute_result"
        }
      ],
      "source": [
        "tensor"
      ]
    },
    {
      "cell_type": "markdown",
      "metadata": {
        "id": "6ibGdVHSdd1Z"
      },
      "source": [
        "Tensors can be reshaped.  Let's take our 1_rank tensor and reshape it into a 2_rank tensor dividing our numbers into groups of 10.  "
      ]
    },
    {
      "cell_type": "code",
      "execution_count": 20,
      "metadata": {
        "id": "oxc68qM5dd1a"
      },
      "outputs": [],
      "source": [
        "reshaped_tensor = tf.reshape(tensor, [3,10])"
      ]
    },
    {
      "cell_type": "code",
      "execution_count": 21,
      "metadata": {
        "colab": {
          "base_uri": "https://localhost:8080/"
        },
        "id": "WLft8atqdd1a",
        "outputId": "070c5a16-6555-45cf-939c-bc35bd106a07"
      },
      "outputs": [
        {
          "data": {
            "text/plain": [
              "<tf.Tensor: shape=(3, 10), dtype=float16, numpy=\n",
              "array([[ 0.,  1.,  2.,  3.,  4.,  5.,  6.,  7.,  8.,  9.],\n",
              "       [10., 11., 12., 13., 14., 15., 16., 17., 18., 19.],\n",
              "       [20., 21., 22., 23., 24., 25., 26., 27., 28., 29.]], dtype=float16)>"
            ]
          },
          "execution_count": 21,
          "metadata": {},
          "output_type": "execute_result"
        }
      ],
      "source": [
        "reshaped_tensor"
      ]
    },
    {
      "cell_type": "markdown",
      "metadata": {
        "id": "xE44XPJQdd1a"
      },
      "source": [
        "That worked.  We took our vector (rank_1 tensor) and reshaped it into a 3 row by 10 column matrix (rank_2 tensor).\n",
        "\n",
        "Often times you'll want to retrieve a specific element or elements within a tensor.  We can use slice the way we would with arrays or we can just reference a specific element.  Here's an example of retrieving the value '17' which will be the in the second row and the eighth column.   "
      ]
    },
    {
      "cell_type": "code",
      "execution_count": 22,
      "metadata": {
        "colab": {
          "base_uri": "https://localhost:8080/"
        },
        "id": "hQLEFo-Bdd1a",
        "outputId": "90526b4a-9ed9-463e-dcd1-bce9a85c7f73"
      },
      "outputs": [
        {
          "data": {
            "text/plain": [
              "<tf.Tensor: shape=(), dtype=float16, numpy=17.0>"
            ]
          },
          "execution_count": 22,
          "metadata": {},
          "output_type": "execute_result"
        }
      ],
      "source": [
        "reshaped_tensor[1][7]"
      ]
    },
    {
      "cell_type": "markdown",
      "metadata": {
        "id": "GX7HXSzCdd1b"
      },
      "source": [
        "[Return to Top](#returnToTop)  \n",
        "<a id = 'softmax'></a>\n",
        "\n",
        "## 4. Familiarization with the Output Layer and Softmax Operation\n",
        "\n",
        "Imagine your output layer (which does not have a non-linearity) returns these 5 numbers as the logit:"
      ]
    },
    {
      "cell_type": "code",
      "execution_count": 23,
      "metadata": {},
      "outputs": [
        {
          "data": {
            "text/plain": [
              "array([0.96344916, 0.25656903, 0.57526147, 0.30574728, 0.18689261])"
            ]
          },
          "execution_count": 23,
          "metadata": {},
          "output_type": "execute_result"
        }
      ],
      "source": [
        "np.random.random(5)"
      ]
    },
    {
      "cell_type": "code",
      "execution_count": 24,
      "metadata": {
        "colab": {
          "base_uri": "https://localhost:8080/"
        },
        "id": "7H0dzHGbdd1b",
        "outputId": "f1dddef0-4a55-4d02-df6a-c9b78c7f4d25"
      },
      "outputs": [
        {
          "name": "stdout",
          "output_type": "stream",
          "text": [
            "o:  [-3.5285513   2.04076734 -3.33439866  0.27156953 -1.89048055]\n"
          ]
        }
      ],
      "source": [
        "o = 10 * np.random.random(5) - 5\n",
        "print('o: ', o)"
      ]
    },
    {
      "cell_type": "markdown",
      "metadata": {
        "id": "wRj2VK64dd1b"
      },
      "source": [
        "In a classification problem, these 5 numbers would be the output for each class. They can be large, small, positive, negative, etc.\n",
        "\n",
        "We want to model probabilities though. Hence, we need to convert the output to 5 values that are **1) positive** and **2) must sum to 1**.\n",
        "\n",
        "Let's first exponentiate all values:"
      ]
    },
    {
      "cell_type": "code",
      "execution_count": 25,
      "metadata": {
        "colab": {
          "base_uri": "https://localhost:8080/"
        },
        "id": "rRmJkYDcdd1b",
        "outputId": "51f51519-a329-4fa1-9ece-8a42d8433bde"
      },
      "outputs": [
        {
          "name": "stdout",
          "output_type": "stream",
          "text": [
            "outputs:  [0.0293474  7.69651278 0.03563601 1.31202209 0.15099923]\n"
          ]
        }
      ],
      "source": [
        "exp_o = np.exp(o)\n",
        "print('outputs: ', exp_o)"
      ]
    },
    {
      "cell_type": "markdown",
      "metadata": {
        "id": "f4VEH634dd1c"
      },
      "source": [
        "Great. All numbers are positive. But they don't sum to $1$. Simple solution: divide each value by the sum of all values:"
      ]
    },
    {
      "cell_type": "code",
      "execution_count": 26,
      "metadata": {
        "colab": {
          "base_uri": "https://localhost:8080/"
        },
        "id": "YJgUyojIdd1c",
        "outputId": "5a7040f8-65cf-42d4-832a-df0c1a5c8b79"
      },
      "outputs": [
        {
          "name": "stdout",
          "output_type": "stream",
          "text": [
            "sum of all output values:  9.224517508849068\n"
          ]
        }
      ],
      "source": [
        "sum_exp_o = np.sum(exp_o)\n",
        "print('sum of all output values: ', sum_exp_o)"
      ]
    },
    {
      "cell_type": "code",
      "execution_count": 27,
      "metadata": {
        "colab": {
          "base_uri": "https://localhost:8080/"
        },
        "id": "0JwKc_T_dd1c",
        "outputId": "7937a739-7007-4d4e-d4fe-f5f138fd75b7"
      },
      "outputs": [
        {
          "name": "stdout",
          "output_type": "stream",
          "text": [
            "model probabilities p:  [0.00318146 0.83435397 0.00386318 0.14223206 0.01636934]\n"
          ]
        }
      ],
      "source": [
        "p = exp_o/sum_exp_o\n",
        "print('model probabilities p: ', p)"
      ]
    },
    {
      "cell_type": "code",
      "execution_count": 28,
      "metadata": {
        "colab": {
          "base_uri": "https://localhost:8080/"
        },
        "id": "PPyVnKpvdd1c",
        "outputId": "68c2ae0c-326f-4355-b2c8-1d7d11dd3b1b"
      },
      "outputs": [
        {
          "name": "stdout",
          "output_type": "stream",
          "text": [
            "model probabilities q:  [0.00318146 0.83435397 0.00386318 0.14223206 0.01636934]\n"
          ]
        }
      ],
      "source": [
        "p = exp_o/sum_exp_o\n",
        "print('model probabilities q: ', p)"
      ]
    },
    {
      "cell_type": "code",
      "execution_count": 29,
      "metadata": {
        "colab": {
          "base_uri": "https://localhost:8080/"
        },
        "id": "UzNJUKAddd1d",
        "outputId": "e00f1041-2a22-4fef-e539-d0af2df09911"
      },
      "outputs": [
        {
          "data": {
            "text/plain": [
              "np.float64(0.9999999999999998)"
            ]
          },
          "execution_count": 29,
          "metadata": {},
          "output_type": "execute_result"
        }
      ],
      "source": [
        "np.sum(p)"
      ]
    },
    {
      "cell_type": "markdown",
      "metadata": {
        "id": "SE593enrdd1d"
      },
      "source": [
        "Cool! Sums to 1 as desired. (Not a surprise.)\n",
        "\n",
        "What happens if I add a constant to each value in $o$? How is softmax affected?"
      ]
    },
    {
      "cell_type": "code",
      "execution_count": 30,
      "metadata": {
        "id": "_lkC3OS5dd1d"
      },
      "outputs": [],
      "source": [
        "o_2 = o + 1"
      ]
    },
    {
      "cell_type": "code",
      "execution_count": 31,
      "metadata": {
        "colab": {
          "base_uri": "https://localhost:8080/"
        },
        "id": "cHvwo3Qvdd1d",
        "outputId": "669d00d4-a7ce-4c90-f89f-8917b16f022b"
      },
      "outputs": [
        {
          "name": "stdout",
          "output_type": "stream",
          "text": [
            "outputs:  [ 0.07977451 20.92129084  0.09686872  3.5664458   0.41045846]\n"
          ]
        }
      ],
      "source": [
        "exp_o_2 = np.exp(o_2)\n",
        "print('outputs: ', exp_o_2)"
      ]
    },
    {
      "cell_type": "code",
      "execution_count": 32,
      "metadata": {
        "id": "BgSREzrPdd1e"
      },
      "outputs": [],
      "source": [
        "sum_exp_o_2 = np.sum(exp_o_2)"
      ]
    },
    {
      "cell_type": "code",
      "execution_count": 33,
      "metadata": {
        "colab": {
          "base_uri": "https://localhost:8080/"
        },
        "id": "GqSuajwBdd1e",
        "outputId": "3fddc04c-c6e6-42e4-cbf6-688beb311b20"
      },
      "outputs": [
        {
          "name": "stdout",
          "output_type": "stream",
          "text": [
            "new probabilities q_2:  [0.00318146 0.83435397 0.00386318 0.14223206 0.01636934]\n"
          ]
        }
      ],
      "source": [
        "q = exp_o_2/sum_exp_o_2\n",
        "print('new probabilities q_2: ', q)"
      ]
    },
    {
      "cell_type": "markdown",
      "metadata": {
        "id": "GcI-qvd3dd1e"
      },
      "source": [
        "Same!"
      ]
    },
    {
      "cell_type": "markdown",
      "metadata": {
        "id": "zkOL7oLIdd1f"
      },
      "source": [
        "[Return to Top](#returnToTop)  \n",
        "<a id = 'basicKeras'></a>\n",
        "\n",
        "## 5. Most Basic Keras Intro\n",
        "\n",
        "Simple 3-class classification model. This is only intended to illustrate the TensorFlow/Keras concepts. See: https://www.tensorflow.org/guide/keras"
      ]
    },
    {
      "cell_type": "markdown",
      "metadata": {
        "id": "skmU_-nCdd1f"
      },
      "source": [
        "There are two types of formalisms: 1) **Sequential** models, and 2) **Functional API**. The former is a little simpler, but it only supports (as the name says) sequential architectures. The Functional API approach is extremely flexible and will be introduced later. (And that is the one we will generally use for the rest of the class.)   \n",
        "\n",
        "\n",
        "But only for this first test we set up a **Sequential** model, wrapped in a function:"
      ]
    },
    {
      "cell_type": "code",
      "execution_count": 34,
      "metadata": {
        "id": "dwdMZWd7dd1f"
      },
      "outputs": [],
      "source": [
        "def create_model(dropout=0.0, num_neurons=10):\n",
        "    # Define 'sequential' model (vs. 'functional'... we'll discuss later.)\n",
        "    model = keras.Sequential([\n",
        "\n",
        "    # Let's go nuts in terms of layers and neurons per layer and actively try to overfit\n",
        "\n",
        "    # Add 5 densely-connected layers with num_neurons units followed by dropout to the model:\n",
        "\n",
        "    layers.Dense(num_neurons, activation='relu',\n",
        "                 #kernel_initializer=keras.initializers.glorot_normal ,\n",
        "                 input_shape=(20,)),         # '20' is the number of features of the input\n",
        "\n",
        "    # add a droput layer\n",
        "    layers.Dropout(dropout),\n",
        "\n",
        "    layers.Dense(num_neurons, activation='relu'),\n",
        "    layers.Dropout(dropout),\n",
        "\n",
        "    layers.Dense(num_neurons, activation='relu'),\n",
        "    layers.Dropout(dropout),\n",
        "\n",
        "    layers.Dense(num_neurons, activation='relu'),\n",
        "    layers.Dropout(dropout),\n",
        "\n",
        "    layers.Dense(num_neurons, activation='relu'),\n",
        "    layers.Dropout(dropout),\n",
        "\n",
        "    # Create a softmax layer with 3 output units -\n",
        "    # as required by the labels being 3 dimensional representinbg 3 classes:\n",
        "    layers.Dense(3, activation='softmax')])\n",
        "\n",
        "    # Compile model. Configure a model for categorical classification.\n",
        "    model.compile(optimizer=keras.optimizers.Adam(),\n",
        "              loss='categorical_crossentropy',\n",
        "              metrics=[keras.metrics.categorical_accuracy])\n",
        "\n",
        "    return model"
      ]
    },
    {
      "cell_type": "markdown",
      "metadata": {
        "id": "a9OWpaIJdd1g"
      },
      "source": [
        "Create some fake input data ():"
      ]
    },
    {
      "cell_type": "code",
      "execution_count": null,
      "metadata": {
        "id": "sKtRoSr0dd1g"
      },
      "outputs": [
        {
          "name": "stdout",
          "output_type": "stream",
          "text": [
            "Data shape: (10000, 20)\n",
            "Labels shape: (10000, 3)\n",
            "First data row: [0.68594834 0.78134969 1.08129054 1.28088382 0.59456238 0.42367538\n",
            " 0.79630344 0.59649912 0.39499512 1.03523815 0.68489446 0.70870194\n",
            " 0.77608296 1.01710001 0.64307666 0.46246743 0.81957055 1.03880085\n",
            " 0.99548356 0.81613743]\n",
            "First label row: [1. 0. 0.]\n"
          ]
        }
      ],
      "source": [
        "def random_one_hot_labels(num_examples, num_classes, dim):\n",
        "    \"\"\"\n",
        "    Generate synthetic data paired with random one-hot encoded labels.\n",
        "    A small signal related to the label is added to the data so that \n",
        "    the data and labels are not completely independent.\n",
        "\n",
        "    Parameters\n",
        "    ----------\n",
        "    num_examples : int\n",
        "        Number of examples (rows) to generate.\n",
        "    num_classes : int\n",
        "        Number of distinct classes for the labels.\n",
        "    dim : int\n",
        "        Dimensionality of the feature vector for each example.\n",
        "\n",
        "    Returns\n",
        "    -------\n",
        "    data : ndarray of shape (num_examples, dim)\n",
        "        The feature matrix where each row is an example with `dim` features.\n",
        "    labels : ndarray of shape (num_examples, num_classes)\n",
        "        One-hot encoded label matrix. Each row corresponds to one example.\n",
        "    \"\"\"\n",
        "\n",
        "    # Step 1: Create random base data (completely independent of labels)\n",
        "    # Shape: (num_examples, dim)\n",
        "    # Values: Uniform random numbers in (0, 1).\n",
        "    base_data = np.random.random((num_examples, dim))\n",
        "\n",
        "    # Step 2: Generate random class indices for each example\n",
        "    # Shape: (num_examples,)\n",
        "    # Each entry is an integer in {0, 1, ..., num_classes-1}.\n",
        "    classes = np.random.randint(0, num_classes, num_examples)\n",
        "\n",
        "    # Step 3: Convert class indices into one-hot encoded labels\n",
        "    # Start with a zero matrix of shape (num_examples, num_classes).\n",
        "    labels = np.zeros((num_examples, num_classes))\n",
        "    # Use advanced indexing to set the appropriate column in each row to 1.\n",
        "    labels[np.arange(num_examples), classes] = 1\n",
        "\n",
        "    # Step 4: Create a hidden \"signal\" associated with each class\n",
        "    # Generate a random weight matrix of shape (num_classes, dim).\n",
        "    # Each class corresponds to a unique vector of length `dim`.\n",
        "    # This is a look up table to define the signal associated with each class.\n",
        "    label_to_data_signal = np.reshape(\n",
        "        np.array(np.random.random(num_classes * dim)),  # Flat array of length num_classes*dim\n",
        "        (num_classes, dim)                             # Reshape into a matrix\n",
        "    )\n",
        "\n",
        "    # Step 5: Map one-hot labels to their associated signals\n",
        "    # Multiply (num_examples, num_classes) × (num_classes, dim)\n",
        "    # Result: (num_examples, dim), giving each example a class-specific signal.\n",
        "    signals = np.matmul(labels, label_to_data_signal)\n",
        "\n",
        "    # Step 6: Add the signal (scaled by 0.5) to the random base data\n",
        "    # This makes the data *slightly correlated* with the label.\n",
        "    data = base_data + 0.5 * signals\n",
        "\n",
        "    # Step 7: Return the synthetic dataset\n",
        "    return data, labels\n",
        "\n",
        "\n",
        "# Example usage:\n",
        "data, labels = random_one_hot_labels(10000, 3, 20)\n",
        "\n",
        "print(\"Data shape:\", data.shape)     # (10000, 20)\n",
        "print(\"Labels shape:\", labels.shape) # (10000, 3)\n",
        "print(\"First data row:\", data[0])\n",
        "print(\"First label row:\", labels[0])\n"
      ]
    },
    {
      "cell_type": "markdown",
      "metadata": {
        "id": "gv9Eo6d1dd1g"
      },
      "source": [
        "Create a model without dropout:"
      ]
    },
    {
      "cell_type": "code",
      "execution_count": null,
      "metadata": {
        "colab": {
          "base_uri": "https://localhost:8080/"
        },
        "id": "9TQgOTE1dd1h",
        "outputId": "6ef452a4-edee-4312-8754-7b1823efcda1"
      },
      "outputs": [
        {
          "name": "stderr",
          "output_type": "stream",
          "text": [
            "/share/crsp/lab/pkaiser/ddlin/mids/datasci-266/2025-fall-main/.venv/lib/python3.10/site-packages/keras/src/layers/core/dense.py:92: UserWarning: Do not pass an `input_shape`/`input_dim` argument to a layer. When using Sequential models, prefer using an `Input(shape)` object as the first layer in the model instead.\n",
            "  super().__init__(activity_regularizer=activity_regularizer, **kwargs)\n"
          ]
        }
      ],
      "source": [
        "# This model does not use dropout\n",
        "model_0 = create_model(\n",
        "    dropout=0.0,\n",
        "    num_neurons=200\n",
        "    )"
      ]
    },
    {
      "cell_type": "markdown",
      "metadata": {
        "id": "BaEXxXXBdd1h"
      },
      "source": [
        "Make a couple of predictions prior to training when the model has only been compiled. Are they random?"
      ]
    },
    {
      "cell_type": "code",
      "execution_count": null,
      "metadata": {
        "colab": {
          "base_uri": "https://localhost:8080/"
        },
        "id": "kA2YbIPUdd1h",
        "outputId": "769b5466-d397-40c5-bbe5-f3098a4af447"
      },
      "outputs": [
        {
          "name": "stderr",
          "output_type": "stream",
          "text": [
            "2025-09-12 10:36:12.362805: I external/local_xla/xla/service/service.cc:163] XLA service 0x7efbdc004920 initialized for platform CUDA (this does not guarantee that XLA will be used). Devices:\n",
            "2025-09-12 10:36:12.362823: I external/local_xla/xla/service/service.cc:171]   StreamExecutor device (0): NVIDIA A30, Compute Capability 8.0\n",
            "2025-09-12 10:36:12.373629: I tensorflow/compiler/mlir/tensorflow/utils/dump_mlir_util.cc:269] disabling MLIR crash reproducer, set env var `MLIR_CRASH_REPRODUCER_DIRECTORY` to enable.\n",
            "2025-09-12 10:36:12.451020: I external/local_xla/xla/stream_executor/cuda/cuda_dnn.cc:473] Loaded cuDNN version 91200\n"
          ]
        },
        {
          "name": "stdout",
          "output_type": "stream",
          "text": [
            "\u001b[1m1/1\u001b[0m \u001b[32m━━━━━━━━━━━━━━━━━━━━\u001b[0m\u001b[37m\u001b[0m \u001b[1m2s\u001b[0m 2s/step\n"
          ]
        },
        {
          "name": "stderr",
          "output_type": "stream",
          "text": [
            "I0000 00:00:1757698573.790047  885857 device_compiler.h:196] Compiled cluster using XLA!  This line is logged at most once for the lifetime of the process.\n"
          ]
        },
        {
          "data": {
            "text/plain": [
              "array([[0.32144082, 0.3033711 , 0.37518808],\n",
              "       [0.32925206, 0.28669485, 0.38405308]], dtype=float32)"
            ]
          },
          "execution_count": 37,
          "metadata": {},
          "output_type": "execute_result"
        }
      ],
      "source": [
        "# Just random guessing because the model is untrained\n",
        "model_0.predict(data[:2])"
      ]
    },
    {
      "cell_type": "markdown",
      "metadata": {
        "id": "pnQfT61Ydd1h"
      },
      "source": [
        "Pretty much...\n",
        "Now then train your model:"
      ]
    },
    {
      "cell_type": "code",
      "execution_count": 38,
      "metadata": {
        "colab": {
          "base_uri": "https://localhost:8080/"
        },
        "id": "QALIsmqwdd1i",
        "outputId": "039188a2-614c-4dc4-e422-5f0820d1f1f5"
      },
      "outputs": [
        {
          "name": "stderr",
          "output_type": "stream",
          "text": [
            "2025-09-12 10:36:47.196988: I external/local_xla/xla/service/gpu/autotuning/dot_search_space.cc:208] All configs were filtered out because none of them sufficiently match the hints. Maybe the hints set does not contain a good representative set of valid configs? Working around this by using the full hints set instead.\n",
            "2025-09-12 10:36:47.197263: I external/local_xla/xla/service/gpu/autotuning/dot_search_space.cc:208] All configs were filtered out because none of them sufficiently match the hints. Maybe the hints set does not contain a good representative set of valid configs? Working around this by using the full hints set instead.\n",
            "2025-09-12 10:36:47.197282: I external/local_xla/xla/service/gpu/autotuning/dot_search_space.cc:208] All configs were filtered out because none of them sufficiently match the hints. Maybe the hints set does not contain a good representative set of valid configs? Working around this by using the full hints set instead.\n",
            "2025-09-12 10:36:47.197298: I external/local_xla/xla/service/gpu/autotuning/dot_search_space.cc:208] All configs were filtered out because none of them sufficiently match the hints. Maybe the hints set does not contain a good representative set of valid configs? Working around this by using the full hints set instead.\n",
            "2025-09-12 10:36:48.786250: I external/local_xla/xla/stream_executor/cuda/subprocess_compilation.cc:346] ptxas warning : Registers are spilled to local memory in function 'gemm_fusion_dot_273', 44 bytes spill stores, 44 bytes spill loads\n",
            "\n",
            "2025-09-12 10:36:49.110658: I external/local_xla/xla/stream_executor/cuda/subprocess_compilation.cc:346] ptxas warning : Registers are spilled to local memory in function 'gemm_fusion_dot_273', 180 bytes spill stores, 216 bytes spill loads\n",
            "\n",
            "2025-09-12 10:36:49.928415: I external/local_xla/xla/stream_executor/cuda/subprocess_compilation.cc:346] ptxas warning : Registers are spilled to local memory in function 'gemm_fusion_dot_273', 820 bytes spill stores, 600 bytes spill loads\n",
            "\n",
            "2025-09-12 10:36:50.872270: I external/local_xla/xla/stream_executor/cuda/subprocess_compilation.cc:346] ptxas warning : Registers are spilled to local memory in function 'gemm_fusion_dot_273', 188 bytes spill stores, 188 bytes spill loads\n",
            "\n",
            "2025-09-12 10:36:51.443481: I external/local_xla/xla/stream_executor/cuda/subprocess_compilation.cc:346] ptxas warning : Registers are spilled to local memory in function 'gemm_fusion_dot_273', 280 bytes spill stores, 212 bytes spill loads\n",
            "\n",
            "2025-09-12 10:36:51.550687: I external/local_xla/xla/stream_executor/cuda/subprocess_compilation.cc:346] ptxas warning : Registers are spilled to local memory in function 'gemm_fusion_dot_412', 280 bytes spill stores, 280 bytes spill loads\n",
            "\n",
            "2025-09-12 10:36:53.928337: I external/local_xla/xla/stream_executor/cuda/subprocess_compilation.cc:346] ptxas warning : Registers are spilled to local memory in function 'gemm_fusion_dot_412', 460 bytes spill stores, 464 bytes spill loads\n",
            "\n",
            "2025-09-12 10:36:54.097911: I external/local_xla/xla/stream_executor/cuda/subprocess_compilation.cc:346] ptxas warning : Registers are spilled to local memory in function 'gemm_fusion_dot_462', 116 bytes spill stores, 116 bytes spill loads\n",
            "\n",
            "2025-09-12 10:36:54.759138: I external/local_xla/xla/stream_executor/cuda/subprocess_compilation.cc:346] ptxas warning : Registers are spilled to local memory in function 'gemm_fusion_dot_412', 104 bytes spill stores, 104 bytes spill loads\n",
            "\n",
            "2025-09-12 10:36:55.271626: I external/local_xla/xla/stream_executor/cuda/subprocess_compilation.cc:346] ptxas warning : Registers are spilled to local memory in function 'gemm_fusion_dot_412', 188 bytes spill stores, 148 bytes spill loads\n",
            "\n",
            "2025-09-12 10:36:56.269215: I external/local_xla/xla/stream_executor/cuda/subprocess_compilation.cc:346] ptxas warning : Registers are spilled to local memory in function 'gemm_fusion_dot_460', 96 bytes spill stores, 96 bytes spill loads\n",
            "\n",
            "2025-09-12 10:36:57.098245: I external/local_xla/xla/stream_executor/cuda/subprocess_compilation.cc:346] ptxas warning : Registers are spilled to local memory in function 'gemm_fusion_dot_462', 232 bytes spill stores, 232 bytes spill loads\n",
            "\n",
            "2025-09-12 10:36:57.584350: I external/local_xla/xla/stream_executor/cuda/subprocess_compilation.cc:346] ptxas warning : Registers are spilled to local memory in function 'gemm_fusion_dot_460', 104 bytes spill stores, 104 bytes spill loads\n",
            "\n",
            "2025-09-12 10:36:57.887887: I external/local_xla/xla/stream_executor/cuda/subprocess_compilation.cc:346] ptxas warning : Registers are spilled to local memory in function 'gemm_fusion_dot_462', 628 bytes spill stores, 628 bytes spill loads\n",
            "\n",
            "2025-09-12 10:36:58.330481: I external/local_xla/xla/stream_executor/cuda/subprocess_compilation.cc:346] ptxas warning : Registers are spilled to local memory in function 'gemm_fusion_dot_462', 112 bytes spill stores, 112 bytes spill loads\n",
            "\n",
            "2025-09-12 10:36:58.656760: I external/local_xla/xla/stream_executor/cuda/subprocess_compilation.cc:346] ptxas warning : Registers are spilled to local memory in function 'gemm_fusion_dot_460', 544 bytes spill stores, 544 bytes spill loads\n",
            "\n",
            "2025-09-12 10:36:59.188176: I external/local_xla/xla/stream_executor/cuda/subprocess_compilation.cc:346] ptxas warning : Registers are spilled to local memory in function 'gemm_fusion_dot_460', 152 bytes spill stores, 152 bytes spill loads\n",
            "\n"
          ]
        },
        {
          "name": "stdout",
          "output_type": "stream",
          "text": [
            "160/160 - 1s - 4ms/step - categorical_accuracy: 1.0000 - loss: 1.0027e-05 - val_categorical_accuracy: 0.9160 - val_loss: 0.7950\n"
          ]
        },
        {
          "data": {
            "text/plain": [
              "<keras.src.callbacks.history.History at 0x7efcb20475b0>"
            ]
          },
          "execution_count": 38,
          "metadata": {},
          "output_type": "execute_result"
        }
      ],
      "source": [
        "history_0 = model_0.fit(data, labels,\n",
        "          validation_split=0.2,\n",
        "          epochs=100,\n",
        "          batch_size=50,\n",
        "          verbose=0)\n",
        "\n",
        "model_0.fit(data, labels,\n",
        "          validation_split=0.2,\n",
        "          epochs=1,\n",
        "          batch_size=50,\n",
        "          verbose=2)"
      ]
    },
    {
      "cell_type": "markdown",
      "metadata": {
        "id": "uQnaIPQQdd1i"
      },
      "source": [
        "Now create and train a model with dropout:"
      ]
    },
    {
      "cell_type": "code",
      "execution_count": 39,
      "metadata": {
        "colab": {
          "base_uri": "https://localhost:8080/"
        },
        "id": "LuwpDcnsdd1i",
        "outputId": "46dffd11-35e8-49f8-f728-81685ba211b5"
      },
      "outputs": [
        {
          "name": "stderr",
          "output_type": "stream",
          "text": [
            "/share/crsp/lab/pkaiser/ddlin/mids/datasci-266/2025-fall-main/.venv/lib/python3.10/site-packages/keras/src/layers/core/dense.py:92: UserWarning: Do not pass an `input_shape`/`input_dim` argument to a layer. When using Sequential models, prefer using an `Input(shape)` object as the first layer in the model instead.\n",
            "  super().__init__(activity_regularizer=activity_regularizer, **kwargs)\n"
          ]
        },
        {
          "name": "stdout",
          "output_type": "stream",
          "text": [
            "\u001b[1m160/160\u001b[0m \u001b[32m━━━━━━━━━━━━━━━━━━━━\u001b[0m\u001b[37m\u001b[0m \u001b[1m0s\u001b[0m 3ms/step - categorical_accuracy: 0.8676 - loss: 0.3703 - val_categorical_accuracy: 0.9035 - val_loss: 0.2654\n"
          ]
        },
        {
          "data": {
            "text/plain": [
              "<keras.src.callbacks.history.History at 0x7efbec309de0>"
            ]
          },
          "execution_count": 39,
          "metadata": {},
          "output_type": "execute_result"
        }
      ],
      "source": [
        "# This model uses dropout\n",
        "model_2 = create_model(0.2)\n",
        "\n",
        "history_2 = model_2.fit(data, labels,\n",
        "          validation_split=0.2,\n",
        "          epochs=100,\n",
        "          batch_size=50,\n",
        "          verbose=0)\n",
        "\n",
        "model_2.fit(data, labels,\n",
        "          validation_split=0.2,\n",
        "          epochs=1,\n",
        "          batch_size=50,\n",
        "          verbose=1)"
      ]
    },
    {
      "cell_type": "markdown",
      "metadata": {
        "id": "pmh5x_PPdd1i"
      },
      "source": [
        "Let's look at the behavior by examining the loss and accuracy curves:"
      ]
    },
    {
      "cell_type": "code",
      "execution_count": 42,
      "metadata": {
        "colab": {
          "base_uri": "https://localhost:8080/",
          "height": 829
        },
        "id": "QclYk7pidd1j",
        "outputId": "68245af8-9987-4b90-d2aa-daef1023ed14"
      },
      "outputs": [
        {
          "data": {
            "image/png": "[encoded data removed]",
            "text/plain": [
              "<Figure size 1850x1050 with 4 Axes>"
            ]
          },
          "metadata": {},
          "output_type": "display_data"
        }
      ],
      "source": [
        "fig, axs = plt.subplots(2, 2)\n",
        "fig.subplots_adjust(left=0.2, wspace=0.6)\n",
        "make_plot(axs, history_0, history_2)\n",
        "\n",
        "fig.align_ylabels(axs[:, 1])\n",
        "fig.set_size_inches(18.5, 10.5)\n",
        "plt.show()"
      ]
    },
    {
      "cell_type": "markdown",
      "metadata": {
        "id": "Ay0B_qzrdd1j"
      },
      "source": [
        "What is the interpretation? (The example is surely very artificial.)"
      ]
    },
    {
      "cell_type": "markdown",
      "metadata": {
        "id": "G7as1ggudd1j"
      },
      "source": [
        "[Return to Top](#returnToTop)  \n",
        "<a id = 'normalization'></a>\n",
        "\n",
        "## 6. Effect of Layer Normalization\n",
        "\n",
        "In the last step, let's quickly introduce the **Functional API** and then specifically look at the effect of Layer Normalization.  The functional API lets us define each of our layers separately and then connect them together as we see fit.  We no longer have to wrap our layers as a sequence.  We can create arbitrarily complex architectures which we will see in later classes.  Here we will want two separate outputs.  The first output will be what comes out of our dense layer.  The second will be what happens after we pass that dense layer output through a normalization layer.  The functional API lets us look at both of these rather than just the output at the end of the sequence."
      ]
    },
    {
      "cell_type": "code",
      "execution_count": 44,
      "metadata": {
        "id": "6b5_M1wtdd1j"
      },
      "outputs": [],
      "source": [
        "# ---------------------------------------------------------------\n",
        "# Demonstration: Effect of Layer Normalization using Keras Functional API\n",
        "# ---------------------------------------------------------------\n",
        "\n",
        "# First, clean up any previously defined model to avoid redefinition errors.\n",
        "try:\n",
        "    del function_model_layer_norm\n",
        "except:\n",
        "    pass\n",
        "\n",
        "# ---------------------------------------------------------------\n",
        "# Step 1. Define the model input\n",
        "# ---------------------------------------------------------------\n",
        "# Input layer: expects vectors of length 20 for each example\n",
        "inputs = layers.Input(shape=(20,))  \n",
        "\n",
        "# ---------------------------------------------------------------\n",
        "# Step 2. Define a Dense layer\n",
        "# ---------------------------------------------------------------\n",
        "# A fully connected layer with 5 units and ReLU activation\n",
        "# - Takes 20 input features → produces 5 outputs\n",
        "# - Glorot normal initializer sets up weights with good variance\n",
        "dense_layer = layers.Dense(\n",
        "    5,                                      # number of output neurons\n",
        "    activation='relu',                      # nonlinearity\n",
        "    kernel_initializer=keras.initializers.glorot_normal,  \n",
        "    name='layer_1'                          # useful name for debugging/plotting\n",
        ")\n",
        "\n",
        "# Apply the dense layer to the inputs\n",
        "dense_out = dense_layer(inputs)  # shape: (None, 5)\n",
        "\n",
        "# ---------------------------------------------------------------\n",
        "# Step 3. Add a Layer Normalization layer\n",
        "# ---------------------------------------------------------------\n",
        "# Normalizes the dense layer outputs across features per sample:\n",
        "# - Ensures mean ~ 0 and variance ~ 1\n",
        "# - Helps stabilize training by controlling scale/shift\n",
        "final_out = layers.LayerNormalization()(dense_out)  # shape: (None, 5)\n",
        "\n",
        "# ---------------------------------------------------------------\n",
        "# Step 4. Define the model with multiple outputs\n",
        "# ---------------------------------------------------------------\n",
        "# Here, we expose BOTH:\n",
        "# - dense_out   (raw activations, before normalization)\n",
        "# - final_out   (normalized activations, after LN)\n",
        "# This lets us compare the \"before\" and \"after\" directly.\n",
        "function_model_layer_norm = keras.models.Model(\n",
        "    inputs=[inputs],\n",
        "    outputs=[dense_out, final_out]\n",
        ")\n",
        "\n",
        "# ---------------------------------------------------------------\n",
        "# At this point:\n",
        "# function_model_layer_norm takes an input of shape (20,)\n",
        "# and returns TWO outputs:\n",
        "#   1. Raw Dense layer output (before LN)\n",
        "#   2. Normalized output (after LN)\n",
        "# ---------------------------------------------------------------\n"
      ]
    },
    {
      "cell_type": "markdown",
      "metadata": {
        "id": "DLdTI8U_dd1k"
      },
      "source": [
        "Let's look at the effect of normalization.  First the output from the dense layer."
      ]
    },
    {
      "cell_type": "code",
      "execution_count": 47,
      "metadata": {
        "colab": {
          "base_uri": "https://localhost:8080/"
        },
        "id": "UCpkB-VTdd1k",
        "outputId": "1c146f06-185a-4206-dab2-e5a4e71391b4"
      },
      "outputs": [
        {
          "name": "stdout",
          "output_type": "stream",
          "text": [
            "\u001b[1m1/1\u001b[0m \u001b[32m━━━━━━━━━━━━━━━━━━━━\u001b[0m\u001b[37m\u001b[0m \u001b[1m0s\u001b[0m 32ms/step\n",
            "Dense output (before LN):\n",
            " [[0.39051962 0.         0.         0.52636456 0.        ]\n",
            " [0.49906754 0.         0.43787542 0.4379836  0.        ]]\n",
            "\n",
            "Normalized output (after LN):\n",
            " [[ 0.8973531  -0.7943978  -0.7943978   1.4858403  -0.7943978 ]\n",
            " [ 0.98352027 -1.2069392   0.71494174  0.71541655 -1.2069392 ]]\n"
          ]
        }
      ],
      "source": [
        "# ---------------------------------------------------------------\n",
        "# Run the model on the first two samples of the dataset\n",
        "# ---------------------------------------------------------------\n",
        "# Recall: function_model_layer_norm has TWO outputs:\n",
        "#   1. dense_out  (raw Dense layer activations, before normalization)\n",
        "#   2. final_out  (LayerNorm applied to those activations)\n",
        "\n",
        "# Use .predict() to compute the outputs\n",
        "# - data[:2] → take only the first 2 examples (shape: (2, 20))\n",
        "# - batch_size=2 → process both examples in one batch\n",
        "pred_layer_after_dense, pred_layer_after_norm = function_model_layer_norm.predict(\n",
        "    data[:2],        # the inputs (two rows of 20 features each)\n",
        "    batch_size=2     # run them in one mini-batch\n",
        ")\n",
        "\n",
        "# pred_layer_after_dense → numpy array of shape (2, 5)\n",
        "#   - contains the 5-dimensional activations from the Dense layer\n",
        "#   - BEFORE applying Layer Normalization\n",
        "\n",
        "# pred_layer_after_norm → numpy array of shape (2, 5)\n",
        "#   - contains the same activations, AFTER Layer Normalization\n",
        "#   - each row (example) has mean ~0 and variance ~1\n",
        "\n",
        "\n",
        "print(\"Dense output (before LN):\\n\", pred_layer_after_dense)\n",
        "print(\"\\nNormalized output (after LN):\\n\", pred_layer_after_norm)\n"
      ]
    },
    {
      "cell_type": "markdown",
      "metadata": {
        "id": "qn7Xwv0gdd1k"
      },
      "source": [
        "Now lets see the output after it has passed through the normalization layer."
      ]
    },
    {
      "cell_type": "code",
      "execution_count": 48,
      "metadata": {
        "colab": {
          "base_uri": "https://localhost:8080/"
        },
        "id": "SwR0gv-Sdd1l",
        "outputId": "f226076a-2ca4-438d-ccb1-385526373163"
      },
      "outputs": [
        {
          "data": {
            "text/plain": [
              "array([[ 0.8973531 , -0.7943978 , -0.7943978 ,  1.4858403 , -0.7943978 ],\n",
              "       [ 0.98352027, -1.2069392 ,  0.71494174,  0.71541655, -1.2069392 ]],\n",
              "      dtype=float32)"
            ]
          },
          "execution_count": 48,
          "metadata": {},
          "output_type": "execute_result"
        }
      ],
      "source": [
        "pred_layer_after_norm"
      ]
    },
    {
      "cell_type": "markdown",
      "metadata": {
        "id": "Fim3qejidd1l"
      },
      "source": [
        "Let's look at the sum and standard deviations of the normalized output:"
      ]
    },
    {
      "cell_type": "code",
      "execution_count": null,
      "metadata": {
        "colab": {
          "base_uri": "https://localhost:8080/"
        },
        "id": "A9Gjom4udd1l",
        "outputId": "36e99a93-bedb-47e1-97f2-0f0607b3c445"
      },
      "outputs": [
        {
          "data": {
            "text/plain": [
              "array([1.1920929e-07, 1.1920929e-07], dtype=float32)"
            ]
          },
          "execution_count": 52,
          "metadata": {},
          "output_type": "execute_result"
        }
      ],
      "source": [
        "# Close to 0\n",
        "np.sum(pred_layer_after_norm, axis=-1)"
      ]
    },
    {
      "cell_type": "code",
      "execution_count": 55,
      "metadata": {},
      "outputs": [
        {
          "data": {
            "text/plain": [
              "array([2.3841858e-08, 2.3841858e-08], dtype=float32)"
            ]
          },
          "execution_count": 55,
          "metadata": {},
          "output_type": "execute_result"
        }
      ],
      "source": [
        "# Close to 0\n",
        "np.mean(pred_layer_after_norm, axis=-1)"
      ]
    },
    {
      "cell_type": "code",
      "execution_count": 56,
      "metadata": {
        "colab": {
          "base_uri": "https://localhost:8080/"
        },
        "id": "YSd7d8Gddd1l",
        "outputId": "4b3f927e-7b71-4bdf-ca8c-b6abdb2e8ecd"
      },
      "outputs": [
        {
          "data": {
            "text/plain": [
              "array([0.9905723 , 0.99032104], dtype=float32)"
            ]
          },
          "execution_count": 56,
          "metadata": {},
          "output_type": "execute_result"
        }
      ],
      "source": [
        "# Std close to 1\n",
        "np.std(pred_layer_after_norm, axis=-1)"
      ]
    },
    {
      "cell_type": "markdown",
      "metadata": {
        "id": "fu_iMfUCdd1m"
      },
      "source": [
        "Looks reasonable?"
      ]
    },
    {
      "cell_type": "code",
      "execution_count": null,
      "metadata": {
        "id": "f400vmvodd1m"
      },
      "outputs": [],
      "source": []
    }
  ],
  "metadata": {
    "colab": {
      "provenance": []
    },
    "kernelspec": {
      "display_name": "2025-fall-main (3.10.2)",
      "language": "python",
      "name": "python3"
    },
    "language_info": {
      "codemirror_mode": {
        "name": "ipython",
        "version": 3
      },
      "file_extension": ".py",
      "mimetype": "text/x-python",
      "name": "python",
      "nbconvert_exporter": "python",
      "pygments_lexer": "ipython3",
      "version": "3.10.2"
    }
  },
  "nbformat": 4,
  "nbformat_minor": 0
}
