{
 "cells": [
  {
   "cell_type": "markdown",
   "id": "ddSv2Ev8vBHU",
   "metadata": {
    "id": "ddSv2Ev8vBHU"
   },
   "source": [
    "# Lesson Notebook 10 - Embedding-Based Retrieval\n",
    "\n",
    "In this notebook, we'll explore retrieving and ranking news headlines in response to a query. We'll use an encoder model similar to the Universal Sentence Encoder, to create vectors for each headline and then a vector for the query.  We'll use a library called [SentenceTransformers](https://www.sbert.net/) that has a large number of underlying model weight sets on Hugging Face.  Sentence Transformers are designed to take a sequence of words like a sentence as input and generates an representative vector, an embedding, as output. Note that Sentence Transformers are only available in PyTorch but that won't affect our use here thanks to the HuggingFace API.\n",
    "\n",
    "First, we'll generate vectors for our headlines and hold those. Then we'll generate an embedding for our query and we'll just use Nearest Neighbors search on the full set of news headlines. Finally, we'll cluster the news headline embeddings first, and only apply Nearest Neighbors to the top k clusters whose centroids are most similar to the query embedding.\n",
    "\n",
    "If we were trying to build a system that needed to scale,we would use something like the ScaNN library to hold our embeddings and perform our searches.\n",
    "\n",
    "<a id = 'returnToTop'></a>\n",
    "\n",
    "## Notebook Contents\n",
    "\n",
    "  * 1. [Setup](#setup)\n",
    "  * 2. [Data Preparation](#dataPrep)\n",
    "  * 3. [Encode Embeddings](#encodeData)\n",
    "  * 4. [Query and Retrieval](#queryRet)\n",
    "  * 5. [Retrieval via Clusters](#clusterRet)\n",
    "  * 6. [Answers](#answers)      \n",
    "\n",
    "\n",
    "\n",
    "\n",
    "\n",
    "\n",
    "\n",
    "\n",
    "\n",
    "[![Open In Colab](https://colab.research.google.com/assets/colab-badge.svg)](https://colab.research.google.com/github/datasci-w266/2025-fall-main/blob/master/materials/lesson_notebooks/lesson_10_embedding_based_retrieval.ipynb)"
   ]
  },
  {
   "cell_type": "markdown",
   "id": "A2-l3P819meH",
   "metadata": {
    "id": "A2-l3P819meH"
   },
   "source": [
    "[Return to Top](#returnToTop)  \n",
    "<a id = 'setup'></a>\n",
    "\n",
    "### 1. Setup"
   ]
  },
  {
   "cell_type": "code",
   "execution_count": 1,
   "id": "b5DbHhz0vAGO",
   "metadata": {
    "colab": {
     "base_uri": "https://localhost:8080/"
    },
    "id": "b5DbHhz0vAGO",
    "outputId": "4ca5bb50-d1ef-43d5-e253-377b732c83f7"
   },
   "outputs": [
    {
     "name": "stdout",
     "output_type": "stream",
     "text": [
      "\u001b[2K   \u001b[90m━━━━━━━━━━━━━━━━━━━━━━━━━━━━━━━━━━━━━━━━\u001b[0m \u001b[32m488.0/488.0 kB\u001b[0m \u001b[31m16.4 MB/s\u001b[0m eta \u001b[36m0:00:00\u001b[0m\n",
      "\u001b[2K   \u001b[90m━━━━━━━━━━━━━━━━━━━━━━━━━━━━━━━━━━━━━━━━\u001b[0m \u001b[32m491.5/491.5 kB\u001b[0m \u001b[31m15.7 MB/s\u001b[0m eta \u001b[36m0:00:00\u001b[0m\n",
      "\u001b[?25h"
     ]
    }
   ],
   "source": [
    "!pip install -q -U sentence-transformers\n",
    "!pip install -q -U datasets==3.6.0"
   ]
  },
  {
   "cell_type": "code",
   "execution_count": 2,
   "id": "d6001ff0",
   "metadata": {
    "id": "d6001ff0"
   },
   "outputs": [],
   "source": [
    "import os\n",
    "import time\n",
    "import numpy as np\n",
    "from datasets import load_dataset\n",
    "\n",
    "from scipy.spatial.distance import cosine\n",
    "from sklearn.neighbors import NearestNeighbors\n",
    "from sklearn.cluster import KMeans\n",
    "from sentence_transformers import SentenceTransformer"
   ]
  },
  {
   "cell_type": "markdown",
   "id": "5kQa89019meM",
   "metadata": {
    "id": "5kQa89019meM"
   },
   "source": [
    "[Return to Top](#returnToTop)  \n",
    "<a id = 'dataPrep'></a>\n",
    "\n",
    "### 2. Data Preparation\n",
    "\n",
    "For our data we'll use the test portion of the XSum sumarization data set.  The goal of XSum is to generate a one line summary of the input article.  We'll grab the 'summary' field as this will be an excellent set of \"sentences\" for our retrieval experiment.  It takes about a minute to process the data and get us the test records."
   ]
  },
  {
   "cell_type": "code",
   "execution_count": 3,
   "id": "2b1c9280",
   "metadata": {
    "colab": {
     "base_uri": "https://localhost:8080/",
     "height": 273,
     "referenced_widgets": [
      "08fb30774f034f56b31549f41e74660e",
      "30ab9e4bf8504729a9d92d16abf18c3c",
      "296611724cc543a49d94eb67c764d667",
      "6ca987ee34054be38d6b9e38472afc36",
      "01d0e058f38d4931b364cd94cc5057c8",
      "cf13b161dcb34e35b09792d28071f445",
      "0d83259a92ed418294cadf5e7bf80767",
      "85153577285a45d6bc6badc2edff1a7d",
      "73ebc648fb5747bfbd1cd0e91be53b5a",
      "33ef938048b6431e90d16ba7cb9f86d6",
      "ce83bcea63c94082b1053a9f76abf93f",
      "03ddaf25ac5b4b4da077430eaa516133",
      "b93022192d25475d8057265a0b413482",
      "6901da95543c45188b19b7bafe7938f5",
      "ddb3882a42274781acec4f0f1116aa08",
      "3fc0c7697873423f8e0f107c4dffeac7",
      "904a148a761f4b9b944725dc553b0fdd",
      "53eb8939df52487091f854d9b3d8861d",
      "72b397716ec94f94a63f818db4749c75",
      "093771a4e946443384d3b441111accad",
      "ac484c9be20541e68c4c0d4fe0501637",
      "b4b9ff9796e54844b0f7728f49d57320",
      "456688112e0b44c6b2801e8b5b913e53",
      "978358231781444d8bdcd2c9602218d7",
      "c4ce2240b2b14b01aa862653ee931a70",
      "283384c177d447948d0fbec4046679df",
      "0e0c074b414649d483947728daf4fef6",
      "035e45eccf684e8faefa3a39effb50f5",
      "9ef468b3503d4172b17329009df185d6",
      "a2bf6a46bad4461bb0dc4233a81645d2",
      "7ffafa50f8604ebf9d182f441617c70c",
      "7ffa93f1103e41e2a419d95cc90b0fab",
      "7c1fa51a824d40cd92686560d1cf707b",
      "f6a863dfbb7e4a9c862460b61164be6c",
      "12921b3993fb4f4d9f2e25e7523623b3",
      "957bc155a16d4246a6ed73af0e055253",
      "d0801d481f7e4007a278df7e099ea1c7",
      "63293c7944094c4b97e2e6f50cd477d8",
      "5d14ee8bad5d454480af0bbc30fe1657",
      "169b3583574f452398a0fa3013713638",
      "df82b035dfae4380ad43f870d6337a08",
      "ceaf874c9bb9425eb29e6de86265bdf7",
      "31229d433dcd48b8b6ca65edd77ba97f",
      "f3d7068a5bc642068aea28e0020e31ed",
      "3fc46bb1b4cb47b5ac89c9ce22100c46",
      "0e97ac60186d415b93f541a0a0c43c3e",
      "ffb7dbbe5a604b0ba5602fd594d0b3b4",
      "1fb38c1b0c71410da6117176382fa511",
      "518f0b2a1ef74695b78800fe776e8c66",
      "5f25a6ba99bc4349b2058562b337c145",
      "7d6ad9e7f43441b6981128b3cc729e69",
      "de7fd268feeb4477856bcc8d6aadcc70",
      "628151a3cc694a36bb2faaebb20fd3dc",
      "f00fecd7e67e498085a3752dbf28417b",
      "793a5d959c7042649abe9daf819693db",
      "dfc6fe86492842a386a30974d576da29",
      "eca6829cbfae45beb5165b117d6601e1",
      "f482f748542e4ef1a448d074c9a83381",
      "7edd3b1437f24dad80a28d779198cc2d",
      "7423f4fcbc2f4a6ab131bbaca855b28e",
      "2ca06142c1ae49b68dedad00017df1f8",
      "b44140f9a17e4e8891a10a3215d7a850",
      "cb86ed2daac042668e31a44185fb8e90",
      "d0327e7d13d849b99151e7313bcc3b62",
      "3b613e25d59a49129026aa2ccc5bb6e7",
      "65ed3cfc489946fdb305fa22d9d5e9c5",
      "8bfcc99103204b50a0e76da01f1f42e8",
      "0b6a06c5bfaf4fbd983e7b4b7f98e556",
      "9cd221ee0263421a9f2de9f8690dba18",
      "405d145e64aa4247b5abaf82f5e9d53a",
      "b62731a7f2324a8384da21e98d7a5d26",
      "546b460a1f654373863d400d7aa1635e",
      "df75d4812ff64e29aa8eb8b593653ee0",
      "319658b5270d412499df26f32c5d6602",
      "d6c071702a104ea98411ee51f92e1675",
      "e3eb5a92cb794b368da52e7313feb3a5",
      "e76b9839083342bdbf9d6abae28bd1c1",
      "af0e45c3a5474282a832da668c0bba16",
      "5ecd342191c84b61aa0abc3875bd7160",
      "a9da039b9a204fab8c4e3bfb6e613628",
      "a8636c817b0e409cbfdb02cce5261033",
      "fbb8fcbbd6b64351b4e091be097c4111",
      "ba8e30a0a39e484e9ae8562446e1dd30",
      "ff5bb36097964c569e54e842726c13c5",
      "80f179a72b024abcbd1da8592058b100",
      "e25ee63883834838b8e06a2382821938",
      "f367f67cee3d479ca0af25a9a3039c05",
      "92c74e97d6a7426cb39fc3df78d21b43"
     ]
    },
    "id": "2b1c9280",
    "outputId": "f57b2718-07bd-4b2f-ec68-0bd9be646ed8"
   },
   "outputs": [
    {
     "data": {
      "application/vnd.jupyter.widget-view+json": {
       "model_id": "08fb30774f034f56b31549f41e74660e",
       "version_major": 2,
       "version_minor": 0
      },
      "text/plain": [
       "README.md: 0.00B [00:00, ?B/s]"
      ]
     },
     "metadata": {},
     "output_type": "display_data"
    },
    {
     "data": {
      "application/vnd.jupyter.widget-view+json": {
       "model_id": "03ddaf25ac5b4b4da077430eaa516133",
       "version_major": 2,
       "version_minor": 0
      },
      "text/plain": [
       "xsum.py: 0.00B [00:00, ?B/s]"
      ]
     },
     "metadata": {},
     "output_type": "display_data"
    },
    {
     "data": {
      "application/vnd.jupyter.widget-view+json": {
       "model_id": "456688112e0b44c6b2801e8b5b913e53",
       "version_major": 2,
       "version_minor": 0
      },
      "text/plain": [
       "default/train/0000.parquet:   0%|          | 0.00/304M [00:00<?, ?B/s]"
      ]
     },
     "metadata": {},
     "output_type": "display_data"
    },
    {
     "data": {
      "application/vnd.jupyter.widget-view+json": {
       "model_id": "f6a863dfbb7e4a9c862460b61164be6c",
       "version_major": 2,
       "version_minor": 0
      },
      "text/plain": [
       "default/validation/0000.parquet:   0%|          | 0.00/16.7M [00:00<?, ?B/s]"
      ]
     },
     "metadata": {},
     "output_type": "display_data"
    },
    {
     "data": {
      "application/vnd.jupyter.widget-view+json": {
       "model_id": "3fc46bb1b4cb47b5ac89c9ce22100c46",
       "version_major": 2,
       "version_minor": 0
      },
      "text/plain": [
       "default/test/0000.parquet:   0%|          | 0.00/17.0M [00:00<?, ?B/s]"
      ]
     },
     "metadata": {},
     "output_type": "display_data"
    },
    {
     "data": {
      "application/vnd.jupyter.widget-view+json": {
       "model_id": "dfc6fe86492842a386a30974d576da29",
       "version_major": 2,
       "version_minor": 0
      },
      "text/plain": [
       "Generating train split:   0%|          | 0/204045 [00:00<?, ? examples/s]"
      ]
     },
     "metadata": {},
     "output_type": "display_data"
    },
    {
     "data": {
      "application/vnd.jupyter.widget-view+json": {
       "model_id": "8bfcc99103204b50a0e76da01f1f42e8",
       "version_major": 2,
       "version_minor": 0
      },
      "text/plain": [
       "Generating validation split:   0%|          | 0/11332 [00:00<?, ? examples/s]"
      ]
     },
     "metadata": {},
     "output_type": "display_data"
    },
    {
     "data": {
      "application/vnd.jupyter.widget-view+json": {
       "model_id": "af0e45c3a5474282a832da668c0bba16",
       "version_major": 2,
       "version_minor": 0
      },
      "text/plain": [
       "Generating test split:   0%|          | 0/11334 [00:00<?, ? examples/s]"
      ]
     },
     "metadata": {},
     "output_type": "display_data"
    }
   ],
   "source": [
    "dataset = load_dataset(\"EdinburghNLP/xsum\", split=\"test\")"
   ]
  },
  {
   "cell_type": "code",
   "execution_count": 4,
   "id": "b3538eca",
   "metadata": {
    "colab": {
     "base_uri": "https://localhost:8080/"
    },
    "id": "b3538eca",
    "outputId": "27ba6d6f-42e3-4013-fffc-aa6af50adae4"
   },
   "outputs": [
    {
     "data": {
      "text/plain": [
       "11334"
      ]
     },
     "execution_count": 4,
     "metadata": {},
     "output_type": "execute_result"
    }
   ],
   "source": [
    "len(dataset)"
   ]
  },
  {
   "cell_type": "code",
   "execution_count": 5,
   "id": "e5c91111",
   "metadata": {
    "colab": {
     "base_uri": "https://localhost:8080/"
    },
    "id": "e5c91111",
    "outputId": "ecf6bd3a-08ea-4bd3-eba2-44c1266813d6"
   },
   "outputs": [
    {
     "data": {
      "text/plain": [
       "{'document': 'Prison Link Cymru had 1,099 referrals in 2015-16 and said some ex-offenders were living rough for up to a year before finding suitable accommodation.\\nWorkers at the charity claim investment in housing would be cheaper than jailing homeless repeat offenders.\\nThe Welsh Government said more people than ever were getting help to address housing problems.\\nChanges to the Housing Act in Wales, introduced in 2015, removed the right for prison leavers to be given priority for accommodation.\\nPrison Link Cymru, which helps people find accommodation after their release, said things were generally good for women because issues such as children or domestic violence were now considered.\\nHowever, the same could not be said for men, the charity said, because issues which often affect them, such as post traumatic stress disorder or drug dependency, were often viewed as less of a priority.\\nAndrew Stevens, who works in Welsh prisons trying to secure housing for prison leavers, said the need for accommodation was \"chronic\".\\n\"There\\'s a desperate need for it, finding suitable accommodation for those leaving prison there is just a lack of it everywhere,\" he said.\\n\"It could take six months to a year, without a lot of help they could be on the streets for six months.\\n\"When you think of the consequences of either being on the street, especially with the cold weather at the moment or you may have a roof over your head, sometimes there is only one choice.\"\\nMr Stevens believes building more one-bedroom flats could help ease the problem.\\n\"The average price is a hundred pounds a week to keep someone in a rented flat, prison is a lot more than that so I would imagine it would save the public purse quite a few pounds,\" he said.\\nOfficial figures show 830 one-bedroom properties were built in the year to March 2016, of an overall total of 6,900 new properties in Wales.\\nMarc, 50, who has been in and out of prison for the past 20 years for burglary offences, said he struggled to find accommodation each time he was released.\\nHe said he would ask himself: \"Where am I going to stay? Where am I going to live? Have I got somewhere where I can see my daughter.\"\\n\"You\\'re put out among the same sort of people doing the same sort of thing, and it\\'s difficult, it\\'s difficult to get away from it. It\\'s like every man for himself, there\\'s nothing.\"\\nMarc has now found stable accommodation with homeless charity Emmaus and said it had been life changing.\\n\"You feel safe, you got hot food, you\\'ve got company of people in similar situations to yourself but all dealing with different issues. It\\'s a constructive, helpful atmosphere,\" he said.\\nTom Clarke, chief executive of Emmaus South Wales, agreed there was not enough support available.\\n\"We do still see [people] homeless on the streets, so clearly they haven\\'t got accommodation and haven\\'t got provision,\" he said.\\n\"I think the key is connecting people with the services they need. I don\\'t delude myself that Emmaus can offer a one size fits all for everyone, we can\\'t.\\n\"But there must be other opportunities and given suitable encouragement I believe that can and should happen.\"\\nA Welsh Government spokesman said the national pathway for homeless services to children, young people and adults in the secure estate had prevented many people from losing their home whilst serving their prison sentence.\\nIt added there were already significant demands for one-bedroom flats across the public and private sector and it was providing 20,000 new affordable homes in the next five years.',\n",
       " 'summary': 'There is a \"chronic\" need for more housing for prison leavers in Wales, according to a charity.',\n",
       " 'id': '38264402'}"
      ]
     },
     "execution_count": 5,
     "metadata": {},
     "output_type": "execute_result"
    }
   ],
   "source": [
    "dataset[0]"
   ]
  },
  {
   "cell_type": "markdown",
   "id": "V9kfsDAq9meP",
   "metadata": {
    "id": "V9kfsDAq9meP"
   },
   "source": [
    "[Return to Top](#returnToTop)  \n",
    "<a id = 'encodeData'></a>\n",
    "\n",
    "### 3. Encode embeddings\n",
    "\n",
    "We'll load the sentence transformers with a smaller model so that it can run quickly in the live session.  You can experiment with others to see the tradeoff between size, processing time, and quality.  For example, you could load the sentence transformer with `'sentence-transformers/all-roberta-large-v1'` and leverage the improvements that come with using a large RoBERTa model.  You can see [a full listing of models](https://huggingface.co/models?library=sentence-transformers&sort=downloads) at HuggingFace.  We'll use the checkpoint based on [this paper](https://aclanthology.org/2022.acl-long.62.pdf)."
   ]
  },
  {
   "cell_type": "code",
   "execution_count": 6,
   "id": "6f5ad90e",
   "metadata": {
    "colab": {
     "base_uri": "https://localhost:8080/",
     "height": 433,
     "referenced_widgets": [
      "0acdd60b3e8c4c2e8a9696ba5d7480a0",
      "1a260dcb526f4c1cacf3e040de4f90f3",
      "ee2a553585f24b1c9cb79f3b3b4de4e5",
      "690e2229fd0b4a4aa2016db64c0ed213",
      "4671ec312d2441a292e7a2669b5432d5",
      "032e730f5c3b4a3495906fc71c797541",
      "dc4a708645d7495198ea4fbe9cc4aaab",
      "b0bb254af3c5488f88bb92667877e576",
      "4a9dd8d2d0e74cf284f09acd2c460faa",
      "29ce89be9e5944e0a0b41162a2252aec",
      "501db4ef7b7f4ea9b4c710fabcaa5e90",
      "e066388f07f34c63b8de0d5c25c53d48",
      "aaddba82104641f5a76f63ea08f16b1d",
      "b460b800ffb64e86b39d7409d723cf75",
      "d4eb8979d6b54124b65ab7003ef2fe7e",
      "62ee50de3f3245e8a46f6267ddd53bfe",
      "25fda8ac288642d181f8598dc49d260c",
      "63840d2bb20842da9722c9b67e0dbdb6",
      "7a793311a6814fa1a671aaa096c8fe94",
      "25fa3c6b317e4e55a7d5f6c8879a985d",
      "052d172a58f34f60a5405e481980e106",
      "d462a260c30f4a989795d9a7551f05d3",
      "c3cd2c2dfc764fe69de94dbb729dc0c1",
      "999b54a3176643cfa61374031d0c37ee",
      "2e7ad148d6434747a3b6a1dda5c1577c",
      "f401e023393746c1927a95747583eaa7",
      "5c7f872f4426483b9bd070e6f850efbb",
      "e3974d5f5f2c41cfa0b464f26559bf60",
      "3b8bab629a4c4e759ce11348356b6a50",
      "b1768700edf04e2abe9a3acb12eca140",
      "c16a2101290d4b198279e8604ba39286",
      "113a3af13eb5441394fc22f4b95adfb8",
      "439ff3e5e3124e26b98cbfa1778a2ac7",
      "aa657dd72f7a4869aa7ce6a405a2b260",
      "8a80d97863e741a9be59ce5022ea65d8",
      "c4d6c6399f6849baa7f9a6f88b5540e3",
      "c1791b0904f84151b2e47ff3352a3114",
      "438c1f83800e46b88b2ce92996df64b0",
      "9ed49acc22c64e449dd1a9a15b3b0b55",
      "02f84503182847ea99f6033dc0ffb382",
      "8556b7df9cb54800a151ac1f5d16701d",
      "aec361fa9afd44e1b900eac113e9c705",
      "92b450e3c61e4c87853abccc9733cd55",
      "388a4dd019224263a9cde975cbd6321d",
      "bcddae0477404a12b49edee9f07c5399",
      "95630f51933e49f8b621174d93b27a77",
      "6ce114dfec14458a8a633220a6577e67",
      "12ba345dfc9e44d69b093bf4c15a5341",
      "24a2702af9a349edbe9c20ab5f2f1752",
      "e97174c4bd8c47fabbab1af04f3163ec",
      "9818d2c1cca4465cbd39e48d521bd853",
      "c3309b81b66e4097955eb650d0a465a9",
      "69f383a16502447aa5ee5696b68cf31f",
      "e96df7ca35ef4af4afb5856234f2ac1b",
      "4c9af05cfa1c4868bbee759c6e63d531",
      "75add438dc3f4dbf8c8dc3cfaea099ec",
      "183c5f7608204dd28c16d483e28bf813",
      "dd141daa4dfb452e9e8a8d22436e6fa0",
      "13c492f8be8148feac9741eb8cde3cd2",
      "55a29da43d084edb9bb3a3479dc2d928",
      "8dc5147a47ec411d9da8d29242293a9f",
      "268752b9e6e44d5a96eb0fd41b05c218",
      "a401c3d216c548e383d39ba759b458bf",
      "8ffd52e8d5d44ebcbc0645cdc9e75398",
      "d7defc55738544cca0efe7fe49537c41",
      "5250232c980e438683796c567cd1a43d",
      "308a2c6e0e7b4ac2bce6379b34bf3cd2",
      "ec6da8da6e4e463092518eea991d8d12",
      "d2b69e44f6a3470e9a5ee3b50d689af9",
      "7d90f7bcd5034e17ae661564a0ff4f3e",
      "493103952e684562afdb524be8428077",
      "378c3a0403704b1a960d843544644cd9",
      "468834100bd3411e94c270df251e81d0",
      "77ef34768fda4747b27e0b0dd4494ee9",
      "9cd9f620b9c5496287f1e64878c33865",
      "bc02ec2155ac407dbabbca9fcd3ee9d4",
      "4281cf37207c42a7bdbed750e7b0b309",
      "ca04506882294a58b8c92aaa8221c3a6",
      "8598b5592c6348368f251ba5bd2bbc6b",
      "da70cd5d1a7c40f7ac1fe798bdb62773",
      "e10e93577a7447dab7a1c7706347e4df",
      "61cb321781394279a01345518b9c2b62",
      "1464cfa9f12a43bbbba60ff109905eec",
      "9736c7ecd98e4bfba214acede10bc4e4",
      "352d7b17226a4f5e93ae0e41bb898700",
      "55c018cb1e904b7ca34789e886dfe1de",
      "bbc79e0c1c914040b15b5697fed7a131",
      "b278e36919544d7881cbe0b78dfe63eb",
      "70b933586e9a47c1b204cfb71c8ace9e",
      "e3600a4700414a2da39fc88310250508",
      "1c84539d43764273b7cfa866ea56c386",
      "9c9db62f689242888ce60d3adf7e6ccb",
      "07125d3bd5b042899f29577fa29d6298",
      "8eed50b8c1c84c9a81e88e76a75958d0",
      "7222ec9cacb346a7b08e1f37d9a7c34b",
      "bc879734dd144dfdae560a196d25f651",
      "4da828d680eb41e0a15428e5df9e5e84",
      "ad6605e2523a41c1927bfa9f9dfe0982",
      "0a1626ce62f24c26a61e864e6760fe2c",
      "9327ad4fa4394d98815fb3b33055f5f3",
      "12dfe3f163e24f09ada98e2a807db4e5",
      "9287680f2e1c49aaa5a965ea11fdad81",
      "da9c1ffbd0914a619b1ab0a86f124633",
      "10a730af46d0406c9f4717feaf117f25",
      "34d4e68fef55409f82a455f047605847",
      "5ce20f8a4dfb4940bd363886df7ceaf9",
      "636e7d237a10418394aa8f5f7c50f3ad",
      "de6be28bee9246929b227110a72f18ca",
      "8d4948eac84d403b95d40d3ddca670f8",
      "8cf558498f754cdf82f782212c299561",
      "979eb7df4674430392f78a8dc01e4d78",
      "eead7274d9f34a60bd01edcf8b7dcd1a",
      "3f01bcbb1564438385e712ec894c9333",
      "d4c49ade72724b2da7072746fefd1f86",
      "9fa7fee24f08494f8060e33c1efc6dae",
      "f1a5aa6ebb1f4db5aa74fe1c4060fa24",
      "1b4f8deb94b44a1aa6c9a541c4eb1309",
      "36f557e4ae2649b69baf228f565bd25d",
      "9829c830b9ff42a7bdf8f18ed4db9cbd",
      "4171be72d77345d0800c3d97b38bd5d0",
      "adac87df174449fba004f0a159962866",
      "26ecda3dc76444a7910a85d072e770af",
      "a1434b2eb12d4c96bd7a444cc49da58b",
      "d083ff8e509e4985b8f1072803ad6811",
      "9c00abbf585648b7a0166f28c96b4f5b",
      "ab1c230dce5543f7b7c603211411b189",
      "6c54c9627f3847ecbc89ffd707b3b11d",
      "19afabefe9f949f49466fbbf3725be9c",
      "6bec81fdc6d3468fb495b09f898a3d01",
      "e600b76f783147dcb6831f2712af7a8f",
      "27fbd54b8a0c483ba574903db9ff54a1",
      "120a4653900a4d0f993cb1684b7c54ca",
      "0bf86ddf4bf7496bbe4e2a3742a59c4b",
      "f4649e3dffee40c3993e0ee43cf2356f",
      "47dbb895f8da419e8e35b6c26c291cb2",
      "1b9f9f40fd46462d8b6b2931e33d5cb6",
      "d772440a3fe141e3b0bd37a1c19baf2d",
      "0ea7a5ff87444c9988f274f72e15d81e",
      "7eea0f264f774c0da6dc54b8040ac88b",
      "d37c7f13eff84343b63b0519a3e0d008",
      "783390f1e6834614bdf6959095c191fc",
      "b9dc384ca7aa4127945a64473b21c9ba",
      "91be787e646f402abe95059dd9d66af7"
     ]
    },
    "id": "6f5ad90e",
    "outputId": "02c6c79e-8633-4cb2-eb39-10ac2c4679ca"
   },
   "outputs": [
    {
     "data": {
      "application/vnd.jupyter.widget-view+json": {
       "model_id": "0acdd60b3e8c4c2e8a9696ba5d7480a0",
       "version_major": 2,
       "version_minor": 0
      },
      "text/plain": [
       "modules.json:   0%|          | 0.00/461 [00:00<?, ?B/s]"
      ]
     },
     "metadata": {},
     "output_type": "display_data"
    },
    {
     "data": {
      "application/vnd.jupyter.widget-view+json": {
       "model_id": "e066388f07f34c63b8de0d5c25c53d48",
       "version_major": 2,
       "version_minor": 0
      },
      "text/plain": [
       "config_sentence_transformers.json:   0%|          | 0.00/122 [00:00<?, ?B/s]"
      ]
     },
     "metadata": {},
     "output_type": "display_data"
    },
    {
     "data": {
      "application/vnd.jupyter.widget-view+json": {
       "model_id": "c3cd2c2dfc764fe69de94dbb729dc0c1",
       "version_major": 2,
       "version_minor": 0
      },
      "text/plain": [
       "README.md: 0.00B [00:00, ?B/s]"
      ]
     },
     "metadata": {},
     "output_type": "display_data"
    },
    {
     "data": {
      "application/vnd.jupyter.widget-view+json": {
       "model_id": "aa657dd72f7a4869aa7ce6a405a2b260",
       "version_major": 2,
       "version_minor": 0
      },
      "text/plain": [
       "sentence_bert_config.json:   0%|          | 0.00/53.0 [00:00<?, ?B/s]"
      ]
     },
     "metadata": {},
     "output_type": "display_data"
    },
    {
     "data": {
      "application/vnd.jupyter.widget-view+json": {
       "model_id": "bcddae0477404a12b49edee9f07c5399",
       "version_major": 2,
       "version_minor": 0
      },
      "text/plain": [
       "config.json:   0%|          | 0.00/804 [00:00<?, ?B/s]"
      ]
     },
     "metadata": {},
     "output_type": "display_data"
    },
    {
     "data": {
      "application/vnd.jupyter.widget-view+json": {
       "model_id": "75add438dc3f4dbf8c8dc3cfaea099ec",
       "version_major": 2,
       "version_minor": 0
      },
      "text/plain": [
       "model.safetensors:   0%|          | 0.00/1.88G [00:00<?, ?B/s]"
      ]
     },
     "metadata": {},
     "output_type": "display_data"
    },
    {
     "data": {
      "application/vnd.jupyter.widget-view+json": {
       "model_id": "308a2c6e0e7b4ac2bce6379b34bf3cd2",
       "version_major": 2,
       "version_minor": 0
      },
      "text/plain": [
       "tokenizer_config.json:   0%|          | 0.00/397 [00:00<?, ?B/s]"
      ]
     },
     "metadata": {},
     "output_type": "display_data"
    },
    {
     "data": {
      "application/vnd.jupyter.widget-view+json": {
       "model_id": "ca04506882294a58b8c92aaa8221c3a6",
       "version_major": 2,
       "version_minor": 0
      },
      "text/plain": [
       "vocab.txt: 0.00B [00:00, ?B/s]"
      ]
     },
     "metadata": {},
     "output_type": "display_data"
    },
    {
     "data": {
      "application/vnd.jupyter.widget-view+json": {
       "model_id": "70b933586e9a47c1b204cfb71c8ace9e",
       "version_major": 2,
       "version_minor": 0
      },
      "text/plain": [
       "tokenizer.json: 0.00B [00:00, ?B/s]"
      ]
     },
     "metadata": {},
     "output_type": "display_data"
    },
    {
     "data": {
      "application/vnd.jupyter.widget-view+json": {
       "model_id": "9327ad4fa4394d98815fb3b33055f5f3",
       "version_major": 2,
       "version_minor": 0
      },
      "text/plain": [
       "special_tokens_map.json:   0%|          | 0.00/112 [00:00<?, ?B/s]"
      ]
     },
     "metadata": {},
     "output_type": "display_data"
    },
    {
     "data": {
      "application/vnd.jupyter.widget-view+json": {
       "model_id": "979eb7df4674430392f78a8dc01e4d78",
       "version_major": 2,
       "version_minor": 0
      },
      "text/plain": [
       "config.json:   0%|          | 0.00/190 [00:00<?, ?B/s]"
      ]
     },
     "metadata": {},
     "output_type": "display_data"
    },
    {
     "data": {
      "application/vnd.jupyter.widget-view+json": {
       "model_id": "26ecda3dc76444a7910a85d072e770af",
       "version_major": 2,
       "version_minor": 0
      },
      "text/plain": [
       "config.json:   0%|          | 0.00/114 [00:00<?, ?B/s]"
      ]
     },
     "metadata": {},
     "output_type": "display_data"
    },
    {
     "data": {
      "application/vnd.jupyter.widget-view+json": {
       "model_id": "0bf86ddf4bf7496bbe4e2a3742a59c4b",
       "version_major": 2,
       "version_minor": 0
      },
      "text/plain": [
       "2_Dense/model.safetensors:   0%|          | 0.00/2.36M [00:00<?, ?B/s]"
      ]
     },
     "metadata": {},
     "output_type": "display_data"
    }
   ],
   "source": [
    "encoder_model = SentenceTransformer('sentence-transformers/LaBSE')"
   ]
  },
  {
   "cell_type": "code",
   "execution_count": 7,
   "id": "2a2853af",
   "metadata": {
    "id": "2a2853af"
   },
   "outputs": [],
   "source": [
    "# Just encoding a subset so it doesn't take too long during the live session (24 seconds)\n",
    "\n",
    "news_headlines = [x['summary'] for x in dataset]\n",
    "news_embeddings = encoder_model.encode(news_headlines[:7500])"
   ]
  },
  {
   "cell_type": "markdown",
   "id": "NWx0UCxj9meR",
   "metadata": {
    "id": "NWx0UCxj9meR"
   },
   "source": [
    "[Return to Top](#returnToTop)  \n",
    "<a id = 'queryRet'></a>\n",
    "\n",
    "### 4. Query and Retrieval\n",
    "\n",
    "First, we'll need to create a query and generate an embedding to represent it. Then we'll use that query embedding to walk through *all* of the headline embeddings and find the 10 nearest neighbors.  This is a non-scalable approach to retrieval.  We can't compare our query embedding with all of the news headline embeddings each time we have a query."
   ]
  },
  {
   "cell_type": "code",
   "execution_count": 8,
   "id": "70fcf250",
   "metadata": {
    "id": "70fcf250"
   },
   "outputs": [],
   "source": [
    "# Let's try a query for some news we might be looking for\n",
    "\n",
    "query = 'Tiger Woods did not make the cut at golf tournament.'\n",
    "query_embedding = encoder_model.encode([query])"
   ]
  },
  {
   "cell_type": "code",
   "execution_count": 9,
   "id": "xxVa4d2P-UOv",
   "metadata": {
    "colab": {
     "base_uri": "https://localhost:8080/",
     "height": 80
    },
    "id": "xxVa4d2P-UOv",
    "outputId": "10af0734-84ee-4587-c0f3-1e1214c78dc9"
   },
   "outputs": [
    {
     "data": {
      "text/html": [
       "<style>#sk-container-id-1 {\n",
       "  /* Definition of color scheme common for light and dark mode */\n",
       "  --sklearn-color-text: #000;\n",
       "  --sklearn-color-text-muted: #666;\n",
       "  --sklearn-color-line: gray;\n",
       "  /* Definition of color scheme for unfitted estimators */\n",
       "  --sklearn-color-unfitted-level-0: #fff5e6;\n",
       "  --sklearn-color-unfitted-level-1: #f6e4d2;\n",
       "  --sklearn-color-unfitted-level-2: #ffe0b3;\n",
       "  --sklearn-color-unfitted-level-3: chocolate;\n",
       "  /* Definition of color scheme for fitted estimators */\n",
       "  --sklearn-color-fitted-level-0: #f0f8ff;\n",
       "  --sklearn-color-fitted-level-1: #d4ebff;\n",
       "  --sklearn-color-fitted-level-2: #b3dbfd;\n",
       "  --sklearn-color-fitted-level-3: cornflowerblue;\n",
       "\n",
       "  /* Specific color for light theme */\n",
       "  --sklearn-color-text-on-default-background: var(--sg-text-color, var(--theme-code-foreground, var(--jp-content-font-color1, black)));\n",
       "  --sklearn-color-background: var(--sg-background-color, var(--theme-background, var(--jp-layout-color0, white)));\n",
       "  --sklearn-color-border-box: var(--sg-text-color, var(--theme-code-foreground, var(--jp-content-font-color1, black)));\n",
       "  --sklearn-color-icon: #696969;\n",
       "\n",
       "  @media (prefers-color-scheme: dark) {\n",
       "    /* Redefinition of color scheme for dark theme */\n",
       "    --sklearn-color-text-on-default-background: var(--sg-text-color, var(--theme-code-foreground, var(--jp-content-font-color1, white)));\n",
       "    --sklearn-color-background: var(--sg-background-color, var(--theme-background, var(--jp-layout-color0, #111)));\n",
       "    --sklearn-color-border-box: var(--sg-text-color, var(--theme-code-foreground, var(--jp-content-font-color1, white)));\n",
       "    --sklearn-color-icon: #878787;\n",
       "  }\n",
       "}\n",
       "\n",
       "#sk-container-id-1 {\n",
       "  color: var(--sklearn-color-text);\n",
       "}\n",
       "\n",
       "#sk-container-id-1 pre {\n",
       "  padding: 0;\n",
       "}\n",
       "\n",
       "#sk-container-id-1 input.sk-hidden--visually {\n",
       "  border: 0;\n",
       "  clip: rect(1px 1px 1px 1px);\n",
       "  clip: rect(1px, 1px, 1px, 1px);\n",
       "  height: 1px;\n",
       "  margin: -1px;\n",
       "  overflow: hidden;\n",
       "  padding: 0;\n",
       "  position: absolute;\n",
       "  width: 1px;\n",
       "}\n",
       "\n",
       "#sk-container-id-1 div.sk-dashed-wrapped {\n",
       "  border: 1px dashed var(--sklearn-color-line);\n",
       "  margin: 0 0.4em 0.5em 0.4em;\n",
       "  box-sizing: border-box;\n",
       "  padding-bottom: 0.4em;\n",
       "  background-color: var(--sklearn-color-background);\n",
       "}\n",
       "\n",
       "#sk-container-id-1 div.sk-container {\n",
       "  /* jupyter's `normalize.less` sets `[hidden] { display: none; }`\n",
       "     but bootstrap.min.css set `[hidden] { display: none !important; }`\n",
       "     so we also need the `!important` here to be able to override the\n",
       "     default hidden behavior on the sphinx rendered scikit-learn.org.\n",
       "     See: https://github.com/scikit-learn/scikit-learn/issues/21755 */\n",
       "  display: inline-block !important;\n",
       "  position: relative;\n",
       "}\n",
       "\n",
       "#sk-container-id-1 div.sk-text-repr-fallback {\n",
       "  display: none;\n",
       "}\n",
       "\n",
       "div.sk-parallel-item,\n",
       "div.sk-serial,\n",
       "div.sk-item {\n",
       "  /* draw centered vertical line to link estimators */\n",
       "  background-image: linear-gradient(var(--sklearn-color-text-on-default-background), var(--sklearn-color-text-on-default-background));\n",
       "  background-size: 2px 100%;\n",
       "  background-repeat: no-repeat;\n",
       "  background-position: center center;\n",
       "}\n",
       "\n",
       "/* Parallel-specific style estimator block */\n",
       "\n",
       "#sk-container-id-1 div.sk-parallel-item::after {\n",
       "  content: \"\";\n",
       "  width: 100%;\n",
       "  border-bottom: 2px solid var(--sklearn-color-text-on-default-background);\n",
       "  flex-grow: 1;\n",
       "}\n",
       "\n",
       "#sk-container-id-1 div.sk-parallel {\n",
       "  display: flex;\n",
       "  align-items: stretch;\n",
       "  justify-content: center;\n",
       "  background-color: var(--sklearn-color-background);\n",
       "  position: relative;\n",
       "}\n",
       "\n",
       "#sk-container-id-1 div.sk-parallel-item {\n",
       "  display: flex;\n",
       "  flex-direction: column;\n",
       "}\n",
       "\n",
       "#sk-container-id-1 div.sk-parallel-item:first-child::after {\n",
       "  align-self: flex-end;\n",
       "  width: 50%;\n",
       "}\n",
       "\n",
       "#sk-container-id-1 div.sk-parallel-item:last-child::after {\n",
       "  align-self: flex-start;\n",
       "  width: 50%;\n",
       "}\n",
       "\n",
       "#sk-container-id-1 div.sk-parallel-item:only-child::after {\n",
       "  width: 0;\n",
       "}\n",
       "\n",
       "/* Serial-specific style estimator block */\n",
       "\n",
       "#sk-container-id-1 div.sk-serial {\n",
       "  display: flex;\n",
       "  flex-direction: column;\n",
       "  align-items: center;\n",
       "  background-color: var(--sklearn-color-background);\n",
       "  padding-right: 1em;\n",
       "  padding-left: 1em;\n",
       "}\n",
       "\n",
       "\n",
       "/* Toggleable style: style used for estimator/Pipeline/ColumnTransformer box that is\n",
       "clickable and can be expanded/collapsed.\n",
       "- Pipeline and ColumnTransformer use this feature and define the default style\n",
       "- Estimators will overwrite some part of the style using the `sk-estimator` class\n",
       "*/\n",
       "\n",
       "/* Pipeline and ColumnTransformer style (default) */\n",
       "\n",
       "#sk-container-id-1 div.sk-toggleable {\n",
       "  /* Default theme specific background. It is overwritten whether we have a\n",
       "  specific estimator or a Pipeline/ColumnTransformer */\n",
       "  background-color: var(--sklearn-color-background);\n",
       "}\n",
       "\n",
       "/* Toggleable label */\n",
       "#sk-container-id-1 label.sk-toggleable__label {\n",
       "  cursor: pointer;\n",
       "  display: flex;\n",
       "  width: 100%;\n",
       "  margin-bottom: 0;\n",
       "  padding: 0.5em;\n",
       "  box-sizing: border-box;\n",
       "  text-align: center;\n",
       "  align-items: start;\n",
       "  justify-content: space-between;\n",
       "  gap: 0.5em;\n",
       "}\n",
       "\n",
       "#sk-container-id-1 label.sk-toggleable__label .caption {\n",
       "  font-size: 0.6rem;\n",
       "  font-weight: lighter;\n",
       "  color: var(--sklearn-color-text-muted);\n",
       "}\n",
       "\n",
       "#sk-container-id-1 label.sk-toggleable__label-arrow:before {\n",
       "  /* Arrow on the left of the label */\n",
       "  content: \"▸\";\n",
       "  float: left;\n",
       "  margin-right: 0.25em;\n",
       "  color: var(--sklearn-color-icon);\n",
       "}\n",
       "\n",
       "#sk-container-id-1 label.sk-toggleable__label-arrow:hover:before {\n",
       "  color: var(--sklearn-color-text);\n",
       "}\n",
       "\n",
       "/* Toggleable content - dropdown */\n",
       "\n",
       "#sk-container-id-1 div.sk-toggleable__content {\n",
       "  max-height: 0;\n",
       "  max-width: 0;\n",
       "  overflow: hidden;\n",
       "  text-align: left;\n",
       "  /* unfitted */\n",
       "  background-color: var(--sklearn-color-unfitted-level-0);\n",
       "}\n",
       "\n",
       "#sk-container-id-1 div.sk-toggleable__content.fitted {\n",
       "  /* fitted */\n",
       "  background-color: var(--sklearn-color-fitted-level-0);\n",
       "}\n",
       "\n",
       "#sk-container-id-1 div.sk-toggleable__content pre {\n",
       "  margin: 0.2em;\n",
       "  border-radius: 0.25em;\n",
       "  color: var(--sklearn-color-text);\n",
       "  /* unfitted */\n",
       "  background-color: var(--sklearn-color-unfitted-level-0);\n",
       "}\n",
       "\n",
       "#sk-container-id-1 div.sk-toggleable__content.fitted pre {\n",
       "  /* unfitted */\n",
       "  background-color: var(--sklearn-color-fitted-level-0);\n",
       "}\n",
       "\n",
       "#sk-container-id-1 input.sk-toggleable__control:checked~div.sk-toggleable__content {\n",
       "  /* Expand drop-down */\n",
       "  max-height: 200px;\n",
       "  max-width: 100%;\n",
       "  overflow: auto;\n",
       "}\n",
       "\n",
       "#sk-container-id-1 input.sk-toggleable__control:checked~label.sk-toggleable__label-arrow:before {\n",
       "  content: \"▾\";\n",
       "}\n",
       "\n",
       "/* Pipeline/ColumnTransformer-specific style */\n",
       "\n",
       "#sk-container-id-1 div.sk-label input.sk-toggleable__control:checked~label.sk-toggleable__label {\n",
       "  color: var(--sklearn-color-text);\n",
       "  background-color: var(--sklearn-color-unfitted-level-2);\n",
       "}\n",
       "\n",
       "#sk-container-id-1 div.sk-label.fitted input.sk-toggleable__control:checked~label.sk-toggleable__label {\n",
       "  background-color: var(--sklearn-color-fitted-level-2);\n",
       "}\n",
       "\n",
       "/* Estimator-specific style */\n",
       "\n",
       "/* Colorize estimator box */\n",
       "#sk-container-id-1 div.sk-estimator input.sk-toggleable__control:checked~label.sk-toggleable__label {\n",
       "  /* unfitted */\n",
       "  background-color: var(--sklearn-color-unfitted-level-2);\n",
       "}\n",
       "\n",
       "#sk-container-id-1 div.sk-estimator.fitted input.sk-toggleable__control:checked~label.sk-toggleable__label {\n",
       "  /* fitted */\n",
       "  background-color: var(--sklearn-color-fitted-level-2);\n",
       "}\n",
       "\n",
       "#sk-container-id-1 div.sk-label label.sk-toggleable__label,\n",
       "#sk-container-id-1 div.sk-label label {\n",
       "  /* The background is the default theme color */\n",
       "  color: var(--sklearn-color-text-on-default-background);\n",
       "}\n",
       "\n",
       "/* On hover, darken the color of the background */\n",
       "#sk-container-id-1 div.sk-label:hover label.sk-toggleable__label {\n",
       "  color: var(--sklearn-color-text);\n",
       "  background-color: var(--sklearn-color-unfitted-level-2);\n",
       "}\n",
       "\n",
       "/* Label box, darken color on hover, fitted */\n",
       "#sk-container-id-1 div.sk-label.fitted:hover label.sk-toggleable__label.fitted {\n",
       "  color: var(--sklearn-color-text);\n",
       "  background-color: var(--sklearn-color-fitted-level-2);\n",
       "}\n",
       "\n",
       "/* Estimator label */\n",
       "\n",
       "#sk-container-id-1 div.sk-label label {\n",
       "  font-family: monospace;\n",
       "  font-weight: bold;\n",
       "  display: inline-block;\n",
       "  line-height: 1.2em;\n",
       "}\n",
       "\n",
       "#sk-container-id-1 div.sk-label-container {\n",
       "  text-align: center;\n",
       "}\n",
       "\n",
       "/* Estimator-specific */\n",
       "#sk-container-id-1 div.sk-estimator {\n",
       "  font-family: monospace;\n",
       "  border: 1px dotted var(--sklearn-color-border-box);\n",
       "  border-radius: 0.25em;\n",
       "  box-sizing: border-box;\n",
       "  margin-bottom: 0.5em;\n",
       "  /* unfitted */\n",
       "  background-color: var(--sklearn-color-unfitted-level-0);\n",
       "}\n",
       "\n",
       "#sk-container-id-1 div.sk-estimator.fitted {\n",
       "  /* fitted */\n",
       "  background-color: var(--sklearn-color-fitted-level-0);\n",
       "}\n",
       "\n",
       "/* on hover */\n",
       "#sk-container-id-1 div.sk-estimator:hover {\n",
       "  /* unfitted */\n",
       "  background-color: var(--sklearn-color-unfitted-level-2);\n",
       "}\n",
       "\n",
       "#sk-container-id-1 div.sk-estimator.fitted:hover {\n",
       "  /* fitted */\n",
       "  background-color: var(--sklearn-color-fitted-level-2);\n",
       "}\n",
       "\n",
       "/* Specification for estimator info (e.g. \"i\" and \"?\") */\n",
       "\n",
       "/* Common style for \"i\" and \"?\" */\n",
       "\n",
       ".sk-estimator-doc-link,\n",
       "a:link.sk-estimator-doc-link,\n",
       "a:visited.sk-estimator-doc-link {\n",
       "  float: right;\n",
       "  font-size: smaller;\n",
       "  line-height: 1em;\n",
       "  font-family: monospace;\n",
       "  background-color: var(--sklearn-color-background);\n",
       "  border-radius: 1em;\n",
       "  height: 1em;\n",
       "  width: 1em;\n",
       "  text-decoration: none !important;\n",
       "  margin-left: 0.5em;\n",
       "  text-align: center;\n",
       "  /* unfitted */\n",
       "  border: var(--sklearn-color-unfitted-level-1) 1pt solid;\n",
       "  color: var(--sklearn-color-unfitted-level-1);\n",
       "}\n",
       "\n",
       ".sk-estimator-doc-link.fitted,\n",
       "a:link.sk-estimator-doc-link.fitted,\n",
       "a:visited.sk-estimator-doc-link.fitted {\n",
       "  /* fitted */\n",
       "  border: var(--sklearn-color-fitted-level-1) 1pt solid;\n",
       "  color: var(--sklearn-color-fitted-level-1);\n",
       "}\n",
       "\n",
       "/* On hover */\n",
       "div.sk-estimator:hover .sk-estimator-doc-link:hover,\n",
       ".sk-estimator-doc-link:hover,\n",
       "div.sk-label-container:hover .sk-estimator-doc-link:hover,\n",
       ".sk-estimator-doc-link:hover {\n",
       "  /* unfitted */\n",
       "  background-color: var(--sklearn-color-unfitted-level-3);\n",
       "  color: var(--sklearn-color-background);\n",
       "  text-decoration: none;\n",
       "}\n",
       "\n",
       "div.sk-estimator.fitted:hover .sk-estimator-doc-link.fitted:hover,\n",
       ".sk-estimator-doc-link.fitted:hover,\n",
       "div.sk-label-container:hover .sk-estimator-doc-link.fitted:hover,\n",
       ".sk-estimator-doc-link.fitted:hover {\n",
       "  /* fitted */\n",
       "  background-color: var(--sklearn-color-fitted-level-3);\n",
       "  color: var(--sklearn-color-background);\n",
       "  text-decoration: none;\n",
       "}\n",
       "\n",
       "/* Span, style for the box shown on hovering the info icon */\n",
       ".sk-estimator-doc-link span {\n",
       "  display: none;\n",
       "  z-index: 9999;\n",
       "  position: relative;\n",
       "  font-weight: normal;\n",
       "  right: .2ex;\n",
       "  padding: .5ex;\n",
       "  margin: .5ex;\n",
       "  width: min-content;\n",
       "  min-width: 20ex;\n",
       "  max-width: 50ex;\n",
       "  color: var(--sklearn-color-text);\n",
       "  box-shadow: 2pt 2pt 4pt #999;\n",
       "  /* unfitted */\n",
       "  background: var(--sklearn-color-unfitted-level-0);\n",
       "  border: .5pt solid var(--sklearn-color-unfitted-level-3);\n",
       "}\n",
       "\n",
       ".sk-estimator-doc-link.fitted span {\n",
       "  /* fitted */\n",
       "  background: var(--sklearn-color-fitted-level-0);\n",
       "  border: var(--sklearn-color-fitted-level-3);\n",
       "}\n",
       "\n",
       ".sk-estimator-doc-link:hover span {\n",
       "  display: block;\n",
       "}\n",
       "\n",
       "/* \"?\"-specific style due to the `<a>` HTML tag */\n",
       "\n",
       "#sk-container-id-1 a.estimator_doc_link {\n",
       "  float: right;\n",
       "  font-size: 1rem;\n",
       "  line-height: 1em;\n",
       "  font-family: monospace;\n",
       "  background-color: var(--sklearn-color-background);\n",
       "  border-radius: 1rem;\n",
       "  height: 1rem;\n",
       "  width: 1rem;\n",
       "  text-decoration: none;\n",
       "  /* unfitted */\n",
       "  color: var(--sklearn-color-unfitted-level-1);\n",
       "  border: var(--sklearn-color-unfitted-level-1) 1pt solid;\n",
       "}\n",
       "\n",
       "#sk-container-id-1 a.estimator_doc_link.fitted {\n",
       "  /* fitted */\n",
       "  border: var(--sklearn-color-fitted-level-1) 1pt solid;\n",
       "  color: var(--sklearn-color-fitted-level-1);\n",
       "}\n",
       "\n",
       "/* On hover */\n",
       "#sk-container-id-1 a.estimator_doc_link:hover {\n",
       "  /* unfitted */\n",
       "  background-color: var(--sklearn-color-unfitted-level-3);\n",
       "  color: var(--sklearn-color-background);\n",
       "  text-decoration: none;\n",
       "}\n",
       "\n",
       "#sk-container-id-1 a.estimator_doc_link.fitted:hover {\n",
       "  /* fitted */\n",
       "  background-color: var(--sklearn-color-fitted-level-3);\n",
       "}\n",
       "</style><div id=\"sk-container-id-1\" class=\"sk-top-container\"><div class=\"sk-text-repr-fallback\"><pre>NearestNeighbors(n_neighbors=10)</pre><b>In a Jupyter environment, please rerun this cell to show the HTML representation or trust the notebook. <br />On GitHub, the HTML representation is unable to render, please try loading this page with nbviewer.org.</b></div><div class=\"sk-container\" hidden><div class=\"sk-item\"><div class=\"sk-estimator fitted sk-toggleable\"><input class=\"sk-toggleable__control sk-hidden--visually\" id=\"sk-estimator-id-1\" type=\"checkbox\" checked><label for=\"sk-estimator-id-1\" class=\"sk-toggleable__label fitted sk-toggleable__label-arrow\"><div><div>NearestNeighbors</div></div><div><a class=\"sk-estimator-doc-link fitted\" rel=\"noreferrer\" target=\"_blank\" href=\"https://scikit-learn.org/1.6/modules/generated/sklearn.neighbors.NearestNeighbors.html\">?<span>Documentation for NearestNeighbors</span></a><span class=\"sk-estimator-doc-link fitted\">i<span>Fitted</span></span></div></label><div class=\"sk-toggleable__content fitted\"><pre>NearestNeighbors(n_neighbors=10)</pre></div> </div></div></div></div>"
      ],
      "text/plain": [
       "NearestNeighbors(n_neighbors=10)"
      ]
     },
     "execution_count": 9,
     "metadata": {},
     "output_type": "execute_result"
    }
   ],
   "source": [
    "# We'll start by loading all of the news embeddings into a Nearest Neighbors model\n",
    "\n",
    "knn_model = NearestNeighbors(n_neighbors=10)\n",
    "knn_model.fit(news_embeddings)"
   ]
  },
  {
   "cell_type": "code",
   "execution_count": 10,
   "id": "XITSbp_p1zFT",
   "metadata": {
    "colab": {
     "base_uri": "https://localhost:8080/"
    },
    "id": "XITSbp_p1zFT",
    "outputId": "c40321ef-c7da-40bd-8617-e3bc2435ed90"
   },
   "outputs": [
    {
     "name": "stdout",
     "output_type": "stream",
     "text": [
      "0.9218927025794983 Tiger Woods missed the cut at the Farmers Insurance Open, as England's Justin Rose maintained a one-shot lead.\n",
      "1.0175832509994507 English rider Guy Martin will not compete in the Ulster Grand Prix at Dundrod for the third year in a row.\n",
      "1.0483299493789673 Greg Dyke will not seek re-election as Football Association chairman when his term ends in June.\n",
      "1.0495320558547974 Tiger Woods admits he has concerns over the physical challenge of stepping up his return from long-term injury.\n",
      "1.0528630018234253 Six-time champion Steve Davis failed to reach the World Championship as he lost 10-4 to Fergal O'Brien in the first round of qualifying in Sheffield.\n",
      "1.0567675828933716 Stephen Maguire said he was \"embarrassed\" at not being able to motivate himself for the World Championship at the Crucible.\n",
      "1.0629106760025024 A golfer has suffered leg injuries after being bitten by a crocodile on an Australian golf course.\n",
      "1.0718271732330322 You can't win the Davis Cup on your own and reaching the semi-finals has been a real team effort.\n",
      "1.0805412530899048 Wales scrum-half Rhys Webb has been ruled out of the Rugby World Cup because of a foot injury.\n",
      "1.081950068473816 England's Tommy Fleetwood was denied a second 2017 European Tour title after losing a play-off to Bernd Wiesberger at the Shenzhen International.\n",
      "\n",
      "Time: 0.0936288833618164\n"
     ]
    }
   ],
   "source": [
    "# We'll keep track of the time it takes to find the top 10 nearest headlines\n",
    "\n",
    "start = time.time()\n",
    "dists, topk_idx = knn_model.kneighbors(query_embedding)\n",
    "for d, i in zip(dists[0], topk_idx[0]):\n",
    "    print(d, news_headlines[i])\n",
    "\n",
    "print('\\nTime:', time.time() - start)\n",
    "\n",
    "# (We're using a small number of headlines so it's fast for the live session,\n",
    "# but it'll still go even faster if we narrow the likely candidates first.)"
   ]
  },
  {
   "cell_type": "markdown",
   "id": "gcJ15NVVNj0J",
   "metadata": {
    "id": "gcJ15NVVNj0J"
   },
   "source": [
    "Because of our small number of headlines we can get the 10 closest headlines in 9 hundredths of a second."
   ]
  },
  {
   "cell_type": "markdown",
   "id": "wE5P3nrM9meT",
   "metadata": {
    "id": "wE5P3nrM9meT"
   },
   "source": [
    "[Return to Top](#returnToTop)  \n",
    "<a id = 'clusterRet'></a>\n",
    "\n",
    "### 5. Retrieval via Clusters\n",
    "\n",
    "If we can cluster the document embeddings first then we can speed up and scale the retrieval process.  We can first find clusters that are \"close\" to our query. Then we can actually examine (and score) all of the document embeddings within the one cluster that seems responsive to the query."
   ]
  },
  {
   "cell_type": "code",
   "execution_count": 11,
   "id": "fea0a314",
   "metadata": {
    "id": "fea0a314"
   },
   "outputs": [],
   "source": [
    "# Now let's try clustering the news headlines beforehand. This takes time,\n",
    "# but we only need to do it once, then re-use it for different queries.\n",
    "\n",
    "cluster_model = KMeans(n_clusters=50)\n",
    "news_clusters = cluster_model.fit_predict(news_embeddings)"
   ]
  },
  {
   "cell_type": "code",
   "execution_count": 12,
   "id": "xDzvK58v0ooJ",
   "metadata": {
    "id": "xDzvK58v0ooJ"
   },
   "outputs": [],
   "source": [
    "cluster_news_ids = {i: [] for i in range(50)}\n",
    "for i, c in enumerate(news_clusters):\n",
    "    cluster_news_ids[c].append(i)"
   ]
  },
  {
   "cell_type": "code",
   "execution_count": 13,
   "id": "zbVy15jv0oqt",
   "metadata": {
    "id": "zbVy15jv0oqt"
   },
   "outputs": [],
   "source": [
    "# Compute the distance from the query embedding to each cluster centroid\n",
    "\n",
    "query_cluster_dists = [cosine(query_embedding[0], cluster_model.cluster_centers_[c])\n",
    "                       for c in range(50)]"
   ]
  },
  {
   "cell_type": "code",
   "execution_count": 14,
   "id": "y5b_ImgL0otU",
   "metadata": {
    "colab": {
     "base_uri": "https://localhost:8080/"
    },
    "id": "y5b_ImgL0otU",
    "outputId": "103e2426-4b44-41e7-85ea-6104977f915a"
   },
   "outputs": [
    {
     "data": {
      "text/plain": [
       "301"
      ]
     },
     "execution_count": 14,
     "metadata": {},
     "output_type": "execute_result"
    }
   ],
   "source": [
    "# Get the top k nearest clusters and retrieve their document ids\n",
    "# (You can try different numbers of top clusters, to see the trade-off between\n",
    "# speed and recall of all the best articles we found above.)\n",
    "\n",
    "top_clusters = np.argsort(query_cluster_dists)[:2]\n",
    "candidate_news_ids = [i for c in top_clusters for i in cluster_news_ids[c]]\n",
    "len(candidate_news_ids)"
   ]
  },
  {
   "cell_type": "code",
   "execution_count": 15,
   "id": "gfqSqqxa0ovp",
   "metadata": {
    "colab": {
     "base_uri": "https://localhost:8080/"
    },
    "id": "gfqSqqxa0ovp",
    "outputId": "cc8b7130-dd25-4166-849e-0355234db8dd"
   },
   "outputs": [
    {
     "name": "stdout",
     "output_type": "stream",
     "text": [
      "0.9218927025794983 Tiger Woods missed the cut at the Farmers Insurance Open, as England's Justin Rose maintained a one-shot lead.\n",
      "1.0175832509994507 English rider Guy Martin will not compete in the Ulster Grand Prix at Dundrod for the third year in a row.\n",
      "1.0528630018234253 Six-time champion Steve Davis failed to reach the World Championship as he lost 10-4 to Fergal O'Brien in the first round of qualifying in Sheffield.\n",
      "1.081950068473816 England's Tommy Fleetwood was denied a second 2017 European Tour title after losing a play-off to Bernd Wiesberger at the Shenzhen International.\n",
      "1.102779746055603 Dutchman Dylan Groenewegen claimed the opening stage victory in this year's Tour de Yorkshire.\n",
      "1.110486626625061 Teenage jockey David Mullins said he has \"never had a feeling like it\" after winning the Grand National on Rule The World at Aintree.\n",
      "1.110621452331543 Wales rugby great Gareth Edwards has been knighted by the Duke of Cambridge in recognition of a glittering sporting career and services to charity.\n",
      "1.1132789850234985 Great Britain's Beth Tweddle won a medal at last in the final Olympic appearance of her gymnastics career.\n",
      "1.1139637231826782 Britain's Heather Watson has been knocked out of the first round of the Korea Open by qualifier Nicole Gibbs.\n",
      "1.1141139268875122 World number one Jason Day maintained his four-stroke advantage to win the Players Championship at Sawgrass.\n",
      "\n",
      "Time: 0.002386808395385742\n"
     ]
    }
   ],
   "source": [
    "# Now use Nearest Neighbors only on the top cluster candidates\n",
    "\n",
    "candidate_news_embeds = [news_embeddings[i] for i in candidate_news_ids]\n",
    "\n",
    "knn_model = NearestNeighbors(n_neighbors=10)\n",
    "knn_model.fit(candidate_news_embeds)\n",
    "\n",
    "start = time.time()\n",
    "dists, topk_idx = knn_model.kneighbors(query_embedding)\n",
    "for d, i in zip(dists[0], topk_idx[0]):\n",
    "    orig_i = candidate_news_ids[i]\n",
    "    print(d, news_headlines[orig_i])\n",
    "\n",
    "print('\\nTime:', time.time() - start)"
   ]
  },
  {
   "cell_type": "markdown",
   "id": "8eePiXusQHy6",
   "metadata": {
    "id": "8eePiXusQHy6"
   },
   "source": [
    "The clustered approach provides equally good results and it only takes less than one one hundreth of a second.  That time savings will be meaningful when we have millions or billions of records that need to be searched.\n",
    "\n",
    "In practice, instead of the clustering approach you would want to use something like [ScaNN](https://github.com/google-research/google-research/tree/master/scann)."
   ]
  }
 ],
 "metadata": {
  "accelerator": "GPU",
  "colab": {
   "gpuType": "T4",
   "provenance": []
  },
  "kernelspec": {
   "display_name": "Python 3 (ipykernel)",
   "language": "python",
   "name": "python3"
  },
  "language_info": {
   "codemirror_mode": {
    "name": "ipython",
    "version": 3
   },
   "file_extension": ".py",
   "mimetype": "text/x-python",
   "name": "python",
   "nbconvert_exporter": "python",
   "pygments_lexer": "ipython3",
   "version": "3.11.5"
  },
  "widgets": {
   "application/vnd.jupyter.widget-state+json": {
    "state": {},
    "version_major": 2,
    "version_minor": 0
   }
  }
 },
 "nbformat": 4,
 "nbformat_minor": 5
}
