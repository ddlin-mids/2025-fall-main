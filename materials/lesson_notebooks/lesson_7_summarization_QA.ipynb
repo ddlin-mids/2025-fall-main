{
  "cells": [
    {
      "cell_type": "markdown",
      "metadata": {
        "id": "tcH1I6BsI1CY"
      },
      "source": [
        "# Lesson notebook 7 - Summarization and Question Answering\n",
        "\n",
        "\n",
        "\n",
        "### Extractive summarization example\n",
        "\n",
        "One of the challenges faced by current neural systems is the size of the input they can manage.  As a result most  of these systems end up truncating the input in some fashion.  Can you get a good summary if you only read in the first 500 words of a document?  One solution to this is to use an older approach called extractive summarization.  In this approach the content of the input document(s) is broken into sentences which are scored for their relevance to either the document or to a query.  We'll demonstrate it's use on a wikipedia article.\n",
        "\n",
        "\n",
        "### Abstractive  summarization example\n",
        "\n",
        "We'll use T5 again to summarize some input text.  We do this because the text in -> text out interface as well as the multi-task fine tuning makes it a great vehicle for demonstration.\n",
        "\n",
        "\n",
        "### Span-based question answering example\n",
        "\n",
        "There are a variety of approaches to question answering.  Here we demonstrate one particular approach to the problem -- span detection -- where we feed a context paragraph and the question to the system and want the machine to identify the answer span within the context paragraph.\n",
        "\n",
        "<a id = 'returnToTop'></a>\n",
        "\n",
        "## Notebook Contents\n",
        "  * 1. [Setup](#setup)\n",
        "  * 2. [SumBasic Extractive Summarization](#extractiveSummarization)\n",
        "  * 3. [Abstractive Summarization with T5](#abstractiveSummarization)\n",
        "  * 4. [Extractive Question Answering with T5](#extractiveQA)\n",
        "  * [Answers](#answers)\n",
        "\n",
        "[![Open In Colab](https://colab.research.google.com/assets/colab-badge.svg)](https://colab.research.google.com/github/datasci-w266/2025-fall-main/blob/master/materials/lesson_notebooks/lesson_7_summarization_QA.ipynb)\n",
        "\n"
      ]
    },
    {
      "cell_type": "markdown",
      "metadata": {
        "id": "NYOyJBZHbLgv"
      },
      "source": [
        "[Return to Top](#returnToTop)\n",
        "<a id = 'setup'></a>\n",
        "\n",
        "## 1. Setup\n",
        "\n",
        "Let's set up our environment so we can grab the wikipedia page on Natural Language Processing.  You can modify the string to find the Wikipedia page of your choice.  We'll need NLTK to build our extractive summarizer.\n",
        "\n",
        "We'll also need the HuggingFace Transformers library for our abstractive summarization and question answering examples."
      ]
    },
    {
      "cell_type": "markdown",
      "metadata": {
        "id": "El7x22c9bLgy"
      },
      "source": [
        "Now let's get a document to summarize.  We'll use Wikipedia since it contains a large number of longer documents."
      ]
    },
    {
      "cell_type": "code",
      "execution_count": null,
      "metadata": {
        "colab": {
          "base_uri": "https://localhost:8080/"
        },
        "id": "JKbUf5Fq0Tf6",
        "outputId": "8ad22a65-62b0-4c08-e9b9-768efe4eeca7"
      },
      "outputs": [
        {
          "output_type": "stream",
          "name": "stdout",
          "text": [
            "  Preparing metadata (setup.py) ... \u001b[?25l\u001b[?25hdone\n",
            "  Building wheel for wikipedia (setup.py) ... \u001b[?25l\u001b[?25hdone\n"
          ]
        }
      ],
      "source": [
        "!pip install -q wikipedia"
      ]
    },
    {
      "cell_type": "code",
      "execution_count": null,
      "metadata": {
        "id": "9_4igssSbLgz"
      },
      "outputs": [],
      "source": [
        "!pip install -q sentencepiece"
      ]
    },
    {
      "cell_type": "code",
      "execution_count": null,
      "metadata": {
        "id": "qCp2UU4fbLg0"
      },
      "outputs": [],
      "source": [
        "!pip install -q transformers"
      ]
    },
    {
      "cell_type": "code",
      "execution_count": null,
      "metadata": {
        "colab": {
          "base_uri": "https://localhost:8080/"
        },
        "id": "UBxhOWtCaMO8",
        "outputId": "ed343404-7c77-46d1-ea95-599d835959a7"
      },
      "outputs": [
        {
          "output_type": "stream",
          "name": "stderr",
          "text": [
            "[nltk_data] Downloading package punkt to /root/nltk_data...\n",
            "[nltk_data]   Unzipping tokenizers/punkt.zip.\n",
            "[nltk_data] Downloading package stopwords to /root/nltk_data...\n",
            "[nltk_data]   Unzipping corpora/stopwords.zip.\n",
            "[nltk_data] Downloading package wordnet to /root/nltk_data...\n",
            "[nltk_data] Downloading package punkt_tab to /root/nltk_data...\n",
            "[nltk_data]   Unzipping tokenizers/punkt_tab.zip.\n"
          ]
        },
        {
          "output_type": "execute_result",
          "data": {
            "text/plain": [
              "True"
            ]
          },
          "metadata": {},
          "execution_count": 4
        }
      ],
      "source": [
        "import nltk\n",
        "import nltk.corpus\n",
        "nltk.download('punkt')\n",
        "nltk.download('stopwords')\n",
        "nltk.download('wordnet')\n",
        "nltk.download('punkt_tab')"
      ]
    },
    {
      "cell_type": "markdown",
      "metadata": {
        "id": "unTmpeZBbLg0"
      },
      "source": [
        "[Return to Top](#returnToTop)\n",
        "<a id = 'extractiveSummarization'></a>\n",
        "\n",
        "## 2. SumBasic Extractive Summarization\n",
        "\n",
        "Let's run our extractive summarization example.  We'll use NLTK and a simple algorithm that relies on the frequency of words to identify sentences to extract and place in the summary.\n",
        "\n",
        "The advantage of these older counting approaches is that they can handle documents of arbitrary length and can easily run without a GPU."
      ]
    },
    {
      "cell_type": "code",
      "execution_count": null,
      "metadata": {
        "id": "pORm2-l9VxB0"
      },
      "outputs": [],
      "source": [
        "import string\n",
        "from nltk.tokenize import sent_tokenize, regexp_tokenize\n",
        "from nltk.stem import WordNetLemmatizer\n",
        "from nltk.corpus import stopwords\n",
        "from nltk.probability import FreqDist\n"
      ]
    },
    {
      "cell_type": "markdown",
      "metadata": {
        "id": "RGnjEX4cbLg2"
      },
      "source": [
        "Extractive summarization allows us to specify the size of the summary we want.  We will do it as a percentage of the size of the input.  Let's first grab a document to work with.  We'll grab the [Wikipedia article on natural language processing](https://en.wikipedia.org/wiki/Natural_language_processing) since it is long.  Under the hood the system is breaking the document into sentences and scoring those sentences by their relevance to the document according to the SumBasic algorithm.  As a result the summary is a set of sentences copied directly from the original.  Some algorithms presented the extracted sentences in score order while others present in the order in which they appeared in the original document.  Why do you think that might matter?"
      ]
    },
    {
      "cell_type": "code",
      "execution_count": null,
      "metadata": {
        "id": "OHvwr7Qw0TXm"
      },
      "outputs": [],
      "source": [
        "import wikipedia\n",
        "from pprint import pprint\n",
        "\n",
        "\n",
        "# Get wiki content.\n",
        "wikisearch = wikipedia.page(\"Natural Language Processing\")\n",
        "wikicontent = wikisearch.content"
      ]
    },
    {
      "cell_type": "markdown",
      "metadata": {
        "id": "1d38LCO03Nbb"
      },
      "source": [
        "First let's implement the SumBasic algorithm using some NLTK functions.  It's a very straightforward approach using probabilities to assign scores to each sentence and word and then pick the highest scoring sentences.  Those highest scoring sentences are extracted from the original and then printed as part of the summary.  The original paper (MSR-TR-2005-101) can be [found here](https://www.cs.bgu.ac.il/~elhadad/nlp09/sumbasic.pdf) as well as a [followup article by the same authors here](https://www.cis.upenn.edu/~nenkova/papers/ipm.pdf).  The idea is to try and score sentences for inclusion in the summary based primarily on word frequency.\n",
        "\n",
        "The basic algorithm is:\n",
        "\n",
        "1.   Compute the score of each word in the document by dividng the frequency of the word by the total number of words.\n",
        "2.   Compute the score of each sentence by computing the average score of its words\n",
        "3.   Select the highest scoring sentence that contains the highest scoring word and add to summary\n",
        "4.   For each word in the selected sentence, update its score by squaring the word score.  This makes words already in the summary score lower and sentences without those words score higher.\n",
        "5.   If summary not long enough, return to step 2 and recalculate sentence scores.\n",
        "\n",
        "The SumBasic algorithm is a computationally cheap way of creating an extractive summary of an arbitrarily long document.  Let's see what it looks like.\n",
        "\n",
        "\n"
      ]
    },
    {
      "cell_type": "code",
      "execution_count": null,
      "metadata": {
        "id": "V7rDfULL9jye"
      },
      "outputs": [],
      "source": [
        "#score the sentences and print the highest scoring sentence with the highest scoring word\n",
        "#keep repeating (with word score recalulation) until length is reached\n",
        "\n",
        "def sumbasic(lem_sentences, lem_words, size):\n",
        "\n",
        "    freq = FreqDist(lem_words)\n",
        "    total = sum(freq.values())\n",
        "    probs = {k: v/total for k, v in freq.items()}\n",
        "\n",
        "    len_summary = int(size * len(lem_sentences))    #calculate number of sentences to put in the summary\n",
        "\n",
        "    summary = []\n",
        "\n",
        "    for _ in range(len_summary):\n",
        "\n",
        "        scores = {k: [] for k in lem_sentences}\n",
        "        importance = {k: 0 for k in scores}\n",
        "        for key, value in lem_sentences.items():               #recalulate the sentence scores\n",
        "            for word in value:\n",
        "                scores[key].append(probs[word])\n",
        "            importance[key] = sum(scores[key]) / len(scores[key])\n",
        "\n",
        "        most_importance_sentence = max(scores, key=scores.get)  #pull out the most important sentence\n",
        "        summary.append(most_importance_sentence)\n",
        "\n",
        "        for word in lem_sentences[most_importance_sentence]:    #recalculate word scores\n",
        "            probs[word] = probs[word] * probs[word]\n",
        "\n",
        "    for sentence in lem_sentences:\n",
        "        if sentence in summary:\n",
        "            pprint(sentence, compact=True)\n"
      ]
    },
    {
      "cell_type": "markdown",
      "metadata": {
        "id": "ByUGQ8N0G6q5"
      },
      "source": [
        "Now let's run the SumBasic function now with the Wikipedia page on NLP and lets ask for a summary that is 5% of the original."
      ]
    },
    {
      "cell_type": "code",
      "execution_count": null,
      "metadata": {
        "colab": {
          "base_uri": "https://localhost:8080/"
        },
        "id": "yLYOnQWx3Gq3",
        "outputId": "3e4c0938-4577-42c0-d7d4-9f32cb9e4ae0"
      },
      "outputs": [
        {
          "output_type": "stream",
          "name": "stderr",
          "text": [
            "<>:9: SyntaxWarning: invalid escape sequence '\\w'\n",
            "<>:9: SyntaxWarning: invalid escape sequence '\\w'\n",
            "/tmp/ipython-input-2339566739.py:9: SyntaxWarning: invalid escape sequence '\\w'\n",
            "  for token in regexp_tokenize(one_sentence.lower(), '\\w+'):  #divide the sentences into tokens based on the regex for whitespace\n"
          ]
        },
        {
          "output_type": "stream",
          "name": "stdout",
          "text": [
            "('NLP is related to information retrieval, knowledge representation, '\n",
            " 'computational linguistics, and more broadly with linguistics.')\n",
            "('== Approaches: Symbolic, statistical, neural networks ==\\n'\n",
            " 'Symbolic approach, i.e., the hand-coding of a set of rules for manipulating '\n",
            " 'symbols, coupled with a dictionary lookup, was historically the first '\n",
            " 'approach used both by AI in general and by NLP in particular: such as by '\n",
            " 'writing grammars or devising heuristic rules for stemming.')\n",
            "('language models, produced by either statistical or neural networks methods, '\n",
            " 'are more robust to both unfamiliar (e.g.')\n",
            "('Rule-based systems are commonly used:\\n'\n",
            " '\\n'\n",
            " 'when the amount of training data is insufficient to successfully apply '\n",
            " 'machine learning methods, e.g., for the machine translation of low-resource '\n",
            " 'languages such as provided by the Apertium system,\\n'\n",
            " 'for preprocessing in NLP pipelines, e.g., tokenization, or\\n'\n",
            " 'for postprocessing and transforming the output of NLP pipelines, e.g., for '\n",
            " 'knowledge extraction from syntactic parses.')\n",
            "('Some of these tasks have direct real-world applications, while others more '\n",
            " 'commonly serve as subtasks that are used to aid in solving larger tasks.')\n",
            "('In natural speech there are hardly any pauses between successive words, and '\n",
            " 'thus speech segmentation is a necessary subtask of speech recognition (see '\n",
            " 'below).')\n",
            "('Word segmentation (Tokenization)\\n'\n",
            " 'Tokenization is a process used in text analysis that divides text into '\n",
            " 'individual words or word fragments.')\n",
            "('Sentence boundaries are often marked by periods or other punctuation marks, '\n",
            " 'but these same characters can serve other purposes (e.g., marking '\n",
            " 'abbreviations).')\n",
            "('Semantic parsing\\n'\n",
            " 'Given a piece of text (typically a sentence), produce a formal '\n",
            " 'representation of its semantics, either as a graph (e.g., in AMR parsing) or '\n",
            " 'in accordance with a logical formalism (e.g., in DRT parsing).')\n"
          ]
        }
      ],
      "source": [
        "#get the wiki article and break it first into sentences using NLTK's sent_tokenize\n",
        "all_sentences = sent_tokenize(wikicontent)\n",
        "\n",
        "#Let's walk through each of these sentences so we can divide into tokens (e.g. words)\n",
        "word_tokens = []\n",
        "sentence_tokens = {sentence: [] for sentence in all_sentences}\n",
        "\n",
        "for one_sentence in all_sentences:\n",
        "    for token in regexp_tokenize(one_sentence.lower(), '\\w+'):  #divide the sentences into tokens based on the regex for whitespace\n",
        "        if token not in string.punctuation:                     #ignore punctuation\n",
        "            if token not in stopwords.words('english'):         #ignore stopwords\n",
        "                word_tokens.append(token)\n",
        "                sentence_tokens[one_sentence].append(token)\n",
        "\n",
        "#A lemmatizer takes conjugated verbs and returns their infinitive form (e.g. conjugating -> conjugate)\n",
        "#It does the same thing with nouns taking the plural form and returning the singular form.\n",
        "#We're doing this because we want to count up occurences of word roots to get a tighter distribution\n",
        "lem = WordNetLemmatizer()\n",
        "lem_words = [lem.lemmatize(word) for word in word_tokens]\n",
        "lem_sentences = {sentence: [lem.lemmatize(word) for word in sentence_tokens[sentence]] for sentence in sentence_tokens}\n",
        "\n",
        "#Now we have a list of lemmatized words and a list of sentences containing lemmatized words\n",
        "#we pass them to the sumbasic fiunction along with a size parameter\n",
        "#We'll also pass a summary size as a percentage of the sentences in the original document\n",
        "sumbasic(lem_sentences, lem_words, 0.05)\n"
      ]
    },
    {
      "cell_type": "markdown",
      "metadata": {
        "id": "C-uhdR0oz_ge"
      },
      "source": [
        "[Return to Top](#returnToTop)\n",
        "<a id = 'abstractiveSummarization'></a>\n",
        "\n",
        "## 3. Abstractive summarization with T5\n",
        "\n",
        "Let's set up our environment to run the Hugging Face version of T5 and feed it a small snippet of text to see what kind of summary it produces.  Note that we could not feed the entire Wikipedia article we used above into T5."
      ]
    },
    {
      "cell_type": "markdown",
      "metadata": {
        "id": "9nzpCG4QbLg7"
      },
      "source": [
        "Here's the text that we'll summarize."
      ]
    },
    {
      "cell_type": "code",
      "source": [
        "!pip install -q torchinfo"
      ],
      "metadata": {
        "id": "wnniHST8kEuW"
      },
      "execution_count": null,
      "outputs": []
    },
    {
      "cell_type": "code",
      "source": [
        "#import torch\n",
        "from torchinfo import summary"
      ],
      "metadata": {
        "id": "_qsegUcsjmid"
      },
      "execution_count": null,
      "outputs": []
    },
    {
      "cell_type": "code",
      "source": [
        "# Load model directly\n",
        "from transformers import AutoTokenizer, AutoModelForSeq2SeqLM\n",
        "\n",
        "t5_tokenizer = AutoTokenizer.from_pretrained(\"google-t5/t5-base\")\n",
        "t5_model = AutoModelForSeq2SeqLM.from_pretrained(\"google-t5/t5-base\")"
      ],
      "metadata": {
        "id": "jd6SPX92i9X_",
        "colab": {
          "base_uri": "https://localhost:8080/",
          "height": 177,
          "referenced_widgets": [
            "df524873e85d4f8b9c13eb7030223f07",
            "6b7a09fcbf6d4de4bf99e9191c1d38e1",
            "01843432bd3441668a100d0c7974932b",
            "1329639d80d5446abfa5b5d5f4392f92",
            "523c3e4224274a43bfdf22f46bee5101",
            "0cbe051ecfdf4fd1bb0f65e40aa03e94",
            "08574b630a59471cb2ba181db25e17f9",
            "19757815b22e49608a271bdbc160875a",
            "e654bade574e4186b59ac45e9047de78",
            "b01e7fc382744995a3e3e43f3df7eb9e",
            "8866c2860da94993ae74747fc05fe1be",
            "9b152f575ff24056b1e83e3b6210cc84",
            "295bc31a7b194008ae417ca988d89d40",
            "3c9bb5f9f92e466f92c36db18fae7560",
            "7837c577d50f4cdd98ed6d5ef81faa4d",
            "795d857efd154e039bab67c5971e2b59",
            "a55b5f9a82dd4235b7fe6e0b8ececa21",
            "8f08ab8f2d5d48d691c5557029a08e52",
            "6345c49b2e16408e9ccf2a941d323030",
            "96047a28f8b34f108213964daf7a2b97",
            "3f44dc5cca04487f91b099980cd38638",
            "e9f17ec1cf25445abb7880ac49a2366f",
            "8e1388b10c2d4c8fbf5dbb40f86a3868",
            "88b886993a9d4ef8a6796f926847cde7",
            "658111fb1b5a4bb181f76a3e70888fdd",
            "f38fb9516b814b7198327907776b6410",
            "d987894de92e48a28507a9376b00fec2",
            "87b46cf3cb484ae5bc270b81c0172058",
            "46029c4756c94c9db02458de7806fecb",
            "f214cb7274944e11bc80efcd7a669f82",
            "ab0cd9ec605743318d24871d0f3c1204",
            "9a14b9d211ad48bf864d84cb7cd89ca9",
            "6d63eeb9f40641c4aebdb6d5a37e6b3d",
            "a4e0e162cfaa4f34af76a81597dc5c78",
            "0acfd7928e684c1d8064be2e8bf1f962",
            "d61f0331f93f47889e201514f5e4936f",
            "49a108193ec04208b731abbd3c266656",
            "5f0c5f3e419f4d059b69159308752060",
            "98e865d62b5c4a549c37cdad2c91e42d",
            "5ac870029ca9427da042d7ed9038c967",
            "d758a028f3634218ab429238a543887d",
            "37c2266154cc47bc91e869081c45add1",
            "97ef8291a47c4676a5ee645361f7ec1b",
            "9d6fafa085574a30814769fb3e66be5f",
            "e83892cd227045e99e2a6e87d059c056",
            "160b11921d1d4b9ca2f397ea191a8993",
            "292cec8359e34fed8db3520e7c72b66f",
            "2cb60fa3ac474265a89ffcf3f23aed4b",
            "17895d7d514a4d4ba7a2d92c38e3b0b5",
            "1c3afacdda0046a296a1a8ffccff9987",
            "b9c5b1d420ca487d848465f124b87d72",
            "6a2707dd0517438da19d94e66cb137c7",
            "0bc30e86dc2b40ecb2857c91ace96d7f",
            "baceeebf97774adfbcff9ae445ab0b2b",
            "95d623c292cf40ab8eba4ccf209b3e6e"
          ]
        },
        "outputId": "c306696b-9869-4821-f4c4-6297729e9f16"
      },
      "execution_count": null,
      "outputs": [
        {
          "output_type": "display_data",
          "data": {
            "text/plain": [
              "config.json: 0.00B [00:00, ?B/s]"
            ],
            "application/vnd.jupyter.widget-view+json": {
              "version_major": 2,
              "version_minor": 0,
              "model_id": "df524873e85d4f8b9c13eb7030223f07"
            }
          },
          "metadata": {}
        },
        {
          "output_type": "display_data",
          "data": {
            "text/plain": [
              "spiece.model:   0%|          | 0.00/792k [00:00<?, ?B/s]"
            ],
            "application/vnd.jupyter.widget-view+json": {
              "version_major": 2,
              "version_minor": 0,
              "model_id": "9b152f575ff24056b1e83e3b6210cc84"
            }
          },
          "metadata": {}
        },
        {
          "output_type": "display_data",
          "data": {
            "text/plain": [
              "tokenizer.json: 0.00B [00:00, ?B/s]"
            ],
            "application/vnd.jupyter.widget-view+json": {
              "version_major": 2,
              "version_minor": 0,
              "model_id": "8e1388b10c2d4c8fbf5dbb40f86a3868"
            }
          },
          "metadata": {}
        },
        {
          "output_type": "display_data",
          "data": {
            "text/plain": [
              "model.safetensors:   0%|          | 0.00/892M [00:00<?, ?B/s]"
            ],
            "application/vnd.jupyter.widget-view+json": {
              "version_major": 2,
              "version_minor": 0,
              "model_id": "a4e0e162cfaa4f34af76a81597dc5c78"
            }
          },
          "metadata": {}
        },
        {
          "output_type": "display_data",
          "data": {
            "text/plain": [
              "generation_config.json:   0%|          | 0.00/147 [00:00<?, ?B/s]"
            ],
            "application/vnd.jupyter.widget-view+json": {
              "version_major": 2,
              "version_minor": 0,
              "model_id": "e83892cd227045e99e2a6e87d059c056"
            }
          },
          "metadata": {}
        }
      ]
    },
    {
      "cell_type": "code",
      "execution_count": null,
      "metadata": {
        "id": "y7N0FrSK0VAj"
      },
      "outputs": [],
      "source": [
        "WARTICLE_TO_SUMMARIZE = (\"A neutron star is the collapsed core of a massive supergiant star, which had a total mass of \\\n",
        "            between 10 and 25 solar masses, possibly more if the star was especially metal-rich. Except for black holes, \\\n",
        "            and some hypothetical objects (e.g. white holes, quark stars, and strange stars), neutron stars are the smallest \\\n",
        "            and densest currently known class of stellar objects.\")"
      ]
    },
    {
      "cell_type": "markdown",
      "metadata": {
        "id": "w_WqdYm7bLg9"
      },
      "source": [
        "Don't forget to add the prompt to the begining of the article so T5 knows what we are asking it to do."
      ]
    },
    {
      "cell_type": "code",
      "execution_count": null,
      "metadata": {
        "id": "jWdPetvc3tm_"
      },
      "outputs": [],
      "source": [
        "t5_input_text = \"summarize: \" + WARTICLE_TO_SUMMARIZE"
      ]
    },
    {
      "cell_type": "code",
      "execution_count": null,
      "metadata": {
        "id": "839JTWPX3tbp"
      },
      "outputs": [],
      "source": [
        "t5_inputs = t5_tokenizer([t5_input_text], return_tensors='pt')"
      ]
    },
    {
      "cell_type": "markdown",
      "metadata": {
        "id": "cjY3c3kIbLg9"
      },
      "source": [
        "Here's the output.  The sentence is quite fluid.  How faithful to you think it is?"
      ]
    },
    {
      "cell_type": "code",
      "execution_count": null,
      "metadata": {
        "colab": {
          "base_uri": "https://localhost:8080/"
        },
        "id": "xirurxbm3tMc",
        "outputId": "afe4cf0e-a92c-4db1-cd7f-aceda59d1587"
      },
      "outputs": [
        {
          "output_type": "stream",
          "name": "stdout",
          "text": [
            "['a neutron star is the collapsed core of a massive supergiant star . neutron stars are the smallest and densest currently known class']\n"
          ]
        }
      ],
      "source": [
        "t5_summary_ids = t5_model.generate(t5_inputs['input_ids'],\n",
        "                                    num_beams=3,\n",
        "                                    no_repeat_ngram_size=3,\n",
        "                                    min_length=15,\n",
        "                                    max_length=35)\n",
        "\n",
        "print([t5_tokenizer.decode(g, skip_special_tokens=True,\n",
        "                           clean_up_tokenization_spaces=False) for g in t5_summary_ids])"
      ]
    },
    {
      "cell_type": "markdown",
      "metadata": {
        "id": "gJ_mCsHo0GrS"
      },
      "source": [
        "[Return to Top](#returnToTop)\n",
        "<a id = 'extractiveQA'></a>\n",
        "\n",
        "## 4. Extractive question answering with T5\n",
        "\n",
        "Now let's look at an extractive question answering example.  We'll need to feed the model a context paragraph and a question.  The T5 model was pre-trained on the SQUAD dataset so it knows how to identify and extract the answer span. Note that we already have the prompt in the respective texts."
      ]
    },
    {
      "cell_type": "code",
      "execution_count": null,
      "metadata": {
        "id": "xE5ANINx0XM6"
      },
      "outputs": [],
      "source": [
        "t5_context_text = \"\"\"context: Hyperbaric (high-pressure) medicine uses special oxygen\n",
        "chambers to increase the partial pressure of O 2 around the patient and, when needed,\n",
        "the medical staff. Carbon monoxide poisoning, gas gangrene, and decompression sickness\n",
        "(the ’bends’) are sometimes treated using these devices. Increased O 2 concentration\n",
        "in the lungs helps to displace carbon monoxide from the heme group of hemoglobin.\n",
        "Oxygen gas is poisonous to the anaerobic bacteria that cause gas gangrene, so increasing\n",
        "its partial pressure helps kill them. Decompression sickness occurs in divers who\n",
        "decompress too quickly after a dive, resulting in bubbles of inert gas, mostly nitrogen\n",
        "and helium, forming in their blood. Increasing the pressure of O 2 as soon as possible\n",
        "is part of the treatment.\"\"\""
      ]
    },
    {
      "cell_type": "code",
      "execution_count": null,
      "metadata": {
        "id": "dUkH1xrl0XQE"
      },
      "outputs": [],
      "source": [
        "t5_question_text = \"\"\"question: What does increased oxygen concentrations in the patient’s\n",
        "lungs displace? \"\"\""
      ]
    },
    {
      "cell_type": "code",
      "execution_count": null,
      "metadata": {
        "id": "d7KSOnfm0XJO"
      },
      "outputs": [],
      "source": [
        "t5_qa_input_text = t5_question_text + t5_context_text"
      ]
    },
    {
      "cell_type": "markdown",
      "metadata": {
        "id": "uCi0yvlqbLhA"
      },
      "source": [
        "Now let's run T5 and see how well it answers our question.  What do you think?"
      ]
    },
    {
      "cell_type": "code",
      "execution_count": null,
      "metadata": {
        "colab": {
          "base_uri": "https://localhost:8080/"
        },
        "id": "X8XW3u6T0XGB",
        "outputId": "c84fea95-4ce8-44bc-be1e-e5cf5681294b"
      },
      "outputs": [
        {
          "output_type": "stream",
          "name": "stdout",
          "text": [
            "['carbon monoxide']\n"
          ]
        }
      ],
      "source": [
        "t5_inputs = t5_tokenizer([t5_qa_input_text], return_tensors='pt')\n",
        "\n",
        "t5_summary_ids = t5_model.generate(t5_inputs['input_ids'])\n",
        "\n",
        "print([t5_tokenizer.decode(g, skip_special_tokens=True,\n",
        "                           clean_up_tokenization_spaces=False) for g in t5_summary_ids])"
      ]
    }
  ],
  "metadata": {
    "colab": {
      "provenance": []
    },
    "kernelspec": {
      "display_name": "Python 3 (ipykernel)",
      "language": "python",
      "name": "python3"
    },
    "language_info": {
      "codemirror_mode": {
        "name": "ipython",
        "version": 3
      },
      "file_extension": ".py",
      "mimetype": "text/x-python",
      "name": "python",
      "nbconvert_exporter": "python",
      "pygments_lexer": "ipython3",
      "version": "3.11.5"
    },
    "widgets": {
      "application/vnd.jupyter.widget-state+json": {
        "df524873e85d4f8b9c13eb7030223f07": {
          "model_module": "@jupyter-widgets/controls",
          "model_name": "HBoxModel",
          "model_module_version": "1.5.0",
          "state": {
            "_dom_classes": [],
            "_model_module": "@jupyter-widgets/controls",
            "_model_module_version": "1.5.0",
            "_model_name": "HBoxModel",
            "_view_count": null,
            "_view_module": "@jupyter-widgets/controls",
            "_view_module_version": "1.5.0",
            "_view_name": "HBoxView",
            "box_style": "",
            "children": [
              "IPY_MODEL_6b7a09fcbf6d4de4bf99e9191c1d38e1",
              "IPY_MODEL_01843432bd3441668a100d0c7974932b",
              "IPY_MODEL_1329639d80d5446abfa5b5d5f4392f92"
            ],
            "layout": "IPY_MODEL_523c3e4224274a43bfdf22f46bee5101"
          }
        },
        "6b7a09fcbf6d4de4bf99e9191c1d38e1": {
          "model_module": "@jupyter-widgets/controls",
          "model_name": "HTMLModel",
          "model_module_version": "1.5.0",
          "state": {
            "_dom_classes": [],
            "_model_module": "@jupyter-widgets/controls",
            "_model_module_version": "1.5.0",
            "_model_name": "HTMLModel",
            "_view_count": null,
            "_view_module": "@jupyter-widgets/controls",
            "_view_module_version": "1.5.0",
            "_view_name": "HTMLView",
            "description": "",
            "description_tooltip": null,
            "layout": "IPY_MODEL_0cbe051ecfdf4fd1bb0f65e40aa03e94",
            "placeholder": "​",
            "style": "IPY_MODEL_08574b630a59471cb2ba181db25e17f9",
            "value": "config.json: "
          }
        },
        "01843432bd3441668a100d0c7974932b": {
          "model_module": "@jupyter-widgets/controls",
          "model_name": "FloatProgressModel",
          "model_module_version": "1.5.0",
          "state": {
            "_dom_classes": [],
            "_model_module": "@jupyter-widgets/controls",
            "_model_module_version": "1.5.0",
            "_model_name": "FloatProgressModel",
            "_view_count": null,
            "_view_module": "@jupyter-widgets/controls",
            "_view_module_version": "1.5.0",
            "_view_name": "ProgressView",
            "bar_style": "success",
            "description": "",
            "description_tooltip": null,
            "layout": "IPY_MODEL_19757815b22e49608a271bdbc160875a",
            "max": 1,
            "min": 0,
            "orientation": "horizontal",
            "style": "IPY_MODEL_e654bade574e4186b59ac45e9047de78",
            "value": 1
          }
        },
        "1329639d80d5446abfa5b5d5f4392f92": {
          "model_module": "@jupyter-widgets/controls",
          "model_name": "HTMLModel",
          "model_module_version": "1.5.0",
          "state": {
            "_dom_classes": [],
            "_model_module": "@jupyter-widgets/controls",
            "_model_module_version": "1.5.0",
            "_model_name": "HTMLModel",
            "_view_count": null,
            "_view_module": "@jupyter-widgets/controls",
            "_view_module_version": "1.5.0",
            "_view_name": "HTMLView",
            "description": "",
            "description_tooltip": null,
            "layout": "IPY_MODEL_b01e7fc382744995a3e3e43f3df7eb9e",
            "placeholder": "​",
            "style": "IPY_MODEL_8866c2860da94993ae74747fc05fe1be",
            "value": " 1.21k/? [00:00&lt;00:00, 29.4kB/s]"
          }
        },
        "523c3e4224274a43bfdf22f46bee5101": {
          "model_module": "@jupyter-widgets/base",
          "model_name": "LayoutModel",
          "model_module_version": "1.2.0",
          "state": {
            "_model_module": "@jupyter-widgets/base",
            "_model_module_version": "1.2.0",
            "_model_name": "LayoutModel",
            "_view_count": null,
            "_view_module": "@jupyter-widgets/base",
            "_view_module_version": "1.2.0",
            "_view_name": "LayoutView",
            "align_content": null,
            "align_items": null,
            "align_self": null,
            "border": null,
            "bottom": null,
            "display": null,
            "flex": null,
            "flex_flow": null,
            "grid_area": null,
            "grid_auto_columns": null,
            "grid_auto_flow": null,
            "grid_auto_rows": null,
            "grid_column": null,
            "grid_gap": null,
            "grid_row": null,
            "grid_template_areas": null,
            "grid_template_columns": null,
            "grid_template_rows": null,
            "height": null,
            "justify_content": null,
            "justify_items": null,
            "left": null,
            "margin": null,
            "max_height": null,
            "max_width": null,
            "min_height": null,
            "min_width": null,
            "object_fit": null,
            "object_position": null,
            "order": null,
            "overflow": null,
            "overflow_x": null,
            "overflow_y": null,
            "padding": null,
            "right": null,
            "top": null,
            "visibility": null,
            "width": null
          }
        },
        "0cbe051ecfdf4fd1bb0f65e40aa03e94": {
          "model_module": "@jupyter-widgets/base",
          "model_name": "LayoutModel",
          "model_module_version": "1.2.0",
          "state": {
            "_model_module": "@jupyter-widgets/base",
            "_model_module_version": "1.2.0",
            "_model_name": "LayoutModel",
            "_view_count": null,
            "_view_module": "@jupyter-widgets/base",
            "_view_module_version": "1.2.0",
            "_view_name": "LayoutView",
            "align_content": null,
            "align_items": null,
            "align_self": null,
            "border": null,
            "bottom": null,
            "display": null,
            "flex": null,
            "flex_flow": null,
            "grid_area": null,
            "grid_auto_columns": null,
            "grid_auto_flow": null,
            "grid_auto_rows": null,
            "grid_column": null,
            "grid_gap": null,
            "grid_row": null,
            "grid_template_areas": null,
            "grid_template_columns": null,
            "grid_template_rows": null,
            "height": null,
            "justify_content": null,
            "justify_items": null,
            "left": null,
            "margin": null,
            "max_height": null,
            "max_width": null,
            "min_height": null,
            "min_width": null,
            "object_fit": null,
            "object_position": null,
            "order": null,
            "overflow": null,
            "overflow_x": null,
            "overflow_y": null,
            "padding": null,
            "right": null,
            "top": null,
            "visibility": null,
            "width": null
          }
        },
        "08574b630a59471cb2ba181db25e17f9": {
          "model_module": "@jupyter-widgets/controls",
          "model_name": "DescriptionStyleModel",
          "model_module_version": "1.5.0",
          "state": {
            "_model_module": "@jupyter-widgets/controls",
            "_model_module_version": "1.5.0",
            "_model_name": "DescriptionStyleModel",
            "_view_count": null,
            "_view_module": "@jupyter-widgets/base",
            "_view_module_version": "1.2.0",
            "_view_name": "StyleView",
            "description_width": ""
          }
        },
        "19757815b22e49608a271bdbc160875a": {
          "model_module": "@jupyter-widgets/base",
          "model_name": "LayoutModel",
          "model_module_version": "1.2.0",
          "state": {
            "_model_module": "@jupyter-widgets/base",
            "_model_module_version": "1.2.0",
            "_model_name": "LayoutModel",
            "_view_count": null,
            "_view_module": "@jupyter-widgets/base",
            "_view_module_version": "1.2.0",
            "_view_name": "LayoutView",
            "align_content": null,
            "align_items": null,
            "align_self": null,
            "border": null,
            "bottom": null,
            "display": null,
            "flex": null,
            "flex_flow": null,
            "grid_area": null,
            "grid_auto_columns": null,
            "grid_auto_flow": null,
            "grid_auto_rows": null,
            "grid_column": null,
            "grid_gap": null,
            "grid_row": null,
            "grid_template_areas": null,
            "grid_template_columns": null,
            "grid_template_rows": null,
            "height": null,
            "justify_content": null,
            "justify_items": null,
            "left": null,
            "margin": null,
            "max_height": null,
            "max_width": null,
            "min_height": null,
            "min_width": null,
            "object_fit": null,
            "object_position": null,
            "order": null,
            "overflow": null,
            "overflow_x": null,
            "overflow_y": null,
            "padding": null,
            "right": null,
            "top": null,
            "visibility": null,
            "width": "20px"
          }
        },
        "e654bade574e4186b59ac45e9047de78": {
          "model_module": "@jupyter-widgets/controls",
          "model_name": "ProgressStyleModel",
          "model_module_version": "1.5.0",
          "state": {
            "_model_module": "@jupyter-widgets/controls",
            "_model_module_version": "1.5.0",
            "_model_name": "ProgressStyleModel",
            "_view_count": null,
            "_view_module": "@jupyter-widgets/base",
            "_view_module_version": "1.2.0",
            "_view_name": "StyleView",
            "bar_color": null,
            "description_width": ""
          }
        },
        "b01e7fc382744995a3e3e43f3df7eb9e": {
          "model_module": "@jupyter-widgets/base",
          "model_name": "LayoutModel",
          "model_module_version": "1.2.0",
          "state": {
            "_model_module": "@jupyter-widgets/base",
            "_model_module_version": "1.2.0",
            "_model_name": "LayoutModel",
            "_view_count": null,
            "_view_module": "@jupyter-widgets/base",
            "_view_module_version": "1.2.0",
            "_view_name": "LayoutView",
            "align_content": null,
            "align_items": null,
            "align_self": null,
            "border": null,
            "bottom": null,
            "display": null,
            "flex": null,
            "flex_flow": null,
            "grid_area": null,
            "grid_auto_columns": null,
            "grid_auto_flow": null,
            "grid_auto_rows": null,
            "grid_column": null,
            "grid_gap": null,
            "grid_row": null,
            "grid_template_areas": null,
            "grid_template_columns": null,
            "grid_template_rows": null,
            "height": null,
            "justify_content": null,
            "justify_items": null,
            "left": null,
            "margin": null,
            "max_height": null,
            "max_width": null,
            "min_height": null,
            "min_width": null,
            "object_fit": null,
            "object_position": null,
            "order": null,
            "overflow": null,
            "overflow_x": null,
            "overflow_y": null,
            "padding": null,
            "right": null,
            "top": null,
            "visibility": null,
            "width": null
          }
        },
        "8866c2860da94993ae74747fc05fe1be": {
          "model_module": "@jupyter-widgets/controls",
          "model_name": "DescriptionStyleModel",
          "model_module_version": "1.5.0",
          "state": {
            "_model_module": "@jupyter-widgets/controls",
            "_model_module_version": "1.5.0",
            "_model_name": "DescriptionStyleModel",
            "_view_count": null,
            "_view_module": "@jupyter-widgets/base",
            "_view_module_version": "1.2.0",
            "_view_name": "StyleView",
            "description_width": ""
          }
        },
        "9b152f575ff24056b1e83e3b6210cc84": {
          "model_module": "@jupyter-widgets/controls",
          "model_name": "HBoxModel",
          "model_module_version": "1.5.0",
          "state": {
            "_dom_classes": [],
            "_model_module": "@jupyter-widgets/controls",
            "_model_module_version": "1.5.0",
            "_model_name": "HBoxModel",
            "_view_count": null,
            "_view_module": "@jupyter-widgets/controls",
            "_view_module_version": "1.5.0",
            "_view_name": "HBoxView",
            "box_style": "",
            "children": [
              "IPY_MODEL_295bc31a7b194008ae417ca988d89d40",
              "IPY_MODEL_3c9bb5f9f92e466f92c36db18fae7560",
              "IPY_MODEL_7837c577d50f4cdd98ed6d5ef81faa4d"
            ],
            "layout": "IPY_MODEL_795d857efd154e039bab67c5971e2b59"
          }
        },
        "295bc31a7b194008ae417ca988d89d40": {
          "model_module": "@jupyter-widgets/controls",
          "model_name": "HTMLModel",
          "model_module_version": "1.5.0",
          "state": {
            "_dom_classes": [],
            "_model_module": "@jupyter-widgets/controls",
            "_model_module_version": "1.5.0",
            "_model_name": "HTMLModel",
            "_view_count": null,
            "_view_module": "@jupyter-widgets/controls",
            "_view_module_version": "1.5.0",
            "_view_name": "HTMLView",
            "description": "",
            "description_tooltip": null,
            "layout": "IPY_MODEL_a55b5f9a82dd4235b7fe6e0b8ececa21",
            "placeholder": "​",
            "style": "IPY_MODEL_8f08ab8f2d5d48d691c5557029a08e52",
            "value": "spiece.model: 100%"
          }
        },
        "3c9bb5f9f92e466f92c36db18fae7560": {
          "model_module": "@jupyter-widgets/controls",
          "model_name": "FloatProgressModel",
          "model_module_version": "1.5.0",
          "state": {
            "_dom_classes": [],
            "_model_module": "@jupyter-widgets/controls",
            "_model_module_version": "1.5.0",
            "_model_name": "FloatProgressModel",
            "_view_count": null,
            "_view_module": "@jupyter-widgets/controls",
            "_view_module_version": "1.5.0",
            "_view_name": "ProgressView",
            "bar_style": "success",
            "description": "",
            "description_tooltip": null,
            "layout": "IPY_MODEL_6345c49b2e16408e9ccf2a941d323030",
            "max": 791656,
            "min": 0,
            "orientation": "horizontal",
            "style": "IPY_MODEL_96047a28f8b34f108213964daf7a2b97",
            "value": 791656
          }
        },
        "7837c577d50f4cdd98ed6d5ef81faa4d": {
          "model_module": "@jupyter-widgets/controls",
          "model_name": "HTMLModel",
          "model_module_version": "1.5.0",
          "state": {
            "_dom_classes": [],
            "_model_module": "@jupyter-widgets/controls",
            "_model_module_version": "1.5.0",
            "_model_name": "HTMLModel",
            "_view_count": null,
            "_view_module": "@jupyter-widgets/controls",
            "_view_module_version": "1.5.0",
            "_view_name": "HTMLView",
            "description": "",
            "description_tooltip": null,
            "layout": "IPY_MODEL_3f44dc5cca04487f91b099980cd38638",
            "placeholder": "​",
            "style": "IPY_MODEL_e9f17ec1cf25445abb7880ac49a2366f",
            "value": " 792k/792k [00:00&lt;00:00, 11.1MB/s]"
          }
        },
        "795d857efd154e039bab67c5971e2b59": {
          "model_module": "@jupyter-widgets/base",
          "model_name": "LayoutModel",
          "model_module_version": "1.2.0",
          "state": {
            "_model_module": "@jupyter-widgets/base",
            "_model_module_version": "1.2.0",
            "_model_name": "LayoutModel",
            "_view_count": null,
            "_view_module": "@jupyter-widgets/base",
            "_view_module_version": "1.2.0",
            "_view_name": "LayoutView",
            "align_content": null,
            "align_items": null,
            "align_self": null,
            "border": null,
            "bottom": null,
            "display": null,
            "flex": null,
            "flex_flow": null,
            "grid_area": null,
            "grid_auto_columns": null,
            "grid_auto_flow": null,
            "grid_auto_rows": null,
            "grid_column": null,
            "grid_gap": null,
            "grid_row": null,
            "grid_template_areas": null,
            "grid_template_columns": null,
            "grid_template_rows": null,
            "height": null,
            "justify_content": null,
            "justify_items": null,
            "left": null,
            "margin": null,
            "max_height": null,
            "max_width": null,
            "min_height": null,
            "min_width": null,
            "object_fit": null,
            "object_position": null,
            "order": null,
            "overflow": null,
            "overflow_x": null,
            "overflow_y": null,
            "padding": null,
            "right": null,
            "top": null,
            "visibility": null,
            "width": null
          }
        },
        "a55b5f9a82dd4235b7fe6e0b8ececa21": {
          "model_module": "@jupyter-widgets/base",
          "model_name": "LayoutModel",
          "model_module_version": "1.2.0",
          "state": {
            "_model_module": "@jupyter-widgets/base",
            "_model_module_version": "1.2.0",
            "_model_name": "LayoutModel",
            "_view_count": null,
            "_view_module": "@jupyter-widgets/base",
            "_view_module_version": "1.2.0",
            "_view_name": "LayoutView",
            "align_content": null,
            "align_items": null,
            "align_self": null,
            "border": null,
            "bottom": null,
            "display": null,
            "flex": null,
            "flex_flow": null,
            "grid_area": null,
            "grid_auto_columns": null,
            "grid_auto_flow": null,
            "grid_auto_rows": null,
            "grid_column": null,
            "grid_gap": null,
            "grid_row": null,
            "grid_template_areas": null,
            "grid_template_columns": null,
            "grid_template_rows": null,
            "height": null,
            "justify_content": null,
            "justify_items": null,
            "left": null,
            "margin": null,
            "max_height": null,
            "max_width": null,
            "min_height": null,
            "min_width": null,
            "object_fit": null,
            "object_position": null,
            "order": null,
            "overflow": null,
            "overflow_x": null,
            "overflow_y": null,
            "padding": null,
            "right": null,
            "top": null,
            "visibility": null,
            "width": null
          }
        },
        "8f08ab8f2d5d48d691c5557029a08e52": {
          "model_module": "@jupyter-widgets/controls",
          "model_name": "DescriptionStyleModel",
          "model_module_version": "1.5.0",
          "state": {
            "_model_module": "@jupyter-widgets/controls",
            "_model_module_version": "1.5.0",
            "_model_name": "DescriptionStyleModel",
            "_view_count": null,
            "_view_module": "@jupyter-widgets/base",
            "_view_module_version": "1.2.0",
            "_view_name": "StyleView",
            "description_width": ""
          }
        },
        "6345c49b2e16408e9ccf2a941d323030": {
          "model_module": "@jupyter-widgets/base",
          "model_name": "LayoutModel",
          "model_module_version": "1.2.0",
          "state": {
            "_model_module": "@jupyter-widgets/base",
            "_model_module_version": "1.2.0",
            "_model_name": "LayoutModel",
            "_view_count": null,
            "_view_module": "@jupyter-widgets/base",
            "_view_module_version": "1.2.0",
            "_view_name": "LayoutView",
            "align_content": null,
            "align_items": null,
            "align_self": null,
            "border": null,
            "bottom": null,
            "display": null,
            "flex": null,
            "flex_flow": null,
            "grid_area": null,
            "grid_auto_columns": null,
            "grid_auto_flow": null,
            "grid_auto_rows": null,
            "grid_column": null,
            "grid_gap": null,
            "grid_row": null,
            "grid_template_areas": null,
            "grid_template_columns": null,
            "grid_template_rows": null,
            "height": null,
            "justify_content": null,
            "justify_items": null,
            "left": null,
            "margin": null,
            "max_height": null,
            "max_width": null,
            "min_height": null,
            "min_width": null,
            "object_fit": null,
            "object_position": null,
            "order": null,
            "overflow": null,
            "overflow_x": null,
            "overflow_y": null,
            "padding": null,
            "right": null,
            "top": null,
            "visibility": null,
            "width": null
          }
        },
        "96047a28f8b34f108213964daf7a2b97": {
          "model_module": "@jupyter-widgets/controls",
          "model_name": "ProgressStyleModel",
          "model_module_version": "1.5.0",
          "state": {
            "_model_module": "@jupyter-widgets/controls",
            "_model_module_version": "1.5.0",
            "_model_name": "ProgressStyleModel",
            "_view_count": null,
            "_view_module": "@jupyter-widgets/base",
            "_view_module_version": "1.2.0",
            "_view_name": "StyleView",
            "bar_color": null,
            "description_width": ""
          }
        },
        "3f44dc5cca04487f91b099980cd38638": {
          "model_module": "@jupyter-widgets/base",
          "model_name": "LayoutModel",
          "model_module_version": "1.2.0",
          "state": {
            "_model_module": "@jupyter-widgets/base",
            "_model_module_version": "1.2.0",
            "_model_name": "LayoutModel",
            "_view_count": null,
            "_view_module": "@jupyter-widgets/base",
            "_view_module_version": "1.2.0",
            "_view_name": "LayoutView",
            "align_content": null,
            "align_items": null,
            "align_self": null,
            "border": null,
            "bottom": null,
            "display": null,
            "flex": null,
            "flex_flow": null,
            "grid_area": null,
            "grid_auto_columns": null,
            "grid_auto_flow": null,
            "grid_auto_rows": null,
            "grid_column": null,
            "grid_gap": null,
            "grid_row": null,
            "grid_template_areas": null,
            "grid_template_columns": null,
            "grid_template_rows": null,
            "height": null,
            "justify_content": null,
            "justify_items": null,
            "left": null,
            "margin": null,
            "max_height": null,
            "max_width": null,
            "min_height": null,
            "min_width": null,
            "object_fit": null,
            "object_position": null,
            "order": null,
            "overflow": null,
            "overflow_x": null,
            "overflow_y": null,
            "padding": null,
            "right": null,
            "top": null,
            "visibility": null,
            "width": null
          }
        },
        "e9f17ec1cf25445abb7880ac49a2366f": {
          "model_module": "@jupyter-widgets/controls",
          "model_name": "DescriptionStyleModel",
          "model_module_version": "1.5.0",
          "state": {
            "_model_module": "@jupyter-widgets/controls",
            "_model_module_version": "1.5.0",
            "_model_name": "DescriptionStyleModel",
            "_view_count": null,
            "_view_module": "@jupyter-widgets/base",
            "_view_module_version": "1.2.0",
            "_view_name": "StyleView",
            "description_width": ""
          }
        },
        "8e1388b10c2d4c8fbf5dbb40f86a3868": {
          "model_module": "@jupyter-widgets/controls",
          "model_name": "HBoxModel",
          "model_module_version": "1.5.0",
          "state": {
            "_dom_classes": [],
            "_model_module": "@jupyter-widgets/controls",
            "_model_module_version": "1.5.0",
            "_model_name": "HBoxModel",
            "_view_count": null,
            "_view_module": "@jupyter-widgets/controls",
            "_view_module_version": "1.5.0",
            "_view_name": "HBoxView",
            "box_style": "",
            "children": [
              "IPY_MODEL_88b886993a9d4ef8a6796f926847cde7",
              "IPY_MODEL_658111fb1b5a4bb181f76a3e70888fdd",
              "IPY_MODEL_f38fb9516b814b7198327907776b6410"
            ],
            "layout": "IPY_MODEL_d987894de92e48a28507a9376b00fec2"
          }
        },
        "88b886993a9d4ef8a6796f926847cde7": {
          "model_module": "@jupyter-widgets/controls",
          "model_name": "HTMLModel",
          "model_module_version": "1.5.0",
          "state": {
            "_dom_classes": [],
            "_model_module": "@jupyter-widgets/controls",
            "_model_module_version": "1.5.0",
            "_model_name": "HTMLModel",
            "_view_count": null,
            "_view_module": "@jupyter-widgets/controls",
            "_view_module_version": "1.5.0",
            "_view_name": "HTMLView",
            "description": "",
            "description_tooltip": null,
            "layout": "IPY_MODEL_87b46cf3cb484ae5bc270b81c0172058",
            "placeholder": "​",
            "style": "IPY_MODEL_46029c4756c94c9db02458de7806fecb",
            "value": "tokenizer.json: "
          }
        },
        "658111fb1b5a4bb181f76a3e70888fdd": {
          "model_module": "@jupyter-widgets/controls",
          "model_name": "FloatProgressModel",
          "model_module_version": "1.5.0",
          "state": {
            "_dom_classes": [],
            "_model_module": "@jupyter-widgets/controls",
            "_model_module_version": "1.5.0",
            "_model_name": "FloatProgressModel",
            "_view_count": null,
            "_view_module": "@jupyter-widgets/controls",
            "_view_module_version": "1.5.0",
            "_view_name": "ProgressView",
            "bar_style": "success",
            "description": "",
            "description_tooltip": null,
            "layout": "IPY_MODEL_f214cb7274944e11bc80efcd7a669f82",
            "max": 1,
            "min": 0,
            "orientation": "horizontal",
            "style": "IPY_MODEL_ab0cd9ec605743318d24871d0f3c1204",
            "value": 1
          }
        },
        "f38fb9516b814b7198327907776b6410": {
          "model_module": "@jupyter-widgets/controls",
          "model_name": "HTMLModel",
          "model_module_version": "1.5.0",
          "state": {
            "_dom_classes": [],
            "_model_module": "@jupyter-widgets/controls",
            "_model_module_version": "1.5.0",
            "_model_name": "HTMLModel",
            "_view_count": null,
            "_view_module": "@jupyter-widgets/controls",
            "_view_module_version": "1.5.0",
            "_view_name": "HTMLView",
            "description": "",
            "description_tooltip": null,
            "layout": "IPY_MODEL_9a14b9d211ad48bf864d84cb7cd89ca9",
            "placeholder": "​",
            "style": "IPY_MODEL_6d63eeb9f40641c4aebdb6d5a37e6b3d",
            "value": " 1.39M/? [00:00&lt;00:00, 18.3MB/s]"
          }
        },
        "d987894de92e48a28507a9376b00fec2": {
          "model_module": "@jupyter-widgets/base",
          "model_name": "LayoutModel",
          "model_module_version": "1.2.0",
          "state": {
            "_model_module": "@jupyter-widgets/base",
            "_model_module_version": "1.2.0",
            "_model_name": "LayoutModel",
            "_view_count": null,
            "_view_module": "@jupyter-widgets/base",
            "_view_module_version": "1.2.0",
            "_view_name": "LayoutView",
            "align_content": null,
            "align_items": null,
            "align_self": null,
            "border": null,
            "bottom": null,
            "display": null,
            "flex": null,
            "flex_flow": null,
            "grid_area": null,
            "grid_auto_columns": null,
            "grid_auto_flow": null,
            "grid_auto_rows": null,
            "grid_column": null,
            "grid_gap": null,
            "grid_row": null,
            "grid_template_areas": null,
            "grid_template_columns": null,
            "grid_template_rows": null,
            "height": null,
            "justify_content": null,
            "justify_items": null,
            "left": null,
            "margin": null,
            "max_height": null,
            "max_width": null,
            "min_height": null,
            "min_width": null,
            "object_fit": null,
            "object_position": null,
            "order": null,
            "overflow": null,
            "overflow_x": null,
            "overflow_y": null,
            "padding": null,
            "right": null,
            "top": null,
            "visibility": null,
            "width": null
          }
        },
        "87b46cf3cb484ae5bc270b81c0172058": {
          "model_module": "@jupyter-widgets/base",
          "model_name": "LayoutModel",
          "model_module_version": "1.2.0",
          "state": {
            "_model_module": "@jupyter-widgets/base",
            "_model_module_version": "1.2.0",
            "_model_name": "LayoutModel",
            "_view_count": null,
            "_view_module": "@jupyter-widgets/base",
            "_view_module_version": "1.2.0",
            "_view_name": "LayoutView",
            "align_content": null,
            "align_items": null,
            "align_self": null,
            "border": null,
            "bottom": null,
            "display": null,
            "flex": null,
            "flex_flow": null,
            "grid_area": null,
            "grid_auto_columns": null,
            "grid_auto_flow": null,
            "grid_auto_rows": null,
            "grid_column": null,
            "grid_gap": null,
            "grid_row": null,
            "grid_template_areas": null,
            "grid_template_columns": null,
            "grid_template_rows": null,
            "height": null,
            "justify_content": null,
            "justify_items": null,
            "left": null,
            "margin": null,
            "max_height": null,
            "max_width": null,
            "min_height": null,
            "min_width": null,
            "object_fit": null,
            "object_position": null,
            "order": null,
            "overflow": null,
            "overflow_x": null,
            "overflow_y": null,
            "padding": null,
            "right": null,
            "top": null,
            "visibility": null,
            "width": null
          }
        },
        "46029c4756c94c9db02458de7806fecb": {
          "model_module": "@jupyter-widgets/controls",
          "model_name": "DescriptionStyleModel",
          "model_module_version": "1.5.0",
          "state": {
            "_model_module": "@jupyter-widgets/controls",
            "_model_module_version": "1.5.0",
            "_model_name": "DescriptionStyleModel",
            "_view_count": null,
            "_view_module": "@jupyter-widgets/base",
            "_view_module_version": "1.2.0",
            "_view_name": "StyleView",
            "description_width": ""
          }
        },
        "f214cb7274944e11bc80efcd7a669f82": {
          "model_module": "@jupyter-widgets/base",
          "model_name": "LayoutModel",
          "model_module_version": "1.2.0",
          "state": {
            "_model_module": "@jupyter-widgets/base",
            "_model_module_version": "1.2.0",
            "_model_name": "LayoutModel",
            "_view_count": null,
            "_view_module": "@jupyter-widgets/base",
            "_view_module_version": "1.2.0",
            "_view_name": "LayoutView",
            "align_content": null,
            "align_items": null,
            "align_self": null,
            "border": null,
            "bottom": null,
            "display": null,
            "flex": null,
            "flex_flow": null,
            "grid_area": null,
            "grid_auto_columns": null,
            "grid_auto_flow": null,
            "grid_auto_rows": null,
            "grid_column": null,
            "grid_gap": null,
            "grid_row": null,
            "grid_template_areas": null,
            "grid_template_columns": null,
            "grid_template_rows": null,
            "height": null,
            "justify_content": null,
            "justify_items": null,
            "left": null,
            "margin": null,
            "max_height": null,
            "max_width": null,
            "min_height": null,
            "min_width": null,
            "object_fit": null,
            "object_position": null,
            "order": null,
            "overflow": null,
            "overflow_x": null,
            "overflow_y": null,
            "padding": null,
            "right": null,
            "top": null,
            "visibility": null,
            "width": "20px"
          }
        },
        "ab0cd9ec605743318d24871d0f3c1204": {
          "model_module": "@jupyter-widgets/controls",
          "model_name": "ProgressStyleModel",
          "model_module_version": "1.5.0",
          "state": {
            "_model_module": "@jupyter-widgets/controls",
            "_model_module_version": "1.5.0",
            "_model_name": "ProgressStyleModel",
            "_view_count": null,
            "_view_module": "@jupyter-widgets/base",
            "_view_module_version": "1.2.0",
            "_view_name": "StyleView",
            "bar_color": null,
            "description_width": ""
          }
        },
        "9a14b9d211ad48bf864d84cb7cd89ca9": {
          "model_module": "@jupyter-widgets/base",
          "model_name": "LayoutModel",
          "model_module_version": "1.2.0",
          "state": {
            "_model_module": "@jupyter-widgets/base",
            "_model_module_version": "1.2.0",
            "_model_name": "LayoutModel",
            "_view_count": null,
            "_view_module": "@jupyter-widgets/base",
            "_view_module_version": "1.2.0",
            "_view_name": "LayoutView",
            "align_content": null,
            "align_items": null,
            "align_self": null,
            "border": null,
            "bottom": null,
            "display": null,
            "flex": null,
            "flex_flow": null,
            "grid_area": null,
            "grid_auto_columns": null,
            "grid_auto_flow": null,
            "grid_auto_rows": null,
            "grid_column": null,
            "grid_gap": null,
            "grid_row": null,
            "grid_template_areas": null,
            "grid_template_columns": null,
            "grid_template_rows": null,
            "height": null,
            "justify_content": null,
            "justify_items": null,
            "left": null,
            "margin": null,
            "max_height": null,
            "max_width": null,
            "min_height": null,
            "min_width": null,
            "object_fit": null,
            "object_position": null,
            "order": null,
            "overflow": null,
            "overflow_x": null,
            "overflow_y": null,
            "padding": null,
            "right": null,
            "top": null,
            "visibility": null,
            "width": null
          }
        },
        "6d63eeb9f40641c4aebdb6d5a37e6b3d": {
          "model_module": "@jupyter-widgets/controls",
          "model_name": "DescriptionStyleModel",
          "model_module_version": "1.5.0",
          "state": {
            "_model_module": "@jupyter-widgets/controls",
            "_model_module_version": "1.5.0",
            "_model_name": "DescriptionStyleModel",
            "_view_count": null,
            "_view_module": "@jupyter-widgets/base",
            "_view_module_version": "1.2.0",
            "_view_name": "StyleView",
            "description_width": ""
          }
        },
        "a4e0e162cfaa4f34af76a81597dc5c78": {
          "model_module": "@jupyter-widgets/controls",
          "model_name": "HBoxModel",
          "model_module_version": "1.5.0",
          "state": {
            "_dom_classes": [],
            "_model_module": "@jupyter-widgets/controls",
            "_model_module_version": "1.5.0",
            "_model_name": "HBoxModel",
            "_view_count": null,
            "_view_module": "@jupyter-widgets/controls",
            "_view_module_version": "1.5.0",
            "_view_name": "HBoxView",
            "box_style": "",
            "children": [
              "IPY_MODEL_0acfd7928e684c1d8064be2e8bf1f962",
              "IPY_MODEL_d61f0331f93f47889e201514f5e4936f",
              "IPY_MODEL_49a108193ec04208b731abbd3c266656"
            ],
            "layout": "IPY_MODEL_5f0c5f3e419f4d059b69159308752060"
          }
        },
        "0acfd7928e684c1d8064be2e8bf1f962": {
          "model_module": "@jupyter-widgets/controls",
          "model_name": "HTMLModel",
          "model_module_version": "1.5.0",
          "state": {
            "_dom_classes": [],
            "_model_module": "@jupyter-widgets/controls",
            "_model_module_version": "1.5.0",
            "_model_name": "HTMLModel",
            "_view_count": null,
            "_view_module": "@jupyter-widgets/controls",
            "_view_module_version": "1.5.0",
            "_view_name": "HTMLView",
            "description": "",
            "description_tooltip": null,
            "layout": "IPY_MODEL_98e865d62b5c4a549c37cdad2c91e42d",
            "placeholder": "​",
            "style": "IPY_MODEL_5ac870029ca9427da042d7ed9038c967",
            "value": "model.safetensors: 100%"
          }
        },
        "d61f0331f93f47889e201514f5e4936f": {
          "model_module": "@jupyter-widgets/controls",
          "model_name": "FloatProgressModel",
          "model_module_version": "1.5.0",
          "state": {
            "_dom_classes": [],
            "_model_module": "@jupyter-widgets/controls",
            "_model_module_version": "1.5.0",
            "_model_name": "FloatProgressModel",
            "_view_count": null,
            "_view_module": "@jupyter-widgets/controls",
            "_view_module_version": "1.5.0",
            "_view_name": "ProgressView",
            "bar_style": "success",
            "description": "",
            "description_tooltip": null,
            "layout": "IPY_MODEL_d758a028f3634218ab429238a543887d",
            "max": 891646390,
            "min": 0,
            "orientation": "horizontal",
            "style": "IPY_MODEL_37c2266154cc47bc91e869081c45add1",
            "value": 891646390
          }
        },
        "49a108193ec04208b731abbd3c266656": {
          "model_module": "@jupyter-widgets/controls",
          "model_name": "HTMLModel",
          "model_module_version": "1.5.0",
          "state": {
            "_dom_classes": [],
            "_model_module": "@jupyter-widgets/controls",
            "_model_module_version": "1.5.0",
            "_model_name": "HTMLModel",
            "_view_count": null,
            "_view_module": "@jupyter-widgets/controls",
            "_view_module_version": "1.5.0",
            "_view_name": "HTMLView",
            "description": "",
            "description_tooltip": null,
            "layout": "IPY_MODEL_97ef8291a47c4676a5ee645361f7ec1b",
            "placeholder": "​",
            "style": "IPY_MODEL_9d6fafa085574a30814769fb3e66be5f",
            "value": " 892M/892M [00:14&lt;00:00, 97.3MB/s]"
          }
        },
        "5f0c5f3e419f4d059b69159308752060": {
          "model_module": "@jupyter-widgets/base",
          "model_name": "LayoutModel",
          "model_module_version": "1.2.0",
          "state": {
            "_model_module": "@jupyter-widgets/base",
            "_model_module_version": "1.2.0",
            "_model_name": "LayoutModel",
            "_view_count": null,
            "_view_module": "@jupyter-widgets/base",
            "_view_module_version": "1.2.0",
            "_view_name": "LayoutView",
            "align_content": null,
            "align_items": null,
            "align_self": null,
            "border": null,
            "bottom": null,
            "display": null,
            "flex": null,
            "flex_flow": null,
            "grid_area": null,
            "grid_auto_columns": null,
            "grid_auto_flow": null,
            "grid_auto_rows": null,
            "grid_column": null,
            "grid_gap": null,
            "grid_row": null,
            "grid_template_areas": null,
            "grid_template_columns": null,
            "grid_template_rows": null,
            "height": null,
            "justify_content": null,
            "justify_items": null,
            "left": null,
            "margin": null,
            "max_height": null,
            "max_width": null,
            "min_height": null,
            "min_width": null,
            "object_fit": null,
            "object_position": null,
            "order": null,
            "overflow": null,
            "overflow_x": null,
            "overflow_y": null,
            "padding": null,
            "right": null,
            "top": null,
            "visibility": null,
            "width": null
          }
        },
        "98e865d62b5c4a549c37cdad2c91e42d": {
          "model_module": "@jupyter-widgets/base",
          "model_name": "LayoutModel",
          "model_module_version": "1.2.0",
          "state": {
            "_model_module": "@jupyter-widgets/base",
            "_model_module_version": "1.2.0",
            "_model_name": "LayoutModel",
            "_view_count": null,
            "_view_module": "@jupyter-widgets/base",
            "_view_module_version": "1.2.0",
            "_view_name": "LayoutView",
            "align_content": null,
            "align_items": null,
            "align_self": null,
            "border": null,
            "bottom": null,
            "display": null,
            "flex": null,
            "flex_flow": null,
            "grid_area": null,
            "grid_auto_columns": null,
            "grid_auto_flow": null,
            "grid_auto_rows": null,
            "grid_column": null,
            "grid_gap": null,
            "grid_row": null,
            "grid_template_areas": null,
            "grid_template_columns": null,
            "grid_template_rows": null,
            "height": null,
            "justify_content": null,
            "justify_items": null,
            "left": null,
            "margin": null,
            "max_height": null,
            "max_width": null,
            "min_height": null,
            "min_width": null,
            "object_fit": null,
            "object_position": null,
            "order": null,
            "overflow": null,
            "overflow_x": null,
            "overflow_y": null,
            "padding": null,
            "right": null,
            "top": null,
            "visibility": null,
            "width": null
          }
        },
        "5ac870029ca9427da042d7ed9038c967": {
          "model_module": "@jupyter-widgets/controls",
          "model_name": "DescriptionStyleModel",
          "model_module_version": "1.5.0",
          "state": {
            "_model_module": "@jupyter-widgets/controls",
            "_model_module_version": "1.5.0",
            "_model_name": "DescriptionStyleModel",
            "_view_count": null,
            "_view_module": "@jupyter-widgets/base",
            "_view_module_version": "1.2.0",
            "_view_name": "StyleView",
            "description_width": ""
          }
        },
        "d758a028f3634218ab429238a543887d": {
          "model_module": "@jupyter-widgets/base",
          "model_name": "LayoutModel",
          "model_module_version": "1.2.0",
          "state": {
            "_model_module": "@jupyter-widgets/base",
            "_model_module_version": "1.2.0",
            "_model_name": "LayoutModel",
            "_view_count": null,
            "_view_module": "@jupyter-widgets/base",
            "_view_module_version": "1.2.0",
            "_view_name": "LayoutView",
            "align_content": null,
            "align_items": null,
            "align_self": null,
            "border": null,
            "bottom": null,
            "display": null,
            "flex": null,
            "flex_flow": null,
            "grid_area": null,
            "grid_auto_columns": null,
            "grid_auto_flow": null,
            "grid_auto_rows": null,
            "grid_column": null,
            "grid_gap": null,
            "grid_row": null,
            "grid_template_areas": null,
            "grid_template_columns": null,
            "grid_template_rows": null,
            "height": null,
            "justify_content": null,
            "justify_items": null,
            "left": null,
            "margin": null,
            "max_height": null,
            "max_width": null,
            "min_height": null,
            "min_width": null,
            "object_fit": null,
            "object_position": null,
            "order": null,
            "overflow": null,
            "overflow_x": null,
            "overflow_y": null,
            "padding": null,
            "right": null,
            "top": null,
            "visibility": null,
            "width": null
          }
        },
        "37c2266154cc47bc91e869081c45add1": {
          "model_module": "@jupyter-widgets/controls",
          "model_name": "ProgressStyleModel",
          "model_module_version": "1.5.0",
          "state": {
            "_model_module": "@jupyter-widgets/controls",
            "_model_module_version": "1.5.0",
            "_model_name": "ProgressStyleModel",
            "_view_count": null,
            "_view_module": "@jupyter-widgets/base",
            "_view_module_version": "1.2.0",
            "_view_name": "StyleView",
            "bar_color": null,
            "description_width": ""
          }
        },
        "97ef8291a47c4676a5ee645361f7ec1b": {
          "model_module": "@jupyter-widgets/base",
          "model_name": "LayoutModel",
          "model_module_version": "1.2.0",
          "state": {
            "_model_module": "@jupyter-widgets/base",
            "_model_module_version": "1.2.0",
            "_model_name": "LayoutModel",
            "_view_count": null,
            "_view_module": "@jupyter-widgets/base",
            "_view_module_version": "1.2.0",
            "_view_name": "LayoutView",
            "align_content": null,
            "align_items": null,
            "align_self": null,
            "border": null,
            "bottom": null,
            "display": null,
            "flex": null,
            "flex_flow": null,
            "grid_area": null,
            "grid_auto_columns": null,
            "grid_auto_flow": null,
            "grid_auto_rows": null,
            "grid_column": null,
            "grid_gap": null,
            "grid_row": null,
            "grid_template_areas": null,
            "grid_template_columns": null,
            "grid_template_rows": null,
            "height": null,
            "justify_content": null,
            "justify_items": null,
            "left": null,
            "margin": null,
            "max_height": null,
            "max_width": null,
            "min_height": null,
            "min_width": null,
            "object_fit": null,
            "object_position": null,
            "order": null,
            "overflow": null,
            "overflow_x": null,
            "overflow_y": null,
            "padding": null,
            "right": null,
            "top": null,
            "visibility": null,
            "width": null
          }
        },
        "9d6fafa085574a30814769fb3e66be5f": {
          "model_module": "@jupyter-widgets/controls",
          "model_name": "DescriptionStyleModel",
          "model_module_version": "1.5.0",
          "state": {
            "_model_module": "@jupyter-widgets/controls",
            "_model_module_version": "1.5.0",
            "_model_name": "DescriptionStyleModel",
            "_view_count": null,
            "_view_module": "@jupyter-widgets/base",
            "_view_module_version": "1.2.0",
            "_view_name": "StyleView",
            "description_width": ""
          }
        },
        "e83892cd227045e99e2a6e87d059c056": {
          "model_module": "@jupyter-widgets/controls",
          "model_name": "HBoxModel",
          "model_module_version": "1.5.0",
          "state": {
            "_dom_classes": [],
            "_model_module": "@jupyter-widgets/controls",
            "_model_module_version": "1.5.0",
            "_model_name": "HBoxModel",
            "_view_count": null,
            "_view_module": "@jupyter-widgets/controls",
            "_view_module_version": "1.5.0",
            "_view_name": "HBoxView",
            "box_style": "",
            "children": [
              "IPY_MODEL_160b11921d1d4b9ca2f397ea191a8993",
              "IPY_MODEL_292cec8359e34fed8db3520e7c72b66f",
              "IPY_MODEL_2cb60fa3ac474265a89ffcf3f23aed4b"
            ],
            "layout": "IPY_MODEL_17895d7d514a4d4ba7a2d92c38e3b0b5"
          }
        },
        "160b11921d1d4b9ca2f397ea191a8993": {
          "model_module": "@jupyter-widgets/controls",
          "model_name": "HTMLModel",
          "model_module_version": "1.5.0",
          "state": {
            "_dom_classes": [],
            "_model_module": "@jupyter-widgets/controls",
            "_model_module_version": "1.5.0",
            "_model_name": "HTMLModel",
            "_view_count": null,
            "_view_module": "@jupyter-widgets/controls",
            "_view_module_version": "1.5.0",
            "_view_name": "HTMLView",
            "description": "",
            "description_tooltip": null,
            "layout": "IPY_MODEL_1c3afacdda0046a296a1a8ffccff9987",
            "placeholder": "​",
            "style": "IPY_MODEL_b9c5b1d420ca487d848465f124b87d72",
            "value": "generation_config.json: 100%"
          }
        },
        "292cec8359e34fed8db3520e7c72b66f": {
          "model_module": "@jupyter-widgets/controls",
          "model_name": "FloatProgressModel",
          "model_module_version": "1.5.0",
          "state": {
            "_dom_classes": [],
            "_model_module": "@jupyter-widgets/controls",
            "_model_module_version": "1.5.0",
            "_model_name": "FloatProgressModel",
            "_view_count": null,
            "_view_module": "@jupyter-widgets/controls",
            "_view_module_version": "1.5.0",
            "_view_name": "ProgressView",
            "bar_style": "success",
            "description": "",
            "description_tooltip": null,
            "layout": "IPY_MODEL_6a2707dd0517438da19d94e66cb137c7",
            "max": 147,
            "min": 0,
            "orientation": "horizontal",
            "style": "IPY_MODEL_0bc30e86dc2b40ecb2857c91ace96d7f",
            "value": 147
          }
        },
        "2cb60fa3ac474265a89ffcf3f23aed4b": {
          "model_module": "@jupyter-widgets/controls",
          "model_name": "HTMLModel",
          "model_module_version": "1.5.0",
          "state": {
            "_dom_classes": [],
            "_model_module": "@jupyter-widgets/controls",
            "_model_module_version": "1.5.0",
            "_model_name": "HTMLModel",
            "_view_count": null,
            "_view_module": "@jupyter-widgets/controls",
            "_view_module_version": "1.5.0",
            "_view_name": "HTMLView",
            "description": "",
            "description_tooltip": null,
            "layout": "IPY_MODEL_baceeebf97774adfbcff9ae445ab0b2b",
            "placeholder": "​",
            "style": "IPY_MODEL_95d623c292cf40ab8eba4ccf209b3e6e",
            "value": " 147/147 [00:00&lt;00:00, 3.54kB/s]"
          }
        },
        "17895d7d514a4d4ba7a2d92c38e3b0b5": {
          "model_module": "@jupyter-widgets/base",
          "model_name": "LayoutModel",
          "model_module_version": "1.2.0",
          "state": {
            "_model_module": "@jupyter-widgets/base",
            "_model_module_version": "1.2.0",
            "_model_name": "LayoutModel",
            "_view_count": null,
            "_view_module": "@jupyter-widgets/base",
            "_view_module_version": "1.2.0",
            "_view_name": "LayoutView",
            "align_content": null,
            "align_items": null,
            "align_self": null,
            "border": null,
            "bottom": null,
            "display": null,
            "flex": null,
            "flex_flow": null,
            "grid_area": null,
            "grid_auto_columns": null,
            "grid_auto_flow": null,
            "grid_auto_rows": null,
            "grid_column": null,
            "grid_gap": null,
            "grid_row": null,
            "grid_template_areas": null,
            "grid_template_columns": null,
            "grid_template_rows": null,
            "height": null,
            "justify_content": null,
            "justify_items": null,
            "left": null,
            "margin": null,
            "max_height": null,
            "max_width": null,
            "min_height": null,
            "min_width": null,
            "object_fit": null,
            "object_position": null,
            "order": null,
            "overflow": null,
            "overflow_x": null,
            "overflow_y": null,
            "padding": null,
            "right": null,
            "top": null,
            "visibility": null,
            "width": null
          }
        },
        "1c3afacdda0046a296a1a8ffccff9987": {
          "model_module": "@jupyter-widgets/base",
          "model_name": "LayoutModel",
          "model_module_version": "1.2.0",
          "state": {
            "_model_module": "@jupyter-widgets/base",
            "_model_module_version": "1.2.0",
            "_model_name": "LayoutModel",
            "_view_count": null,
            "_view_module": "@jupyter-widgets/base",
            "_view_module_version": "1.2.0",
            "_view_name": "LayoutView",
            "align_content": null,
            "align_items": null,
            "align_self": null,
            "border": null,
            "bottom": null,
            "display": null,
            "flex": null,
            "flex_flow": null,
            "grid_area": null,
            "grid_auto_columns": null,
            "grid_auto_flow": null,
            "grid_auto_rows": null,
            "grid_column": null,
            "grid_gap": null,
            "grid_row": null,
            "grid_template_areas": null,
            "grid_template_columns": null,
            "grid_template_rows": null,
            "height": null,
            "justify_content": null,
            "justify_items": null,
            "left": null,
            "margin": null,
            "max_height": null,
            "max_width": null,
            "min_height": null,
            "min_width": null,
            "object_fit": null,
            "object_position": null,
            "order": null,
            "overflow": null,
            "overflow_x": null,
            "overflow_y": null,
            "padding": null,
            "right": null,
            "top": null,
            "visibility": null,
            "width": null
          }
        },
        "b9c5b1d420ca487d848465f124b87d72": {
          "model_module": "@jupyter-widgets/controls",
          "model_name": "DescriptionStyleModel",
          "model_module_version": "1.5.0",
          "state": {
            "_model_module": "@jupyter-widgets/controls",
            "_model_module_version": "1.5.0",
            "_model_name": "DescriptionStyleModel",
            "_view_count": null,
            "_view_module": "@jupyter-widgets/base",
            "_view_module_version": "1.2.0",
            "_view_name": "StyleView",
            "description_width": ""
          }
        },
        "6a2707dd0517438da19d94e66cb137c7": {
          "model_module": "@jupyter-widgets/base",
          "model_name": "LayoutModel",
          "model_module_version": "1.2.0",
          "state": {
            "_model_module": "@jupyter-widgets/base",
            "_model_module_version": "1.2.0",
            "_model_name": "LayoutModel",
            "_view_count": null,
            "_view_module": "@jupyter-widgets/base",
            "_view_module_version": "1.2.0",
            "_view_name": "LayoutView",
            "align_content": null,
            "align_items": null,
            "align_self": null,
            "border": null,
            "bottom": null,
            "display": null,
            "flex": null,
            "flex_flow": null,
            "grid_area": null,
            "grid_auto_columns": null,
            "grid_auto_flow": null,
            "grid_auto_rows": null,
            "grid_column": null,
            "grid_gap": null,
            "grid_row": null,
            "grid_template_areas": null,
            "grid_template_columns": null,
            "grid_template_rows": null,
            "height": null,
            "justify_content": null,
            "justify_items": null,
            "left": null,
            "margin": null,
            "max_height": null,
            "max_width": null,
            "min_height": null,
            "min_width": null,
            "object_fit": null,
            "object_position": null,
            "order": null,
            "overflow": null,
            "overflow_x": null,
            "overflow_y": null,
            "padding": null,
            "right": null,
            "top": null,
            "visibility": null,
            "width": null
          }
        },
        "0bc30e86dc2b40ecb2857c91ace96d7f": {
          "model_module": "@jupyter-widgets/controls",
          "model_name": "ProgressStyleModel",
          "model_module_version": "1.5.0",
          "state": {
            "_model_module": "@jupyter-widgets/controls",
            "_model_module_version": "1.5.0",
            "_model_name": "ProgressStyleModel",
            "_view_count": null,
            "_view_module": "@jupyter-widgets/base",
            "_view_module_version": "1.2.0",
            "_view_name": "StyleView",
            "bar_color": null,
            "description_width": ""
          }
        },
        "baceeebf97774adfbcff9ae445ab0b2b": {
          "model_module": "@jupyter-widgets/base",
          "model_name": "LayoutModel",
          "model_module_version": "1.2.0",
          "state": {
            "_model_module": "@jupyter-widgets/base",
            "_model_module_version": "1.2.0",
            "_model_name": "LayoutModel",
            "_view_count": null,
            "_view_module": "@jupyter-widgets/base",
            "_view_module_version": "1.2.0",
            "_view_name": "LayoutView",
            "align_content": null,
            "align_items": null,
            "align_self": null,
            "border": null,
            "bottom": null,
            "display": null,
            "flex": null,
            "flex_flow": null,
            "grid_area": null,
            "grid_auto_columns": null,
            "grid_auto_flow": null,
            "grid_auto_rows": null,
            "grid_column": null,
            "grid_gap": null,
            "grid_row": null,
            "grid_template_areas": null,
            "grid_template_columns": null,
            "grid_template_rows": null,
            "height": null,
            "justify_content": null,
            "justify_items": null,
            "left": null,
            "margin": null,
            "max_height": null,
            "max_width": null,
            "min_height": null,
            "min_width": null,
            "object_fit": null,
            "object_position": null,
            "order": null,
            "overflow": null,
            "overflow_x": null,
            "overflow_y": null,
            "padding": null,
            "right": null,
            "top": null,
            "visibility": null,
            "width": null
          }
        },
        "95d623c292cf40ab8eba4ccf209b3e6e": {
          "model_module": "@jupyter-widgets/controls",
          "model_name": "DescriptionStyleModel",
          "model_module_version": "1.5.0",
          "state": {
            "_model_module": "@jupyter-widgets/controls",
            "_model_module_version": "1.5.0",
            "_model_name": "DescriptionStyleModel",
            "_view_count": null,
            "_view_module": "@jupyter-widgets/base",
            "_view_module_version": "1.2.0",
            "_view_name": "StyleView",
            "description_width": ""
          }
        }
      }
    }
  },
  "nbformat": 4,
  "nbformat_minor": 0
}