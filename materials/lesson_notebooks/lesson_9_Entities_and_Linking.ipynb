{
 "cells": [
  {
   "cell_type": "markdown",
   "metadata": {
    "id": "hjF4EmzwhYj_"
   },
   "source": [
    "# Lesson notebook 9 - Entities and Linking\n",
    "\n",
    "\n",
    "\n",
    "### NER and Unsupervised Relation Extraction with SpaCy\n",
    "\n",
    "We'll use SpaCy again, a pretrained open source language processing pipeline.  It provides a platform for processing text in a number of ways without having to perform any fine-tuning.\n",
    "\n",
    "We'll use it to demonstrate SpaCy's NER capabilities out of the box.  Take a look at the entities it finds.  How well do you think it performs?\n",
    "\n",
    "Then we'll use the dependency parsing capability to extract SVO triples from a set of sentences.  Again, look at how well the extraction works.\n",
    "\n",
    "You should experiment by adding multiple sentences in to the variable nnp_doc and see how well SpaCy does with your alternative sentences.\n",
    "\n",
    "\n",
    "<a id = 'returnToTop'></a>\n",
    "\n",
    "## Notebook Contents\n",
    "\n",
    "  * 1. [Setup](#spacySetup)\n",
    "  * 2. [Spacy Language Model Selection](#spacyPipeline)\n",
    "  * 3. [Named Entity Recognition](#spacyNER)\n",
    "  * 4. [Dependency Parsing for Information Extraction](#spacyDep)\n",
    "      * 4.1. [SVO Triple Extraction Example](#spacySVO)\n",
    "  * 5. [Entity and Relation Extraction Example](#mistralRE)\n",
    "  * 6. [Answers](#answers)      \n",
    "\n",
    "\n",
    "\n",
    "\n",
    "\n",
    "\n",
    "\n",
    "\n",
    "\n",
    "[![Open In Colab](https://colab.research.google.com/assets/colab-badge.svg)](https://colab.research.google.com/github/datasci-w266/2025-fall-main/blob/master/materials/lesson_notebooks/lesson_9_Entities_and_Linking.ipynb)"
   ]
  },
  {
   "cell_type": "markdown",
   "metadata": {
    "id": "Wbk3MQ1biv37"
   },
   "source": [
    "[Return to Top](#returnToTop)  \n",
    "<a id = 'spacySetup'></a>\n",
    "\n",
    "## 1. Setup  \n",
    "\n",
    "\n",
    "Let's set up our environment to run the current version of [SpaCy](https://spacy.io) and feed it a sequence of text to see what it can do.  \n",
    "\n",
    "SpaCy is an open source industrial strength NLP engine that can perform multiple functions out of the box. It strikes a good balance between speed of processing and accuracy of predictions.  It comes with a number of different language models trained on the [OntoNotes5](https://catalog.ldc.upenn.edu/LDC2013T19) data set.  This means that it is already trained to do part of speech tagging and dependency parsing.  It can also be trained to do classification and a number of other tasks in the standard NLP stack.  It is very fast.  It can be a handy way of analyzing some text for exploratory data analysis. Another use is annotating some text to then create a labelled training set that you use to train up your own model independent of spaCy.\n",
    "\n",
    "spaCy uses a combination of techniques including embeddings and convolutional neural nets to generate the output we see.\n"
   ]
  },
  {
   "cell_type": "code",
   "execution_count": 1,
   "metadata": {
    "id": "_OqE_HpzhLNx"
   },
   "outputs": [],
   "source": [
    "!pip install -q spacy"
   ]
  },
  {
   "cell_type": "code",
   "execution_count": 2,
   "metadata": {
    "colab": {
     "base_uri": "https://localhost:8080/"
    },
    "id": "KkScHG0vhLRx",
    "outputId": "618164ea-3a0e-414d-c338-51c62cc09aed"
   },
   "outputs": [
    {
     "name": "stdout",
     "output_type": "stream",
     "text": [
      "\u001b[2K   \u001b[90m━━━━━━━━━━━━━━━━━━━━━━━━━━━━━━━━━━━━━━━━\u001b[0m \u001b[32m98.5/98.5 MB\u001b[0m \u001b[31m5.8 MB/s\u001b[0m eta \u001b[36m0:00:00\u001b[0m\n",
      "\u001b[?25h"
     ]
    }
   ],
   "source": [
    "!pip install -q spacy-lookups-data"
   ]
  },
  {
   "cell_type": "code",
   "execution_count": 3,
   "metadata": {
    "colab": {
     "base_uri": "https://localhost:8080/"
    },
    "id": "z9rYEr6khLT9",
    "outputId": "359eb75e-ba9e-4cfe-b6b8-faa328c5ccc5"
   },
   "outputs": [
    {
     "name": "stdout",
     "output_type": "stream",
     "text": [
      "3.8.7\n",
      "2.2.2\n"
     ]
    }
   ],
   "source": [
    "import spacy\n",
    "import pandas as pd\n",
    "\n",
    "print(spacy.__version__)\n",
    "print(pd.__version__)"
   ]
  },
  {
   "cell_type": "markdown",
   "metadata": {
    "id": "VfVZ9IaujaWU"
   },
   "source": [
    "[Return to Top](#returnToTop)  \n",
    "<a id = 'spacyPipeline'></a>\n",
    "\n",
    "## 2. Pre-trained Language Models for SpaCy\n",
    "\n",
    "SpaCy has also been pre-trained on multiple languages.  When using it you need to select and load a specific language model.\n",
    "\n",
    "Make sure you first download a language model then load it into SpaCy. We're selecting English via the large model which gives us access to embeddings.  There are many other options and other languages.\n",
    "\n",
    "Downloading the large model can take a couple of minutes if your network is slower."
   ]
  },
  {
   "cell_type": "code",
   "execution_count": 4,
   "metadata": {
    "colab": {
     "base_uri": "https://localhost:8080/"
    },
    "id": "EMiI2_uYhLXl",
    "outputId": "2507a8f0-98ce-49af-fd5f-096ad7a4e951"
   },
   "outputs": [
    {
     "name": "stdout",
     "output_type": "stream",
     "text": [
      "Collecting en-core-web-lg==3.8.0\n",
      "  Downloading https://github.com/explosion/spacy-models/releases/download/en_core_web_lg-3.8.0/en_core_web_lg-3.8.0-py3-none-any.whl (400.7 MB)\n",
      "\u001b[2K     \u001b[90m━━━━━━━━━━━━━━━━━━━━━━━━━━━━━━━━━━━━━━━\u001b[0m \u001b[32m400.7/400.7 MB\u001b[0m \u001b[31m4.1 MB/s\u001b[0m eta \u001b[36m0:00:00\u001b[0m\n",
      "\u001b[?25hInstalling collected packages: en-core-web-lg\n",
      "Successfully installed en-core-web-lg-3.8.0\n",
      "\u001b[38;5;2m✔ Download and installation successful\u001b[0m\n",
      "You can now load the package via spacy.load('en_core_web_lg')\n",
      "\u001b[38;5;3m⚠ Restart to reload dependencies\u001b[0m\n",
      "If you are in a Jupyter or Colab notebook, you may need to restart Python in\n",
      "order to load all the package's dependencies. You can do this by selecting the\n",
      "'Restart kernel' or 'Restart runtime' option.\n"
     ]
    }
   ],
   "source": [
    "!python -m spacy download en_core_web_lg"
   ]
  },
  {
   "cell_type": "code",
   "execution_count": 5,
   "metadata": {
    "id": "McEi8IdKhLaG"
   },
   "outputs": [],
   "source": [
    "#load an english model -- the large model includes word embeddings\n",
    "nlp = spacy.load(\"en_core_web_lg\")"
   ]
  },
  {
   "cell_type": "markdown",
   "metadata": {
    "id": "McCSNaBSl07X"
   },
   "source": [
    "[Return to Top](#returnToTop)  \n",
    "<a id = 'spacyNER'></a>\n",
    "\n",
    "## 3. Named Entity Recognition\n",
    "\n",
    "SpaCy is also trained to do some basic NER out of the box. It has been trained using OntoNotes5 so you can see the set of entity tags it uses to annotate its content. It identifies things like persons (PER), organizations (ORG), facilities (FAC), dates (DATE) and others. If those tags don't work for you, then you can train spaCy to identify different entities or use a different tag set.\n",
    "\n",
    "You can modify the nnp_doc variable below if you want to experiment with your own set of sentences to see how they work with the existing tagset.\n"
   ]
  },
  {
   "cell_type": "code",
   "execution_count": 6,
   "metadata": {
    "colab": {
     "base_uri": "https://localhost:8080/"
    },
    "id": "-TWv_RfwhLkd",
    "outputId": "b2c2cb13-dc6a-47e6-bce0-ef46609d3d31"
   },
   "outputs": [
    {
     "name": "stdout",
     "output_type": "stream",
     "text": [
      "the afternoon of November 19, 1863 3 37 TIME Times smaller than a day\n",
      "Lincoln 39 46 ORG Companies, agencies, institutions, etc.\n",
      "Gettysburg 55 65 GPE Countries, cities, states\n",
      "The Gettysburg Address 100 122 FAC Buildings, airports, highways, bridges, etc.\n",
      "four 134 138 CARDINAL Numerals that do not fall under another type\n",
      "seven years ago 149 164 DATE Absolute or relative dates or periods\n"
     ]
    }
   ],
   "source": [
    "#We'll use nnp_doc to demonstrate SpaCy's information extraction capability\n",
    "nnp_doc = nlp('On the afternoon of November 19, 1863, Lincoln went to Gettysburg. He gave his famous speech there. The Gettysburg Address began with four score and seven years ago.')\n",
    "#nnp_doc = nlp('The School of Information is located on the Berkeley campus of the University of California. The iSchool offers a variety of Masters degrees. Berkeley is adjacent to Oakland, Albany, and El Cerrito.')\n",
    "\n",
    "#NER example\n",
    "for ent in nnp_doc.ents:\n",
    "    print(ent.text, ent.start_char, ent.end_char,\n",
    "        ent.label_, spacy.explain(ent.label_))"
   ]
  },
  {
   "cell_type": "markdown",
   "metadata": {
    "id": "GzFqoq_pJxpH"
   },
   "source": [
    "Note the NER parser makes some errors.  It tags Lincoln as an Organization and The Gettysburg Address as an Organization.  This is clearly wrong, but Lincoln is also ambiguous. It can refer to a larger city in Nebraska or a make of car. What happens if you add Abraham before Lincoln? That should help to disambiguagte the reference.  You could also try and fix the issue by fine-tuning the SpaCy model to teach it to prefer Lincoln as a person rather than an Organization."
   ]
  },
  {
   "cell_type": "markdown",
   "metadata": {
    "id": "_Kpjc1uKkfOt"
   },
   "source": [
    "[Return to Top](#returnToTop)  \n",
    "<a id = 'spacyDep'></a>\n",
    "\n",
    "\n",
    "## 4. Dependency Parsing for Information Extraction\n",
    "\n",
    "As we saw last week, SpaCy performs dependency parsing right out of the box. This can be a very handy way of identifying words and the relations between them. Sometimes those relations fundamentally change the meaning of the word as in the case of negation.\n"
   ]
  },
  {
   "cell_type": "code",
   "execution_count": 7,
   "metadata": {
    "colab": {
     "base_uri": "https://localhost:8080/"
    },
    "id": "BwFxecKGhLeI",
    "outputId": "6fb05f11-6c56-4fdf-d747-4d662c277308"
   },
   "outputs": [
    {
     "name": "stdout",
     "output_type": "stream",
     "text": [
      "Students NNS learning nsubj\n",
      "are VBP learning aux\n",
      "learning VBG learning ROOT\n",
      "Natural NNP Language compound\n",
      "Language NNP Processing compound\n",
      "Processing NNP learning dobj\n",
      "with IN Processing prep\n",
      "transformers NNS with pobj\n",
      "in IN transformers prep\n",
      "the DT class det\n",
      "W266 NNP class compound\n",
      "class NN in pobj\n",
      ". . learning punct\n"
     ]
    }
   ],
   "source": [
    "#dependency parsing\n",
    "w266_text = 'Students are learning Natural Language Processing with transformers in the W266 class.'\n",
    "w266_doc = nlp(w266_text)\n",
    "for token in w266_doc:\n",
    "    print (token.text, token.tag_, token.head.text, token.dep_)"
   ]
  },
  {
   "cell_type": "markdown",
   "metadata": {
    "id": "2caTYfcr94pE"
   },
   "source": [
    "Let's capture it in a pandas data frame so it is easier to read and manipulate.  Once it's in a dataframe you can then perform additional operations like counting and filtering and searching on the content."
   ]
  },
  {
   "cell_type": "code",
   "execution_count": 8,
   "metadata": {
    "colab": {
     "base_uri": "https://localhost:8080/",
     "height": 457
    },
    "id": "VbGjbEuQhLgv",
    "outputId": "e9bfb335-9c41-47c1-a4bc-0d9acf8921d8"
   },
   "outputs": [
    {
     "data": {
      "application/vnd.google.colaboratory.intrinsic+json": {
       "summary": "{\n  \"name\": \"df\",\n  \"rows\": 13,\n  \"fields\": [\n    {\n      \"column\": \"text\",\n      \"properties\": {\n        \"dtype\": \"string\",\n        \"num_unique_values\": 13,\n        \"samples\": [\n          \"class\",\n          \"the\",\n          \"Students\"\n        ],\n        \"semantic_type\": \"\",\n        \"description\": \"\"\n      }\n    },\n    {\n      \"column\": \"lemma\",\n      \"properties\": {\n        \"dtype\": \"string\",\n        \"num_unique_values\": 13,\n        \"samples\": [\n          \"class\",\n          \"the\",\n          \"student\"\n        ],\n        \"semantic_type\": \"\",\n        \"description\": \"\"\n      }\n    },\n    {\n      \"column\": \"is_punctuation\",\n      \"properties\": {\n        \"dtype\": \"boolean\",\n        \"num_unique_values\": 2,\n        \"samples\": [\n          true,\n          false\n        ],\n        \"semantic_type\": \"\",\n        \"description\": \"\"\n      }\n    },\n    {\n      \"column\": \"is_space\",\n      \"properties\": {\n        \"dtype\": \"boolean\",\n        \"num_unique_values\": 1,\n        \"samples\": [\n          false\n        ],\n        \"semantic_type\": \"\",\n        \"description\": \"\"\n      }\n    },\n    {\n      \"column\": \"shape\",\n      \"properties\": {\n        \"dtype\": \"category\",\n        \"num_unique_values\": 6,\n        \"samples\": [\n          \"Xxxxx\"\n        ],\n        \"semantic_type\": \"\",\n        \"description\": \"\"\n      }\n    },\n    {\n      \"column\": \"part_of_speech\",\n      \"properties\": {\n        \"dtype\": \"string\",\n        \"num_unique_values\": 7,\n        \"samples\": [\n          \"NOUN\"\n        ],\n        \"semantic_type\": \"\",\n        \"description\": \"\"\n      }\n    },\n    {\n      \"column\": \"pos_tag\",\n      \"properties\": {\n        \"dtype\": \"string\",\n        \"num_unique_values\": 8,\n        \"samples\": [\n          \"VBP\"\n        ],\n        \"semantic_type\": \"\",\n        \"description\": \"\"\n      }\n    },\n    {\n      \"column\": \"head\",\n      \"properties\": {\n        \"dtype\": \"string\",\n        \"num_unique_values\": 7,\n        \"samples\": [\n          \"learning\"\n        ],\n        \"semantic_type\": \"\",\n        \"description\": \"\"\n      }\n    },\n    {\n      \"column\": \"dep\",\n      \"properties\": {\n        \"dtype\": \"string\",\n        \"num_unique_values\": 9,\n        \"samples\": [\n          \"det\"\n        ],\n        \"semantic_type\": \"\",\n        \"description\": \"\"\n      }\n    }\n  ]\n}",
       "type": "dataframe",
       "variable_name": "df"
      },
      "text/html": [
       "\n",
       "  <div id=\"df-c13f86b8-6ccf-4090-8955-14f5d2f43b97\" class=\"colab-df-container\">\n",
       "    <div>\n",
       "<style scoped>\n",
       "    .dataframe tbody tr th:only-of-type {\n",
       "        vertical-align: middle;\n",
       "    }\n",
       "\n",
       "    .dataframe tbody tr th {\n",
       "        vertical-align: top;\n",
       "    }\n",
       "\n",
       "    .dataframe thead th {\n",
       "        text-align: right;\n",
       "    }\n",
       "</style>\n",
       "<table border=\"1\" class=\"dataframe\">\n",
       "  <thead>\n",
       "    <tr style=\"text-align: right;\">\n",
       "      <th></th>\n",
       "      <th>text</th>\n",
       "      <th>lemma</th>\n",
       "      <th>is_punctuation</th>\n",
       "      <th>is_space</th>\n",
       "      <th>shape</th>\n",
       "      <th>part_of_speech</th>\n",
       "      <th>pos_tag</th>\n",
       "      <th>head</th>\n",
       "      <th>dep</th>\n",
       "    </tr>\n",
       "  </thead>\n",
       "  <tbody>\n",
       "    <tr>\n",
       "      <th>0</th>\n",
       "      <td>Students</td>\n",
       "      <td>student</td>\n",
       "      <td>False</td>\n",
       "      <td>False</td>\n",
       "      <td>Xxxxx</td>\n",
       "      <td>NOUN</td>\n",
       "      <td>NNS</td>\n",
       "      <td>learning</td>\n",
       "      <td>nsubj</td>\n",
       "    </tr>\n",
       "    <tr>\n",
       "      <th>1</th>\n",
       "      <td>are</td>\n",
       "      <td>be</td>\n",
       "      <td>False</td>\n",
       "      <td>False</td>\n",
       "      <td>xxx</td>\n",
       "      <td>AUX</td>\n",
       "      <td>VBP</td>\n",
       "      <td>learning</td>\n",
       "      <td>aux</td>\n",
       "    </tr>\n",
       "    <tr>\n",
       "      <th>2</th>\n",
       "      <td>learning</td>\n",
       "      <td>learn</td>\n",
       "      <td>False</td>\n",
       "      <td>False</td>\n",
       "      <td>xxxx</td>\n",
       "      <td>VERB</td>\n",
       "      <td>VBG</td>\n",
       "      <td>learning</td>\n",
       "      <td>ROOT</td>\n",
       "    </tr>\n",
       "    <tr>\n",
       "      <th>3</th>\n",
       "      <td>Natural</td>\n",
       "      <td>Natural</td>\n",
       "      <td>False</td>\n",
       "      <td>False</td>\n",
       "      <td>Xxxxx</td>\n",
       "      <td>PROPN</td>\n",
       "      <td>NNP</td>\n",
       "      <td>Language</td>\n",
       "      <td>compound</td>\n",
       "    </tr>\n",
       "    <tr>\n",
       "      <th>4</th>\n",
       "      <td>Language</td>\n",
       "      <td>Language</td>\n",
       "      <td>False</td>\n",
       "      <td>False</td>\n",
       "      <td>Xxxxx</td>\n",
       "      <td>PROPN</td>\n",
       "      <td>NNP</td>\n",
       "      <td>Processing</td>\n",
       "      <td>compound</td>\n",
       "    </tr>\n",
       "    <tr>\n",
       "      <th>5</th>\n",
       "      <td>Processing</td>\n",
       "      <td>Processing</td>\n",
       "      <td>False</td>\n",
       "      <td>False</td>\n",
       "      <td>Xxxxx</td>\n",
       "      <td>PROPN</td>\n",
       "      <td>NNP</td>\n",
       "      <td>learning</td>\n",
       "      <td>dobj</td>\n",
       "    </tr>\n",
       "    <tr>\n",
       "      <th>6</th>\n",
       "      <td>with</td>\n",
       "      <td>with</td>\n",
       "      <td>False</td>\n",
       "      <td>False</td>\n",
       "      <td>xxxx</td>\n",
       "      <td>ADP</td>\n",
       "      <td>IN</td>\n",
       "      <td>Processing</td>\n",
       "      <td>prep</td>\n",
       "    </tr>\n",
       "    <tr>\n",
       "      <th>7</th>\n",
       "      <td>transformers</td>\n",
       "      <td>transformer</td>\n",
       "      <td>False</td>\n",
       "      <td>False</td>\n",
       "      <td>xxxx</td>\n",
       "      <td>NOUN</td>\n",
       "      <td>NNS</td>\n",
       "      <td>with</td>\n",
       "      <td>pobj</td>\n",
       "    </tr>\n",
       "    <tr>\n",
       "      <th>8</th>\n",
       "      <td>in</td>\n",
       "      <td>in</td>\n",
       "      <td>False</td>\n",
       "      <td>False</td>\n",
       "      <td>xx</td>\n",
       "      <td>ADP</td>\n",
       "      <td>IN</td>\n",
       "      <td>transformers</td>\n",
       "      <td>prep</td>\n",
       "    </tr>\n",
       "    <tr>\n",
       "      <th>9</th>\n",
       "      <td>the</td>\n",
       "      <td>the</td>\n",
       "      <td>False</td>\n",
       "      <td>False</td>\n",
       "      <td>xxx</td>\n",
       "      <td>DET</td>\n",
       "      <td>DT</td>\n",
       "      <td>class</td>\n",
       "      <td>det</td>\n",
       "    </tr>\n",
       "    <tr>\n",
       "      <th>10</th>\n",
       "      <td>W266</td>\n",
       "      <td>W266</td>\n",
       "      <td>False</td>\n",
       "      <td>False</td>\n",
       "      <td>Xddd</td>\n",
       "      <td>PROPN</td>\n",
       "      <td>NNP</td>\n",
       "      <td>class</td>\n",
       "      <td>compound</td>\n",
       "    </tr>\n",
       "    <tr>\n",
       "      <th>11</th>\n",
       "      <td>class</td>\n",
       "      <td>class</td>\n",
       "      <td>False</td>\n",
       "      <td>False</td>\n",
       "      <td>xxxx</td>\n",
       "      <td>NOUN</td>\n",
       "      <td>NN</td>\n",
       "      <td>in</td>\n",
       "      <td>pobj</td>\n",
       "    </tr>\n",
       "    <tr>\n",
       "      <th>12</th>\n",
       "      <td>.</td>\n",
       "      <td>.</td>\n",
       "      <td>True</td>\n",
       "      <td>False</td>\n",
       "      <td>.</td>\n",
       "      <td>PUNCT</td>\n",
       "      <td>.</td>\n",
       "      <td>learning</td>\n",
       "      <td>punct</td>\n",
       "    </tr>\n",
       "  </tbody>\n",
       "</table>\n",
       "</div>\n",
       "    <div class=\"colab-df-buttons\">\n",
       "\n",
       "  <div class=\"colab-df-container\">\n",
       "    <button class=\"colab-df-convert\" onclick=\"convertToInteractive('df-c13f86b8-6ccf-4090-8955-14f5d2f43b97')\"\n",
       "            title=\"Convert this dataframe to an interactive table.\"\n",
       "            style=\"display:none;\">\n",
       "\n",
       "  <svg xmlns=\"http://www.w3.org/2000/svg\" height=\"24px\" viewBox=\"0 -960 960 960\">\n",
       "    <path d=\"M120-120v-720h720v720H120Zm60-500h600v-160H180v160Zm220 220h160v-160H400v160Zm0 220h160v-160H400v160ZM180-400h160v-160H180v160Zm440 0h160v-160H620v160ZM180-180h160v-160H180v160Zm440 0h160v-160H620v160Z\"/>\n",
       "  </svg>\n",
       "    </button>\n",
       "\n",
       "  <style>\n",
       "    .colab-df-container {\n",
       "      display:flex;\n",
       "      gap: 12px;\n",
       "    }\n",
       "\n",
       "    .colab-df-convert {\n",
       "      background-color: #E8F0FE;\n",
       "      border: none;\n",
       "      border-radius: 50%;\n",
       "      cursor: pointer;\n",
       "      display: none;\n",
       "      fill: #1967D2;\n",
       "      height: 32px;\n",
       "      padding: 0 0 0 0;\n",
       "      width: 32px;\n",
       "    }\n",
       "\n",
       "    .colab-df-convert:hover {\n",
       "      background-color: #E2EBFA;\n",
       "      box-shadow: 0px 1px 2px rgba(60, 64, 67, 0.3), 0px 1px 3px 1px rgba(60, 64, 67, 0.15);\n",
       "      fill: #174EA6;\n",
       "    }\n",
       "\n",
       "    .colab-df-buttons div {\n",
       "      margin-bottom: 4px;\n",
       "    }\n",
       "\n",
       "    [theme=dark] .colab-df-convert {\n",
       "      background-color: #3B4455;\n",
       "      fill: #D2E3FC;\n",
       "    }\n",
       "\n",
       "    [theme=dark] .colab-df-convert:hover {\n",
       "      background-color: #434B5C;\n",
       "      box-shadow: 0px 1px 3px 1px rgba(0, 0, 0, 0.15);\n",
       "      filter: drop-shadow(0px 1px 2px rgba(0, 0, 0, 0.3));\n",
       "      fill: #FFFFFF;\n",
       "    }\n",
       "  </style>\n",
       "\n",
       "    <script>\n",
       "      const buttonEl =\n",
       "        document.querySelector('#df-c13f86b8-6ccf-4090-8955-14f5d2f43b97 button.colab-df-convert');\n",
       "      buttonEl.style.display =\n",
       "        google.colab.kernel.accessAllowed ? 'block' : 'none';\n",
       "\n",
       "      async function convertToInteractive(key) {\n",
       "        const element = document.querySelector('#df-c13f86b8-6ccf-4090-8955-14f5d2f43b97');\n",
       "        const dataTable =\n",
       "          await google.colab.kernel.invokeFunction('convertToInteractive',\n",
       "                                                    [key], {});\n",
       "        if (!dataTable) return;\n",
       "\n",
       "        const docLinkHtml = 'Like what you see? Visit the ' +\n",
       "          '<a target=\"_blank\" href=https://colab.research.google.com/notebooks/data_table.ipynb>data table notebook</a>'\n",
       "          + ' to learn more about interactive tables.';\n",
       "        element.innerHTML = '';\n",
       "        dataTable['output_type'] = 'display_data';\n",
       "        await google.colab.output.renderOutput(dataTable, element);\n",
       "        const docLink = document.createElement('div');\n",
       "        docLink.innerHTML = docLinkHtml;\n",
       "        element.appendChild(docLink);\n",
       "      }\n",
       "    </script>\n",
       "  </div>\n",
       "\n",
       "\n",
       "    <div id=\"df-59722b9f-1f05-47d2-b2a5-64c78efa4498\">\n",
       "      <button class=\"colab-df-quickchart\" onclick=\"quickchart('df-59722b9f-1f05-47d2-b2a5-64c78efa4498')\"\n",
       "                title=\"Suggest charts\"\n",
       "                style=\"display:none;\">\n",
       "\n",
       "<svg xmlns=\"http://www.w3.org/2000/svg\" height=\"24px\"viewBox=\"0 0 24 24\"\n",
       "     width=\"24px\">\n",
       "    <g>\n",
       "        <path d=\"M19 3H5c-1.1 0-2 .9-2 2v14c0 1.1.9 2 2 2h14c1.1 0 2-.9 2-2V5c0-1.1-.9-2-2-2zM9 17H7v-7h2v7zm4 0h-2V7h2v10zm4 0h-2v-4h2v4z\"/>\n",
       "    </g>\n",
       "</svg>\n",
       "      </button>\n",
       "\n",
       "<style>\n",
       "  .colab-df-quickchart {\n",
       "      --bg-color: #E8F0FE;\n",
       "      --fill-color: #1967D2;\n",
       "      --hover-bg-color: #E2EBFA;\n",
       "      --hover-fill-color: #174EA6;\n",
       "      --disabled-fill-color: #AAA;\n",
       "      --disabled-bg-color: #DDD;\n",
       "  }\n",
       "\n",
       "  [theme=dark] .colab-df-quickchart {\n",
       "      --bg-color: #3B4455;\n",
       "      --fill-color: #D2E3FC;\n",
       "      --hover-bg-color: #434B5C;\n",
       "      --hover-fill-color: #FFFFFF;\n",
       "      --disabled-bg-color: #3B4455;\n",
       "      --disabled-fill-color: #666;\n",
       "  }\n",
       "\n",
       "  .colab-df-quickchart {\n",
       "    background-color: var(--bg-color);\n",
       "    border: none;\n",
       "    border-radius: 50%;\n",
       "    cursor: pointer;\n",
       "    display: none;\n",
       "    fill: var(--fill-color);\n",
       "    height: 32px;\n",
       "    padding: 0;\n",
       "    width: 32px;\n",
       "  }\n",
       "\n",
       "  .colab-df-quickchart:hover {\n",
       "    background-color: var(--hover-bg-color);\n",
       "    box-shadow: 0 1px 2px rgba(60, 64, 67, 0.3), 0 1px 3px 1px rgba(60, 64, 67, 0.15);\n",
       "    fill: var(--button-hover-fill-color);\n",
       "  }\n",
       "\n",
       "  .colab-df-quickchart-complete:disabled,\n",
       "  .colab-df-quickchart-complete:disabled:hover {\n",
       "    background-color: var(--disabled-bg-color);\n",
       "    fill: var(--disabled-fill-color);\n",
       "    box-shadow: none;\n",
       "  }\n",
       "\n",
       "  .colab-df-spinner {\n",
       "    border: 2px solid var(--fill-color);\n",
       "    border-color: transparent;\n",
       "    border-bottom-color: var(--fill-color);\n",
       "    animation:\n",
       "      spin 1s steps(1) infinite;\n",
       "  }\n",
       "\n",
       "  @keyframes spin {\n",
       "    0% {\n",
       "      border-color: transparent;\n",
       "      border-bottom-color: var(--fill-color);\n",
       "      border-left-color: var(--fill-color);\n",
       "    }\n",
       "    20% {\n",
       "      border-color: transparent;\n",
       "      border-left-color: var(--fill-color);\n",
       "      border-top-color: var(--fill-color);\n",
       "    }\n",
       "    30% {\n",
       "      border-color: transparent;\n",
       "      border-left-color: var(--fill-color);\n",
       "      border-top-color: var(--fill-color);\n",
       "      border-right-color: var(--fill-color);\n",
       "    }\n",
       "    40% {\n",
       "      border-color: transparent;\n",
       "      border-right-color: var(--fill-color);\n",
       "      border-top-color: var(--fill-color);\n",
       "    }\n",
       "    60% {\n",
       "      border-color: transparent;\n",
       "      border-right-color: var(--fill-color);\n",
       "    }\n",
       "    80% {\n",
       "      border-color: transparent;\n",
       "      border-right-color: var(--fill-color);\n",
       "      border-bottom-color: var(--fill-color);\n",
       "    }\n",
       "    90% {\n",
       "      border-color: transparent;\n",
       "      border-bottom-color: var(--fill-color);\n",
       "    }\n",
       "  }\n",
       "</style>\n",
       "\n",
       "      <script>\n",
       "        async function quickchart(key) {\n",
       "          const quickchartButtonEl =\n",
       "            document.querySelector('#' + key + ' button');\n",
       "          quickchartButtonEl.disabled = true;  // To prevent multiple clicks.\n",
       "          quickchartButtonEl.classList.add('colab-df-spinner');\n",
       "          try {\n",
       "            const charts = await google.colab.kernel.invokeFunction(\n",
       "                'suggestCharts', [key], {});\n",
       "          } catch (error) {\n",
       "            console.error('Error during call to suggestCharts:', error);\n",
       "          }\n",
       "          quickchartButtonEl.classList.remove('colab-df-spinner');\n",
       "          quickchartButtonEl.classList.add('colab-df-quickchart-complete');\n",
       "        }\n",
       "        (() => {\n",
       "          let quickchartButtonEl =\n",
       "            document.querySelector('#df-59722b9f-1f05-47d2-b2a5-64c78efa4498 button');\n",
       "          quickchartButtonEl.style.display =\n",
       "            google.colab.kernel.accessAllowed ? 'block' : 'none';\n",
       "        })();\n",
       "      </script>\n",
       "    </div>\n",
       "\n",
       "  <div id=\"id_644fed90-c88f-48d9-badc-b9f12f472cdc\">\n",
       "    <style>\n",
       "      .colab-df-generate {\n",
       "        background-color: #E8F0FE;\n",
       "        border: none;\n",
       "        border-radius: 50%;\n",
       "        cursor: pointer;\n",
       "        display: none;\n",
       "        fill: #1967D2;\n",
       "        height: 32px;\n",
       "        padding: 0 0 0 0;\n",
       "        width: 32px;\n",
       "      }\n",
       "\n",
       "      .colab-df-generate:hover {\n",
       "        background-color: #E2EBFA;\n",
       "        box-shadow: 0px 1px 2px rgba(60, 64, 67, 0.3), 0px 1px 3px 1px rgba(60, 64, 67, 0.15);\n",
       "        fill: #174EA6;\n",
       "      }\n",
       "\n",
       "      [theme=dark] .colab-df-generate {\n",
       "        background-color: #3B4455;\n",
       "        fill: #D2E3FC;\n",
       "      }\n",
       "\n",
       "      [theme=dark] .colab-df-generate:hover {\n",
       "        background-color: #434B5C;\n",
       "        box-shadow: 0px 1px 3px 1px rgba(0, 0, 0, 0.15);\n",
       "        filter: drop-shadow(0px 1px 2px rgba(0, 0, 0, 0.3));\n",
       "        fill: #FFFFFF;\n",
       "      }\n",
       "    </style>\n",
       "    <button class=\"colab-df-generate\" onclick=\"generateWithVariable('df')\"\n",
       "            title=\"Generate code using this dataframe.\"\n",
       "            style=\"display:none;\">\n",
       "\n",
       "  <svg xmlns=\"http://www.w3.org/2000/svg\" height=\"24px\"viewBox=\"0 0 24 24\"\n",
       "       width=\"24px\">\n",
       "    <path d=\"M7,19H8.4L18.45,9,17,7.55,7,17.6ZM5,21V16.75L18.45,3.32a2,2,0,0,1,2.83,0l1.4,1.43a1.91,1.91,0,0,1,.58,1.4,1.91,1.91,0,0,1-.58,1.4L9.25,21ZM18.45,9,17,7.55Zm-12,3A5.31,5.31,0,0,0,4.9,8.1,5.31,5.31,0,0,0,1,6.5,5.31,5.31,0,0,0,4.9,4.9,5.31,5.31,0,0,0,6.5,1,5.31,5.31,0,0,0,8.1,4.9,5.31,5.31,0,0,0,12,6.5,5.46,5.46,0,0,0,6.5,12Z\"/>\n",
       "  </svg>\n",
       "    </button>\n",
       "    <script>\n",
       "      (() => {\n",
       "      const buttonEl =\n",
       "        document.querySelector('#id_644fed90-c88f-48d9-badc-b9f12f472cdc button.colab-df-generate');\n",
       "      buttonEl.style.display =\n",
       "        google.colab.kernel.accessAllowed ? 'block' : 'none';\n",
       "\n",
       "      buttonEl.onclick = () => {\n",
       "        google.colab.notebook.generateWithVariable('df');\n",
       "      }\n",
       "      })();\n",
       "    </script>\n",
       "  </div>\n",
       "\n",
       "    </div>\n",
       "  </div>\n"
      ],
      "text/plain": [
       "            text        lemma  is_punctuation  is_space  shape part_of_speech  \\\n",
       "0       Students      student           False     False  Xxxxx           NOUN   \n",
       "1            are           be           False     False    xxx            AUX   \n",
       "2       learning        learn           False     False   xxxx           VERB   \n",
       "3        Natural      Natural           False     False  Xxxxx          PROPN   \n",
       "4       Language     Language           False     False  Xxxxx          PROPN   \n",
       "5     Processing   Processing           False     False  Xxxxx          PROPN   \n",
       "6           with         with           False     False   xxxx            ADP   \n",
       "7   transformers  transformer           False     False   xxxx           NOUN   \n",
       "8             in           in           False     False     xx            ADP   \n",
       "9            the          the           False     False    xxx            DET   \n",
       "10          W266         W266           False     False   Xddd          PROPN   \n",
       "11         class        class           False     False   xxxx           NOUN   \n",
       "12             .            .            True     False      .          PUNCT   \n",
       "\n",
       "   pos_tag          head       dep  \n",
       "0      NNS      learning     nsubj  \n",
       "1      VBP      learning       aux  \n",
       "2      VBG      learning      ROOT  \n",
       "3      NNP      Language  compound  \n",
       "4      NNP    Processing  compound  \n",
       "5      NNP      learning      dobj  \n",
       "6       IN    Processing      prep  \n",
       "7      NNS          with      pobj  \n",
       "8       IN  transformers      prep  \n",
       "9       DT         class       det  \n",
       "10     NNP         class  compound  \n",
       "11      NN            in      pobj  \n",
       "12       .      learning     punct  "
      ]
     },
     "execution_count": 8,
     "metadata": {},
     "output_type": "execute_result"
    }
   ],
   "source": [
    "df = pd.DataFrame()\n",
    "df['text'] = [token.text for token in w266_doc]\n",
    "df['lemma'] = [token.lemma_ for token in w266_doc]\n",
    "df['is_punctuation'] = [token.is_punct for token in w266_doc]\n",
    "df['is_space'] = [token.is_space for token in w266_doc]\n",
    "df['shape'] = [token.shape_ for token in w266_doc]\n",
    "df['part_of_speech'] = [token.pos_ for token in w266_doc]\n",
    "df['pos_tag'] = [token.tag_ for token in w266_doc]\n",
    "df['head'] = [token.head.text for token in w266_doc]\n",
    "df['dep'] = [token.dep_ for token in w266_doc]\n",
    "\n",
    "df"
   ]
  },
  {
   "cell_type": "markdown",
   "metadata": {
    "id": "awUl7V-bnMIi"
   },
   "source": [
    "\n",
    "\n",
    "[Return to Top](#returnToTop)  \n",
    "<a id = 'spacySVO'></a>\n",
    "\n",
    "### 4.1 SVO Triple Extraction example\n",
    "\n",
    "You can leverage the dependency graph to identify subject-verb-object triples. These can be used to populate a knowledge graph or to extract \"facts\" from text.\n",
    "\n",
    "We need to identify the dependency arc labels that we want to associate with a subject relationship and the labels we want to associate with an object relationship.\n"
   ]
  },
  {
   "cell_type": "code",
   "execution_count": 9,
   "metadata": {
    "colab": {
     "base_uri": "https://localhost:8080/"
    },
    "id": "aKrzZXy_hLnG",
    "outputId": "269ed7a6-537f-42a0-bf9d-7beaf364949a"
   },
   "outputs": [
    {
     "name": "stdout",
     "output_type": "stream",
     "text": [
      "Token On POS: ADP, dep: prep\n",
      "Token the POS: DET, dep: det\n",
      "Token afternoon POS: NOUN, dep: pobj\n",
      "Token of POS: ADP, dep: prep\n",
      "Token November POS: PROPN, dep: pobj\n",
      "Token 19 POS: NUM, dep: nummod\n",
      "Token , POS: PUNCT, dep: punct\n",
      "Token 1863 POS: NUM, dep: nummod\n",
      "Token , POS: PUNCT, dep: punct\n",
      "Token Lincoln POS: PROPN, dep: nsubj\n",
      "Token went POS: VERB, dep: ROOT\n",
      "Token to POS: ADP, dep: prep\n",
      "Token Gettysburg POS: PROPN, dep: pobj\n",
      "Token . POS: PUNCT, dep: punct\n",
      "Token He POS: PRON, dep: nsubj\n",
      "Token gave POS: VERB, dep: ROOT\n",
      "Token his POS: PRON, dep: poss\n",
      "Token famous POS: ADJ, dep: amod\n",
      "Token speech POS: NOUN, dep: dobj\n",
      "Token there POS: ADV, dep: advmod\n",
      "Token . POS: PUNCT, dep: punct\n",
      "Token The POS: DET, dep: det\n",
      "Token Gettysburg POS: PROPN, dep: compound\n",
      "Token Address POS: PROPN, dep: nsubj\n",
      "Token began POS: VERB, dep: ROOT\n",
      "Token with POS: ADP, dep: prep\n",
      "Token four POS: NUM, dep: nummod\n",
      "Token score POS: NOUN, dep: pobj\n",
      "Token and POS: CCONJ, dep: cc\n",
      "Token seven POS: NUM, dep: nummod\n",
      "Token years POS: NOUN, dep: npadvmod\n",
      "Token ago POS: ADV, dep: advmod\n",
      "Token . POS: PUNCT, dep: punct\n"
     ]
    }
   ],
   "source": [
    "#SVO extraction\n",
    "\n",
    "# specify object and subject constants\n",
    "OBJECT_DEPS = {\"dobj\", \"dative\", \"attr\", \"oprd\", \"pobj\"}\n",
    "SUBJECT_DEPS = {\"nsubj\", \"nsubjpass\", \"csubj\", \"agent\", \"expl\"}\n",
    "\n",
    "# extract the subject, object and verb from the input\n",
    "def extract_triples(doc):\n",
    "    sub = []\n",
    "    at = []\n",
    "    ve = []\n",
    "    for token in doc:\n",
    "        # is this a verb?\n",
    "        if token.pos_ == \"VERB\":\n",
    "            ve.append(token.text)\n",
    "            #print(\"append to VERB: \"+token.text)\n",
    "        # is this the object?\n",
    "        if token.dep_ in OBJECT_DEPS or token.head.dep_ in OBJECT_DEPS:\n",
    "            at.append(token.text)\n",
    "            #print(\"append to OBJ: \" + token.text)\n",
    "        # is this the subject?\n",
    "        if token.dep_ in SUBJECT_DEPS or token.head.dep_ in SUBJECT_DEPS:\n",
    "            sub.append(token.text)\n",
    "            #print(\"append to SUBJ: \" + token.text)\n",
    "    return \" \".join(sub).strip().lower(), \" \".join(ve).strip().lower(), \" \".join(at).strip().lower()\n",
    "\n",
    "\n",
    "# print out the pos tags and dependency relation labels\n",
    "for token in nnp_doc:\n",
    "    print(\"Token {} POS: {}, dep: {}\".format(token.text, token.pos_, token.dep_))"
   ]
  },
  {
   "cell_type": "markdown",
   "metadata": {
    "id": "yzjIpM7t9bfQ"
   },
   "source": [
    "We'll process our document again, first dividing it into sentences, and then looping through those sentences to extract SVO triples from each sentence."
   ]
  },
  {
   "cell_type": "code",
   "execution_count": 10,
   "metadata": {
    "colab": {
     "base_uri": "https://localhost:8080/"
    },
    "id": "_F_r-X7IxSdZ",
    "outputId": "497b6706-3085-4d29-f35e-607cb801b38d"
   },
   "outputs": [
    {
     "name": "stdout",
     "output_type": "stream",
     "text": [
      "First three sentences:\n"
     ]
    },
    {
     "data": {
      "text/plain": [
       "['On the afternoon of November 19, 1863, Lincoln went to Gettysburg.',\n",
       " 'He gave his famous speech there.',\n",
       " 'The Gettysburg Address began with four score and seven years ago.']"
      ]
     },
     "execution_count": 10,
     "metadata": {},
     "output_type": "execute_result"
    }
   ],
   "source": [
    "#Let's process our nnp_doc again and split it in to sentences.  We'll then operate on each sentence separetely.\n",
    "sentences = list(nnp_doc.sents)\n",
    "sents = []\n",
    "[sents.append(str(sentence)) for sentence in sentences]\n",
    "print(\"First three sentences:\")\n",
    "sents[0:3]"
   ]
  },
  {
   "cell_type": "markdown",
   "metadata": {
    "id": "4UAs1ur59xM-"
   },
   "source": [
    "Now, let's iterate through the sentences, extract the SVO triples, and display them in a pandas dataframe."
   ]
  },
  {
   "cell_type": "code",
   "execution_count": 11,
   "metadata": {
    "colab": {
     "base_uri": "https://localhost:8080/",
     "height": 143
    },
    "id": "FatrbqfnxSQW",
    "outputId": "a0392c3c-f22b-4475-9d7a-0c40e6c36881"
   },
   "outputs": [
    {
     "data": {
      "application/vnd.google.colaboratory.intrinsic+json": {
       "summary": "{\n  \"name\": \"svo_df\",\n  \"rows\": 3,\n  \"fields\": [\n    {\n      \"column\": \"subj\",\n      \"properties\": {\n        \"dtype\": \"string\",\n        \"num_unique_values\": 3,\n        \"samples\": [\n          \"he\",\n          \"lincoln\",\n          \"the gettysburg address\"\n        ],\n        \"semantic_type\": \"\",\n        \"description\": \"\"\n      }\n    },\n    {\n      \"column\": \"verb\",\n      \"properties\": {\n        \"dtype\": \"string\",\n        \"num_unique_values\": 3,\n        \"samples\": [\n          \"gave\",\n          \"went\",\n          \"began\"\n        ],\n        \"semantic_type\": \"\",\n        \"description\": \"\"\n      }\n    },\n    {\n      \"column\": \"obj\",\n      \"properties\": {\n        \"dtype\": \"string\",\n        \"num_unique_values\": 3,\n        \"samples\": [\n          \"his famous speech\",\n          \"the afternoon of november 19 , 1863 gettysburg\",\n          \"four score and\"\n        ],\n        \"semantic_type\": \"\",\n        \"description\": \"\"\n      }\n    }\n  ]\n}",
       "type": "dataframe"
      },
      "text/html": [
       "\n",
       "  <div id=\"df-6c30fb91-b08a-4a0c-8239-792fb8c2e5f7\" class=\"colab-df-container\">\n",
       "    <div>\n",
       "<style scoped>\n",
       "    .dataframe tbody tr th:only-of-type {\n",
       "        vertical-align: middle;\n",
       "    }\n",
       "\n",
       "    .dataframe tbody tr th {\n",
       "        vertical-align: top;\n",
       "    }\n",
       "\n",
       "    .dataframe thead th {\n",
       "        text-align: right;\n",
       "    }\n",
       "</style>\n",
       "<table border=\"1\" class=\"dataframe\">\n",
       "  <thead>\n",
       "    <tr style=\"text-align: right;\">\n",
       "      <th></th>\n",
       "      <th>subj</th>\n",
       "      <th>verb</th>\n",
       "      <th>obj</th>\n",
       "    </tr>\n",
       "  </thead>\n",
       "  <tbody>\n",
       "    <tr>\n",
       "      <th>1</th>\n",
       "      <td>he</td>\n",
       "      <td>gave</td>\n",
       "      <td>his famous speech</td>\n",
       "    </tr>\n",
       "    <tr>\n",
       "      <th>0</th>\n",
       "      <td>lincoln</td>\n",
       "      <td>went</td>\n",
       "      <td>the afternoon of november 19 , 1863 gettysburg</td>\n",
       "    </tr>\n",
       "    <tr>\n",
       "      <th>2</th>\n",
       "      <td>the gettysburg address</td>\n",
       "      <td>began</td>\n",
       "      <td>four score and</td>\n",
       "    </tr>\n",
       "  </tbody>\n",
       "</table>\n",
       "</div>\n",
       "    <div class=\"colab-df-buttons\">\n",
       "\n",
       "  <div class=\"colab-df-container\">\n",
       "    <button class=\"colab-df-convert\" onclick=\"convertToInteractive('df-6c30fb91-b08a-4a0c-8239-792fb8c2e5f7')\"\n",
       "            title=\"Convert this dataframe to an interactive table.\"\n",
       "            style=\"display:none;\">\n",
       "\n",
       "  <svg xmlns=\"http://www.w3.org/2000/svg\" height=\"24px\" viewBox=\"0 -960 960 960\">\n",
       "    <path d=\"M120-120v-720h720v720H120Zm60-500h600v-160H180v160Zm220 220h160v-160H400v160Zm0 220h160v-160H400v160ZM180-400h160v-160H180v160Zm440 0h160v-160H620v160ZM180-180h160v-160H180v160Zm440 0h160v-160H620v160Z\"/>\n",
       "  </svg>\n",
       "    </button>\n",
       "\n",
       "  <style>\n",
       "    .colab-df-container {\n",
       "      display:flex;\n",
       "      gap: 12px;\n",
       "    }\n",
       "\n",
       "    .colab-df-convert {\n",
       "      background-color: #E8F0FE;\n",
       "      border: none;\n",
       "      border-radius: 50%;\n",
       "      cursor: pointer;\n",
       "      display: none;\n",
       "      fill: #1967D2;\n",
       "      height: 32px;\n",
       "      padding: 0 0 0 0;\n",
       "      width: 32px;\n",
       "    }\n",
       "\n",
       "    .colab-df-convert:hover {\n",
       "      background-color: #E2EBFA;\n",
       "      box-shadow: 0px 1px 2px rgba(60, 64, 67, 0.3), 0px 1px 3px 1px rgba(60, 64, 67, 0.15);\n",
       "      fill: #174EA6;\n",
       "    }\n",
       "\n",
       "    .colab-df-buttons div {\n",
       "      margin-bottom: 4px;\n",
       "    }\n",
       "\n",
       "    [theme=dark] .colab-df-convert {\n",
       "      background-color: #3B4455;\n",
       "      fill: #D2E3FC;\n",
       "    }\n",
       "\n",
       "    [theme=dark] .colab-df-convert:hover {\n",
       "      background-color: #434B5C;\n",
       "      box-shadow: 0px 1px 3px 1px rgba(0, 0, 0, 0.15);\n",
       "      filter: drop-shadow(0px 1px 2px rgba(0, 0, 0, 0.3));\n",
       "      fill: #FFFFFF;\n",
       "    }\n",
       "  </style>\n",
       "\n",
       "    <script>\n",
       "      const buttonEl =\n",
       "        document.querySelector('#df-6c30fb91-b08a-4a0c-8239-792fb8c2e5f7 button.colab-df-convert');\n",
       "      buttonEl.style.display =\n",
       "        google.colab.kernel.accessAllowed ? 'block' : 'none';\n",
       "\n",
       "      async function convertToInteractive(key) {\n",
       "        const element = document.querySelector('#df-6c30fb91-b08a-4a0c-8239-792fb8c2e5f7');\n",
       "        const dataTable =\n",
       "          await google.colab.kernel.invokeFunction('convertToInteractive',\n",
       "                                                    [key], {});\n",
       "        if (!dataTable) return;\n",
       "\n",
       "        const docLinkHtml = 'Like what you see? Visit the ' +\n",
       "          '<a target=\"_blank\" href=https://colab.research.google.com/notebooks/data_table.ipynb>data table notebook</a>'\n",
       "          + ' to learn more about interactive tables.';\n",
       "        element.innerHTML = '';\n",
       "        dataTable['output_type'] = 'display_data';\n",
       "        await google.colab.output.renderOutput(dataTable, element);\n",
       "        const docLink = document.createElement('div');\n",
       "        docLink.innerHTML = docLinkHtml;\n",
       "        element.appendChild(docLink);\n",
       "      }\n",
       "    </script>\n",
       "  </div>\n",
       "\n",
       "\n",
       "    <div id=\"df-f4b99ef5-b46f-47ce-93ab-e74ab1ba62d2\">\n",
       "      <button class=\"colab-df-quickchart\" onclick=\"quickchart('df-f4b99ef5-b46f-47ce-93ab-e74ab1ba62d2')\"\n",
       "                title=\"Suggest charts\"\n",
       "                style=\"display:none;\">\n",
       "\n",
       "<svg xmlns=\"http://www.w3.org/2000/svg\" height=\"24px\"viewBox=\"0 0 24 24\"\n",
       "     width=\"24px\">\n",
       "    <g>\n",
       "        <path d=\"M19 3H5c-1.1 0-2 .9-2 2v14c0 1.1.9 2 2 2h14c1.1 0 2-.9 2-2V5c0-1.1-.9-2-2-2zM9 17H7v-7h2v7zm4 0h-2V7h2v10zm4 0h-2v-4h2v4z\"/>\n",
       "    </g>\n",
       "</svg>\n",
       "      </button>\n",
       "\n",
       "<style>\n",
       "  .colab-df-quickchart {\n",
       "      --bg-color: #E8F0FE;\n",
       "      --fill-color: #1967D2;\n",
       "      --hover-bg-color: #E2EBFA;\n",
       "      --hover-fill-color: #174EA6;\n",
       "      --disabled-fill-color: #AAA;\n",
       "      --disabled-bg-color: #DDD;\n",
       "  }\n",
       "\n",
       "  [theme=dark] .colab-df-quickchart {\n",
       "      --bg-color: #3B4455;\n",
       "      --fill-color: #D2E3FC;\n",
       "      --hover-bg-color: #434B5C;\n",
       "      --hover-fill-color: #FFFFFF;\n",
       "      --disabled-bg-color: #3B4455;\n",
       "      --disabled-fill-color: #666;\n",
       "  }\n",
       "\n",
       "  .colab-df-quickchart {\n",
       "    background-color: var(--bg-color);\n",
       "    border: none;\n",
       "    border-radius: 50%;\n",
       "    cursor: pointer;\n",
       "    display: none;\n",
       "    fill: var(--fill-color);\n",
       "    height: 32px;\n",
       "    padding: 0;\n",
       "    width: 32px;\n",
       "  }\n",
       "\n",
       "  .colab-df-quickchart:hover {\n",
       "    background-color: var(--hover-bg-color);\n",
       "    box-shadow: 0 1px 2px rgba(60, 64, 67, 0.3), 0 1px 3px 1px rgba(60, 64, 67, 0.15);\n",
       "    fill: var(--button-hover-fill-color);\n",
       "  }\n",
       "\n",
       "  .colab-df-quickchart-complete:disabled,\n",
       "  .colab-df-quickchart-complete:disabled:hover {\n",
       "    background-color: var(--disabled-bg-color);\n",
       "    fill: var(--disabled-fill-color);\n",
       "    box-shadow: none;\n",
       "  }\n",
       "\n",
       "  .colab-df-spinner {\n",
       "    border: 2px solid var(--fill-color);\n",
       "    border-color: transparent;\n",
       "    border-bottom-color: var(--fill-color);\n",
       "    animation:\n",
       "      spin 1s steps(1) infinite;\n",
       "  }\n",
       "\n",
       "  @keyframes spin {\n",
       "    0% {\n",
       "      border-color: transparent;\n",
       "      border-bottom-color: var(--fill-color);\n",
       "      border-left-color: var(--fill-color);\n",
       "    }\n",
       "    20% {\n",
       "      border-color: transparent;\n",
       "      border-left-color: var(--fill-color);\n",
       "      border-top-color: var(--fill-color);\n",
       "    }\n",
       "    30% {\n",
       "      border-color: transparent;\n",
       "      border-left-color: var(--fill-color);\n",
       "      border-top-color: var(--fill-color);\n",
       "      border-right-color: var(--fill-color);\n",
       "    }\n",
       "    40% {\n",
       "      border-color: transparent;\n",
       "      border-right-color: var(--fill-color);\n",
       "      border-top-color: var(--fill-color);\n",
       "    }\n",
       "    60% {\n",
       "      border-color: transparent;\n",
       "      border-right-color: var(--fill-color);\n",
       "    }\n",
       "    80% {\n",
       "      border-color: transparent;\n",
       "      border-right-color: var(--fill-color);\n",
       "      border-bottom-color: var(--fill-color);\n",
       "    }\n",
       "    90% {\n",
       "      border-color: transparent;\n",
       "      border-bottom-color: var(--fill-color);\n",
       "    }\n",
       "  }\n",
       "</style>\n",
       "\n",
       "      <script>\n",
       "        async function quickchart(key) {\n",
       "          const quickchartButtonEl =\n",
       "            document.querySelector('#' + key + ' button');\n",
       "          quickchartButtonEl.disabled = true;  // To prevent multiple clicks.\n",
       "          quickchartButtonEl.classList.add('colab-df-spinner');\n",
       "          try {\n",
       "            const charts = await google.colab.kernel.invokeFunction(\n",
       "                'suggestCharts', [key], {});\n",
       "          } catch (error) {\n",
       "            console.error('Error during call to suggestCharts:', error);\n",
       "          }\n",
       "          quickchartButtonEl.classList.remove('colab-df-spinner');\n",
       "          quickchartButtonEl.classList.add('colab-df-quickchart-complete');\n",
       "        }\n",
       "        (() => {\n",
       "          let quickchartButtonEl =\n",
       "            document.querySelector('#df-f4b99ef5-b46f-47ce-93ab-e74ab1ba62d2 button');\n",
       "          quickchartButtonEl.style.display =\n",
       "            google.colab.kernel.accessAllowed ? 'block' : 'none';\n",
       "        })();\n",
       "      </script>\n",
       "    </div>\n",
       "\n",
       "    </div>\n",
       "  </div>\n"
      ],
      "text/plain": [
       "                     subj   verb  \\\n",
       "1                      he   gave   \n",
       "0                 lincoln   went   \n",
       "2  the gettysburg address  began   \n",
       "\n",
       "                                              obj  \n",
       "1                               his famous speech  \n",
       "0  the afternoon of november 19 , 1863 gettysburg  \n",
       "2                                  four score and  "
      ]
     },
     "execution_count": 11,
     "metadata": {},
     "output_type": "execute_result"
    }
   ],
   "source": [
    "# Create empty lists to store all subject, verbs, and objects\n",
    "subjects = []\n",
    "verbs = []\n",
    "objects = []\n",
    "\n",
    "\n",
    "# Grab the SVOs from each parsed input sentence\n",
    "for sent in sents:\n",
    "    doc = nlp(sent)\n",
    "    s,v,o = extract_triples(doc)\n",
    "    subjects.append(s)\n",
    "    verbs.append(v)\n",
    "    objects.append(o)\n",
    "\n",
    "\n",
    "# store them in a df\n",
    "svo_df = pd.DataFrame({'subj':subjects, 'verb':verbs, 'obj':objects})\n",
    "svo_df.sample(3)"
   ]
  },
  {
   "cell_type": "markdown",
   "metadata": {
    "id": "tYfTgvbG78Kb"
   },
   "source": [
    "How well does the system perform on grabbing the subject, verbs, and objects?  Where is it failing? How might we improve the model's performance.\n",
    "\n",
    "We can use these extracted triples to populate a database or to help generate a knowledge graph.\n",
    "\n",
    "That's it for this demo.  Again you are encouraged to experiment with this notebook to build intuition about how systems perform on these tasks."
   ]
  },
  {
   "cell_type": "code",
   "execution_count": 11,
   "metadata": {
    "id": "rUwdBJE4xSCr"
   },
   "outputs": [],
   "source": []
  },
  {
   "cell_type": "markdown",
   "metadata": {
    "id": "nUmK0NG9uqbJ"
   },
   "source": [
    "[Return to Top](#returnToTop)  \n",
    "<a id = 'mistralRE'></a>\n",
    "\n",
    "## Entity and Relation Extraction Example with Mistral 7B -\n",
    "\n",
    "[Mistral 7B](https://huggingface.co/mistralai/Mistral-7B-Instruct-v0.2) is a small but highly performant model. It is also possible to use it commercially. The model has been instruction fine-tuned by Mistral.ai so it should be able to follow our prompts and return good on point output.  We'll also use a quantized version (down to 4 bits thanks to Hugging Face) so we know it can load in our small GPU.  \n",
    "\n",
    "First let's load the libaries necessary for it to work."
   ]
  },
  {
   "cell_type": "code",
   "execution_count": 1,
   "metadata": {
    "id": "2fG9SdStIJn9"
   },
   "outputs": [],
   "source": [
    "%%capture\n",
    "\n",
    "#!pip uninstall -y transformers\n",
    "#!pip install git+https://github.com/huggingface/transformers\n",
    "!pip install -q -U transformers"
   ]
  },
  {
   "cell_type": "code",
   "execution_count": 2,
   "metadata": {
    "id": "ZQfFGDXdPDet"
   },
   "outputs": [],
   "source": [
    "!pip install -q accelerate\n",
    "!pip install -q bitsandbytes"
   ]
  },
  {
   "cell_type": "markdown",
   "metadata": {
    "id": "M9qIL3lA2DLw"
   },
   "source": [
    "Now, let's specify the model we want.  There is no port to TensorFlow yet so we'll use the PyTorch version.  Since we are using the Hugging Face AutoModel classes and only running inference, we don't need to write a lot of PyTorch code."
   ]
  },
  {
   "cell_type": "code",
   "execution_count": 3,
   "metadata": {
    "id": "xoVy0mg4UZGu"
   },
   "outputs": [],
   "source": [
    "import torch\n",
    "import pprint\n",
    "\n",
    "device = \"cuda:0\" if torch.cuda.is_available() else \"cpu\"\n",
    "model_id = \"mistralai/Mistral-7B-Instruct-v0.3\""
   ]
  },
  {
   "cell_type": "markdown",
   "metadata": {
    "id": "-gGE6IQusOrz"
   },
   "source": [
    "The 7 billion parameter model needs about 32GB of GPU memory to run and it might load into an A100 GPU on Google Colab Pro (if one is avaialble).  In order to shrink the memory footprint of the model we can use quantization.  Specifically, we'll shrink the 32 bit floating point number representations down to 4 bits. This is the bits and bytes config file where we specify our quantization arguments.  You can read about it [here](https://huggingface.co/blog/4bit-transformers-bitsandbytes)."
   ]
  },
  {
   "cell_type": "code",
   "execution_count": 4,
   "metadata": {
    "id": "3XzWl0QiTmE1"
   },
   "outputs": [],
   "source": [
    "from transformers import BitsAndBytesConfig\n",
    "\n",
    "\n",
    "nf4_config = BitsAndBytesConfig(\n",
    "   load_in_4bit=True,\n",
    "   bnb_4bit_quant_type=\"nf4\",\n",
    "   bnb_4bit_use_double_quant=True,\n",
    "   bnb_4bit_compute_dtype=torch.bfloat16\n",
    ")\n"
   ]
  },
  {
   "cell_type": "markdown",
   "metadata": {
    "id": "gg0MWHE3tKrE"
   },
   "source": [
    "This model has been trained to work with dialog, meaning instances here have multiple utterance and response pairs to create the context so the model can reply. We'll populate the context with only our prompt and not have any back and forth.\n",
    "\n",
    "First we'll ask the model to identify entities."
   ]
  },
  {
   "cell_type": "code",
   "execution_count": 5,
   "metadata": {
    "id": "q98XLIXmFOLh"
   },
   "outputs": [],
   "source": [
    "myprompt = (\n",
    "    \"Given the text `On the afternoon of November 19, 1863, Lincoln went to Gettysburg. He gave his famous speech there. \"\n",
    "    \" The Gettysburg Address began with four score and seven years ago.` Please identify the people, places,\"\n",
    "    \" and dates in the sentences.  Please output a JSON formatted record with one field for pers:, one for locs:, and date:.\"\n",
    ")"
   ]
  },
  {
   "cell_type": "code",
   "execution_count": 6,
   "metadata": {
    "colab": {
     "base_uri": "https://localhost:8080/",
     "height": 705,
     "referenced_widgets": [
      "cb0d0c4aadbf478b9857914e6960f72d",
      "94c6784ec3f04fcca566fb365d03a5c8",
      "4ba5365e7b434c13b4abda6a702561b5",
      "782cadead2254502b073782c4859a15f",
      "96db349197e54dcc9e5344fcc068b716",
      "f379aec5f8944c6387dbd44f2c6f6332",
      "2efa39644dc34141bb5393b8343dcfb0",
      "b3ba50bb08f54ea8bfe2a244f2a6c2fd",
      "fd28cf4a30b64d27b2740e22f6f79b21",
      "2505d4e89ffa4c458afe77515e0c19b2",
      "1ced332b3200408eaa549c90dca81b63",
      "4fb9f227c5e04a9f8a47a7861f903e8f",
      "c8eaf73a48804d5fbcdbcb91ef950274",
      "1bd4d86816814080ad085c4cfee5d969",
      "4484a97e416049679591a68c8c115ad8",
      "f39152a9d92842b6860829ed3c37b8de",
      "66e1bb0277f04fda995bb4cc4593683f",
      "7dd3379ab19a4048b958ebd3729b6ce4",
      "bd50d973e819449fa19d606d7f7724dc",
      "fe6bef3cf98440b9a9d8a89e71c22901",
      "dc6f4bbe9e2040e693bc81e68dc75d19",
      "e5e3ff484d4c4f0ab84b6254acac57c0",
      "000a5dfaf24d499ca0c92deca56f612a",
      "3cfcfdfec3f543909f932d4b376f55a9",
      "908257faccf04e5bb4e547b08e2551ba",
      "a998a8b18d7e4bd7ad82262dc759a921",
      "18af3d10e673405db9ebabc07134d145",
      "cf2c5ecf41874f4ea73fb8a015cc9c09",
      "ae2e232b806449369b00ae6bd5ab2558",
      "53f43a88aca04b318172f982d49dc491",
      "2227ca8d41264811943ebfda5141d37e",
      "3fc68c92b13c428e80e8ed74dfbb8673",
      "dc1738abf75049ebb5e059372d0fb7cf",
      "027e553175d14758aeeb1e0a7fa7d1e9",
      "d38c53d8283043c5aabc40bc839d7ea5",
      "6e44d9a8aea741acbba1eb9121c367be",
      "cc5c3dcd88cc4f8db76096189ed89eab",
      "49433dc3c13d41388f6ce8895badb74b",
      "25addbc45bfb48a0aa19f09a1d5f1985",
      "735243f8966549f492209bcc45d386d6",
      "93638eb279e44ef4b1166361a90a2d00",
      "343a04137e9d4f77801b5d6b497bae9c",
      "a1badf9072b54e1f8f97445e185394bb",
      "18223bf6b67e4bbdb807a2232ca13ae6",
      "99dd6c3c562f44c091c122843d80a698",
      "ba8ed87b0d6d4572b1c0a39665a24287",
      "d5a473e6bc9e423cbb402530d146e2c6",
      "0b35e5003c044a838e643d752467f4ab",
      "d5979532b61c474f95d6d51e02aa6db0",
      "9513e878df8c443ba8e018872cee3148",
      "cc454f02340e4ec793b3e1bdefe2d2c4",
      "c1be39c197144d22a1bfcec3950552be",
      "ea8ab701afb84f9c8f8eaa3cc2ed2c97",
      "2c6ce2f2733f437fb93d77ed7ec8ffbe",
      "a794fc95100a4962af82327cbe650e66",
      "63d6dcc1fafc4234bc919e287f5c7935",
      "1fcb83d64eb940878a2c3b12e8b01d7b",
      "a92dd76b0fe648aeaa91c0d7e71832f3",
      "9d43ce609dc1470fa78db4b427bd719a",
      "391b1174d70346c9bab7d3c6791eccf1",
      "0f664e8f51dc4364b6840da89110e83b",
      "7266f60d596d4e8a86feeaf5e6025bd3",
      "00ce3a5189584e5e85803bd12fabb2a1",
      "a9d1ee51666b4dd49479acb44d4724e7",
      "ae8df0804cdd42fe991e737cd32cac47",
      "2c788f460a834f47b78308bd80a28494",
      "075dcad1a00640ad95546daab11be59e",
      "9a5d9cd8ae2043da8c61db6047fd2525",
      "8759366f97b9442e885698a7ffa84dc6",
      "e7408e39e87e4020b004ede11d4cf102",
      "42a361ecdfc24af5a655a2a635511df3",
      "efd80f912b334bf9a5d0f826668d8f26",
      "8cb8cf6289ff4ae680a79152c4c10104",
      "0c00fa29824341ff89b249bce8d03d91",
      "7fa3274857f34791851d8d593ad714c1",
      "2ff0e6b8aed84b77a61ae21229466e66",
      "ea420398dbbe450a862a30e36d9fc608",
      "5f7d5d07a6cd4f23a3dfa26ef6202567",
      "660974417e3b48a0822e7bf0be117145",
      "f0f67c67e19c434b85917c88e078d2c5",
      "9a95ee46449543a18d68c09be5da1514",
      "9aa3222db99e444e86613c61067d0d71",
      "bc8773bd35664e02850bad0201360a39",
      "15325731ba2f45dfb5fe63750648dc53",
      "97dec54a2ace47d99244894304eb133a",
      "e9a484081ad440c2b2dc073d115f8af5",
      "ea66c8bc44d7479b8ac300915c72e296",
      "376244e1df6941609be72eb90063f8f9",
      "a0ff5d7e2046472186cbb88b0dbba1b4",
      "f9b1a782666b4ee290b38acb079f6f3b",
      "e2e7f5589f42423fae480642f66c2f64",
      "0bf17258149d445195e7e9dfa1f50053",
      "224abdaf67ae4ef8b341eebe3eccd9e6",
      "cfe96f954c5a429e9f9d28b851473ef4",
      "204075a064c64d47bfb8556222754b84",
      "dcc67fa44001457eb7f25c3a6da93e5b",
      "e4b25fc26e9e486e839b4d75b5b44816",
      "c0901dec2c5048d0a5d61543417c9564",
      "232403403c294578af421ff63fa51c61",
      "25230c81c6c8453caad8774eae8592f5",
      "7c210ec6544445a7bc0c4d311917b1e5",
      "5626256179624c798a06240f234f4eb0",
      "4ed455435fb2461dac9ee2f9a1b498bb",
      "62ff1f1258254efd87297d25579be7fa",
      "1a4c62d2ef734806add7cf36b67e27d8",
      "94769d0cf98644fca7d73a46f25fc0ab",
      "308e880b4f584da9b245bc2398bebda2",
      "69ac2aa0c63a48b1ab256ba9acdd698c",
      "57f232e3ab91459caab16cf40041c852",
      "3af0dcc5361a4c449dd34af97ee86abc",
      "2bb6a1870e1b4fa280630ce359914aa2",
      "0a8328e51b0c4a53b0d07477b05e8700",
      "68a511c2ad26455c993d2c30cbd6ffca",
      "4683fdaa37ae459ca3fd240aac518406",
      "31249e5d802944fa9f9f4bf132de5611",
      "a243da44ee334ca9b5f2fd0b51dff439",
      "c28bf669fa794993890bf0adb4beb3d1",
      "76c5b7c5af6c4643b73bc865933d8761",
      "60a8c47334404d1ca814b67232ff2a24",
      "bc1305bbc3fb47c0b0399b468c60e4fa",
      "73e1e1c3feaa4fe9bc645d7d1abcb9b9",
      "c15531c7b04340b1893022d3135121ad",
      "2b02f61898ca4d0c8db8f4de86e5208e",
      "d441e59c5ed34484b82f8a1064b840b0",
      "8c0d48437f5e45e687b380ab843cc0f3",
      "f411c5c7d45248899a2e65b2484e2c34",
      "94622c0f7f26409f91fbdea7a6732967",
      "1f2258676f4c4bda9a86e7ac45e527dd",
      "276baa8b0bfa4797a234a186e82fdc9a",
      "d30b7ba40a214cb097c5de0c5a58bc76",
      "6879d962a97143999a058cd9ee6b10ec",
      "bce7da3b5eb040f79aef028ad3f05657"
     ]
    },
    "id": "h_Y4mTGQHVf3",
    "outputId": "a007a278-c305-4ce1-cb77-ee5a7b433540"
   },
   "outputs": [
    {
     "data": {
      "application/vnd.jupyter.widget-view+json": {
       "model_id": "cb0d0c4aadbf478b9857914e6960f72d",
       "version_major": 2,
       "version_minor": 0
      },
      "text/plain": [
       "config.json:   0%|          | 0.00/601 [00:00<?, ?B/s]"
      ]
     },
     "metadata": {},
     "output_type": "display_data"
    },
    {
     "data": {
      "application/vnd.jupyter.widget-view+json": {
       "model_id": "4fb9f227c5e04a9f8a47a7861f903e8f",
       "version_major": 2,
       "version_minor": 0
      },
      "text/plain": [
       "model.safetensors.index.json:   0%|          | 0.00/23.9k [00:00<?, ?B/s]"
      ]
     },
     "metadata": {},
     "output_type": "display_data"
    },
    {
     "data": {
      "application/vnd.jupyter.widget-view+json": {
       "model_id": "000a5dfaf24d499ca0c92deca56f612a",
       "version_major": 2,
       "version_minor": 0
      },
      "text/plain": [
       "Fetching 3 files:   0%|          | 0/3 [00:00<?, ?it/s]"
      ]
     },
     "metadata": {},
     "output_type": "display_data"
    },
    {
     "data": {
      "application/vnd.jupyter.widget-view+json": {
       "model_id": "027e553175d14758aeeb1e0a7fa7d1e9",
       "version_major": 2,
       "version_minor": 0
      },
      "text/plain": [
       "model-00003-of-00003.safetensors:   0%|          | 0.00/4.55G [00:00<?, ?B/s]"
      ]
     },
     "metadata": {},
     "output_type": "display_data"
    },
    {
     "data": {
      "application/vnd.jupyter.widget-view+json": {
       "model_id": "99dd6c3c562f44c091c122843d80a698",
       "version_major": 2,
       "version_minor": 0
      },
      "text/plain": [
       "model-00002-of-00003.safetensors:   0%|          | 0.00/5.00G [00:00<?, ?B/s]"
      ]
     },
     "metadata": {},
     "output_type": "display_data"
    },
    {
     "data": {
      "application/vnd.jupyter.widget-view+json": {
       "model_id": "63d6dcc1fafc4234bc919e287f5c7935",
       "version_major": 2,
       "version_minor": 0
      },
      "text/plain": [
       "model-00001-of-00003.safetensors:   0%|          | 0.00/4.95G [00:00<?, ?B/s]"
      ]
     },
     "metadata": {},
     "output_type": "display_data"
    },
    {
     "data": {
      "application/vnd.jupyter.widget-view+json": {
       "model_id": "075dcad1a00640ad95546daab11be59e",
       "version_major": 2,
       "version_minor": 0
      },
      "text/plain": [
       "Loading checkpoint shards:   0%|          | 0/3 [00:00<?, ?it/s]"
      ]
     },
     "metadata": {},
     "output_type": "display_data"
    },
    {
     "data": {
      "application/vnd.jupyter.widget-view+json": {
       "model_id": "5f7d5d07a6cd4f23a3dfa26ef6202567",
       "version_major": 2,
       "version_minor": 0
      },
      "text/plain": [
       "generation_config.json:   0%|          | 0.00/116 [00:00<?, ?B/s]"
      ]
     },
     "metadata": {},
     "output_type": "display_data"
    },
    {
     "data": {
      "application/vnd.jupyter.widget-view+json": {
       "model_id": "a0ff5d7e2046472186cbb88b0dbba1b4",
       "version_major": 2,
       "version_minor": 0
      },
      "text/plain": [
       "tokenizer_config.json:   0%|          | 0.00/141k [00:00<?, ?B/s]"
      ]
     },
     "metadata": {},
     "output_type": "display_data"
    },
    {
     "data": {
      "application/vnd.jupyter.widget-view+json": {
       "model_id": "25230c81c6c8453caad8774eae8592f5",
       "version_major": 2,
       "version_minor": 0
      },
      "text/plain": [
       "tokenizer.model:   0%|          | 0.00/587k [00:00<?, ?B/s]"
      ]
     },
     "metadata": {},
     "output_type": "display_data"
    },
    {
     "data": {
      "application/vnd.jupyter.widget-view+json": {
       "model_id": "2bb6a1870e1b4fa280630ce359914aa2",
       "version_major": 2,
       "version_minor": 0
      },
      "text/plain": [
       "tokenizer.json:   0%|          | 0.00/1.96M [00:00<?, ?B/s]"
      ]
     },
     "metadata": {},
     "output_type": "display_data"
    },
    {
     "data": {
      "application/vnd.jupyter.widget-view+json": {
       "model_id": "c15531c7b04340b1893022d3135121ad",
       "version_major": 2,
       "version_minor": 0
      },
      "text/plain": [
       "special_tokens_map.json:   0%|          | 0.00/414 [00:00<?, ?B/s]"
      ]
     },
     "metadata": {},
     "output_type": "display_data"
    },
    {
     "name": "stdout",
     "output_type": "stream",
     "text": [
      "('<s> Given the text `On the afternoon of November 19, 1863, Lincoln went to '\n",
      " 'Gettysburg. He gave his famous speech there.  The Gettysburg Address began '\n",
      " 'with four score and seven years ago.` Please identify the people, places, '\n",
      " 'and dates in the sentences.  Please output a JSON formatted record with one '\n",
      " 'field for pers:, one for locs:, and date:.\\n'\n",
      " '\\n'\n",
      " '```\\n'\n",
      " '{\\n'\n",
      " '  \"pers\": [\\n'\n",
      " '    {\"name\": \"Lincoln\", \"role\": \"speaker\"}\\n'\n",
      " '  ],\\n'\n",
      " '  \"locs\": [\\n'\n",
      " '    {\"name\": \"Gettysburg\"}\\n'\n",
      " '  ],\\n'\n",
      " '  \"dates\": [\"1863-11-19\"]\\n'\n",
      " '}\\n'\n",
      " '```</s>')\n"
     ]
    }
   ],
   "source": [
    "#Note: It can take up to 3 minutes to download this model\n",
    "\n",
    "from transformers import AutoModelForCausalLM, AutoTokenizer\n",
    "\n",
    "device = \"cuda\" # the device to load the model onto\n",
    "\n",
    "model = AutoModelForCausalLM.from_pretrained(model_id, quantization_config=nf4_config)\n",
    "tokenizer = AutoTokenizer.from_pretrained(model_id)\n",
    "\n",
    "messages = [\n",
    "    {\"role\": \"user\", \"content\": myprompt}\n",
    "]\n",
    "\n",
    "encodeds = tokenizer.apply_chat_template(messages, return_tensors=\"pt\")\n",
    "\n",
    "model_inputs = encodeds.to(device)\n",
    "\n",
    "\n",
    "# Generate attention mask and input_ids separately\n",
    "model_inputs = tokenizer(myprompt, return_tensors=\"pt\").to(device)\n",
    "generated_ids = model.generate(**model_inputs, max_new_tokens=1000, do_sample=True, pad_token_id=tokenizer.eos_token_id)\n",
    "\n",
    "decoded = tokenizer.batch_decode(generated_ids)\n",
    "pprint.pprint(decoded[0], compact=True)"
   ]
  },
  {
   "cell_type": "markdown",
   "metadata": {
    "id": "bYlqYNlNBYsw"
   },
   "source": [
    "Let's try a better, more complex prompt that extracts entities.  The prompt is based on work found in [this paper](https://arxiv.org/pdf/2305.15444.pdf) by Ashok and Lipton on prompting for NER."
   ]
  },
  {
   "cell_type": "code",
   "execution_count": 7,
   "metadata": {
    "colab": {
     "base_uri": "https://localhost:8080/"
    },
    "id": "vNidqDXeutrY",
    "outputId": "25584c05-4815-4022-8f26-741200639b42"
   },
   "outputs": [
    {
     "name": "stdout",
     "output_type": "stream",
     "text": [
      "('<s> Definition: An entity is a person (person), university (university), '\n",
      " 'scientist(scientist), event(event), award(award) or theory(theory). Abstract '\n",
      " 'scientific concepts can be entities if they have a name associated with '\n",
      " 'them. If an entity does not fit the the types above it is (misc). Dates, '\n",
      " 'times, adjectives and verbs are not entities.Given the paragraph below, '\n",
      " 'identify a list of possible entities and for each entry explain why it '\n",
      " 'either is or is not an entity:Paragraph: `On the afternoon of November 19, '\n",
      " '1863, Lincoln went to Gettysburg. He gave his famous speech there.  The '\n",
      " 'Gettysburg Address began with four score and seven years ago.`  Entities:\\n'\n",
      " '\\n'\n",
      " '1. Lincoln - It is an individual (person)\\n'\n",
      " '2. November 19, 1863 - This is a date, it is not an entity.\\n'\n",
      " '3. Gettysburg - It is a physical location (place), it is an entity.\\n'\n",
      " '4. The Gettysburg Address - It is a speech (event), it is an entity.\\n'\n",
      " '5. Four score and seven years ago -This is a phrase, it is not an entity.\\n'\n",
      " '6. 4 (number) - This is a number, it is not an entity.\\n'\n",
      " '7. Seven (number) - This is a number, it is not an entity.\\n'\n",
      " '8. years ago - This is a phrase, it is not an entity.\\n'\n",
      " '9. ago (abbreviation) - This is an abbreviation, it is not an entity.</s>')\n"
     ]
    }
   ],
   "source": [
    "myprompt = (\n",
    "        \"Definition: An entity is a person (person), university (university), scientist(scientist), event(event), award(award) or theory(theory). \"\n",
    "        \"Abstract scientific concepts can be entities if they have a name associated with them. If an entity does not fit the the types above it is (misc). \"\n",
    "        \"Dates, times, adjectives and verbs are not entities.\"\n",
    "        \"Given the paragraph below, identify a list of possible entities and for each entry explain why it either is or is not an entity:\"\n",
    "        \"Paragraph: `On the afternoon of November 19, 1863, Lincoln went to Gettysburg. He gave his famous speech there. \"\n",
    "        \" The Gettysburg Address began with four score and seven years ago.` \"\n",
    ")\n",
    "\n",
    "messages = [\n",
    "    {\"role\": \"user\", \"content\": myprompt}\n",
    "]\n",
    "\n",
    "encodeds = tokenizer.apply_chat_template(messages, return_tensors=\"pt\")\n",
    "# encodeds = encodeds.to(device)\n",
    "model_inputs = encodeds.to(device)\n",
    "\n",
    "# Set the pad_token_id and use attention_mask\n",
    "# generated_ids = model.generate(encodeds, max_new_tokens=1000, do_sample=True, pad_token_id=tokenizer.eos_token_id, attention_mask=encodeds.attention_mask)\n",
    "\n",
    "# Generate attention mask and input_ids separately\n",
    "model_inputs = tokenizer(myprompt, return_tensors=\"pt\").to(device)\n",
    "generated_ids = model.generate(**model_inputs, max_new_tokens=1000, do_sample=True, pad_token_id=tokenizer.eos_token_id)\n",
    "\n",
    "\n",
    "decoded = tokenizer.batch_decode(generated_ids)\n",
    "pprint.pprint(decoded[0], compact=True)"
   ]
  },
  {
   "cell_type": "markdown",
   "metadata": {
    "id": "eFeCqzFHCnFR"
   },
   "source": [
    "Let's see if we can get the LLM to do relation extraction in addition to the entity detection as seen in [this paper](https://aclanthology.org/2023.acl-long.868.pdf) by Wadhwa, Amir, and Wallace.  We'll modify our prompt to define entities and relations and then ask the LLM to identify them both along with providing an explanation.  How well do you think it does?  What might we do to improve accuracy?"
   ]
  },
  {
   "cell_type": "code",
   "execution_count": 8,
   "metadata": {
    "colab": {
     "base_uri": "https://localhost:8080/"
    },
    "id": "TtWWFWpNN3Sm",
    "outputId": "2b38b5e0-3481-4245-a79e-341240a82f71"
   },
   "outputs": [
    {
     "name": "stderr",
     "output_type": "stream",
     "text": [
      "The attention mask and the pad token id were not set. As a consequence, you may observe unexpected behavior. Please pass your input's `attention_mask` to obtain reliable results.\n",
      "Setting `pad_token_id` to `eos_token_id`:2 for open-end generation.\n",
      "The attention mask is not set and cannot be inferred from input because pad token is same as eos token. As a consequence, you may observe unexpected behavior. Please pass your input's `attention_mask` to obtain reliable results.\n"
     ]
    },
    {
     "name": "stdout",
     "output_type": "stream",
     "text": [
      "('<s>[INST] Definition: An entity is a person (person), location (location), '\n",
      " 'organization (organization), event(event), award(award) or theory(theory). '\n",
      " 'Abstract scientific concepts can be entities if they have a name associated '\n",
      " 'with them. If an entity does not fit the the types above it is (misc). '\n",
      " 'Dates, times, adjectives and verbs are not entities.List the entities of the '\n",
      " 'types [LOCATION, ORGANIZATION, PERSON] and relations of types [Organization '\n",
      " 'Based In, Work For, Located In, Live In, Killed By, Travel To] among the '\n",
      " 'entities in the given text. Given the paragraph below, identify a list of '\n",
      " 'possible entities and for each entry explain why it either is or is not an '\n",
      " 'entity: Paragraph: `on the evening of April 14th, 1865, Abraham Lincoln went '\n",
      " 'to The Ford Theater in Washington D.C., where he was assasinated by John '\n",
      " 'Wilkes Booth. Wilkes, a resident of Maryland, was a known Confederate '\n",
      " 'sympathizer. [/INST] Entities:\\n'\n",
      " '\\n'\n",
      " '1. Abraham Lincoln (Person) - He is a named individual referred to in the '\n",
      " 'text.\\n'\n",
      " '2. The Ford Theater (Location) - It is a specific place mentioned in the '\n",
      " 'text.\\n'\n",
      " '3. Washington D.C. (Location) - It is the city where the Ford Theater is '\n",
      " 'located, mentioned in the text.\\n'\n",
      " '4. John Wilkes Booth (Person) - He is the person who assassinated Abraham '\n",
      " 'Lincoln, mentioned in the text.\\n'\n",
      " '5. Maryland (Location) - It is the place where John Wilkes Booth is '\n",
      " 'identified as a resident.\\n'\n",
      " '\\n'\n",
      " 'Relations (note that \"was\" and \"where\" are connecting the entities in the '\n",
      " 'relations):\\n'\n",
      " '\\n'\n",
      " '1. Abraham Lincoln Went To (Relation between Abraham Lincoln and The Ford '\n",
      " 'Theater)\\n'\n",
      " '2. Abraham Lincoln was Assassinated By (Relation between Abraham Lincoln and '\n",
      " 'John Wilkes Booth)\\n'\n",
      " '3. John Wilkes Booth was a Resident Of (Relation between John Wilkes Booth '\n",
      " 'and Maryland)\\n'\n",
      " '\\n'\n",
      " 'The other terms and phrases in the paragraph, such as \"evening\", \"April '\n",
      " '14th\", \"1865\", \"Confederate sympathizer\", and \"known\" do not fit the '\n",
      " 'definition of an entity because they are not specific named individuals, '\n",
      " 'places, organizations, events, theories, or miscellaneous concepts. They are '\n",
      " 'instead descriptive information or temporal and historical context.</s>')\n"
     ]
    }
   ],
   "source": [
    "myprompt = (\n",
    "        \"Definition: An entity is a person (person), location (location), organization (organization), event(event), award(award) or theory(theory). \"\n",
    "        \"Abstract scientific concepts can be entities if they have a name associated with them. If an entity does not fit the the types above it is (misc). \"\n",
    "        \"Dates, times, adjectives and verbs are not entities.\"\n",
    "        \"List the entities of the types [LOCATION, ORGANIZATION, PERSON] and relations of types [Organization Based In, Work For, Located In, \"\n",
    "        \"Live In, Killed By, Travel To] among the entities in the given text. \"\n",
    "        \"Given the paragraph below, identify a list of possible entities and for each entry explain why it either is or is not an entity: \"\n",
    "        \"Paragraph: `on the evening of April 14th, 1865, Abraham Lincoln went to The Ford Theater in Washington D.C., where he was assasinated by John Wilkes Booth. \"\n",
    "        \"Wilkes, a resident of Maryland, was a known Confederate sympathizer. \"\n",
    ")\n",
    "\n",
    "messages = [\n",
    "    {\"role\": \"user\", \"content\": myprompt}\n",
    "]\n",
    "\n",
    "encodeds = tokenizer.apply_chat_template(messages, return_tensors=\"pt\")\n",
    "encodeds = encodeds.to(device)\n",
    "model_inputs = encodeds.to(device)\n",
    "\n",
    "\n",
    "generated_ids = model.generate(encodeds, max_new_tokens=1000, do_sample=True)\n",
    "decoded = tokenizer.batch_decode(generated_ids)\n",
    "pprint.pprint(decoded[0], compact=True)"
   ]
  },
  {
   "cell_type": "markdown",
   "metadata": {
    "id": "d6Gh1U-ynIbT"
   },
   "source": [
    "\n",
    "\n",
    "[Return to Top](#returnToTop)  \n",
    "<a id = 'classExercise'></a>"
   ]
  }
 ],
 "metadata": {
  "accelerator": "GPU",
  "colab": {
   "gpuType": "T4",
   "provenance": []
  },
  "kernelspec": {
   "display_name": "Python 3 (ipykernel)",
   "language": "python",
   "name": "python3"
  },
  "language_info": {
   "codemirror_mode": {
    "name": "ipython",
    "version": 3
   },
   "file_extension": ".py",
   "mimetype": "text/x-python",
   "name": "python",
   "nbconvert_exporter": "python",
   "pygments_lexer": "ipython3",
   "version": "3.11.5"
  }
 },
 "nbformat": 4,
 "nbformat_minor": 1
}
