{
 "cells": [
  {
   "cell_type": "markdown",
   "metadata": {
    "id": "tZlXf6kO21U0"
   },
   "source": [
    "# [Parameter efficient fine tuning using LORA](https://arxiv.org/pdf/2106.09685.pdf)\n",
    "\n",
    "LoRA is a relatively new technique for adapting LLMs to specific downstream tasks. LoRA works by freezing the pre trained model weights and and injecting trainable rank decomposition matrices into each layer of the transformer architecture. This greatly reduces the number of trainable parameters required, and hence reducing the resources required i.e. reduced memory usage while training, and reduced disk space for checkpoints. This allows for fine tuning of relatively large models using basic hardware. This example uses [huggingface PEFT](https://huggingface.co/docs/diffusers/training/lora) libraries that use the LORA technique for parameter efficient fine tuning of Roberta-Large (355M parameters).\n",
    "\n",
    "This work is built on the premise that pre trained models have a low intrinsic \"rank\" i.e. The number of linearly independent rows or columns. Therefore it follow that changes in these pre trained weights as a result of task specific fune tuning must also has a low intrinsic rank.\n",
    "\n",
    "Assuming the base model weights to be $W_ox$ and $\\varDelta Wx$ to be the changes due to fine tuning, then the fine tuned weights can be expressed as $h=Wox+\\varDelta Wx$. Further the LoRA adapters create a low rank decomposition $\\varDelta Wx = BA$ resulting in $h=W_0x+BAx$\n",
    "\n",
    "Concrete example:\n",
    "If a weight matrix is of size = $d=5000$, $k=3000$, $d \\times k = 15,000,000$ parameters; using $r=6$ we get $(d \\times r) + (r \\times k) = 30000 + 18000 = 48,000$ parameters, which is 0.3% of the size\n",
    "\n"
   ]
  },
  {
   "cell_type": "markdown",
   "metadata": {
    "id": "Q385kDEqJCrn"
   },
   "source": [
    "![Screenshot 2023-09-17 at 8.22.29 AM.png](data:image/png;base64,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)"
   ]
  },
  {
   "cell_type": "code",
   "execution_count": 1,
   "metadata": {
    "id": "IyxSGCmfv_xS"
   },
   "outputs": [],
   "source": [
    "!pip install -q -U datasets\n",
    "!pip install -q -U transformers[torch]\n",
    "!pip install -q -U evaluate\n",
    "!pip install -q -U peft\n",
    "!pip install -q -U accelerate"
   ]
  },
  {
   "cell_type": "code",
   "execution_count": 2,
   "metadata": {
    "id": "MHVkdounwhql"
   },
   "outputs": [],
   "source": [
    "from datasets import load_dataset\n",
    "from transformers import (\n",
    "    AutoModelForSequenceClassification,\n",
    "    AutoTokenizer,\n",
    "    TrainingArguments,\n",
    "    Trainer,\n",
    ")\n",
    "from peft import get_peft_config, PeftModel, PeftConfig, get_peft_model, LoraConfig, TaskType\n",
    "import evaluate\n",
    "import torch\n",
    "import numpy as np\n",
    "\n",
    "model_checkpoint = \"roberta-large\"\n",
    "lr = 1e-5\n",
    "batch_size = 8\n",
    "num_epochs = 2\n"
   ]
  },
  {
   "cell_type": "markdown",
   "metadata": {
    "id": "K-G0QXKx5t_r"
   },
   "source": [
    "### Set LORA specific hyperparameters\n",
    "\n",
    "`r` is the rank of the"
   ]
  },
  {
   "cell_type": "code",
   "execution_count": 3,
   "metadata": {
    "id": "ln4LuCHO5tVa"
   },
   "outputs": [],
   "source": [
    "r = 8\n",
    "lora_alpha = 32\n",
    "lora_dropout = 0.1"
   ]
  },
  {
   "cell_type": "markdown",
   "metadata": {
    "id": "TohH3MjG59lF"
   },
   "source": [
    "## Load IMDB Dataset\n",
    "reduce dataset size to 10K to reduce tuning time"
   ]
  },
  {
   "cell_type": "code",
   "execution_count": 4,
   "metadata": {
    "id": "zx1WFvf6wpeM"
   },
   "outputs": [],
   "source": [
    "imdb = load_dataset(\"imdb\")\n",
    "for key in imdb.keys():\n",
    "    imdb[key] = imdb[key].shuffle().select((range(10000)))\n"
   ]
  },
  {
   "cell_type": "markdown",
   "metadata": {
    "id": "hYqistmF6JtI"
   },
   "source": [
    "## This function gets used during evaluation"
   ]
  },
  {
   "cell_type": "code",
   "execution_count": 5,
   "metadata": {
    "id": "NdoC6hdQxHYq"
   },
   "outputs": [],
   "source": [
    "metric = evaluate.load('accuracy')\n",
    "\n",
    "def compute_metrics(p):\n",
    "    predictions, labels = p\n",
    "    predictions = np.argmax(predictions, axis=1)\n",
    "    return metric.compute(predictions=predictions, references=labels)\n"
   ]
  },
  {
   "cell_type": "markdown",
   "metadata": {
    "id": "ixpc0a-Y6TxW"
   },
   "source": [
    "## Tokenize input text"
   ]
  },
  {
   "cell_type": "code",
   "execution_count": 6,
   "metadata": {
    "id": "CB9g9TeYxMeq"
   },
   "outputs": [],
   "source": [
    "tokenizer = AutoTokenizer.from_pretrained(model_checkpoint)"
   ]
  },
  {
   "cell_type": "code",
   "execution_count": 7,
   "metadata": {
    "id": "x6C9rxgSxPOa"
   },
   "outputs": [],
   "source": [
    "def tokenize(examples):\n",
    "    tokenized_inputs = tokenizer(examples[\"text\"], truncation=True, padding=\"max_length\", max_length=512)\n",
    "\n",
    "    return tokenized_inputs\n"
   ]
  },
  {
   "cell_type": "code",
   "execution_count": 8,
   "metadata": {
    "colab": {
     "base_uri": "https://localhost:8080/",
     "height": 113,
     "referenced_widgets": [
      "d52a00524aea442bbb6f4e472dce1292",
      "5a2c845647cd4bf0ba6820f8895b99a5",
      "f17b41df1f264ac88613e570b02e69a2",
      "e8d3d40201884ab0a7ccbada0ab46fa3",
      "f600ce734e9847e296b87bfd4ed4d4c2",
      "c51a8723c9454f01ac3635113cde49e7",
      "52266194e7f742a8aa51e424301a354c",
      "0d21f9bdb74047a5996395187a5deadf",
      "d88e016fa5d54124b27b611be74706ac",
      "25aca01c6ac44640b6a0a98858ba13ca",
      "2959311814f242b6b3167fc7185aae36",
      "e578e6f7c14049fb916d5998bee21c39",
      "a9b70a148a93446f8d32bc8b7a4c8092",
      "a649f7e683f6499f8009c1b9ddd4a12a",
      "f3b0659027d44a2c858b3e9f20b23d40",
      "d480fd4d537e431ab43074a3259481a1",
      "d9110b82bf1c4dc88b349c07e3aed068",
      "7d56f77ba14b4d0c8257b938cb535fa4",
      "78ae5336052e4520949212be3351558e",
      "4093440f206d41eca9d0687d26a526de",
      "4208053b3868491ba712f35540d1ea54",
      "3a1c2867c8414b1d8407ab5f694d6dc5",
      "1f25a7c8fc3e48b0ba45cc026aabaa3f",
      "be39a4e0be1b4079bc11df5b255a17eb",
      "2b8df290c7e94e828d861c1df570a5ef",
      "f862132f59864b3aab534ab20da1232a",
      "174e0907b08e490ebe18bde8449324aa",
      "545b7fe95c81425aad5ea70c1e61dade",
      "eac809b8b3d94d1e8efc74d518d1ebe6",
      "c6b2d9c4dfb8465abb8e380009451c92",
      "4ffe9dd6dd2d4234b3292bdfd9347833",
      "443275af54964184a21c5836034825f7",
      "5fd613941abc4001b48adc1498ef34c5"
     ]
    },
    "id": "YVtgbZsaxSCC",
    "outputId": "5e53b41c-2d9d-4a8f-c57a-a08419902904"
   },
   "outputs": [
    {
     "data": {
      "application/vnd.jupyter.widget-view+json": {
       "model_id": "d52a00524aea442bbb6f4e472dce1292",
       "version_major": 2,
       "version_minor": 0
      },
      "text/plain": [
       "Map:   0%|          | 0/10000 [00:00<?, ? examples/s]"
      ]
     },
     "metadata": {},
     "output_type": "display_data"
    },
    {
     "data": {
      "application/vnd.jupyter.widget-view+json": {
       "model_id": "e578e6f7c14049fb916d5998bee21c39",
       "version_major": 2,
       "version_minor": 0
      },
      "text/plain": [
       "Map:   0%|          | 0/10000 [00:00<?, ? examples/s]"
      ]
     },
     "metadata": {},
     "output_type": "display_data"
    },
    {
     "data": {
      "application/vnd.jupyter.widget-view+json": {
       "model_id": "1f25a7c8fc3e48b0ba45cc026aabaa3f",
       "version_major": 2,
       "version_minor": 0
      },
      "text/plain": [
       "Map:   0%|          | 0/10000 [00:00<?, ? examples/s]"
      ]
     },
     "metadata": {},
     "output_type": "display_data"
    }
   ],
   "source": [
    "tokenized_imdb = imdb.map(tokenize, batched=True)\n"
   ]
  },
  {
   "cell_type": "markdown",
   "metadata": {
    "id": "n60ddrYf6ZaY"
   },
   "source": [
    "## Load classification model.\n",
    "\n",
    "`AutoModelForSequenceClassification` is a Generic huggingface transformers library that has a classification head on top of model outputs. We freeze the model layers explicitly since the LORA adapters will be used to train smaller weight matrices"
   ]
  },
  {
   "cell_type": "code",
   "execution_count": 9,
   "metadata": {
    "colab": {
     "base_uri": "https://localhost:8080/"
    },
    "id": "Ym2lkBDKyZE-",
    "outputId": "02155b31-3447-4fa2-efd5-a56e8340e24f"
   },
   "outputs": [
    {
     "name": "stderr",
     "output_type": "stream",
     "text": [
      "Some weights of RobertaForSequenceClassification were not initialized from the model checkpoint at roberta-large and are newly initialized: ['classifier.dense.bias', 'classifier.dense.weight', 'classifier.out_proj.bias', 'classifier.out_proj.weight']\n",
      "You should probably TRAIN this model on a down-stream task to be able to use it for predictions and inference.\n"
     ]
    }
   ],
   "source": [
    "id2label = {\n",
    "    0: \"neg\",\n",
    "    1: \"pos\"\n",
    "}\n",
    "\n",
    "label2id = {\n",
    "    \"neg\": 0,\n",
    "    \"pos\": 1\n",
    "}\n",
    "\n",
    "model = AutoModelForSequenceClassification.from_pretrained(\n",
    "    model_checkpoint, num_labels=2, id2label=id2label, label2id=label2id\n",
    ")\n",
    "for name, param in model.named_parameters():\n",
    "    param.requires_grad = False"
   ]
  },
  {
   "cell_type": "markdown",
   "metadata": {
    "id": "5M_bzjgb7Zhj"
   },
   "source": [
    "## LORA setup\n",
    "setup the lora config and call function to get the peft version of the model that adds the extra adapters and layers"
   ]
  },
  {
   "cell_type": "code",
   "execution_count": 10,
   "metadata": {
    "id": "n16E6JyVycZ-"
   },
   "outputs": [],
   "source": [
    "peft_config = LoraConfig(\n",
    "    task_type=TaskType.SEQ_CLS, inference_mode=False, r=r, lora_alpha=lora_alpha, lora_dropout=lora_dropout\n",
    ")"
   ]
  },
  {
   "cell_type": "code",
   "execution_count": 11,
   "metadata": {
    "colab": {
     "base_uri": "https://localhost:8080/"
    },
    "id": "bNtxP_Xhyeku",
    "outputId": "e0768223-775e-48b0-8f06-b5605bb45295"
   },
   "outputs": [
    {
     "name": "stdout",
     "output_type": "stream",
     "text": [
      "trainable params: 1,838,082 || all params: 357,199,876 || trainable%: 0.5146\n"
     ]
    }
   ],
   "source": [
    "model = get_peft_model(model, peft_config)\n",
    "model.print_trainable_parameters()\n"
   ]
  },
  {
   "cell_type": "code",
   "execution_count": 12,
   "metadata": {
    "id": "eg3TxuScygON"
   },
   "outputs": [],
   "source": [
    "_= model.to(\"cuda\")"
   ]
  },
  {
   "cell_type": "markdown",
   "metadata": {
    "id": "ez9zyYab8EZh"
   },
   "source": [
    "## Setup training arguments and train model"
   ]
  },
  {
   "cell_type": "code",
   "execution_count": 13,
   "metadata": {
    "id": "wSFme-2lymi9"
   },
   "outputs": [],
   "source": [
    "training_args = TrainingArguments(\n",
    "    output_dir=\"roberta-large-lora-sequence-classification\",\n",
    "    learning_rate=lr,\n",
    "    per_device_train_batch_size=batch_size,\n",
    "    per_device_eval_batch_size=batch_size,\n",
    "    num_train_epochs=num_epochs,\n",
    "    weight_decay=0.01,\n",
    "    eval_strategy=\"epoch\",\n",
    "    save_strategy=\"epoch\",\n",
    "    logging_steps=10,\n",
    "    load_best_model_at_end=True,\n",
    "    report_to='none'\n",
    ")"
   ]
  },
  {
   "cell_type": "code",
   "execution_count": 14,
   "metadata": {
    "colab": {
     "base_uri": "https://localhost:8080/",
     "height": 212
    },
    "id": "GEm8SMYPyxC0",
    "outputId": "8775bb00-a9de-45d6-d02d-eb34a86bce5d"
   },
   "outputs": [
    {
     "name": "stderr",
     "output_type": "stream",
     "text": [
      "No label_names provided for model class `PeftModelForSequenceClassification`. Since `PeftModel` hides base models input arguments, if label_names is not given, label_names can't be set automatically within `Trainer`. Note that empty label_names list will be used instead.\n"
     ]
    },
    {
     "data": {
      "text/html": [
       "\n",
       "    <div>\n",
       "      \n",
       "      <progress value='2500' max='2500' style='width:300px; height:20px; vertical-align: middle;'></progress>\n",
       "      [2500/2500 1:45:37, Epoch 2/2]\n",
       "    </div>\n",
       "    <table border=\"1\" class=\"dataframe\">\n",
       "  <thead>\n",
       " <tr style=\"text-align: left;\">\n",
       "      <th>Epoch</th>\n",
       "      <th>Training Loss</th>\n",
       "      <th>Validation Loss</th>\n",
       "      <th>Accuracy</th>\n",
       "    </tr>\n",
       "  </thead>\n",
       "  <tbody>\n",
       "    <tr>\n",
       "      <td>1</td>\n",
       "      <td>0.175700</td>\n",
       "      <td>0.213118</td>\n",
       "      <td>0.952000</td>\n",
       "    </tr>\n",
       "    <tr>\n",
       "      <td>2</td>\n",
       "      <td>0.089300</td>\n",
       "      <td>0.194252</td>\n",
       "      <td>0.954700</td>\n",
       "    </tr>\n",
       "  </tbody>\n",
       "</table><p>"
      ],
      "text/plain": [
       "<IPython.core.display.HTML object>"
      ]
     },
     "metadata": {},
     "output_type": "display_data"
    },
    {
     "data": {
      "text/plain": [
       "TrainOutput(global_step=2500, training_loss=0.28988060613274574, metrics={'train_runtime': 6341.5143, 'train_samples_per_second': 3.154, 'train_steps_per_second': 0.394, 'total_flos': 1.875155902464e+16, 'train_loss': 0.28988060613274574, 'epoch': 2.0})"
      ]
     },
     "execution_count": 14,
     "metadata": {},
     "output_type": "execute_result"
    }
   ],
   "source": [
    "trainer = Trainer(\n",
    "    model=model,\n",
    "    args=training_args,\n",
    "    train_dataset=tokenized_imdb[\"train\"],\n",
    "    eval_dataset=tokenized_imdb[\"test\"],\n",
    "    compute_metrics=compute_metrics,\n",
    ")\n",
    "\n",
    "trainer.train()"
   ]
  },
  {
   "cell_type": "markdown",
   "metadata": {
    "id": "cpUjFZSq8KmA"
   },
   "source": [
    "## Run a sample evaluation"
   ]
  },
  {
   "cell_type": "code",
   "execution_count": 15,
   "metadata": {
    "colab": {
     "base_uri": "https://localhost:8080/",
     "height": 126
    },
    "id": "wh9AXxqux34l",
    "outputId": "fdd33972-2d74-4525-8998-61d900ea1585"
   },
   "outputs": [
    {
     "data": {
      "text/html": [],
      "text/plain": [
       "<IPython.core.display.HTML object>"
      ]
     },
     "metadata": {},
     "output_type": "display_data"
    },
    {
     "name": "stdout",
     "output_type": "stream",
     "text": [
      "I couldn't even sit through the whole thing! This movie was a piece of crap! I had more fun watching \"Dont' Tell Mom The Babysitter's Dead\"! It was ju neg\n",
      "I went straight to the big screen to view this kicker. This is the only flick that I know of that Tarsem Singh has directed but boy was it intense. Th pos\n",
      "Ugh. This movie has so many unbelievable plot contrivances that they made what could have been a good movie into a hideous mess. The story is halfway  neg\n",
      "Alexander Nevsky is a series of superb sequences of cinematic opera that pass from pastoral to lamentation and end in a triumphal cantata. The story t pos\n",
      "This series is vastly underrated. Like many others, I came upon Farscape after the series had been cancelled. Bought Season 1 and was surprised to fin pos\n"
     ]
    }
   ],
   "source": [
    "#Run an example inference on a few rows in test dataset\n",
    "examples = tokenized_imdb[\"test\"].select(range(5))\n",
    "result = trainer.predict(examples)\n",
    "for ex, pred in zip(examples, result.label_ids):\n",
    "    print(ex['text'][:150], id2label[pred])\n",
    "\n",
    "\n",
    "\n",
    "\n"
   ]
  },
  {
   "cell_type": "markdown",
   "metadata": {
    "id": "LpNVAhad8O7R"
   },
   "source": [
    "## Size of checkpoints"
   ]
  },
  {
   "cell_type": "code",
   "execution_count": 16,
   "metadata": {
    "colab": {
     "base_uri": "https://localhost:8080/"
    },
    "id": "g7JVejNbyM8Y",
    "outputId": "cc8e65a6-f864-4d73-f9d8-4ec36027f536"
   },
   "outputs": [
    {
     "name": "stdout",
     "output_type": "stream",
     "text": [
      "total 22M\n",
      "-rw-r--r-- 1 root root  794 Jun 14 16:31 adapter_config.json\n",
      "-rw-r--r-- 1 root root 7.1M Jun 14 16:31 adapter_model.safetensors\n",
      "-rw-r--r-- 1 root root  15M Jun 14 16:31 optimizer.pt\n",
      "-rw-r--r-- 1 root root 5.0K Jun 14 16:31 README.md\n",
      "-rw-r--r-- 1 root root  14K Jun 14 16:31 rng_state.pth\n",
      "-rw-r--r-- 1 root root 1.1K Jun 14 16:31 scheduler.pt\n",
      "-rw-r--r-- 1 root root  20K Jun 14 16:31 trainer_state.json\n",
      "-rw-r--r-- 1 root root 5.2K Jun 14 16:31 training_args.bin\n"
     ]
    }
   ],
   "source": [
    "# print and check size of checkpoint. As expected the model size is much smaller that a typical bert checkpoint\n",
    "!ls -lh roberta-large-lora-sequence-classification/checkpoint-1250/\n"
   ]
  },
  {
   "cell_type": "code",
   "execution_count": 16,
   "metadata": {
    "id": "uMBlIQHWYiGY"
   },
   "outputs": [],
   "source": []
  }
 ],
 "metadata": {
  "accelerator": "GPU",
  "colab": {
   "gpuType": "T4",
   "provenance": []
  },
  "kernelspec": {
   "display_name": "Python 3 (ipykernel)",
   "language": "python",
   "name": "python3"
  },
  "language_info": {
   "codemirror_mode": {
    "name": "ipython",
    "version": 3
   },
   "file_extension": ".py",
   "mimetype": "text/x-python",
   "name": "python",
   "nbconvert_exporter": "python",
   "pygments_lexer": "ipython3",
   "version": "3.11.5"
  }
 },
 "nbformat": 4,
 "nbformat_minor": 1
}
