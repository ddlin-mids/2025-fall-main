{
  "cells": [
    {
      "cell_type": "markdown",
      "metadata": {
        "id": "n7BzBd-N9mS1"
      },
      "source": [
        "# Assignment 2: Text Classification with Deep Averaged Networks\n",
        "\n",
        "**Description:** This assignment covers various neural network architectures and components, largely used in the context of classification. You will compare Deep Averaging Networks, Deep Weighted Averaging Networks using Attention, and BERT-based models. In part one, you should be able to develop an intuition for:\n",
        "\n",
        "\n",
        "*   The effects of fine-tuning word vectors or starting with random word vectors\n",
        "*   How various networks behave when the training set size changes\n",
        "*   The effect of shuffling your training data\n",
        "*   The effect of fine tuning your embeddings\n",
        "\n",
        "\n",
        "\n",
        "The assignment notebook closely follows the lesson notebooks. We will use the IMDB dataset and will leverage some of the models, or part of the code, for our current investigation.\n",
        "\n",
        "This notebook uses the Keras 3 functional API.  Make sure the correct versions get loaded.\n",
        "\n",
        "\n",
        "\n",
        "\n",
        "\n"
      ]
    },
    {
      "cell_type": "markdown",
      "metadata": {
        "id": "YCYA5Gvoae4x"
      },
      "source": [
        "## IMPORTANT NOTE:\n",
        "Because of the environment built in to Colab, the software we're importing causes an error to be thrown the first time you run the cells in the Setup section.  As soon as you hit the error, you have to go to the Runtime menu and select 'Restart Session'.  Once the session is restarted you must rerun the cells in Setup and you will not run in to the error."
      ]
    },
    {
      "cell_type": "markdown",
      "metadata": {
        "id": "j0NIBbj_afe8"
      },
      "source": [
        "[![Open In Colab](https://colab.research.google.com/assets/colab-badge.svg)](https://colab.research.google.com/github/datasci-w266/2025-fall-main/blob/master/assignment/a2/Text_classification_DAN.ipynb)\n",
        "\n",
        "The overall assignment structure is as follows:\n",
        "\n",
        "\n",
        "0. Setup\n",
        "  \n",
        "  0.1 Libraries, Embeddings,  & Helper Functions\n",
        "\n",
        "  0.2 Data Acquisition\n",
        "\n",
        "  0.3. Data Preparation\n",
        "\n",
        "    0.3.1 Training/Test Sets using Word2Vec\n",
        "\n",
        "    0.3.2 Training/Test Sets for BERT-based models\n",
        "\n",
        "\n",
        "1. Classification with various Word2Vec-based Models\n",
        "\n",
        "  1.1 The Role of Shuffling of the Training Set\n",
        "\n",
        "  1.2 DAN\n",
        "    \n",
        "  1.3 Approaches for Training of Embeddings\n",
        "\n",
        "\n",
        "\n",
        "**INSTRUCTIONS:**:\n",
        "\n",
        "* Questions are always indicated as **QUESTION**, so you can search for this string to make sure you answered all of the questions. You are expected to fill out, run, and submit this notebook, as well as to answer the questions in the **answers** file as you did in a1.  Please do **not** remove the output from your notebooks when you submit them as we'll look at the output as well as your code for grading purposes.  We cannot award points if the output cells are empty.\n",
        "\n",
        "* **### YOUR CODE HERE** indicates that you are supposed to write code.\n",
        "\n",
        "* If you want to, you can run all of the cells in section 0 in bulk. This is setup work and no questions are in there. At the end of section 0 we will state all of the relevant variables that were defined and created in section 1.\n",
        "\n",
        "* Finally, unless otherwise indicated your validation accuracy will be 0.65 or higher if you have correctly implemented the model."
      ]
    },
    {
      "cell_type": "markdown",
      "metadata": {
        "id": "so-yur1S9mS4"
      },
      "source": [
        "## 0. Setup\n",
        "\n",
        "### 0.1. Libraries and Helper Functions\n",
        "\n",
        "This notebook requires the TensorFlow dataset and other prerequisites that you must download.  THis model uses the Keras 3 interface."
      ]
    },
    {
      "cell_type": "code",
      "execution_count": null,
      "metadata": {
        "id": "8uQnMctL9mS5"
      },
      "outputs": [],
      "source": [
        "# #@title Installation, if using colab\n",
        "# # Install uv, the fast package manager\n",
        "# !pip install uv --quiet\n",
        "# !uv pip install pydot gensim tensorflow-datasets tensorflow-text --quiet\n",
        "\n",
        "# # This command forces the session to restart.\n",
        "# # Run this cell after your installations.\n",
        "# import os\n",
        "# os.kill(os.getpid(), 9)"
      ]
    },
    {
      "cell_type": "markdown",
      "metadata": {
        "id": "ZFFBvPMR9mS8"
      },
      "source": [
        "Now we are ready to do the imports."
      ]
    },
    {
      "cell_type": "code",
      "execution_count": null,
      "metadata": {
        "id": "Q8b9aykE9mS8"
      },
      "outputs": [
        {
          "name": "stderr",
          "output_type": "stream",
          "text": [
            "2025-09-25 13:58:35.599461: I tensorflow/core/util/port.cc:153] oneDNN custom operations are on. You may see slightly different numerical results due to floating-point round-off errors from different computation orders. To turn them off, set the environment variable `TF_ENABLE_ONEDNN_OPTS=0`.\n",
            "2025-09-25 13:58:36.412483: E external/local_xla/xla/stream_executor/cuda/cuda_fft.cc:467] Unable to register cuFFT factory: Attempting to register factory for plugin cuFFT when one has already been registered\n",
            "WARNING: All log messages before absl::InitializeLog() is called are written to STDERR\n",
            "E0000 00:00:1758833916.677451 1859969 cuda_dnn.cc:8579] Unable to register cuDNN factory: Attempting to register factory for plugin cuDNN when one has already been registered\n",
            "E0000 00:00:1758833916.749254 1859969 cuda_blas.cc:1407] Unable to register cuBLAS factory: Attempting to register factory for plugin cuBLAS when one has already been registered\n",
            "W0000 00:00:1758833917.135330 1859969 computation_placer.cc:177] computation placer already registered. Please check linkage and avoid linking the same target more than once.\n",
            "W0000 00:00:1758833917.135360 1859969 computation_placer.cc:177] computation placer already registered. Please check linkage and avoid linking the same target more than once.\n",
            "W0000 00:00:1758833917.135362 1859969 computation_placer.cc:177] computation placer already registered. Please check linkage and avoid linking the same target more than once.\n",
            "W0000 00:00:1758833917.135363 1859969 computation_placer.cc:177] computation placer already registered. Please check linkage and avoid linking the same target more than once.\n",
            "2025-09-25 13:58:37.151931: I tensorflow/core/platform/cpu_feature_guard.cc:210] This TensorFlow binary is optimized to use available CPU instructions in performance-critical operations.\n",
            "To enable the following instructions: AVX2 AVX512F AVX512_VNNI FMA, in other operations, rebuild TensorFlow with the appropriate compiler flags.\n"
          ]
        }
      ],
      "source": [
        "#@title Imports\n",
        "import os\n",
        "os.environ[\"KERAS_BACKEND\"] = \"tensorflow\"\n",
        "\n",
        "import numpy as np\n",
        "import tensorflow as tf\n",
        "import keras\n",
        "\n",
        "from keras.layers import Embedding, Input, Dense, Lambda\n",
        "from keras.models import Model\n",
        "\n",
        "import tensorflow_datasets as tfds\n",
        "import tensorflow_text as tf_text\n",
        "\n",
        "\n",
        "import sklearn as sk\n",
        "\n",
        "import nltk\n",
        "from nltk.data import find\n",
        "\n",
        "import matplotlib.pyplot as plt\n",
        "\n",
        "import re\n",
        "\n",
        "import gensim\n",
        "from gensim.models import Word2Vec\n",
        "from gensim.models import KeyedVectors\n",
        "from gensim.test.utils import datapath"
      ]
    },
    {
      "cell_type": "markdown",
      "metadata": {
        "id": "ESElm33U9mS9"
      },
      "source": [
        "Make sure you are using a Keras version > 3.0 and a tensorflow version > 2.16.0 for this notebook.\n",
        "\n",
        "Below is a helper function to plot histories."
      ]
    },
    {
      "cell_type": "code",
      "execution_count": 2,
      "metadata": {
        "id": "YKWj6pPM9mS-"
      },
      "outputs": [],
      "source": [
        "#@title Plotting Function\n",
        "\n",
        "# 4-window plot. Small modification from matplotlib examples.\n",
        "def make_plot(axs,\n",
        "              model_history1,\n",
        "              model_history2,\n",
        "              model_1_name='model 1',\n",
        "              model_2_name='model 2',\n",
        "              ):\n",
        "    \"\"\"\n",
        "    Compare training histories of two models by plotting loss and accuracy.\n",
        "\n",
        "    Parameters\n",
        "    ----------\n",
        "    axs : numpy.ndarray of matplotlib.axes.Axes\n",
        "        2x2 grid of Axes objects (rows = metrics, cols = models).\n",
        "    model_history1 : keras.callbacks.History\n",
        "        Training history object for the first model.\n",
        "    model_history2 : keras.callbacks.History\n",
        "        Training history object for the second model.\n",
        "    model_1_name : str\n",
        "        Display name for the first model (default: 'model 1').\n",
        "    model_2_name : str\n",
        "        Display name for the second model (default: 'model 2').\n",
        "\n",
        "    Notes\n",
        "    -----\n",
        "    - This function assumes `axs` is a 2D array where:\n",
        "        axs[0,0] = loss for model 1, axs[0,1] = loss for model 2\n",
        "        axs[1,0] = accuracy for model 1, axs[1,1] = accuracy for model 2\n",
        "    - It will plot both training and validation curves for each metric.\n",
        "    \"\"\"\n",
        "\n",
        "    # Create a box style for axis labels\n",
        "    box = dict(facecolor='yellow', pad=5, alpha=0.2)\n",
        "\n",
        "    # Iterate over metrics to plot: 'loss' and 'accuracy'\n",
        "    for i, metric in enumerate(['loss', 'accuracy']):\n",
        "\n",
        "        # Some models (e.g., Weighted Averaging with Attention) store metrics under different keys\n",
        "        if 'classification_%s' % metric in model_history2.history:\n",
        "            metric2 = 'classification_%s' % metric\n",
        "        else:\n",
        "            metric2 = metric\n",
        "\n",
        "        # Calculate lower y-limit: minimum value across both models, scaled down a bit\n",
        "        y_lim_lower1 = np.min(model_history1.history[metric])\n",
        "        y_lim_lower2 = np.min(model_history2.history[metric2])\n",
        "        y_lim_lower = min(y_lim_lower1, y_lim_lower2) * 0.9\n",
        "\n",
        "        # Calculate upper y-limit: maximum value across both models, scaled up a bit\n",
        "        y_lim_upper1 = np.max(model_history1.history[metric])\n",
        "        y_lim_upper2 = np.max(model_history2.history[metric2])\n",
        "        y_lim_upper = max(y_lim_upper1, y_lim_upper2) * 1.1\n",
        "\n",
        "        # Iterate over both models for this metric\n",
        "        for j, model_history in enumerate([model_history1, model_history2]):\n",
        "            model_name = [model_1_name, model_2_name][j]  # pick proper model name\n",
        "            model_metric = [metric, metric2][j]           # pick proper metric key\n",
        "\n",
        "            # Select correct subplot\n",
        "            ax1 = axs[i, j]\n",
        "\n",
        "            # Plot training history\n",
        "            ax1.plot(model_history.history[model_metric], label='train')\n",
        "            # Plot validation history\n",
        "            ax1.plot(model_history.history['val_%s' % model_metric], label='val')\n",
        "\n",
        "            # Title: metric + model name\n",
        "            ax1.set_title('%s - %s' % (metric, model_name))\n",
        "\n",
        "            # Label y-axis with a styled box\n",
        "            ax1.set_ylabel(metric, bbox=box)\n",
        "\n",
        "            # Keep y-limits consistent between both models for fair comparison\n",
        "            ax1.set_ylim(y_lim_lower, y_lim_upper)\n",
        "\n",
        "            # Add legend for clarity\n",
        "            ax1.legend()\n"
      ]
    },
    {
      "cell_type": "markdown",
      "metadata": {
        "id": "1QDi-Kg49mS-"
      },
      "source": [
        "Next, we get the word2vec model from NLTK to use as our embeddings."
      ]
    },
    {
      "cell_type": "code",
      "execution_count": 3,
      "metadata": {
        "colab": {
          "base_uri": "https://localhost:8080/"
        },
        "id": "49X1T6an9mS_",
        "outputId": "3b7abe4f-fc33-4ba7-9231-20ed86957b85"
      },
      "outputs": [
        {
          "name": "stderr",
          "output_type": "stream",
          "text": [
            "[nltk_data] Downloading package word2vec_sample to\n",
            "[nltk_data]     /data/homezvol2/ddlin/nltk_data...\n",
            "[nltk_data]   Package word2vec_sample is already up-to-date!\n"
          ]
        }
      ],
      "source": [
        "#@title NLTK & Word2Vec\n",
        "\n",
        "nltk.download('word2vec_sample')\n",
        "\n",
        "word2vec_sample = str(find('models/word2vec_sample/pruned.word2vec.txt'))\n",
        "\n",
        "wvmodel = KeyedVectors.load_word2vec_format(datapath(word2vec_sample), binary=False)"
      ]
    },
    {
      "cell_type": "markdown",
      "metadata": {
        "id": "Y_rdVE3z9mTA"
      },
      "source": [
        "Now here we have the embedding **model** defined, let's see how many words are in the vocabulary:"
      ]
    },
    {
      "cell_type": "code",
      "execution_count": 4,
      "metadata": {
        "colab": {
          "base_uri": "https://localhost:8080/"
        },
        "id": "uoL6l_q89mTA",
        "outputId": "273df485-b75b-42de-9e51-638781c0fdca"
      },
      "outputs": [
        {
          "data": {
            "text/plain": [
              "43981"
            ]
          },
          "execution_count": 4,
          "metadata": {},
          "output_type": "execute_result"
        }
      ],
      "source": [
        "len(wvmodel)"
      ]
    },
    {
      "cell_type": "markdown",
      "metadata": {
        "id": "r3Q0zOkJ9mTB"
      },
      "source": [
        "What do the word vectors look like? As expected:"
      ]
    },
    {
      "cell_type": "code",
      "execution_count": null,
      "metadata": {
        "colab": {
          "base_uri": "https://localhost:8080/"
        },
        "id": "ZyAGMYGK9mTB",
        "outputId": "ec0683cf-078c-4dec-bdbb-4d5920036cfb"
      },
      "outputs": [
        {
          "data": {
            "text/plain": [
              "array([ 0.0306035 ,  0.0886877 , -0.0121269 ,  0.0761965 ,  0.0566269 ,\n",
              "       -0.0424702 ,  0.0410129 , -0.0497567 , -0.00364328,  0.0632889 ,\n",
              "       -0.0142608 , -0.0791111 ,  0.0174877 , -0.0383064 ,  0.00926433,\n",
              "        0.0295626 ,  0.0770293 ,  0.0949334 , -0.0428866 , -0.0295626 ],\n",
              "      dtype=float32)"
            ]
          },
          "execution_count": 5,
          "metadata": {},
          "output_type": "execute_result"
        }
      ],
      "source": [
        "# Ok wvmodel is the dictionary-like object containing word as key and their embeddings as values\n",
        "wvmodel['great'][:20]"
      ]
    },
    {
      "cell_type": "code",
      "execution_count": null,
      "metadata": {},
      "outputs": [
        {
          "data": {
            "text/plain": [
              "['fawn', 'deferment', 'Debts']"
            ]
          },
          "execution_count": 35,
          "metadata": {},
          "output_type": "execute_result"
        }
      ],
      "source": [
        "# This gets you all the keys\n",
        "wvmodel.index_to_key[:3]"
      ]
    },
    {
      "cell_type": "markdown",
      "metadata": {
        "id": "2BMraFZS9mTB"
      },
      "source": [
        "We can now build the embedding matrix and a vocabulary dictionary:"
      ]
    },
    {
      "cell_type": "code",
      "execution_count": null,
      "metadata": {
        "id": "lOTIN3G39mTB"
      },
      "outputs": [],
      "source": [
        "EMBEDDING_DIM = len(wvmodel['university'])      # we know... it's 300\n",
        "\n",
        "# initialize embedding matrix and word-to-id map, with an extra row for unknown tokens\n",
        "embedding_matrix = np.zeros((len(wvmodel) + 1, EMBEDDING_DIM))\n",
        "\n",
        "# vacab dict will have word as key and their index in the embedding matrix as value\n",
        "vocab_dict = {}\n",
        "\n",
        "# build the embedding matrix and the word-to-id map:\n",
        "for i, word in enumerate(wvmodel.index_to_key):\n",
        "    # The the embedding vector for the word\n",
        "    embedding_vector = wvmodel[word]\n",
        "\n",
        "    if embedding_vector is not None:\n",
        "\n",
        "        # Construct the embedding matrix, words not found in embedding index will be all-zeros.\n",
        "        embedding_matrix[i] = embedding_vector\n",
        "\n",
        "        # construct the vocab dict for index lookup\n",
        "        vocab_dict[word] = i\n",
        "\n",
        "# we can use the last index at the end of the vocab for unknown tokens\n",
        "vocab_dict['[UNK]'] = len(vocab_dict)"
      ]
    },
    {
      "cell_type": "code",
      "execution_count": 7,
      "metadata": {
        "colab": {
          "base_uri": "https://localhost:8080/"
        },
        "id": "5KlSpLnP6VqA",
        "outputId": "86813d56-0e3c-4152-884c-3ac29153c103"
      },
      "outputs": [
        {
          "data": {
            "text/plain": [
              "(43982, 300)"
            ]
          },
          "execution_count": 7,
          "metadata": {},
          "output_type": "execute_result"
        }
      ],
      "source": [
        "embedding_matrix.shape"
      ]
    },
    {
      "cell_type": "code",
      "execution_count": null,
      "metadata": {
        "colab": {
          "base_uri": "https://localhost:8080/"
        },
        "id": "LGYcZu0N9mTC",
        "outputId": "db6589b0-2aa0-4b11-a7aa-d3e4b7fc5182"
      },
      "outputs": [
        {
          "data": {
            "text/plain": [
              "array([[ 0.0891758 ,  0.121832  , -0.0671959 ,  0.0477279 , -0.013659  ],\n",
              "       [ 0.0526281 ,  0.013157  , -0.010104  ,  0.0540819 ,  0.0386715 ],\n",
              "       [ 0.0786419 ,  0.0373911 , -0.0131472 ,  0.0347375 ,  0.0288273 ],\n",
              "       [-0.00157585, -0.0564239 ,  0.00320281,  0.0422498 ,  0.15264399],\n",
              "       [ 0.0356899 , -0.00367283, -0.065534  ,  0.0213832 ,  0.00788408]])"
            ]
          },
          "execution_count": 8,
          "metadata": {},
          "output_type": "execute_result"
        }
      ],
      "source": [
        "# Looks like it's ready to go for the TF\n",
        "embedding_matrix[:5, :5]"
      ]
    },
    {
      "cell_type": "markdown",
      "metadata": {
        "id": "YIL1eUtV9mTC"
      },
      "source": [
        "The last row consists of all zeros. We will use that for the UNK token, the placeholder token for unknown words.\n",
        "\n",
        "### 0.2 Data Acquisition\n",
        "\n",
        "\n",
        "We will use the IMDB dataset delivered as part of the TensorFlow-datasets library, and split into training and test sets. For expedience, we will limit ourselves in terms of train and test examples."
      ]
    },
    {
      "cell_type": "code",
      "execution_count": 36,
      "metadata": {},
      "outputs": [
        {
          "data": {
            "text/plain": [
              "<_PrefetchDataset element_spec=(TensorSpec(shape=(), dtype=tf.string, name=None), TensorSpec(shape=(), dtype=tf.int64, name=None))>"
            ]
          },
          "execution_count": 36,
          "metadata": {},
          "output_type": "execute_result"
        }
      ],
      "source": [
        "train_data"
      ]
    },
    {
      "cell_type": "code",
      "execution_count": 10,
      "metadata": {
        "colab": {
          "base_uri": "https://localhost:8080/",
          "height": 155,
          "referenced_widgets": [
            "bc21adf6926249678f9593b75c098d93",
            "878a9307d3f54027b679dea4f957cc39",
            "33c6c5e197d04b908bb5405a8700432c",
            "e7e76e279b1f4481937a7a9ddd3e7ead",
            "5d5d5b09de504697b9b3dfb589a15f37",
            "1ab8c4eb0dbc4d1bac413a31972c2df2",
            "178d37a90e8e4dcd9ad861ba42785973",
            "a731d95c6523499884c08d32fadb96cb",
            "01e2eea263ab46c79bc0e12b1883a2f4",
            "35a3425659cb4215ad54c1c6d28a8216",
            "8971c6e1b6ae421896d00c98c37bfbdb",
            "481301c7148a4b5c89cd894956d25847",
            "393b7d9f497644c894e22cb97b7f012f",
            "51ca4aab7b434577b0b833c1f43845a0",
            "8f9dd2f526a24e539f6a9fea81d38e46",
            "d9ed388d6022481bb4a901572e3cf3cc",
            "50b795f0f90c46498e617c34fcf92e7f",
            "9ddbbf8cf0884f248d55a96109df4faa",
            "0effd344e5974c5cb82c9493026f2872",
            "17ba42c6c319469296201582fdbc9fbb",
            "dcaa8b1a719a4a7ba12319fc29987fbd",
            "dd9c8cdda45b48f8be8d02559683b05c",
            "dfb9e53620654dd7a57d8212639f259a",
            "ef69c379863245a6b2e4f04815983a47",
            "4f72bab193c844c88bdeead66f4b2112",
            "d21722b8e7af4050a5c573d7ad54c869",
            "e8449b1f5f304b4b900c870e2ffa7977",
            "ef0108ff262545cf96f7cc2a767439ec",
            "bfb437bc39814b609e7e71058319f768",
            "0eed1149356a4e11b1b6ca5330701bd6",
            "7e73f230d6ea45ecbac216e2425d3951",
            "c83cfe72de1543338e4222a720d7a104",
            "3eceb16da39c44cda78b70eba84e1fef",
            "adab986a498a425982026f24c3f6f995",
            "f2e8edece9a94be290754670f8c776de",
            "fc6f2bcedc014be1907baf4a2f9020b8",
            "c0c12d80830c4e09b599e371e2f81893",
            "4001becb2d4b4806814cdaf90b37ebd1",
            "7c15483a68b8491ba8eaccb3f0e924f2",
            "0a4fedecf7034a9b9d807fff84f46bca",
            "8f46d4a8526c45fe9dde2a3634274395",
            "43292a09983340df81454bc1a776009c",
            "0a13da24b84d44c4b3dcf80fc486fe35",
            "2da346420f9e4978a0a698cadb64262b",
            "9c389fa9662e46d09882289e1f19e4cf",
            "df6d825c059f4f20b8c23c1aceb3f8dd",
            "69936bbaf3e14f958b65e6c82fdf98c8",
            "cf995a97c1a84e218df336c51a34a56b",
            "fb534458948e48ab843094f2804a0e1b",
            "d08cfdd31a5845b1a399744bd033e742",
            "f63b740bc9674d82902a197e9f46a8dc",
            "c20a8fbb57594feabd32791f8d605c43",
            "2e334ac437824e00ae994faeadea9465",
            "f2982987deb1489ebf7ef8679cec0f99",
            "c7b8b368659d490296ddfe5509c1266c",
            "f01c64e59b6a484fbb98e343e7c0f9ce",
            "e5da6f0e229d49d9a12ba30f6d3309fa",
            "048010c525c24d52af45d9c53aea2989",
            "29832727a2e14f2a8b16cfa769101c3d",
            "1e9afa40717d4529ad17803331c9455c",
            "2af83f61a83d408eadf2bd54bf540a02",
            "1aa32408ce6f4ef5ac8de7fe8477e7c6",
            "b0f285d7c37e41cb950625df82837684",
            "deb2d1a50f1c4a4ab3cabd8b683ec089",
            "aba8a673a8534a95b301d20365ed21e3",
            "e9947a387b4942a6bbe3491acf59b9bf",
            "531a7e879d04493191c9ddecc2e6b1be",
            "0ec62f338d064d3a8f1ce963fe26ca8f",
            "d6e10ca1304741c98d3a01ef03cf9060",
            "824ab87f815f46e68f12ff3d2d666eed",
            "1bb20650090a4ada9c3faef5fd1742cb",
            "8682ddd52be74d848ee267a9209dbba6",
            "45f0bd9c7dc6415ea0fa7e77a0ab69d7",
            "598845723f3a4b9c807c001ea2e51796",
            "b09691d136874bd5a53f6feb6adfc802",
            "5b55bbe697ca43bdb348183ba564eacf",
            "af47b0e6c52146fc99766a6ea858645a",
            "58adeab34f5347faac4f1b18adfee69b",
            "063bd937baca453cb114ce158caa42e4",
            "3852b95047b8447188d2e6a19a522c88",
            "9e39d8982f0947a789016ede28435a2f",
            "87aa8b1f418b40f9aa959ad6a2fd0f0f",
            "79f9b2bce4db44d09abd79373b8241d9",
            "bfc7a93467e54cddaa9ac57f0f43e5bd",
            "e13ef8d576f94c5a92ecb08a2233cf47",
            "33d2163afa7b46ef834597277cb40b03",
            "da21d5ca3e3541628a259bbf96c4559b",
            "1f0d1f427f7f423d85613a917980b4ad",
            "83ce95ca6ea34629a44efab330420f00",
            "2ac34e0b13274db7aed92f59e75a4088",
            "b296dd045eba4636b56353eea90990d1",
            "3565522df0fb4c6f933eaa7b050e2fc2",
            "68840dfa263a4ef2b62053ae81165e79",
            "8147160444254efe8ca6d31c76bd1f30",
            "b625cde200534a01adf57081c3ac9ce4",
            "b405ac911dbb456ca666bd139d7ff211",
            "64fb814877a04d0cb8b44e1028ac81e8",
            "1247c769117b4d4a9039b9bf5044587a",
            "7ad98c6b853045eba65fd74c06269d19"
          ]
        },
        "id": "uwOF0qYb9mTC",
        "outputId": "d2131098-96a4-4fdb-d9b7-09eae9f61165"
      },
      "outputs": [
        {
          "name": "stderr",
          "output_type": "stream",
          "text": [
            "I0000 00:00:1758834486.154439 1859969 gpu_device.cc:2019] Created device /job:localhost/replica:0/task:0/device:GPU:0 with 22393 MB memory:  -> device: 0, name: NVIDIA A30, pci bus id: 0000:e3:00.0, compute capability: 8.0\n",
            "2025-09-25 14:08:06.812663: I tensorflow/core/kernels/data/tf_record_dataset_op.cc:387] The default buffer size is 262144, which is overridden by the user specified `buffer_size` of 8388608\n"
          ]
        },
        {
          "name": "stdout",
          "output_type": "stream",
          "text": [
            "train_examples: (20000,) <dtype: 'string'>\n",
            "train_labels:   (20000,) <dtype: 'int64'>\n",
            "test_examples:  (5000,) <dtype: 'string'>\n",
            "test_labels:    (5000,) <dtype: 'int64'>\n"
          ]
        }
      ],
      "source": [
        "# ------------------------------------------------------------------\n",
        "# 1) Load IMDB with TFDS\n",
        "#    - as_supervised=True returns (text_tensor, label_tensor) pairs\n",
        "#    - 'train[:80%]'  -> first 20,000 of the 25,000 train examples\n",
        "#    - 'test[80%:]'   -> last 5,000 of the 25,000 test examples\n",
        "# ------------------------------------------------------------------\n",
        "train_data, test_data = tfds.load(\n",
        "    name=\"imdb_reviews\",\n",
        "    split=(\"train[:80%]\", \"test[80%:]\"),\n",
        "    as_supervised=True\n",
        ")\n",
        "\n",
        "# Optional: shuffle before batching (useful if you plan to sample)\n",
        "# train_data = train_data.shuffle(20000, reshuffle_each_iteration=False)\n",
        "# test_data  = test_data.shuffle(5000, reshuffle_each_iteration=False)\n",
        "\n",
        "# ------------------------------------------------------------------\n",
        "# 2) Materialize the entire split into a single batch\n",
        "#    - .batch(N) groups N elements into one tensor\n",
        "#    - next(iter(...)) fetches that single batch\n",
        "#    WARNING: This pulls everything into memory at once.\n",
        "# ------------------------------------------------------------------\n",
        "train_examples, train_labels = next(iter(train_data.batch(20000)))\n",
        "test_examples,  test_labels  = next(iter(test_data.batch(5000)))\n",
        "\n",
        "# ------------------------------------------------------------------\n",
        "# 3) Inspect shapes/dtypes (sanity check)\n",
        "# ------------------------------------------------------------------\n",
        "print(\"train_examples:\", train_examples.shape, train_examples.dtype)  # (20000,) string\n",
        "print(\"train_labels:  \", train_labels.shape,  train_labels.dtype)     # (20000,) int64\n",
        "print(\"test_examples: \", test_examples.shape,  test_examples.dtype)   # (5000,) string\n",
        "print(\"test_labels:   \", test_labels.shape,   test_labels.dtype)      # (5000,) int64"
      ]
    },
    {
      "cell_type": "markdown",
      "metadata": {
        "id": "mPHFtgGkHNOQ"
      },
      "source": [
        "It is always highly recommended to look at the data. What do the records look like? Are they clean or do they contain a lot of cruft (potential noise)?"
      ]
    },
    {
      "cell_type": "code",
      "execution_count": 11,
      "metadata": {
        "colab": {
          "base_uri": "https://localhost:8080/"
        },
        "id": "wvmWKdVQ9mTC",
        "outputId": "39204698-1c37-4d37-f077-741883ea34ed"
      },
      "outputs": [
        {
          "data": {
            "text/plain": [
              "<tf.Tensor: shape=(4,), dtype=string, numpy=\n",
              "array([b\"This was an absolutely terrible movie. Don't be lured in by Christopher Walken or Michael Ironside. Both are great actors, but this must simply be their worst role in history. Even their great acting could not redeem this movie's ridiculous storyline. This movie is an early nineties US propaganda piece. The most pathetic scenes were those when the Columbian rebels were making their cases for revolutions. Maria Conchita Alonso appeared phony, and her pseudo-love affair with Walken was nothing but a pathetic emotional plug in a movie that was devoid of any real meaning. I am disappointed that there are movies like this, ruining actor's like Christopher Walken's good name. I could barely sit through it.\",\n",
              "       b'I have been known to fall asleep during films, but this is usually due to a combination of things including, really tired, being warm and comfortable on the sette and having just eaten a lot. However on this occasion I fell asleep because the film was rubbish. The plot development was constant. Constantly slow and boring. Things seemed to happen, but with no explanation of what was causing them or why. I admit, I may have missed part of the film, but i watched the majority of it and everything just seemed to happen of its own accord without any real concern for anything else. I cant recommend this film at all.',\n",
              "       b'Mann photographs the Alberta Rocky Mountains in a superb fashion, and Jimmy Stewart and Walter Brennan give enjoyable performances as they always seem to do. <br /><br />But come on Hollywood - a Mountie telling the people of Dawson City, Yukon to elect themselves a marshal (yes a marshal!) and to enforce the law themselves, then gunfighters battling it out on the streets for control of the town? <br /><br />Nothing even remotely resembling that happened on the Canadian side of the border during the Klondike gold rush. Mr. Mann and company appear to have mistaken Dawson City for Deadwood, the Canadian North for the American Wild West.<br /><br />Canadian viewers be prepared for a Reefer Madness type of enjoyable howl with this ludicrous plot, or, to shake your head in disgust.',\n",
              "       b'This is the kind of film for a snowy Sunday afternoon when the rest of the world can go ahead with its own business as you descend into a big arm-chair and mellow for a couple of hours. Wonderful performances from Cher and Nicolas Cage (as always) gently row the plot along. There are no rapids to cross, no dangerous waters, just a warm and witty paddle through New York life at its best. A family film in every sense and one that deserves the praise it received.'],\n",
              "      dtype=object)>"
            ]
          },
          "execution_count": 11,
          "metadata": {},
          "output_type": "execute_result"
        }
      ],
      "source": [
        "train_examples[:4]"
      ]
    },
    {
      "cell_type": "code",
      "execution_count": 12,
      "metadata": {
        "colab": {
          "base_uri": "https://localhost:8080/"
        },
        "id": "BzEnCspD9mTD",
        "outputId": "91b2beb6-0644-4857-b7d4-191095bcdcad"
      },
      "outputs": [
        {
          "data": {
            "text/plain": [
              "<tf.Tensor: shape=(4,), dtype=int64, numpy=array([0, 0, 0, 1])>"
            ]
          },
          "execution_count": 12,
          "metadata": {},
          "output_type": "execute_result"
        }
      ],
      "source": [
        "# Ok I think it's a review classification problem for positive sentiments\n",
        "train_labels[:4]"
      ]
    },
    {
      "cell_type": "markdown",
      "metadata": {
        "id": "CplHsqSDMKCa"
      },
      "source": [
        "For convenience, in this assignment we will define a sequence length and truncate all records at that length. For records that are shorter than our defined sequence length we will add padding characters to insure that our input shapes are consistent across all records."
      ]
    },
    {
      "cell_type": "code",
      "execution_count": null,
      "metadata": {
        "id": "Zxu9U3qXMKTW"
      },
      "outputs": [],
      "source": [
        "# Setting this as global variable\n",
        "MAX_SEQUENCE_LENGTH = 100"
      ]
    },
    {
      "cell_type": "markdown",
      "metadata": {
        "id": "1bHwj4vu9mTD"
      },
      "source": [
        "## 0.3. Data Preparation\n",
        "\n",
        "### 0.3.1. Training/Test Sets for Word2Vec-based Models\n",
        "\n",
        "First, we tokenize the data:"
      ]
    },
    {
      "cell_type": "code",
      "execution_count": 13,
      "metadata": {
        "id": "ToVTmC8V9mTD"
      },
      "outputs": [],
      "source": [
        "# WhitespaceTokenizer() → splits text wherever it sees whitespace (' ', \\n, \\t).\n",
        "# tokenize(train_examples) → applies this to each review in train_examples.\n",
        "# Each review becomes a 1-D tensor of tokens (words, punctuation stuck to words, contractions, etc.).\n",
        "# So train_tokens[0] shows the tokens for the first review in train_examples.\n",
        "\n",
        "tokenizer = tf_text.WhitespaceTokenizer()\n",
        "train_tokens = tokenizer.tokenize(train_examples)\n",
        "test_tokens = tokenizer.tokenize(test_examples)"
      ]
    },
    {
      "cell_type": "markdown",
      "metadata": {
        "id": "qXauPwil9mTD"
      },
      "source": [
        "Let's look at some tokens.  Do they look acceptable?"
      ]
    },
    {
      "cell_type": "code",
      "execution_count": 14,
      "metadata": {
        "colab": {
          "base_uri": "https://localhost:8080/"
        },
        "id": "QZ22GGb-9mTD",
        "outputId": "d34f91fb-d66b-4074-93b3-71e77ea88cb6"
      },
      "outputs": [
        {
          "data": {
            "text/plain": [
              "<tf.Tensor: shape=(116,), dtype=string, numpy=\n",
              "array([b'This', b'was', b'an', b'absolutely', b'terrible', b'movie.',\n",
              "       b\"Don't\", b'be', b'lured', b'in', b'by', b'Christopher', b'Walken',\n",
              "       b'or', b'Michael', b'Ironside.', b'Both', b'are', b'great',\n",
              "       b'actors,', b'but', b'this', b'must', b'simply', b'be', b'their',\n",
              "       b'worst', b'role', b'in', b'history.', b'Even', b'their', b'great',\n",
              "       b'acting', b'could', b'not', b'redeem', b'this', b\"movie's\",\n",
              "       b'ridiculous', b'storyline.', b'This', b'movie', b'is', b'an',\n",
              "       b'early', b'nineties', b'US', b'propaganda', b'piece.', b'The',\n",
              "       b'most', b'pathetic', b'scenes', b'were', b'those', b'when',\n",
              "       b'the', b'Columbian', b'rebels', b'were', b'making', b'their',\n",
              "       b'cases', b'for', b'revolutions.', b'Maria', b'Conchita',\n",
              "       b'Alonso', b'appeared', b'phony,', b'and', b'her', b'pseudo-love',\n",
              "       b'affair', b'with', b'Walken', b'was', b'nothing', b'but', b'a',\n",
              "       b'pathetic', b'emotional', b'plug', b'in', b'a', b'movie', b'that',\n",
              "       b'was', b'devoid', b'of', b'any', b'real', b'meaning.', b'I',\n",
              "       b'am', b'disappointed', b'that', b'there', b'are', b'movies',\n",
              "       b'like', b'this,', b'ruining', b\"actor's\", b'like', b'Christopher',\n",
              "       b\"Walken's\", b'good', b'name.', b'I', b'could', b'barely', b'sit',\n",
              "       b'through', b'it.'], dtype=object)>"
            ]
          },
          "execution_count": 14,
          "metadata": {},
          "output_type": "execute_result"
        }
      ],
      "source": [
        "train_tokens[0]"
      ]
    },
    {
      "cell_type": "markdown",
      "metadata": {
        "id": "K9D9nqdg9mTE"
      },
      "source": [
        "Yup... looks right. Of course we will need to take care of the encoding later."
      ]
    },
    {
      "cell_type": "markdown",
      "metadata": {
        "id": "XiqFULXx9mTE"
      },
      "source": [
        "Next, we define a simple function that converts the tokens above into the appropriate word2vec index values so we can retrieve the embedding vector associated with the word.   "
      ]
    },
    {
      "cell_type": "code",
      "execution_count": 41,
      "metadata": {
        "id": "ytUsu3kmuM3n"
      },
      "outputs": [],
      "source": [
        "def docs_to_vocab_ids(\n",
        "        tokenized_texts_list,\n",
        "        vocab_dict, # passing it in to be more explicit\n",
        "        MAX_SEQUENCE_LENGTH, # passing it in to be more explicit\n",
        "):\n",
        "    \"\"\"\n",
        "    Convert a collection of tokenized documents into fixed-length\n",
        "    sequences of integer vocab IDs.\n",
        "\n",
        "    Parameters\n",
        "    ----------\n",
        "    tokenized_texts_list : list of tf.Tensor\n",
        "        Each element is a tokenized document, represented as a\n",
        "        Tensor of tokens in byte-string format (dtype=string).\n",
        "        Example: [b'This', b'is', b'a', b'movie', b'.'].\n",
        "    vocab_dict : dict\n",
        "        A dictionary mapping word strings to integer IDs. Must also\n",
        "        contain a special '[UNK]' token for unknown or padding values.\n",
        "    MAX_SEQUENCE_LENGTH : int\n",
        "        Maximum number of tokens to keep per document. Longer documents\n",
        "        are truncated, shorter documents are padded with '[UNK]' IDs.\n",
        "\n",
        "    Returns\n",
        "    -------\n",
        "    np.ndarray\n",
        "        2D NumPy array of shape (num_docs, MAX_SEQUENCE_LENGTH), where\n",
        "        each row is the integer ID sequence corresponding to one document.\n",
        "        All rows have equal length due to truncation/padding.\n",
        "    \"\"\"\n",
        "    texts_vocab_ids = []   # list to collect all documents as ID sequences\n",
        "\n",
        "    for i, token_list in enumerate(tokenized_texts_list):\n",
        "\n",
        "        # ----------------------------------------------------------\n",
        "        # Step 1: Convert tokens (bytes) into vocab IDs\n",
        "        # ----------------------------------------------------------\n",
        "        vocab_ids = []\n",
        "        for token in list(token_list.numpy()):\n",
        "            # token is a byte string -> decode into Python string\n",
        "            decoded = token.decode('utf-8', errors='ignore')\n",
        "\n",
        "            # Use vocab ID if word is known, else map to [UNK]\n",
        "            if decoded in vocab_dict:\n",
        "                vocab_ids.append(vocab_dict[decoded])\n",
        "            else:\n",
        "                vocab_ids.append(vocab_dict['[UNK]'])\n",
        "\n",
        "        # ----------------------------------------------------------\n",
        "        # Step 2: Enforce fixed length\n",
        "        # ----------------------------------------------------------\n",
        "        # Truncate if sequence is longer than MAX_SEQUENCE_LENGTH\n",
        "        vocab_ids = vocab_ids[:MAX_SEQUENCE_LENGTH]\n",
        "\n",
        "        # Pad with [UNK] IDs if sequence is too short\n",
        "        n_padding = MAX_SEQUENCE_LENGTH - len(vocab_ids)\n",
        "        vocab_ids += [vocab_dict['[UNK]']] * n_padding\n",
        "\n",
        "        # ----------------------------------------------------------\n",
        "        # Step 3: Append processed doc to results\n",
        "        # ----------------------------------------------------------\n",
        "        texts_vocab_ids.append(vocab_ids)\n",
        "\n",
        "        # Print progress every 5000 docs processed\n",
        "        if i % 5000 == 0:\n",
        "            print('Examples processed:', i)\n",
        "\n",
        "    print('Total examples:', i+1)\n",
        "\n",
        "    # --------------------------------------------------------------\n",
        "    # Step 4: Convert list of lists into a NumPy array for modeling\n",
        "    # --------------------------------------------------------------\n",
        "    return np.array(texts_vocab_ids)"
      ]
    },
    {
      "cell_type": "markdown",
      "metadata": {
        "id": "gv_elC2m9mTE"
      },
      "source": [
        "Now we can create training and test data that can be fed into the models of interest.  We need to convert all of the tokens in to their respective input ids."
      ]
    },
    {
      "cell_type": "code",
      "execution_count": 50,
      "metadata": {
        "colab": {
          "base_uri": "https://localhost:8080/"
        },
        "id": "XpUJLBRkCbtE",
        "outputId": "a658b24e-5f35-4e06-f35a-2a5b8d380ae5"
      },
      "outputs": [
        {
          "name": "stdout",
          "output_type": "stream",
          "text": [
            "Examples processed: 0\n",
            "Examples processed: 5000\n",
            "Examples processed: 10000\n",
            "Examples processed: 15000\n",
            "Total examples: 20000\n",
            "Examples processed: 0\n",
            "Total examples: 5000\n"
          ]
        }
      ],
      "source": [
        "# Convert tokenized datasets into integer ID sequences\n",
        "train_input_ids = docs_to_vocab_ids(train_tokens, vocab_dict, MAX_SEQUENCE_LENGTH)\n",
        "test_input_ids  = docs_to_vocab_ids(test_tokens,  vocab_dict, MAX_SEQUENCE_LENGTH)\n",
        "\n",
        "# Convert labels from tensors to NumPy arrays for modeling\n",
        "train_input_labels = np.array(train_labels)\n",
        "test_input_labels  = np.array(test_labels)"
      ]
    },
    {
      "cell_type": "markdown",
      "metadata": {
        "id": "-dP2KY7U9mTF"
      },
      "source": [
        "Let's convince ourselves that the data looks correct:"
      ]
    },
    {
      "cell_type": "code",
      "execution_count": null,
      "metadata": {
        "colab": {
          "base_uri": "https://localhost:8080/"
        },
        "id": "FtU56wVR9mTF",
        "outputId": "de78026c-fe9b-4571-e43f-19a7c71e8df5"
      },
      "outputs": [
        {
          "data": {
            "text/plain": [
              "array([[21531, 25272, 12291,  7427, 37254, 43981,  6891, 12917, 38232,\n",
              "        16915, 12929, 16182, 43981, 20526, 23487, 43981, 23807, 42958,\n",
              "        35058, 43981, 19123, 35029, 41270, 29275, 12917, 32597, 20659,\n",
              "          638, 16915, 43981,   174, 32597, 35058, 39971,  2326,  3636,\n",
              "        22434, 35029, 43981, 33922, 43981, 21531, 34710, 16908, 12291,\n",
              "        36880, 28137,  5376, 28038, 43981, 15402, 29155, 18063, 24951,\n",
              "        17433, 17595,  8856, 14193, 43981, 43248, 17433,  6290, 32597,\n",
              "         9001, 11511, 43981, 21807, 39168, 43981, 16856, 43981, 43981,\n",
              "        23245, 43981,  8889,  1331, 43981, 25272, 31976, 19123, 43981,\n",
              "        18063, 36309, 24099, 16915, 43981, 34710, 36633, 25272, 20413,\n",
              "        43981, 33458, 14926, 43981, 12139, 12289, 39617, 36633,  9483,\n",
              "        42958],\n",
              "       [12139,  7841, 19666, 31757, 43981, 17853, 25745, 15445, 43981,\n",
              "        19123, 35029, 16908, 21113, 21068, 43981, 43981,  5668, 43981,\n",
              "        33456, 43981, 34554, 43981,  1200, 27498, 43981, 18802, 20514,\n",
              "        14193, 43981, 43981, 23955, 14042, 15400, 43981, 43981, 32334,\n",
              "        20514, 35029,  7870, 12139, 17108, 25745, 43830, 14193, 28743,\n",
              "        25272, 43981, 15402, 17006,   222, 25272, 43981, 43981, 33994,\n",
              "        43981, 43981, 42659, 12375, 43981, 43981, 19123,  1331, 19870,\n",
              "         7816, 43981, 31696, 25272, 23801, 13877, 20526, 43981, 12139,\n",
              "        43981, 12139, 37939,  7841, 24998, 29109, 43981, 14193, 43981,\n",
              "        19123, 16266,  8017, 14193, 43099, 43981, 16909, 43981, 30811,\n",
              "        14042, 12375, 43981, 25574, 43981, 34511, 21851, 14087,  9370,\n",
              "        33458]])"
            ]
          },
          "execution_count": 51,
          "metadata": {},
          "output_type": "execute_result"
        }
      ],
      "source": [
        "# Now the sequences ready to use the embedding matrix as a lookup table\n",
        "train_input_ids[:2]"
      ]
    },
    {
      "cell_type": "markdown",
      "metadata": {
        "id": "myNK4ZhQDQBL"
      },
      "source": [
        "Overall, here are the key variables and sets that we encoded for word2vec and BERT and that may be used moving forward. If the variable naming does not make it obvious, we also state the purpose:\n",
        "\n",
        "#### Parameters:\n",
        "\n",
        "* MAX_SEQUENCE_LENGTH (100)\n",
        "\n",
        "\n",
        "#### Word2vec-based models:\n",
        "\n",
        "* train(/test)_input_ids: input ids for the training(/test) sets for word2vec models\n",
        "* train(/test)_input_labels: the corresponding labels\n",
        "\n",
        "\n",
        "**NOTE:** We recommend you inspect these variables if you have not gone through the code."
      ]
    },
    {
      "cell_type": "markdown",
      "metadata": {
        "id": "w20farC9Exg9"
      },
      "source": [
        "### 1  Keras Functional API warm up\n",
        "\n",
        "Shown below is the output of a call to model summary.  It shows a network with specific named .  You are to reproduce the model that generated this summary.\n",
        "\n",
        "**QUESTION:**\n",
        "\n",
        "1.a Create a model using the Keras functional API so that the model.summary() call of your model identically reproduces the model summary shown here:"
      ]
    },
    {
      "cell_type": "markdown",
      "metadata": {
        "id": "GYS7nyKLJD6F"
      },
      "source": [
        "**Model Summary Output To Reproduce**\n",
        "```\n",
        "Model: \"a2_question1\"\n",
        "_________________________________________________________________\n",
        " Layer (type)                Output Shape              Param #   \n",
        "_________________________________________________________________\n",
        " input_words (InputLayer)    [(None, 100)]             0         \n",
        "                                                                 \n",
        " embedding (Embedding)       (None, 100, 300)          13194600  \n",
        "                                                                 \n",
        " lambda (Lambda)             (None, 300)               0         \n",
        "                                                                 \n",
        " hidden1 (Dense)             (None, 300)               90300     \n",
        "                                                                 \n",
        " hidden2 (Dense)             (None, 200)               60200     \n",
        "                                                                 \n",
        " output (Dense)              (None, 5)                 1005      \n",
        "                                                                 \n",
        "__________________________________________________________________\n",
        "Total params: 13346105 (50.91 MB)\n",
        "Trainable params: 151505 (591.82 KB)\n",
        "Non-trainable params: 13194600 (50.33 MB)\n",
        "_________________________________________________________________\n",
        "```"
      ]
    },
    {
      "cell_type": "code",
      "execution_count": 52,
      "metadata": {
        "id": "f7yra8DyExg9"
      },
      "outputs": [],
      "source": [
        "import tensorflow.keras.backend as K\n",
        "\n",
        "VOCAB_SIZE = 43982          # chosen so embedding params = 13194600 (43982*300)\n",
        "EMBEDDING_DIM = 300\n",
        "\n",
        "# Input\n",
        "input_x = Input(shape=(MAX_SEQUENCE_LENGTH,), name=\"input_words\")\n",
        "\n",
        "# Embedding (frozen, so non-trainable)\n",
        "embedding = Embedding(input_dim=VOCAB_SIZE,\n",
        "                      output_dim=EMBEDDING_DIM,\n",
        "                      input_length=MAX_SEQUENCE_LENGTH,\n",
        "                      trainable=False,\n",
        "                      name=\"embedding\")(input_x)\n",
        "\n",
        "# Lambda (e.g. average across sequence dimension -> shape (None, 300))\n",
        "# Avg across axis=1 (the sequence dimension per sample)\n",
        "lambda_layer = Lambda(lambda x: K.mean(x, axis=1), name=\"lambda\")(embedding)\n",
        "\n",
        "# Dense hidden layers\n",
        "hidden1 = Dense(300, activation='relu', name=\"hidden1\")(lambda_layer)\n",
        "hidden2 = Dense(200, activation='relu', name=\"hidden2\")(hidden1)\n",
        "\n",
        "# Output layer\n",
        "output = Dense(5, activation='softmax', name=\"output\")(hidden2)\n",
        "\n",
        "# Build model\n",
        "model = Model(inputs=input_x, outputs=output, name=\"a2_question1\")\n",
        "\n",
        "# Compile\n",
        "model.compile(optimizer='adam',\n",
        "              loss='sparse_categorical_crossentropy',\n",
        "              metrics=['accuracy'])"
      ]
    },
    {
      "cell_type": "code",
      "execution_count": 53,
      "metadata": {
        "colab": {
          "base_uri": "https://localhost:8080/",
          "height": 331
        },
        "id": "vzEM_W0sExg9",
        "outputId": "921e3638-3d23-4a3b-bc85-3d5f837cc7c1"
      },
      "outputs": [
        {
          "data": {
            "text/html": [
              "<pre style=\"white-space:pre;overflow-x:auto;line-height:normal;font-family:Menlo,'DejaVu Sans Mono',consolas,'Courier New',monospace\"><span style=\"font-weight: bold\">Model: \"a2_question1\"</span>\n",
              "</pre>\n"
            ],
            "text/plain": [
              "\u001b[1mModel: \"a2_question1\"\u001b[0m\n"
            ]
          },
          "metadata": {},
          "output_type": "display_data"
        },
        {
          "data": {
            "text/html": [
              "<pre style=\"white-space:pre;overflow-x:auto;line-height:normal;font-family:Menlo,'DejaVu Sans Mono',consolas,'Courier New',monospace\">┏━━━━━━━━━━━━━━━━━━━━━━━━━━━━━━━━━┳━━━━━━━━━━━━━━━━━━━━━━━━┳━━━━━━━━━━━━━━━┓\n",
              "┃<span style=\"font-weight: bold\"> Layer (type)                    </span>┃<span style=\"font-weight: bold\"> Output Shape           </span>┃<span style=\"font-weight: bold\">       Param # </span>┃\n",
              "┡━━━━━━━━━━━━━━━━━━━━━━━━━━━━━━━━━╇━━━━━━━━━━━━━━━━━━━━━━━━╇━━━━━━━━━━━━━━━┩\n",
              "│ input_words (<span style=\"color: #0087ff; text-decoration-color: #0087ff\">InputLayer</span>)        │ (<span style=\"color: #00d7ff; text-decoration-color: #00d7ff\">None</span>, <span style=\"color: #00af00; text-decoration-color: #00af00\">100</span>)            │             <span style=\"color: #00af00; text-decoration-color: #00af00\">0</span> │\n",
              "├─────────────────────────────────┼────────────────────────┼───────────────┤\n",
              "│ embedding (<span style=\"color: #0087ff; text-decoration-color: #0087ff\">Embedding</span>)           │ (<span style=\"color: #00d7ff; text-decoration-color: #00d7ff\">None</span>, <span style=\"color: #00af00; text-decoration-color: #00af00\">100</span>, <span style=\"color: #00af00; text-decoration-color: #00af00\">300</span>)       │    <span style=\"color: #00af00; text-decoration-color: #00af00\">13,194,600</span> │\n",
              "├─────────────────────────────────┼────────────────────────┼───────────────┤\n",
              "│ lambda (<span style=\"color: #0087ff; text-decoration-color: #0087ff\">Lambda</span>)                 │ (<span style=\"color: #00d7ff; text-decoration-color: #00d7ff\">None</span>, <span style=\"color: #00af00; text-decoration-color: #00af00\">300</span>)            │             <span style=\"color: #00af00; text-decoration-color: #00af00\">0</span> │\n",
              "├─────────────────────────────────┼────────────────────────┼───────────────┤\n",
              "│ hidden1 (<span style=\"color: #0087ff; text-decoration-color: #0087ff\">Dense</span>)                 │ (<span style=\"color: #00d7ff; text-decoration-color: #00d7ff\">None</span>, <span style=\"color: #00af00; text-decoration-color: #00af00\">300</span>)            │        <span style=\"color: #00af00; text-decoration-color: #00af00\">90,300</span> │\n",
              "├─────────────────────────────────┼────────────────────────┼───────────────┤\n",
              "│ hidden2 (<span style=\"color: #0087ff; text-decoration-color: #0087ff\">Dense</span>)                 │ (<span style=\"color: #00d7ff; text-decoration-color: #00d7ff\">None</span>, <span style=\"color: #00af00; text-decoration-color: #00af00\">200</span>)            │        <span style=\"color: #00af00; text-decoration-color: #00af00\">60,200</span> │\n",
              "├─────────────────────────────────┼────────────────────────┼───────────────┤\n",
              "│ output (<span style=\"color: #0087ff; text-decoration-color: #0087ff\">Dense</span>)                  │ (<span style=\"color: #00d7ff; text-decoration-color: #00d7ff\">None</span>, <span style=\"color: #00af00; text-decoration-color: #00af00\">5</span>)              │         <span style=\"color: #00af00; text-decoration-color: #00af00\">1,005</span> │\n",
              "└─────────────────────────────────┴────────────────────────┴───────────────┘\n",
              "</pre>\n"
            ],
            "text/plain": [
              "┏━━━━━━━━━━━━━━━━━━━━━━━━━━━━━━━━━┳━━━━━━━━━━━━━━━━━━━━━━━━┳━━━━━━━━━━━━━━━┓\n",
              "┃\u001b[1m \u001b[0m\u001b[1mLayer (type)                   \u001b[0m\u001b[1m \u001b[0m┃\u001b[1m \u001b[0m\u001b[1mOutput Shape          \u001b[0m\u001b[1m \u001b[0m┃\u001b[1m \u001b[0m\u001b[1m      Param #\u001b[0m\u001b[1m \u001b[0m┃\n",
              "┡━━━━━━━━━━━━━━━━━━━━━━━━━━━━━━━━━╇━━━━━━━━━━━━━━━━━━━━━━━━╇━━━━━━━━━━━━━━━┩\n",
              "│ input_words (\u001b[38;5;33mInputLayer\u001b[0m)        │ (\u001b[38;5;45mNone\u001b[0m, \u001b[38;5;34m100\u001b[0m)            │             \u001b[38;5;34m0\u001b[0m │\n",
              "├─────────────────────────────────┼────────────────────────┼───────────────┤\n",
              "│ embedding (\u001b[38;5;33mEmbedding\u001b[0m)           │ (\u001b[38;5;45mNone\u001b[0m, \u001b[38;5;34m100\u001b[0m, \u001b[38;5;34m300\u001b[0m)       │    \u001b[38;5;34m13,194,600\u001b[0m │\n",
              "├─────────────────────────────────┼────────────────────────┼───────────────┤\n",
              "│ lambda (\u001b[38;5;33mLambda\u001b[0m)                 │ (\u001b[38;5;45mNone\u001b[0m, \u001b[38;5;34m300\u001b[0m)            │             \u001b[38;5;34m0\u001b[0m │\n",
              "├─────────────────────────────────┼────────────────────────┼───────────────┤\n",
              "│ hidden1 (\u001b[38;5;33mDense\u001b[0m)                 │ (\u001b[38;5;45mNone\u001b[0m, \u001b[38;5;34m300\u001b[0m)            │        \u001b[38;5;34m90,300\u001b[0m │\n",
              "├─────────────────────────────────┼────────────────────────┼───────────────┤\n",
              "│ hidden2 (\u001b[38;5;33mDense\u001b[0m)                 │ (\u001b[38;5;45mNone\u001b[0m, \u001b[38;5;34m200\u001b[0m)            │        \u001b[38;5;34m60,200\u001b[0m │\n",
              "├─────────────────────────────────┼────────────────────────┼───────────────┤\n",
              "│ output (\u001b[38;5;33mDense\u001b[0m)                  │ (\u001b[38;5;45mNone\u001b[0m, \u001b[38;5;34m5\u001b[0m)              │         \u001b[38;5;34m1,005\u001b[0m │\n",
              "└─────────────────────────────────┴────────────────────────┴───────────────┘\n"
            ]
          },
          "metadata": {},
          "output_type": "display_data"
        },
        {
          "data": {
            "text/html": [
              "<pre style=\"white-space:pre;overflow-x:auto;line-height:normal;font-family:Menlo,'DejaVu Sans Mono',consolas,'Courier New',monospace\"><span style=\"font-weight: bold\"> Total params: </span><span style=\"color: #00af00; text-decoration-color: #00af00\">13,346,105</span> (50.91 MB)\n",
              "</pre>\n"
            ],
            "text/plain": [
              "\u001b[1m Total params: \u001b[0m\u001b[38;5;34m13,346,105\u001b[0m (50.91 MB)\n"
            ]
          },
          "metadata": {},
          "output_type": "display_data"
        },
        {
          "data": {
            "text/html": [
              "<pre style=\"white-space:pre;overflow-x:auto;line-height:normal;font-family:Menlo,'DejaVu Sans Mono',consolas,'Courier New',monospace\"><span style=\"font-weight: bold\"> Trainable params: </span><span style=\"color: #00af00; text-decoration-color: #00af00\">151,505</span> (591.82 KB)\n",
              "</pre>\n"
            ],
            "text/plain": [
              "\u001b[1m Trainable params: \u001b[0m\u001b[38;5;34m151,505\u001b[0m (591.82 KB)\n"
            ]
          },
          "metadata": {},
          "output_type": "display_data"
        },
        {
          "data": {
            "text/html": [
              "<pre style=\"white-space:pre;overflow-x:auto;line-height:normal;font-family:Menlo,'DejaVu Sans Mono',consolas,'Courier New',monospace\"><span style=\"font-weight: bold\"> Non-trainable params: </span><span style=\"color: #00af00; text-decoration-color: #00af00\">13,194,600</span> (50.33 MB)\n",
              "</pre>\n"
            ],
            "text/plain": [
              "\u001b[1m Non-trainable params: \u001b[0m\u001b[38;5;34m13,194,600\u001b[0m (50.33 MB)\n"
            ]
          },
          "metadata": {},
          "output_type": "display_data"
        }
      ],
      "source": [
        "#Run this cell to generate your summary to match the summary output dabove\n",
        "model.summary()"
      ]
    },
    {
      "cell_type": "markdown",
      "metadata": {
        "id": "vzbPHBf3GP2O"
      },
      "source": [
        "## 1.1 Classification with various Word2Vec-based Models"
      ]
    },
    {
      "cell_type": "markdown",
      "metadata": {
        "id": "H7yp2gI-AtCl"
      },
      "source": [
        "**QUESTION:**\n",
        "\n",
        "1.1.a. Revisit the dataset. Is it balanced? Find the percentage of positive examples in the training set. (Copy and paste the decimal value for your calculation, e.g. a number like 0.5678 or 0.8765)"
      ]
    },
    {
      "cell_type": "code",
      "execution_count": 54,
      "metadata": {
        "colab": {
          "base_uri": "https://localhost:8080/"
        },
        "id": "x6EAE6cjA9jM",
        "outputId": "4eec2388-2850-4c91-88dd-611fb074f062"
      },
      "outputs": [
        {
          "name": "stdout",
          "output_type": "stream",
          "text": [
            "Train positive percentage: 0.49845\n"
          ]
        }
      ],
      "source": [
        "# Check if the training and the test dataset has balanced classes, let's get the positive percentages\n",
        "train_pos_pct = np.sum(train_labels == 1) / len(train_labels)\n",
        "test_pos_pct = np.sum(test_labels == 1) / len(test_labels)\n",
        "\n",
        "print(f\"Train positive percentage: {train_pos_pct}\")"
      ]
    },
    {
      "cell_type": "markdown",
      "metadata": {
        "id": "mGkEVpmu6Bs2"
      },
      "source": [
        "**QUESTION:**\n",
        "\n",
        "1.1.b. Now find the percentage of positive examples in the test set.  (Copy and paste the decimal value for your calculation, e.g. a number like 0.5678 or 0.8765)"
      ]
    },
    {
      "cell_type": "code",
      "execution_count": 55,
      "metadata": {
        "colab": {
          "base_uri": "https://localhost:8080/"
        },
        "id": "2K_8eBTHArme",
        "outputId": "3da14404-5428-49a6-dc2c-550e06ae904a"
      },
      "outputs": [
        {
          "name": "stdout",
          "output_type": "stream",
          "text": [
            "Test positive percentage: 0.5026\n"
          ]
        }
      ],
      "source": [
        "print(f\"Test positive percentage: {test_pos_pct}\")"
      ]
    },
    {
      "cell_type": "markdown",
      "metadata": {
        "id": "JY6X0wL3BQKD"
      },
      "source": [
        "### 1.2 The Role of Shuffling of the Training Set\n",
        "\n",
        "\n",
        "We will first revisit the DAN model.\n",
        "\n",
        "Reuse the code from the class notebook to build a DAN network with one hidden layer of dimension 100. The optimizer should be Adam. Wrap the model creation in a function according to this API:"
      ]
    },
    {
      "cell_type": "code",
      "execution_count": 56,
      "metadata": {},
      "outputs": [
        {
          "data": {
            "text/plain": [
              "(43982, 300)"
            ]
          },
          "execution_count": 56,
          "metadata": {},
          "output_type": "execute_result"
        }
      ],
      "source": [
        "embedding_matrix.shape"
      ]
    },
    {
      "cell_type": "code",
      "execution_count": 57,
      "metadata": {
        "id": "vk-4mCgyBO9S"
      },
      "outputs": [],
      "source": [
        "from keras import initializers\n",
        "from keras.layers import GlobalAveragePooling1D, Dropout\n",
        "from keras.optimizers import Adam\n",
        "\n",
        "# global variables:\n",
        "# - `embedding_matrix` is a NumPy array of shape (vocab_size, embed_dim)\n",
        "# - `MAX_SEQUENCE_LENGTH` is an int (padded sequence length), defined above as 100\n",
        "\n",
        "def create_dan_model(retrain_embeddings=False,\n",
        "                     max_sequence_length=MAX_SEQUENCE_LENGTH,\n",
        "                     hidden_dim=100,\n",
        "                     dropout=0.3,\n",
        "                     embedding_initializer='word2vec',\n",
        "                     learning_rate=0.001):\n",
        "    \"\"\"\n",
        "    Build a Deep Averaging Network (DAN) for binary sentiment:\n",
        "      Embedding -> masked average over time -> Dense-ReLU -> Dropout -> Sigmoid\n",
        "    Returns a compiled Keras model.\n",
        "    \"\"\"\n",
        "\n",
        "    # Pick embedding initializer:\n",
        "    # - 'word2vec': use the provided pretrained matrix (frozen or trainable via `retrain_embeddings`)\n",
        "    # - otherwise: use random uniform (each weight ~ U(-0.05, 0.05) by default)\n",
        "    if embedding_initializer == 'word2vec':\n",
        "        embeddings_initializer = keras.initializers.Constant(embedding_matrix)\n",
        "        vocab_size, embed_dim = embedding_matrix.shape\n",
        "    else:\n",
        "        embeddings_initializer = 'uniform'  # maps to keras.initializers.RandomUniform(-0.05, 0.05)\n",
        "        # You still need vocab_size/embed_dim to define the layer\n",
        "        vocab_size, embed_dim = embedding_matrix.shape  # reuse dims; matrix itself won't be used\n",
        "\n",
        "    # Inputs are padded token ids (0 used as pad)\n",
        "    inputs = Input(shape=(max_sequence_length,), dtype='int32', name='tokens')\n",
        "\n",
        "    # Embedding (mask_zero=False here; we’ll do an explicit masked average)\n",
        "    emb = Embedding(\n",
        "        input_dim=vocab_size,\n",
        "        output_dim=embed_dim,\n",
        "        embeddings_initializer=embeddings_initializer,\n",
        "        trainable=retrain_embeddings, # False here by default, we are not retraining embeddings with DAN here\n",
        "        name='dan_embedding'\n",
        "    )(inputs)\n",
        "\n",
        "    # Masked average: ignore padding id==0 when averaging\n",
        "    def masked_avg(args):\n",
        "        x, tok = args  # x: (B, L, D), tok: (B, L)\n",
        "        mask = tf.cast(tf.not_equal(tok, 0), tf.float32)            # (B, L)\n",
        "        mask = tf.expand_dims(mask, axis=-1)                        # (B, L, 1)\n",
        "        summed = tf.reduce_sum(x * mask, axis=1)                    # (B, D)\n",
        "        count = tf.reduce_sum(mask, axis=1)                         # (B, 1)\n",
        "        return summed / tf.maximum(count, 1.0)                      # safe divide\n",
        "\n",
        "    x = Lambda(masked_avg, name='masked_average')([emb, inputs])\n",
        "\n",
        "    # Hidden block\n",
        "    x = Dense(hidden_dim, activation='relu', name='hidden')(x)\n",
        "    x = Dropout(dropout, name='dropout')(x)\n",
        "\n",
        "    # Binary output\n",
        "    outputs = Dense(1, activation='sigmoid', name='prob')(x)\n",
        "\n",
        "    dan_model = Model(inputs, outputs, name='DAN')\n",
        "\n",
        "    dan_model.compile(\n",
        "        optimizer=keras.optimizers.Adam(learning_rate=learning_rate),\n",
        "        loss='binary_crossentropy',\n",
        "        metrics=['accuracy']\n",
        "    )\n",
        "    return dan_model"
      ]
    },
    {
      "cell_type": "markdown",
      "metadata": {
        "id": "Hb4LOJkFlYwF"
      },
      "source": [
        "Let us create a sorted version of the training dataset to run some simulations and see what happens if we feed the model sorted data.  What do you think will happen if we train on sorted data?"
      ]
    },
    {
      "cell_type": "code",
      "execution_count": 66,
      "metadata": {
        "id": "ZX2hWslCflw1"
      },
      "outputs": [],
      "source": [
        "# Pair each example with its label so they can be sorted together\n",
        "sorted_train_input_data = [(x, y) for (x, y) in zip(list(train_input_ids), list(train_input_labels))]\n",
        "\n",
        "# Sort the (example, label) pairs by the label value (x[1] is the label)\n",
        "sorted_train_input_data.sort(key = lambda x: x[1])\n",
        "\n",
        "# Unzip back into two aligned NumPy arrays: inputs and labels\n",
        "sorted_training_input_ids = np.array([x[0] for x in sorted_train_input_data])\n",
        "sorted_training_labels    = np.array([x[1] for x in sorted_train_input_data])\n"
      ]
    },
    {
      "cell_type": "markdown",
      "metadata": {
        "id": "riQ59wcQmtzs"
      },
      "source": [
        "Next, create your DAN model using the default parameters and train it by:\n",
        "\n",
        "1.  Using the sorted dataset\n",
        "2.  Using 'shuffle=False' as one of the model.fit parameters.\n",
        "3.  Train for 10 epochs with a batch size of 32\n",
        "\n",
        "Make sure you store the history (name it 'dan_sorted_history') as we did in the lesson notebooks.\n",
        "\n"
      ]
    },
    {
      "cell_type": "code",
      "execution_count": null,
      "metadata": {
        "colab": {
          "base_uri": "https://localhost:8080/"
        },
        "id": "SIgwDUfpi7nu",
        "outputId": "c44a3faa-90ff-4888-f20e-f24bfc4c3258"
      },
      "outputs": [
        {
          "name": "stdout",
          "output_type": "stream",
          "text": [
            "Epoch 1/10\n",
            "\u001b[1m500/500\u001b[0m \u001b[32m━━━━━━━━━━━━━━━━━━━━\u001b[0m\u001b[37m\u001b[0m \u001b[1m2s\u001b[0m 2ms/step - accuracy: 0.8532 - loss: 0.4624 - val_accuracy: 1.0000 - val_loss: 0.2613\n",
            "Epoch 2/10\n",
            "\u001b[1m500/500\u001b[0m \u001b[32m━━━━━━━━━━━━━━━━━━━━\u001b[0m\u001b[37m\u001b[0m \u001b[1m2s\u001b[0m 2ms/step - accuracy: 0.5331 - loss: 0.7243 - val_accuracy: 1.0000 - val_loss: 0.0975\n",
            "Epoch 3/10\n",
            "\u001b[1m500/500\u001b[0m \u001b[32m━━━━━━━━━━━━━━━━━━━━\u001b[0m\u001b[37m\u001b[0m \u001b[1m1s\u001b[0m 2ms/step - accuracy: 0.5970 - loss: 0.7298 - val_accuracy: 1.0000 - val_loss: 0.2762\n",
            "Epoch 4/10\n",
            "\u001b[1m500/500\u001b[0m \u001b[32m━━━━━━━━━━━━━━━━━━━━\u001b[0m\u001b[37m\u001b[0m \u001b[1m1s\u001b[0m 2ms/step - accuracy: 0.6156 - loss: 0.6805 - val_accuracy: 1.0000 - val_loss: 0.3936\n",
            "Epoch 5/10\n",
            "\u001b[1m500/500\u001b[0m \u001b[32m━━━━━━━━━━━━━━━━━━━━\u001b[0m\u001b[37m\u001b[0m \u001b[1m1s\u001b[0m 2ms/step - accuracy: 0.7206 - loss: 0.5651 - val_accuracy: 1.0000 - val_loss: 0.1114\n",
            "Epoch 6/10\n",
            "\u001b[1m500/500\u001b[0m \u001b[32m━━━━━━━━━━━━━━━━━━━━\u001b[0m\u001b[37m\u001b[0m \u001b[1m1s\u001b[0m 2ms/step - accuracy: 0.6487 - loss: 0.6924 - val_accuracy: 1.0000 - val_loss: 0.3037\n",
            "Epoch 7/10\n",
            "\u001b[1m500/500\u001b[0m \u001b[32m━━━━━━━━━━━━━━━━━━━━\u001b[0m\u001b[37m\u001b[0m \u001b[1m1s\u001b[0m 2ms/step - accuracy: 0.6736 - loss: 0.6280 - val_accuracy: 1.0000 - val_loss: 0.2411\n",
            "Epoch 8/10\n",
            "\u001b[1m500/500\u001b[0m \u001b[32m━━━━━━━━━━━━━━━━━━━━\u001b[0m\u001b[37m\u001b[0m \u001b[1m1s\u001b[0m 2ms/step - accuracy: 0.6896 - loss: 0.6167 - val_accuracy: 1.0000 - val_loss: 0.2258\n",
            "Epoch 9/10\n",
            "\u001b[1m500/500\u001b[0m \u001b[32m━━━━━━━━━━━━━━━━━━━━\u001b[0m\u001b[37m\u001b[0m \u001b[1m1s\u001b[0m 2ms/step - accuracy: 0.7040 - loss: 0.6134 - val_accuracy: 1.0000 - val_loss: 0.2196\n",
            "Epoch 10/10\n",
            "\u001b[1m500/500\u001b[0m \u001b[32m━━━━━━━━━━━━━━━━━━━━\u001b[0m\u001b[37m\u001b[0m \u001b[1m1s\u001b[0m 2ms/step - accuracy: 0.6956 - loss: 0.6110 - val_accuracy: 1.0000 - val_loss: 0.2368\n"
          ]
        }
      ],
      "source": [
        "dan_model_sorted = create_dan_model()\n",
        "\n",
        "# Train on the sorted dataset, no shuffling\n",
        "dan_sorted_history = dan_model_sorted.fit(\n",
        "    sorted_training_input_ids,\n",
        "    sorted_training_labels,\n",
        "    epochs=10,\n",
        "    batch_size=32,\n",
        "    shuffle=False,\n",
        "    validation_split=0.2,   \n",
        "    verbose=1\n",
        ")\n",
        "\n",
        "# Validation split 0.2 means 20% of the training data is used for validation\n",
        "# Since this is sorted, the validation data is all positive class\n",
        "# The validation is super high, because this model just monolithically predicts the positive class "
      ]
    },
    {
      "cell_type": "code",
      "execution_count": 90,
      "metadata": {},
      "outputs": [
        {
          "name": "stdout",
          "output_type": "stream",
          "text": [
            "Final validation accuracy (sorted): 1.0\n"
          ]
        }
      ],
      "source": [
        "dan_sorted_acc = dan_sorted_history.history['val_accuracy'][-1]\n",
        "print(f\"Final validation accuracy (sorted): {dan_sorted_acc}\")"
      ]
    },
    {
      "cell_type": "markdown",
      "metadata": {
        "id": "a4zFifGHMS1S"
      },
      "source": [
        "**QUESTION:**\n",
        "\n",
        "1.2.a What is the final validation accuracy that you observed after you completed the 10 epochs? (Copy and paste the decimal value for the final validation accuracy, e.g. a number like 0.5678 or 0.8765)\n",
        "\n",
        "Hint: You should have an accuracy number above 0.30.\n",
        "\n"
      ]
    },
    {
      "cell_type": "markdown",
      "metadata": {
        "id": "RUNYdZ8rnaNX"
      },
      "source": [
        "Next, recreate the same model and train it with **'shuffle=True'**. (Note that this is also the default.). Use 'dan_shuffled_history' for the history."
      ]
    },
    {
      "cell_type": "code",
      "execution_count": null,
      "metadata": {
        "colab": {
          "base_uri": "https://localhost:8080/"
        },
        "id": "fEsrjV2QkCo_",
        "outputId": "874f2209-f07a-411b-e28f-b19724d43d23"
      },
      "outputs": [
        {
          "name": "stdout",
          "output_type": "stream",
          "text": [
            "Epoch 1/10\n",
            "\u001b[1m500/500\u001b[0m \u001b[32m━━━━━━━━━━━━━━━━━━━━\u001b[0m\u001b[37m\u001b[0m \u001b[1m2s\u001b[0m 2ms/step - accuracy: 0.6378 - loss: 0.6380 - val_accuracy: 0.1528 - val_loss: 0.8979\n",
            "Epoch 2/10\n",
            "\u001b[1m500/500\u001b[0m \u001b[32m━━━━━━━━━━━━━━━━━━━━\u001b[0m\u001b[37m\u001b[0m \u001b[1m2s\u001b[0m 2ms/step - accuracy: 0.7065 - loss: 0.5772 - val_accuracy: 0.4202 - val_loss: 0.8150\n",
            "Epoch 3/10\n",
            "\u001b[1m500/500\u001b[0m \u001b[32m━━━━━━━━━━━━━━━━━━━━\u001b[0m\u001b[37m\u001b[0m \u001b[1m1s\u001b[0m 2ms/step - accuracy: 0.7431 - loss: 0.5317 - val_accuracy: 0.5825 - val_loss: 0.7109\n",
            "Epoch 4/10\n",
            "\u001b[1m500/500\u001b[0m \u001b[32m━━━━━━━━━━━━━━━━━━━━\u001b[0m\u001b[37m\u001b[0m \u001b[1m1s\u001b[0m 2ms/step - accuracy: 0.7550 - loss: 0.5094 - val_accuracy: 0.5102 - val_loss: 0.8261\n",
            "Epoch 5/10\n",
            "\u001b[1m500/500\u001b[0m \u001b[32m━━━━━━━━━━━━━━━━━━━━\u001b[0m\u001b[37m\u001b[0m \u001b[1m1s\u001b[0m 2ms/step - accuracy: 0.7646 - loss: 0.4982 - val_accuracy: 0.6077 - val_loss: 0.7083\n",
            "Epoch 6/10\n",
            "\u001b[1m500/500\u001b[0m \u001b[32m━━━━━━━━━━━━━━━━━━━━\u001b[0m\u001b[37m\u001b[0m \u001b[1m1s\u001b[0m 2ms/step - accuracy: 0.7660 - loss: 0.4895 - val_accuracy: 0.5598 - val_loss: 0.7838\n",
            "Epoch 7/10\n",
            "\u001b[1m500/500\u001b[0m \u001b[32m━━━━━━━━━━━━━━━━━━━━\u001b[0m\u001b[37m\u001b[0m \u001b[1m1s\u001b[0m 2ms/step - accuracy: 0.7691 - loss: 0.4851 - val_accuracy: 0.5080 - val_loss: 0.8779\n",
            "Epoch 8/10\n",
            "\u001b[1m500/500\u001b[0m \u001b[32m━━━━━━━━━━━━━━━━━━━━\u001b[0m\u001b[37m\u001b[0m \u001b[1m1s\u001b[0m 2ms/step - accuracy: 0.7727 - loss: 0.4802 - val_accuracy: 0.6018 - val_loss: 0.7316\n",
            "Epoch 9/10\n",
            "\u001b[1m500/500\u001b[0m \u001b[32m━━━━━━━━━━━━━━━━━━━━\u001b[0m\u001b[37m\u001b[0m \u001b[1m1s\u001b[0m 2ms/step - accuracy: 0.7757 - loss: 0.4756 - val_accuracy: 0.6280 - val_loss: 0.7026\n",
            "Epoch 10/10\n",
            "\u001b[1m500/500\u001b[0m \u001b[32m━━━━━━━━━━━━━━━━━━━━\u001b[0m\u001b[37m\u001b[0m \u001b[1m1s\u001b[0m 2ms/step - accuracy: 0.7772 - loss: 0.4735 - val_accuracy: 0.6357 - val_loss: 0.6908\n"
          ]
        }
      ],
      "source": [
        "dan_model_shuffled = create_dan_model()\n",
        "\n",
        "# We shuffle this time\n",
        "dan_shuffled_history = dan_model_shuffled.fit(\n",
        "    sorted_training_input_ids,\n",
        "    sorted_training_labels,\n",
        "    epochs=10,\n",
        "    batch_size=32,\n",
        "    shuffle=True,\n",
        "    validation_split=0.2,   \n",
        "    verbose=1\n",
        ")\n",
        "\n",
        "# The validation accuracy graduall improves, because the model sees a mix of positive and negative examples in the training and validation set"
      ]
    },
    {
      "cell_type": "code",
      "execution_count": 89,
      "metadata": {},
      "outputs": [
        {
          "name": "stdout",
          "output_type": "stream",
          "text": [
            "Final validation accuracy (shuffled): 0.6357499957084656\n"
          ]
        }
      ],
      "source": [
        "dan_shuffed_acc = dan_shuffled_history.history['val_accuracy'][-1]\n",
        "print(f\"Final validation accuracy (shuffled): {dan_shuffed_acc}\")"
      ]
    },
    {
      "cell_type": "markdown",
      "metadata": {
        "id": "sXs6UX44ko7P"
      },
      "source": [
        "**QUESTION:**\n",
        "\n",
        "1.2.b What is the final validation accuracy that you observed for the shuffled run after completing 10 epochs? (Copy and paste the decimal value for the final validation accuracy, e.g. a number like 0.5678 or 0.8765)\n"
      ]
    },
    {
      "cell_type": "markdown",
      "metadata": {
        "id": "BYCwHBzyoY0_"
      },
      "source": [
        "Compare the 2 histories in a plot."
      ]
    },
    {
      "cell_type": "code",
      "execution_count": 79,
      "metadata": {
        "colab": {
          "base_uri": "https://localhost:8080/",
          "height": 812
        },
        "id": "ZAlGkoidkun-",
        "outputId": "9896fb5b-43a4-4bb9-b868-648e20a6ca8e"
      },
      "outputs": [
        {
          "data": {
            "image/png": "[encoded data removed]",
            "text/plain": [
              "<Figure size 1850x1050 with 4 Axes>"
            ]
          },
          "metadata": {},
          "output_type": "display_data"
        }
      ],
      "source": [
        "fig, axs = plt.subplots(2, 2)\n",
        "fig.subplots_adjust(left=0.2, wspace=0.6)\n",
        "make_plot(axs,\n",
        "          dan_sorted_history,\n",
        "          dan_shuffled_history,\n",
        "          model_1_name='sorted',\n",
        "         model_2_name='shuffled')\n",
        "\n",
        "fig.align_ylabels(axs[:, 1])\n",
        "fig.set_size_inches(18.5, 10.5)\n",
        "plt.show()"
      ]
    },
    {
      "cell_type": "markdown",
      "metadata": {
        "id": "5IYOH-QfSj22"
      },
      "source": [
        "### 1.3 Approaches for Training of Embeddings\n",
        "\n",
        "Rerun the DAN Model in 3 separate configurations:\n",
        "\n",
        "\n",
        "a.   embedding_initializer = 'word2vec' and retrain_embeddings=False\n",
        "\n",
        "b.   embedding_initializer = 'word2vec' and retrain_embeddings=True\n",
        "\n",
        "c.   embedding_initializer = 'uniform' and retrain_embeddings=True\n",
        "\n",
        "\n",
        "**NOTE:** Train the model with static embeddings for 10 epochs and the ones with trainable embeddings for 3 epochs each. Make sure you are using the original training data we created and not the sorted data.\n",
        "\n",
        "What do you observe about the effects of initializing and retraining the embedding matrix?\n",
        "\n",
        "**ANSWER:**\n",
        "1. Shuffling is important\n",
        "2. Retrain with fine-tuning boost performace for both initialization method, convergence is much faster, but it's risking early overfitting\n",
        "3. Initializing with word2vec leverages rich sementic knowledge from large pre-trained corpus provids a good starting point\n",
        "\n",
        "\n"
      ]
    },
    {
      "cell_type": "markdown",
      "metadata": {
        "id": "a0jwQ6ailUm4"
      },
      "source": [
        "**QUESTION:**\n",
        "\n",
        "1.3.a First, what is the final validation accuracy that you just observed for the static model initialized with the word2vec after 10 epochs?  (Copy and paste the decimal value for the final validation accuracy, e.g. a number like 0.5678 or 0.8765)"
      ]
    },
    {
      "cell_type": "code",
      "execution_count": null,
      "metadata": {
        "colab": {
          "base_uri": "https://localhost:8080/"
        },
        "id": "h6Pxm-2xU1aw",
        "outputId": "8c6e98b2-7faf-4c3e-bea9-7b7d0bb776c5"
      },
      "outputs": [
        {
          "name": "stdout",
          "output_type": "stream",
          "text": [
            "Epoch 1/10\n",
            "\u001b[1m500/500\u001b[0m \u001b[32m━━━━━━━━━━━━━━━━━━━━\u001b[0m\u001b[37m\u001b[0m \u001b[1m2s\u001b[0m 2ms/step - accuracy: 0.6437 - loss: 0.6499 - val_accuracy: 0.7097 - val_loss: 0.5990\n",
            "Epoch 2/10\n",
            "\u001b[1m500/500\u001b[0m \u001b[32m━━━━━━━━━━━━━━━━━━━━\u001b[0m\u001b[37m\u001b[0m \u001b[1m1s\u001b[0m 2ms/step - accuracy: 0.7186 - loss: 0.5682 - val_accuracy: 0.7377 - val_loss: 0.5381\n",
            "Epoch 3/10\n",
            "\u001b[1m500/500\u001b[0m \u001b[32m━━━━━━━━━━━━━━━━━━━━\u001b[0m\u001b[37m\u001b[0m \u001b[1m1s\u001b[0m 2ms/step - accuracy: 0.7393 - loss: 0.5304 - val_accuracy: 0.7475 - val_loss: 0.5186\n",
            "Epoch 4/10\n",
            "\u001b[1m500/500\u001b[0m \u001b[32m━━━━━━━━━━━━━━━━━━━━\u001b[0m\u001b[37m\u001b[0m \u001b[1m1s\u001b[0m 2ms/step - accuracy: 0.7493 - loss: 0.5149 - val_accuracy: 0.7533 - val_loss: 0.5098\n",
            "Epoch 5/10\n",
            "\u001b[1m500/500\u001b[0m \u001b[32m━━━━━━━━━━━━━━━━━━━━\u001b[0m\u001b[37m\u001b[0m \u001b[1m1s\u001b[0m 2ms/step - accuracy: 0.7599 - loss: 0.5055 - val_accuracy: 0.7623 - val_loss: 0.5001\n",
            "Epoch 6/10\n",
            "\u001b[1m500/500\u001b[0m \u001b[32m━━━━━━━━━━━━━━━━━━━━\u001b[0m\u001b[37m\u001b[0m \u001b[1m1s\u001b[0m 2ms/step - accuracy: 0.7564 - loss: 0.5000 - val_accuracy: 0.7623 - val_loss: 0.4955\n",
            "Epoch 7/10\n",
            "\u001b[1m500/500\u001b[0m \u001b[32m━━━━━━━━━━━━━━━━━━━━\u001b[0m\u001b[37m\u001b[0m \u001b[1m1s\u001b[0m 2ms/step - accuracy: 0.7603 - loss: 0.4933 - val_accuracy: 0.7628 - val_loss: 0.4899\n",
            "Epoch 8/10\n",
            "\u001b[1m500/500\u001b[0m \u001b[32m━━━━━━━━━━━━━━━━━━━━\u001b[0m\u001b[37m\u001b[0m \u001b[1m1s\u001b[0m 2ms/step - accuracy: 0.7632 - loss: 0.4899 - val_accuracy: 0.7580 - val_loss: 0.5027\n",
            "Epoch 9/10\n",
            "\u001b[1m500/500\u001b[0m \u001b[32m━━━━━━━━━━━━━━━━━━━━\u001b[0m\u001b[37m\u001b[0m \u001b[1m1s\u001b[0m 2ms/step - accuracy: 0.7638 - loss: 0.4898 - val_accuracy: 0.7653 - val_loss: 0.4845\n",
            "Epoch 10/10\n",
            "\u001b[1m500/500\u001b[0m \u001b[32m━━━━━━━━━━━━━━━━━━━━\u001b[0m\u001b[37m\u001b[0m \u001b[1m1s\u001b[0m 2ms/step - accuracy: 0.7678 - loss: 0.4830 - val_accuracy: 0.7570 - val_loss: 0.4904\n",
            "Final val accuracy (word2vec, static, 10 epochs): 0.7570000290870667\n"
          ]
        }
      ],
      "source": [
        "#1.3.a\n",
        "# stratified train/val split to avoid class-imbalance issues\n",
        "from sklearn.model_selection import train_test_split\n",
        "X_tr, X_val, y_tr, y_val = train_test_split(\n",
        "    train_input_ids, train_input_labels, test_size=0.2, stratify=train_input_labels, random_state=42\n",
        ")\n",
        "\n",
        "# 1.3.a  Static word2vec embeddings for 10 epochs\n",
        "dan_w2v_static = create_dan_model(\n",
        "    retrain_embeddings=False, # Set retrain_embeddings to False for static embedding\n",
        "    embedding_initializer='word2vec'\n",
        ")\n",
        "dan_w2v_static_history = dan_w2v_static.fit(\n",
        "    X_tr, y_tr,\n",
        "    epochs=10,\n",
        "    batch_size=32,\n",
        "    shuffle=True,\n",
        "    validation_data=(X_val, y_val),\n",
        "    verbose=1\n",
        ")"
      ]
    },
    {
      "cell_type": "code",
      "execution_count": 80,
      "metadata": {},
      "outputs": [
        {
          "name": "stdout",
          "output_type": "stream",
          "text": [
            "Final val accuracy (word2vec, static, 10 epochs): 0.7570000290870667\n"
          ]
        }
      ],
      "source": [
        "# Print the final validation accuracy (last epoch)\n",
        "dan_w2v_static_acc = dan_w2v_static_history.history['val_accuracy'][-1]\n",
        "print(\"Final val accuracy (word2vec, static, 10 epochs):\", dan_w2v_static_acc)"
      ]
    },
    {
      "cell_type": "markdown",
      "metadata": {
        "id": "sZXr9UY7lfHE"
      },
      "source": [
        "**QUESTION:**\n",
        "\n",
        "\n",
        "1.3.b What is the final validation accuracy that you observed for the model where you initialized with word2vec vectors but allow them to retrain for 3 epochs? (Copy and paste the decimal value for the final validation accuracy, e.g. a number like 0.5678 or 0.8765)\n",
        "\n"
      ]
    },
    {
      "cell_type": "code",
      "execution_count": 81,
      "metadata": {
        "colab": {
          "base_uri": "https://localhost:8080/"
        },
        "id": "qwlDqMTxVwbQ",
        "outputId": "2cf490ec-5bbd-427a-8a1e-e67838bf2fcc"
      },
      "outputs": [
        {
          "name": "stdout",
          "output_type": "stream",
          "text": [
            "Epoch 1/3\n",
            "\u001b[1m500/500\u001b[0m \u001b[32m━━━━━━━━━━━━━━━━━━━━\u001b[0m\u001b[37m\u001b[0m \u001b[1m3s\u001b[0m 3ms/step - accuracy: 0.7197 - loss: 0.5387 - val_accuracy: 0.7968 - val_loss: 0.4378\n",
            "Epoch 2/3\n",
            "\u001b[1m500/500\u001b[0m \u001b[32m━━━━━━━━━━━━━━━━━━━━\u001b[0m\u001b[37m\u001b[0m \u001b[1m1s\u001b[0m 2ms/step - accuracy: 0.8499 - loss: 0.3493 - val_accuracy: 0.8035 - val_loss: 0.4376\n",
            "Epoch 3/3\n",
            "\u001b[1m500/500\u001b[0m \u001b[32m━━━━━━━━━━━━━━━━━━━━\u001b[0m\u001b[37m\u001b[0m \u001b[1m1s\u001b[0m 2ms/step - accuracy: 0.8949 - loss: 0.2587 - val_accuracy: 0.7930 - val_loss: 0.4804\n"
          ]
        }
      ],
      "source": [
        "#1.3.b\n",
        "# 1.3.b: word2vec init + retrain embeddings, train 3 epochs\n",
        "dan_w2v_finetune = create_dan_model(\n",
        "    retrain_embeddings=True, # Set retrain_embeddings to True for fine-tuning\n",
        "    embedding_initializer='word2vec'\n",
        ")\n",
        "\n",
        "hist_w2v_finetune = dan_w2v_finetune.fit(\n",
        "    X_tr, y_tr,\n",
        "    epochs=3,\n",
        "    batch_size=32,\n",
        "    shuffle=True,                 # normal training\n",
        "    validation_data=(X_val, y_val),\n",
        "    verbose=1\n",
        ")"
      ]
    },
    {
      "cell_type": "code",
      "execution_count": 82,
      "metadata": {},
      "outputs": [
        {
          "name": "stdout",
          "output_type": "stream",
          "text": [
            "Final val accuracy (word2vec, fine-tune, 3 epochs): 0.7929999828338623\n"
          ]
        }
      ],
      "source": [
        "dan_w2v_finetune_acc = hist_w2v_finetune.history['val_accuracy'][-1]\n",
        "print(\"Final val accuracy (word2vec, fine-tune, 3 epochs):\", dan_w2v_finetune_acc)"
      ]
    },
    {
      "cell_type": "markdown",
      "metadata": {
        "id": "hO791d-oYOgg"
      },
      "source": [
        "**QUESTION:**\n",
        "\n",
        "1.3.c What is the final validation accuracy that you observed for the model where you initialized randomly and then trained?  (Copy and paste the decimal value for the final validation accuracy, e.g. a number like 0.5678 or 0.8765)\n",
        "\n",
        "\n"
      ]
    },
    {
      "cell_type": "code",
      "execution_count": 87,
      "metadata": {
        "colab": {
          "base_uri": "https://localhost:8080/"
        },
        "id": "H0rMPTAOVw70",
        "outputId": "27af3743-a9c1-44d9-8110-4c86d1858234"
      },
      "outputs": [
        {
          "name": "stdout",
          "output_type": "stream",
          "text": [
            "Epoch 1/3\n"
          ]
        },
        {
          "name": "stdout",
          "output_type": "stream",
          "text": [
            "\u001b[1m500/500\u001b[0m \u001b[32m━━━━━━━━━━━━━━━━━━━━\u001b[0m\u001b[37m\u001b[0m \u001b[1m3s\u001b[0m 3ms/step - accuracy: 0.7155 - loss: 0.5433 - val_accuracy: 0.8010 - val_loss: 0.4372\n",
            "Epoch 2/3\n",
            "\u001b[1m500/500\u001b[0m \u001b[32m━━━━━━━━━━━━━━━━━━━━\u001b[0m\u001b[37m\u001b[0m \u001b[1m1s\u001b[0m 2ms/step - accuracy: 0.8502 - loss: 0.3492 - val_accuracy: 0.8000 - val_loss: 0.4424\n",
            "Epoch 3/3\n",
            "\u001b[1m500/500\u001b[0m \u001b[32m━━━━━━━━━━━━━━━━━━━━\u001b[0m\u001b[37m\u001b[0m \u001b[1m1s\u001b[0m 2ms/step - accuracy: 0.8961 - loss: 0.2603 - val_accuracy: 0.7820 - val_loss: 0.5089\n"
          ]
        }
      ],
      "source": [
        "#1.3.c\n",
        "# 1.3.c: uniform init + retrain embeddings, train 3 epochs\n",
        "dan_uniform_finetune = create_dan_model(\n",
        "    retrain_embeddings=True, # Set retrain_embeddings to True for fine-tuning\n",
        "    embedding_initializer='uniform' # Use uniform initialization\n",
        ")\n",
        "hist_uniform_finetune = dan_uniform_finetune.fit(\n",
        "    X_tr, y_tr,\n",
        "    epochs=3,\n",
        "    batch_size=32,\n",
        "    shuffle=True,                 # normal training\n",
        "    validation_data=(X_val, y_val),\n",
        "    verbose=1\n",
        ")"
      ]
    },
    {
      "cell_type": "code",
      "execution_count": 88,
      "metadata": {
        "id": "VGdBx9wAyxzo"
      },
      "outputs": [
        {
          "name": "stdout",
          "output_type": "stream",
          "text": [
            "Final val accuracy (uniform, fine-tune, 3 epochs): 0.7820000052452087\n"
          ]
        }
      ],
      "source": [
        "dan_uniform_finetune_acc = hist_uniform_finetune.history['val_accuracy'][-1]\n",
        "print(\"Final val accuracy (uniform, fine-tune, 3 epochs):\", dan_uniform_finetune_acc)"
      ]
    },
    {
      "cell_type": "code",
      "execution_count": null,
      "metadata": {},
      "outputs": [],
      "source": []
    }
  ],
  "metadata": {
    "colab": {
      "provenance": []
    },
    "kernelspec": {
      "display_name": "2025-fall-main (3.10.2)",
      "language": "python",
      "name": "python3"
    },
    "language_info": {
      "codemirror_mode": {
        "name": "ipython",
        "version": 3
      },
      "file_extension": ".py",
      "mimetype": "text/x-python",
      "name": "python",
      "nbconvert_exporter": "python",
      "pygments_lexer": "ipython3",
      "version": "3.10.2"
    },
    "widgets": {
      "application/vnd.jupyter.widget-state+json": {
        "state": {},
        "version_major": 2,
        "version_minor": 0
      }
    }
  },
  "nbformat": 4,
  "nbformat_minor": 4
}
