{
  "cells": [
    {
      "cell_type": "markdown",
      "metadata": {
        "id": "e-k1jXQHLyFU"
      },
      "source": [
        "# Assignment 3: Summarization with LLMs\n",
        "\n",
        "**Description:** This assignment covers the task of summarization which is the process of generating an abridged version of the input. With the ascendance of LLMs, we have a new way of generating summaries. Now, rather than fine-tuning. moel to generate summaries, we can simply provide explicit instructios for the summary we want the model to generate.  By finishing this assignment you should also be able to develop an intuition for:\n",
        "\n",
        "\n",
        "* How well summarization systems work\n",
        "* The effects of hyperparameters on outcomes\n",
        "* The effects of prompts on the output of an LLM\n",
        "* Evaluation of output using ROUGE\n",
        "\n",
        "\n",
        "\n",
        "This notebook must be run on a Google Colab as it requires a GPU. By default, when you open the notebook in Colab it will configure a GPU.  Summarization commands can take up to five minutes to run depending on the hyperparameters you use.\n",
        "\n",
        "\n",
        "[![Open In Colab](https://colab.research.google.com/assets/colab-badge.svg)](https://colab.research.google.com/github/datasci-w266/2025-fall-main/blob/master/assignment/a3/SummarizationLLM_test.ipynb)\n",
        "\n",
        "The overall assignment structure is as follows:\n",
        "\n",
        " Setup\n",
        "\n",
        "1. Gemma 2 for abstractive summarization\n",
        "\n",
        "\n",
        "\n",
        "\n",
        "**INSTRUCTIONS:**:\n",
        "\n",
        "* Questions are always indicated as **QUESTION:**, so you can search for this string to make sure you answered all of the questions. You are expected to fill out, run, and submit this notebook, as well as to answer the questions in the **answers** file as you did in a1 and a2.\n",
        "\n",
        "* **### YOUR CODE HERE** indicates that you are supposed to write code.\n",
        "\n",
        "* In order to complete the assignment with the Gemma model you will need to get an account on [Hugging Face](https://huggingface.co).  It is free.  Once you have the account on Hugging Face you will need to create an Access Token.  Go\n",
        "to Access Token under your profile and generate a token with write permissions for colab.  You will need to copy that token and add it to the secrets in your Colab account with the name `HF_TOKEN` and the value of the string of your access token.\n",
        "\n",
        "* In addition, you will need to visit the [Model Card for the Gemma 2 model](https://huggingface.co/google/gemma-2-9b-it).  At the top of the page you will see a notice saying you need to request perrmission to use the model.  While logged in to your Hugging Face account, click the button to request permission.  It can sometimes take up to 10 or 15 minutes to get approved.  Once you are approved the message on the Model Card will change to indicate you have been granted access to the model.\n"
      ]
    },
    {
      "cell_type": "markdown",
      "metadata": {
        "id": "0QDMDB_KqT8m"
      },
      "source": [
        "## Setup"
      ]
    },
    {
      "cell_type": "code",
      "execution_count": 1,
      "metadata": {
        "colab": {
          "base_uri": "https://localhost:8080/"
        },
        "id": "jsumAdNg8ZoY",
        "outputId": "e47cdce0-2fe0-47e5-da6e-00d56b9be60a"
      },
      "outputs": [],
      "source": [
        "!pip install -q -U transformers\n",
        "!pip install -q -U accelerate\n",
        "!pip install -q -U bitsandbytes\n",
        "!pip install -q -U flash_attn\n",
        "!pip install -q -U datasets==3.6.0"
      ]
    },
    {
      "cell_type": "code",
      "execution_count": 2,
      "metadata": {
        "colab": {
          "base_uri": "https://localhost:8080/"
        },
        "id": "GA06vZYGxogD",
        "outputId": "ef08cb04-594a-4b0d-f1f2-f984e50ac137"
      },
      "outputs": [],
      "source": [
        "#help track which versions of libraries we're using\n",
        "!pip list | grep transformers\n",
        "!pip list | grep accelerate\n",
        "!pip list | grep bitsandbytes\n",
        "!pip list | grep datasets"
      ]
    },
    {
      "cell_type": "code",
      "execution_count": 3,
      "metadata": {
        "id": "7_gh2dgCdL73"
      },
      "outputs": [],
      "source": [
        "import datasets\n",
        "from transformers import pipeline, BitsAndBytesConfig\n",
        "import bitsandbytes as bnb\n",
        "import torch\n",
        "import random\n",
        "import pandas as pd\n",
        "from tqdm import tqdm\n"
      ]
    },
    {
      "cell_type": "code",
      "execution_count": 4,
      "metadata": {
        "colab": {
          "base_uri": "https://localhost:8080/"
        },
        "id": "LQRY_zRtdL-9",
        "outputId": "4f3c9f06-9670-467a-b172-4b98ff756540"
      },
      "outputs": [],
      "source": [
        "!pip install -q evaluate\n",
        "import evaluate"
      ]
    },
    {
      "cell_type": "code",
      "execution_count": 5,
      "metadata": {
        "colab": {
          "base_uri": "https://localhost:8080/"
        },
        "id": "yugPWaCcdMBp",
        "outputId": "f4175503-5428-48dc-9024-8656b7699bef"
      },
      "outputs": [],
      "source": [
        "!pip install -q rouge_score"
      ]
    },
    {
      "cell_type": "code",
      "execution_count": 6,
      "metadata": {
        "id": "qSkfJza6dMEI"
      },
      "outputs": [],
      "source": [
        "#let's make longer output readable without horizontal scrolling\n",
        "from pprint import pprint"
      ]
    },
    {
      "cell_type": "markdown",
      "metadata": {
        "id": "Tg8jqo1hfCdL"
      },
      "source": [
        "Now let's get the data we're going to use."
      ]
    },
    {
      "cell_type": "code",
      "execution_count": 7,
      "metadata": {
        "id": "CqV2vFZDdML9"
      },
      "outputs": [],
      "source": [
        "#import datasets\n",
        "#import random\n",
        "#import torch\n",
        "from datasets import load_dataset\n",
        "\n",
        "def load_and_sample_dataset(num_samples=11):\n",
        "    \"\"\"\n",
        "    Load and sample records from the X-Sum dataset\n",
        "    \"\"\"\n",
        "    #dataset = datasets.load_dataset(\"xsum\", split=\"train\", cache_dir=None, trust_remote_code=True)\n",
        "\n",
        "    dataset = load_dataset(\"EdinburghNLP/xsum\", split=\"test\")\n",
        "    selected_indices = random.sample(range(len(dataset)), num_samples)\n",
        "    selected_samples = dataset.select(selected_indices)\n",
        "    return selected_samples"
      ]
    },
    {
      "cell_type": "code",
      "execution_count": 8,
      "metadata": {
        "colab": {
          "base_uri": "https://localhost:8080/",
          "height": 291,
          "referenced_widgets": [
            "c3ad1dfa19e2469dbf02fa63e2cfb417",
            "11d2a84538394f39be5747dee648ad9a",
            "2026ff76e6484fb2a1fe124621d10975",
            "326132c052c5497f9fd077e5ea4f08e4",
            "b55c7d74032942e3ae1236d39a162f06",
            "fadd3278b4a44038827e66eb01c6a5b4",
            "69482d9b6f954173a9def085abceefac",
            "4c7bfca73a9641d59cb2c90cd1c6532a",
            "808caeda4c80442b91510c825966e5e5",
            "366497a53988451a9e68da61c1da8f51",
            "08b8cfdcc0ce45778563c3e40643b959",
            "76afb25c78f74fafb80aee09f90ad821",
            "c0c828c7116b486196f569a17247cccd",
            "f6846a01b6ce4b099c60111df50ada76",
            "eb880811d239440ca6b47f74c00fb665",
            "6d72cde9caf045a68829772025042f78",
            "bee74e93b7904aa39b3b9525e8c91e4f",
            "18bda91c1e394c13be1b3ea63a7d032a",
            "437c90b0b87a4750b16194e017087ccb",
            "af8efb1d39534588a829d340e32a75a8",
            "11a96ff8ec7f4ee09a5fae38ab87ac09",
            "7d3090ed48cf449c9f8a048a0753ced5",
            "7ada088f80154f7ea27843f21e4e678a",
            "ec314a08192348a8a886de3ac6387196",
            "2098d231dc2c4432bdc19301c1a408fd",
            "7dc6bc19e7fa4ae0ba12c9f6192940ce",
            "89cc93f86a0d4539932d08c4fee716ed",
            "96c0c30b367344de87695f859f2e5557",
            "3ee42af1af7b455685df82e8f1e6ea98",
            "e7016cb3428a49bba72d573e0aba8564",
            "49e6721ff9fb428e83894d4d673ae725",
            "c4375c4236144fc19890d103edb174b1",
            "e48209de27d443ba823d9409691f704a",
            "b0be957d0c844836a118c67ab2e6b292",
            "15b6d2cbfe5d46a58d1c529b279548a3",
            "b36a6fac3c1d4c32a7050760d898f3db",
            "476e423bd629464f92e908f43eec9c0e",
            "bc8874fca3c94315bcc6d654c7b93f5a",
            "c6e1ef6dc5804a7bb133fef2f7355017",
            "807453decce540ff8fb044a67d39015c",
            "c5202313dabf43bea7f9da3424a48c25",
            "c53caeded65c4fe2b386fb44074dbcaf",
            "ef051d2139784211aec4e475cc882d3d",
            "a8bacb1165f64333a0674e027b68fb6f",
            "730cb323d8b243a7b9b957e1631c5bc9",
            "9d6d8f6e70d94cc881bc6297d101a77d",
            "3d5fcedea85a4508889eb098272e3970",
            "89b17a6e2af242a4ac7c62cca1b8d899",
            "22bcb17e55834be9a3662e787924e83b",
            "00fbcb99731d45e78abd5c46af407dd9",
            "cb76429032d74c7d9c5fd096ef2a2fc2",
            "cbb1d6ff5bf141b3a3a86257fe4d1eeb",
            "757e3ff4cd7f41fa916482cddc11e8b4",
            "c377c96d5b6c4a948df02becc6ad193a",
            "3eda9097b9f2498ca106b89b7b7af3c7",
            "47bdf7b548c44643a99d7e879c9455dc",
            "65c6f47a29dd4cd8b1e31e087126d49f",
            "e77ba2c8552d40eb9caa47b0c88e5acc",
            "5644ac7a713545928d59f650e1b6809c",
            "edbbdf0b0700477e95320489c9067c01",
            "486c16696c4443099528f1b002361796",
            "dde85b13127a4ea186a4beb524e0ac77",
            "89b83565d54e4297b4118058a6fcb560",
            "9465f50cfd1f40feb2ec77627efa59af",
            "c3dfd1a38da84fafbbffee099e37a5a4",
            "7df81905c08546a987e2645492d7dcbb",
            "76dbef485db74e9d89e2d2984f6d1560",
            "e43c12fb834742b48dc4e535785f129c",
            "2d9cca4ce1e7421ba4e79f992af69260",
            "caef91b08b2b46269a28618030d8d489",
            "61d4110f4d804044bd323eb3dc07ec92",
            "06e241858dca4a74b911079e009e4db5",
            "5a73edda446e4ddca879547a821bde6b",
            "4df2f0216d8d419aaded353f6ddda446",
            "fc87631fd9c74b768542cd638512a596",
            "f1d1d5ff747f48c7a9d54ec06e21c6f1",
            "4d6453e194384911877e4749c30df0c3",
            "d963a064415e42b191fef30aaf596177",
            "f1ddeee42c084b71b857ed20fb8112ae",
            "44d1789113224e01bbab4d3eac6f6eef",
            "861155be6c6d4e93953d595128fb8e0e",
            "a2d5625d17e14db594d2f1676a156c6e",
            "8857edc2b53f4de0bba3ee0ddec8c287",
            "de3ed9d56a8146ef8c726cc30aa5c3e8",
            "ba84642c719a400fb47f371e1ab9c719",
            "f121c8a1de8e464b99ee6820dba1a30f",
            "589332f6c715494cb21a3f2a4a9c4ea6",
            "7036cc54c3734f4e92e8a7cf5dbb1950"
          ]
        },
        "id": "tIU48d57zetF",
        "outputId": "4e7e48de-cf80-480d-fd4c-84c8dda5c44c"
      },
      "outputs": [],
      "source": [
        "# Set random seed for reproducibility\n",
        "random.seed(42)\n",
        "torch.manual_seed(42)\n",
        "\n",
        "# Load dataset\n",
        "print(\"Loading dataset...\")\n",
        "dataset = load_and_sample_dataset()"
      ]
    },
    {
      "cell_type": "code",
      "execution_count": 9,
      "metadata": {
        "colab": {
          "base_uri": "https://localhost:8080/",
          "height": 88
        },
        "id": "3fca85ae",
        "outputId": "f8be3be1-ee12-46ac-890c-067f989e3e66"
      },
      "outputs": [],
      "source": [
        "display(dataset)"
      ]
    },
    {
      "cell_type": "markdown",
      "metadata": {
        "id": "Q3qhjraguSfl"
      },
      "source": [
        "What do our input documents lok like?  Let's see the first of them."
      ]
    },
    {
      "cell_type": "code",
      "execution_count": 11,
      "metadata": {
        "colab": {
          "base_uri": "https://localhost:8080/",
          "height": 143
        },
        "id": "oG4L0t1BuDta",
        "outputId": "8329b1ff-0bd3-41b3-d57c-777ae0b87425"
      },
      "outputs": [],
      "source": [
        "dataset[0]['document']"
      ]
    },
    {
      "cell_type": "markdown",
      "metadata": {
        "id": "jwpNL4iLuvnD"
      },
      "source": [
        "And what does the corresponding summmary look like?  This is our target."
      ]
    },
    {
      "cell_type": "code",
      "execution_count": 12,
      "metadata": {
        "colab": {
          "base_uri": "https://localhost:8080/",
          "height": 53
        },
        "id": "yMyEgD25uNoy",
        "outputId": "0e0bd6da-99e0-40f1-b05f-d6edb4875ef7"
      },
      "outputs": [],
      "source": [
        "dataset[0]['summary']"
      ]
    },
    {
      "cell_type": "markdown",
      "metadata": {
        "id": "bSQHA6KNyJHS"
      },
      "source": [
        "We'll also take advantage of a Hugging Face abstraction called a pipeline.  It is an easy way of experimenting with a model in inference mode.  We'll use that here to experiment with prompts (and possibly some hyperparameters) to imporve the quality of our results.\n",
        "\n",
        "It takes a while to load this model -- on the order of ten minutes -- but once it is loaded you can keep reusing the loaded model and improve your prompt.\n",
        "\n"
      ]
    },
    {
      "cell_type": "code",
      "execution_count": 13,
      "metadata": {
        "colab": {
          "base_uri": "https://localhost:8080/",
          "height": 487,
          "referenced_widgets": [
            "fe0bc382e527408a97719ded5299602f",
            "6b804ea63a514db1880b911495d33e0a",
            "59fa3a1bacc24d44a679ef98f0b47f3e",
            "d5f1348a4f8440d5b6ab21281215f849",
            "10927f0137cf41dd9e3cf024b1cb8741",
            "0b5f15239e5840c0a39f5340986a3a48",
            "a97cc838b1184c61b846a34f2faf7671",
            "bcaa83ebde7e49aebc967a68b52f3619",
            "fe712271c08142919083b223715c52a7",
            "f0fff2bd617f4e62b27891f68394f0c0",
            "89f0632429ac44839f73df336ddb5ec7",
            "f0c556960a434084a6fcac386b873e05",
            "f4190ecc4c1f4390bf714f4966ef5f00",
            "b0eeb56d0a064b809e11907fd1911ca4",
            "0202036c33da48e698e29e0c89a9311e",
            "cd7e1995077b4be897f14501b942a45f",
            "b4781729c51d49049ab03193f18aa326",
            "24f5d93415d84b7da127d4dba1b2deee",
            "4ccb096365164cd4916dd648914f3cdb",
            "c1d2986e23144103ad4a5ad20d17dbd0",
            "c7b75e7218c24a2eb67eb19a11b108be",
            "d39cb5d832c042438492267b06122b45",
            "829c8d0a97ad43dc8be3c48abc66fdb4",
            "25b95720d9994b3780fb89fe9c69ba69",
            "0a2154ecdcdf4259b5041e6f034b84bf",
            "f3e61237830e4ccd91240b99f797467c",
            "9b80acb1611c4340842dfa3384610ab9",
            "ec3681bd42264069bb1abf189f47d648",
            "18f2498d232240e2b0be12049893a436",
            "6f6c4dfb98c24128aedbf64ff0ca4cb1",
            "a9b8f23f4e53471dbdf45bb20fac6085",
            "bfe569db87244dbba7302affbe802df3",
            "0587efa293a148bc863fd3516bdb58d9",
            "c6472b276b444b3da0386343e5042a62",
            "8366671a04a8494295a1503fe5dcc999",
            "f197e8d3f0ef4228915202481cbe75f3",
            "e76d5700fb2a42e2b2d1b2b90596755f",
            "ad6e81be932146f98fd9096460ca57be",
            "06ec0a46f98a444da44826f0d62d2420",
            "b7e875f3bc0d4132975fde97c51f6aef",
            "a14be65b8cb04282b4e90d9809701832",
            "570d941ab7574d7680a2f4fe4b6540de",
            "c247e2b770944501a0203bb436268fe5",
            "78888029198e45999f340148bbd0114e",
            "eb723c3d89fb4bbca635e5a7f855e16c",
            "b160839d2bec45e0b372f41912cdb61f",
            "2f979dd4af0741d594be2ebac48b4f68",
            "b22df1d908d544798479e2db88d60835",
            "c9ff97f084a647a097c99974ed96ca04",
            "f21e5ff17aba4344b0d09aab4f58af3d",
            "a10ea47fe0144531a7642469ae3612d1",
            "6beeb7da014d4bc9ab7bf0413e4cfae9",
            "ca5ff9b906c040dfa10d78246ebf33ea",
            "8e055030ee20446da98c659671f647ef",
            "c08970041d954fca9e46e5458dbaa48d",
            "a54a7972844f4ecc9139a31a87d11f7f",
            "6ed46b4b675a4342aeba0745c976b682",
            "7c0dc083a7a74d34b02e53d01cd34dac",
            "224184a1d5e24b7895d559815d7fd715",
            "e14cfef9e7834bc3b7c925759bdf3dd1",
            "b7ce84a1d9a04fcc9bfcd9b96c3af4f4",
            "18fd57493073467e976259c3d99b8246",
            "f28d94882d7048b29683c3288f5f8a74",
            "02211af2b361443b84363aae6e56cbd1",
            "67424d46a8f54f638cdbe3c45be81d26",
            "a5585911822449579824d285effe2a7f",
            "0a31a4765411425c97dc759a8dd5c460",
            "add83808123141378858398c8c37d5bd",
            "03bdc9ddebbf4407bb7c4e174fbe289b",
            "8f76fd686e604b89b3aff18bcb1dba45",
            "52519b4a3b3d48ddadfacb98fb4ef865",
            "8f658a80f21642719a16bc1ba0a918e9",
            "88a34313a83042759f3912135e315e10",
            "3c047d72dab845d09b4c3b05beebf84c",
            "fca3b08b0bad4d56bb8f84ce2bbc29d9",
            "ed62455f0bdb4dd3a577ee91f0865174",
            "afc6eae846174d1e88640d9d0bb77d38",
            "a9b10cf0a1f34f35b9e6b0f6c44428f2",
            "99cdee93d01544389c923865455a1d0a",
            "ff86ec0ba5a24abfb244dbdd59083199",
            "9a8d8d2ca65d45628bb2f4db21ab9be6",
            "3467cab0b9424439881b64c91e080c64",
            "639533dbb2d04e548b8242fc676a57c4",
            "e3e01afce5fb4ed49568e442a994ec06",
            "472bcfcac9b04947a76865051dda7e74",
            "e447beb0342740b6b0b6bf41b2ccd947",
            "f801fcee6a6d421db34460cb79df8d3a",
            "79a2d64e1fa94e31ae2c4e470222e74e",
            "df439faa12424ffb8d07a03250d053cf",
            "25f58f5f995c46d5a6ce4c0f490ba102",
            "4ccc54c3b6464040aabd21c8560d8eb3",
            "c3e2d6d015b2462ea5db3a0fa7cb0831",
            "6932a4b535bf428fb54e0654562ae265",
            "ed888825b9e64d8ca17616a48474ae42",
            "eb5c9a6b863c4cfa8c54ae45b9a39741",
            "849ea864f15b43a8bdd406c5a7806254",
            "573c4097efc84342bf4e686b6f7b8e8b",
            "737947728b3c4948b102174c045d877a",
            "52fe1e5c57c24849b2d4029615f64b42",
            "b4eaf17d63c04cfd88a6c1a65df01ce1",
            "c8c03ff00dcd4305b92a70ae6ab7e6bd",
            "d66dacf14d984772afda8e4da06b1708",
            "da58193993874451a589d332dbbb2059",
            "abc0412311e04a30a5bfdeff71f5c3f3",
            "129a343cff9444e1866ad5df271a5967",
            "3d85df1c6a82454c8f7c2e21d292dff0",
            "f1453bc196aa4a77bee181d43746ab85",
            "4c8d2d47a8c54677a8139fba4510d086",
            "637077d4a0014587933c39c45ed43989",
            "c75e3b2925654bf896194bf3b16211d2",
            "b98058158a184d44a36415de6c6606f3",
            "8098e920b9c04585a94220427557556b",
            "62ffc9caa64c4cad8397b4606e82a100",
            "315a3f4cac8a447691b89b322d5dfeb2",
            "5963c672dea24080a50f0ec14be5059c",
            "4d35d17adf5a4037af84f6d25a853c22",
            "da459ca7cd314d77933b072f21c9a34b",
            "90c07ab1cc704606b70235e992ae71fd",
            "fb9daaa0b0364c6f87897293a0803a7d",
            "bb3b94bac38a46bf95b7a2513e743c2c",
            "28bf163d6b4d4def9ce7bfe841b26112",
            "aad4e3f69a604405b298d6353aa35b6a",
            "9ceea71cc1d24709a3a01923244d301e",
            "e16b485ad1124ff5bd9ebb91a7f1461c",
            "399cfcf27bc04c0089a721581c137b83",
            "f16e64ff74784c7ab89ae5829562caa7",
            "1435fbc00f0e4915b2d32fa41df811c0",
            "330cc013a9c643ef808bd68dab7deb6b",
            "a7302c11564c4d1ab8cf5f684c007e22",
            "25857c3a79b94da0b305c735b3641104",
            "9d46e3f052ae467dbe451e95057f45d6",
            "4bb6f8c41b64484db4b7382ec53ddf19",
            "8775d0a1635743918dd05f3da6f8a4d0",
            "139ce9ec202346e8b697d90a16036306",
            "d10ef95ec50f4c78a263fbda2d599c10",
            "df31f07e0d5f439088b62538e4bf94af",
            "4dc06a9e8fa84aa4b799e646accb5676",
            "387f52db7a884612951f0b635ff529a0",
            "c66d4213812b486a8a4d2dab7fd976e3",
            "945249742d6549629f73322e00d17362",
            "a14962cdcb444d9fbe6a21acd54fd840",
            "8c6fe07a839f407ba60541f067ec66d8",
            "11fb7848bb5d4ca2b2d40db1a4314535"
          ]
        },
        "id": "Ed-EHAlY0_6h",
        "outputId": "1188b9c5-cf50-4974-c66e-34a5dfd682f5"
      },
      "outputs": [],
      "source": [
        "\"\"\"\n",
        "Initialize the pipeline with bitsandbytes quantization\n",
        "\"\"\"\n",
        "# Configure bitsandbytes for 4-bit quantization\n",
        "quantization_config = BitsAndBytesConfig(\n",
        "    load_in_4bit=True,\n",
        "    bnb_4bit_use_double_quant=True,\n",
        "    bnb_4bit_quant_type=\"nf4\",\n",
        "    bnb_4bit_compute_dtype=torch.bfloat16\n",
        ")\n",
        "\n",
        "# Initialize pipeline\n",
        "model_id = \"google/gemma-2-9b-it\"\n",
        "\n",
        "summarizer = pipeline(\n",
        "   \"text-generation\",\n",
        "   model=model_id,\n",
        "   model_kwargs={\"dtype\": torch.bfloat16, \"quantization_config\": quantization_config},\n",
        "   device_map=\"auto\",\n",
        "   trust_remote_code=True,\n",
        ")"
      ]
    },
    {
      "cell_type": "markdown",
      "metadata": {
        "id": "DCi4E2qOon7d"
      },
      "source": [
        "As a reminder, here's the record we're dealing with."
      ]
    },
    {
      "cell_type": "code",
      "execution_count": 14,
      "metadata": {
        "colab": {
          "base_uri": "https://localhost:8080/"
        },
        "id": "YAD_slXM-LWu",
        "outputId": "de894c45-dddd-467b-dc52-d6c61ae2c525"
      },
      "outputs": [],
      "source": [
        "dataset[0]"
      ]
    },
    {
      "cell_type": "markdown",
      "metadata": {
        "id": "2eNP71VptuPb"
      },
      "source": [
        "Let's just generate one summary so we can see what it looks like"
      ]
    },
    {
      "cell_type": "code",
      "execution_count": 15,
      "metadata": {
        "id": "Y3Oa6qs4AL3A"
      },
      "outputs": [],
      "source": [
        "prompt = [\n",
        "            {\"role\": \"user\", \"content\": \"Generate a summary of this text: \" + dataset[0]['document']}\n",
        "        ]\n",
        "\n",
        "\n",
        "\n",
        "outputs = summarizer(\n",
        "  prompt,\n",
        "  max_new_tokens=256,\n",
        "  do_sample = True,\n",
        "  temperature = 0.3,\n",
        "  top_p = 0.95\n",
        ")\n",
        "\n",
        "summary = outputs[0][\"generated_text\"][-1]"
      ]
    },
    {
      "cell_type": "markdown",
      "metadata": {
        "id": "erKKkt4ut2Vp"
      },
      "source": [
        "Let's see what the generated summary looks like."
      ]
    },
    {
      "cell_type": "code",
      "execution_count": 16,
      "metadata": {
        "colab": {
          "base_uri": "https://localhost:8080/"
        },
        "id": "I2QOSE6YAzN9",
        "outputId": "8dd7c262-32c0-4dbc-951b-d3ce52fe659a"
      },
      "outputs": [],
      "source": [
        "summary"
      ]
    },
    {
      "cell_type": "markdown",
      "metadata": {
        "id": "jjiyy3ifz76K"
      },
      "source": [
        "How does it compare with the reference? Let's compare your candidate and the reference using the ROUGE metric."
      ]
    },
    {
      "cell_type": "code",
      "execution_count": 17,
      "metadata": {
        "colab": {
          "base_uri": "https://localhost:8080/",
          "height": 138,
          "referenced_widgets": [
            "208e232d0dac4127a17e76674c24ba17",
            "a43902d95196492bab358069e1c70ad5",
            "32c0b8bc0f6746b1a91b18b0a342a768",
            "9597da77d11c4ed198cf35696f685ba1",
            "1e389a5cbe764d6bbc7419fa7674db99",
            "e7fc159bc83c4eaa968db23851141d25",
            "a7b6944f840341b1b3613881b8e5aaeb",
            "6f849208525745abb6eddec7eb2b37bb",
            "650ea127e18a42b5a5060810000c1cef",
            "b4a8970025db401e9b691ec8267562e2",
            "d579976f7c4b4a6da88df4ed232da56b"
          ]
        },
        "id": "Ah7UlWgdCkQb",
        "outputId": "6ab00439-f585-4ed8-ca43-cec6db677a70"
      },
      "outputs": [],
      "source": [
        "rouge = evaluate.load('rouge')\n",
        "\n",
        "\n",
        "# Process each sample\n",
        "print(\"Generating summaries and calculating ROUGE scores...\")\n",
        "\n",
        "\n",
        "\n",
        "# Calculate ROUGE scores\n",
        "predictions = [summary['content']]\n",
        "references = [[dataset[0]['summary']]]\n",
        "rouge_scores = rouge.compute(predictions=predictions, references=references)\n",
        "rouge_scores"
      ]
    },
    {
      "cell_type": "markdown",
      "metadata": {
        "id": "EdwZYSMCsybG"
      },
      "source": [
        "Now, it's your turn.  Please improve the prompt below so that you get output that, when scored using ROUGE, the average scores for the entire data sample of 11 records exceeds these thresholds:\n",
        "* Rouge-1 > 0.2\n",
        "* Rouge-2 > 0.03\n",
        "* Rouge-L > 0.15\n",
        "\n",
        "You may use sampling with Top K or Top P and termperature if you like but the prompt is what will have the greatest effect on your output.  Your prompt should give as specific instructions as possible.  These LLMs are trained to follow instructions so be very specific in your request.  Individual words can make a large difference so take a little time to experiment with synonyms and alternate ways of phrasing things."
      ]
    },
    {
      "cell_type": "code",
      "execution_count": 18,
      "metadata": {
        "id": "CNxcpDaszefb"
      },
      "outputs": [],
      "source": [
        "# Store results for aggregate scoring\n",
        "results = []"
      ]
    },
    {
      "cell_type": "markdown",
      "metadata": {
        "id": "u5wRhfLWvQK9"
      },
      "source": [
        "Enter your prompt in the space below and then run the code.  "
      ]
    },
    {
      "cell_type": "code",
      "execution_count": 19,
      "metadata": {
        "colab": {
          "base_uri": "https://localhost:8080/"
        },
        "id": "aNqZgjFlXASV",
        "outputId": "048a0879-cd16-4b80-e7c8-f4f5e50ce818"
      },
      "outputs": [],
      "source": [
        "dataset[6]"
      ]
    },
    {
      "cell_type": "code",
      "execution_count": 20,
      "metadata": {
        "colab": {
          "base_uri": "https://localhost:8080/"
        },
        "id": "3F3MKHL29hNv",
        "outputId": "b2c759a7-47cc-429c-ca87-a817c329e01b"
      },
      "outputs": [],
      "source": [
        "for idx, sample in enumerate(tqdm(dataset)):\n",
        "    try:\n",
        "      prompt = [\n",
        "      ### YOUR CODE HERE\n",
        "\n",
        "\n",
        "\n",
        "      ### END YOUR CODE\n",
        "              ]\n",
        "\n",
        "\n",
        "      # Generate summary via the pipeline\n",
        "      outputs = summarizer(\n",
        "                          prompt,\n",
        "                          max_new_tokens=512,\n",
        "      )\n",
        "\n",
        "      summary = outputs[0][\"generated_text\"][-1]\n",
        "\n",
        "      # Calculate ROUGE scores\n",
        "      predictions = [summary['content']]\n",
        "      references = [[sample['summary']]]\n",
        "      rouge_scores = rouge.compute(predictions=predictions, references=references)\n",
        "\n",
        "\n",
        "      # Store results\n",
        "      results.append({\n",
        "          'id': idx,\n",
        "          'original_text': sample['document'][:500],  # Store truncated text for readability\n",
        "          'reference_summary': sample['summary'],\n",
        "          'generated_summary': summary,\n",
        "           **rouge_scores\n",
        "      })\n",
        "\n",
        "      # Print progress update every 10 samples\n",
        "      if (idx + 1) % 10 == 0:\n",
        "          print(f\"\\nProcessed {idx + 1} samples\")\n",
        "          print(f\"Latest ROUGE-1: {rouge_scores['rouge1']:.4f}\")\n",
        "\n",
        "    except Exception as e:\n",
        "      print(f\"Error processing sample {idx}: {str(e)}\")\n",
        "      continue"
      ]
    },
    {
      "cell_type": "markdown",
      "metadata": {
        "id": "BXJOYG_Uvdq9"
      },
      "source": [
        "Calculate and print the average scores."
      ]
    },
    {
      "cell_type": "code",
      "execution_count": 21,
      "metadata": {
        "colab": {
          "base_uri": "https://localhost:8080/"
        },
        "id": "8uw5sH_aLmcx",
        "outputId": "bc0e33c4-dac3-4a97-c99c-bdf6e6c8d595"
      },
      "outputs": [],
      "source": [
        "# Convert results to DataFrame\n",
        "results_df = pd.DataFrame(results)\n",
        "\n",
        "# Calculate and print average ROUGE scores\n",
        "avg_scores = results_df[['rouge1', 'rouge2', 'rougeL']].mean()\n",
        "print(\"\\nAverage ROUGE Scores:\")\n",
        "for metric, score in avg_scores.items():\n",
        "   print(f\"{metric}: {score:.4f}\")\n",
        "\n",
        "# Print some example summaries\n",
        "print(\"\\nExample Summaries:\")\n",
        "for i in range(min(5, len(results_df))):\n",
        "   print(f\"\\nExample {i+1}:\")\n",
        "   print(f\"Reference: {results_df.iloc[i]['reference_summary']}\")\n",
        "   print(f\"Generated: {results_df.iloc[i]['generated_summary']}\")"
      ]
    },
    {
      "cell_type": "markdown",
      "metadata": {
        "id": "o-cXT7xYqzN0"
      },
      "source": [
        "**QUESTION:**\n",
        "\n",
        "1.1 What is the number of words in your prompt once you've met the scoring criteria?\n",
        "\n",
        "1.2 What is the avg ROUGE-1 score you get once you've met the scoring criteria?\n",
        "\n",
        "1.3 What is the avg ROUGE-2 score you get once you've met the scoring criteria?\n",
        "\n",
        "1.4 What is the avg ROUGE-L score you get once you've met the scoring criteria?\n",
        "\n",
        "1.5 How helpful do you find ROUGE to be in creating better summaries?  How do you think it could be improved? Please write a five sentence response in the text cell below."
      ]
    },
    {
      "cell_type": "markdown",
      "metadata": {
        "id": "lFwRLMAmsIrN"
      },
      "source": [
        "*** YOUR ANSWER TO QUESTION 1.5 HERE ***\n",
        "\n",
        "*** END YOUR ANSWER ***"
      ]
    }
  ],
  "metadata": {
    "accelerator": "GPU",
    "colab": {
      "gpuType": "T4",
      "provenance": []
    },
    "kernelspec": {
      "display_name": "Python 3 (ipykernel)",
      "language": "python",
      "name": "python3"
    },
    "language_info": {
      "codemirror_mode": {
        "name": "ipython",
        "version": 3
      },
      "file_extension": ".py",
      "mimetype": "text/x-python",
      "name": "python",
      "nbconvert_exporter": "python",
      "pygments_lexer": "ipython3",
      "version": "3.11.5"
    },
    "widgets": {
      "application/vnd.jupyter.widget-state+json": {
        "state": {},
        "version_major": 2,
        "version_minor": 0
      }
    }
  },
  "nbformat": 4,
  "nbformat_minor": 4
}
