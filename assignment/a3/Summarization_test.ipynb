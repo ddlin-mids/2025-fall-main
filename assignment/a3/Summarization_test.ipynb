{
  "cells": [
    {
      "cell_type": "markdown",
      "metadata": {
        "id": "e-k1jXQHLyFU"
      },
      "source": [
        "# Assignment 3: Summarization Tests\n",
        "\n",
        "**Description:** This assignment covers summarization outputs. You will compare three different types of solutions, all using an encoder-decoder architecture. You should also be able to develop an intuition for:\n",
        "\n",
        "\n",
        "* How well summarization systems work\n",
        "* The effects of using different pre-training and fine-tuning checkpoints on outcomes\n",
        "* The effects of hyperparameters on outcomes\n",
        "* Evaluation of output using ROUGE\n",
        "\n",
        "\n",
        "\n",
        "This notebook should be run on a Google Colab but it does not require a GPU. By default, when you open the notebook in Colab it will NOT configure a GPU.  Summarization commands can take up to five minutes to run depending on the hyperparameters you use. This notebook will NOT run on your GCP instance as the summary models are larger than the avaialble memory.\n",
        "\n",
        "\n",
        "[![Open In Colab](https://colab.research.google.com/assets/colab-badge.svg)](https://colab.research.google.com/github/datasci-w266/2023-summer-main/blob/master/assignment/a3/Summarization_test.ipynb)\n",
        "\n",
        "The overall assignment structure is as follows:\n",
        "\n",
        " Setup\n",
        "\n",
        "1. T5 for generic summarization\n",
        "\n",
        "2. Pegasus for headline summarization\n",
        "\n",
        "3. Pegasus for longer generation\n",
        "\n",
        "\n",
        "\n",
        "\n",
        "**INSTRUCTIONS:**:\n",
        "\n",
        "* Questions are always indicated as **QUESTION:**, so you can search for this string to make sure you answered all of the questions. You are expected to fill out, run, and submit this notebook, as well as to answer the questions in the **answers** file as you did in a1 and a2.\n",
        "\n",
        "* **### YOUR CODE HERE** indicates that you are supposed to write code.\n",
        "\n",
        "\n"
      ]
    },
    {
      "cell_type": "markdown",
      "metadata": {
        "id": "0QDMDB_KqT8m"
      },
      "source": [
        "## Setup"
      ]
    },
    {
      "cell_type": "code",
      "execution_count": 1,
      "metadata": {
        "id": "Gl5EZTtfK5jL"
      },
      "outputs": [],
      "source": [
        "!pip install -q sentencepiece"
      ]
    },
    {
      "cell_type": "code",
      "execution_count": 2,
      "metadata": {
        "id": "xp3SaiO8LXrC"
      },
      "outputs": [],
      "source": [
        "!pip install -q transformers\n",
        "!pip install -q accelerate"
      ]
    },
    {
      "cell_type": "code",
      "execution_count": 3,
      "metadata": {
        "id": "LXb7npV2Lluh"
      },
      "outputs": [],
      "source": [
        "!pip install -q torchinfo"
      ]
    },
    {
      "cell_type": "code",
      "execution_count": 4,
      "metadata": {
        "id": "Ctq7UPLxL4vG"
      },
      "outputs": [],
      "source": [
        "from torchinfo import summary"
      ]
    },
    {
      "cell_type": "code",
      "execution_count": 5,
      "metadata": {
        "colab": {
          "base_uri": "https://localhost:8080/"
        },
        "id": "KzQBFiaPnr4j",
        "outputId": "23136709-9d57-4d9e-97c2-d7c7721736ac"
      },
      "outputs": [],
      "source": [
        "!pip install -q evaluate\n",
        "import evaluate"
      ]
    },
    {
      "cell_type": "code",
      "execution_count": 6,
      "metadata": {
        "colab": {
          "base_uri": "https://localhost:8080/"
        },
        "id": "Lsz88WynuVkn",
        "outputId": "8a09ad1e-0914-4337-bd07-58fd155fba2d"
      },
      "outputs": [],
      "source": [
        "!pip install -q rouge_score"
      ]
    },
    {
      "cell_type": "code",
      "execution_count": 7,
      "metadata": {
        "id": "M9Z1Xt8YIS-6"
      },
      "outputs": [],
      "source": [
        "#let's make longer output readable without horizontal scrolling\n",
        "from pprint import pprint"
      ]
    },
    {
      "cell_type": "markdown",
      "metadata": {
        "id": "CE4JuNugLura"
      },
      "source": [
        "Let's leverage the pre-trained and fine tuned models on HuggingFace to demonstrate some capabilities with abstractive summarization and language generation.  They include models/checkpoints that were fine tuned on a particular dataset.  In our case we'll focus on one dataset that emphasizes a one line output and another that emphasizes a multi-line output."
      ]
    },
    {
      "cell_type": "markdown",
      "metadata": {
        "id": "_UUcHy8gPpHT"
      },
      "source": [
        "We'll use this same toy article as the input to all of our summarization attempts.  That way we have the ability to compare. We'll also create two references for evaluation.  These are the targets you are trying to meet.  One reference is for the longer output. The second reference is the short one for the one line output."
      ]
    },
    {
      "cell_type": "code",
      "execution_count": 8,
      "metadata": {
        "id": "BO8pkrxNLYIz"
      },
      "outputs": [],
      "source": [
        "\n",
        "ARTICLE_TO_SUMMARIZE = (\n",
        "    \"Nearly 800 thousand customers are scheduled to be affected by the shutoffs which are expected to last through at least midday tomorrow. \"\n",
        "    \"PG&E stated it scheduled the blackouts in response to forecasts for high winds amid dry conditions. \"\n",
        "    \"The aim is to reduce the risk of wildfires. \"\n",
        "    \"If Pacific Gas & Electric Co, a unit of PG&E Corp, goes through with another public safety power shutoff, \"\n",
        "    \" it would be the fourth round of mass blackouts imposed by the utility since Oct. 9, when some 730,000 customers were left in the dark. \"\n",
        "    \"The recent wave of precautionary shutoffs have drawn sharp criticism from Governor Gavin Newsom, state regulators and consumer activists as being overly broad in scale.\"\n",
        "    \"Newsom blames PG&E for doing too little to properly maintain and secure its power lines against wind damage.\"\n",
        "    \"Utility executives have acknowledged room for improvement while defending the sprawling scope of the power cutoffs as a matter of public safety.\"\n",
        "    \"The record breaking drought has made the current conditions even worse than in previous years. \"\n",
        "    \"It exponentially increases the probability of large scale wildfires. \"\n",
        ")\n",
        "\n",
        "LONG_REFERENCE = (\n",
        "    \"Many PG&E customers could be affected by public safety power shutoffs in response to forecasts for high winds and dry conditions. \"\n",
        "    \"The record breaking drought exponentially increases the probability of large scale wildfires. \"\n",
        "    \"Despite being criticized by Governor Newsom for being overly broad, company officials defend the cutoffs as a matter of public safety. \"\n",
        ")\n",
        "\n",
        "SHORT_REFERENCE = (\n",
        "    \"California's largest utility is set to turn off power to hundreds of thousands of customers in an effort to reduce the risk of wildfires. \"\n",
        ")"
      ]
    },
    {
      "cell_type": "markdown",
      "metadata": {
        "id": "2gImnMrnCzHa"
      },
      "source": [
        "How long is our article to summarize?  Obviously our summary should be shorter since it is supposed to be \"abridged.\""
      ]
    },
    {
      "cell_type": "code",
      "execution_count": 9,
      "metadata": {
        "colab": {
          "base_uri": "https://localhost:8080/"
        },
        "id": "yg7Hf_VdaQj-",
        "outputId": "72e37eac-13f5-4e27-c28d-cdf5575e0db8"
      },
      "outputs": [],
      "source": [
        "len(str.split(ARTICLE_TO_SUMMARIZE))"
      ]
    },
    {
      "cell_type": "markdown",
      "metadata": {
        "id": "C9xudUadMrFA"
      },
      "source": [
        "## 1. T5 for Generic Summarization\n",
        "\n",
        "T5 is an encoder decoder architecture that has been trained on multiple tasks, so not purely summarization.  You can read more about it [here](https://huggingface.co/docs/transformers/model_doc/t5)."
      ]
    },
    {
      "cell_type": "code",
      "execution_count": 10,
      "metadata": {
        "colab": {
          "base_uri": "https://localhost:8080/",
          "height": 177,
          "referenced_widgets": [
            "b384a99e6d304bc299105a1d8c8618b1",
            "1c7a0461050b498aa85e8f3057fb2c2c",
            "86119227330c4bd789bc9b1bc48bcca9",
            "df1c7d9bb62c4e1a902d7807b255c717",
            "b7ecc3f2e1c54424943772fbd3539674",
            "64935e263813462686b9e4d671ed79fe",
            "8a4233b6a04b4b93aa360fb3fad2dcb7",
            "84554170e5f94257bab8cc548931416e",
            "59497fa822f1481fa879a30d2e0f905a",
            "600eff57b55b47f1a8beac820d14cb1e",
            "9358f1515d8b43f1bbb9aed4c49c61a6",
            "fae696ff3bac4dce99fc41203c9f02d2",
            "edc7d784a64749b5bd11abde516ca43c",
            "05d81d485b9b450bb09562377e3029b5",
            "9f77ca96640f489ca98ffa75ee8210a3",
            "26a38deaced040e4afb20f8957525526",
            "c6b75b7a51f14b3aa87a1772539ef2ce",
            "c4e3bc31d580460da74a426e9b4cdd9b",
            "89c3e78fef5849aa9048119c8cb836b3",
            "c052972cf57a4d9284f64144d49f85a1",
            "054ca67cd6494d1c84535ddc5b05dabf",
            "12ff6a247fb44be288b7520cc0b959fb",
            "31154c1a29e444e3b436f907306f54eb",
            "646a49d5ed754f9490b494f984b26b88",
            "94250aede9ab4a7fafacd228d749a3b0",
            "ae416d168a384a6fb7bc60652dc13b66",
            "73e50c5832054546b5f45c527d42bf82",
            "e519858b8f7346c298c5e6dfa15622a7",
            "d3b8ec237459427593e1db122fd050d5",
            "93c175d7bf1247c4a036b165394fe64b",
            "9a9802b283644cc199f7352ce52a4bf3",
            "53f7d9e5ec8b473ea6e32f254f0a8cd8",
            "97198f585f914805a77c06624f6378b4",
            "53083cad0bfd43ca8c7ef30fc662d8c9",
            "472e269444674ceb89f7cf2574a70537",
            "f37055aa034347bbaa93245728534c45",
            "16f5127f0f924e34add1597edf789b3a",
            "8e97e660c7274bc5a93b69364f8b223a",
            "18c6a4bab27c44b4ae18a764e491230f",
            "2d77e54ad1594ede81c6acb0521032ca",
            "b3660255e9b147d9924208ec48c92a39",
            "c1ab82000ac04192931c2a0dbe2e5d21",
            "4b58241505404360ab0935e48a194381",
            "876624ba132040eea5a4683816439eff",
            "3a404d023e524b69a03b858289b8fc41",
            "d72df370b083483a9bb70855cad1d05f",
            "a0e31fcf880d4af2aa2f2796188454ee",
            "afa0135bd2804fdb8a5a11504c299276",
            "645674637101481bb0ed460ad2d7b64e",
            "fdc375fa6a8c4527b3e2f07716ed7648",
            "1b55a288633f465fafecf911b5873829",
            "d12833ed754048b79296a23310afc5bb",
            "763220d70bdb4505bb1f478c6c8e8df2",
            "ac8f4bc7053b45e1a74599310a8ee9d2",
            "d8ffab4ba6a043ed9808aebf0ab492fc"
          ]
        },
        "id": "H5hUaBGEMEth",
        "outputId": "7cf550d3-f656-4b8a-ac99-27a47d5a46c4"
      },
      "outputs": [],
      "source": [
        "#Load model directly\n",
        "from transformers import AutoTokenizer, AutoModelForSeq2SeqLM\n",
        "\n",
        "t5_tokenizer = AutoTokenizer.from_pretrained(\"google-t5/t5-base\")\n",
        "t5_model = AutoModelForSeq2SeqLM.from_pretrained(\"google-t5/t5-base\")"
      ]
    },
    {
      "cell_type": "markdown",
      "metadata": {
        "id": "tYrpx6lSQu6K"
      },
      "source": [
        "Since T5 can perform multiple tasks we need to tell it what kind of output we want.  Therefore we need to prepend a \"prompt\" to our article text to make sure it does the right thing."
      ]
    },
    {
      "cell_type": "code",
      "execution_count": 11,
      "metadata": {
        "id": "haKG84-iNe9k"
      },
      "outputs": [],
      "source": [
        "PROMPT = 'summarize: '\n",
        "T5ARTICLE_TO_SUMMARIZE = PROMPT + ARTICLE_TO_SUMMARIZE"
      ]
    },
    {
      "cell_type": "code",
      "execution_count": 12,
      "metadata": {
        "id": "EKgvAz84SzSH"
      },
      "outputs": [],
      "source": [
        "inputs = t5_tokenizer(T5ARTICLE_TO_SUMMARIZE, max_length=1024, truncation=True, return_tensors=\"pt\")"
      ]
    },
    {
      "cell_type": "markdown",
      "metadata": {
        "id": "yoDo-7DzQCQl"
      },
      "source": [
        "What do the inputs look like?  How does it compare with what we've seen from BERT?"
      ]
    },
    {
      "cell_type": "code",
      "execution_count": 13,
      "metadata": {
        "colab": {
          "base_uri": "https://localhost:8080/"
        },
        "id": "il9ui27nSRID",
        "outputId": "af268e68-58af-4fa0-ae76-e62dcaa5fe40"
      },
      "outputs": [],
      "source": [
        "inputs"
      ]
    },
    {
      "cell_type": "markdown",
      "metadata": {
        "id": "S6NT_ADVQCQm"
      },
      "source": [
        "Let's just run T5 using it's default hyperparameters and see what happens.  We'll hold on to the output in the candidate variable.  What do you think about the output?"
      ]
    },
    {
      "cell_type": "code",
      "execution_count": 14,
      "metadata": {
        "colab": {
          "base_uri": "https://localhost:8080/"
        },
        "id": "wQzPxfCutzsl",
        "outputId": "966eafd5-a0f9-4321-90d4-429cdf04cf83"
      },
      "outputs": [],
      "source": [
        "# Generate Summary\n",
        "summary_ids = t5_model.generate(inputs[\"input_ids\"],\n",
        "                               max_new_tokens=30\n",
        ")\n",
        "candidate = t5_tokenizer.batch_decode(summary_ids, skip_special_tokens=True, clean_up_tokenization_spaces=False)\n",
        "pprint(candidate[0], compact=True)"
      ]
    },
    {
      "cell_type": "markdown",
      "metadata": {
        "id": "6JSmlLkqtHQ5"
      },
      "source": [
        "### 1.a Checkpoint Configuration\n",
        "\n",
        "We're using the `t5-base` configuration and we know we can run out of the box to do summarization which means it has some hyperparameters set as defaults.  These may or may not be what we want to use.  How do we know which values are set as defaults?\n",
        "\n",
        "HuggingFace provides access to the default hyperparameters via the AutoConfig object which we call below.  We simply pass in the name of the checkpoint we're using -- `t5-base` in this case.\n"
      ]
    },
    {
      "cell_type": "code",
      "execution_count": 15,
      "metadata": {
        "colab": {
          "base_uri": "https://localhost:8080/",
          "height": 1000,
          "referenced_widgets": [
            "622b8168f1f54697b558e9a6fa35d2f4",
            "5cd29bddf1bd43fda8a0a287b471bba2",
            "eeefe10902224c189988f60a16e71afe",
            "69a2432f320c484ca52fe8e0e48334b0",
            "e072d5772019497b9217128c6d15619f",
            "9aba9d47f7d14fb7909c925f7ff04b6b",
            "4cc7bbf6588548629b23f3240676be5c",
            "4fb1231fd6a8481f9ac77749ded48306",
            "cb6c14a0111c4733aa53297624878dda",
            "393332da1ef948fea3653f0af483b56b",
            "70eb5add46d6469a902450bb42aa1866"
          ]
        },
        "id": "E-DC5UoBscv4",
        "outputId": "e43ec64a-c606-4a51-eed5-9c87c9d66c2c"
      },
      "outputs": [],
      "source": [
        "from transformers import AutoConfig\n",
        "\n",
        "config = AutoConfig.from_pretrained(\"t5-base\")\n",
        "\n",
        "config"
      ]
    },
    {
      "cell_type": "markdown",
      "metadata": {
        "id": "eqhE0DpTvmQP"
      },
      "source": [
        "Look at the `task_specific_params` for summarization. You can see that this `t5-base` checkpoint has some values such as min_length and max_length as well as no_repeat_ngram_size and num_beams.  You can affect the size and content of the output by modifying these parameters which you will do below.\n",
        "\n",
        "You can also look at the full set of possible parameters in the [TFGenerationMixin](https://huggingface.co/docs/transformers/v4.18.0/en/main_classes/text_generation#transformers.generation_tf_utils.TFGenerationMixin) class available to all of the pre-trained models.\n",
        "\n",
        "HuggingFace has also written [a very helpful blog post](https://huggingface.co/blog/how-to-generate) that explains and discusses various strategies for text generation and how to manipulate the hyperparameters.  They discuss the two approaches of beam search (which we have discussed in the async and live session) as well as sampling (which tries to randomly pick the next word within a k-sized distribution of highly probable choices).\n",
        "\n",
        "**Please read the blog post before you proceed.**"
      ]
    },
    {
      "cell_type": "markdown",
      "metadata": {
        "id": "MMFFnkUwRWKi"
      },
      "source": [
        "For your reference, here's a more complex, technical, and thorough [HuggingFace guide](https://huggingface.co/docs/transformers/main/en/generation_strategies) for controlling generation of text.  The blog post above is all you need to read to complete the assignment."
      ]
    },
    {
      "cell_type": "markdown",
      "metadata": {
        "id": "C89LpeBj7i4F"
      },
      "source": [
        "### 1.b ROUGE for summarization evaluation\n",
        "\n",
        "ROUGE is the metric that has been traditionally used to evaluate sumarization results.  The ROUGE metric expects a reference as input and it will evaluate a candidate against that reference.  ROUGE-1 calculates the number of words in the reference that occur in the candidate.  ROUGE-2 performs that same calculation but for bigrams in the reference. ROUGE-L calculates the longest common subsequence of reference words that occur in the candidate.\n",
        "\n",
        "HuggingFace provides a wrapper around [a library](https://huggingface.co/spaces/evaluate-metric/rouge) to calculate ROUGE metrics which you will use below.  Let's calculate the ROUGE score for the candidate you produced above."
      ]
    },
    {
      "cell_type": "code",
      "execution_count": 16,
      "metadata": {
        "colab": {
          "base_uri": "https://localhost:8080/",
          "height": 87,
          "referenced_widgets": [
            "07464c8a6dbd45699c5d33417f3dc11f",
            "cbe6ae78c289435da9cee12bef4e9c1c",
            "34ce842466f94e719b78459ef1077f32",
            "3d28460ce4e44f4486ee2a0708ad95f2",
            "1885bcbc9cad44738729c96e3deb2c34",
            "e5097bfa063742da8279961f7a6edebe",
            "20075af7206e4231817a918d6ac4039f",
            "b8c60d453c2f42268a6a21f12a8d7e6d",
            "13d982b3bf274dfe8782c754ee89758c",
            "1a56f35b66e44ac7b9f15d6d8e7fe98d",
            "3778555df90f459ba8e455411ac1c3d1"
          ]
        },
        "id": "Ae6-_06inr44",
        "outputId": "5a295aed-a90b-4326-d587-e9e3e286a857"
      },
      "outputs": [],
      "source": [
        "rouge = evaluate.load('rouge')\n",
        "predictions = candidate\n",
        "references = [SHORT_REFERENCE]\n",
        "results = rouge.compute(predictions=predictions,\n",
        "                        references=references)\n",
        "print(results)"
      ]
    },
    {
      "cell_type": "markdown",
      "metadata": {
        "id": "V8OQmtGeQCQp"
      },
      "source": [
        "Let's experiment with the hyperparameters shown above.  Please experiment in the cell below.  The `num_beams` value is like a beam search.  It indicates the number of tries the model makes before showing you its best output.  The `no_repeat_ngram_size` is designed to help reduce repetition in the output.  `min_length` and `max_length` (or now `max_new_tokens`) set boundaries on the size of the summary. You are free to use other hyperparameters as described in the [blog post](https://huggingface.co/blog/how-to-generate).\n",
        "\n",
        "*There is no one correct answer to these questions.  There are ranges that tend to work better than others.  The goal is to have you experiment to help build intuition.  Please enter the values that you think are generating the most readable output.*\n",
        "\n",
        "*Your readable output should consist of at least one complete sentence but does not have to end with a period and you must also have a ROUGE-1 score above 0.30 and ROUGE-L score equal to or above 0.25 when compared with the short reference.*\n",
        "\n",
        "You can use the two cells below to come up with your answer."
      ]
    },
    {
      "cell_type": "code",
      "execution_count": 17,
      "metadata": {
        "colab": {
          "base_uri": "https://localhost:8080/"
        },
        "id": "buSASaloC305",
        "outputId": "159ebe9c-2736-4a00-eb36-c5e7d746b75b"
      },
      "outputs": [],
      "source": [
        "# Generate Summary\n",
        "summary_ids = t5_model.generate(inputs[\"input_ids\"],\n",
        "### YOUR CODE HERE\n",
        "### END YOUR CODE\n",
        ")\n",
        "\n",
        "candidate = t5_tokenizer.batch_decode(summary_ids, skip_special_tokens=True, clean_up_tokenization_spaces=False)\n",
        "pprint(candidate[0], compact=True)"
      ]
    },
    {
      "cell_type": "code",
      "execution_count": 18,
      "metadata": {
        "colab": {
          "base_uri": "https://localhost:8080/"
        },
        "id": "ckbLXpnbQCQq",
        "outputId": "01d3ba8a-9a89-48ac-95a2-cb9839c973ca"
      },
      "outputs": [],
      "source": [
        "predictions = candidate\n",
        "references = [SHORT_REFERENCE]\n",
        "results = rouge.compute(predictions=predictions,\n",
        "                        references=references)\n",
        "print(results)"
      ]
    },
    {
      "cell_type": "markdown",
      "metadata": {
        "id": "ml2BkDi4UtvM"
      },
      "source": [
        "**QUESTION:**\n",
        "\n",
        "1.1 What num_beams value gives you the most readable output that meets the score criteria?\n",
        "\n",
        "1.2 Which no_repeat_ngram_size gives the most readable output that meets the score criteria?\n",
        "\n",
        "1.3 What min_length value gives you the most readable output that meets the score criteria?\n",
        "\n",
        "1.4 Which max_new_tokens value gives the most readable output that meets the score criteria?\n",
        "\n",
        "1.5 What is the ROUGE-L score associated with your most readable candidate?"
      ]
    },
    {
      "cell_type": "code",
      "execution_count": 19,
      "metadata": {
        "id": "RIY8uph4iyjW"
      },
      "outputs": [],
      "source": [
        "#In order to not consume all of the memory available in Colab we'll free up the memory we're using for these large language models\n",
        "del t5_model\n",
        "del t5_tokenizer"
      ]
    },
    {
      "cell_type": "markdown",
      "metadata": {
        "id": "EiloUXq4SIOB"
      },
      "source": [
        "\n",
        "## 2. Pegasus for Headline Summarization\n",
        "\n",
        "Pegasus is an encoder decoder architecture that has been explicitly pre-trained as an abstractive summarizer.  You can read more about it [here](https://huggingface.co/docs/transformers/model_doc/pegasus) and [here](https://arxiv.org/pdf/1912.08777.pdf).\n",
        "\n",
        "We'll first use the `google/pegasus-xsum` checkpoint.  It is trained on a [summarization task](https://aclanthology.org/D18-1206.pdf) that reads a news article and then [emits a one line summary](https://huggingface.co/datasets/xsum).  This doesn't mean that it is limited in its output length.  It does mean that it works well with news article type inputs and tends toward shorter outputs."
      ]
    },
    {
      "cell_type": "code",
      "execution_count": 20,
      "metadata": {
        "colab": {
          "base_uri": "https://localhost:8080/",
          "height": 329,
          "referenced_widgets": [
            "7b48de6b2a764e2ea606d8c2e7cf3d74",
            "cb2a7cc5ee9c4922b378de673e5c3800",
            "348ba553972d43fd8c6d4a5b9e0112a8",
            "1f379b8960b5494a92e449d3efe44562",
            "e99387b5c6b7498e8034e5ccfac370c4",
            "b44074d92071465c95cda9de888c4c33",
            "e0f7bb6010824505a10d1518a7a4e191",
            "a57cf6e029ef48b5b8b391d70f153328",
            "163c16d146f0461e965a1e1cf4e81660",
            "6db37cce5d4040019be311499caf9abd",
            "d3a48519e23a4478bf056f40f09debce",
            "a8733be8465744febf26443e8c1acaf6",
            "11c04819520e42d787e052be1ef191d7",
            "ac7a69b29f474326855b8ef600365a13",
            "14423ce14c8a48d2b0e4dc013813abe5",
            "fe8fe4157b74444b9b31ca0eaca07a1d",
            "489a5dc534fe485abd2559d78a09401e",
            "dca3d45c1b0c430b961c1dec7347b7a5",
            "f48b5103883a446faa718ae64f6f5dd5",
            "4195bf23a31d428c824f07e29269e24f",
            "d2bfa1a2110943a0b7e140a172673ddd",
            "71a1459730194f4089ba7b216a63d857",
            "44aeea53d83b459cacfb0a85d3d9ef57",
            "dcab71723f1d4dee96962d990212af65",
            "0d2bbcf536774fb387b2b8c1a2c6ec0e",
            "fc8c61accfc548acbc7a7df404bc7839",
            "891209d4568f4e149395e0fd5798f0b6",
            "ec3c5ecd744449b9834a1f517062ad51",
            "0e51f297ce58468cb1fe8f9817df749b",
            "c54d3cfc954f42d1ac39a1247235f05b",
            "f60f4e90d15241dabb89b29e5f377800",
            "2d0e10b3b58744698759692ff6c849d7",
            "34d7f488d9a54dc49575bc462ae9cce5",
            "77cff126907944cd97485e07354c0212",
            "298846d1286541ea8e0275c53d139b61",
            "87a164344a514489b419594dcccaf3e4",
            "2e605b286937434ab44c3dee4512047c",
            "37236e7f6c5143fb80faa9775d5e5a72",
            "4dacf9ab17b6479c84b61ae03be84043",
            "df01946a383143c5b58b411f73978df1",
            "cfa4bdd4dcec4191b1eec4425d3ebded",
            "1f675a58df674aabba1571d9901de027",
            "6662ed9fb7014e129a77b4f9f6233a35",
            "b4893ab087384afebe50da099a25f312",
            "0c8e747da0dd4af68b6955637f455f77",
            "653dc4458947400196dfc19b994eb274",
            "9492863ce21646b2b9bec957c6c90157",
            "d3443da8f36e43b4885a1d5dd284bccb",
            "d5d980baa11645f9b2ffbc1066b20943",
            "20a5389ca5ed4abaac4f473cb8f80c06",
            "4c4bc6303f644406b94d1c3eee4e5de7",
            "83cac1a6cfeb49f491fc70b36cf1535d",
            "ce406e8841d14f2d81bbead3db1eba92",
            "ada0fdda561d4de8a965b7bb8b4a9be5",
            "7b7cb9753b7246fb923ccb696ea99ef6",
            "d25db7ca6c224078ae52c9d8e2e10a0c",
            "75fd6c50bfef47ef994fb0a1aa54a3e0",
            "7829b3be253542ac8545a9fc57d736d7",
            "2f877f490262400bb7b9f1c8a360aafe",
            "fa8935c2528d4bc69fa1bf834c185443",
            "713bdf9e4a6c4975ad000dfb67d1a658",
            "5f8c289b3eff479f95a4f1038f651027",
            "39117e8a45654f6bb8fd81070f1b2ab5",
            "50b1c1ee8c53470cb1edb6543a708b98",
            "c6c32022a9184b79bf1e1ad1f583ef09",
            "3598dbe0c184475a991778595a44a91e",
            "3e97c4d93f10478ba648207960c04d55",
            "a3ffa70e8eef4ea88e76cd69b266a73a",
            "94473b118112457ea78d7d0c0fa72c8a",
            "0557557c210d43b7831b313f3e89440a",
            "f2f98304d2044ea9ad739a2fcda96913",
            "de65fac285a54ab696a27421fed059a5",
            "c5967c4c52654b08b6ae78b461c6c5f7",
            "a407ebbf428c4f1c9c35223d123c36f0",
            "887c03c423824c2e8983bff447130472",
            "5b7f5b7a950c42e0a760509f40fdbfdf",
            "9d486122d76b48e5896e07a6116c517b",
            "158c35e6324a4375ba96a4427a5729fb",
            "c0398f16dfc941d9827eac4704cee8cc",
            "d76e6733453e4248bad0ac8df4cd550a",
            "ce4223b91cbd4eb287f2a5ac19423356",
            "ce4591b9c744446aa412c6e5145d95fd",
            "6abe80311f6f47d8897eec5cd46b7162",
            "fa7ab6b322fa4191aee83af706d7fa70",
            "c5d2290d718f4eb980492773b848e4cf",
            "a3eb07453dfc4a49b1e3d052b37d3e06",
            "959fb83f29d24f3a81458717df3b22e2",
            "dfc32209c11b4d96a999ae114ab5dc00"
          ]
        },
        "id": "MCcC9eaZNb49",
        "outputId": "6e64ea8c-4df8-4bab-e235-8c049a467ffa"
      },
      "outputs": [],
      "source": [
        "# Load model directly\n",
        "from transformers import AutoTokenizer, AutoModelForSeq2SeqLM\n",
        "\n",
        "ptokenizer = AutoTokenizer.from_pretrained(\"google/pegasus-xsum\")\n",
        "pmodel = AutoModelForSeq2SeqLM.from_pretrained(\"google/pegasus-xsum\")"
      ]
    },
    {
      "cell_type": "code",
      "execution_count": 22,
      "metadata": {
        "colab": {
          "base_uri": "https://localhost:8080/"
        },
        "id": "ihtp3HlGSRZF",
        "outputId": "0e397f80-6abe-4382-b4fd-159006eaa069"
      },
      "outputs": [],
      "source": [
        "summary(pmodel)"
      ]
    },
    {
      "cell_type": "markdown",
      "metadata": {
        "id": "4ymuHNVDQCQt"
      },
      "source": [
        "Let's see what kinds of default parameters are configured in to this checkpoint."
      ]
    },
    {
      "cell_type": "code",
      "execution_count": 23,
      "metadata": {
        "colab": {
          "base_uri": "https://localhost:8080/"
        },
        "id": "bOP1XnpyLKNM",
        "outputId": "4fc96910-24bc-47f7-be32-e43b1331ac00"
      },
      "outputs": [],
      "source": [
        "config = AutoConfig.from_pretrained(\"google/pegasus-xsum\")\n",
        "\n",
        "config"
      ]
    },
    {
      "cell_type": "markdown",
      "metadata": {
        "id": "IelLGg6jQCQt"
      },
      "source": [
        "Generate the inputs using the pegasus tokenizer for this checkpoint."
      ]
    },
    {
      "cell_type": "code",
      "execution_count": 24,
      "metadata": {
        "id": "WiqSwOmD_ms_"
      },
      "outputs": [],
      "source": [
        "inputs = ptokenizer(ARTICLE_TO_SUMMARIZE, max_length=1024, truncation=True, return_tensors=\"pt\")"
      ]
    },
    {
      "cell_type": "markdown",
      "metadata": {
        "id": "FU_DtcjjQCQu"
      },
      "source": [
        "Let's get some output using just the default values and see what we're working with."
      ]
    },
    {
      "cell_type": "code",
      "execution_count": 25,
      "metadata": {
        "colab": {
          "base_uri": "https://localhost:8080/",
          "height": 53
        },
        "id": "xibRiEDW5SoG",
        "outputId": "6ced241c-c6eb-48a7-d7ba-9d3973b40dad"
      },
      "outputs": [],
      "source": [
        "# Generate Summary\n",
        "summary_ids = pmodel.generate(inputs[\"input_ids\"]\n",
        ")\n",
        "pprint(ptokenizer.batch_decode(summary_ids, skip_special_tokens=True, clean_up_tokenization_spaces=False)[0], compact=True)"
      ]
    },
    {
      "cell_type": "markdown",
      "metadata": {
        "id": "bUExOejWXQRl"
      },
      "source": [
        "Let's experiment with the same set of hyperparameters for the Pegasus system.  It is designed for abstractive summarization. Remember that the checkpoint we are using was trained on data that generates a one line summary for the input article.\n",
        "\n",
        "*Your readable output should consist of at least one complete sentence but does not have to end with a period and you must also have a ROUGE-1 score above 0.30 and ROUGE-L score equal to or above 0.25 when compared with the short reference.*\n",
        "\n",
        "You can use the two cells below to experiment with hyperparameters and generating and scoring your outputs in order to answer questions 2.1 - 2.5 in your answers file.\n",
        "\n",
        "**QUESTION:**\n",
        "\n",
        "2.1 What num_beams value gives you the most readable output that meets the score criteria?\n",
        "\n",
        "2.2 Which no_repeat_ngram_size gives the most readable output that meets the score criteria?\n",
        "\n",
        "2.3 What min_length value gives you the most readable output that meets the score criteria?\n",
        "\n",
        "2.4 Which max_new_tokens value gives the most readable output that meets the score criteria?\n",
        "\n",
        "2.5 What is the ROUGE-L score associated with your most readable candidate?"
      ]
    },
    {
      "cell_type": "code",
      "execution_count": 26,
      "metadata": {
        "colab": {
          "base_uri": "https://localhost:8080/",
          "height": 71
        },
        "id": "UzwtfRgFLYPD",
        "outputId": "0db483ee-9ebc-4866-c65a-9f56d3ff95bd"
      },
      "outputs": [],
      "source": [
        "# Generate Summary\n",
        "summary_ids = pmodel.generate(inputs[\"input_ids\"],\n",
        "### YOUR CODE HERE\n",
        "### END YOUR CODE\n",
        ")\n",
        "candidate = ptokenizer.batch_decode(summary_ids, skip_special_tokens=True, clean_up_tokenization_spaces=False)\n",
        "pprint(candidate[0], compact=True)"
      ]
    },
    {
      "cell_type": "code",
      "execution_count": 27,
      "metadata": {
        "colab": {
          "base_uri": "https://localhost:8080/"
        },
        "id": "HsZHkhZ0SzM8",
        "outputId": "aed00682-cb7e-4393-fde2-35ca3a99e0d8"
      },
      "outputs": [],
      "source": [
        "rouge = evaluate.load('rouge')\n",
        "predictions = candidate\n",
        "references = [SHORT_REFERENCE]\n",
        "results = rouge.compute(predictions=predictions,\n",
        "                        references=references)\n",
        "print(results)"
      ]
    },
    {
      "cell_type": "markdown",
      "metadata": {
        "id": "DcCCWke-ulaz"
      },
      "source": [
        "Delete that Pegasus model and tokenizer so we can load the next one."
      ]
    },
    {
      "cell_type": "code",
      "execution_count": 28,
      "metadata": {
        "id": "00Ka26vgk_FT"
      },
      "outputs": [],
      "source": [
        "del pmodel\n",
        "del ptokenizer"
      ]
    },
    {
      "cell_type": "markdown",
      "metadata": {
        "id": "6eXBMGbxtkkh"
      },
      "source": [
        "## 3. Pegasus for Longer Generation\n",
        "\n",
        "Now let's try to produce a longer summary of our article.  In order to do that we are going to use a different fine-tuned checkpoint for Pegasus.  This checkpoint is fine-tuned on the [CNN/Daily Mail](https://huggingface.co/datasets/cnn_dailymail) set of news articles.  The references are on the order of several sentences long."
      ]
    },
    {
      "cell_type": "code",
      "execution_count": 29,
      "metadata": {
        "colab": {
          "base_uri": "https://localhost:8080/",
          "height": 297,
          "referenced_widgets": [
            "b72f339172ef46ce8f98c09c66b46e5f",
            "f09326b0f4d8419488e341ea21439691",
            "1509e127c5664977b43529d5c3c1b050",
            "c0c9730aa6c8453185293c97d65cef65",
            "29e10e1f890f49989c60d7bb6256e4cd",
            "95c0dc4856cd4091a35081d80858ce25",
            "80580064ab654cb8a8318ab44351fd0d",
            "b62e1f5da0a54923841f08293201cef2",
            "6e2ab5daf5a6458190045b791008e4f4",
            "1d0fe14555824c6f9861df50c18db72a",
            "d9ffb50160e442a58d7290929e70f24b",
            "9a0d88a068e142078c2d34eeace26745",
            "879d23eee0cf4f3fa6bacfbf4bf88e70",
            "b3a1b9135fb84a1a8999519b84853187",
            "8df82df109a14a96880be7c574894d88",
            "9321eb60c8554508a2f4d65651afd624",
            "51da5855048946c0be81d1f328083b74",
            "3c77f4eb81dd4d1892b45fca9f3bd56f",
            "3f357381311b421e8811fafc2beb8b04",
            "fae7a4a0ec95424a9167ef2c5e8b24b0",
            "8f47efb91e7944d387486ab616fd4a85",
            "58f5008780cc4f3f8d2bf32cb589d7a1",
            "5ecb4df97532441082ee7cc3b62ea8cf",
            "4d4ad16d9c8f4a7a92800b23aa48ed7d",
            "af73041b57184f0aa4322e7116234bc0",
            "8d922e177aab4fe9a59fc6368b2603c5",
            "c7b6e7e8119e47c983cb6c502e0d5233",
            "bbf8f1dc88c64372956d93379b54a14a",
            "432dd1035a62488ab360750ef153fdb2",
            "9cb909c1aff74e3b8ab9f2c34da62f07",
            "a623d34e219941238f3c1e977ef41a8d",
            "f993b688e5f54a5fbc94df3e66b260de",
            "a5f0e2d2db5e4fb7bb35d636bbe9de6d",
            "690f29918ffd42708634b424412a8d30",
            "d0b790f4b9444f028c400d20ab6100d8",
            "7a6cd70ac06446e4a17657079295f86c",
            "2b11f1c4807f442eae7d960af4dcd51c",
            "fe7c7898b3ed4b90a4ea785e67942676",
            "59930dceece34b7cbd5d55ce2f362631",
            "4774d264312748b68dedb495e1709682",
            "2dbf1455eee34596ade9e700347354ef",
            "30ce57d49d39413c8068713bdab6a250",
            "f8775a8dee0a432aa24ca0eda38b3358",
            "596ad345894947efaa3b1e2c45cd02df",
            "dc3dc4fe04474e1c86f21ad32f2e3804",
            "ca80501c303142918c03748232e406b4",
            "306596dbc4b94869833206a2f2714083",
            "e49d96bbc3b640f8a107c14e56588aa5",
            "90c13b33899b4970ba8680a9355bd4a6",
            "73f66752d54040debac369cb385c2753",
            "9ae29bd68fe84678a7c9b1f062b3a2c8",
            "1055883b36074706b3cf4f7abc8dce11",
            "2727af2c10234659a3ff867314ae5670",
            "02c05db170014656bebc308a8cc3e1d3",
            "78b5fe1ce7a14a708540738d7f546d2f",
            "b2a18c9af9e343b8bb256a4f7d5f705b",
            "091066d5190a4712a35ee20e7c9cbb89",
            "873086e708c1405b92048edce85536e9",
            "41764795b21149c2af4b47b72bf24d28",
            "b229fde9f37947a4bdf205d83001933b",
            "35cbfe19ade44d159c3ab098369a11c3",
            "f818ef99a94340b69559cc8c856bc05a",
            "5a0f2e3f0a88436cb124e7bf84da033f",
            "3ffa970e51794b33ab783632f1360ae9",
            "889b920981be42d880fb906a27bda39b",
            "b1c0496312f74a7d95ea985e7f3f5e86",
            "cf52ec6269e24e54911e374508529a99",
            "ec493830b5f840869689a9e449fbe6f1",
            "49a9b6a99c764cd5ad7921e6b3e55f06",
            "4667cf97a394418ea311d644ebe0044f",
            "50d74c69117d4826ab985b6966104a1f",
            "b5d2b8ce4e174382b1a07380c3be3501",
            "be185352e712403fb02411451d5981bc",
            "1e9a1277d68e44f1b4677f19ca78ef44",
            "df38348e36584d9391a8abb429ae877b",
            "35863953b61c427989ad815a8da86ac1",
            "27fdcac32cd04d06ba5fbb691c9f03a8"
          ]
        },
        "id": "p0Ccl0KcRWGU",
        "outputId": "73789d49-dec7-4733-e9c4-f96f23136e14"
      },
      "outputs": [],
      "source": [
        "# Load model directly\n",
        "from transformers import AutoTokenizer, AutoModelForSeq2SeqLM\n",
        "\n",
        "cnntokenizer = AutoTokenizer.from_pretrained(\"google/pegasus-cnn_dailymail\")\n",
        "cnnmodel = AutoModelForSeq2SeqLM.from_pretrained(\"google/pegasus-cnn_dailymail\")"
      ]
    },
    {
      "cell_type": "markdown",
      "metadata": {
        "id": "jNeNhSWSQCQx"
      },
      "source": [
        "Let's see how this checkpoint is configured by default:"
      ]
    },
    {
      "cell_type": "code",
      "execution_count": 30,
      "metadata": {
        "colab": {
          "base_uri": "https://localhost:8080/"
        },
        "id": "9EOe_hLKLaOR",
        "outputId": "77bf1ee0-de3a-4882-8088-dd1b865089f6"
      },
      "outputs": [],
      "source": [
        "config = AutoConfig.from_pretrained(\"google/pegasus-cnn_dailymail\")\n",
        "\n",
        "config"
      ]
    },
    {
      "cell_type": "markdown",
      "metadata": {
        "id": "FcedEgr2QCQx"
      },
      "source": [
        "Let's tokenize our input for this checkpoint."
      ]
    },
    {
      "cell_type": "code",
      "execution_count": 32,
      "metadata": {
        "id": "FWl1UypibvkS"
      },
      "outputs": [],
      "source": [
        "cnninputs = cnntokenizer(ARTICLE_TO_SUMMARIZE, max_length=1024, truncation=True, return_tensors=\"pt\")"
      ]
    },
    {
      "cell_type": "markdown",
      "metadata": {
        "id": "7HxZ7jOSQCQy"
      },
      "source": [
        "Run the summarizer with the defaults and let's see what it looks like."
      ]
    },
    {
      "cell_type": "code",
      "execution_count": 33,
      "metadata": {
        "colab": {
          "base_uri": "https://localhost:8080/"
        },
        "id": "wx0og8kI3tOE",
        "outputId": "eb833a33-70bc-4413-9c49-ea7371898e22"
      },
      "outputs": [],
      "source": [
        "# Generate Summary\n",
        "summary_ids = cnnmodel.generate(inputs[\"input_ids\"]\n",
        ")\n",
        "\n",
        "pprint(cnntokenizer.batch_decode(summary_ids, skip_special_tokens=True, clean_up_tokenization_spaces=False)[0], compact=True)"
      ]
    },
    {
      "cell_type": "markdown",
      "metadata": {
        "id": "eY8StZx9R1Kx"
      },
      "source": [
        "Let's again experiment with the same set of hyperparameters (but possibly with different values) for the Pegasus system.  It is designed for abstractive summarization and this checkpoint is based on multi-line outputs.  We'll evaluate it against the long reference record.\n",
        "\n",
        "*Your readable multi-line output must have a ROUGE-1 score above 0.25 and a ROUGE-L score above 0.15.*\n",
        "\n",
        "You can use the two cells below to experiment with hyperparameters and generating and scoring your outputs in order to answer questions 3.1 - 3.5 in your answers file.\n",
        "\n",
        "**QUESTION:**\n",
        "\n",
        "3.1 What num_beams value gives you the most readable output that meets the score criteria?\n",
        "\n",
        "3.2 Which no_repeat_ngram_size gives the most readable output that meets the score criteria?\n",
        "\n",
        "3.3 What min_length value gives you the most readable output that meets the score criteria?\n",
        "\n",
        "3.4 Which max_new_tokens value gives you the most readable output that meets the score criteria?\n",
        "\n",
        "3.5 What is the ROUGE-L score associated with your most readable candidate?"
      ]
    },
    {
      "cell_type": "code",
      "execution_count": 34,
      "metadata": {
        "colab": {
          "base_uri": "https://localhost:8080/"
        },
        "id": "UZ3IeglUcpu8",
        "outputId": "9c953680-ee77-473d-fcd7-7dc944edb2a9"
      },
      "outputs": [],
      "source": [
        "# Generate Summary\n",
        "summary_ids = cnnmodel.generate(cnninputs[\"input_ids\"],\n",
        "### YOUR CODE HERE\n",
        "### END YOUR CODE\n",
        "                             )\n",
        "candidate = cnntokenizer.batch_decode(summary_ids, skip_special_tokens=True, clean_up_tokenization_spaces=False)\n",
        "pprint(candidate[0], compact=True)"
      ]
    },
    {
      "cell_type": "code",
      "execution_count": 35,
      "metadata": {
        "colab": {
          "base_uri": "https://localhost:8080/"
        },
        "id": "wtrDFoIKbvG1",
        "outputId": "1d445332-730b-4015-8e0d-811e74e561ac"
      },
      "outputs": [],
      "source": [
        "rouge = evaluate.load('rouge')\n",
        "predictions = candidate\n",
        "references = [LONG_REFERENCE]\n",
        "results = rouge.compute(predictions=predictions,\n",
        "                        references=references)\n",
        "print(results)"
      ]
    },
    {
      "cell_type": "markdown",
      "metadata": {
        "id": "G_8izqsFbQU0"
      },
      "source": [
        "Okay, you're done.\n",
        "\n",
        "Which model do you think produced the best summaries keeping in mind that best is in the eye of the reader?"
      ]
    }
  ],
  "metadata": {
    "colab": {
      "provenance": []
    },
    "kernelspec": {
      "display_name": "Python 3 (ipykernel)",
      "language": "python",
      "name": "python3"
    },
    "language_info": {
      "codemirror_mode": {
        "name": "ipython",
        "version": 3
      },
      "file_extension": ".py",
      "mimetype": "text/x-python",
      "name": "python",
      "nbconvert_exporter": "python",
      "pygments_lexer": "ipython3",
      "version": "3.11.5"
    },
    "widgets": {
      "application/vnd.jupyter.widget-state+json": {
        "state": {},
        "version_major": 2,
        "version_minor": 0
      }
    }
  },
  "nbformat": 4,
  "nbformat_minor": 4
}
